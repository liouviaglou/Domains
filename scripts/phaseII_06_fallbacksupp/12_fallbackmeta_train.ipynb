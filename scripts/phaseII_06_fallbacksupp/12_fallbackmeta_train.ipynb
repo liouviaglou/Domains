{
 "cells": [
  {
   "cell_type": "markdown",
   "metadata": {},
   "source": [
    "# Fallback Table Metalearning Training\n"
   ]
  },
  {
   "cell_type": "code",
   "execution_count": 24,
   "metadata": {},
   "outputs": [],
   "source": [
    "options(repr.matrix.max.cols=50, repr.matrix.max.rows=100)"
   ]
  },
  {
   "cell_type": "code",
   "execution_count": 25,
   "metadata": {},
   "outputs": [],
   "source": [
    "# install.packages(\"pkgcond\")"
   ]
  },
  {
   "cell_type": "code",
   "execution_count": 26,
   "metadata": {},
   "outputs": [
    {
     "data": {
      "text/html": [
       "'/home/jupyter/Domains_202003/scripts/phaseII_06_fallbacksupp'"
      ],
      "text/latex": [
       "'/home/jupyter/Domains\\_202003/scripts/phaseII\\_06\\_fallbacksupp'"
      ],
      "text/markdown": [
       "'/home/jupyter/Domains_202003/scripts/phaseII_06_fallbacksupp'"
      ],
      "text/plain": [
       "[1] \"/home/jupyter/Domains_202003/scripts/phaseII_06_fallbacksupp\""
      ]
     },
     "metadata": {},
     "output_type": "display_data"
    }
   ],
   "source": [
    "library(dplyr)\n",
    "library(data.table)\n",
    "library(partykit)\n",
    "library(tictoc)\n",
    "library(caret)\n",
    "library(e1071)\n",
    "library(randomForest)\n",
    "library(ranger)\n",
    "\n",
    "#for 3d plotting\n",
    "library(akima)\n",
    "library(plotly)\n",
    "\n",
    "# for prep data\n",
    "library(stringr)\n",
    "library(pbapply)\n",
    "library(stringdist)\n",
    "library(data.table)\n",
    "library(dominanceanalysis)\n",
    "\n",
    "\n",
    "getwd()"
   ]
  },
  {
   "cell_type": "code",
   "execution_count": 27,
   "metadata": {},
   "outputs": [],
   "source": [
    "\n",
    "source('../orig/functions.R')\n",
    "\n",
    "source('../orig/functions_models.R')\n",
    "\n",
    "source('../phaseII_03_forest/functions_eval.R')\n"
   ]
  },
  {
   "cell_type": "code",
   "execution_count": 28,
   "metadata": {},
   "outputs": [],
   "source": [
    "source('functions_metalearning.R')"
   ]
  },
  {
   "cell_type": "code",
   "execution_count": 29,
   "metadata": {},
   "outputs": [],
   "source": [
    "source('functions_fallback.R')"
   ]
  },
  {
   "cell_type": "code",
   "execution_count": 30,
   "metadata": {},
   "outputs": [],
   "source": [
    "# source('load_prep_data_expiry_2.R') #read in train test and predictions manually instead\n",
    "\n",
    "# READ CSV's\n",
    "# expiry_df_test_preds <- read.csv(\"../../data/output/datapull_20201116/expiry_df_test_preds.csv\")\n",
    "# expiry_df_train <- read.csv(\"../../data/output/datapull_20201116/expiry_df_train.csv\")\n",
    "# expiry_df_test <- read.csv(\"../../data/output/datapull_20201116/expiry_df_test.csv\")\n",
    "metametrics_df <- read.csv(\"../../data/output/datapull_20201116/expiry_metametrics_df.csv\")\n",
    "# expiry_df\n",
    "# expiry_train_df \n",
    "# expiry_test_df \n",
    "# expiry_list\n",
    "# expiry_train_list\n",
    "# expiry_test_list"
   ]
  },
  {
   "cell_type": "markdown",
   "metadata": {},
   "source": [
    "# Metalearning w/ Fallback -- BINARY\n",
    "## seg2_glm_fb vs agg_rf_ALL"
   ]
  },
  {
   "cell_type": "code",
   "execution_count": 31,
   "metadata": {},
   "outputs": [
    {
     "data": {
      "text/html": [
       "<style>\n",
       ".list-inline {list-style: none; margin:0; padding: 0}\n",
       ".list-inline>li {display: inline-block}\n",
       ".list-inline>li:not(:last-child)::after {content: \"\\00b7\"; padding: 0 .5ex}\n",
       "</style>\n",
       "<ol class=list-inline><li>'tld_registrar_index'</li><li>'geo_maj'</li><li>'geo_cnt'</li><li>'n'</li><li>'ren_prp'</li><li>'tld_cnt'</li><li>'tld_rat'</li><li>'daydom_min'</li><li>'daydom_max'</li><li>'daydom_mean'</li><li>'daydom_rng'</li><li>'daydom_std'</li><li>'daydom_skew'</li><li>'daydom_kurt'</li><li>'sldlen_min'</li><li>'sldlen_max'</li><li>'sldlen_mean'</li><li>'sldlen_rng'</li><li>'sldlen_std'</li><li>'sldlen_skew'</li><li>'sldlen_kurt'</li><li>'gibbs_min'</li><li>'gibbs_max'</li><li>'gibbs_mean'</li><li>'gibbs_rng'</li><li>'gibbs_std'</li><li>'gibbs_skew'</li><li>'gibbs_kurt'</li><li>'pdcnt_min'</li><li>'pdcnt_max'</li><li>'pdcnt_mean'</li><li>'pdcnt_rng'</li><li>'pdcnt_std'</li><li>'pdcnt_skew'</li><li>'pdcnt_kurt'</li><li>'regarpt_min'</li><li>'regarpt_max'</li><li>'regarpt_mean'</li><li>'regarpt_rng'</li><li>'regarpt_std'</li><li>'regarpt_skew'</li><li>'regarpt_kurt'</li><li>'country_maj'</li><li>'region_maj'</li><li>'country_cnt'</li><li>'region_cnt'</li><li>'l10_seg2_glm'</li><li>'l10_seg_glm'</li><li>'l10_agg_glm_ALL'</li><li>'l10_agg_glm'</li><li>'l10_seg2_rf'</li><li>'l10_seg_rf'</li><li>'l10_agg_rf'</li><li>'l10_agg_rf_ALL'</li><li>'auc_seg2_glm'</li><li>'auc_seg_glm'</li><li>'auc_agg_glm_ALL'</li><li>'auc_agg_glm'</li><li>'auc_seg2_rf'</li><li>'auc_seg_rf'</li><li>'auc_agg_rf_ALL'</li><li>'auc_agg_rf'</li><li>'l10_seg2_glm_fb'</li><li>'l10_seg_glm_fb'</li><li>'l10_agg_glm_fb'</li><li>'l10_agg_glm_ALL_fb'</li><li>'l10_seg2_rf_fb'</li><li>'l10_seg_rf_fb'</li><li>'l10_agg_rf_fb'</li><li>'l10_agg_rf_ALL_fb'</li><li>'auc_seg2_glm_fb'</li><li>'auc_seg_glm_fb'</li><li>'auc_agg_glm_fb'</li><li>'auc_agg_glm_ALL_fb'</li><li>'auc_seg2_rf_fb'</li><li>'auc_seg_rf_fb'</li><li>'auc_agg_rf_fb'</li><li>'auc_agg_rf_ALL_fb'</li></ol>\n"
      ],
      "text/latex": [
       "\\begin{enumerate*}\n",
       "\\item 'tld\\_registrar\\_index'\n",
       "\\item 'geo\\_maj'\n",
       "\\item 'geo\\_cnt'\n",
       "\\item 'n'\n",
       "\\item 'ren\\_prp'\n",
       "\\item 'tld\\_cnt'\n",
       "\\item 'tld\\_rat'\n",
       "\\item 'daydom\\_min'\n",
       "\\item 'daydom\\_max'\n",
       "\\item 'daydom\\_mean'\n",
       "\\item 'daydom\\_rng'\n",
       "\\item 'daydom\\_std'\n",
       "\\item 'daydom\\_skew'\n",
       "\\item 'daydom\\_kurt'\n",
       "\\item 'sldlen\\_min'\n",
       "\\item 'sldlen\\_max'\n",
       "\\item 'sldlen\\_mean'\n",
       "\\item 'sldlen\\_rng'\n",
       "\\item 'sldlen\\_std'\n",
       "\\item 'sldlen\\_skew'\n",
       "\\item 'sldlen\\_kurt'\n",
       "\\item 'gibbs\\_min'\n",
       "\\item 'gibbs\\_max'\n",
       "\\item 'gibbs\\_mean'\n",
       "\\item 'gibbs\\_rng'\n",
       "\\item 'gibbs\\_std'\n",
       "\\item 'gibbs\\_skew'\n",
       "\\item 'gibbs\\_kurt'\n",
       "\\item 'pdcnt\\_min'\n",
       "\\item 'pdcnt\\_max'\n",
       "\\item 'pdcnt\\_mean'\n",
       "\\item 'pdcnt\\_rng'\n",
       "\\item 'pdcnt\\_std'\n",
       "\\item 'pdcnt\\_skew'\n",
       "\\item 'pdcnt\\_kurt'\n",
       "\\item 'regarpt\\_min'\n",
       "\\item 'regarpt\\_max'\n",
       "\\item 'regarpt\\_mean'\n",
       "\\item 'regarpt\\_rng'\n",
       "\\item 'regarpt\\_std'\n",
       "\\item 'regarpt\\_skew'\n",
       "\\item 'regarpt\\_kurt'\n",
       "\\item 'country\\_maj'\n",
       "\\item 'region\\_maj'\n",
       "\\item 'country\\_cnt'\n",
       "\\item 'region\\_cnt'\n",
       "\\item 'l10\\_seg2\\_glm'\n",
       "\\item 'l10\\_seg\\_glm'\n",
       "\\item 'l10\\_agg\\_glm\\_ALL'\n",
       "\\item 'l10\\_agg\\_glm'\n",
       "\\item 'l10\\_seg2\\_rf'\n",
       "\\item 'l10\\_seg\\_rf'\n",
       "\\item 'l10\\_agg\\_rf'\n",
       "\\item 'l10\\_agg\\_rf\\_ALL'\n",
       "\\item 'auc\\_seg2\\_glm'\n",
       "\\item 'auc\\_seg\\_glm'\n",
       "\\item 'auc\\_agg\\_glm\\_ALL'\n",
       "\\item 'auc\\_agg\\_glm'\n",
       "\\item 'auc\\_seg2\\_rf'\n",
       "\\item 'auc\\_seg\\_rf'\n",
       "\\item 'auc\\_agg\\_rf\\_ALL'\n",
       "\\item 'auc\\_agg\\_rf'\n",
       "\\item 'l10\\_seg2\\_glm\\_fb'\n",
       "\\item 'l10\\_seg\\_glm\\_fb'\n",
       "\\item 'l10\\_agg\\_glm\\_fb'\n",
       "\\item 'l10\\_agg\\_glm\\_ALL\\_fb'\n",
       "\\item 'l10\\_seg2\\_rf\\_fb'\n",
       "\\item 'l10\\_seg\\_rf\\_fb'\n",
       "\\item 'l10\\_agg\\_rf\\_fb'\n",
       "\\item 'l10\\_agg\\_rf\\_ALL\\_fb'\n",
       "\\item 'auc\\_seg2\\_glm\\_fb'\n",
       "\\item 'auc\\_seg\\_glm\\_fb'\n",
       "\\item 'auc\\_agg\\_glm\\_fb'\n",
       "\\item 'auc\\_agg\\_glm\\_ALL\\_fb'\n",
       "\\item 'auc\\_seg2\\_rf\\_fb'\n",
       "\\item 'auc\\_seg\\_rf\\_fb'\n",
       "\\item 'auc\\_agg\\_rf\\_fb'\n",
       "\\item 'auc\\_agg\\_rf\\_ALL\\_fb'\n",
       "\\end{enumerate*}\n"
      ],
      "text/markdown": [
       "1. 'tld_registrar_index'\n",
       "2. 'geo_maj'\n",
       "3. 'geo_cnt'\n",
       "4. 'n'\n",
       "5. 'ren_prp'\n",
       "6. 'tld_cnt'\n",
       "7. 'tld_rat'\n",
       "8. 'daydom_min'\n",
       "9. 'daydom_max'\n",
       "10. 'daydom_mean'\n",
       "11. 'daydom_rng'\n",
       "12. 'daydom_std'\n",
       "13. 'daydom_skew'\n",
       "14. 'daydom_kurt'\n",
       "15. 'sldlen_min'\n",
       "16. 'sldlen_max'\n",
       "17. 'sldlen_mean'\n",
       "18. 'sldlen_rng'\n",
       "19. 'sldlen_std'\n",
       "20. 'sldlen_skew'\n",
       "21. 'sldlen_kurt'\n",
       "22. 'gibbs_min'\n",
       "23. 'gibbs_max'\n",
       "24. 'gibbs_mean'\n",
       "25. 'gibbs_rng'\n",
       "26. 'gibbs_std'\n",
       "27. 'gibbs_skew'\n",
       "28. 'gibbs_kurt'\n",
       "29. 'pdcnt_min'\n",
       "30. 'pdcnt_max'\n",
       "31. 'pdcnt_mean'\n",
       "32. 'pdcnt_rng'\n",
       "33. 'pdcnt_std'\n",
       "34. 'pdcnt_skew'\n",
       "35. 'pdcnt_kurt'\n",
       "36. 'regarpt_min'\n",
       "37. 'regarpt_max'\n",
       "38. 'regarpt_mean'\n",
       "39. 'regarpt_rng'\n",
       "40. 'regarpt_std'\n",
       "41. 'regarpt_skew'\n",
       "42. 'regarpt_kurt'\n",
       "43. 'country_maj'\n",
       "44. 'region_maj'\n",
       "45. 'country_cnt'\n",
       "46. 'region_cnt'\n",
       "47. 'l10_seg2_glm'\n",
       "48. 'l10_seg_glm'\n",
       "49. 'l10_agg_glm_ALL'\n",
       "50. 'l10_agg_glm'\n",
       "51. 'l10_seg2_rf'\n",
       "52. 'l10_seg_rf'\n",
       "53. 'l10_agg_rf'\n",
       "54. 'l10_agg_rf_ALL'\n",
       "55. 'auc_seg2_glm'\n",
       "56. 'auc_seg_glm'\n",
       "57. 'auc_agg_glm_ALL'\n",
       "58. 'auc_agg_glm'\n",
       "59. 'auc_seg2_rf'\n",
       "60. 'auc_seg_rf'\n",
       "61. 'auc_agg_rf_ALL'\n",
       "62. 'auc_agg_rf'\n",
       "63. 'l10_seg2_glm_fb'\n",
       "64. 'l10_seg_glm_fb'\n",
       "65. 'l10_agg_glm_fb'\n",
       "66. 'l10_agg_glm_ALL_fb'\n",
       "67. 'l10_seg2_rf_fb'\n",
       "68. 'l10_seg_rf_fb'\n",
       "69. 'l10_agg_rf_fb'\n",
       "70. 'l10_agg_rf_ALL_fb'\n",
       "71. 'auc_seg2_glm_fb'\n",
       "72. 'auc_seg_glm_fb'\n",
       "73. 'auc_agg_glm_fb'\n",
       "74. 'auc_agg_glm_ALL_fb'\n",
       "75. 'auc_seg2_rf_fb'\n",
       "76. 'auc_seg_rf_fb'\n",
       "77. 'auc_agg_rf_fb'\n",
       "78. 'auc_agg_rf_ALL_fb'\n",
       "\n",
       "\n"
      ],
      "text/plain": [
       " [1] \"tld_registrar_index\" \"geo_maj\"             \"geo_cnt\"            \n",
       " [4] \"n\"                   \"ren_prp\"             \"tld_cnt\"            \n",
       " [7] \"tld_rat\"             \"daydom_min\"          \"daydom_max\"         \n",
       "[10] \"daydom_mean\"         \"daydom_rng\"          \"daydom_std\"         \n",
       "[13] \"daydom_skew\"         \"daydom_kurt\"         \"sldlen_min\"         \n",
       "[16] \"sldlen_max\"          \"sldlen_mean\"         \"sldlen_rng\"         \n",
       "[19] \"sldlen_std\"          \"sldlen_skew\"         \"sldlen_kurt\"        \n",
       "[22] \"gibbs_min\"           \"gibbs_max\"           \"gibbs_mean\"         \n",
       "[25] \"gibbs_rng\"           \"gibbs_std\"           \"gibbs_skew\"         \n",
       "[28] \"gibbs_kurt\"          \"pdcnt_min\"           \"pdcnt_max\"          \n",
       "[31] \"pdcnt_mean\"          \"pdcnt_rng\"           \"pdcnt_std\"          \n",
       "[34] \"pdcnt_skew\"          \"pdcnt_kurt\"          \"regarpt_min\"        \n",
       "[37] \"regarpt_max\"         \"regarpt_mean\"        \"regarpt_rng\"        \n",
       "[40] \"regarpt_std\"         \"regarpt_skew\"        \"regarpt_kurt\"       \n",
       "[43] \"country_maj\"         \"region_maj\"          \"country_cnt\"        \n",
       "[46] \"region_cnt\"          \"l10_seg2_glm\"        \"l10_seg_glm\"        \n",
       "[49] \"l10_agg_glm_ALL\"     \"l10_agg_glm\"         \"l10_seg2_rf\"        \n",
       "[52] \"l10_seg_rf\"          \"l10_agg_rf\"          \"l10_agg_rf_ALL\"     \n",
       "[55] \"auc_seg2_glm\"        \"auc_seg_glm\"         \"auc_agg_glm_ALL\"    \n",
       "[58] \"auc_agg_glm\"         \"auc_seg2_rf\"         \"auc_seg_rf\"         \n",
       "[61] \"auc_agg_rf_ALL\"      \"auc_agg_rf\"          \"l10_seg2_glm_fb\"    \n",
       "[64] \"l10_seg_glm_fb\"      \"l10_agg_glm_fb\"      \"l10_agg_glm_ALL_fb\" \n",
       "[67] \"l10_seg2_rf_fb\"      \"l10_seg_rf_fb\"       \"l10_agg_rf_fb\"      \n",
       "[70] \"l10_agg_rf_ALL_fb\"   \"auc_seg2_glm_fb\"     \"auc_seg_glm_fb\"     \n",
       "[73] \"auc_agg_glm_fb\"      \"auc_agg_glm_ALL_fb\"  \"auc_seg2_rf_fb\"     \n",
       "[76] \"auc_seg_rf_fb\"       \"auc_agg_rf_fb\"       \"auc_agg_rf_ALL_fb\"  "
      ]
     },
     "metadata": {},
     "output_type": "display_data"
    }
   ],
   "source": [
    "names(metametrics_df)"
   ]
  },
  {
   "cell_type": "code",
   "execution_count": 32,
   "metadata": {},
   "outputs": [
    {
     "data": {
      "text/html": [
       "<style>\n",
       ".list-inline {list-style: none; margin:0; padding: 0}\n",
       ".list-inline>li {display: inline-block}\n",
       ".list-inline>li:not(:last-child)::after {content: \"\\00b7\"; padding: 0 .5ex}\n",
       "</style>\n",
       "<ol class=list-inline><li>'l10_agg_rf'</li><li>'l10_agg_rf_ALL'</li><li>'l10_agg_rf_fb'</li><li>'l10_agg_rf_ALL_fb'</li></ol>\n"
      ],
      "text/latex": [
       "\\begin{enumerate*}\n",
       "\\item 'l10\\_agg\\_rf'\n",
       "\\item 'l10\\_agg\\_rf\\_ALL'\n",
       "\\item 'l10\\_agg\\_rf\\_fb'\n",
       "\\item 'l10\\_agg\\_rf\\_ALL\\_fb'\n",
       "\\end{enumerate*}\n"
      ],
      "text/markdown": [
       "1. 'l10_agg_rf'\n",
       "2. 'l10_agg_rf_ALL'\n",
       "3. 'l10_agg_rf_fb'\n",
       "4. 'l10_agg_rf_ALL_fb'\n",
       "\n",
       "\n"
      ],
      "text/plain": [
       "[1] \"l10_agg_rf\"        \"l10_agg_rf_ALL\"    \"l10_agg_rf_fb\"    \n",
       "[4] \"l10_agg_rf_ALL_fb\""
      ]
     },
     "metadata": {},
     "output_type": "display_data"
    }
   ],
   "source": [
    "metametrics_df %>% select(contains('l10_agg_rf')) %>% names()"
   ]
  },
  {
   "cell_type": "code",
   "execution_count": 33,
   "metadata": {},
   "outputs": [
    {
     "data": {
      "text/html": [
       "<style>\n",
       ".list-inline {list-style: none; margin:0; padding: 0}\n",
       ".list-inline>li {display: inline-block}\n",
       ".list-inline>li:not(:last-child)::after {content: \"\\00b7\"; padding: 0 .5ex}\n",
       "</style>\n",
       "<ol class=list-inline><li>TRUE</li><li>TRUE</li></ol>\n"
      ],
      "text/latex": [
       "\\begin{enumerate*}\n",
       "\\item TRUE\n",
       "\\item TRUE\n",
       "\\end{enumerate*}\n"
      ],
      "text/markdown": [
       "1. TRUE\n",
       "2. TRUE\n",
       "\n",
       "\n"
      ],
      "text/plain": [
       "[1] TRUE TRUE"
      ]
     },
     "metadata": {},
     "output_type": "display_data"
    },
    {
     "data": {
      "text/html": [
       "<style>\n",
       ".list-inline {list-style: none; margin:0; padding: 0}\n",
       ".list-inline>li {display: inline-block}\n",
       ".list-inline>li:not(:last-child)::after {content: \"\\00b7\"; padding: 0 .5ex}\n",
       "</style>\n",
       "<ol class=list-inline><li>TRUE</li><li>TRUE</li></ol>\n"
      ],
      "text/latex": [
       "\\begin{enumerate*}\n",
       "\\item TRUE\n",
       "\\item TRUE\n",
       "\\end{enumerate*}\n"
      ],
      "text/markdown": [
       "1. TRUE\n",
       "2. TRUE\n",
       "\n",
       "\n"
      ],
      "text/plain": [
       "[1] TRUE TRUE"
      ]
     },
     "metadata": {},
     "output_type": "display_data"
    },
    {
     "data": {
      "text/html": [
       "<table>\n",
       "<caption>A data.frame: 6 × 80</caption>\n",
       "<thead>\n",
       "\t<tr><th></th><th scope=col>tld_registrar_index</th><th scope=col>geo_maj</th><th scope=col>geo_cnt</th><th scope=col>n</th><th scope=col>ren_prp</th><th scope=col>tld_cnt</th><th scope=col>tld_rat</th><th scope=col>daydom_min</th><th scope=col>daydom_max</th><th scope=col>daydom_mean</th><th scope=col>daydom_rng</th><th scope=col>daydom_std</th><th scope=col>daydom_skew</th><th scope=col>daydom_kurt</th><th scope=col>sldlen_min</th><th scope=col>sldlen_max</th><th scope=col>sldlen_mean</th><th scope=col>sldlen_rng</th><th scope=col>sldlen_std</th><th scope=col>sldlen_skew</th><th scope=col>sldlen_kurt</th><th scope=col>gibbs_min</th><th scope=col>gibbs_max</th><th scope=col>gibbs_mean</th><th scope=col>gibbs_rng</th><th scope=col>⋯</th><th scope=col>auc_seg_glm</th><th scope=col>auc_agg_glm_ALL</th><th scope=col>auc_agg_glm</th><th scope=col>auc_seg2_rf</th><th scope=col>auc_seg_rf</th><th scope=col>auc_agg_rf_ALL</th><th scope=col>auc_agg_rf</th><th scope=col>l10_seg2_glm_fb</th><th scope=col>l10_seg_glm_fb</th><th scope=col>l10_agg_glm_fb</th><th scope=col>l10_agg_glm_ALL_fb</th><th scope=col>l10_seg2_rf_fb</th><th scope=col>l10_seg_rf_fb</th><th scope=col>l10_agg_rf_fb</th><th scope=col>l10_agg_rf_ALL_fb</th><th scope=col>auc_seg2_glm_fb</th><th scope=col>auc_seg_glm_fb</th><th scope=col>auc_agg_glm_fb</th><th scope=col>auc_agg_glm_ALL_fb</th><th scope=col>auc_seg2_rf_fb</th><th scope=col>auc_seg_rf_fb</th><th scope=col>auc_agg_rf_fb</th><th scope=col>auc_agg_rf_ALL_fb</th><th scope=col>auc_win_01</th><th scope=col>l10_win_01</th></tr>\n",
       "\t<tr><th></th><th scope=col>&lt;fct&gt;</th><th scope=col>&lt;fct&gt;</th><th scope=col>&lt;int&gt;</th><th scope=col>&lt;int&gt;</th><th scope=col>&lt;dbl&gt;</th><th scope=col>&lt;int&gt;</th><th scope=col>&lt;dbl&gt;</th><th scope=col>&lt;int&gt;</th><th scope=col>&lt;int&gt;</th><th scope=col>&lt;dbl&gt;</th><th scope=col>&lt;int&gt;</th><th scope=col>&lt;dbl&gt;</th><th scope=col>&lt;dbl&gt;</th><th scope=col>&lt;dbl&gt;</th><th scope=col>&lt;int&gt;</th><th scope=col>&lt;int&gt;</th><th scope=col>&lt;dbl&gt;</th><th scope=col>&lt;int&gt;</th><th scope=col>&lt;dbl&gt;</th><th scope=col>&lt;dbl&gt;</th><th scope=col>&lt;dbl&gt;</th><th scope=col>&lt;dbl&gt;</th><th scope=col>&lt;dbl&gt;</th><th scope=col>&lt;dbl&gt;</th><th scope=col>&lt;dbl&gt;</th><th scope=col>⋯</th><th scope=col>&lt;dbl&gt;</th><th scope=col>&lt;dbl&gt;</th><th scope=col>&lt;dbl&gt;</th><th scope=col>&lt;dbl&gt;</th><th scope=col>&lt;dbl&gt;</th><th scope=col>&lt;dbl&gt;</th><th scope=col>&lt;dbl&gt;</th><th scope=col>&lt;dbl&gt;</th><th scope=col>&lt;dbl&gt;</th><th scope=col>&lt;dbl&gt;</th><th scope=col>&lt;dbl&gt;</th><th scope=col>&lt;dbl&gt;</th><th scope=col>&lt;dbl&gt;</th><th scope=col>&lt;dbl&gt;</th><th scope=col>&lt;dbl&gt;</th><th scope=col>&lt;dbl&gt;</th><th scope=col>&lt;dbl&gt;</th><th scope=col>&lt;dbl&gt;</th><th scope=col>&lt;dbl&gt;</th><th scope=col>&lt;dbl&gt;</th><th scope=col>&lt;dbl&gt;</th><th scope=col>&lt;dbl&gt;</th><th scope=col>&lt;dbl&gt;</th><th scope=col>&lt;chr&gt;</th><th scope=col>&lt;chr&gt;</th></tr>\n",
       "</thead>\n",
       "<tbody>\n",
       "\t<tr><th scope=row>1</th><td><span style=white-space:pre-wrap>fun1&amp;1 internet    </span></td><td><span style=white-space:pre-wrap>EU   </span></td><td>1</td><td><span style=white-space:pre-wrap>   11</span></td><td>0.54545455</td><td>1</td><td>9.090909e-02</td><td> 1</td><td><span style=white-space:pre-wrap>   5</span></td><td><span style=white-space:pre-wrap>   2.181818</span></td><td><span style=white-space:pre-wrap>   4</span></td><td><span style=white-space:pre-wrap>   1.537412</span></td><td> 0.9266651</td><td>-0.7811140</td><td>4</td><td>14</td><td>7.636364</td><td>10</td><td>2.907670</td><td>0.7720046</td><td>-0.3922768</td><td>1.71</td><td><span style=white-space:pre-wrap>  9.01</span></td><td>4.655455</td><td><span style=white-space:pre-wrap>  7.30</span></td><td>⋯</td><td>0.4500000</td><td>0.4500000</td><td>0.4500000</td><td>0.5333333</td><td>0.5333333</td><td>0.5500000</td><td>0.6166667</td><td>1.666667</td><td>1.666667</td><td>1.666667</td><td>1.666667</td><td>1.666667</td><td>1.666667</td><td>1.666667</td><td>1.666667</td><td>0.6500000</td><td>0.6500000</td><td>0.6500000</td><td>0.6500000</td><td>0.6500000</td><td>0.6500000</td><td>0.6500000</td><td>0.6500000</td><td>auc_seg2_glm_fb</td><td>l10_seg2_glm_fb</td></tr>\n",
       "\t<tr><th scope=row>2</th><td>fun10dencehispahard</td><td>EU   </td><td>1</td><td>    2</td><td>0.00000000</td><td>1</td><td>5.000000e-01</td><td> 1</td><td>   1</td><td>   1.000000</td><td>   0</td><td>   0.000000</td><td>        NA</td><td>        NA</td><td>5</td><td> 8</td><td>6.500000</td><td> 3</td><td>2.121320</td><td>0.0000000</td><td>-2.7500000</td><td>3.28</td><td>  8.62</td><td>5.950000</td><td>  5.34</td><td>⋯</td><td>       NA</td><td>       NA</td><td>       NA</td><td>       NA</td><td>       NA</td><td>       NA</td><td>       NA</td><td>      NA</td><td>      NA</td><td>      NA</td><td>      NA</td><td>      NA</td><td>      NA</td><td>      NA</td><td>      NA</td><td>       NA</td><td>       NA</td><td>       NA</td><td>       NA</td><td>       NA</td><td>       NA</td><td>       NA</td><td>       NA</td><td>NA             </td><td>NA             </td></tr>\n",
       "\t<tr><th scope=row>3</th><td>fun1api            </td><td>EU   </td><td>1</td><td>    8</td><td>0.50000000</td><td>1</td><td>1.250000e-01</td><td> 1</td><td>   1</td><td>   1.000000</td><td>   0</td><td>   0.000000</td><td>        NA</td><td>        NA</td><td>4</td><td>15</td><td>8.875000</td><td>11</td><td>3.522884</td><td>0.4848693</td><td>-1.1434523</td><td>2.00</td><td>  6.09</td><td>4.396250</td><td>  4.09</td><td>⋯</td><td>0.4500000</td><td>0.5500000</td><td>0.4250000</td><td>0.3500000</td><td>0.4750000</td><td>0.3500000</td><td>0.5500000</td><td>2.500000</td><td>2.500000</td><td>2.500000</td><td>2.500000</td><td>2.500000</td><td>2.500000</td><td>2.500000</td><td>2.500000</td><td>0.4250000</td><td>0.4250000</td><td>0.4250000</td><td>0.4250000</td><td>0.4250000</td><td>0.4250000</td><td>0.4250000</td><td>0.4250000</td><td>auc_seg2_glm_fb</td><td>l10_seg2_glm_fb</td></tr>\n",
       "\t<tr><th scope=row>4</th><td>funab name isp     </td><td>EU   </td><td>1</td><td>   47</td><td>0.06382979</td><td>1</td><td>2.127660e-02</td><td> 1</td><td> 119</td><td>  82.872340</td><td> 118</td><td>  46.011632</td><td>-0.8738906</td><td>-0.9645903</td><td>4</td><td>61</td><td>9.446809</td><td>57</td><td>8.334863</td><td>5.0179710</td><td>28.2025571</td><td>0.28</td><td> 17.92</td><td>4.695745</td><td> 17.64</td><td>⋯</td><td>0.7166667</td><td>0.5166667</td><td>0.4833333</td><td>0.6500000</td><td>0.6500000</td><td>0.6833333</td><td>0.7833333</td><td>6.666667</td><td>6.666667</td><td>6.666667</td><td>6.666667</td><td>6.666667</td><td>6.666667</td><td>6.666667</td><td>6.666667</td><td>0.8833333</td><td>0.8833333</td><td>0.8833333</td><td>0.8833333</td><td>0.8833333</td><td>0.8833333</td><td>0.8833333</td><td>0.8833333</td><td>auc_seg2_glm_fb</td><td>l10_seg2_glm_fb</td></tr>\n",
       "\t<tr><th scope=row>5</th><td>funactive 24       </td><td>EU   </td><td>1</td><td>   25</td><td>0.20000000</td><td>1</td><td>4.000000e-02</td><td> 1</td><td>  14</td><td>   5.040000</td><td>  13</td><td>   5.020624</td><td> 1.0166170</td><td>-0.7554981</td><td>4</td><td>19</td><td>7.080000</td><td>15</td><td>3.451087</td><td>1.9087776</td><td> 3.6548313</td><td>0.59</td><td>100.00</td><td>9.743600</td><td> 99.41</td><td>⋯</td><td>0.3700000</td><td>0.4900000</td><td>0.4700000</td><td>0.6700000</td><td>0.6500000</td><td>0.6500000</td><td>0.6300000</td><td>0.000000</td><td>0.000000</td><td>0.000000</td><td>0.000000</td><td>0.000000</td><td>0.000000</td><td>0.000000</td><td>0.000000</td><td>0.5300000</td><td>0.5300000</td><td>0.5300000</td><td>0.5300000</td><td>0.5300000</td><td>0.5300000</td><td>0.5300000</td><td>0.5300000</td><td>auc_agg_rf_ALL </td><td>l10_agg_rf_ALL </td></tr>\n",
       "\t<tr><th scope=row>6</th><td>funalibaba         </td><td>China</td><td>1</td><td>35046</td><td>0.02014495</td><td>1</td><td>2.853393e-05</td><td>19</td><td>7163</td><td>1299.015380</td><td>7144</td><td>1600.896587</td><td> 2.5691646</td><td> 6.0230231</td><td>3</td><td>63</td><td>6.947155</td><td>60</td><td>3.018534</td><td>2.7839889</td><td>17.5227635</td><td>0.00</td><td>100.00</td><td>5.653614</td><td>100.00</td><td>⋯</td><td>0.8284703</td><td>0.8087819</td><td>0.8077904</td><td>0.9164306</td><td>0.9165722</td><td>0.9198300</td><td>0.9189802</td><td>5.000000</td><td>5.028329</td><td>4.730878</td><td>4.773371</td><td>7.762040</td><td>7.691218</td><td>7.790368</td><td>7.832861</td><td>0.8390935</td><td>0.8284703</td><td>0.8077904</td><td>0.8087819</td><td>0.9164306</td><td>0.9165722</td><td>0.9189802</td><td>0.9198300</td><td>auc_agg_rf_ALL </td><td>l10_agg_rf_ALL </td></tr>\n",
       "</tbody>\n",
       "</table>\n"
      ],
      "text/latex": [
       "A data.frame: 6 × 80\n",
       "\\begin{tabular}{r|lllllllllllllllllllllllllllllllllllllllllllllllllll}\n",
       "  & tld\\_registrar\\_index & geo\\_maj & geo\\_cnt & n & ren\\_prp & tld\\_cnt & tld\\_rat & daydom\\_min & daydom\\_max & daydom\\_mean & daydom\\_rng & daydom\\_std & daydom\\_skew & daydom\\_kurt & sldlen\\_min & sldlen\\_max & sldlen\\_mean & sldlen\\_rng & sldlen\\_std & sldlen\\_skew & sldlen\\_kurt & gibbs\\_min & gibbs\\_max & gibbs\\_mean & gibbs\\_rng & ⋯ & auc\\_seg\\_glm & auc\\_agg\\_glm\\_ALL & auc\\_agg\\_glm & auc\\_seg2\\_rf & auc\\_seg\\_rf & auc\\_agg\\_rf\\_ALL & auc\\_agg\\_rf & l10\\_seg2\\_glm\\_fb & l10\\_seg\\_glm\\_fb & l10\\_agg\\_glm\\_fb & l10\\_agg\\_glm\\_ALL\\_fb & l10\\_seg2\\_rf\\_fb & l10\\_seg\\_rf\\_fb & l10\\_agg\\_rf\\_fb & l10\\_agg\\_rf\\_ALL\\_fb & auc\\_seg2\\_glm\\_fb & auc\\_seg\\_glm\\_fb & auc\\_agg\\_glm\\_fb & auc\\_agg\\_glm\\_ALL\\_fb & auc\\_seg2\\_rf\\_fb & auc\\_seg\\_rf\\_fb & auc\\_agg\\_rf\\_fb & auc\\_agg\\_rf\\_ALL\\_fb & auc\\_win\\_01 & l10\\_win\\_01\\\\\n",
       "  & <fct> & <fct> & <int> & <int> & <dbl> & <int> & <dbl> & <int> & <int> & <dbl> & <int> & <dbl> & <dbl> & <dbl> & <int> & <int> & <dbl> & <int> & <dbl> & <dbl> & <dbl> & <dbl> & <dbl> & <dbl> & <dbl> & ⋯ & <dbl> & <dbl> & <dbl> & <dbl> & <dbl> & <dbl> & <dbl> & <dbl> & <dbl> & <dbl> & <dbl> & <dbl> & <dbl> & <dbl> & <dbl> & <dbl> & <dbl> & <dbl> & <dbl> & <dbl> & <dbl> & <dbl> & <dbl> & <chr> & <chr>\\\\\n",
       "\\hline\n",
       "\t1 & fun1\\&1 internet     & EU    & 1 &    11 & 0.54545455 & 1 & 9.090909e-02 &  1 &    5 &    2.181818 &    4 &    1.537412 &  0.9266651 & -0.7811140 & 4 & 14 & 7.636364 & 10 & 2.907670 & 0.7720046 & -0.3922768 & 1.71 &   9.01 & 4.655455 &   7.30 & ⋯ & 0.4500000 & 0.4500000 & 0.4500000 & 0.5333333 & 0.5333333 & 0.5500000 & 0.6166667 & 1.666667 & 1.666667 & 1.666667 & 1.666667 & 1.666667 & 1.666667 & 1.666667 & 1.666667 & 0.6500000 & 0.6500000 & 0.6500000 & 0.6500000 & 0.6500000 & 0.6500000 & 0.6500000 & 0.6500000 & auc\\_seg2\\_glm\\_fb & l10\\_seg2\\_glm\\_fb\\\\\n",
       "\t2 & fun10dencehispahard & EU    & 1 &     2 & 0.00000000 & 1 & 5.000000e-01 &  1 &    1 &    1.000000 &    0 &    0.000000 &         NA &         NA & 5 &  8 & 6.500000 &  3 & 2.121320 & 0.0000000 & -2.7500000 & 3.28 &   8.62 & 5.950000 &   5.34 & ⋯ &        NA &        NA &        NA &        NA &        NA &        NA &        NA &       NA &       NA &       NA &       NA &       NA &       NA &       NA &       NA &        NA &        NA &        NA &        NA &        NA &        NA &        NA &        NA & NA              & NA             \\\\\n",
       "\t3 & fun1api             & EU    & 1 &     8 & 0.50000000 & 1 & 1.250000e-01 &  1 &    1 &    1.000000 &    0 &    0.000000 &         NA &         NA & 4 & 15 & 8.875000 & 11 & 3.522884 & 0.4848693 & -1.1434523 & 2.00 &   6.09 & 4.396250 &   4.09 & ⋯ & 0.4500000 & 0.5500000 & 0.4250000 & 0.3500000 & 0.4750000 & 0.3500000 & 0.5500000 & 2.500000 & 2.500000 & 2.500000 & 2.500000 & 2.500000 & 2.500000 & 2.500000 & 2.500000 & 0.4250000 & 0.4250000 & 0.4250000 & 0.4250000 & 0.4250000 & 0.4250000 & 0.4250000 & 0.4250000 & auc\\_seg2\\_glm\\_fb & l10\\_seg2\\_glm\\_fb\\\\\n",
       "\t4 & funab name isp      & EU    & 1 &    47 & 0.06382979 & 1 & 2.127660e-02 &  1 &  119 &   82.872340 &  118 &   46.011632 & -0.8738906 & -0.9645903 & 4 & 61 & 9.446809 & 57 & 8.334863 & 5.0179710 & 28.2025571 & 0.28 &  17.92 & 4.695745 &  17.64 & ⋯ & 0.7166667 & 0.5166667 & 0.4833333 & 0.6500000 & 0.6500000 & 0.6833333 & 0.7833333 & 6.666667 & 6.666667 & 6.666667 & 6.666667 & 6.666667 & 6.666667 & 6.666667 & 6.666667 & 0.8833333 & 0.8833333 & 0.8833333 & 0.8833333 & 0.8833333 & 0.8833333 & 0.8833333 & 0.8833333 & auc\\_seg2\\_glm\\_fb & l10\\_seg2\\_glm\\_fb\\\\\n",
       "\t5 & funactive 24        & EU    & 1 &    25 & 0.20000000 & 1 & 4.000000e-02 &  1 &   14 &    5.040000 &   13 &    5.020624 &  1.0166170 & -0.7554981 & 4 & 19 & 7.080000 & 15 & 3.451087 & 1.9087776 &  3.6548313 & 0.59 & 100.00 & 9.743600 &  99.41 & ⋯ & 0.3700000 & 0.4900000 & 0.4700000 & 0.6700000 & 0.6500000 & 0.6500000 & 0.6300000 & 0.000000 & 0.000000 & 0.000000 & 0.000000 & 0.000000 & 0.000000 & 0.000000 & 0.000000 & 0.5300000 & 0.5300000 & 0.5300000 & 0.5300000 & 0.5300000 & 0.5300000 & 0.5300000 & 0.5300000 & auc\\_agg\\_rf\\_ALL  & l10\\_agg\\_rf\\_ALL \\\\\n",
       "\t6 & funalibaba          & China & 1 & 35046 & 0.02014495 & 1 & 2.853393e-05 & 19 & 7163 & 1299.015380 & 7144 & 1600.896587 &  2.5691646 &  6.0230231 & 3 & 63 & 6.947155 & 60 & 3.018534 & 2.7839889 & 17.5227635 & 0.00 & 100.00 & 5.653614 & 100.00 & ⋯ & 0.8284703 & 0.8087819 & 0.8077904 & 0.9164306 & 0.9165722 & 0.9198300 & 0.9189802 & 5.000000 & 5.028329 & 4.730878 & 4.773371 & 7.762040 & 7.691218 & 7.790368 & 7.832861 & 0.8390935 & 0.8284703 & 0.8077904 & 0.8087819 & 0.9164306 & 0.9165722 & 0.9189802 & 0.9198300 & auc\\_agg\\_rf\\_ALL  & l10\\_agg\\_rf\\_ALL \\\\\n",
       "\\end{tabular}\n"
      ],
      "text/markdown": [
       "\n",
       "A data.frame: 6 × 80\n",
       "\n",
       "| <!--/--> | tld_registrar_index &lt;fct&gt; | geo_maj &lt;fct&gt; | geo_cnt &lt;int&gt; | n &lt;int&gt; | ren_prp &lt;dbl&gt; | tld_cnt &lt;int&gt; | tld_rat &lt;dbl&gt; | daydom_min &lt;int&gt; | daydom_max &lt;int&gt; | daydom_mean &lt;dbl&gt; | daydom_rng &lt;int&gt; | daydom_std &lt;dbl&gt; | daydom_skew &lt;dbl&gt; | daydom_kurt &lt;dbl&gt; | sldlen_min &lt;int&gt; | sldlen_max &lt;int&gt; | sldlen_mean &lt;dbl&gt; | sldlen_rng &lt;int&gt; | sldlen_std &lt;dbl&gt; | sldlen_skew &lt;dbl&gt; | sldlen_kurt &lt;dbl&gt; | gibbs_min &lt;dbl&gt; | gibbs_max &lt;dbl&gt; | gibbs_mean &lt;dbl&gt; | gibbs_rng &lt;dbl&gt; | ⋯ ⋯ | auc_seg_glm &lt;dbl&gt; | auc_agg_glm_ALL &lt;dbl&gt; | auc_agg_glm &lt;dbl&gt; | auc_seg2_rf &lt;dbl&gt; | auc_seg_rf &lt;dbl&gt; | auc_agg_rf_ALL &lt;dbl&gt; | auc_agg_rf &lt;dbl&gt; | l10_seg2_glm_fb &lt;dbl&gt; | l10_seg_glm_fb &lt;dbl&gt; | l10_agg_glm_fb &lt;dbl&gt; | l10_agg_glm_ALL_fb &lt;dbl&gt; | l10_seg2_rf_fb &lt;dbl&gt; | l10_seg_rf_fb &lt;dbl&gt; | l10_agg_rf_fb &lt;dbl&gt; | l10_agg_rf_ALL_fb &lt;dbl&gt; | auc_seg2_glm_fb &lt;dbl&gt; | auc_seg_glm_fb &lt;dbl&gt; | auc_agg_glm_fb &lt;dbl&gt; | auc_agg_glm_ALL_fb &lt;dbl&gt; | auc_seg2_rf_fb &lt;dbl&gt; | auc_seg_rf_fb &lt;dbl&gt; | auc_agg_rf_fb &lt;dbl&gt; | auc_agg_rf_ALL_fb &lt;dbl&gt; | auc_win_01 &lt;chr&gt; | l10_win_01 &lt;chr&gt; |\n",
       "|---|---|---|---|---|---|---|---|---|---|---|---|---|---|---|---|---|---|---|---|---|---|---|---|---|---|---|---|---|---|---|---|---|---|---|---|---|---|---|---|---|---|---|---|---|---|---|---|---|---|---|---|\n",
       "| 1 | fun1&amp;1 internet     | EU    | 1 |    11 | 0.54545455 | 1 | 9.090909e-02 |  1 |    5 |    2.181818 |    4 |    1.537412 |  0.9266651 | -0.7811140 | 4 | 14 | 7.636364 | 10 | 2.907670 | 0.7720046 | -0.3922768 | 1.71 |   9.01 | 4.655455 |   7.30 | ⋯ | 0.4500000 | 0.4500000 | 0.4500000 | 0.5333333 | 0.5333333 | 0.5500000 | 0.6166667 | 1.666667 | 1.666667 | 1.666667 | 1.666667 | 1.666667 | 1.666667 | 1.666667 | 1.666667 | 0.6500000 | 0.6500000 | 0.6500000 | 0.6500000 | 0.6500000 | 0.6500000 | 0.6500000 | 0.6500000 | auc_seg2_glm_fb | l10_seg2_glm_fb |\n",
       "| 2 | fun10dencehispahard | EU    | 1 |     2 | 0.00000000 | 1 | 5.000000e-01 |  1 |    1 |    1.000000 |    0 |    0.000000 |         NA |         NA | 5 |  8 | 6.500000 |  3 | 2.121320 | 0.0000000 | -2.7500000 | 3.28 |   8.62 | 5.950000 |   5.34 | ⋯ |        NA |        NA |        NA |        NA |        NA |        NA |        NA |       NA |       NA |       NA |       NA |       NA |       NA |       NA |       NA |        NA |        NA |        NA |        NA |        NA |        NA |        NA |        NA | NA              | NA              |\n",
       "| 3 | fun1api             | EU    | 1 |     8 | 0.50000000 | 1 | 1.250000e-01 |  1 |    1 |    1.000000 |    0 |    0.000000 |         NA |         NA | 4 | 15 | 8.875000 | 11 | 3.522884 | 0.4848693 | -1.1434523 | 2.00 |   6.09 | 4.396250 |   4.09 | ⋯ | 0.4500000 | 0.5500000 | 0.4250000 | 0.3500000 | 0.4750000 | 0.3500000 | 0.5500000 | 2.500000 | 2.500000 | 2.500000 | 2.500000 | 2.500000 | 2.500000 | 2.500000 | 2.500000 | 0.4250000 | 0.4250000 | 0.4250000 | 0.4250000 | 0.4250000 | 0.4250000 | 0.4250000 | 0.4250000 | auc_seg2_glm_fb | l10_seg2_glm_fb |\n",
       "| 4 | funab name isp      | EU    | 1 |    47 | 0.06382979 | 1 | 2.127660e-02 |  1 |  119 |   82.872340 |  118 |   46.011632 | -0.8738906 | -0.9645903 | 4 | 61 | 9.446809 | 57 | 8.334863 | 5.0179710 | 28.2025571 | 0.28 |  17.92 | 4.695745 |  17.64 | ⋯ | 0.7166667 | 0.5166667 | 0.4833333 | 0.6500000 | 0.6500000 | 0.6833333 | 0.7833333 | 6.666667 | 6.666667 | 6.666667 | 6.666667 | 6.666667 | 6.666667 | 6.666667 | 6.666667 | 0.8833333 | 0.8833333 | 0.8833333 | 0.8833333 | 0.8833333 | 0.8833333 | 0.8833333 | 0.8833333 | auc_seg2_glm_fb | l10_seg2_glm_fb |\n",
       "| 5 | funactive 24        | EU    | 1 |    25 | 0.20000000 | 1 | 4.000000e-02 |  1 |   14 |    5.040000 |   13 |    5.020624 |  1.0166170 | -0.7554981 | 4 | 19 | 7.080000 | 15 | 3.451087 | 1.9087776 |  3.6548313 | 0.59 | 100.00 | 9.743600 |  99.41 | ⋯ | 0.3700000 | 0.4900000 | 0.4700000 | 0.6700000 | 0.6500000 | 0.6500000 | 0.6300000 | 0.000000 | 0.000000 | 0.000000 | 0.000000 | 0.000000 | 0.000000 | 0.000000 | 0.000000 | 0.5300000 | 0.5300000 | 0.5300000 | 0.5300000 | 0.5300000 | 0.5300000 | 0.5300000 | 0.5300000 | auc_agg_rf_ALL  | l10_agg_rf_ALL  |\n",
       "| 6 | funalibaba          | China | 1 | 35046 | 0.02014495 | 1 | 2.853393e-05 | 19 | 7163 | 1299.015380 | 7144 | 1600.896587 |  2.5691646 |  6.0230231 | 3 | 63 | 6.947155 | 60 | 3.018534 | 2.7839889 | 17.5227635 | 0.00 | 100.00 | 5.653614 | 100.00 | ⋯ | 0.8284703 | 0.8087819 | 0.8077904 | 0.9164306 | 0.9165722 | 0.9198300 | 0.9189802 | 5.000000 | 5.028329 | 4.730878 | 4.773371 | 7.762040 | 7.691218 | 7.790368 | 7.832861 | 0.8390935 | 0.8284703 | 0.8077904 | 0.8087819 | 0.9164306 | 0.9165722 | 0.9189802 | 0.9198300 | auc_agg_rf_ALL  | l10_agg_rf_ALL  |\n",
       "\n"
      ],
      "text/plain": [
       "  tld_registrar_index geo_maj geo_cnt n     ren_prp    tld_cnt tld_rat     \n",
       "1 fun1&1 internet     EU      1          11 0.54545455 1       9.090909e-02\n",
       "2 fun10dencehispahard EU      1           2 0.00000000 1       5.000000e-01\n",
       "3 fun1api             EU      1           8 0.50000000 1       1.250000e-01\n",
       "4 funab name isp      EU      1          47 0.06382979 1       2.127660e-02\n",
       "5 funactive 24        EU      1          25 0.20000000 1       4.000000e-02\n",
       "6 funalibaba          China   1       35046 0.02014495 1       2.853393e-05\n",
       "  daydom_min daydom_max daydom_mean daydom_rng daydom_std  daydom_skew\n",
       "1  1            5          2.181818    4          1.537412  0.9266651 \n",
       "2  1            1          1.000000    0          0.000000         NA \n",
       "3  1            1          1.000000    0          0.000000         NA \n",
       "4  1          119         82.872340  118         46.011632 -0.8738906 \n",
       "5  1           14          5.040000   13          5.020624  1.0166170 \n",
       "6 19         7163       1299.015380 7144       1600.896587  2.5691646 \n",
       "  daydom_kurt sldlen_min sldlen_max sldlen_mean sldlen_rng sldlen_std\n",
       "1 -0.7811140  4          14         7.636364    10         2.907670  \n",
       "2         NA  5           8         6.500000     3         2.121320  \n",
       "3         NA  4          15         8.875000    11         3.522884  \n",
       "4 -0.9645903  4          61         9.446809    57         8.334863  \n",
       "5 -0.7554981  4          19         7.080000    15         3.451087  \n",
       "6  6.0230231  3          63         6.947155    60         3.018534  \n",
       "  sldlen_skew sldlen_kurt gibbs_min gibbs_max gibbs_mean gibbs_rng ⋯\n",
       "1 0.7720046   -0.3922768  1.71        9.01    4.655455     7.30    ⋯\n",
       "2 0.0000000   -2.7500000  3.28        8.62    5.950000     5.34    ⋯\n",
       "3 0.4848693   -1.1434523  2.00        6.09    4.396250     4.09    ⋯\n",
       "4 5.0179710   28.2025571  0.28       17.92    4.695745    17.64    ⋯\n",
       "5 1.9087776    3.6548313  0.59      100.00    9.743600    99.41    ⋯\n",
       "6 2.7839889   17.5227635  0.00      100.00    5.653614   100.00    ⋯\n",
       "  auc_seg_glm auc_agg_glm_ALL auc_agg_glm auc_seg2_rf auc_seg_rf auc_agg_rf_ALL\n",
       "1 0.4500000   0.4500000       0.4500000   0.5333333   0.5333333  0.5500000     \n",
       "2        NA          NA              NA          NA          NA         NA     \n",
       "3 0.4500000   0.5500000       0.4250000   0.3500000   0.4750000  0.3500000     \n",
       "4 0.7166667   0.5166667       0.4833333   0.6500000   0.6500000  0.6833333     \n",
       "5 0.3700000   0.4900000       0.4700000   0.6700000   0.6500000  0.6500000     \n",
       "6 0.8284703   0.8087819       0.8077904   0.9164306   0.9165722  0.9198300     \n",
       "  auc_agg_rf l10_seg2_glm_fb l10_seg_glm_fb l10_agg_glm_fb l10_agg_glm_ALL_fb\n",
       "1 0.6166667  1.666667        1.666667       1.666667       1.666667          \n",
       "2        NA        NA              NA             NA             NA          \n",
       "3 0.5500000  2.500000        2.500000       2.500000       2.500000          \n",
       "4 0.7833333  6.666667        6.666667       6.666667       6.666667          \n",
       "5 0.6300000  0.000000        0.000000       0.000000       0.000000          \n",
       "6 0.9189802  5.000000        5.028329       4.730878       4.773371          \n",
       "  l10_seg2_rf_fb l10_seg_rf_fb l10_agg_rf_fb l10_agg_rf_ALL_fb auc_seg2_glm_fb\n",
       "1 1.666667       1.666667      1.666667      1.666667          0.6500000      \n",
       "2       NA             NA            NA            NA                 NA      \n",
       "3 2.500000       2.500000      2.500000      2.500000          0.4250000      \n",
       "4 6.666667       6.666667      6.666667      6.666667          0.8833333      \n",
       "5 0.000000       0.000000      0.000000      0.000000          0.5300000      \n",
       "6 7.762040       7.691218      7.790368      7.832861          0.8390935      \n",
       "  auc_seg_glm_fb auc_agg_glm_fb auc_agg_glm_ALL_fb auc_seg2_rf_fb auc_seg_rf_fb\n",
       "1 0.6500000      0.6500000      0.6500000          0.6500000      0.6500000    \n",
       "2        NA             NA             NA                 NA             NA    \n",
       "3 0.4250000      0.4250000      0.4250000          0.4250000      0.4250000    \n",
       "4 0.8833333      0.8833333      0.8833333          0.8833333      0.8833333    \n",
       "5 0.5300000      0.5300000      0.5300000          0.5300000      0.5300000    \n",
       "6 0.8284703      0.8077904      0.8087819          0.9164306      0.9165722    \n",
       "  auc_agg_rf_fb auc_agg_rf_ALL_fb auc_win_01      l10_win_01     \n",
       "1 0.6500000     0.6500000         auc_seg2_glm_fb l10_seg2_glm_fb\n",
       "2        NA            NA         NA              NA             \n",
       "3 0.4250000     0.4250000         auc_seg2_glm_fb l10_seg2_glm_fb\n",
       "4 0.8833333     0.8833333         auc_seg2_glm_fb l10_seg2_glm_fb\n",
       "5 0.5300000     0.5300000         auc_agg_rf_ALL  l10_agg_rf_ALL \n",
       "6 0.9189802     0.9198300         auc_agg_rf_ALL  l10_agg_rf_ALL "
      ]
     },
     "metadata": {},
     "output_type": "display_data"
    }
   ],
   "source": [
    "# (auc_vars = grep('auc', names(metrics_df), value=TRUE))\n",
    "# (l10_vars = grep('l10', names(metrics_df), value=TRUE))\n",
    "\n",
    "auc_vars = c('auc_seg2_glm_fb','auc_agg_rf_ALL')\n",
    "l10_vars = c('l10_seg2_glm_fb','l10_agg_rf_ALL')\n",
    "\n",
    "auc_vars %in% names(metametrics_df)\n",
    "l10_vars %in% names(metametrics_df)\n",
    "\n",
    "metametrics_df <- metametrics_df %>%\n",
    "    mutate (auc_win_01=sapply(apply(.[,c(auc_vars)], \n",
    "                          1, function(x) names(x)[which.max(x)]), \n",
    "                                    function(s) if (length(s) == 0) NA else paste(s, collapse = \" \")),\n",
    "            l10_win_01=sapply(apply(.[,c(l10_vars)], \n",
    "                          1, function(x) names(x)[which.max(x)]), \n",
    "                                    function(s) if (length(s) == 0) NA else paste(s, collapse = \" \")) \n",
    "            ) \n",
    "                              \n",
    "head(metametrics_df)"
   ]
  },
  {
   "cell_type": "code",
   "execution_count": 35,
   "metadata": {},
   "outputs": [
    {
     "data": {
      "text/plain": [
       "\n",
       " auc_agg_rf_ALL auc_seg2_glm_fb \n",
       "            762             720 "
      ]
     },
     "metadata": {},
     "output_type": "display_data"
    },
    {
     "data": {
      "text/plain": [
       "\n",
       " l10_agg_rf_ALL l10_seg2_glm_fb \n",
       "            516             966 "
      ]
     },
     "metadata": {},
     "output_type": "display_data"
    }
   ],
   "source": [
    "table(metametrics_df$auc_win_01)\n",
    "table(metametrics_df$l10_win_01)"
   ]
  },
  {
   "cell_type": "markdown",
   "metadata": {},
   "source": [
    "# Metalearning w/ Fallback -- MULTICLASS\n",
    "### Issue: for all tld-reg in test data, seg2_glm_fb outperforms agg_rf_fb even though agg_rf_fb outperforms overall"
   ]
  },
  {
   "cell_type": "code",
   "execution_count": 37,
   "metadata": {},
   "outputs": [
    {
     "data": {
      "text/html": [
       "<style>\n",
       ".list-inline {list-style: none; margin:0; padding: 0}\n",
       ".list-inline>li {display: inline-block}\n",
       ".list-inline>li:not(:last-child)::after {content: \"\\00b7\"; padding: 0 .5ex}\n",
       "</style>\n",
       "<ol class=list-inline><li>'auc_seg2_glm'</li><li>'auc_seg_glm'</li><li>'auc_agg_glm_ALL'</li><li>'auc_agg_glm'</li><li>'auc_seg2_rf'</li><li>'auc_seg_rf'</li><li>'auc_agg_rf_ALL'</li><li>'auc_agg_rf'</li><li>'auc_seg2_glm_fb'</li><li>'auc_seg_glm_fb'</li><li>'auc_agg_glm_fb'</li><li>'auc_agg_glm_ALL_fb'</li><li>'auc_seg2_rf_fb'</li><li>'auc_seg_rf_fb'</li><li>'auc_agg_rf_fb'</li><li>'auc_agg_rf_ALL_fb'</li><li>'auc_win_01'</li></ol>\n"
      ],
      "text/latex": [
       "\\begin{enumerate*}\n",
       "\\item 'auc\\_seg2\\_glm'\n",
       "\\item 'auc\\_seg\\_glm'\n",
       "\\item 'auc\\_agg\\_glm\\_ALL'\n",
       "\\item 'auc\\_agg\\_glm'\n",
       "\\item 'auc\\_seg2\\_rf'\n",
       "\\item 'auc\\_seg\\_rf'\n",
       "\\item 'auc\\_agg\\_rf\\_ALL'\n",
       "\\item 'auc\\_agg\\_rf'\n",
       "\\item 'auc\\_seg2\\_glm\\_fb'\n",
       "\\item 'auc\\_seg\\_glm\\_fb'\n",
       "\\item 'auc\\_agg\\_glm\\_fb'\n",
       "\\item 'auc\\_agg\\_glm\\_ALL\\_fb'\n",
       "\\item 'auc\\_seg2\\_rf\\_fb'\n",
       "\\item 'auc\\_seg\\_rf\\_fb'\n",
       "\\item 'auc\\_agg\\_rf\\_fb'\n",
       "\\item 'auc\\_agg\\_rf\\_ALL\\_fb'\n",
       "\\item 'auc\\_win\\_01'\n",
       "\\end{enumerate*}\n"
      ],
      "text/markdown": [
       "1. 'auc_seg2_glm'\n",
       "2. 'auc_seg_glm'\n",
       "3. 'auc_agg_glm_ALL'\n",
       "4. 'auc_agg_glm'\n",
       "5. 'auc_seg2_rf'\n",
       "6. 'auc_seg_rf'\n",
       "7. 'auc_agg_rf_ALL'\n",
       "8. 'auc_agg_rf'\n",
       "9. 'auc_seg2_glm_fb'\n",
       "10. 'auc_seg_glm_fb'\n",
       "11. 'auc_agg_glm_fb'\n",
       "12. 'auc_agg_glm_ALL_fb'\n",
       "13. 'auc_seg2_rf_fb'\n",
       "14. 'auc_seg_rf_fb'\n",
       "15. 'auc_agg_rf_fb'\n",
       "16. 'auc_agg_rf_ALL_fb'\n",
       "17. 'auc_win_01'\n",
       "\n",
       "\n"
      ],
      "text/plain": [
       " [1] \"auc_seg2_glm\"       \"auc_seg_glm\"        \"auc_agg_glm_ALL\"   \n",
       " [4] \"auc_agg_glm\"        \"auc_seg2_rf\"        \"auc_seg_rf\"        \n",
       " [7] \"auc_agg_rf_ALL\"     \"auc_agg_rf\"         \"auc_seg2_glm_fb\"   \n",
       "[10] \"auc_seg_glm_fb\"     \"auc_agg_glm_fb\"     \"auc_agg_glm_ALL_fb\"\n",
       "[13] \"auc_seg2_rf_fb\"     \"auc_seg_rf_fb\"      \"auc_agg_rf_fb\"     \n",
       "[16] \"auc_agg_rf_ALL_fb\"  \"auc_win_01\"        "
      ]
     },
     "metadata": {},
     "output_type": "display_data"
    },
    {
     "data": {
      "text/html": [
       "<style>\n",
       ".list-inline {list-style: none; margin:0; padding: 0}\n",
       ".list-inline>li {display: inline-block}\n",
       ".list-inline>li:not(:last-child)::after {content: \"\\00b7\"; padding: 0 .5ex}\n",
       "</style>\n",
       "<ol class=list-inline><li>'l10_seg2_glm'</li><li>'l10_seg_glm'</li><li>'l10_agg_glm_ALL'</li><li>'l10_agg_glm'</li><li>'l10_seg2_rf'</li><li>'l10_seg_rf'</li><li>'l10_agg_rf'</li><li>'l10_agg_rf_ALL'</li><li>'l10_seg2_glm_fb'</li><li>'l10_seg_glm_fb'</li><li>'l10_agg_glm_fb'</li><li>'l10_agg_glm_ALL_fb'</li><li>'l10_seg2_rf_fb'</li><li>'l10_seg_rf_fb'</li><li>'l10_agg_rf_fb'</li><li>'l10_agg_rf_ALL_fb'</li><li>'l10_win_01'</li></ol>\n"
      ],
      "text/latex": [
       "\\begin{enumerate*}\n",
       "\\item 'l10\\_seg2\\_glm'\n",
       "\\item 'l10\\_seg\\_glm'\n",
       "\\item 'l10\\_agg\\_glm\\_ALL'\n",
       "\\item 'l10\\_agg\\_glm'\n",
       "\\item 'l10\\_seg2\\_rf'\n",
       "\\item 'l10\\_seg\\_rf'\n",
       "\\item 'l10\\_agg\\_rf'\n",
       "\\item 'l10\\_agg\\_rf\\_ALL'\n",
       "\\item 'l10\\_seg2\\_glm\\_fb'\n",
       "\\item 'l10\\_seg\\_glm\\_fb'\n",
       "\\item 'l10\\_agg\\_glm\\_fb'\n",
       "\\item 'l10\\_agg\\_glm\\_ALL\\_fb'\n",
       "\\item 'l10\\_seg2\\_rf\\_fb'\n",
       "\\item 'l10\\_seg\\_rf\\_fb'\n",
       "\\item 'l10\\_agg\\_rf\\_fb'\n",
       "\\item 'l10\\_agg\\_rf\\_ALL\\_fb'\n",
       "\\item 'l10\\_win\\_01'\n",
       "\\end{enumerate*}\n"
      ],
      "text/markdown": [
       "1. 'l10_seg2_glm'\n",
       "2. 'l10_seg_glm'\n",
       "3. 'l10_agg_glm_ALL'\n",
       "4. 'l10_agg_glm'\n",
       "5. 'l10_seg2_rf'\n",
       "6. 'l10_seg_rf'\n",
       "7. 'l10_agg_rf'\n",
       "8. 'l10_agg_rf_ALL'\n",
       "9. 'l10_seg2_glm_fb'\n",
       "10. 'l10_seg_glm_fb'\n",
       "11. 'l10_agg_glm_fb'\n",
       "12. 'l10_agg_glm_ALL_fb'\n",
       "13. 'l10_seg2_rf_fb'\n",
       "14. 'l10_seg_rf_fb'\n",
       "15. 'l10_agg_rf_fb'\n",
       "16. 'l10_agg_rf_ALL_fb'\n",
       "17. 'l10_win_01'\n",
       "\n",
       "\n"
      ],
      "text/plain": [
       " [1] \"l10_seg2_glm\"       \"l10_seg_glm\"        \"l10_agg_glm_ALL\"   \n",
       " [4] \"l10_agg_glm\"        \"l10_seg2_rf\"        \"l10_seg_rf\"        \n",
       " [7] \"l10_agg_rf\"         \"l10_agg_rf_ALL\"     \"l10_seg2_glm_fb\"   \n",
       "[10] \"l10_seg_glm_fb\"     \"l10_agg_glm_fb\"     \"l10_agg_glm_ALL_fb\"\n",
       "[13] \"l10_seg2_rf_fb\"     \"l10_seg_rf_fb\"      \"l10_agg_rf_fb\"     \n",
       "[16] \"l10_agg_rf_ALL_fb\"  \"l10_win_01\"        "
      ]
     },
     "metadata": {},
     "output_type": "display_data"
    },
    {
     "data": {
      "text/html": [
       "<style>\n",
       ".list-inline {list-style: none; margin:0; padding: 0}\n",
       ".list-inline>li {display: inline-block}\n",
       ".list-inline>li:not(:last-child)::after {content: \"\\00b7\"; padding: 0 .5ex}\n",
       "</style>\n",
       "<ol class=list-inline><li>'auc_seg2_glm'</li><li>'auc_seg_glm'</li><li>'auc_agg_glm_ALL'</li><li>'auc_agg_glm'</li><li>'auc_seg2_rf'</li><li>'auc_seg_rf'</li><li>'auc_agg_rf_ALL'</li><li>'auc_agg_rf'</li><li>'auc_seg2_glm_fb'</li><li>'auc_seg_glm_fb'</li><li>'auc_agg_glm_fb'</li><li>'auc_agg_glm_ALL_fb'</li><li>'auc_seg2_rf_fb'</li><li>'auc_seg_rf_fb'</li><li>'auc_agg_rf_fb'</li><li>'auc_agg_rf_ALL_fb'</li></ol>\n"
      ],
      "text/latex": [
       "\\begin{enumerate*}\n",
       "\\item 'auc\\_seg2\\_glm'\n",
       "\\item 'auc\\_seg\\_glm'\n",
       "\\item 'auc\\_agg\\_glm\\_ALL'\n",
       "\\item 'auc\\_agg\\_glm'\n",
       "\\item 'auc\\_seg2\\_rf'\n",
       "\\item 'auc\\_seg\\_rf'\n",
       "\\item 'auc\\_agg\\_rf\\_ALL'\n",
       "\\item 'auc\\_agg\\_rf'\n",
       "\\item 'auc\\_seg2\\_glm\\_fb'\n",
       "\\item 'auc\\_seg\\_glm\\_fb'\n",
       "\\item 'auc\\_agg\\_glm\\_fb'\n",
       "\\item 'auc\\_agg\\_glm\\_ALL\\_fb'\n",
       "\\item 'auc\\_seg2\\_rf\\_fb'\n",
       "\\item 'auc\\_seg\\_rf\\_fb'\n",
       "\\item 'auc\\_agg\\_rf\\_fb'\n",
       "\\item 'auc\\_agg\\_rf\\_ALL\\_fb'\n",
       "\\end{enumerate*}\n"
      ],
      "text/markdown": [
       "1. 'auc_seg2_glm'\n",
       "2. 'auc_seg_glm'\n",
       "3. 'auc_agg_glm_ALL'\n",
       "4. 'auc_agg_glm'\n",
       "5. 'auc_seg2_rf'\n",
       "6. 'auc_seg_rf'\n",
       "7. 'auc_agg_rf_ALL'\n",
       "8. 'auc_agg_rf'\n",
       "9. 'auc_seg2_glm_fb'\n",
       "10. 'auc_seg_glm_fb'\n",
       "11. 'auc_agg_glm_fb'\n",
       "12. 'auc_agg_glm_ALL_fb'\n",
       "13. 'auc_seg2_rf_fb'\n",
       "14. 'auc_seg_rf_fb'\n",
       "15. 'auc_agg_rf_fb'\n",
       "16. 'auc_agg_rf_ALL_fb'\n",
       "\n",
       "\n"
      ],
      "text/plain": [
       " [1] \"auc_seg2_glm\"       \"auc_seg_glm\"        \"auc_agg_glm_ALL\"   \n",
       " [4] \"auc_agg_glm\"        \"auc_seg2_rf\"        \"auc_seg_rf\"        \n",
       " [7] \"auc_agg_rf_ALL\"     \"auc_agg_rf\"         \"auc_seg2_glm_fb\"   \n",
       "[10] \"auc_seg_glm_fb\"     \"auc_agg_glm_fb\"     \"auc_agg_glm_ALL_fb\"\n",
       "[13] \"auc_seg2_rf_fb\"     \"auc_seg_rf_fb\"      \"auc_agg_rf_fb\"     \n",
       "[16] \"auc_agg_rf_ALL_fb\" "
      ]
     },
     "metadata": {},
     "output_type": "display_data"
    },
    {
     "data": {
      "text/html": [
       "<style>\n",
       ".list-inline {list-style: none; margin:0; padding: 0}\n",
       ".list-inline>li {display: inline-block}\n",
       ".list-inline>li:not(:last-child)::after {content: \"\\00b7\"; padding: 0 .5ex}\n",
       "</style>\n",
       "<ol class=list-inline><li>'l10_seg2_glm'</li><li>'l10_seg_glm'</li><li>'l10_agg_glm_ALL'</li><li>'l10_agg_glm'</li><li>'l10_seg2_rf'</li><li>'l10_seg_rf'</li><li>'l10_agg_rf'</li><li>'l10_agg_rf_ALL'</li><li>'l10_seg2_glm_fb'</li><li>'l10_seg_glm_fb'</li><li>'l10_agg_glm_fb'</li><li>'l10_agg_glm_ALL_fb'</li><li>'l10_seg2_rf_fb'</li><li>'l10_seg_rf_fb'</li><li>'l10_agg_rf_fb'</li><li>'l10_agg_rf_ALL_fb'</li></ol>\n"
      ],
      "text/latex": [
       "\\begin{enumerate*}\n",
       "\\item 'l10\\_seg2\\_glm'\n",
       "\\item 'l10\\_seg\\_glm'\n",
       "\\item 'l10\\_agg\\_glm\\_ALL'\n",
       "\\item 'l10\\_agg\\_glm'\n",
       "\\item 'l10\\_seg2\\_rf'\n",
       "\\item 'l10\\_seg\\_rf'\n",
       "\\item 'l10\\_agg\\_rf'\n",
       "\\item 'l10\\_agg\\_rf\\_ALL'\n",
       "\\item 'l10\\_seg2\\_glm\\_fb'\n",
       "\\item 'l10\\_seg\\_glm\\_fb'\n",
       "\\item 'l10\\_agg\\_glm\\_fb'\n",
       "\\item 'l10\\_agg\\_glm\\_ALL\\_fb'\n",
       "\\item 'l10\\_seg2\\_rf\\_fb'\n",
       "\\item 'l10\\_seg\\_rf\\_fb'\n",
       "\\item 'l10\\_agg\\_rf\\_fb'\n",
       "\\item 'l10\\_agg\\_rf\\_ALL\\_fb'\n",
       "\\end{enumerate*}\n"
      ],
      "text/markdown": [
       "1. 'l10_seg2_glm'\n",
       "2. 'l10_seg_glm'\n",
       "3. 'l10_agg_glm_ALL'\n",
       "4. 'l10_agg_glm'\n",
       "5. 'l10_seg2_rf'\n",
       "6. 'l10_seg_rf'\n",
       "7. 'l10_agg_rf'\n",
       "8. 'l10_agg_rf_ALL'\n",
       "9. 'l10_seg2_glm_fb'\n",
       "10. 'l10_seg_glm_fb'\n",
       "11. 'l10_agg_glm_fb'\n",
       "12. 'l10_agg_glm_ALL_fb'\n",
       "13. 'l10_seg2_rf_fb'\n",
       "14. 'l10_seg_rf_fb'\n",
       "15. 'l10_agg_rf_fb'\n",
       "16. 'l10_agg_rf_ALL_fb'\n",
       "\n",
       "\n"
      ],
      "text/plain": [
       " [1] \"l10_seg2_glm\"       \"l10_seg_glm\"        \"l10_agg_glm_ALL\"   \n",
       " [4] \"l10_agg_glm\"        \"l10_seg2_rf\"        \"l10_seg_rf\"        \n",
       " [7] \"l10_agg_rf\"         \"l10_agg_rf_ALL\"     \"l10_seg2_glm_fb\"   \n",
       "[10] \"l10_seg_glm_fb\"     \"l10_agg_glm_fb\"     \"l10_agg_glm_ALL_fb\"\n",
       "[13] \"l10_seg2_rf_fb\"     \"l10_seg_rf_fb\"      \"l10_agg_rf_fb\"     \n",
       "[16] \"l10_agg_rf_ALL_fb\" "
      ]
     },
     "metadata": {},
     "output_type": "display_data"
    },
    {
     "data": {
      "text/html": [
       "<table>\n",
       "<caption>A data.frame: 6 × 82</caption>\n",
       "<thead>\n",
       "\t<tr><th></th><th scope=col>tld_registrar_index</th><th scope=col>geo_maj</th><th scope=col>geo_cnt</th><th scope=col>n</th><th scope=col>ren_prp</th><th scope=col>tld_cnt</th><th scope=col>tld_rat</th><th scope=col>daydom_min</th><th scope=col>daydom_max</th><th scope=col>daydom_mean</th><th scope=col>daydom_rng</th><th scope=col>daydom_std</th><th scope=col>daydom_skew</th><th scope=col>daydom_kurt</th><th scope=col>sldlen_min</th><th scope=col>sldlen_max</th><th scope=col>sldlen_mean</th><th scope=col>sldlen_rng</th><th scope=col>sldlen_std</th><th scope=col>sldlen_skew</th><th scope=col>sldlen_kurt</th><th scope=col>gibbs_min</th><th scope=col>gibbs_max</th><th scope=col>gibbs_mean</th><th scope=col>gibbs_rng</th><th scope=col>⋯</th><th scope=col>auc_agg_glm</th><th scope=col>auc_seg2_rf</th><th scope=col>auc_seg_rf</th><th scope=col>auc_agg_rf_ALL</th><th scope=col>auc_agg_rf</th><th scope=col>l10_seg2_glm_fb</th><th scope=col>l10_seg_glm_fb</th><th scope=col>l10_agg_glm_fb</th><th scope=col>l10_agg_glm_ALL_fb</th><th scope=col>l10_seg2_rf_fb</th><th scope=col>l10_seg_rf_fb</th><th scope=col>l10_agg_rf_fb</th><th scope=col>l10_agg_rf_ALL_fb</th><th scope=col>auc_seg2_glm_fb</th><th scope=col>auc_seg_glm_fb</th><th scope=col>auc_agg_glm_fb</th><th scope=col>auc_agg_glm_ALL_fb</th><th scope=col>auc_seg2_rf_fb</th><th scope=col>auc_seg_rf_fb</th><th scope=col>auc_agg_rf_fb</th><th scope=col>auc_agg_rf_ALL_fb</th><th scope=col>auc_win_01</th><th scope=col>l10_win_01</th><th scope=col>auc_win_02</th><th scope=col>l10_win_02</th></tr>\n",
       "\t<tr><th></th><th scope=col>&lt;fct&gt;</th><th scope=col>&lt;fct&gt;</th><th scope=col>&lt;int&gt;</th><th scope=col>&lt;int&gt;</th><th scope=col>&lt;dbl&gt;</th><th scope=col>&lt;int&gt;</th><th scope=col>&lt;dbl&gt;</th><th scope=col>&lt;int&gt;</th><th scope=col>&lt;int&gt;</th><th scope=col>&lt;dbl&gt;</th><th scope=col>&lt;int&gt;</th><th scope=col>&lt;dbl&gt;</th><th scope=col>&lt;dbl&gt;</th><th scope=col>&lt;dbl&gt;</th><th scope=col>&lt;int&gt;</th><th scope=col>&lt;int&gt;</th><th scope=col>&lt;dbl&gt;</th><th scope=col>&lt;int&gt;</th><th scope=col>&lt;dbl&gt;</th><th scope=col>&lt;dbl&gt;</th><th scope=col>&lt;dbl&gt;</th><th scope=col>&lt;dbl&gt;</th><th scope=col>&lt;dbl&gt;</th><th scope=col>&lt;dbl&gt;</th><th scope=col>&lt;dbl&gt;</th><th scope=col>⋯</th><th scope=col>&lt;dbl&gt;</th><th scope=col>&lt;dbl&gt;</th><th scope=col>&lt;dbl&gt;</th><th scope=col>&lt;dbl&gt;</th><th scope=col>&lt;dbl&gt;</th><th scope=col>&lt;dbl&gt;</th><th scope=col>&lt;dbl&gt;</th><th scope=col>&lt;dbl&gt;</th><th scope=col>&lt;dbl&gt;</th><th scope=col>&lt;dbl&gt;</th><th scope=col>&lt;dbl&gt;</th><th scope=col>&lt;dbl&gt;</th><th scope=col>&lt;dbl&gt;</th><th scope=col>&lt;dbl&gt;</th><th scope=col>&lt;dbl&gt;</th><th scope=col>&lt;dbl&gt;</th><th scope=col>&lt;dbl&gt;</th><th scope=col>&lt;dbl&gt;</th><th scope=col>&lt;dbl&gt;</th><th scope=col>&lt;dbl&gt;</th><th scope=col>&lt;dbl&gt;</th><th scope=col>&lt;chr&gt;</th><th scope=col>&lt;chr&gt;</th><th scope=col>&lt;chr&gt;</th><th scope=col>&lt;chr&gt;</th></tr>\n",
       "</thead>\n",
       "<tbody>\n",
       "\t<tr><th scope=row>1</th><td><span style=white-space:pre-wrap>fun1&amp;1 internet    </span></td><td><span style=white-space:pre-wrap>EU   </span></td><td>1</td><td><span style=white-space:pre-wrap>   11</span></td><td>0.54545455</td><td>1</td><td>9.090909e-02</td><td> 1</td><td><span style=white-space:pre-wrap>   5</span></td><td><span style=white-space:pre-wrap>   2.181818</span></td><td><span style=white-space:pre-wrap>   4</span></td><td><span style=white-space:pre-wrap>   1.537412</span></td><td> 0.9266651</td><td>-0.7811140</td><td>4</td><td>14</td><td>7.636364</td><td>10</td><td>2.907670</td><td>0.7720046</td><td>-0.3922768</td><td>1.71</td><td><span style=white-space:pre-wrap>  9.01</span></td><td>4.655455</td><td><span style=white-space:pre-wrap>  7.30</span></td><td>⋯</td><td>0.4500000</td><td>0.5333333</td><td>0.5333333</td><td>0.5500000</td><td>0.6166667</td><td>1.666667</td><td>1.666667</td><td>1.666667</td><td>1.666667</td><td>1.666667</td><td>1.666667</td><td>1.666667</td><td>1.666667</td><td>0.6500000</td><td>0.6500000</td><td>0.6500000</td><td>0.6500000</td><td>0.6500000</td><td>0.6500000</td><td>0.6500000</td><td>0.6500000</td><td>auc_seg2_glm_fb</td><td>l10_seg2_glm_fb</td><td>auc_seg2_glm_fb</td><td><span style=white-space:pre-wrap>l10_seg_rf     </span></td></tr>\n",
       "\t<tr><th scope=row>2</th><td>fun10dencehispahard</td><td>EU   </td><td>1</td><td>    2</td><td>0.00000000</td><td>1</td><td>5.000000e-01</td><td> 1</td><td>   1</td><td>   1.000000</td><td>   0</td><td>   0.000000</td><td>        NA</td><td>        NA</td><td>5</td><td> 8</td><td>6.500000</td><td> 3</td><td>2.121320</td><td>0.0000000</td><td>-2.7500000</td><td>3.28</td><td>  8.62</td><td>5.950000</td><td>  5.34</td><td>⋯</td><td>       NA</td><td>       NA</td><td>       NA</td><td>       NA</td><td>       NA</td><td>      NA</td><td>      NA</td><td>      NA</td><td>      NA</td><td>      NA</td><td>      NA</td><td>      NA</td><td>      NA</td><td>       NA</td><td>       NA</td><td>       NA</td><td>       NA</td><td>       NA</td><td>       NA</td><td>       NA</td><td>       NA</td><td>NA             </td><td>NA             </td><td>NA             </td><td>NA             </td></tr>\n",
       "\t<tr><th scope=row>3</th><td>fun1api            </td><td>EU   </td><td>1</td><td>    8</td><td>0.50000000</td><td>1</td><td>1.250000e-01</td><td> 1</td><td>   1</td><td>   1.000000</td><td>   0</td><td>   0.000000</td><td>        NA</td><td>        NA</td><td>4</td><td>15</td><td>8.875000</td><td>11</td><td>3.522884</td><td>0.4848693</td><td>-1.1434523</td><td>2.00</td><td>  6.09</td><td>4.396250</td><td>  4.09</td><td>⋯</td><td>0.4250000</td><td>0.3500000</td><td>0.4750000</td><td>0.3500000</td><td>0.5500000</td><td>2.500000</td><td>2.500000</td><td>2.500000</td><td>2.500000</td><td>2.500000</td><td>2.500000</td><td>2.500000</td><td>2.500000</td><td>0.4250000</td><td>0.4250000</td><td>0.4250000</td><td>0.4250000</td><td>0.4250000</td><td>0.4250000</td><td>0.4250000</td><td>0.4250000</td><td>auc_seg2_glm_fb</td><td>l10_seg2_glm_fb</td><td>auc_agg_glm_ALL</td><td>l10_agg_glm_ALL</td></tr>\n",
       "\t<tr><th scope=row>4</th><td>funab name isp     </td><td>EU   </td><td>1</td><td>   47</td><td>0.06382979</td><td>1</td><td>2.127660e-02</td><td> 1</td><td> 119</td><td>  82.872340</td><td> 118</td><td>  46.011632</td><td>-0.8738906</td><td>-0.9645903</td><td>4</td><td>61</td><td>9.446809</td><td>57</td><td>8.334863</td><td>5.0179710</td><td>28.2025571</td><td>0.28</td><td> 17.92</td><td>4.695745</td><td> 17.64</td><td>⋯</td><td>0.4833333</td><td>0.6500000</td><td>0.6500000</td><td>0.6833333</td><td>0.7833333</td><td>6.666667</td><td>6.666667</td><td>6.666667</td><td>6.666667</td><td>6.666667</td><td>6.666667</td><td>6.666667</td><td>6.666667</td><td>0.8833333</td><td>0.8833333</td><td>0.8833333</td><td>0.8833333</td><td>0.8833333</td><td>0.8833333</td><td>0.8833333</td><td>0.8833333</td><td>auc_seg2_glm_fb</td><td>l10_seg2_glm_fb</td><td>auc_seg2_glm_fb</td><td>l10_seg_rf     </td></tr>\n",
       "\t<tr><th scope=row>5</th><td>funactive 24       </td><td>EU   </td><td>1</td><td>   25</td><td>0.20000000</td><td>1</td><td>4.000000e-02</td><td> 1</td><td>  14</td><td>   5.040000</td><td>  13</td><td>   5.020624</td><td> 1.0166170</td><td>-0.7554981</td><td>4</td><td>19</td><td>7.080000</td><td>15</td><td>3.451087</td><td>1.9087776</td><td> 3.6548313</td><td>0.59</td><td>100.00</td><td>9.743600</td><td> 99.41</td><td>⋯</td><td>0.4700000</td><td>0.6700000</td><td>0.6500000</td><td>0.6500000</td><td>0.6300000</td><td>0.000000</td><td>0.000000</td><td>0.000000</td><td>0.000000</td><td>0.000000</td><td>0.000000</td><td>0.000000</td><td>0.000000</td><td>0.5300000</td><td>0.5300000</td><td>0.5300000</td><td>0.5300000</td><td>0.5300000</td><td>0.5300000</td><td>0.5300000</td><td>0.5300000</td><td>auc_agg_rf_ALL </td><td>l10_agg_rf_ALL </td><td>auc_seg2_rf    </td><td>l10_seg2_rf    </td></tr>\n",
       "\t<tr><th scope=row>6</th><td>funalibaba         </td><td>China</td><td>1</td><td>35046</td><td>0.02014495</td><td>1</td><td>2.853393e-05</td><td>19</td><td>7163</td><td>1299.015380</td><td>7144</td><td>1600.896587</td><td> 2.5691646</td><td> 6.0230231</td><td>3</td><td>63</td><td>6.947155</td><td>60</td><td>3.018534</td><td>2.7839889</td><td>17.5227635</td><td>0.00</td><td>100.00</td><td>5.653614</td><td>100.00</td><td>⋯</td><td>0.8077904</td><td>0.9164306</td><td>0.9165722</td><td>0.9198300</td><td>0.9189802</td><td>5.000000</td><td>5.028329</td><td>4.730878</td><td>4.773371</td><td>7.762040</td><td>7.691218</td><td>7.790368</td><td>7.832861</td><td>0.8390935</td><td>0.8284703</td><td>0.8077904</td><td>0.8087819</td><td>0.9164306</td><td>0.9165722</td><td>0.9189802</td><td>0.9198300</td><td>auc_agg_rf_ALL </td><td>l10_agg_rf_ALL </td><td>auc_agg_rf_ALL </td><td>l10_agg_rf_ALL </td></tr>\n",
       "</tbody>\n",
       "</table>\n"
      ],
      "text/latex": [
       "A data.frame: 6 × 82\n",
       "\\begin{tabular}{r|lllllllllllllllllllllllllllllllllllllllllllllllllll}\n",
       "  & tld\\_registrar\\_index & geo\\_maj & geo\\_cnt & n & ren\\_prp & tld\\_cnt & tld\\_rat & daydom\\_min & daydom\\_max & daydom\\_mean & daydom\\_rng & daydom\\_std & daydom\\_skew & daydom\\_kurt & sldlen\\_min & sldlen\\_max & sldlen\\_mean & sldlen\\_rng & sldlen\\_std & sldlen\\_skew & sldlen\\_kurt & gibbs\\_min & gibbs\\_max & gibbs\\_mean & gibbs\\_rng & ⋯ & auc\\_agg\\_glm & auc\\_seg2\\_rf & auc\\_seg\\_rf & auc\\_agg\\_rf\\_ALL & auc\\_agg\\_rf & l10\\_seg2\\_glm\\_fb & l10\\_seg\\_glm\\_fb & l10\\_agg\\_glm\\_fb & l10\\_agg\\_glm\\_ALL\\_fb & l10\\_seg2\\_rf\\_fb & l10\\_seg\\_rf\\_fb & l10\\_agg\\_rf\\_fb & l10\\_agg\\_rf\\_ALL\\_fb & auc\\_seg2\\_glm\\_fb & auc\\_seg\\_glm\\_fb & auc\\_agg\\_glm\\_fb & auc\\_agg\\_glm\\_ALL\\_fb & auc\\_seg2\\_rf\\_fb & auc\\_seg\\_rf\\_fb & auc\\_agg\\_rf\\_fb & auc\\_agg\\_rf\\_ALL\\_fb & auc\\_win\\_01 & l10\\_win\\_01 & auc\\_win\\_02 & l10\\_win\\_02\\\\\n",
       "  & <fct> & <fct> & <int> & <int> & <dbl> & <int> & <dbl> & <int> & <int> & <dbl> & <int> & <dbl> & <dbl> & <dbl> & <int> & <int> & <dbl> & <int> & <dbl> & <dbl> & <dbl> & <dbl> & <dbl> & <dbl> & <dbl> & ⋯ & <dbl> & <dbl> & <dbl> & <dbl> & <dbl> & <dbl> & <dbl> & <dbl> & <dbl> & <dbl> & <dbl> & <dbl> & <dbl> & <dbl> & <dbl> & <dbl> & <dbl> & <dbl> & <dbl> & <dbl> & <dbl> & <chr> & <chr> & <chr> & <chr>\\\\\n",
       "\\hline\n",
       "\t1 & fun1\\&1 internet     & EU    & 1 &    11 & 0.54545455 & 1 & 9.090909e-02 &  1 &    5 &    2.181818 &    4 &    1.537412 &  0.9266651 & -0.7811140 & 4 & 14 & 7.636364 & 10 & 2.907670 & 0.7720046 & -0.3922768 & 1.71 &   9.01 & 4.655455 &   7.30 & ⋯ & 0.4500000 & 0.5333333 & 0.5333333 & 0.5500000 & 0.6166667 & 1.666667 & 1.666667 & 1.666667 & 1.666667 & 1.666667 & 1.666667 & 1.666667 & 1.666667 & 0.6500000 & 0.6500000 & 0.6500000 & 0.6500000 & 0.6500000 & 0.6500000 & 0.6500000 & 0.6500000 & auc\\_seg2\\_glm\\_fb & l10\\_seg2\\_glm\\_fb & auc\\_seg2\\_glm\\_fb & l10\\_seg\\_rf     \\\\\n",
       "\t2 & fun10dencehispahard & EU    & 1 &     2 & 0.00000000 & 1 & 5.000000e-01 &  1 &    1 &    1.000000 &    0 &    0.000000 &         NA &         NA & 5 &  8 & 6.500000 &  3 & 2.121320 & 0.0000000 & -2.7500000 & 3.28 &   8.62 & 5.950000 &   5.34 & ⋯ &        NA &        NA &        NA &        NA &        NA &       NA &       NA &       NA &       NA &       NA &       NA &       NA &       NA &        NA &        NA &        NA &        NA &        NA &        NA &        NA &        NA & NA              & NA              & NA              & NA             \\\\\n",
       "\t3 & fun1api             & EU    & 1 &     8 & 0.50000000 & 1 & 1.250000e-01 &  1 &    1 &    1.000000 &    0 &    0.000000 &         NA &         NA & 4 & 15 & 8.875000 & 11 & 3.522884 & 0.4848693 & -1.1434523 & 2.00 &   6.09 & 4.396250 &   4.09 & ⋯ & 0.4250000 & 0.3500000 & 0.4750000 & 0.3500000 & 0.5500000 & 2.500000 & 2.500000 & 2.500000 & 2.500000 & 2.500000 & 2.500000 & 2.500000 & 2.500000 & 0.4250000 & 0.4250000 & 0.4250000 & 0.4250000 & 0.4250000 & 0.4250000 & 0.4250000 & 0.4250000 & auc\\_seg2\\_glm\\_fb & l10\\_seg2\\_glm\\_fb & auc\\_agg\\_glm\\_ALL & l10\\_agg\\_glm\\_ALL\\\\\n",
       "\t4 & funab name isp      & EU    & 1 &    47 & 0.06382979 & 1 & 2.127660e-02 &  1 &  119 &   82.872340 &  118 &   46.011632 & -0.8738906 & -0.9645903 & 4 & 61 & 9.446809 & 57 & 8.334863 & 5.0179710 & 28.2025571 & 0.28 &  17.92 & 4.695745 &  17.64 & ⋯ & 0.4833333 & 0.6500000 & 0.6500000 & 0.6833333 & 0.7833333 & 6.666667 & 6.666667 & 6.666667 & 6.666667 & 6.666667 & 6.666667 & 6.666667 & 6.666667 & 0.8833333 & 0.8833333 & 0.8833333 & 0.8833333 & 0.8833333 & 0.8833333 & 0.8833333 & 0.8833333 & auc\\_seg2\\_glm\\_fb & l10\\_seg2\\_glm\\_fb & auc\\_seg2\\_glm\\_fb & l10\\_seg\\_rf     \\\\\n",
       "\t5 & funactive 24        & EU    & 1 &    25 & 0.20000000 & 1 & 4.000000e-02 &  1 &   14 &    5.040000 &   13 &    5.020624 &  1.0166170 & -0.7554981 & 4 & 19 & 7.080000 & 15 & 3.451087 & 1.9087776 &  3.6548313 & 0.59 & 100.00 & 9.743600 &  99.41 & ⋯ & 0.4700000 & 0.6700000 & 0.6500000 & 0.6500000 & 0.6300000 & 0.000000 & 0.000000 & 0.000000 & 0.000000 & 0.000000 & 0.000000 & 0.000000 & 0.000000 & 0.5300000 & 0.5300000 & 0.5300000 & 0.5300000 & 0.5300000 & 0.5300000 & 0.5300000 & 0.5300000 & auc\\_agg\\_rf\\_ALL  & l10\\_agg\\_rf\\_ALL  & auc\\_seg2\\_rf     & l10\\_seg2\\_rf    \\\\\n",
       "\t6 & funalibaba          & China & 1 & 35046 & 0.02014495 & 1 & 2.853393e-05 & 19 & 7163 & 1299.015380 & 7144 & 1600.896587 &  2.5691646 &  6.0230231 & 3 & 63 & 6.947155 & 60 & 3.018534 & 2.7839889 & 17.5227635 & 0.00 & 100.00 & 5.653614 & 100.00 & ⋯ & 0.8077904 & 0.9164306 & 0.9165722 & 0.9198300 & 0.9189802 & 5.000000 & 5.028329 & 4.730878 & 4.773371 & 7.762040 & 7.691218 & 7.790368 & 7.832861 & 0.8390935 & 0.8284703 & 0.8077904 & 0.8087819 & 0.9164306 & 0.9165722 & 0.9189802 & 0.9198300 & auc\\_agg\\_rf\\_ALL  & l10\\_agg\\_rf\\_ALL  & auc\\_agg\\_rf\\_ALL  & l10\\_agg\\_rf\\_ALL \\\\\n",
       "\\end{tabular}\n"
      ],
      "text/markdown": [
       "\n",
       "A data.frame: 6 × 82\n",
       "\n",
       "| <!--/--> | tld_registrar_index &lt;fct&gt; | geo_maj &lt;fct&gt; | geo_cnt &lt;int&gt; | n &lt;int&gt; | ren_prp &lt;dbl&gt; | tld_cnt &lt;int&gt; | tld_rat &lt;dbl&gt; | daydom_min &lt;int&gt; | daydom_max &lt;int&gt; | daydom_mean &lt;dbl&gt; | daydom_rng &lt;int&gt; | daydom_std &lt;dbl&gt; | daydom_skew &lt;dbl&gt; | daydom_kurt &lt;dbl&gt; | sldlen_min &lt;int&gt; | sldlen_max &lt;int&gt; | sldlen_mean &lt;dbl&gt; | sldlen_rng &lt;int&gt; | sldlen_std &lt;dbl&gt; | sldlen_skew &lt;dbl&gt; | sldlen_kurt &lt;dbl&gt; | gibbs_min &lt;dbl&gt; | gibbs_max &lt;dbl&gt; | gibbs_mean &lt;dbl&gt; | gibbs_rng &lt;dbl&gt; | ⋯ ⋯ | auc_agg_glm &lt;dbl&gt; | auc_seg2_rf &lt;dbl&gt; | auc_seg_rf &lt;dbl&gt; | auc_agg_rf_ALL &lt;dbl&gt; | auc_agg_rf &lt;dbl&gt; | l10_seg2_glm_fb &lt;dbl&gt; | l10_seg_glm_fb &lt;dbl&gt; | l10_agg_glm_fb &lt;dbl&gt; | l10_agg_glm_ALL_fb &lt;dbl&gt; | l10_seg2_rf_fb &lt;dbl&gt; | l10_seg_rf_fb &lt;dbl&gt; | l10_agg_rf_fb &lt;dbl&gt; | l10_agg_rf_ALL_fb &lt;dbl&gt; | auc_seg2_glm_fb &lt;dbl&gt; | auc_seg_glm_fb &lt;dbl&gt; | auc_agg_glm_fb &lt;dbl&gt; | auc_agg_glm_ALL_fb &lt;dbl&gt; | auc_seg2_rf_fb &lt;dbl&gt; | auc_seg_rf_fb &lt;dbl&gt; | auc_agg_rf_fb &lt;dbl&gt; | auc_agg_rf_ALL_fb &lt;dbl&gt; | auc_win_01 &lt;chr&gt; | l10_win_01 &lt;chr&gt; | auc_win_02 &lt;chr&gt; | l10_win_02 &lt;chr&gt; |\n",
       "|---|---|---|---|---|---|---|---|---|---|---|---|---|---|---|---|---|---|---|---|---|---|---|---|---|---|---|---|---|---|---|---|---|---|---|---|---|---|---|---|---|---|---|---|---|---|---|---|---|---|---|---|\n",
       "| 1 | fun1&amp;1 internet     | EU    | 1 |    11 | 0.54545455 | 1 | 9.090909e-02 |  1 |    5 |    2.181818 |    4 |    1.537412 |  0.9266651 | -0.7811140 | 4 | 14 | 7.636364 | 10 | 2.907670 | 0.7720046 | -0.3922768 | 1.71 |   9.01 | 4.655455 |   7.30 | ⋯ | 0.4500000 | 0.5333333 | 0.5333333 | 0.5500000 | 0.6166667 | 1.666667 | 1.666667 | 1.666667 | 1.666667 | 1.666667 | 1.666667 | 1.666667 | 1.666667 | 0.6500000 | 0.6500000 | 0.6500000 | 0.6500000 | 0.6500000 | 0.6500000 | 0.6500000 | 0.6500000 | auc_seg2_glm_fb | l10_seg2_glm_fb | auc_seg2_glm_fb | l10_seg_rf      |\n",
       "| 2 | fun10dencehispahard | EU    | 1 |     2 | 0.00000000 | 1 | 5.000000e-01 |  1 |    1 |    1.000000 |    0 |    0.000000 |         NA |         NA | 5 |  8 | 6.500000 |  3 | 2.121320 | 0.0000000 | -2.7500000 | 3.28 |   8.62 | 5.950000 |   5.34 | ⋯ |        NA |        NA |        NA |        NA |        NA |       NA |       NA |       NA |       NA |       NA |       NA |       NA |       NA |        NA |        NA |        NA |        NA |        NA |        NA |        NA |        NA | NA              | NA              | NA              | NA              |\n",
       "| 3 | fun1api             | EU    | 1 |     8 | 0.50000000 | 1 | 1.250000e-01 |  1 |    1 |    1.000000 |    0 |    0.000000 |         NA |         NA | 4 | 15 | 8.875000 | 11 | 3.522884 | 0.4848693 | -1.1434523 | 2.00 |   6.09 | 4.396250 |   4.09 | ⋯ | 0.4250000 | 0.3500000 | 0.4750000 | 0.3500000 | 0.5500000 | 2.500000 | 2.500000 | 2.500000 | 2.500000 | 2.500000 | 2.500000 | 2.500000 | 2.500000 | 0.4250000 | 0.4250000 | 0.4250000 | 0.4250000 | 0.4250000 | 0.4250000 | 0.4250000 | 0.4250000 | auc_seg2_glm_fb | l10_seg2_glm_fb | auc_agg_glm_ALL | l10_agg_glm_ALL |\n",
       "| 4 | funab name isp      | EU    | 1 |    47 | 0.06382979 | 1 | 2.127660e-02 |  1 |  119 |   82.872340 |  118 |   46.011632 | -0.8738906 | -0.9645903 | 4 | 61 | 9.446809 | 57 | 8.334863 | 5.0179710 | 28.2025571 | 0.28 |  17.92 | 4.695745 |  17.64 | ⋯ | 0.4833333 | 0.6500000 | 0.6500000 | 0.6833333 | 0.7833333 | 6.666667 | 6.666667 | 6.666667 | 6.666667 | 6.666667 | 6.666667 | 6.666667 | 6.666667 | 0.8833333 | 0.8833333 | 0.8833333 | 0.8833333 | 0.8833333 | 0.8833333 | 0.8833333 | 0.8833333 | auc_seg2_glm_fb | l10_seg2_glm_fb | auc_seg2_glm_fb | l10_seg_rf      |\n",
       "| 5 | funactive 24        | EU    | 1 |    25 | 0.20000000 | 1 | 4.000000e-02 |  1 |   14 |    5.040000 |   13 |    5.020624 |  1.0166170 | -0.7554981 | 4 | 19 | 7.080000 | 15 | 3.451087 | 1.9087776 |  3.6548313 | 0.59 | 100.00 | 9.743600 |  99.41 | ⋯ | 0.4700000 | 0.6700000 | 0.6500000 | 0.6500000 | 0.6300000 | 0.000000 | 0.000000 | 0.000000 | 0.000000 | 0.000000 | 0.000000 | 0.000000 | 0.000000 | 0.5300000 | 0.5300000 | 0.5300000 | 0.5300000 | 0.5300000 | 0.5300000 | 0.5300000 | 0.5300000 | auc_agg_rf_ALL  | l10_agg_rf_ALL  | auc_seg2_rf     | l10_seg2_rf     |\n",
       "| 6 | funalibaba          | China | 1 | 35046 | 0.02014495 | 1 | 2.853393e-05 | 19 | 7163 | 1299.015380 | 7144 | 1600.896587 |  2.5691646 |  6.0230231 | 3 | 63 | 6.947155 | 60 | 3.018534 | 2.7839889 | 17.5227635 | 0.00 | 100.00 | 5.653614 | 100.00 | ⋯ | 0.8077904 | 0.9164306 | 0.9165722 | 0.9198300 | 0.9189802 | 5.000000 | 5.028329 | 4.730878 | 4.773371 | 7.762040 | 7.691218 | 7.790368 | 7.832861 | 0.8390935 | 0.8284703 | 0.8077904 | 0.8087819 | 0.9164306 | 0.9165722 | 0.9189802 | 0.9198300 | auc_agg_rf_ALL  | l10_agg_rf_ALL  | auc_agg_rf_ALL  | l10_agg_rf_ALL  |\n",
       "\n"
      ],
      "text/plain": [
       "  tld_registrar_index geo_maj geo_cnt n     ren_prp    tld_cnt tld_rat     \n",
       "1 fun1&1 internet     EU      1          11 0.54545455 1       9.090909e-02\n",
       "2 fun10dencehispahard EU      1           2 0.00000000 1       5.000000e-01\n",
       "3 fun1api             EU      1           8 0.50000000 1       1.250000e-01\n",
       "4 funab name isp      EU      1          47 0.06382979 1       2.127660e-02\n",
       "5 funactive 24        EU      1          25 0.20000000 1       4.000000e-02\n",
       "6 funalibaba          China   1       35046 0.02014495 1       2.853393e-05\n",
       "  daydom_min daydom_max daydom_mean daydom_rng daydom_std  daydom_skew\n",
       "1  1            5          2.181818    4          1.537412  0.9266651 \n",
       "2  1            1          1.000000    0          0.000000         NA \n",
       "3  1            1          1.000000    0          0.000000         NA \n",
       "4  1          119         82.872340  118         46.011632 -0.8738906 \n",
       "5  1           14          5.040000   13          5.020624  1.0166170 \n",
       "6 19         7163       1299.015380 7144       1600.896587  2.5691646 \n",
       "  daydom_kurt sldlen_min sldlen_max sldlen_mean sldlen_rng sldlen_std\n",
       "1 -0.7811140  4          14         7.636364    10         2.907670  \n",
       "2         NA  5           8         6.500000     3         2.121320  \n",
       "3         NA  4          15         8.875000    11         3.522884  \n",
       "4 -0.9645903  4          61         9.446809    57         8.334863  \n",
       "5 -0.7554981  4          19         7.080000    15         3.451087  \n",
       "6  6.0230231  3          63         6.947155    60         3.018534  \n",
       "  sldlen_skew sldlen_kurt gibbs_min gibbs_max gibbs_mean gibbs_rng ⋯\n",
       "1 0.7720046   -0.3922768  1.71        9.01    4.655455     7.30    ⋯\n",
       "2 0.0000000   -2.7500000  3.28        8.62    5.950000     5.34    ⋯\n",
       "3 0.4848693   -1.1434523  2.00        6.09    4.396250     4.09    ⋯\n",
       "4 5.0179710   28.2025571  0.28       17.92    4.695745    17.64    ⋯\n",
       "5 1.9087776    3.6548313  0.59      100.00    9.743600    99.41    ⋯\n",
       "6 2.7839889   17.5227635  0.00      100.00    5.653614   100.00    ⋯\n",
       "  auc_agg_glm auc_seg2_rf auc_seg_rf auc_agg_rf_ALL auc_agg_rf l10_seg2_glm_fb\n",
       "1 0.4500000   0.5333333   0.5333333  0.5500000      0.6166667  1.666667       \n",
       "2        NA          NA          NA         NA             NA        NA       \n",
       "3 0.4250000   0.3500000   0.4750000  0.3500000      0.5500000  2.500000       \n",
       "4 0.4833333   0.6500000   0.6500000  0.6833333      0.7833333  6.666667       \n",
       "5 0.4700000   0.6700000   0.6500000  0.6500000      0.6300000  0.000000       \n",
       "6 0.8077904   0.9164306   0.9165722  0.9198300      0.9189802  5.000000       \n",
       "  l10_seg_glm_fb l10_agg_glm_fb l10_agg_glm_ALL_fb l10_seg2_rf_fb l10_seg_rf_fb\n",
       "1 1.666667       1.666667       1.666667           1.666667       1.666667     \n",
       "2       NA             NA             NA                 NA             NA     \n",
       "3 2.500000       2.500000       2.500000           2.500000       2.500000     \n",
       "4 6.666667       6.666667       6.666667           6.666667       6.666667     \n",
       "5 0.000000       0.000000       0.000000           0.000000       0.000000     \n",
       "6 5.028329       4.730878       4.773371           7.762040       7.691218     \n",
       "  l10_agg_rf_fb l10_agg_rf_ALL_fb auc_seg2_glm_fb auc_seg_glm_fb auc_agg_glm_fb\n",
       "1 1.666667      1.666667          0.6500000       0.6500000      0.6500000     \n",
       "2       NA            NA                 NA              NA             NA     \n",
       "3 2.500000      2.500000          0.4250000       0.4250000      0.4250000     \n",
       "4 6.666667      6.666667          0.8833333       0.8833333      0.8833333     \n",
       "5 0.000000      0.000000          0.5300000       0.5300000      0.5300000     \n",
       "6 7.790368      7.832861          0.8390935       0.8284703      0.8077904     \n",
       "  auc_agg_glm_ALL_fb auc_seg2_rf_fb auc_seg_rf_fb auc_agg_rf_fb\n",
       "1 0.6500000          0.6500000      0.6500000     0.6500000    \n",
       "2        NA                 NA             NA            NA    \n",
       "3 0.4250000          0.4250000      0.4250000     0.4250000    \n",
       "4 0.8833333          0.8833333      0.8833333     0.8833333    \n",
       "5 0.5300000          0.5300000      0.5300000     0.5300000    \n",
       "6 0.8087819          0.9164306      0.9165722     0.9189802    \n",
       "  auc_agg_rf_ALL_fb auc_win_01      l10_win_01      auc_win_02     \n",
       "1 0.6500000         auc_seg2_glm_fb l10_seg2_glm_fb auc_seg2_glm_fb\n",
       "2        NA         NA              NA              NA             \n",
       "3 0.4250000         auc_seg2_glm_fb l10_seg2_glm_fb auc_agg_glm_ALL\n",
       "4 0.8833333         auc_seg2_glm_fb l10_seg2_glm_fb auc_seg2_glm_fb\n",
       "5 0.5300000         auc_agg_rf_ALL  l10_agg_rf_ALL  auc_seg2_rf    \n",
       "6 0.9198300         auc_agg_rf_ALL  l10_agg_rf_ALL  auc_agg_rf_ALL \n",
       "  l10_win_02     \n",
       "1 l10_seg_rf     \n",
       "2 NA             \n",
       "3 l10_agg_glm_ALL\n",
       "4 l10_seg_rf     \n",
       "5 l10_seg2_rf    \n",
       "6 l10_agg_rf_ALL "
      ]
     },
     "metadata": {},
     "output_type": "display_data"
    }
   ],
   "source": [
    "(auc_vars = grep('auc_', names(metametrics_df), value=TRUE))\n",
    "(l10_vars = grep('l10_', names(metametrics_df), value=TRUE))\n",
    "\n",
    "(auc_vars = auc_vars[-grep(\"win\", auc_vars)])\n",
    "(l10_vars = l10_vars[-grep(\"win\", l10_vars)])\n",
    "\n",
    "# auc_vars = c('auc_seg2_glm_fb','auc_agg_rf_fb')\n",
    "# l10_vars = c('l10_seg2_glm_fb','l10_agg_rf_fb')\n",
    "\n",
    "metametrics_df <- metametrics_df %>%\n",
    "    mutate (auc_win_02=sapply(apply(.[,c(auc_vars)], \n",
    "                          1, function(x) names(x)[which.max(x)]) , function(s) if (length(s) == 0) NA else paste(s, collapse = \" \")) ,\n",
    "            l10_win_02=sapply(apply(.[,c(l10_vars)], \n",
    "                          1, function(x) names(x)[which.max(x)]), function(s) if (length(s) == 0) NA else paste(s, collapse = \" \")) \n",
    "            ) \n",
    "                              \n",
    "head(metametrics_df)"
   ]
  },
  {
   "cell_type": "code",
   "execution_count": 38,
   "metadata": {},
   "outputs": [
    {
     "data": {
      "text/html": [
       "<table>\n",
       "<caption>A data.frame: 9 × 2</caption>\n",
       "<thead>\n",
       "\t<tr><th scope=col>Var1</th><th scope=col>Freq</th></tr>\n",
       "\t<tr><th scope=col>&lt;fct&gt;</th><th scope=col>&lt;int&gt;</th></tr>\n",
       "</thead>\n",
       "<tbody>\n",
       "\t<tr><td>auc_seg2_glm_fb</td><td> 44</td></tr>\n",
       "\t<tr><td>auc_agg_glm    </td><td> 57</td></tr>\n",
       "\t<tr><td>auc_agg_glm_ALL</td><td>100</td></tr>\n",
       "\t<tr><td>auc_agg_rf     </td><td>116</td></tr>\n",
       "\t<tr><td>auc_agg_rf_ALL </td><td>145</td></tr>\n",
       "\t<tr><td>auc_seg_glm    </td><td>157</td></tr>\n",
       "\t<tr><td>auc_seg2_rf    </td><td>163</td></tr>\n",
       "\t<tr><td>auc_seg_rf     </td><td>213</td></tr>\n",
       "\t<tr><td>auc_seg2_glm   </td><td>487</td></tr>\n",
       "</tbody>\n",
       "</table>\n"
      ],
      "text/latex": [
       "A data.frame: 9 × 2\n",
       "\\begin{tabular}{ll}\n",
       " Var1 & Freq\\\\\n",
       " <fct> & <int>\\\\\n",
       "\\hline\n",
       "\t auc\\_seg2\\_glm\\_fb &  44\\\\\n",
       "\t auc\\_agg\\_glm     &  57\\\\\n",
       "\t auc\\_agg\\_glm\\_ALL & 100\\\\\n",
       "\t auc\\_agg\\_rf      & 116\\\\\n",
       "\t auc\\_agg\\_rf\\_ALL  & 145\\\\\n",
       "\t auc\\_seg\\_glm     & 157\\\\\n",
       "\t auc\\_seg2\\_rf     & 163\\\\\n",
       "\t auc\\_seg\\_rf      & 213\\\\\n",
       "\t auc\\_seg2\\_glm    & 487\\\\\n",
       "\\end{tabular}\n"
      ],
      "text/markdown": [
       "\n",
       "A data.frame: 9 × 2\n",
       "\n",
       "| Var1 &lt;fct&gt; | Freq &lt;int&gt; |\n",
       "|---|---|\n",
       "| auc_seg2_glm_fb |  44 |\n",
       "| auc_agg_glm     |  57 |\n",
       "| auc_agg_glm_ALL | 100 |\n",
       "| auc_agg_rf      | 116 |\n",
       "| auc_agg_rf_ALL  | 145 |\n",
       "| auc_seg_glm     | 157 |\n",
       "| auc_seg2_rf     | 163 |\n",
       "| auc_seg_rf      | 213 |\n",
       "| auc_seg2_glm    | 487 |\n",
       "\n"
      ],
      "text/plain": [
       "  Var1            Freq\n",
       "1 auc_seg2_glm_fb  44 \n",
       "2 auc_agg_glm      57 \n",
       "3 auc_agg_glm_ALL 100 \n",
       "4 auc_agg_rf      116 \n",
       "5 auc_agg_rf_ALL  145 \n",
       "6 auc_seg_glm     157 \n",
       "7 auc_seg2_rf     163 \n",
       "8 auc_seg_rf      213 \n",
       "9 auc_seg2_glm    487 "
      ]
     },
     "metadata": {},
     "output_type": "display_data"
    },
    {
     "data": {
      "text/html": [
       "<table>\n",
       "<caption>A data.frame: 9 × 2</caption>\n",
       "<thead>\n",
       "\t<tr><th scope=col>Var1</th><th scope=col>Freq</th></tr>\n",
       "\t<tr><th scope=col>&lt;fct&gt;</th><th scope=col>&lt;int&gt;</th></tr>\n",
       "</thead>\n",
       "<tbody>\n",
       "\t<tr><td>l10_seg2_glm_fb</td><td> 21</td></tr>\n",
       "\t<tr><td>l10_agg_glm    </td><td> 36</td></tr>\n",
       "\t<tr><td>l10_agg_rf_ALL </td><td> 53</td></tr>\n",
       "\t<tr><td>l10_agg_glm_ALL</td><td> 81</td></tr>\n",
       "\t<tr><td>l10_agg_rf     </td><td> 81</td></tr>\n",
       "\t<tr><td>l10_seg_rf     </td><td>132</td></tr>\n",
       "\t<tr><td>l10_seg2_rf    </td><td>169</td></tr>\n",
       "\t<tr><td>l10_seg_glm    </td><td>178</td></tr>\n",
       "\t<tr><td>l10_seg2_glm   </td><td>731</td></tr>\n",
       "</tbody>\n",
       "</table>\n"
      ],
      "text/latex": [
       "A data.frame: 9 × 2\n",
       "\\begin{tabular}{ll}\n",
       " Var1 & Freq\\\\\n",
       " <fct> & <int>\\\\\n",
       "\\hline\n",
       "\t l10\\_seg2\\_glm\\_fb &  21\\\\\n",
       "\t l10\\_agg\\_glm     &  36\\\\\n",
       "\t l10\\_agg\\_rf\\_ALL  &  53\\\\\n",
       "\t l10\\_agg\\_glm\\_ALL &  81\\\\\n",
       "\t l10\\_agg\\_rf      &  81\\\\\n",
       "\t l10\\_seg\\_rf      & 132\\\\\n",
       "\t l10\\_seg2\\_rf     & 169\\\\\n",
       "\t l10\\_seg\\_glm     & 178\\\\\n",
       "\t l10\\_seg2\\_glm    & 731\\\\\n",
       "\\end{tabular}\n"
      ],
      "text/markdown": [
       "\n",
       "A data.frame: 9 × 2\n",
       "\n",
       "| Var1 &lt;fct&gt; | Freq &lt;int&gt; |\n",
       "|---|---|\n",
       "| l10_seg2_glm_fb |  21 |\n",
       "| l10_agg_glm     |  36 |\n",
       "| l10_agg_rf_ALL  |  53 |\n",
       "| l10_agg_glm_ALL |  81 |\n",
       "| l10_agg_rf      |  81 |\n",
       "| l10_seg_rf      | 132 |\n",
       "| l10_seg2_rf     | 169 |\n",
       "| l10_seg_glm     | 178 |\n",
       "| l10_seg2_glm    | 731 |\n",
       "\n"
      ],
      "text/plain": [
       "  Var1            Freq\n",
       "1 l10_seg2_glm_fb  21 \n",
       "2 l10_agg_glm      36 \n",
       "3 l10_agg_rf_ALL   53 \n",
       "4 l10_agg_glm_ALL  81 \n",
       "5 l10_agg_rf       81 \n",
       "6 l10_seg_rf      132 \n",
       "7 l10_seg2_rf     169 \n",
       "8 l10_seg_glm     178 \n",
       "9 l10_seg2_glm    731 "
      ]
     },
     "metadata": {},
     "output_type": "display_data"
    }
   ],
   "source": [
    "as.data.frame(sort(table(metametrics_df$auc_win_02)))\n",
    "as.data.frame(sort(table(metametrics_df$l10_win_02)))"
   ]
  },
  {
   "cell_type": "code",
   "execution_count": null,
   "metadata": {},
   "outputs": [],
   "source": [
    "# expiry_test_metametrics %>% \n",
    "#     group_by(auc_win_02) %>%\n",
    "#     tally() %>%\n",
    "#     arrange(desc(n))\n",
    "\n",
    "# expiry_test_metametrics %>% \n",
    "#     group_by(l10_win_02) %>%\n",
    "#     tally() %>%\n",
    "#     arrange(desc(n))"
   ]
  },
  {
   "cell_type": "code",
   "execution_count": 42,
   "metadata": {},
   "outputs": [
    {
     "data": {
      "text/html": [
       "<style>\n",
       ".list-inline {list-style: none; margin:0; padding: 0}\n",
       ".list-inline>li {display: inline-block}\n",
       ".list-inline>li:not(:last-child)::after {content: \"\\00b7\"; padding: 0 .5ex}\n",
       "</style>\n",
       "<ol class=list-inline><li>'auc_seg2_glm'</li><li>'auc_seg2_glm_fb'</li></ol>\n"
      ],
      "text/latex": [
       "\\begin{enumerate*}\n",
       "\\item 'auc\\_seg2\\_glm'\n",
       "\\item 'auc\\_seg2\\_glm\\_fb'\n",
       "\\end{enumerate*}\n"
      ],
      "text/markdown": [
       "1. 'auc_seg2_glm'\n",
       "2. 'auc_seg2_glm_fb'\n",
       "\n",
       "\n"
      ],
      "text/plain": [
       "[1] \"auc_seg2_glm\"    \"auc_seg2_glm_fb\""
      ]
     },
     "metadata": {},
     "output_type": "display_data"
    },
    {
     "data": {
      "text/html": [
       "<style>\n",
       ".list-inline {list-style: none; margin:0; padding: 0}\n",
       ".list-inline>li {display: inline-block}\n",
       ".list-inline>li:not(:last-child)::after {content: \"\\00b7\"; padding: 0 .5ex}\n",
       "</style>\n",
       "<ol class=list-inline><li>'l10_seg2_glm'</li><li>'l10_seg2_glm_fb'</li></ol>\n"
      ],
      "text/latex": [
       "\\begin{enumerate*}\n",
       "\\item 'l10\\_seg2\\_glm'\n",
       "\\item 'l10\\_seg2\\_glm\\_fb'\n",
       "\\end{enumerate*}\n"
      ],
      "text/markdown": [
       "1. 'l10_seg2_glm'\n",
       "2. 'l10_seg2_glm_fb'\n",
       "\n",
       "\n"
      ],
      "text/plain": [
       "[1] \"l10_seg2_glm\"    \"l10_seg2_glm_fb\""
      ]
     },
     "metadata": {},
     "output_type": "display_data"
    },
    {
     "data": {
      "text/html": [
       "<table>\n",
       "<caption>A data.frame: 6 × 84</caption>\n",
       "<thead>\n",
       "\t<tr><th></th><th scope=col>tld_registrar_index</th><th scope=col>geo_maj</th><th scope=col>geo_cnt</th><th scope=col>n</th><th scope=col>ren_prp</th><th scope=col>tld_cnt</th><th scope=col>tld_rat</th><th scope=col>daydom_min</th><th scope=col>daydom_max</th><th scope=col>daydom_mean</th><th scope=col>daydom_rng</th><th scope=col>daydom_std</th><th scope=col>daydom_skew</th><th scope=col>daydom_kurt</th><th scope=col>sldlen_min</th><th scope=col>sldlen_max</th><th scope=col>sldlen_mean</th><th scope=col>sldlen_rng</th><th scope=col>sldlen_std</th><th scope=col>sldlen_skew</th><th scope=col>sldlen_kurt</th><th scope=col>gibbs_min</th><th scope=col>gibbs_max</th><th scope=col>gibbs_mean</th><th scope=col>gibbs_rng</th><th scope=col>⋯</th><th scope=col>auc_seg_rf</th><th scope=col>auc_agg_rf_ALL</th><th scope=col>auc_agg_rf</th><th scope=col>l10_seg2_glm_fb</th><th scope=col>l10_seg_glm_fb</th><th scope=col>l10_agg_glm_fb</th><th scope=col>l10_agg_glm_ALL_fb</th><th scope=col>l10_seg2_rf_fb</th><th scope=col>l10_seg_rf_fb</th><th scope=col>l10_agg_rf_fb</th><th scope=col>l10_agg_rf_ALL_fb</th><th scope=col>auc_seg2_glm_fb</th><th scope=col>auc_seg_glm_fb</th><th scope=col>auc_agg_glm_fb</th><th scope=col>auc_agg_glm_ALL_fb</th><th scope=col>auc_seg2_rf_fb</th><th scope=col>auc_seg_rf_fb</th><th scope=col>auc_agg_rf_fb</th><th scope=col>auc_agg_rf_ALL_fb</th><th scope=col>auc_win_01</th><th scope=col>l10_win_01</th><th scope=col>auc_win_02</th><th scope=col>l10_win_02</th><th scope=col>auc_win_03</th><th scope=col>l10_win_03</th></tr>\n",
       "\t<tr><th></th><th scope=col>&lt;fct&gt;</th><th scope=col>&lt;fct&gt;</th><th scope=col>&lt;int&gt;</th><th scope=col>&lt;int&gt;</th><th scope=col>&lt;dbl&gt;</th><th scope=col>&lt;int&gt;</th><th scope=col>&lt;dbl&gt;</th><th scope=col>&lt;int&gt;</th><th scope=col>&lt;int&gt;</th><th scope=col>&lt;dbl&gt;</th><th scope=col>&lt;int&gt;</th><th scope=col>&lt;dbl&gt;</th><th scope=col>&lt;dbl&gt;</th><th scope=col>&lt;dbl&gt;</th><th scope=col>&lt;int&gt;</th><th scope=col>&lt;int&gt;</th><th scope=col>&lt;dbl&gt;</th><th scope=col>&lt;int&gt;</th><th scope=col>&lt;dbl&gt;</th><th scope=col>&lt;dbl&gt;</th><th scope=col>&lt;dbl&gt;</th><th scope=col>&lt;dbl&gt;</th><th scope=col>&lt;dbl&gt;</th><th scope=col>&lt;dbl&gt;</th><th scope=col>&lt;dbl&gt;</th><th scope=col>⋯</th><th scope=col>&lt;dbl&gt;</th><th scope=col>&lt;dbl&gt;</th><th scope=col>&lt;dbl&gt;</th><th scope=col>&lt;dbl&gt;</th><th scope=col>&lt;dbl&gt;</th><th scope=col>&lt;dbl&gt;</th><th scope=col>&lt;dbl&gt;</th><th scope=col>&lt;dbl&gt;</th><th scope=col>&lt;dbl&gt;</th><th scope=col>&lt;dbl&gt;</th><th scope=col>&lt;dbl&gt;</th><th scope=col>&lt;dbl&gt;</th><th scope=col>&lt;dbl&gt;</th><th scope=col>&lt;dbl&gt;</th><th scope=col>&lt;dbl&gt;</th><th scope=col>&lt;dbl&gt;</th><th scope=col>&lt;dbl&gt;</th><th scope=col>&lt;dbl&gt;</th><th scope=col>&lt;dbl&gt;</th><th scope=col>&lt;chr&gt;</th><th scope=col>&lt;chr&gt;</th><th scope=col>&lt;chr&gt;</th><th scope=col>&lt;chr&gt;</th><th scope=col>&lt;chr&gt;</th><th scope=col>&lt;chr&gt;</th></tr>\n",
       "</thead>\n",
       "<tbody>\n",
       "\t<tr><th scope=row>1</th><td><span style=white-space:pre-wrap>fun1&amp;1 internet    </span></td><td><span style=white-space:pre-wrap>EU   </span></td><td>1</td><td><span style=white-space:pre-wrap>   11</span></td><td>0.54545455</td><td>1</td><td>9.090909e-02</td><td> 1</td><td><span style=white-space:pre-wrap>   5</span></td><td><span style=white-space:pre-wrap>   2.181818</span></td><td><span style=white-space:pre-wrap>   4</span></td><td><span style=white-space:pre-wrap>   1.537412</span></td><td> 0.9266651</td><td>-0.7811140</td><td>4</td><td>14</td><td>7.636364</td><td>10</td><td>2.907670</td><td>0.7720046</td><td>-0.3922768</td><td>1.71</td><td><span style=white-space:pre-wrap>  9.01</span></td><td>4.655455</td><td><span style=white-space:pre-wrap>  7.30</span></td><td>⋯</td><td>0.5333333</td><td>0.5500000</td><td>0.6166667</td><td>1.666667</td><td>1.666667</td><td>1.666667</td><td>1.666667</td><td>1.666667</td><td>1.666667</td><td>1.666667</td><td>1.666667</td><td>0.6500000</td><td>0.6500000</td><td>0.6500000</td><td>0.6500000</td><td>0.6500000</td><td>0.6500000</td><td>0.6500000</td><td>0.6500000</td><td>auc_seg2_glm_fb</td><td>l10_seg2_glm_fb</td><td>auc_seg2_glm_fb</td><td><span style=white-space:pre-wrap>l10_seg_rf     </span></td><td>auc_seg2_glm_fb</td><td>l10_seg2_glm_fb</td></tr>\n",
       "\t<tr><th scope=row>2</th><td>fun10dencehispahard</td><td>EU   </td><td>1</td><td>    2</td><td>0.00000000</td><td>1</td><td>5.000000e-01</td><td> 1</td><td>   1</td><td>   1.000000</td><td>   0</td><td>   0.000000</td><td>        NA</td><td>        NA</td><td>5</td><td> 8</td><td>6.500000</td><td> 3</td><td>2.121320</td><td>0.0000000</td><td>-2.7500000</td><td>3.28</td><td>  8.62</td><td>5.950000</td><td>  5.34</td><td>⋯</td><td>       NA</td><td>       NA</td><td>       NA</td><td>      NA</td><td>      NA</td><td>      NA</td><td>      NA</td><td>      NA</td><td>      NA</td><td>      NA</td><td>      NA</td><td>       NA</td><td>       NA</td><td>       NA</td><td>       NA</td><td>       NA</td><td>       NA</td><td>       NA</td><td>       NA</td><td>NA             </td><td>NA             </td><td>NA             </td><td>NA             </td><td>NA             </td><td>NA             </td></tr>\n",
       "\t<tr><th scope=row>3</th><td>fun1api            </td><td>EU   </td><td>1</td><td>    8</td><td>0.50000000</td><td>1</td><td>1.250000e-01</td><td> 1</td><td>   1</td><td>   1.000000</td><td>   0</td><td>   0.000000</td><td>        NA</td><td>        NA</td><td>4</td><td>15</td><td>8.875000</td><td>11</td><td>3.522884</td><td>0.4848693</td><td>-1.1434523</td><td>2.00</td><td>  6.09</td><td>4.396250</td><td>  4.09</td><td>⋯</td><td>0.4750000</td><td>0.3500000</td><td>0.5500000</td><td>2.500000</td><td>2.500000</td><td>2.500000</td><td>2.500000</td><td>2.500000</td><td>2.500000</td><td>2.500000</td><td>2.500000</td><td>0.4250000</td><td>0.4250000</td><td>0.4250000</td><td>0.4250000</td><td>0.4250000</td><td>0.4250000</td><td>0.4250000</td><td>0.4250000</td><td>auc_seg2_glm_fb</td><td>l10_seg2_glm_fb</td><td>auc_agg_glm_ALL</td><td>l10_agg_glm_ALL</td><td>auc_seg2_glm_fb</td><td>l10_seg2_glm_fb</td></tr>\n",
       "\t<tr><th scope=row>4</th><td>funab name isp     </td><td>EU   </td><td>1</td><td>   47</td><td>0.06382979</td><td>1</td><td>2.127660e-02</td><td> 1</td><td> 119</td><td>  82.872340</td><td> 118</td><td>  46.011632</td><td>-0.8738906</td><td>-0.9645903</td><td>4</td><td>61</td><td>9.446809</td><td>57</td><td>8.334863</td><td>5.0179710</td><td>28.2025571</td><td>0.28</td><td> 17.92</td><td>4.695745</td><td> 17.64</td><td>⋯</td><td>0.6500000</td><td>0.6833333</td><td>0.7833333</td><td>6.666667</td><td>6.666667</td><td>6.666667</td><td>6.666667</td><td>6.666667</td><td>6.666667</td><td>6.666667</td><td>6.666667</td><td>0.8833333</td><td>0.8833333</td><td>0.8833333</td><td>0.8833333</td><td>0.8833333</td><td>0.8833333</td><td>0.8833333</td><td>0.8833333</td><td>auc_seg2_glm_fb</td><td>l10_seg2_glm_fb</td><td>auc_seg2_glm_fb</td><td>l10_seg_rf     </td><td>auc_seg2_glm_fb</td><td>l10_seg2_glm_fb</td></tr>\n",
       "\t<tr><th scope=row>5</th><td>funactive 24       </td><td>EU   </td><td>1</td><td>   25</td><td>0.20000000</td><td>1</td><td>4.000000e-02</td><td> 1</td><td>  14</td><td>   5.040000</td><td>  13</td><td>   5.020624</td><td> 1.0166170</td><td>-0.7554981</td><td>4</td><td>19</td><td>7.080000</td><td>15</td><td>3.451087</td><td>1.9087776</td><td> 3.6548313</td><td>0.59</td><td>100.00</td><td>9.743600</td><td> 99.41</td><td>⋯</td><td>0.6500000</td><td>0.6500000</td><td>0.6300000</td><td>0.000000</td><td>0.000000</td><td>0.000000</td><td>0.000000</td><td>0.000000</td><td>0.000000</td><td>0.000000</td><td>0.000000</td><td>0.5300000</td><td>0.5300000</td><td>0.5300000</td><td>0.5300000</td><td>0.5300000</td><td>0.5300000</td><td>0.5300000</td><td>0.5300000</td><td>auc_agg_rf_ALL </td><td>l10_agg_rf_ALL </td><td>auc_seg2_rf    </td><td>l10_seg2_rf    </td><td>auc_seg2_glm   </td><td>l10_seg2_glm   </td></tr>\n",
       "\t<tr><th scope=row>6</th><td>funalibaba         </td><td>China</td><td>1</td><td>35046</td><td>0.02014495</td><td>1</td><td>2.853393e-05</td><td>19</td><td>7163</td><td>1299.015380</td><td>7144</td><td>1600.896587</td><td> 2.5691646</td><td> 6.0230231</td><td>3</td><td>63</td><td>6.947155</td><td>60</td><td>3.018534</td><td>2.7839889</td><td>17.5227635</td><td>0.00</td><td>100.00</td><td>5.653614</td><td>100.00</td><td>⋯</td><td>0.9165722</td><td>0.9198300</td><td>0.9189802</td><td>5.000000</td><td>5.028329</td><td>4.730878</td><td>4.773371</td><td>7.762040</td><td>7.691218</td><td>7.790368</td><td>7.832861</td><td>0.8390935</td><td>0.8284703</td><td>0.8077904</td><td>0.8087819</td><td>0.9164306</td><td>0.9165722</td><td>0.9189802</td><td>0.9198300</td><td>auc_agg_rf_ALL </td><td>l10_agg_rf_ALL </td><td>auc_agg_rf_ALL </td><td>l10_agg_rf_ALL </td><td>auc_seg2_glm   </td><td>l10_seg2_glm   </td></tr>\n",
       "</tbody>\n",
       "</table>\n"
      ],
      "text/latex": [
       "A data.frame: 6 × 84\n",
       "\\begin{tabular}{r|lllllllllllllllllllllllllllllllllllllllllllllllllll}\n",
       "  & tld\\_registrar\\_index & geo\\_maj & geo\\_cnt & n & ren\\_prp & tld\\_cnt & tld\\_rat & daydom\\_min & daydom\\_max & daydom\\_mean & daydom\\_rng & daydom\\_std & daydom\\_skew & daydom\\_kurt & sldlen\\_min & sldlen\\_max & sldlen\\_mean & sldlen\\_rng & sldlen\\_std & sldlen\\_skew & sldlen\\_kurt & gibbs\\_min & gibbs\\_max & gibbs\\_mean & gibbs\\_rng & ⋯ & auc\\_seg\\_rf & auc\\_agg\\_rf\\_ALL & auc\\_agg\\_rf & l10\\_seg2\\_glm\\_fb & l10\\_seg\\_glm\\_fb & l10\\_agg\\_glm\\_fb & l10\\_agg\\_glm\\_ALL\\_fb & l10\\_seg2\\_rf\\_fb & l10\\_seg\\_rf\\_fb & l10\\_agg\\_rf\\_fb & l10\\_agg\\_rf\\_ALL\\_fb & auc\\_seg2\\_glm\\_fb & auc\\_seg\\_glm\\_fb & auc\\_agg\\_glm\\_fb & auc\\_agg\\_glm\\_ALL\\_fb & auc\\_seg2\\_rf\\_fb & auc\\_seg\\_rf\\_fb & auc\\_agg\\_rf\\_fb & auc\\_agg\\_rf\\_ALL\\_fb & auc\\_win\\_01 & l10\\_win\\_01 & auc\\_win\\_02 & l10\\_win\\_02 & auc\\_win\\_03 & l10\\_win\\_03\\\\\n",
       "  & <fct> & <fct> & <int> & <int> & <dbl> & <int> & <dbl> & <int> & <int> & <dbl> & <int> & <dbl> & <dbl> & <dbl> & <int> & <int> & <dbl> & <int> & <dbl> & <dbl> & <dbl> & <dbl> & <dbl> & <dbl> & <dbl> & ⋯ & <dbl> & <dbl> & <dbl> & <dbl> & <dbl> & <dbl> & <dbl> & <dbl> & <dbl> & <dbl> & <dbl> & <dbl> & <dbl> & <dbl> & <dbl> & <dbl> & <dbl> & <dbl> & <dbl> & <chr> & <chr> & <chr> & <chr> & <chr> & <chr>\\\\\n",
       "\\hline\n",
       "\t1 & fun1\\&1 internet     & EU    & 1 &    11 & 0.54545455 & 1 & 9.090909e-02 &  1 &    5 &    2.181818 &    4 &    1.537412 &  0.9266651 & -0.7811140 & 4 & 14 & 7.636364 & 10 & 2.907670 & 0.7720046 & -0.3922768 & 1.71 &   9.01 & 4.655455 &   7.30 & ⋯ & 0.5333333 & 0.5500000 & 0.6166667 & 1.666667 & 1.666667 & 1.666667 & 1.666667 & 1.666667 & 1.666667 & 1.666667 & 1.666667 & 0.6500000 & 0.6500000 & 0.6500000 & 0.6500000 & 0.6500000 & 0.6500000 & 0.6500000 & 0.6500000 & auc\\_seg2\\_glm\\_fb & l10\\_seg2\\_glm\\_fb & auc\\_seg2\\_glm\\_fb & l10\\_seg\\_rf      & auc\\_seg2\\_glm\\_fb & l10\\_seg2\\_glm\\_fb\\\\\n",
       "\t2 & fun10dencehispahard & EU    & 1 &     2 & 0.00000000 & 1 & 5.000000e-01 &  1 &    1 &    1.000000 &    0 &    0.000000 &         NA &         NA & 5 &  8 & 6.500000 &  3 & 2.121320 & 0.0000000 & -2.7500000 & 3.28 &   8.62 & 5.950000 &   5.34 & ⋯ &        NA &        NA &        NA &       NA &       NA &       NA &       NA &       NA &       NA &       NA &       NA &        NA &        NA &        NA &        NA &        NA &        NA &        NA &        NA & NA              & NA              & NA              & NA              & NA              & NA             \\\\\n",
       "\t3 & fun1api             & EU    & 1 &     8 & 0.50000000 & 1 & 1.250000e-01 &  1 &    1 &    1.000000 &    0 &    0.000000 &         NA &         NA & 4 & 15 & 8.875000 & 11 & 3.522884 & 0.4848693 & -1.1434523 & 2.00 &   6.09 & 4.396250 &   4.09 & ⋯ & 0.4750000 & 0.3500000 & 0.5500000 & 2.500000 & 2.500000 & 2.500000 & 2.500000 & 2.500000 & 2.500000 & 2.500000 & 2.500000 & 0.4250000 & 0.4250000 & 0.4250000 & 0.4250000 & 0.4250000 & 0.4250000 & 0.4250000 & 0.4250000 & auc\\_seg2\\_glm\\_fb & l10\\_seg2\\_glm\\_fb & auc\\_agg\\_glm\\_ALL & l10\\_agg\\_glm\\_ALL & auc\\_seg2\\_glm\\_fb & l10\\_seg2\\_glm\\_fb\\\\\n",
       "\t4 & funab name isp      & EU    & 1 &    47 & 0.06382979 & 1 & 2.127660e-02 &  1 &  119 &   82.872340 &  118 &   46.011632 & -0.8738906 & -0.9645903 & 4 & 61 & 9.446809 & 57 & 8.334863 & 5.0179710 & 28.2025571 & 0.28 &  17.92 & 4.695745 &  17.64 & ⋯ & 0.6500000 & 0.6833333 & 0.7833333 & 6.666667 & 6.666667 & 6.666667 & 6.666667 & 6.666667 & 6.666667 & 6.666667 & 6.666667 & 0.8833333 & 0.8833333 & 0.8833333 & 0.8833333 & 0.8833333 & 0.8833333 & 0.8833333 & 0.8833333 & auc\\_seg2\\_glm\\_fb & l10\\_seg2\\_glm\\_fb & auc\\_seg2\\_glm\\_fb & l10\\_seg\\_rf      & auc\\_seg2\\_glm\\_fb & l10\\_seg2\\_glm\\_fb\\\\\n",
       "\t5 & funactive 24        & EU    & 1 &    25 & 0.20000000 & 1 & 4.000000e-02 &  1 &   14 &    5.040000 &   13 &    5.020624 &  1.0166170 & -0.7554981 & 4 & 19 & 7.080000 & 15 & 3.451087 & 1.9087776 &  3.6548313 & 0.59 & 100.00 & 9.743600 &  99.41 & ⋯ & 0.6500000 & 0.6500000 & 0.6300000 & 0.000000 & 0.000000 & 0.000000 & 0.000000 & 0.000000 & 0.000000 & 0.000000 & 0.000000 & 0.5300000 & 0.5300000 & 0.5300000 & 0.5300000 & 0.5300000 & 0.5300000 & 0.5300000 & 0.5300000 & auc\\_agg\\_rf\\_ALL  & l10\\_agg\\_rf\\_ALL  & auc\\_seg2\\_rf     & l10\\_seg2\\_rf     & auc\\_seg2\\_glm    & l10\\_seg2\\_glm   \\\\\n",
       "\t6 & funalibaba          & China & 1 & 35046 & 0.02014495 & 1 & 2.853393e-05 & 19 & 7163 & 1299.015380 & 7144 & 1600.896587 &  2.5691646 &  6.0230231 & 3 & 63 & 6.947155 & 60 & 3.018534 & 2.7839889 & 17.5227635 & 0.00 & 100.00 & 5.653614 & 100.00 & ⋯ & 0.9165722 & 0.9198300 & 0.9189802 & 5.000000 & 5.028329 & 4.730878 & 4.773371 & 7.762040 & 7.691218 & 7.790368 & 7.832861 & 0.8390935 & 0.8284703 & 0.8077904 & 0.8087819 & 0.9164306 & 0.9165722 & 0.9189802 & 0.9198300 & auc\\_agg\\_rf\\_ALL  & l10\\_agg\\_rf\\_ALL  & auc\\_agg\\_rf\\_ALL  & l10\\_agg\\_rf\\_ALL  & auc\\_seg2\\_glm    & l10\\_seg2\\_glm   \\\\\n",
       "\\end{tabular}\n"
      ],
      "text/markdown": [
       "\n",
       "A data.frame: 6 × 84\n",
       "\n",
       "| <!--/--> | tld_registrar_index &lt;fct&gt; | geo_maj &lt;fct&gt; | geo_cnt &lt;int&gt; | n &lt;int&gt; | ren_prp &lt;dbl&gt; | tld_cnt &lt;int&gt; | tld_rat &lt;dbl&gt; | daydom_min &lt;int&gt; | daydom_max &lt;int&gt; | daydom_mean &lt;dbl&gt; | daydom_rng &lt;int&gt; | daydom_std &lt;dbl&gt; | daydom_skew &lt;dbl&gt; | daydom_kurt &lt;dbl&gt; | sldlen_min &lt;int&gt; | sldlen_max &lt;int&gt; | sldlen_mean &lt;dbl&gt; | sldlen_rng &lt;int&gt; | sldlen_std &lt;dbl&gt; | sldlen_skew &lt;dbl&gt; | sldlen_kurt &lt;dbl&gt; | gibbs_min &lt;dbl&gt; | gibbs_max &lt;dbl&gt; | gibbs_mean &lt;dbl&gt; | gibbs_rng &lt;dbl&gt; | ⋯ ⋯ | auc_seg_rf &lt;dbl&gt; | auc_agg_rf_ALL &lt;dbl&gt; | auc_agg_rf &lt;dbl&gt; | l10_seg2_glm_fb &lt;dbl&gt; | l10_seg_glm_fb &lt;dbl&gt; | l10_agg_glm_fb &lt;dbl&gt; | l10_agg_glm_ALL_fb &lt;dbl&gt; | l10_seg2_rf_fb &lt;dbl&gt; | l10_seg_rf_fb &lt;dbl&gt; | l10_agg_rf_fb &lt;dbl&gt; | l10_agg_rf_ALL_fb &lt;dbl&gt; | auc_seg2_glm_fb &lt;dbl&gt; | auc_seg_glm_fb &lt;dbl&gt; | auc_agg_glm_fb &lt;dbl&gt; | auc_agg_glm_ALL_fb &lt;dbl&gt; | auc_seg2_rf_fb &lt;dbl&gt; | auc_seg_rf_fb &lt;dbl&gt; | auc_agg_rf_fb &lt;dbl&gt; | auc_agg_rf_ALL_fb &lt;dbl&gt; | auc_win_01 &lt;chr&gt; | l10_win_01 &lt;chr&gt; | auc_win_02 &lt;chr&gt; | l10_win_02 &lt;chr&gt; | auc_win_03 &lt;chr&gt; | l10_win_03 &lt;chr&gt; |\n",
       "|---|---|---|---|---|---|---|---|---|---|---|---|---|---|---|---|---|---|---|---|---|---|---|---|---|---|---|---|---|---|---|---|---|---|---|---|---|---|---|---|---|---|---|---|---|---|---|---|---|---|---|---|\n",
       "| 1 | fun1&amp;1 internet     | EU    | 1 |    11 | 0.54545455 | 1 | 9.090909e-02 |  1 |    5 |    2.181818 |    4 |    1.537412 |  0.9266651 | -0.7811140 | 4 | 14 | 7.636364 | 10 | 2.907670 | 0.7720046 | -0.3922768 | 1.71 |   9.01 | 4.655455 |   7.30 | ⋯ | 0.5333333 | 0.5500000 | 0.6166667 | 1.666667 | 1.666667 | 1.666667 | 1.666667 | 1.666667 | 1.666667 | 1.666667 | 1.666667 | 0.6500000 | 0.6500000 | 0.6500000 | 0.6500000 | 0.6500000 | 0.6500000 | 0.6500000 | 0.6500000 | auc_seg2_glm_fb | l10_seg2_glm_fb | auc_seg2_glm_fb | l10_seg_rf      | auc_seg2_glm_fb | l10_seg2_glm_fb |\n",
       "| 2 | fun10dencehispahard | EU    | 1 |     2 | 0.00000000 | 1 | 5.000000e-01 |  1 |    1 |    1.000000 |    0 |    0.000000 |         NA |         NA | 5 |  8 | 6.500000 |  3 | 2.121320 | 0.0000000 | -2.7500000 | 3.28 |   8.62 | 5.950000 |   5.34 | ⋯ |        NA |        NA |        NA |       NA |       NA |       NA |       NA |       NA |       NA |       NA |       NA |        NA |        NA |        NA |        NA |        NA |        NA |        NA |        NA | NA              | NA              | NA              | NA              | NA              | NA              |\n",
       "| 3 | fun1api             | EU    | 1 |     8 | 0.50000000 | 1 | 1.250000e-01 |  1 |    1 |    1.000000 |    0 |    0.000000 |         NA |         NA | 4 | 15 | 8.875000 | 11 | 3.522884 | 0.4848693 | -1.1434523 | 2.00 |   6.09 | 4.396250 |   4.09 | ⋯ | 0.4750000 | 0.3500000 | 0.5500000 | 2.500000 | 2.500000 | 2.500000 | 2.500000 | 2.500000 | 2.500000 | 2.500000 | 2.500000 | 0.4250000 | 0.4250000 | 0.4250000 | 0.4250000 | 0.4250000 | 0.4250000 | 0.4250000 | 0.4250000 | auc_seg2_glm_fb | l10_seg2_glm_fb | auc_agg_glm_ALL | l10_agg_glm_ALL | auc_seg2_glm_fb | l10_seg2_glm_fb |\n",
       "| 4 | funab name isp      | EU    | 1 |    47 | 0.06382979 | 1 | 2.127660e-02 |  1 |  119 |   82.872340 |  118 |   46.011632 | -0.8738906 | -0.9645903 | 4 | 61 | 9.446809 | 57 | 8.334863 | 5.0179710 | 28.2025571 | 0.28 |  17.92 | 4.695745 |  17.64 | ⋯ | 0.6500000 | 0.6833333 | 0.7833333 | 6.666667 | 6.666667 | 6.666667 | 6.666667 | 6.666667 | 6.666667 | 6.666667 | 6.666667 | 0.8833333 | 0.8833333 | 0.8833333 | 0.8833333 | 0.8833333 | 0.8833333 | 0.8833333 | 0.8833333 | auc_seg2_glm_fb | l10_seg2_glm_fb | auc_seg2_glm_fb | l10_seg_rf      | auc_seg2_glm_fb | l10_seg2_glm_fb |\n",
       "| 5 | funactive 24        | EU    | 1 |    25 | 0.20000000 | 1 | 4.000000e-02 |  1 |   14 |    5.040000 |   13 |    5.020624 |  1.0166170 | -0.7554981 | 4 | 19 | 7.080000 | 15 | 3.451087 | 1.9087776 |  3.6548313 | 0.59 | 100.00 | 9.743600 |  99.41 | ⋯ | 0.6500000 | 0.6500000 | 0.6300000 | 0.000000 | 0.000000 | 0.000000 | 0.000000 | 0.000000 | 0.000000 | 0.000000 | 0.000000 | 0.5300000 | 0.5300000 | 0.5300000 | 0.5300000 | 0.5300000 | 0.5300000 | 0.5300000 | 0.5300000 | auc_agg_rf_ALL  | l10_agg_rf_ALL  | auc_seg2_rf     | l10_seg2_rf     | auc_seg2_glm    | l10_seg2_glm    |\n",
       "| 6 | funalibaba          | China | 1 | 35046 | 0.02014495 | 1 | 2.853393e-05 | 19 | 7163 | 1299.015380 | 7144 | 1600.896587 |  2.5691646 |  6.0230231 | 3 | 63 | 6.947155 | 60 | 3.018534 | 2.7839889 | 17.5227635 | 0.00 | 100.00 | 5.653614 | 100.00 | ⋯ | 0.9165722 | 0.9198300 | 0.9189802 | 5.000000 | 5.028329 | 4.730878 | 4.773371 | 7.762040 | 7.691218 | 7.790368 | 7.832861 | 0.8390935 | 0.8284703 | 0.8077904 | 0.8087819 | 0.9164306 | 0.9165722 | 0.9189802 | 0.9198300 | auc_agg_rf_ALL  | l10_agg_rf_ALL  | auc_agg_rf_ALL  | l10_agg_rf_ALL  | auc_seg2_glm    | l10_seg2_glm    |\n",
       "\n"
      ],
      "text/plain": [
       "  tld_registrar_index geo_maj geo_cnt n     ren_prp    tld_cnt tld_rat     \n",
       "1 fun1&1 internet     EU      1          11 0.54545455 1       9.090909e-02\n",
       "2 fun10dencehispahard EU      1           2 0.00000000 1       5.000000e-01\n",
       "3 fun1api             EU      1           8 0.50000000 1       1.250000e-01\n",
       "4 funab name isp      EU      1          47 0.06382979 1       2.127660e-02\n",
       "5 funactive 24        EU      1          25 0.20000000 1       4.000000e-02\n",
       "6 funalibaba          China   1       35046 0.02014495 1       2.853393e-05\n",
       "  daydom_min daydom_max daydom_mean daydom_rng daydom_std  daydom_skew\n",
       "1  1            5          2.181818    4          1.537412  0.9266651 \n",
       "2  1            1          1.000000    0          0.000000         NA \n",
       "3  1            1          1.000000    0          0.000000         NA \n",
       "4  1          119         82.872340  118         46.011632 -0.8738906 \n",
       "5  1           14          5.040000   13          5.020624  1.0166170 \n",
       "6 19         7163       1299.015380 7144       1600.896587  2.5691646 \n",
       "  daydom_kurt sldlen_min sldlen_max sldlen_mean sldlen_rng sldlen_std\n",
       "1 -0.7811140  4          14         7.636364    10         2.907670  \n",
       "2         NA  5           8         6.500000     3         2.121320  \n",
       "3         NA  4          15         8.875000    11         3.522884  \n",
       "4 -0.9645903  4          61         9.446809    57         8.334863  \n",
       "5 -0.7554981  4          19         7.080000    15         3.451087  \n",
       "6  6.0230231  3          63         6.947155    60         3.018534  \n",
       "  sldlen_skew sldlen_kurt gibbs_min gibbs_max gibbs_mean gibbs_rng ⋯ auc_seg_rf\n",
       "1 0.7720046   -0.3922768  1.71        9.01    4.655455     7.30    ⋯ 0.5333333 \n",
       "2 0.0000000   -2.7500000  3.28        8.62    5.950000     5.34    ⋯        NA \n",
       "3 0.4848693   -1.1434523  2.00        6.09    4.396250     4.09    ⋯ 0.4750000 \n",
       "4 5.0179710   28.2025571  0.28       17.92    4.695745    17.64    ⋯ 0.6500000 \n",
       "5 1.9087776    3.6548313  0.59      100.00    9.743600    99.41    ⋯ 0.6500000 \n",
       "6 2.7839889   17.5227635  0.00      100.00    5.653614   100.00    ⋯ 0.9165722 \n",
       "  auc_agg_rf_ALL auc_agg_rf l10_seg2_glm_fb l10_seg_glm_fb l10_agg_glm_fb\n",
       "1 0.5500000      0.6166667  1.666667        1.666667       1.666667      \n",
       "2        NA             NA        NA              NA             NA      \n",
       "3 0.3500000      0.5500000  2.500000        2.500000       2.500000      \n",
       "4 0.6833333      0.7833333  6.666667        6.666667       6.666667      \n",
       "5 0.6500000      0.6300000  0.000000        0.000000       0.000000      \n",
       "6 0.9198300      0.9189802  5.000000        5.028329       4.730878      \n",
       "  l10_agg_glm_ALL_fb l10_seg2_rf_fb l10_seg_rf_fb l10_agg_rf_fb\n",
       "1 1.666667           1.666667       1.666667      1.666667     \n",
       "2       NA                 NA             NA            NA     \n",
       "3 2.500000           2.500000       2.500000      2.500000     \n",
       "4 6.666667           6.666667       6.666667      6.666667     \n",
       "5 0.000000           0.000000       0.000000      0.000000     \n",
       "6 4.773371           7.762040       7.691218      7.790368     \n",
       "  l10_agg_rf_ALL_fb auc_seg2_glm_fb auc_seg_glm_fb auc_agg_glm_fb\n",
       "1 1.666667          0.6500000       0.6500000      0.6500000     \n",
       "2       NA                 NA              NA             NA     \n",
       "3 2.500000          0.4250000       0.4250000      0.4250000     \n",
       "4 6.666667          0.8833333       0.8833333      0.8833333     \n",
       "5 0.000000          0.5300000       0.5300000      0.5300000     \n",
       "6 7.832861          0.8390935       0.8284703      0.8077904     \n",
       "  auc_agg_glm_ALL_fb auc_seg2_rf_fb auc_seg_rf_fb auc_agg_rf_fb\n",
       "1 0.6500000          0.6500000      0.6500000     0.6500000    \n",
       "2        NA                 NA             NA            NA    \n",
       "3 0.4250000          0.4250000      0.4250000     0.4250000    \n",
       "4 0.8833333          0.8833333      0.8833333     0.8833333    \n",
       "5 0.5300000          0.5300000      0.5300000     0.5300000    \n",
       "6 0.8087819          0.9164306      0.9165722     0.9189802    \n",
       "  auc_agg_rf_ALL_fb auc_win_01      l10_win_01      auc_win_02     \n",
       "1 0.6500000         auc_seg2_glm_fb l10_seg2_glm_fb auc_seg2_glm_fb\n",
       "2        NA         NA              NA              NA             \n",
       "3 0.4250000         auc_seg2_glm_fb l10_seg2_glm_fb auc_agg_glm_ALL\n",
       "4 0.8833333         auc_seg2_glm_fb l10_seg2_glm_fb auc_seg2_glm_fb\n",
       "5 0.5300000         auc_agg_rf_ALL  l10_agg_rf_ALL  auc_seg2_rf    \n",
       "6 0.9198300         auc_agg_rf_ALL  l10_agg_rf_ALL  auc_agg_rf_ALL \n",
       "  l10_win_02      auc_win_03      l10_win_03     \n",
       "1 l10_seg_rf      auc_seg2_glm_fb l10_seg2_glm_fb\n",
       "2 NA              NA              NA             \n",
       "3 l10_agg_glm_ALL auc_seg2_glm_fb l10_seg2_glm_fb\n",
       "4 l10_seg_rf      auc_seg2_glm_fb l10_seg2_glm_fb\n",
       "5 l10_seg2_rf     auc_seg2_glm    l10_seg2_glm   \n",
       "6 l10_agg_rf_ALL  auc_seg2_glm    l10_seg2_glm   "
      ]
     },
     "metadata": {},
     "output_type": "display_data"
    }
   ],
   "source": [
    "## test another auc_win and l10_win with just seg2_glm fallback and non fallback\n",
    "\n",
    "(auc_vars = grep('auc_seg2_glm', names(metametrics_df), value=TRUE))\n",
    "(l10_vars = grep('l10_seg2_glm', names(metametrics_df), value=TRUE))\n",
    "\n",
    "# (auc_vars = auc_vars[-grep(\"win\", auc_vars)])\n",
    "# (l10_vars = l10_vars[-grep(\"win\", l10_vars)])\n",
    "\n",
    "# auc_vars = c('auc_seg2_glm_fb','auc_agg_rf_fb')\n",
    "# l10_vars = c('l10_seg2_glm_fb','l10_agg_rf_fb')\n",
    "\n",
    "metametrics_df <- metametrics_df %>%\n",
    "    mutate (auc_win_03=sapply(apply(.[,c(auc_vars)], \n",
    "                          1, function(x) names(x)[which.max(x)]) , function(s) if (length(s) == 0) NA else paste(s, collapse = \" \")) ,\n",
    "            l10_win_03=sapply(apply(.[,c(l10_vars)], \n",
    "                          1, function(x) names(x)[which.max(x)]), function(s) if (length(s) == 0) NA else paste(s, collapse = \" \")) \n",
    "            ) \n",
    "                              \n",
    "head(metametrics_df)"
   ]
  },
  {
   "cell_type": "code",
   "execution_count": 43,
   "metadata": {},
   "outputs": [
    {
     "data": {
      "text/plain": [
       "\n",
       "   auc_seg2_glm auc_seg2_glm_fb \n",
       "           1221             261 "
      ]
     },
     "metadata": {},
     "output_type": "display_data"
    },
    {
     "data": {
      "text/plain": [
       "\n",
       "   l10_seg2_glm l10_seg2_glm_fb \n",
       "           1306             176 "
      ]
     },
     "metadata": {},
     "output_type": "display_data"
    }
   ],
   "source": [
    "table(metametrics_df$auc_win_03)\n",
    "table(metametrics_df$l10_win_03)"
   ]
  },
  {
   "cell_type": "code",
   "execution_count": 44,
   "metadata": {},
   "outputs": [
    {
     "data": {
      "text/html": [
       "<table>\n",
       "<caption>A data.frame: 261 × 4</caption>\n",
       "<thead>\n",
       "\t<tr><th scope=col>tld_registrar_index</th><th scope=col>n</th><th scope=col>auc_seg2_glm</th><th scope=col>auc_seg2_glm_fb</th></tr>\n",
       "\t<tr><th scope=col>&lt;fct&gt;</th><th scope=col>&lt;int&gt;</th><th scope=col>&lt;dbl&gt;</th><th scope=col>&lt;dbl&gt;</th></tr>\n",
       "</thead>\n",
       "<tbody>\n",
       "\t<tr><td><span style=white-space:pre-wrap>fun1&amp;1 internet           </span></td><td><span style=white-space:pre-wrap>  11</span></td><td>0.4666667</td><td>0.6500000</td></tr>\n",
       "\t<tr><td>fun1api                   </td><td>   8</td><td>0.4000000</td><td>0.4250000</td></tr>\n",
       "\t<tr><td>funab name isp            </td><td>  47</td><td>0.5166667</td><td>0.8833333</td></tr>\n",
       "\t<tr><td>funbaidu                  </td><td>  55</td><td>0.6500000</td><td>0.7166667</td></tr>\n",
       "\t<tr><td>fundomain discount        </td><td>   6</td><td>0.6000000</td><td>0.7000000</td></tr>\n",
       "\t<tr><td>fundreamhost              </td><td>  18</td><td>0.3166667</td><td>0.3666667</td></tr>\n",
       "\t<tr><td>funfbs                    </td><td>  50</td><td>0.5000000</td><td>0.7500000</td></tr>\n",
       "\t<tr><td>funfoshan yidong          </td><td>   8</td><td>0.8500000</td><td>0.9500000</td></tr>\n",
       "\t<tr><td>fungoogle                 </td><td>  81</td><td>0.4715686</td><td>0.4950980</td></tr>\n",
       "\t<tr><td>funguzel hosting          </td><td>   3</td><td>0.1500000</td><td>0.5500000</td></tr>\n",
       "\t<tr><td>funhostnet.nl             </td><td>  27</td><td>0.5100000</td><td>0.5433333</td></tr>\n",
       "\t<tr><td>funhover                  </td><td>   9</td><td>0.5166667</td><td>0.5833333</td></tr>\n",
       "\t<tr><td>funliquidnet              </td><td>  24</td><td>0.2642857</td><td>0.5214286</td></tr>\n",
       "\t<tr><td>funmetaregistrar          </td><td>  12</td><td>0.4500000</td><td>0.4928571</td></tr>\n",
       "\t<tr><td>funnetwork solutions      </td><td>   7</td><td>0.3700000</td><td>0.6500000</td></tr>\n",
       "\t<tr><td>funovh                    </td><td> 100</td><td>0.5619048</td><td>0.5952381</td></tr>\n",
       "\t<tr><td>funp.a viet nam           </td><td>  33</td><td>0.6166667</td><td>0.6500000</td></tr>\n",
       "\t<tr><td>funrebrandly              </td><td>  24</td><td>0.5600000</td><td>0.6000000</td></tr>\n",
       "\t<tr><td>funregister.it            </td><td> 112</td><td>0.4652174</td><td>0.5173913</td></tr>\n",
       "\t<tr><td>funregistrator domenov    </td><td>   3</td><td>0.5500000</td><td>0.9500000</td></tr>\n",
       "\t<tr><td>funsered                  </td><td>  72</td><td>0.4950000</td><td>0.6250000</td></tr>\n",
       "\t<tr><td>funsquarespace            </td><td>  10</td><td>0.4875000</td><td>0.5125000</td></tr>\n",
       "\t<tr><td>funtimeweb                </td><td>  63</td><td>0.4750000</td><td>0.5500000</td></tr>\n",
       "\t<tr><td>host1api                  </td><td>   6</td><td>0.7500000</td><td>0.9500000</td></tr>\n",
       "\t<tr><td>hostdomain.com - registrar</td><td>  20</td><td>0.5166667</td><td>0.5416667</td></tr>\n",
       "\t<tr><td>hostdynadot               </td><td>  39</td><td>0.4750000</td><td>0.7250000</td></tr>\n",
       "\t<tr><td>hostgandi sas             </td><td>  62</td><td>0.4500000</td><td>0.5071429</td></tr>\n",
       "\t<tr><td>hostgo daddy              </td><td>1072</td><td>0.9263158</td><td>0.9473684</td></tr>\n",
       "\t<tr><td>hosthostgator mexico      </td><td>   2</td><td>0.2500000</td><td>0.9500000</td></tr>\n",
       "\t<tr><td>hostipage domain.com      </td><td>   7</td><td>0.5500000</td><td>0.6500000</td></tr>\n",
       "\t<tr><td>hostnetwork solutions     </td><td>   5</td><td>0.4500000</td><td>0.7500000</td></tr>\n",
       "\t<tr><td>hostneubox                </td><td>   5</td><td>0.7500000</td><td>0.9500000</td></tr>\n",
       "\t<tr><td>hostshanghai meicheng     </td><td>   8</td><td>0.0500000</td><td>0.1500000</td></tr>\n",
       "\t<tr><td>hostvalue domain          </td><td>  13</td><td>0.6500000</td><td>0.8166667</td></tr>\n",
       "\t<tr><td>hostwhois                 </td><td>  10</td><td>0.2500000</td><td>0.3500000</td></tr>\n",
       "\t<tr><td>in.nethostgator           </td><td>   3</td><td>0.5500000</td><td>0.9500000</td></tr>\n",
       "\t<tr><td>in.nethosting ukraine     </td><td>   3</td><td>0.1500000</td><td>0.5500000</td></tr>\n",
       "\t<tr><td>in.netnamecheap           </td><td>  62</td><td>0.5318182</td><td>0.6227273</td></tr>\n",
       "\t<tr><td>in.netnettigritty         </td><td>   5</td><td>0.2000000</td><td>0.2500000</td></tr>\n",
       "\t<tr><td>in.netporkbun             </td><td>   5</td><td>0.2500000</td><td>0.5500000</td></tr>\n",
       "\t<tr><td>in.netwhois               </td><td>  63</td><td>0.7250000</td><td>0.7500000</td></tr>\n",
       "\t<tr><td>online123hjemmeside       </td><td>  78</td><td>0.3785714</td><td>0.4714286</td></tr>\n",
       "\t<tr><td>online1blu                </td><td>  22</td><td>0.5653846</td><td>0.6500000</td></tr>\n",
       "\t<tr><td>onlinea small orange      </td><td>   7</td><td>0.2500000</td><td>0.9500000</td></tr>\n",
       "\t<tr><td>onlinea2hosting           </td><td>   4</td><td>0.3500000</td><td>0.9500000</td></tr>\n",
       "\t<tr><td>onlineaerotek             </td><td>  25</td><td>0.3900000</td><td>0.7300000</td></tr>\n",
       "\t<tr><td>onlinealfahosting         </td><td>  67</td><td>0.4990196</td><td>0.5088235</td></tr>\n",
       "\t<tr><td>onlinealpnames            </td><td>  29</td><td>0.7500000</td><td>0.8333333</td></tr>\n",
       "\t<tr><td>onlineantagonist          </td><td>  70</td><td>0.4362069</td><td>0.5224138</td></tr>\n",
       "\t<tr><td>onlineatak                </td><td>   6</td><td>0.4500000</td><td>0.5500000</td></tr>\n",
       "\t<tr><td>⋮</td><td>⋮</td><td>⋮</td><td>⋮</td></tr>\n",
       "\t<tr><td>techniaga hoster         </td><td>125</td><td>0.4833333</td><td>0.5500000</td></tr>\n",
       "\t<tr><td>techonline sas           </td><td>  6</td><td>0.5000000</td><td>0.5750000</td></tr>\n",
       "\t<tr><td>techpapaki               </td><td> 17</td><td>0.4000000</td><td>0.5500000</td></tr>\n",
       "\t<tr><td>techrealtime register    </td><td> 22</td><td>0.4437500</td><td>0.5500000</td></tr>\n",
       "\t<tr><td>techregistrator domenov  </td><td>  5</td><td>0.5000000</td><td>0.7000000</td></tr>\n",
       "\t<tr><td>techregistrator domenov  </td><td> 10</td><td>0.4875000</td><td>0.5500000</td></tr>\n",
       "\t<tr><td>techsered                </td><td> 30</td><td>0.7000000</td><td>0.7250000</td></tr>\n",
       "\t<tr><td>techshanghai best oray   </td><td>117</td><td>0.5500000</td><td>0.5750000</td></tr>\n",
       "\t<tr><td>techshopify              </td><td> 87</td><td>0.4547619</td><td>0.5547619</td></tr>\n",
       "\t<tr><td>techspaceweb             </td><td> 45</td><td>0.3500000</td><td>0.4785714</td></tr>\n",
       "\t<tr><td>techsuper registry       </td><td> 16</td><td>0.4214286</td><td>0.5071429</td></tr>\n",
       "\t<tr><td>techunited domains       </td><td> 22</td><td>0.5264706</td><td>0.5382353</td></tr>\n",
       "\t<tr><td>techwhogohost            </td><td> 50</td><td>0.8000000</td><td>0.9500000</td></tr>\n",
       "\t<tr><td>techwild west            </td><td> 17</td><td>0.5318182</td><td>0.5590909</td></tr>\n",
       "\t<tr><td>techyour hosting         </td><td> 19</td><td>0.4857143</td><td>0.5785714</td></tr>\n",
       "\t<tr><td>techzeit                 </td><td> 40</td><td>0.4857143</td><td>0.6357143</td></tr>\n",
       "\t<tr><td>website123hjemmeside     </td><td> 32</td><td>0.4875000</td><td>0.5000000</td></tr>\n",
       "\t<tr><td>website1api              </td><td>  8</td><td>0.5300000</td><td>0.5900000</td></tr>\n",
       "\t<tr><td>websiteab name isp       </td><td>  2</td><td>0.2500000</td><td>0.9500000</td></tr>\n",
       "\t<tr><td>websitealpnames          </td><td> 17</td><td>0.2500000</td><td>0.8500000</td></tr>\n",
       "\t<tr><td>websiteantagonist        </td><td> 14</td><td>0.5000000</td><td>0.6000000</td></tr>\n",
       "\t<tr><td>websiteautomattic        </td><td> 16</td><td>0.5400000</td><td>0.5600000</td></tr>\n",
       "\t<tr><td>websitebaidu             </td><td>  8</td><td>0.5500000</td><td>0.9000000</td></tr>\n",
       "\t<tr><td>websitecafe24            </td><td>  6</td><td>0.0500000</td><td>0.2500000</td></tr>\n",
       "\t<tr><td>websitechengdu west      </td><td> 39</td><td>0.8500000</td><td>0.9500000</td></tr>\n",
       "\t<tr><td>websitecrazy domains     </td><td>  9</td><td>0.4000000</td><td>0.4333333</td></tr>\n",
       "\t<tr><td>websitecsl               </td><td> 36</td><td>0.5375000</td><td>0.6875000</td></tr>\n",
       "\t<tr><td>websitedomainesia        </td><td> 29</td><td>0.1500000</td><td>0.8000000</td></tr>\n",
       "\t<tr><td>websitedynadot           </td><td>277</td><td>0.5833333</td><td>0.6055556</td></tr>\n",
       "\t<tr><td>websiteeuro dns          </td><td> 43</td><td>0.9000000</td><td>0.9500000</td></tr>\n",
       "\t<tr><td>websitefasthosts         </td><td> 48</td><td>0.4843750</td><td>0.5062500</td></tr>\n",
       "\t<tr><td>websitefbs               </td><td> 87</td><td>0.3166667</td><td>0.3666667</td></tr>\n",
       "\t<tr><td>websitegridhost          </td><td>  2</td><td>0.2500000</td><td>0.9500000</td></tr>\n",
       "\t<tr><td>websitehostpoint         </td><td> 12</td><td>0.3833333</td><td>0.5666667</td></tr>\n",
       "\t<tr><td>websitehover             </td><td> 56</td><td>0.4879310</td><td>0.5465517</td></tr>\n",
       "\t<tr><td>websiteinfomaniak.ch     </td><td>  7</td><td>0.5500000</td><td>0.5833333</td></tr>\n",
       "\t<tr><td>websiteinstra corporation</td><td>  3</td><td>0.5500000</td><td>0.7500000</td></tr>\n",
       "\t<tr><td>websitejimdo             </td><td> 19</td><td>0.5000000</td><td>0.5571429</td></tr>\n",
       "\t<tr><td>websitekreativmedia      </td><td>  3</td><td>0.3500000</td><td>0.5500000</td></tr>\n",
       "\t<tr><td>websitenetowl            </td><td> 16</td><td>0.3785714</td><td>0.5500000</td></tr>\n",
       "\t<tr><td>websiteonline sas        </td><td>  2</td><td>0.2500000</td><td>0.9500000</td></tr>\n",
       "\t<tr><td>websiteparagon internet  </td><td>  9</td><td>0.3250000</td><td>0.5250000</td></tr>\n",
       "\t<tr><td>websitepromo people      </td><td>  4</td><td>0.5000000</td><td>0.8000000</td></tr>\n",
       "\t<tr><td>websiteredehost          </td><td> 12</td><td>0.4000000</td><td>0.5000000</td></tr>\n",
       "\t<tr><td>websiteshopify           </td><td> 14</td><td>0.5500000</td><td>0.6500000</td></tr>\n",
       "\t<tr><td>websitesuper registry    </td><td> 10</td><td>0.5357143</td><td>0.5500000</td></tr>\n",
       "\t<tr><td>websitesuperdominios     </td><td>  3</td><td>0.3500000</td><td>0.5500000</td></tr>\n",
       "\t<tr><td>websiteversio            </td><td> 38</td><td>0.4285714</td><td>0.4857143</td></tr>\n",
       "\t<tr><td>websiteweebly            </td><td> 19</td><td>0.5100000</td><td>0.5200000</td></tr>\n",
       "\t<tr><td>websiteyahoo             </td><td>  6</td><td>0.4500000</td><td>0.5500000</td></tr>\n",
       "</tbody>\n",
       "</table>\n"
      ],
      "text/latex": [
       "A data.frame: 261 × 4\n",
       "\\begin{tabular}{llll}\n",
       " tld\\_registrar\\_index & n & auc\\_seg2\\_glm & auc\\_seg2\\_glm\\_fb\\\\\n",
       " <fct> & <int> & <dbl> & <dbl>\\\\\n",
       "\\hline\n",
       "\t fun1\\&1 internet            &   11 & 0.4666667 & 0.6500000\\\\\n",
       "\t fun1api                    &    8 & 0.4000000 & 0.4250000\\\\\n",
       "\t funab name isp             &   47 & 0.5166667 & 0.8833333\\\\\n",
       "\t funbaidu                   &   55 & 0.6500000 & 0.7166667\\\\\n",
       "\t fundomain discount         &    6 & 0.6000000 & 0.7000000\\\\\n",
       "\t fundreamhost               &   18 & 0.3166667 & 0.3666667\\\\\n",
       "\t funfbs                     &   50 & 0.5000000 & 0.7500000\\\\\n",
       "\t funfoshan yidong           &    8 & 0.8500000 & 0.9500000\\\\\n",
       "\t fungoogle                  &   81 & 0.4715686 & 0.4950980\\\\\n",
       "\t funguzel hosting           &    3 & 0.1500000 & 0.5500000\\\\\n",
       "\t funhostnet.nl              &   27 & 0.5100000 & 0.5433333\\\\\n",
       "\t funhover                   &    9 & 0.5166667 & 0.5833333\\\\\n",
       "\t funliquidnet               &   24 & 0.2642857 & 0.5214286\\\\\n",
       "\t funmetaregistrar           &   12 & 0.4500000 & 0.4928571\\\\\n",
       "\t funnetwork solutions       &    7 & 0.3700000 & 0.6500000\\\\\n",
       "\t funovh                     &  100 & 0.5619048 & 0.5952381\\\\\n",
       "\t funp.a viet nam            &   33 & 0.6166667 & 0.6500000\\\\\n",
       "\t funrebrandly               &   24 & 0.5600000 & 0.6000000\\\\\n",
       "\t funregister.it             &  112 & 0.4652174 & 0.5173913\\\\\n",
       "\t funregistrator domenov     &    3 & 0.5500000 & 0.9500000\\\\\n",
       "\t funsered                   &   72 & 0.4950000 & 0.6250000\\\\\n",
       "\t funsquarespace             &   10 & 0.4875000 & 0.5125000\\\\\n",
       "\t funtimeweb                 &   63 & 0.4750000 & 0.5500000\\\\\n",
       "\t host1api                   &    6 & 0.7500000 & 0.9500000\\\\\n",
       "\t hostdomain.com - registrar &   20 & 0.5166667 & 0.5416667\\\\\n",
       "\t hostdynadot                &   39 & 0.4750000 & 0.7250000\\\\\n",
       "\t hostgandi sas              &   62 & 0.4500000 & 0.5071429\\\\\n",
       "\t hostgo daddy               & 1072 & 0.9263158 & 0.9473684\\\\\n",
       "\t hosthostgator mexico       &    2 & 0.2500000 & 0.9500000\\\\\n",
       "\t hostipage domain.com       &    7 & 0.5500000 & 0.6500000\\\\\n",
       "\t hostnetwork solutions      &    5 & 0.4500000 & 0.7500000\\\\\n",
       "\t hostneubox                 &    5 & 0.7500000 & 0.9500000\\\\\n",
       "\t hostshanghai meicheng      &    8 & 0.0500000 & 0.1500000\\\\\n",
       "\t hostvalue domain           &   13 & 0.6500000 & 0.8166667\\\\\n",
       "\t hostwhois                  &   10 & 0.2500000 & 0.3500000\\\\\n",
       "\t in.nethostgator            &    3 & 0.5500000 & 0.9500000\\\\\n",
       "\t in.nethosting ukraine      &    3 & 0.1500000 & 0.5500000\\\\\n",
       "\t in.netnamecheap            &   62 & 0.5318182 & 0.6227273\\\\\n",
       "\t in.netnettigritty          &    5 & 0.2000000 & 0.2500000\\\\\n",
       "\t in.netporkbun              &    5 & 0.2500000 & 0.5500000\\\\\n",
       "\t in.netwhois                &   63 & 0.7250000 & 0.7500000\\\\\n",
       "\t online123hjemmeside        &   78 & 0.3785714 & 0.4714286\\\\\n",
       "\t online1blu                 &   22 & 0.5653846 & 0.6500000\\\\\n",
       "\t onlinea small orange       &    7 & 0.2500000 & 0.9500000\\\\\n",
       "\t onlinea2hosting            &    4 & 0.3500000 & 0.9500000\\\\\n",
       "\t onlineaerotek              &   25 & 0.3900000 & 0.7300000\\\\\n",
       "\t onlinealfahosting          &   67 & 0.4990196 & 0.5088235\\\\\n",
       "\t onlinealpnames             &   29 & 0.7500000 & 0.8333333\\\\\n",
       "\t onlineantagonist           &   70 & 0.4362069 & 0.5224138\\\\\n",
       "\t onlineatak                 &    6 & 0.4500000 & 0.5500000\\\\\n",
       "\t ⋮ & ⋮ & ⋮ & ⋮\\\\\n",
       "\t techniaga hoster          & 125 & 0.4833333 & 0.5500000\\\\\n",
       "\t techonline sas            &   6 & 0.5000000 & 0.5750000\\\\\n",
       "\t techpapaki                &  17 & 0.4000000 & 0.5500000\\\\\n",
       "\t techrealtime register     &  22 & 0.4437500 & 0.5500000\\\\\n",
       "\t techregistrator domenov   &   5 & 0.5000000 & 0.7000000\\\\\n",
       "\t techregistrator domenov   &  10 & 0.4875000 & 0.5500000\\\\\n",
       "\t techsered                 &  30 & 0.7000000 & 0.7250000\\\\\n",
       "\t techshanghai best oray    & 117 & 0.5500000 & 0.5750000\\\\\n",
       "\t techshopify               &  87 & 0.4547619 & 0.5547619\\\\\n",
       "\t techspaceweb              &  45 & 0.3500000 & 0.4785714\\\\\n",
       "\t techsuper registry        &  16 & 0.4214286 & 0.5071429\\\\\n",
       "\t techunited domains        &  22 & 0.5264706 & 0.5382353\\\\\n",
       "\t techwhogohost             &  50 & 0.8000000 & 0.9500000\\\\\n",
       "\t techwild west             &  17 & 0.5318182 & 0.5590909\\\\\n",
       "\t techyour hosting          &  19 & 0.4857143 & 0.5785714\\\\\n",
       "\t techzeit                  &  40 & 0.4857143 & 0.6357143\\\\\n",
       "\t website123hjemmeside      &  32 & 0.4875000 & 0.5000000\\\\\n",
       "\t website1api               &   8 & 0.5300000 & 0.5900000\\\\\n",
       "\t websiteab name isp        &   2 & 0.2500000 & 0.9500000\\\\\n",
       "\t websitealpnames           &  17 & 0.2500000 & 0.8500000\\\\\n",
       "\t websiteantagonist         &  14 & 0.5000000 & 0.6000000\\\\\n",
       "\t websiteautomattic         &  16 & 0.5400000 & 0.5600000\\\\\n",
       "\t websitebaidu              &   8 & 0.5500000 & 0.9000000\\\\\n",
       "\t websitecafe24             &   6 & 0.0500000 & 0.2500000\\\\\n",
       "\t websitechengdu west       &  39 & 0.8500000 & 0.9500000\\\\\n",
       "\t websitecrazy domains      &   9 & 0.4000000 & 0.4333333\\\\\n",
       "\t websitecsl                &  36 & 0.5375000 & 0.6875000\\\\\n",
       "\t websitedomainesia         &  29 & 0.1500000 & 0.8000000\\\\\n",
       "\t websitedynadot            & 277 & 0.5833333 & 0.6055556\\\\\n",
       "\t websiteeuro dns           &  43 & 0.9000000 & 0.9500000\\\\\n",
       "\t websitefasthosts          &  48 & 0.4843750 & 0.5062500\\\\\n",
       "\t websitefbs                &  87 & 0.3166667 & 0.3666667\\\\\n",
       "\t websitegridhost           &   2 & 0.2500000 & 0.9500000\\\\\n",
       "\t websitehostpoint          &  12 & 0.3833333 & 0.5666667\\\\\n",
       "\t websitehover              &  56 & 0.4879310 & 0.5465517\\\\\n",
       "\t websiteinfomaniak.ch      &   7 & 0.5500000 & 0.5833333\\\\\n",
       "\t websiteinstra corporation &   3 & 0.5500000 & 0.7500000\\\\\n",
       "\t websitejimdo              &  19 & 0.5000000 & 0.5571429\\\\\n",
       "\t websitekreativmedia       &   3 & 0.3500000 & 0.5500000\\\\\n",
       "\t websitenetowl             &  16 & 0.3785714 & 0.5500000\\\\\n",
       "\t websiteonline sas         &   2 & 0.2500000 & 0.9500000\\\\\n",
       "\t websiteparagon internet   &   9 & 0.3250000 & 0.5250000\\\\\n",
       "\t websitepromo people       &   4 & 0.5000000 & 0.8000000\\\\\n",
       "\t websiteredehost           &  12 & 0.4000000 & 0.5000000\\\\\n",
       "\t websiteshopify            &  14 & 0.5500000 & 0.6500000\\\\\n",
       "\t websitesuper registry     &  10 & 0.5357143 & 0.5500000\\\\\n",
       "\t websitesuperdominios      &   3 & 0.3500000 & 0.5500000\\\\\n",
       "\t websiteversio             &  38 & 0.4285714 & 0.4857143\\\\\n",
       "\t websiteweebly             &  19 & 0.5100000 & 0.5200000\\\\\n",
       "\t websiteyahoo              &   6 & 0.4500000 & 0.5500000\\\\\n",
       "\\end{tabular}\n"
      ],
      "text/markdown": [
       "\n",
       "A data.frame: 261 × 4\n",
       "\n",
       "| tld_registrar_index &lt;fct&gt; | n &lt;int&gt; | auc_seg2_glm &lt;dbl&gt; | auc_seg2_glm_fb &lt;dbl&gt; |\n",
       "|---|---|---|---|\n",
       "| fun1&amp;1 internet            |   11 | 0.4666667 | 0.6500000 |\n",
       "| fun1api                    |    8 | 0.4000000 | 0.4250000 |\n",
       "| funab name isp             |   47 | 0.5166667 | 0.8833333 |\n",
       "| funbaidu                   |   55 | 0.6500000 | 0.7166667 |\n",
       "| fundomain discount         |    6 | 0.6000000 | 0.7000000 |\n",
       "| fundreamhost               |   18 | 0.3166667 | 0.3666667 |\n",
       "| funfbs                     |   50 | 0.5000000 | 0.7500000 |\n",
       "| funfoshan yidong           |    8 | 0.8500000 | 0.9500000 |\n",
       "| fungoogle                  |   81 | 0.4715686 | 0.4950980 |\n",
       "| funguzel hosting           |    3 | 0.1500000 | 0.5500000 |\n",
       "| funhostnet.nl              |   27 | 0.5100000 | 0.5433333 |\n",
       "| funhover                   |    9 | 0.5166667 | 0.5833333 |\n",
       "| funliquidnet               |   24 | 0.2642857 | 0.5214286 |\n",
       "| funmetaregistrar           |   12 | 0.4500000 | 0.4928571 |\n",
       "| funnetwork solutions       |    7 | 0.3700000 | 0.6500000 |\n",
       "| funovh                     |  100 | 0.5619048 | 0.5952381 |\n",
       "| funp.a viet nam            |   33 | 0.6166667 | 0.6500000 |\n",
       "| funrebrandly               |   24 | 0.5600000 | 0.6000000 |\n",
       "| funregister.it             |  112 | 0.4652174 | 0.5173913 |\n",
       "| funregistrator domenov     |    3 | 0.5500000 | 0.9500000 |\n",
       "| funsered                   |   72 | 0.4950000 | 0.6250000 |\n",
       "| funsquarespace             |   10 | 0.4875000 | 0.5125000 |\n",
       "| funtimeweb                 |   63 | 0.4750000 | 0.5500000 |\n",
       "| host1api                   |    6 | 0.7500000 | 0.9500000 |\n",
       "| hostdomain.com - registrar |   20 | 0.5166667 | 0.5416667 |\n",
       "| hostdynadot                |   39 | 0.4750000 | 0.7250000 |\n",
       "| hostgandi sas              |   62 | 0.4500000 | 0.5071429 |\n",
       "| hostgo daddy               | 1072 | 0.9263158 | 0.9473684 |\n",
       "| hosthostgator mexico       |    2 | 0.2500000 | 0.9500000 |\n",
       "| hostipage domain.com       |    7 | 0.5500000 | 0.6500000 |\n",
       "| hostnetwork solutions      |    5 | 0.4500000 | 0.7500000 |\n",
       "| hostneubox                 |    5 | 0.7500000 | 0.9500000 |\n",
       "| hostshanghai meicheng      |    8 | 0.0500000 | 0.1500000 |\n",
       "| hostvalue domain           |   13 | 0.6500000 | 0.8166667 |\n",
       "| hostwhois                  |   10 | 0.2500000 | 0.3500000 |\n",
       "| in.nethostgator            |    3 | 0.5500000 | 0.9500000 |\n",
       "| in.nethosting ukraine      |    3 | 0.1500000 | 0.5500000 |\n",
       "| in.netnamecheap            |   62 | 0.5318182 | 0.6227273 |\n",
       "| in.netnettigritty          |    5 | 0.2000000 | 0.2500000 |\n",
       "| in.netporkbun              |    5 | 0.2500000 | 0.5500000 |\n",
       "| in.netwhois                |   63 | 0.7250000 | 0.7500000 |\n",
       "| online123hjemmeside        |   78 | 0.3785714 | 0.4714286 |\n",
       "| online1blu                 |   22 | 0.5653846 | 0.6500000 |\n",
       "| onlinea small orange       |    7 | 0.2500000 | 0.9500000 |\n",
       "| onlinea2hosting            |    4 | 0.3500000 | 0.9500000 |\n",
       "| onlineaerotek              |   25 | 0.3900000 | 0.7300000 |\n",
       "| onlinealfahosting          |   67 | 0.4990196 | 0.5088235 |\n",
       "| onlinealpnames             |   29 | 0.7500000 | 0.8333333 |\n",
       "| onlineantagonist           |   70 | 0.4362069 | 0.5224138 |\n",
       "| onlineatak                 |    6 | 0.4500000 | 0.5500000 |\n",
       "| ⋮ | ⋮ | ⋮ | ⋮ |\n",
       "| techniaga hoster          | 125 | 0.4833333 | 0.5500000 |\n",
       "| techonline sas            |   6 | 0.5000000 | 0.5750000 |\n",
       "| techpapaki                |  17 | 0.4000000 | 0.5500000 |\n",
       "| techrealtime register     |  22 | 0.4437500 | 0.5500000 |\n",
       "| techregistrator domenov   |   5 | 0.5000000 | 0.7000000 |\n",
       "| techregistrator domenov   |  10 | 0.4875000 | 0.5500000 |\n",
       "| techsered                 |  30 | 0.7000000 | 0.7250000 |\n",
       "| techshanghai best oray    | 117 | 0.5500000 | 0.5750000 |\n",
       "| techshopify               |  87 | 0.4547619 | 0.5547619 |\n",
       "| techspaceweb              |  45 | 0.3500000 | 0.4785714 |\n",
       "| techsuper registry        |  16 | 0.4214286 | 0.5071429 |\n",
       "| techunited domains        |  22 | 0.5264706 | 0.5382353 |\n",
       "| techwhogohost             |  50 | 0.8000000 | 0.9500000 |\n",
       "| techwild west             |  17 | 0.5318182 | 0.5590909 |\n",
       "| techyour hosting          |  19 | 0.4857143 | 0.5785714 |\n",
       "| techzeit                  |  40 | 0.4857143 | 0.6357143 |\n",
       "| website123hjemmeside      |  32 | 0.4875000 | 0.5000000 |\n",
       "| website1api               |   8 | 0.5300000 | 0.5900000 |\n",
       "| websiteab name isp        |   2 | 0.2500000 | 0.9500000 |\n",
       "| websitealpnames           |  17 | 0.2500000 | 0.8500000 |\n",
       "| websiteantagonist         |  14 | 0.5000000 | 0.6000000 |\n",
       "| websiteautomattic         |  16 | 0.5400000 | 0.5600000 |\n",
       "| websitebaidu              |   8 | 0.5500000 | 0.9000000 |\n",
       "| websitecafe24             |   6 | 0.0500000 | 0.2500000 |\n",
       "| websitechengdu west       |  39 | 0.8500000 | 0.9500000 |\n",
       "| websitecrazy domains      |   9 | 0.4000000 | 0.4333333 |\n",
       "| websitecsl                |  36 | 0.5375000 | 0.6875000 |\n",
       "| websitedomainesia         |  29 | 0.1500000 | 0.8000000 |\n",
       "| websitedynadot            | 277 | 0.5833333 | 0.6055556 |\n",
       "| websiteeuro dns           |  43 | 0.9000000 | 0.9500000 |\n",
       "| websitefasthosts          |  48 | 0.4843750 | 0.5062500 |\n",
       "| websitefbs                |  87 | 0.3166667 | 0.3666667 |\n",
       "| websitegridhost           |   2 | 0.2500000 | 0.9500000 |\n",
       "| websitehostpoint          |  12 | 0.3833333 | 0.5666667 |\n",
       "| websitehover              |  56 | 0.4879310 | 0.5465517 |\n",
       "| websiteinfomaniak.ch      |   7 | 0.5500000 | 0.5833333 |\n",
       "| websiteinstra corporation |   3 | 0.5500000 | 0.7500000 |\n",
       "| websitejimdo              |  19 | 0.5000000 | 0.5571429 |\n",
       "| websitekreativmedia       |   3 | 0.3500000 | 0.5500000 |\n",
       "| websitenetowl             |  16 | 0.3785714 | 0.5500000 |\n",
       "| websiteonline sas         |   2 | 0.2500000 | 0.9500000 |\n",
       "| websiteparagon internet   |   9 | 0.3250000 | 0.5250000 |\n",
       "| websitepromo people       |   4 | 0.5000000 | 0.8000000 |\n",
       "| websiteredehost           |  12 | 0.4000000 | 0.5000000 |\n",
       "| websiteshopify            |  14 | 0.5500000 | 0.6500000 |\n",
       "| websitesuper registry     |  10 | 0.5357143 | 0.5500000 |\n",
       "| websitesuperdominios      |   3 | 0.3500000 | 0.5500000 |\n",
       "| websiteversio             |  38 | 0.4285714 | 0.4857143 |\n",
       "| websiteweebly             |  19 | 0.5100000 | 0.5200000 |\n",
       "| websiteyahoo              |   6 | 0.4500000 | 0.5500000 |\n",
       "\n"
      ],
      "text/plain": [
       "    tld_registrar_index        n    auc_seg2_glm auc_seg2_glm_fb\n",
       "1   fun1&1 internet              11 0.4666667    0.6500000      \n",
       "2   fun1api                       8 0.4000000    0.4250000      \n",
       "3   funab name isp               47 0.5166667    0.8833333      \n",
       "4   funbaidu                     55 0.6500000    0.7166667      \n",
       "5   fundomain discount            6 0.6000000    0.7000000      \n",
       "6   fundreamhost                 18 0.3166667    0.3666667      \n",
       "7   funfbs                       50 0.5000000    0.7500000      \n",
       "8   funfoshan yidong              8 0.8500000    0.9500000      \n",
       "9   fungoogle                    81 0.4715686    0.4950980      \n",
       "10  funguzel hosting              3 0.1500000    0.5500000      \n",
       "11  funhostnet.nl                27 0.5100000    0.5433333      \n",
       "12  funhover                      9 0.5166667    0.5833333      \n",
       "13  funliquidnet                 24 0.2642857    0.5214286      \n",
       "14  funmetaregistrar             12 0.4500000    0.4928571      \n",
       "15  funnetwork solutions          7 0.3700000    0.6500000      \n",
       "16  funovh                      100 0.5619048    0.5952381      \n",
       "17  funp.a viet nam              33 0.6166667    0.6500000      \n",
       "18  funrebrandly                 24 0.5600000    0.6000000      \n",
       "19  funregister.it              112 0.4652174    0.5173913      \n",
       "20  funregistrator domenov        3 0.5500000    0.9500000      \n",
       "21  funsered                     72 0.4950000    0.6250000      \n",
       "22  funsquarespace               10 0.4875000    0.5125000      \n",
       "23  funtimeweb                   63 0.4750000    0.5500000      \n",
       "24  host1api                      6 0.7500000    0.9500000      \n",
       "25  hostdomain.com - registrar   20 0.5166667    0.5416667      \n",
       "26  hostdynadot                  39 0.4750000    0.7250000      \n",
       "27  hostgandi sas                62 0.4500000    0.5071429      \n",
       "28  hostgo daddy               1072 0.9263158    0.9473684      \n",
       "29  hosthostgator mexico          2 0.2500000    0.9500000      \n",
       "30  hostipage domain.com          7 0.5500000    0.6500000      \n",
       "31  hostnetwork solutions         5 0.4500000    0.7500000      \n",
       "32  hostneubox                    5 0.7500000    0.9500000      \n",
       "33  hostshanghai meicheng         8 0.0500000    0.1500000      \n",
       "34  hostvalue domain             13 0.6500000    0.8166667      \n",
       "35  hostwhois                    10 0.2500000    0.3500000      \n",
       "36  in.nethostgator               3 0.5500000    0.9500000      \n",
       "37  in.nethosting ukraine         3 0.1500000    0.5500000      \n",
       "38  in.netnamecheap              62 0.5318182    0.6227273      \n",
       "39  in.netnettigritty             5 0.2000000    0.2500000      \n",
       "40  in.netporkbun                 5 0.2500000    0.5500000      \n",
       "41  in.netwhois                  63 0.7250000    0.7500000      \n",
       "42  online123hjemmeside          78 0.3785714    0.4714286      \n",
       "43  online1blu                   22 0.5653846    0.6500000      \n",
       "44  onlinea small orange          7 0.2500000    0.9500000      \n",
       "45  onlinea2hosting               4 0.3500000    0.9500000      \n",
       "46  onlineaerotek                25 0.3900000    0.7300000      \n",
       "47  onlinealfahosting            67 0.4990196    0.5088235      \n",
       "48  onlinealpnames               29 0.7500000    0.8333333      \n",
       "49  onlineantagonist             70 0.4362069    0.5224138      \n",
       "50  onlineatak                    6 0.4500000    0.5500000      \n",
       "⋮   ⋮                          ⋮    ⋮            ⋮              \n",
       "212 techniaga hoster           125  0.4833333    0.5500000      \n",
       "213 techonline sas               6  0.5000000    0.5750000      \n",
       "214 techpapaki                  17  0.4000000    0.5500000      \n",
       "215 techrealtime register       22  0.4437500    0.5500000      \n",
       "216 techregistrator domenov      5  0.5000000    0.7000000      \n",
       "217 techregistrator domenov     10  0.4875000    0.5500000      \n",
       "218 techsered                   30  0.7000000    0.7250000      \n",
       "219 techshanghai best oray     117  0.5500000    0.5750000      \n",
       "220 techshopify                 87  0.4547619    0.5547619      \n",
       "221 techspaceweb                45  0.3500000    0.4785714      \n",
       "222 techsuper registry          16  0.4214286    0.5071429      \n",
       "223 techunited domains          22  0.5264706    0.5382353      \n",
       "224 techwhogohost               50  0.8000000    0.9500000      \n",
       "225 techwild west               17  0.5318182    0.5590909      \n",
       "226 techyour hosting            19  0.4857143    0.5785714      \n",
       "227 techzeit                    40  0.4857143    0.6357143      \n",
       "228 website123hjemmeside        32  0.4875000    0.5000000      \n",
       "229 website1api                  8  0.5300000    0.5900000      \n",
       "230 websiteab name isp           2  0.2500000    0.9500000      \n",
       "231 websitealpnames             17  0.2500000    0.8500000      \n",
       "232 websiteantagonist           14  0.5000000    0.6000000      \n",
       "233 websiteautomattic           16  0.5400000    0.5600000      \n",
       "234 websitebaidu                 8  0.5500000    0.9000000      \n",
       "235 websitecafe24                6  0.0500000    0.2500000      \n",
       "236 websitechengdu west         39  0.8500000    0.9500000      \n",
       "237 websitecrazy domains         9  0.4000000    0.4333333      \n",
       "238 websitecsl                  36  0.5375000    0.6875000      \n",
       "239 websitedomainesia           29  0.1500000    0.8000000      \n",
       "240 websitedynadot             277  0.5833333    0.6055556      \n",
       "241 websiteeuro dns             43  0.9000000    0.9500000      \n",
       "242 websitefasthosts            48  0.4843750    0.5062500      \n",
       "243 websitefbs                  87  0.3166667    0.3666667      \n",
       "244 websitegridhost              2  0.2500000    0.9500000      \n",
       "245 websitehostpoint            12  0.3833333    0.5666667      \n",
       "246 websitehover                56  0.4879310    0.5465517      \n",
       "247 websiteinfomaniak.ch         7  0.5500000    0.5833333      \n",
       "248 websiteinstra corporation    3  0.5500000    0.7500000      \n",
       "249 websitejimdo                19  0.5000000    0.5571429      \n",
       "250 websitekreativmedia          3  0.3500000    0.5500000      \n",
       "251 websitenetowl               16  0.3785714    0.5500000      \n",
       "252 websiteonline sas            2  0.2500000    0.9500000      \n",
       "253 websiteparagon internet      9  0.3250000    0.5250000      \n",
       "254 websitepromo people          4  0.5000000    0.8000000      \n",
       "255 websiteredehost             12  0.4000000    0.5000000      \n",
       "256 websiteshopify              14  0.5500000    0.6500000      \n",
       "257 websitesuper registry       10  0.5357143    0.5500000      \n",
       "258 websitesuperdominios         3  0.3500000    0.5500000      \n",
       "259 websiteversio               38  0.4285714    0.4857143      \n",
       "260 websiteweebly               19  0.5100000    0.5200000      \n",
       "261 websiteyahoo                 6  0.4500000    0.5500000      "
      ]
     },
     "metadata": {},
     "output_type": "display_data"
    },
    {
     "data": {
      "text/html": [
       "<table>\n",
       "<caption>A data.frame: 176 × 4</caption>\n",
       "<thead>\n",
       "\t<tr><th scope=col>tld_registrar_index</th><th scope=col>n</th><th scope=col>auc_seg2_glm</th><th scope=col>auc_seg2_glm_fb</th></tr>\n",
       "\t<tr><th scope=col>&lt;fct&gt;</th><th scope=col>&lt;int&gt;</th><th scope=col>&lt;dbl&gt;</th><th scope=col>&lt;dbl&gt;</th></tr>\n",
       "</thead>\n",
       "<tbody>\n",
       "\t<tr><td><span style=white-space:pre-wrap>fun1&amp;1 internet       </span></td><td> 11</td><td>0.4666667</td><td>0.6500000</td></tr>\n",
       "\t<tr><td>fun1api               </td><td>  8</td><td>0.4000000</td><td>0.4250000</td></tr>\n",
       "\t<tr><td>funab name isp        </td><td> 47</td><td>0.5166667</td><td>0.8833333</td></tr>\n",
       "\t<tr><td>funascio              </td><td>  5</td><td>0.5166667</td><td>0.4500000</td></tr>\n",
       "\t<tr><td>funfbs                </td><td> 50</td><td>0.5000000</td><td>0.7500000</td></tr>\n",
       "\t<tr><td>funfoshan yidong      </td><td>  8</td><td>0.8500000</td><td>0.9500000</td></tr>\n",
       "\t<tr><td>fungoogle             </td><td> 81</td><td>0.4715686</td><td>0.4950980</td></tr>\n",
       "\t<tr><td>funhostnet.nl         </td><td> 27</td><td>0.5100000</td><td>0.5433333</td></tr>\n",
       "\t<tr><td>funkey-systems        </td><td> 24</td><td>0.5433333</td><td>0.5033333</td></tr>\n",
       "\t<tr><td>funledl.net           </td><td> 73</td><td>0.8500000</td><td>0.7875000</td></tr>\n",
       "\t<tr><td>funnetowl             </td><td> 42</td><td>0.5382353</td><td>0.4970588</td></tr>\n",
       "\t<tr><td>funnetwork solutions  </td><td>  7</td><td>0.3700000</td><td>0.6500000</td></tr>\n",
       "\t<tr><td>funregister.it        </td><td>112</td><td>0.4652174</td><td>0.5173913</td></tr>\n",
       "\t<tr><td>funregistrator domenov</td><td>  3</td><td>0.5500000</td><td>0.9500000</td></tr>\n",
       "\t<tr><td>funsered              </td><td> 72</td><td>0.4950000</td><td>0.6250000</td></tr>\n",
       "\t<tr><td>host1api              </td><td>  6</td><td>0.7500000</td><td>0.9500000</td></tr>\n",
       "\t<tr><td>hostdomain discount   </td><td> 18</td><td>0.6000000</td><td>0.5000000</td></tr>\n",
       "\t<tr><td>hostdynadot           </td><td> 39</td><td>0.4750000</td><td>0.7250000</td></tr>\n",
       "\t<tr><td>hostgandi sas         </td><td> 62</td><td>0.4500000</td><td>0.5071429</td></tr>\n",
       "\t<tr><td>hosthostgator mexico  </td><td>  2</td><td>0.2500000</td><td>0.9500000</td></tr>\n",
       "\t<tr><td>hostipage domain.com  </td><td>  7</td><td>0.5500000</td><td>0.6500000</td></tr>\n",
       "\t<tr><td>hostneubox            </td><td>  5</td><td>0.7500000</td><td>0.9500000</td></tr>\n",
       "\t<tr><td>hostvalue domain      </td><td> 13</td><td>0.6500000</td><td>0.8166667</td></tr>\n",
       "\t<tr><td>in.nethostgator       </td><td>  3</td><td>0.5500000</td><td>0.9500000</td></tr>\n",
       "\t<tr><td>in.netwhois           </td><td> 63</td><td>0.7250000</td><td>0.7500000</td></tr>\n",
       "\t<tr><td>online1blu            </td><td> 22</td><td>0.5653846</td><td>0.6500000</td></tr>\n",
       "\t<tr><td>onlinea small orange  </td><td>  7</td><td>0.2500000</td><td>0.9500000</td></tr>\n",
       "\t<tr><td>onlinea2hosting       </td><td>  4</td><td>0.3500000</td><td>0.9500000</td></tr>\n",
       "\t<tr><td>onlineaerotek         </td><td> 25</td><td>0.3900000</td><td>0.7300000</td></tr>\n",
       "\t<tr><td>onlinealfahosting     </td><td> 67</td><td>0.4990196</td><td>0.5088235</td></tr>\n",
       "\t<tr><td>onlinealpnames        </td><td> 29</td><td>0.7500000</td><td>0.8333333</td></tr>\n",
       "\t<tr><td>onlineantagonist      </td><td> 70</td><td>0.4362069</td><td>0.5224138</td></tr>\n",
       "\t<tr><td>onlinechengdu fly     </td><td> 27</td><td>0.4500000</td><td>0.6000000</td></tr>\n",
       "\t<tr><td>onlinecsl             </td><td>132</td><td>0.5500000</td><td>0.5700000</td></tr>\n",
       "\t<tr><td>onlinedandomains      </td><td>  2</td><td>0.2500000</td><td>0.9500000</td></tr>\n",
       "\t<tr><td>onlinedomain offensive</td><td> 84</td><td>0.5285714</td><td>0.4857143</td></tr>\n",
       "\t<tr><td>onlinedomain.com      </td><td> 68</td><td>0.4893939</td><td>0.5227273</td></tr>\n",
       "\t<tr><td>onlinedomainfactory   </td><td> 63</td><td>0.5160714</td><td>0.5160714</td></tr>\n",
       "\t<tr><td>onlinedomeneshop      </td><td> 80</td><td>0.5197674</td><td>0.5220930</td></tr>\n",
       "\t<tr><td>onlineforpsi          </td><td> 85</td><td>0.6227273</td><td>0.6454545</td></tr>\n",
       "\t<tr><td>onlinehostens         </td><td>  5</td><td>0.4500000</td><td>0.9500000</td></tr>\n",
       "\t<tr><td>onlinehosteurope      </td><td>119</td><td>0.5647368</td><td>0.5110526</td></tr>\n",
       "\t<tr><td>onlineinfomaniak.ch   </td><td> 63</td><td>0.5250000</td><td>0.5321429</td></tr>\n",
       "\t<tr><td>onlineinternetworx ltd</td><td> 87</td><td>0.5242857</td><td>0.5214286</td></tr>\n",
       "\t<tr><td>onlineipage pdr ltd   </td><td>  5</td><td>0.5166667</td><td>0.4500000</td></tr>\n",
       "\t<tr><td>onlinemarcaria.com    </td><td>  6</td><td>0.4500000</td><td>0.5750000</td></tr>\n",
       "\t<tr><td>onlineneostrada       </td><td> 22</td><td>0.4666667</td><td>0.5000000</td></tr>\n",
       "\t<tr><td>onlinenetim           </td><td>  6</td><td>0.5500000</td><td>0.9500000</td></tr>\n",
       "\t<tr><td>onlinenicenic         </td><td> 52</td><td>0.4833333</td><td>0.8833333</td></tr>\n",
       "\t<tr><td>onlinepromo people    </td><td> 84</td><td>0.5272727</td><td>0.5386364</td></tr>\n",
       "\t<tr><td>⋮</td><td>⋮</td><td>⋮</td><td>⋮</td></tr>\n",
       "\t<tr><td>techdomains4bitcoins     </td><td> 66</td><td>0.5500000</td><td>0.4833333</td></tr>\n",
       "\t<tr><td>techdomeneshop           </td><td> 75</td><td>0.5394737</td><td>0.5368421</td></tr>\n",
       "\t<tr><td>techdynadot              </td><td> 79</td><td>0.5595238</td><td>0.5261905</td></tr>\n",
       "\t<tr><td>techenom                 </td><td> 79</td><td>0.5083333</td><td>0.5020833</td></tr>\n",
       "\t<tr><td>techepik llc             </td><td>  4</td><td>0.1500000</td><td>0.9500000</td></tr>\n",
       "\t<tr><td>techeranet               </td><td>  5</td><td>0.0500000</td><td>0.9500000</td></tr>\n",
       "\t<tr><td>techfasthosts            </td><td> 11</td><td>0.5357143</td><td>0.5357143</td></tr>\n",
       "\t<tr><td>techforpsi               </td><td>  7</td><td>0.4833333</td><td>0.5166667</td></tr>\n",
       "\t<tr><td>techhome.pl              </td><td> 69</td><td>0.5115385</td><td>0.4769231</td></tr>\n",
       "\t<tr><td>techhostgator brazil     </td><td> 51</td><td>0.5000000</td><td>0.5409091</td></tr>\n",
       "\t<tr><td>techhostnet.nl           </td><td> 97</td><td>0.5155738</td><td>0.4565574</td></tr>\n",
       "\t<tr><td>techinstra corporation   </td><td> 51</td><td>0.5195652</td><td>0.5108696</td></tr>\n",
       "\t<tr><td>techledl.net             </td><td>  9</td><td>0.6000000</td><td>0.7000000</td></tr>\n",
       "\t<tr><td>techmetaregistrar        </td><td> 35</td><td>0.4833333</td><td>0.5314815</td></tr>\n",
       "\t<tr><td>technamesilo             </td><td>122</td><td>0.5881818</td><td>0.6190909</td></tr>\n",
       "\t<tr><td>techonlinenic            </td><td> 18</td><td>0.7333333</td><td>0.4166667</td></tr>\n",
       "\t<tr><td>techpromo people         </td><td> 19</td><td>0.7500000</td><td>0.5166667</td></tr>\n",
       "\t<tr><td>techrealtime register    </td><td> 22</td><td>0.4437500</td><td>0.5500000</td></tr>\n",
       "\t<tr><td>techrebrandly            </td><td> 21</td><td>0.5611111</td><td>0.5611111</td></tr>\n",
       "\t<tr><td>techshanghai best oray   </td><td>117</td><td>0.5500000</td><td>0.5750000</td></tr>\n",
       "\t<tr><td>techshopify              </td><td> 87</td><td>0.4547619</td><td>0.5547619</td></tr>\n",
       "\t<tr><td>techspaceweb             </td><td> 45</td><td>0.3500000</td><td>0.4785714</td></tr>\n",
       "\t<tr><td>techversio               </td><td> 20</td><td>0.5625000</td><td>0.5000000</td></tr>\n",
       "\t<tr><td>techwebsupport.sk        </td><td> 35</td><td>0.5214286</td><td>0.4714286</td></tr>\n",
       "\t<tr><td>techwest263 international</td><td>116</td><td>0.6261905</td><td>0.4785714</td></tr>\n",
       "\t<tr><td>techwhogohost            </td><td> 50</td><td>0.8000000</td><td>0.9500000</td></tr>\n",
       "\t<tr><td>techwhois                </td><td> 64</td><td>0.6050000</td><td>0.5500000</td></tr>\n",
       "\t<tr><td>techyour hosting         </td><td> 19</td><td>0.4857143</td><td>0.5785714</td></tr>\n",
       "\t<tr><td>techzeit                 </td><td> 40</td><td>0.4857143</td><td>0.6357143</td></tr>\n",
       "\t<tr><td>website123hjemmeside     </td><td> 32</td><td>0.4875000</td><td>0.5000000</td></tr>\n",
       "\t<tr><td>websiteab name isp       </td><td>  2</td><td>0.2500000</td><td>0.9500000</td></tr>\n",
       "\t<tr><td>websitealibaba           </td><td> 89</td><td>0.5785714</td><td>0.4071429</td></tr>\n",
       "\t<tr><td>websiteantagonist        </td><td> 14</td><td>0.5000000</td><td>0.6000000</td></tr>\n",
       "\t<tr><td>websitechengdu west      </td><td> 39</td><td>0.8500000</td><td>0.9500000</td></tr>\n",
       "\t<tr><td>websitecronon ag         </td><td> 11</td><td>0.5500000</td><td>0.5500000</td></tr>\n",
       "\t<tr><td>websitecsl               </td><td> 36</td><td>0.5375000</td><td>0.6875000</td></tr>\n",
       "\t<tr><td>websitedomainesia        </td><td> 29</td><td>0.1500000</td><td>0.8000000</td></tr>\n",
       "\t<tr><td>websiteeuro dns          </td><td> 43</td><td>0.9000000</td><td>0.9500000</td></tr>\n",
       "\t<tr><td>websitefbs               </td><td> 87</td><td>0.3166667</td><td>0.3666667</td></tr>\n",
       "\t<tr><td>websitegridhost          </td><td>  2</td><td>0.2500000</td><td>0.9500000</td></tr>\n",
       "\t<tr><td>websitehover             </td><td> 56</td><td>0.4879310</td><td>0.5465517</td></tr>\n",
       "\t<tr><td>websiteinternetworx ltd  </td><td> 30</td><td>0.5409091</td><td>0.5318182</td></tr>\n",
       "\t<tr><td>websitejimdo             </td><td> 19</td><td>0.5000000</td><td>0.5571429</td></tr>\n",
       "\t<tr><td>websitekreativmedia      </td><td>  3</td><td>0.3500000</td><td>0.5500000</td></tr>\n",
       "\t<tr><td>websiteliquidnet         </td><td> 62</td><td>0.7250000</td><td>0.7250000</td></tr>\n",
       "\t<tr><td>websiteonline sas        </td><td>  2</td><td>0.2500000</td><td>0.9500000</td></tr>\n",
       "\t<tr><td>websitepromo people      </td><td>  4</td><td>0.5000000</td><td>0.8000000</td></tr>\n",
       "\t<tr><td>websiteshopify           </td><td> 14</td><td>0.5500000</td><td>0.6500000</td></tr>\n",
       "\t<tr><td>websitesuperdominios     </td><td>  3</td><td>0.3500000</td><td>0.5500000</td></tr>\n",
       "\t<tr><td>websiteversio            </td><td> 38</td><td>0.4285714</td><td>0.4857143</td></tr>\n",
       "</tbody>\n",
       "</table>\n"
      ],
      "text/latex": [
       "A data.frame: 176 × 4\n",
       "\\begin{tabular}{llll}\n",
       " tld\\_registrar\\_index & n & auc\\_seg2\\_glm & auc\\_seg2\\_glm\\_fb\\\\\n",
       " <fct> & <int> & <dbl> & <dbl>\\\\\n",
       "\\hline\n",
       "\t fun1\\&1 internet        &  11 & 0.4666667 & 0.6500000\\\\\n",
       "\t fun1api                &   8 & 0.4000000 & 0.4250000\\\\\n",
       "\t funab name isp         &  47 & 0.5166667 & 0.8833333\\\\\n",
       "\t funascio               &   5 & 0.5166667 & 0.4500000\\\\\n",
       "\t funfbs                 &  50 & 0.5000000 & 0.7500000\\\\\n",
       "\t funfoshan yidong       &   8 & 0.8500000 & 0.9500000\\\\\n",
       "\t fungoogle              &  81 & 0.4715686 & 0.4950980\\\\\n",
       "\t funhostnet.nl          &  27 & 0.5100000 & 0.5433333\\\\\n",
       "\t funkey-systems         &  24 & 0.5433333 & 0.5033333\\\\\n",
       "\t funledl.net            &  73 & 0.8500000 & 0.7875000\\\\\n",
       "\t funnetowl              &  42 & 0.5382353 & 0.4970588\\\\\n",
       "\t funnetwork solutions   &   7 & 0.3700000 & 0.6500000\\\\\n",
       "\t funregister.it         & 112 & 0.4652174 & 0.5173913\\\\\n",
       "\t funregistrator domenov &   3 & 0.5500000 & 0.9500000\\\\\n",
       "\t funsered               &  72 & 0.4950000 & 0.6250000\\\\\n",
       "\t host1api               &   6 & 0.7500000 & 0.9500000\\\\\n",
       "\t hostdomain discount    &  18 & 0.6000000 & 0.5000000\\\\\n",
       "\t hostdynadot            &  39 & 0.4750000 & 0.7250000\\\\\n",
       "\t hostgandi sas          &  62 & 0.4500000 & 0.5071429\\\\\n",
       "\t hosthostgator mexico   &   2 & 0.2500000 & 0.9500000\\\\\n",
       "\t hostipage domain.com   &   7 & 0.5500000 & 0.6500000\\\\\n",
       "\t hostneubox             &   5 & 0.7500000 & 0.9500000\\\\\n",
       "\t hostvalue domain       &  13 & 0.6500000 & 0.8166667\\\\\n",
       "\t in.nethostgator        &   3 & 0.5500000 & 0.9500000\\\\\n",
       "\t in.netwhois            &  63 & 0.7250000 & 0.7500000\\\\\n",
       "\t online1blu             &  22 & 0.5653846 & 0.6500000\\\\\n",
       "\t onlinea small orange   &   7 & 0.2500000 & 0.9500000\\\\\n",
       "\t onlinea2hosting        &   4 & 0.3500000 & 0.9500000\\\\\n",
       "\t onlineaerotek          &  25 & 0.3900000 & 0.7300000\\\\\n",
       "\t onlinealfahosting      &  67 & 0.4990196 & 0.5088235\\\\\n",
       "\t onlinealpnames         &  29 & 0.7500000 & 0.8333333\\\\\n",
       "\t onlineantagonist       &  70 & 0.4362069 & 0.5224138\\\\\n",
       "\t onlinechengdu fly      &  27 & 0.4500000 & 0.6000000\\\\\n",
       "\t onlinecsl              & 132 & 0.5500000 & 0.5700000\\\\\n",
       "\t onlinedandomains       &   2 & 0.2500000 & 0.9500000\\\\\n",
       "\t onlinedomain offensive &  84 & 0.5285714 & 0.4857143\\\\\n",
       "\t onlinedomain.com       &  68 & 0.4893939 & 0.5227273\\\\\n",
       "\t onlinedomainfactory    &  63 & 0.5160714 & 0.5160714\\\\\n",
       "\t onlinedomeneshop       &  80 & 0.5197674 & 0.5220930\\\\\n",
       "\t onlineforpsi           &  85 & 0.6227273 & 0.6454545\\\\\n",
       "\t onlinehostens          &   5 & 0.4500000 & 0.9500000\\\\\n",
       "\t onlinehosteurope       & 119 & 0.5647368 & 0.5110526\\\\\n",
       "\t onlineinfomaniak.ch    &  63 & 0.5250000 & 0.5321429\\\\\n",
       "\t onlineinternetworx ltd &  87 & 0.5242857 & 0.5214286\\\\\n",
       "\t onlineipage pdr ltd    &   5 & 0.5166667 & 0.4500000\\\\\n",
       "\t onlinemarcaria.com     &   6 & 0.4500000 & 0.5750000\\\\\n",
       "\t onlineneostrada        &  22 & 0.4666667 & 0.5000000\\\\\n",
       "\t onlinenetim            &   6 & 0.5500000 & 0.9500000\\\\\n",
       "\t onlinenicenic          &  52 & 0.4833333 & 0.8833333\\\\\n",
       "\t onlinepromo people     &  84 & 0.5272727 & 0.5386364\\\\\n",
       "\t ⋮ & ⋮ & ⋮ & ⋮\\\\\n",
       "\t techdomains4bitcoins      &  66 & 0.5500000 & 0.4833333\\\\\n",
       "\t techdomeneshop            &  75 & 0.5394737 & 0.5368421\\\\\n",
       "\t techdynadot               &  79 & 0.5595238 & 0.5261905\\\\\n",
       "\t techenom                  &  79 & 0.5083333 & 0.5020833\\\\\n",
       "\t techepik llc              &   4 & 0.1500000 & 0.9500000\\\\\n",
       "\t techeranet                &   5 & 0.0500000 & 0.9500000\\\\\n",
       "\t techfasthosts             &  11 & 0.5357143 & 0.5357143\\\\\n",
       "\t techforpsi                &   7 & 0.4833333 & 0.5166667\\\\\n",
       "\t techhome.pl               &  69 & 0.5115385 & 0.4769231\\\\\n",
       "\t techhostgator brazil      &  51 & 0.5000000 & 0.5409091\\\\\n",
       "\t techhostnet.nl            &  97 & 0.5155738 & 0.4565574\\\\\n",
       "\t techinstra corporation    &  51 & 0.5195652 & 0.5108696\\\\\n",
       "\t techledl.net              &   9 & 0.6000000 & 0.7000000\\\\\n",
       "\t techmetaregistrar         &  35 & 0.4833333 & 0.5314815\\\\\n",
       "\t technamesilo              & 122 & 0.5881818 & 0.6190909\\\\\n",
       "\t techonlinenic             &  18 & 0.7333333 & 0.4166667\\\\\n",
       "\t techpromo people          &  19 & 0.7500000 & 0.5166667\\\\\n",
       "\t techrealtime register     &  22 & 0.4437500 & 0.5500000\\\\\n",
       "\t techrebrandly             &  21 & 0.5611111 & 0.5611111\\\\\n",
       "\t techshanghai best oray    & 117 & 0.5500000 & 0.5750000\\\\\n",
       "\t techshopify               &  87 & 0.4547619 & 0.5547619\\\\\n",
       "\t techspaceweb              &  45 & 0.3500000 & 0.4785714\\\\\n",
       "\t techversio                &  20 & 0.5625000 & 0.5000000\\\\\n",
       "\t techwebsupport.sk         &  35 & 0.5214286 & 0.4714286\\\\\n",
       "\t techwest263 international & 116 & 0.6261905 & 0.4785714\\\\\n",
       "\t techwhogohost             &  50 & 0.8000000 & 0.9500000\\\\\n",
       "\t techwhois                 &  64 & 0.6050000 & 0.5500000\\\\\n",
       "\t techyour hosting          &  19 & 0.4857143 & 0.5785714\\\\\n",
       "\t techzeit                  &  40 & 0.4857143 & 0.6357143\\\\\n",
       "\t website123hjemmeside      &  32 & 0.4875000 & 0.5000000\\\\\n",
       "\t websiteab name isp        &   2 & 0.2500000 & 0.9500000\\\\\n",
       "\t websitealibaba            &  89 & 0.5785714 & 0.4071429\\\\\n",
       "\t websiteantagonist         &  14 & 0.5000000 & 0.6000000\\\\\n",
       "\t websitechengdu west       &  39 & 0.8500000 & 0.9500000\\\\\n",
       "\t websitecronon ag          &  11 & 0.5500000 & 0.5500000\\\\\n",
       "\t websitecsl                &  36 & 0.5375000 & 0.6875000\\\\\n",
       "\t websitedomainesia         &  29 & 0.1500000 & 0.8000000\\\\\n",
       "\t websiteeuro dns           &  43 & 0.9000000 & 0.9500000\\\\\n",
       "\t websitefbs                &  87 & 0.3166667 & 0.3666667\\\\\n",
       "\t websitegridhost           &   2 & 0.2500000 & 0.9500000\\\\\n",
       "\t websitehover              &  56 & 0.4879310 & 0.5465517\\\\\n",
       "\t websiteinternetworx ltd   &  30 & 0.5409091 & 0.5318182\\\\\n",
       "\t websitejimdo              &  19 & 0.5000000 & 0.5571429\\\\\n",
       "\t websitekreativmedia       &   3 & 0.3500000 & 0.5500000\\\\\n",
       "\t websiteliquidnet          &  62 & 0.7250000 & 0.7250000\\\\\n",
       "\t websiteonline sas         &   2 & 0.2500000 & 0.9500000\\\\\n",
       "\t websitepromo people       &   4 & 0.5000000 & 0.8000000\\\\\n",
       "\t websiteshopify            &  14 & 0.5500000 & 0.6500000\\\\\n",
       "\t websitesuperdominios      &   3 & 0.3500000 & 0.5500000\\\\\n",
       "\t websiteversio             &  38 & 0.4285714 & 0.4857143\\\\\n",
       "\\end{tabular}\n"
      ],
      "text/markdown": [
       "\n",
       "A data.frame: 176 × 4\n",
       "\n",
       "| tld_registrar_index &lt;fct&gt; | n &lt;int&gt; | auc_seg2_glm &lt;dbl&gt; | auc_seg2_glm_fb &lt;dbl&gt; |\n",
       "|---|---|---|---|\n",
       "| fun1&amp;1 internet        |  11 | 0.4666667 | 0.6500000 |\n",
       "| fun1api                |   8 | 0.4000000 | 0.4250000 |\n",
       "| funab name isp         |  47 | 0.5166667 | 0.8833333 |\n",
       "| funascio               |   5 | 0.5166667 | 0.4500000 |\n",
       "| funfbs                 |  50 | 0.5000000 | 0.7500000 |\n",
       "| funfoshan yidong       |   8 | 0.8500000 | 0.9500000 |\n",
       "| fungoogle              |  81 | 0.4715686 | 0.4950980 |\n",
       "| funhostnet.nl          |  27 | 0.5100000 | 0.5433333 |\n",
       "| funkey-systems         |  24 | 0.5433333 | 0.5033333 |\n",
       "| funledl.net            |  73 | 0.8500000 | 0.7875000 |\n",
       "| funnetowl              |  42 | 0.5382353 | 0.4970588 |\n",
       "| funnetwork solutions   |   7 | 0.3700000 | 0.6500000 |\n",
       "| funregister.it         | 112 | 0.4652174 | 0.5173913 |\n",
       "| funregistrator domenov |   3 | 0.5500000 | 0.9500000 |\n",
       "| funsered               |  72 | 0.4950000 | 0.6250000 |\n",
       "| host1api               |   6 | 0.7500000 | 0.9500000 |\n",
       "| hostdomain discount    |  18 | 0.6000000 | 0.5000000 |\n",
       "| hostdynadot            |  39 | 0.4750000 | 0.7250000 |\n",
       "| hostgandi sas          |  62 | 0.4500000 | 0.5071429 |\n",
       "| hosthostgator mexico   |   2 | 0.2500000 | 0.9500000 |\n",
       "| hostipage domain.com   |   7 | 0.5500000 | 0.6500000 |\n",
       "| hostneubox             |   5 | 0.7500000 | 0.9500000 |\n",
       "| hostvalue domain       |  13 | 0.6500000 | 0.8166667 |\n",
       "| in.nethostgator        |   3 | 0.5500000 | 0.9500000 |\n",
       "| in.netwhois            |  63 | 0.7250000 | 0.7500000 |\n",
       "| online1blu             |  22 | 0.5653846 | 0.6500000 |\n",
       "| onlinea small orange   |   7 | 0.2500000 | 0.9500000 |\n",
       "| onlinea2hosting        |   4 | 0.3500000 | 0.9500000 |\n",
       "| onlineaerotek          |  25 | 0.3900000 | 0.7300000 |\n",
       "| onlinealfahosting      |  67 | 0.4990196 | 0.5088235 |\n",
       "| onlinealpnames         |  29 | 0.7500000 | 0.8333333 |\n",
       "| onlineantagonist       |  70 | 0.4362069 | 0.5224138 |\n",
       "| onlinechengdu fly      |  27 | 0.4500000 | 0.6000000 |\n",
       "| onlinecsl              | 132 | 0.5500000 | 0.5700000 |\n",
       "| onlinedandomains       |   2 | 0.2500000 | 0.9500000 |\n",
       "| onlinedomain offensive |  84 | 0.5285714 | 0.4857143 |\n",
       "| onlinedomain.com       |  68 | 0.4893939 | 0.5227273 |\n",
       "| onlinedomainfactory    |  63 | 0.5160714 | 0.5160714 |\n",
       "| onlinedomeneshop       |  80 | 0.5197674 | 0.5220930 |\n",
       "| onlineforpsi           |  85 | 0.6227273 | 0.6454545 |\n",
       "| onlinehostens          |   5 | 0.4500000 | 0.9500000 |\n",
       "| onlinehosteurope       | 119 | 0.5647368 | 0.5110526 |\n",
       "| onlineinfomaniak.ch    |  63 | 0.5250000 | 0.5321429 |\n",
       "| onlineinternetworx ltd |  87 | 0.5242857 | 0.5214286 |\n",
       "| onlineipage pdr ltd    |   5 | 0.5166667 | 0.4500000 |\n",
       "| onlinemarcaria.com     |   6 | 0.4500000 | 0.5750000 |\n",
       "| onlineneostrada        |  22 | 0.4666667 | 0.5000000 |\n",
       "| onlinenetim            |   6 | 0.5500000 | 0.9500000 |\n",
       "| onlinenicenic          |  52 | 0.4833333 | 0.8833333 |\n",
       "| onlinepromo people     |  84 | 0.5272727 | 0.5386364 |\n",
       "| ⋮ | ⋮ | ⋮ | ⋮ |\n",
       "| techdomains4bitcoins      |  66 | 0.5500000 | 0.4833333 |\n",
       "| techdomeneshop            |  75 | 0.5394737 | 0.5368421 |\n",
       "| techdynadot               |  79 | 0.5595238 | 0.5261905 |\n",
       "| techenom                  |  79 | 0.5083333 | 0.5020833 |\n",
       "| techepik llc              |   4 | 0.1500000 | 0.9500000 |\n",
       "| techeranet                |   5 | 0.0500000 | 0.9500000 |\n",
       "| techfasthosts             |  11 | 0.5357143 | 0.5357143 |\n",
       "| techforpsi                |   7 | 0.4833333 | 0.5166667 |\n",
       "| techhome.pl               |  69 | 0.5115385 | 0.4769231 |\n",
       "| techhostgator brazil      |  51 | 0.5000000 | 0.5409091 |\n",
       "| techhostnet.nl            |  97 | 0.5155738 | 0.4565574 |\n",
       "| techinstra corporation    |  51 | 0.5195652 | 0.5108696 |\n",
       "| techledl.net              |   9 | 0.6000000 | 0.7000000 |\n",
       "| techmetaregistrar         |  35 | 0.4833333 | 0.5314815 |\n",
       "| technamesilo              | 122 | 0.5881818 | 0.6190909 |\n",
       "| techonlinenic             |  18 | 0.7333333 | 0.4166667 |\n",
       "| techpromo people          |  19 | 0.7500000 | 0.5166667 |\n",
       "| techrealtime register     |  22 | 0.4437500 | 0.5500000 |\n",
       "| techrebrandly             |  21 | 0.5611111 | 0.5611111 |\n",
       "| techshanghai best oray    | 117 | 0.5500000 | 0.5750000 |\n",
       "| techshopify               |  87 | 0.4547619 | 0.5547619 |\n",
       "| techspaceweb              |  45 | 0.3500000 | 0.4785714 |\n",
       "| techversio                |  20 | 0.5625000 | 0.5000000 |\n",
       "| techwebsupport.sk         |  35 | 0.5214286 | 0.4714286 |\n",
       "| techwest263 international | 116 | 0.6261905 | 0.4785714 |\n",
       "| techwhogohost             |  50 | 0.8000000 | 0.9500000 |\n",
       "| techwhois                 |  64 | 0.6050000 | 0.5500000 |\n",
       "| techyour hosting          |  19 | 0.4857143 | 0.5785714 |\n",
       "| techzeit                  |  40 | 0.4857143 | 0.6357143 |\n",
       "| website123hjemmeside      |  32 | 0.4875000 | 0.5000000 |\n",
       "| websiteab name isp        |   2 | 0.2500000 | 0.9500000 |\n",
       "| websitealibaba            |  89 | 0.5785714 | 0.4071429 |\n",
       "| websiteantagonist         |  14 | 0.5000000 | 0.6000000 |\n",
       "| websitechengdu west       |  39 | 0.8500000 | 0.9500000 |\n",
       "| websitecronon ag          |  11 | 0.5500000 | 0.5500000 |\n",
       "| websitecsl                |  36 | 0.5375000 | 0.6875000 |\n",
       "| websitedomainesia         |  29 | 0.1500000 | 0.8000000 |\n",
       "| websiteeuro dns           |  43 | 0.9000000 | 0.9500000 |\n",
       "| websitefbs                |  87 | 0.3166667 | 0.3666667 |\n",
       "| websitegridhost           |   2 | 0.2500000 | 0.9500000 |\n",
       "| websitehover              |  56 | 0.4879310 | 0.5465517 |\n",
       "| websiteinternetworx ltd   |  30 | 0.5409091 | 0.5318182 |\n",
       "| websitejimdo              |  19 | 0.5000000 | 0.5571429 |\n",
       "| websitekreativmedia       |   3 | 0.3500000 | 0.5500000 |\n",
       "| websiteliquidnet          |  62 | 0.7250000 | 0.7250000 |\n",
       "| websiteonline sas         |   2 | 0.2500000 | 0.9500000 |\n",
       "| websitepromo people       |   4 | 0.5000000 | 0.8000000 |\n",
       "| websiteshopify            |  14 | 0.5500000 | 0.6500000 |\n",
       "| websitesuperdominios      |   3 | 0.3500000 | 0.5500000 |\n",
       "| websiteversio             |  38 | 0.4285714 | 0.4857143 |\n",
       "\n"
      ],
      "text/plain": [
       "    tld_registrar_index       n   auc_seg2_glm auc_seg2_glm_fb\n",
       "1   fun1&1 internet            11 0.4666667    0.6500000      \n",
       "2   fun1api                     8 0.4000000    0.4250000      \n",
       "3   funab name isp             47 0.5166667    0.8833333      \n",
       "4   funascio                    5 0.5166667    0.4500000      \n",
       "5   funfbs                     50 0.5000000    0.7500000      \n",
       "6   funfoshan yidong            8 0.8500000    0.9500000      \n",
       "7   fungoogle                  81 0.4715686    0.4950980      \n",
       "8   funhostnet.nl              27 0.5100000    0.5433333      \n",
       "9   funkey-systems             24 0.5433333    0.5033333      \n",
       "10  funledl.net                73 0.8500000    0.7875000      \n",
       "11  funnetowl                  42 0.5382353    0.4970588      \n",
       "12  funnetwork solutions        7 0.3700000    0.6500000      \n",
       "13  funregister.it            112 0.4652174    0.5173913      \n",
       "14  funregistrator domenov      3 0.5500000    0.9500000      \n",
       "15  funsered                   72 0.4950000    0.6250000      \n",
       "16  host1api                    6 0.7500000    0.9500000      \n",
       "17  hostdomain discount        18 0.6000000    0.5000000      \n",
       "18  hostdynadot                39 0.4750000    0.7250000      \n",
       "19  hostgandi sas              62 0.4500000    0.5071429      \n",
       "20  hosthostgator mexico        2 0.2500000    0.9500000      \n",
       "21  hostipage domain.com        7 0.5500000    0.6500000      \n",
       "22  hostneubox                  5 0.7500000    0.9500000      \n",
       "23  hostvalue domain           13 0.6500000    0.8166667      \n",
       "24  in.nethostgator             3 0.5500000    0.9500000      \n",
       "25  in.netwhois                63 0.7250000    0.7500000      \n",
       "26  online1blu                 22 0.5653846    0.6500000      \n",
       "27  onlinea small orange        7 0.2500000    0.9500000      \n",
       "28  onlinea2hosting             4 0.3500000    0.9500000      \n",
       "29  onlineaerotek              25 0.3900000    0.7300000      \n",
       "30  onlinealfahosting          67 0.4990196    0.5088235      \n",
       "31  onlinealpnames             29 0.7500000    0.8333333      \n",
       "32  onlineantagonist           70 0.4362069    0.5224138      \n",
       "33  onlinechengdu fly          27 0.4500000    0.6000000      \n",
       "34  onlinecsl                 132 0.5500000    0.5700000      \n",
       "35  onlinedandomains            2 0.2500000    0.9500000      \n",
       "36  onlinedomain offensive     84 0.5285714    0.4857143      \n",
       "37  onlinedomain.com           68 0.4893939    0.5227273      \n",
       "38  onlinedomainfactory        63 0.5160714    0.5160714      \n",
       "39  onlinedomeneshop           80 0.5197674    0.5220930      \n",
       "40  onlineforpsi               85 0.6227273    0.6454545      \n",
       "41  onlinehostens               5 0.4500000    0.9500000      \n",
       "42  onlinehosteurope          119 0.5647368    0.5110526      \n",
       "43  onlineinfomaniak.ch        63 0.5250000    0.5321429      \n",
       "44  onlineinternetworx ltd     87 0.5242857    0.5214286      \n",
       "45  onlineipage pdr ltd         5 0.5166667    0.4500000      \n",
       "46  onlinemarcaria.com          6 0.4500000    0.5750000      \n",
       "47  onlineneostrada            22 0.4666667    0.5000000      \n",
       "48  onlinenetim                 6 0.5500000    0.9500000      \n",
       "49  onlinenicenic              52 0.4833333    0.8833333      \n",
       "50  onlinepromo people         84 0.5272727    0.5386364      \n",
       "⋮   ⋮                         ⋮   ⋮            ⋮              \n",
       "127 techdomains4bitcoins       66 0.5500000    0.4833333      \n",
       "128 techdomeneshop             75 0.5394737    0.5368421      \n",
       "129 techdynadot                79 0.5595238    0.5261905      \n",
       "130 techenom                   79 0.5083333    0.5020833      \n",
       "131 techepik llc                4 0.1500000    0.9500000      \n",
       "132 techeranet                  5 0.0500000    0.9500000      \n",
       "133 techfasthosts              11 0.5357143    0.5357143      \n",
       "134 techforpsi                  7 0.4833333    0.5166667      \n",
       "135 techhome.pl                69 0.5115385    0.4769231      \n",
       "136 techhostgator brazil       51 0.5000000    0.5409091      \n",
       "137 techhostnet.nl             97 0.5155738    0.4565574      \n",
       "138 techinstra corporation     51 0.5195652    0.5108696      \n",
       "139 techledl.net                9 0.6000000    0.7000000      \n",
       "140 techmetaregistrar          35 0.4833333    0.5314815      \n",
       "141 technamesilo              122 0.5881818    0.6190909      \n",
       "142 techonlinenic              18 0.7333333    0.4166667      \n",
       "143 techpromo people           19 0.7500000    0.5166667      \n",
       "144 techrealtime register      22 0.4437500    0.5500000      \n",
       "145 techrebrandly              21 0.5611111    0.5611111      \n",
       "146 techshanghai best oray    117 0.5500000    0.5750000      \n",
       "147 techshopify                87 0.4547619    0.5547619      \n",
       "148 techspaceweb               45 0.3500000    0.4785714      \n",
       "149 techversio                 20 0.5625000    0.5000000      \n",
       "150 techwebsupport.sk          35 0.5214286    0.4714286      \n",
       "151 techwest263 international 116 0.6261905    0.4785714      \n",
       "152 techwhogohost              50 0.8000000    0.9500000      \n",
       "153 techwhois                  64 0.6050000    0.5500000      \n",
       "154 techyour hosting           19 0.4857143    0.5785714      \n",
       "155 techzeit                   40 0.4857143    0.6357143      \n",
       "156 website123hjemmeside       32 0.4875000    0.5000000      \n",
       "157 websiteab name isp          2 0.2500000    0.9500000      \n",
       "158 websitealibaba             89 0.5785714    0.4071429      \n",
       "159 websiteantagonist          14 0.5000000    0.6000000      \n",
       "160 websitechengdu west        39 0.8500000    0.9500000      \n",
       "161 websitecronon ag           11 0.5500000    0.5500000      \n",
       "162 websitecsl                 36 0.5375000    0.6875000      \n",
       "163 websitedomainesia          29 0.1500000    0.8000000      \n",
       "164 websiteeuro dns            43 0.9000000    0.9500000      \n",
       "165 websitefbs                 87 0.3166667    0.3666667      \n",
       "166 websitegridhost             2 0.2500000    0.9500000      \n",
       "167 websitehover               56 0.4879310    0.5465517      \n",
       "168 websiteinternetworx ltd    30 0.5409091    0.5318182      \n",
       "169 websitejimdo               19 0.5000000    0.5571429      \n",
       "170 websitekreativmedia         3 0.3500000    0.5500000      \n",
       "171 websiteliquidnet           62 0.7250000    0.7250000      \n",
       "172 websiteonline sas           2 0.2500000    0.9500000      \n",
       "173 websitepromo people         4 0.5000000    0.8000000      \n",
       "174 websiteshopify             14 0.5500000    0.6500000      \n",
       "175 websitesuperdominios        3 0.3500000    0.5500000      \n",
       "176 websiteversio              38 0.4285714    0.4857143      "
      ]
     },
     "metadata": {},
     "output_type": "display_data"
    }
   ],
   "source": [
    "# Interesting that in 3 (1) cases, the fallback version outperforms original version of seg2_glm\n",
    "# But these are all cases where the models tied and which.max simply picked the first index\n",
    "metametrics_df %>% filter(auc_win_03 == 'auc_seg2_glm_fb') %>% select(tld_registrar_index,n,auc_vars)\n",
    "metametrics_df %>% filter(l10_win_03 == 'l10_seg2_glm_fb') %>% select(tld_registrar_index,n,auc_vars)"
   ]
  },
  {
   "cell_type": "code",
   "execution_count": null,
   "metadata": {},
   "outputs": [],
   "source": [
    "# examine renewal_status dist and NAs for these tld-reg\n",
    "\n",
    "(tld_regs <- c( expiry_test_metametrics %>% \n",
    "    filter(auc_win_03 == 'auc_seg2_glm_fb') %>% \n",
    "    pull(tld_registrar_index), \n",
    "              expiry_test_metametrics %>% \n",
    "    filter(auc_win_03 == 'l10_seg2_glm_fb') %>% \n",
    "    pull(tld_registrar_index)))\n",
    "\n",
    "# all have both renewed and not renewed domains\n",
    "expiry_test_predictions %>% \n",
    "  filter(tld_registrar_index %in% tld_regs) %>% \n",
    "  select(tld_registrar_index, renewal_status, pred_df_seg2_glm, pred_df_seg2_glm_fb) %>% \n",
    "  group_by(tld_registrar_index, renewal_status) %>% \n",
    "     summarise(n = n())%>%\n",
    "     mutate(freq = n / sum(n))"
   ]
  },
  {
   "cell_type": "code",
   "execution_count": null,
   "metadata": {},
   "outputs": [],
   "source": [
    "expiry_test_predictions %>% \n",
    "  filter(tld_registrar_index %in% tld_regs) %>% \n",
    "  select(tld_registrar_index, renewal_status, pred_df_seg2_glm, pred_df_seg2_glm_fb) %>% \n",
    "  group_by(tld_registrar_index) %>% \n",
    "  select(pred_df_seg2_glm) %>%  # replace to your needs\n",
    "  summarise_all(funs(sum(is.na(.))))"
   ]
  },
  {
   "cell_type": "code",
   "execution_count": null,
   "metadata": {},
   "outputs": [],
   "source": [
    "expiry_test_predictions %>% filter(tld_registrar_index=='onlinedomeneshop') %>% select(\n",
    "    tld_registrar_index, domain, renewal_status, pred_df_seg2_glm, pred_df_seg2_glm_fb)"
   ]
  },
  {
   "cell_type": "code",
   "execution_count": null,
   "metadata": {},
   "outputs": [],
   "source": [
    "expiry_test_predictions %>% filter(is.na(pred_df_seg2_glm)) %>% select(\n",
    "    tld_registrar_index, domain, renewal_status, pred_df_seg2_glm, pred_df_seg2_glm_fb)"
   ]
  },
  {
   "cell_type": "code",
   "execution_count": null,
   "metadata": {},
   "outputs": [],
   "source": [
    "expiry_test_predictions %>% filter(is.na(pred_df_seg2_glm)) %>% select(\n",
    "    tld_registrar_index, domain, renewal_status, pred_df_seg2_glm, pred_df_seg2_glm_fb) %>% summary()\n"
   ]
  },
  {
   "cell_type": "markdown",
   "metadata": {},
   "source": [
    "# Quickly examine 391 and 88 NA predictions"
   ]
  },
  {
   "cell_type": "code",
   "execution_count": null,
   "metadata": {},
   "outputs": [],
   "source": [
    "test_88NA_idxs <- expiry_test_predictions %>% filter(is.na(pred_df_agg_rf)) %>% pull(tld_registrar_index) \n",
    "test_88NA_idxs"
   ]
  },
  {
   "cell_type": "code",
   "execution_count": null,
   "metadata": {},
   "outputs": [],
   "source": [
    "expiry_train_df_1 %>% filter(tld_registrar_index %in% test_88NA_idxs) %>% dim()"
   ]
  },
  {
   "cell_type": "code",
   "execution_count": null,
   "metadata": {},
   "outputs": [],
   "source": [
    "expiry_test_df_1 %>% filter(tld_registrar_index %in% test_88NA_idxs)"
   ]
  },
  {
   "cell_type": "code",
   "execution_count": null,
   "metadata": {},
   "outputs": [],
   "source": [
    "#    for 391 obs in predictions with no domain_id... \n",
    "# ... these are tld_reg combinations which do not exist in the test data\n",
    "test_ <- read.csv(\"../../data/tld_reseller_compare_predictions.csv\") \n",
    "#    all of tld_reg only have at max one such row\n",
    "sum(test_ %>% filter(is.na(domain))  %>% select(tld_registrar_index) %>% table() >1)\n",
    "#    how many observations do they have in test data vs in predictions?\n",
    "tld_reg_ <- test_ %>% filter(is.na(domain))  %>% pull(tld_registrar_index)\n",
    "expiry_test_df_1 %>% filter(tld_registrar_index %in% tld_reg_) %>% group_by(tld_registrar_index) %>% tally()\n",
    "# 0 & empty"
   ]
  },
  {
   "cell_type": "code",
   "execution_count": null,
   "metadata": {},
   "outputs": [],
   "source": [
    "test_ %>% filter(is.na(domain)) "
   ]
  },
  {
   "cell_type": "code",
   "execution_count": null,
   "metadata": {},
   "outputs": [],
   "source": [
    "tld_reg_[[1]]\n",
    "expiry_test_df_1 %>% filter(reseller == 'baidu') %>% pull(tld) %>% table()"
   ]
  },
  {
   "cell_type": "code",
   "execution_count": null,
   "metadata": {},
   "outputs": [],
   "source": [
    "sum(expiry_train_df_1 %>% filter(tld_registrar_index %in% tld_reg_) %>% group_by(tld_registrar_index) %>% tally() <1)"
   ]
  },
  {
   "cell_type": "markdown",
   "metadata": {},
   "source": [
    "# RF MULTICLASS w/ auc_win_02"
   ]
  },
  {
   "cell_type": "markdown",
   "metadata": {},
   "source": [
    "## Define train and test"
   ]
  },
  {
   "cell_type": "code",
   "execution_count": null,
   "metadata": {},
   "outputs": [],
   "source": [
    "head(expiry_test_metametrics)"
   ]
  },
  {
   "cell_type": "code",
   "execution_count": null,
   "metadata": {},
   "outputs": [],
   "source": [
    "names(expiry_test_metametrics)"
   ]
  },
  {
   "cell_type": "code",
   "execution_count": null,
   "metadata": {},
   "outputs": [],
   "source": [
    "expiry_test_metametrics_sub = expiry_test_metametrics %>% \n",
    "  select('auc_win_02', 'l10_win_02','ren_prp','tld_rat',\n",
    "         'country_maj','region_maj','country_cnt','region_cnt',\n",
    "         'geo_cnt', 'geo_maj',\n",
    "         'daydom_min','daydom_max','daydom_mean','daydom_rng','daydom_std','daydom_skew','daydom_kurt',\n",
    "         'sldlen_min','sldlen_max','sldlen_mean','sldlen_rng','sldlen_std','sldlen_skew','sldlen_kurt',\n",
    "         'gibbs_min','gibbs_max','gibbs_mean','gibbs_rng','gibbs_std','gibbs_skew','gibbs_kurt',\n",
    "         'pdcnt_min','pdcnt_max','pdcnt_mean','pdcnt_rng','pdcnt_std','pdcnt_skew','pdcnt_kurt',\n",
    "         'regarpt_min','regarpt_max','regarpt_mean','regarpt_rng','regarpt_std','regarpt_skew','regarpt_kurt')\n",
    "head(expiry_test_metametrics_sub)"
   ]
  },
  {
   "cell_type": "markdown",
   "metadata": {},
   "source": [
    "## Impute Missing Values"
   ]
  },
  {
   "cell_type": "code",
   "execution_count": null,
   "metadata": {},
   "outputs": [],
   "source": [
    "expiry_test_metametrics_sub %>%\n",
    "  select(everything()) %>%  \n",
    "  summarise_all(funs(sum(is.na(.)))) %>%  \n",
    "  t() "
   ]
  },
  {
   "cell_type": "code",
   "execution_count": null,
   "metadata": {},
   "outputs": [],
   "source": [
    "# install.packages(\"missRanger\")\n",
    "library(missRanger)"
   ]
  },
  {
   "cell_type": "code",
   "execution_count": null,
   "metadata": {},
   "outputs": [],
   "source": [
    "expiry_test_metametrics_sub_imp <- missRanger(expiry_test_metametrics_sub, num.trees = 100)"
   ]
  },
  {
   "cell_type": "code",
   "execution_count": null,
   "metadata": {},
   "outputs": [],
   "source": [
    "expiry_test_metametrics_sub_imp$auc_win_02 <- factor(expiry_test_metametrics_sub_imp$auc_win_02)\n",
    "str(expiry_test_metametrics_sub_imp$auc_win_02)\n",
    "expiry_test_metametrics_sub_imp$auc_win_02 <- relevel(expiry_test_metametrics_sub_imp$auc_win_02, ref=5)\n",
    "str(expiry_test_metametrics_sub_imp$auc_win_02)"
   ]
  },
  {
   "cell_type": "code",
   "execution_count": null,
   "metadata": {},
   "outputs": [],
   "source": []
  },
  {
   "cell_type": "code",
   "execution_count": null,
   "metadata": {},
   "outputs": [],
   "source": [
    "set.seed(123) \n",
    "smp_siz = floor(0.8*nrow(expiry_test_metametrics_sub_imp))\n",
    "train_ind = sample(seq_len(nrow(expiry_test_metametrics_sub_imp)),size = smp_siz) \n",
    "train = expiry_test_metametrics_sub_imp[train_ind,] \n",
    "test = expiry_test_metametrics_sub_imp[-train_ind,]  "
   ]
  },
  {
   "cell_type": "code",
   "execution_count": null,
   "metadata": {},
   "outputs": [],
   "source": [
    "dim(train)\n",
    "dim(test)"
   ]
  },
  {
   "cell_type": "code",
   "execution_count": null,
   "metadata": {},
   "outputs": [],
   "source": []
  },
  {
   "cell_type": "markdown",
   "metadata": {},
   "source": [
    "## RF multiclass auc"
   ]
  },
  {
   "cell_type": "code",
   "execution_count": null,
   "metadata": {},
   "outputs": [],
   "source": [
    "prop.table(table(train$auc_win_02))\n",
    "prop.table(table(test$auc_win_02))"
   ]
  },
  {
   "cell_type": "code",
   "execution_count": null,
   "metadata": {},
   "outputs": [],
   "source": [
    "library(ranger) "
   ]
  },
  {
   "cell_type": "code",
   "execution_count": null,
   "metadata": {},
   "outputs": [],
   "source": [
    "model <- ranger(formula         = auc_win_02 ~ ., \n",
    "                data            = subset(train, select = -c(l10_win_02) ), \n",
    "                importance = 'impurity', \n",
    "                num.trees       = 500,\n",
    "                probability = TRUE,\n",
    "                replace = FALSE,\n",
    "                sample.fraction = .8,\n",
    "                seed            = 123,\n",
    "                respect.unordered.factors=TRUE)"
   ]
  },
  {
   "cell_type": "code",
   "execution_count": null,
   "metadata": {},
   "outputs": [],
   "source": [
    "pred <- predict(model, \n",
    "                data = test,\n",
    "                type=\"response\")$predictions"
   ]
  },
  {
   "cell_type": "code",
   "execution_count": null,
   "metadata": {},
   "outputs": [],
   "source": [
    "head(pred)"
   ]
  },
  {
   "cell_type": "code",
   "execution_count": null,
   "metadata": {},
   "outputs": [],
   "source": [
    "pred <- as.data.frame(pred)\n",
    "auc_vars <- names(pred)\n",
    "pred <- pred %>%\n",
    "    mutate (auc_win_02=sapply(apply(.[,c(auc_vars)], \n",
    "                          1, function(x) names(x)[which.max(x)]) , \n",
    "                                    function(s) if (length(s) == 0) NA else paste(s, collapse = \" \")) \n",
    "            ) \n",
    "head(pred)"
   ]
  },
  {
   "cell_type": "code",
   "execution_count": null,
   "metadata": {},
   "outputs": [],
   "source": [
    "xtab <- table(test$auc_win_02, pred$auc_win_02)\n",
    "xtab"
   ]
  },
  {
   "cell_type": "code",
   "execution_count": null,
   "metadata": {},
   "outputs": [],
   "source": [
    "levels(factor(test$auc_win_02))\n",
    "levels(factor(pred$auc_win_02))"
   ]
  },
  {
   "cell_type": "code",
   "execution_count": null,
   "metadata": {},
   "outputs": [],
   "source": [
    "unique(train$auc_win_02)\n",
    "unique(test$auc_win_02)"
   ]
  },
  {
   "cell_type": "code",
   "execution_count": null,
   "metadata": {},
   "outputs": [],
   "source": [
    "confusionMatrix(data=factor(test$auc_win_02,\n",
    "                           levels=levels(factor(pred$auc_win_02))), reference=factor(pred$auc_win_02))"
   ]
  },
  {
   "cell_type": "code",
   "execution_count": null,
   "metadata": {},
   "outputs": [],
   "source": [
    "as.data.frame(importance(model)) %>% arrange(desc(importance(model))) %>% head(15)"
   ]
  },
  {
   "cell_type": "markdown",
   "metadata": {},
   "source": [
    "## RF multiclass l10"
   ]
  },
  {
   "cell_type": "code",
   "execution_count": null,
   "metadata": {},
   "outputs": [],
   "source": [
    "prop.table(table(train$l10_win_02))\n",
    "prop.table(table(test$l10_win_02))"
   ]
  },
  {
   "cell_type": "code",
   "execution_count": null,
   "metadata": {},
   "outputs": [],
   "source": [
    "library(ranger) "
   ]
  },
  {
   "cell_type": "code",
   "execution_count": null,
   "metadata": {},
   "outputs": [],
   "source": [
    "model <- ranger(formula         = l10_win_02 ~ ., \n",
    "                data            = subset(train, select = -c(auc_win_02) ), \n",
    "                importance = 'impurity', \n",
    "                num.trees       = 500,\n",
    "                probability = TRUE,\n",
    "                replace = FALSE,\n",
    "                sample.fraction = .8,\n",
    "                seed            = 123,\n",
    "                respect.unordered.factors=TRUE)"
   ]
  },
  {
   "cell_type": "code",
   "execution_count": null,
   "metadata": {},
   "outputs": [],
   "source": [
    "pred <- predict(model, \n",
    "                data = test,\n",
    "                type=\"response\")$predictions"
   ]
  },
  {
   "cell_type": "code",
   "execution_count": null,
   "metadata": {},
   "outputs": [],
   "source": [
    "head(pred)"
   ]
  },
  {
   "cell_type": "code",
   "execution_count": null,
   "metadata": {},
   "outputs": [],
   "source": [
    "pred <- as.data.frame(pred)\n",
    "vars <- names(pred)\n",
    "pred <- pred %>%\n",
    "    mutate (l10_win_02=sapply(apply(.[,c(vars)], \n",
    "                          1, function(x) names(x)[which.max(x)]) , function(s) if (length(s) == 0) NA else paste(s, collapse = \" \")) \n",
    "            ) \n",
    "head(pred)"
   ]
  },
  {
   "cell_type": "code",
   "execution_count": null,
   "metadata": {},
   "outputs": [],
   "source": [
    "xtab <- table(test$l10_win_02, pred$l10_win_02)\n",
    "xtab"
   ]
  },
  {
   "cell_type": "code",
   "execution_count": null,
   "metadata": {},
   "outputs": [],
   "source": [
    "confusionMatrix(data=factor(test$l10_win_02), reference=factor(pred$l10_win_02, levels=levels(factor(test$l10_win_02))))"
   ]
  },
  {
   "cell_type": "code",
   "execution_count": null,
   "metadata": {},
   "outputs": [],
   "source": [
    "table(test_imp$l10_win)"
   ]
  },
  {
   "cell_type": "code",
   "execution_count": null,
   "metadata": {},
   "outputs": [],
   "source": [
    "table(pred$win)"
   ]
  },
  {
   "cell_type": "code",
   "execution_count": null,
   "metadata": {},
   "outputs": [],
   "source": [
    "as.data.frame(importance(model)) %>% arrange(desc(importance(model))) %>% head(15)"
   ]
  },
  {
   "cell_type": "markdown",
   "metadata": {},
   "source": [
    "# RF BINARY w/ auc_win_01"
   ]
  },
  {
   "cell_type": "markdown",
   "metadata": {},
   "source": [
    "## Define train and test"
   ]
  },
  {
   "cell_type": "code",
   "execution_count": null,
   "metadata": {},
   "outputs": [],
   "source": [
    "head(expiry_test_metametrics)"
   ]
  },
  {
   "cell_type": "code",
   "execution_count": null,
   "metadata": {},
   "outputs": [],
   "source": [
    "names(expiry_test_metametrics)"
   ]
  },
  {
   "cell_type": "code",
   "execution_count": null,
   "metadata": {},
   "outputs": [],
   "source": [
    "levels(factor(test_imp$l10_win))\n",
    "levels(factor(pred$win))"
   ]
  },
  {
   "cell_type": "code",
   "execution_count": null,
   "metadata": {},
   "outputs": [],
   "source": [
    "expiry_test_metametrics_sub = expiry_test_metametrics %>% \n",
    "  select('auc_win_01', 'l10_win_01',\n",
    "         'ren_prp','tld_rat',\n",
    "         'country_maj','region_maj','country_cnt','region_cnt',\n",
    "         'geo_cnt', 'geo_maj',\n",
    "         'daydom_min','daydom_max','daydom_mean','daydom_rng','daydom_std','daydom_skew','daydom_kurt',\n",
    "         'sldlen_min','sldlen_max','sldlen_mean','sldlen_rng','sldlen_std','sldlen_skew','sldlen_kurt',\n",
    "         'gibbs_min','gibbs_max','gibbs_mean','gibbs_rng','gibbs_std','gibbs_skew','gibbs_kurt',\n",
    "         'pdcnt_min','pdcnt_max','pdcnt_mean','pdcnt_rng','pdcnt_std','pdcnt_skew','pdcnt_kurt',\n",
    "         'regarpt_min','regarpt_max','regarpt_mean','regarpt_rng','regarpt_std','regarpt_skew','regarpt_kurt')\n",
    "head(expiry_test_metametrics_sub)"
   ]
  },
  {
   "cell_type": "markdown",
   "metadata": {},
   "source": [
    "## Impute Missing Values"
   ]
  },
  {
   "cell_type": "code",
   "execution_count": null,
   "metadata": {},
   "outputs": [],
   "source": [
    "expiry_test_metametrics_sub %>%\n",
    "  select(everything()) %>%  \n",
    "  summarise_all(funs(sum(is.na(.)))) %>%  \n",
    "  t() "
   ]
  },
  {
   "cell_type": "code",
   "execution_count": null,
   "metadata": {},
   "outputs": [],
   "source": [
    "# install.packages(\"missRanger\")\n",
    "library(missRanger)"
   ]
  },
  {
   "cell_type": "code",
   "execution_count": null,
   "metadata": {},
   "outputs": [],
   "source": [
    "expiry_test_metametrics_sub_imp <- missRanger(expiry_test_metametrics_sub, num.trees = 100)"
   ]
  },
  {
   "cell_type": "code",
   "execution_count": null,
   "metadata": {},
   "outputs": [],
   "source": [
    "expiry_test_metametrics_sub_imp$auc_win_01 <- factor(expiry_test_metametrics_sub_imp$auc_win_01)\n",
    "str(expiry_test_metametrics_sub_imp$auc_win_01)\n",
    "expiry_test_metametrics_sub_imp$auc_win_01 <- relevel(expiry_test_metametrics_sub_imp$auc_win_01, ref=2)\n",
    "str(expiry_test_metametrics_sub_imp$auc_win_01)"
   ]
  },
  {
   "cell_type": "code",
   "execution_count": null,
   "metadata": {},
   "outputs": [],
   "source": [
    "set.seed(123) \n",
    "smp_siz = floor(0.8*nrow(expiry_test_metametrics_sub_imp))\n",
    "train_ind = sample(seq_len(nrow(expiry_test_metametrics_sub_imp)),size = smp_siz) \n",
    "train = expiry_test_metametrics_sub_imp[train_ind,] \n",
    "test = expiry_test_metametrics_sub_imp[-train_ind,]  "
   ]
  },
  {
   "cell_type": "markdown",
   "metadata": {},
   "source": [
    "## RF binary auc"
   ]
  },
  {
   "cell_type": "code",
   "execution_count": null,
   "metadata": {},
   "outputs": [],
   "source": [
    "library(ranger) "
   ]
  },
  {
   "cell_type": "code",
   "execution_count": null,
   "metadata": {},
   "outputs": [],
   "source": [
    "model <- ranger(formula         = auc_win_01 ~ ., \n",
    "                data            = subset(train, select = -c(l10_win_01) ), \n",
    "                importance = 'impurity', \n",
    "                num.trees       = 500,\n",
    "                probability = TRUE,\n",
    "                replace = FALSE,\n",
    "                sample.fraction = .8,\n",
    "                seed            = 123,\n",
    "                respect.unordered.factors=TRUE)"
   ]
  },
  {
   "cell_type": "code",
   "execution_count": null,
   "metadata": {},
   "outputs": [],
   "source": [
    "levels(factor(test$auc_win_01))\n",
    "levels(factor(pred$auc_win_01))"
   ]
  },
  {
   "cell_type": "code",
   "execution_count": null,
   "metadata": {},
   "outputs": [],
   "source": [
    "pred <- predict(model, \n",
    "                data = test,\n",
    "                type=\"response\")$predictions"
   ]
  },
  {
   "cell_type": "code",
   "execution_count": null,
   "metadata": {},
   "outputs": [],
   "source": [
    "pred <- as.data.frame(pred)\n",
    "auc_vars <- names(pred)\n",
    "pred <- pred %>%\n",
    "    mutate (auc_win_01=sapply(apply(.[,c(auc_vars)], \n",
    "                          1, function(x) names(x)[which.max(x)]) , \n",
    "                                    function(s) if (length(s) == 0) NA else paste(s, collapse = \" \")) \n",
    "            ) \n",
    "head(pred)"
   ]
  },
  {
   "cell_type": "code",
   "execution_count": null,
   "metadata": {},
   "outputs": [],
   "source": [
    "table(pred$auc_win_01)"
   ]
  },
  {
   "cell_type": "code",
   "execution_count": null,
   "metadata": {},
   "outputs": [],
   "source": [
    "xtab <- table(test$auc_win_01, pred$auc_win_01)\n",
    "xtab"
   ]
  },
  {
   "cell_type": "code",
   "execution_count": null,
   "metadata": {},
   "outputs": [],
   "source": [
    "confusionMatrix(data=factor(test$auc_win_01), \n",
    "                reference=factor(pred$auc_win_01, levels=levels(factor(test$auc_win_01))))"
   ]
  },
  {
   "cell_type": "code",
   "execution_count": null,
   "metadata": {},
   "outputs": [],
   "source": [
    "length((test$l10_win_01))\n",
    "length((pred$l10_win_01))"
   ]
  },
  {
   "cell_type": "code",
   "execution_count": null,
   "metadata": {},
   "outputs": [],
   "source": [
    "as.data.frame(importance(model)) %>% arrange(desc(importance(model))) %>% head(15)"
   ]
  },
  {
   "cell_type": "markdown",
   "metadata": {},
   "source": [
    "## RF binary l10"
   ]
  },
  {
   "cell_type": "code",
   "execution_count": null,
   "metadata": {},
   "outputs": [],
   "source": [
    "library(ranger) "
   ]
  },
  {
   "cell_type": "code",
   "execution_count": null,
   "metadata": {},
   "outputs": [],
   "source": [
    "model <- ranger(formula         = l10_win_01 ~ ., \n",
    "                data            = subset(train, select = -c(auc_win_01) ), \n",
    "                importance = 'impurity', \n",
    "                num.trees       = 500,\n",
    "                probability = TRUE,\n",
    "                replace = FALSE,\n",
    "                sample.fraction = .8,\n",
    "                seed            = 123,\n",
    "                respect.unordered.factors=TRUE)"
   ]
  },
  {
   "cell_type": "code",
   "execution_count": null,
   "metadata": {},
   "outputs": [],
   "source": [
    "pred <- predict(model, \n",
    "                data = test,\n",
    "                type=\"response\")$predictions"
   ]
  },
  {
   "cell_type": "code",
   "execution_count": null,
   "metadata": {},
   "outputs": [],
   "source": [
    "pred <- as.data.frame(pred)\n",
    "auc_vars <- names(pred)\n",
    "pred <- pred %>%\n",
    "    mutate (l10_win_01=sapply(apply(.[,c(auc_vars)], \n",
    "                          1, function(x) names(x)[which.max(x)]) , \n",
    "                                    function(s) if (length(s) == 0) NA else paste(s, collapse = \" \")) \n",
    "            ) \n",
    "head(pred)"
   ]
  },
  {
   "cell_type": "code",
   "execution_count": null,
   "metadata": {},
   "outputs": [],
   "source": [
    "table(pred$l10_win_01)"
   ]
  },
  {
   "cell_type": "code",
   "execution_count": null,
   "metadata": {},
   "outputs": [],
   "source": [
    "xtab <- table(test$l10_win_01, pred$l10_win_01)\n",
    "xtab"
   ]
  },
  {
   "cell_type": "code",
   "execution_count": null,
   "metadata": {},
   "outputs": [],
   "source": [
    "confusionMatrix(data=factor(test$l10_win_01), \n",
    "                reference=factor(pred$l10_win_01, levels=levels(factor(test$l10_win_01))))"
   ]
  },
  {
   "cell_type": "code",
   "execution_count": null,
   "metadata": {},
   "outputs": [],
   "source": [
    "length((test$l10_win_01))\n",
    "length((pred$l10_win_01))"
   ]
  },
  {
   "cell_type": "code",
   "execution_count": null,
   "metadata": {},
   "outputs": [],
   "source": [
    "prop.table(table(test$l10_win_01))\n",
    "prop.table(table(test$auc_win_01))"
   ]
  },
  {
   "cell_type": "code",
   "execution_count": null,
   "metadata": {},
   "outputs": [],
   "source": [
    "as.data.frame(importance(model)) %>% arrange(desc(importance(model))) %>% head(15)"
   ]
  },
  {
   "cell_type": "markdown",
   "metadata": {},
   "source": [
    "# Assign Model based on Binary prediction for AUC"
   ]
  },
  {
   "cell_type": "code",
   "execution_count": null,
   "metadata": {},
   "outputs": [],
   "source": [
    "model <- ranger(formula         = auc_win_01 ~ ., \n",
    "                data            = subset(train, select = -c(l10_win_01) ), \n",
    "                importance = 'impurity', \n",
    "                num.trees       = 500,\n",
    "                probability = TRUE,\n",
    "                replace = FALSE,\n",
    "                sample.fraction = .8,\n",
    "                seed            = 123,\n",
    "                respect.unordered.factors=TRUE)"
   ]
  },
  {
   "cell_type": "code",
   "execution_count": null,
   "metadata": {},
   "outputs": [],
   "source": [
    "pred <- predict(model, \n",
    "                data = test,\n",
    "                type=\"response\")$predictions"
   ]
  },
  {
   "cell_type": "code",
   "execution_count": null,
   "metadata": {},
   "outputs": [],
   "source": [
    "pred <- as.data.frame(pred)\n",
    "auc_vars <- names(pred)\n",
    "pred <- pred %>%\n",
    "    mutate (auc_win_01=sapply(apply(.[,c(auc_vars)], \n",
    "                          1, function(x) names(x)[which.max(x)]) , \n",
    "                                    function(s) if (length(s) == 0) NA else paste(s, collapse = \" \")) \n",
    "            ) \n",
    "head(pred)"
   ]
  },
  {
   "cell_type": "code",
   "execution_count": null,
   "metadata": {},
   "outputs": [],
   "source": [
    "test_pred <- cbind(test,pred)\n",
    "# test_pred <- test_pred %>% select()\n",
    "dim(test)\n",
    "dim(pred)\n",
    "dim(test_pred)\n",
    "head(test_pred)"
   ]
  },
  {
   "cell_type": "markdown",
   "metadata": {},
   "source": [
    "# Calc metrics"
   ]
  },
  {
   "cell_type": "markdown",
   "metadata": {},
   "source": [
    "## generate lookup for tld-reg model"
   ]
  },
  {
   "cell_type": "code",
   "execution_count": null,
   "metadata": {},
   "outputs": [],
   "source": [
    "head(expiry_test_meta)"
   ]
  },
  {
   "cell_type": "code",
   "execution_count": null,
   "metadata": {},
   "outputs": [],
   "source": [
    "expiry_test_meta_test <- expiry_test_meta[-train_ind,]\n",
    "\n",
    "dim(pred)\n",
    "dim(expiry_test_meta_test)\n",
    "\n",
    "expiry_test_meta_test <- cbind(expiry_test_meta_test, pred)\n",
    "expiry_test_meta_test <- expiry_test_meta_test %>% select(tld_registrar_index, auc_win_01)\n",
    "\n",
    "expiry_test_meta_test %>% head()"
   ]
  },
  {
   "cell_type": "markdown",
   "metadata": {},
   "source": [
    "## assign prediction based on lookup"
   ]
  },
  {
   "cell_type": "code",
   "execution_count": null,
   "metadata": {},
   "outputs": [],
   "source": [
    "expiry_test_predictions_assign <- merge(expiry_test_predictions, \n",
    "                                       expiry_test_meta_test, \n",
    "                                       on='tld_registrar_index',\n",
    "                                       all=TRUE)\n",
    "dim(expiry_test_predictions_assign)\n",
    "dim(expiry_test_predictions)\n",
    "head(expiry_test_predictions_assign)"
   ]
  },
  {
   "cell_type": "code",
   "execution_count": null,
   "metadata": {},
   "outputs": [],
   "source": [
    "# metalearning trained on 80% subset of 20% subset of expiry\n",
    "# tested on 20% subset of 20% of expiry\n",
    "\n",
    "table(expiry_test_predictions_assign$auc_win_01)/nrow(expiry_test_predictions_assign)\n",
    "sum(is.na(expiry_test_predictions_assign$auc_win_01))/nrow(expiry_test_predictions_assign)"
   ]
  },
  {
   "cell_type": "code",
   "execution_count": null,
   "metadata": {},
   "outputs": [],
   "source": [
    "# remove all NAs\n",
    "# ie elements of test which were used to train the model\n",
    "expiry_test_predictions_assign <- expiry_test_predictions_assign %>% filter(!is.na(auc_win_01))\n",
    "dim(expiry_test_predictions_assign)\n",
    "sum(is.na(expiry_test_predictions_assign$auc_win_01))/nrow(expiry_test_predictions_assign)\n",
    "head(expiry_test_predictions_assign)"
   ]
  },
  {
   "cell_type": "code",
   "execution_count": null,
   "metadata": {},
   "outputs": [],
   "source": [
    "expiry_test_predictions_assign$auc_win_pred <- \n",
    "    (expiry_test_predictions_assign$auc_win_01=='auc_seg2_glm_fb')*expiry_test_predictions_assign$pred_df_seg2_glm_fb+\n",
    "    (expiry_test_predictions_assign$auc_win_01=='auc_agg_rf_fb')*expiry_test_predictions_assign$pred_df_agg_rf_fb\n",
    "\n",
    "head(expiry_test_predictions_assign %>% select(pred_df_seg2_glm_fb,pred_df_agg_rf_fb,auc_win_01,auc_win_pred))"
   ]
  },
  {
   "cell_type": "code",
   "execution_count": null,
   "metadata": {},
   "outputs": [],
   "source": [
    "\n",
    "lift_list <- list()\n",
    "auc_list <- list()\n",
    "\n",
    "fallback_lift <- chart_lift(pred_df=expiry_test_predictions_assign,\n",
    "                        dep_var = \"renewal_status\",\n",
    "                        pred_var = \"auc_win_pred\") \n",
    "\n",
    "lift_list[[\"auc_win_pred\"]] <- fallback_lift\n",
    "auc_list[[\"auc_win_pred\"]] <- calc_auc(lift_df=fallback_lift)\n",
    "\n",
    "models <- c('pred_df_seg2_glm_fb','pred_df_agg_rf_fb')\n",
    "\n",
    "\n",
    "for (model in models){\n",
    "    model_lift <- chart_lift(pred_df=expiry_test_predictions_assign,\n",
    "                        dep_var = \"renewal_status\",\n",
    "                        pred_var = model) \n",
    "    \n",
    "    fallback_lift <- merge(fallback_lift, model_lift, by=c(\"P\"),all= TRUE, \n",
    "                           suffixes = c(\"\",\n",
    "                                        paste(\"_\",gsub(\"pred_df_\", \"\", model)) ))\n",
    "    \n",
    "    lift_list[[model]] <- model_lift\n",
    "    auc_list[[model]] <- calc_auc(lift_df=model_lift)\n",
    "}\n",
    "\n",
    "lift_df <- fallback_lift"
   ]
  },
  {
   "cell_type": "code",
   "execution_count": null,
   "metadata": {},
   "outputs": [],
   "source": [
    "length(lift_list)\n",
    "names(lift_list)\n",
    "sapply(lift_list, dim)\n",
    "lift_list[\"auc_win_pred\"]"
   ]
  },
  {
   "cell_type": "code",
   "execution_count": null,
   "metadata": {},
   "outputs": [],
   "source": [
    "prop.table(table(expiry_test_predictions_assign$renewal_status))"
   ]
  },
  {
   "cell_type": "code",
   "execution_count": null,
   "metadata": {},
   "outputs": [],
   "source": [
    "plot_multigains <- function (lift_df_list=list(seg_glm = lift_df, \n",
    "                                               ben_dtr = lift_df_2),\n",
    "                             auc_list = list(seg_glm = auc, \n",
    "                                             ben_dtr=auc_2),\n",
    "                             prop_positive = 0.1194494) {\n",
    "  \n",
    "  optimal_df <- data.frame( \"P\"=c(0,prop_positive,1.0),\n",
    "                            \"actu_renwd2\"=c(NA,NA,NA),\n",
    "                            \"gain\"=c(0,1.0,1.0),\n",
    "                            \"lift\"=c(NA,NA,NA))\n",
    "  \n",
    "  lift_df_list <- lapply(lift_df_list, function(df) {\n",
    "    df <- df %>%\n",
    "      add_row(P = 0, gain =0) %>%\n",
    "      arrange(P)\n",
    "  })\n",
    "\n",
    "  auc_lift_list = paste(lapply(auc_list, round, 3),sapply(lift_df_list, function(x) round(x[2,\"lift\"],2)), sep=\", \")\n",
    "  \n",
    "  auc_map = paste(names(lift_df_list),auc_lift_list, sep=\" = \")[1:length(lift_df_list)]\n",
    "  \n",
    "  \n",
    "  gains_plot <- ggplot(NULL, aes(P,  gain)) +\n",
    "    geom_line(data = lift_df_list[[1]] %>% slice(1, n())) +\n",
    "    \n",
    "    list(geom_line(data=optimal_df), geom_point(data=optimal_df)) +\n",
    "    \n",
    "    scale_y_continuous(breaks = seq(0, 1, by = .1), limits = c(0,1)) +\n",
    "    scale_x_continuous(breaks = seq(0, 1, by = .1)) +\n",
    "    labs(title = \"Cumulative Gains Plot\",\n",
    "         y = \"Cumulative Gain\",\n",
    "         x = \"Percentile\")+\n",
    "    theme(text = element_text(size=20))\n",
    "  \n",
    "  for(i in seq(length(lift_df_list))){\n",
    "    name = names(lift_df_list)[[i]]\n",
    "    df = lift_df_list[[i]]\n",
    "    auc = auc_list[[i]]\n",
    "    gains_plot <- gains_plot + list(geom_line(data=df), \n",
    "                                    geom_point(data=df))+ \n",
    "      annotate(\"text\", x = .4, y = .9-i*.075, hjust = 0, label = auc_map[[i]], size = 5)\n",
    "  }\n",
    "  \n",
    "  \n",
    "  return(gains_plot)\n",
    "}\n"
   ]
  },
  {
   "cell_type": "code",
   "execution_count": null,
   "metadata": {},
   "outputs": [],
   "source": [
    "plot_multigains(            lift_df_list=lift_list,\n",
    "                             auc_list = auc_list,\n",
    "                             prop_positive = 0.1194494) "
   ]
  },
  {
   "cell_type": "code",
   "execution_count": null,
   "metadata": {},
   "outputs": [],
   "source": [
    "dim(expiry_test_predictions_assign)"
   ]
  },
  {
   "cell_type": "code",
   "execution_count": null,
   "metadata": {},
   "outputs": [],
   "source": [
    "lift_df"
   ]
  },
  {
   "cell_type": "code",
   "execution_count": null,
   "metadata": {},
   "outputs": [],
   "source": [
    "as.data.frame(auc_list)"
   ]
  },
  {
   "cell_type": "code",
   "execution_count": null,
   "metadata": {},
   "outputs": [],
   "source": []
  },
  {
   "cell_type": "markdown",
   "metadata": {},
   "source": [
    "# Assign Model based on Binary prediction for L10"
   ]
  },
  {
   "cell_type": "code",
   "execution_count": null,
   "metadata": {},
   "outputs": [],
   "source": [
    "model <- ranger(formula         = l10_win_01 ~ ., \n",
    "                data            = subset(train, select = -c(auc_win_01) ), \n",
    "                importance = 'impurity', \n",
    "                num.trees       = 500,\n",
    "                probability = TRUE,\n",
    "                replace = FALSE,\n",
    "                sample.fraction = .8,\n",
    "                seed            = 123,\n",
    "                respect.unordered.factors=TRUE)"
   ]
  },
  {
   "cell_type": "code",
   "execution_count": null,
   "metadata": {},
   "outputs": [],
   "source": [
    "pred <- predict(model, \n",
    "                data = test,\n",
    "                type=\"response\")$predictions\n",
    "head(pred)"
   ]
  },
  {
   "cell_type": "code",
   "execution_count": null,
   "metadata": {},
   "outputs": [],
   "source": [
    "pred <- as.data.frame(pred)\n",
    "(auc_vars <- names(pred))\n",
    "pred <- pred %>%\n",
    "    mutate (l10_win_01=sapply(apply(.[,c(auc_vars)], \n",
    "                          1, function(x) names(x)[which.max(x)]) , \n",
    "                                    function(s) if (length(s) == 0) NA else paste(s, collapse = \" \")) \n",
    "            ) \n",
    "head(pred)"
   ]
  },
  {
   "cell_type": "code",
   "execution_count": null,
   "metadata": {},
   "outputs": [],
   "source": [
    "test_pred <- cbind(test,pred)\n",
    "# test_pred <- test_pred %>% select()\n",
    "dim(test)\n",
    "dim(pred)\n",
    "dim(test_pred)\n",
    "head(test_pred)"
   ]
  },
  {
   "cell_type": "markdown",
   "metadata": {},
   "source": [
    "# Calc metrics"
   ]
  },
  {
   "cell_type": "markdown",
   "metadata": {},
   "source": [
    "## generate lookup for tld-reg model"
   ]
  },
  {
   "cell_type": "code",
   "execution_count": null,
   "metadata": {},
   "outputs": [],
   "source": [
    "head(expiry_test_meta)"
   ]
  },
  {
   "cell_type": "code",
   "execution_count": null,
   "metadata": {},
   "outputs": [],
   "source": [
    "expiry_test_meta_test <- expiry_test_meta[-train_ind,]\n",
    "\n",
    "dim(pred)\n",
    "dim(expiry_test_meta_test)\n",
    "\n",
    "expiry_test_meta_test <- cbind(expiry_test_meta_test, pred)\n",
    "expiry_test_meta_test <- expiry_test_meta_test %>% select(tld_registrar_index, l10_win_01)\n",
    "\n",
    "expiry_test_meta_test %>% head()"
   ]
  },
  {
   "cell_type": "markdown",
   "metadata": {},
   "source": [
    "## assign prediction based on lookup"
   ]
  },
  {
   "cell_type": "code",
   "execution_count": null,
   "metadata": {},
   "outputs": [],
   "source": [
    "expiry_test_predictions_assign <- merge(expiry_test_predictions, \n",
    "                                       expiry_test_meta_test, \n",
    "                                       on='tld_registrar_index',\n",
    "                                       all=TRUE)\n",
    "dim(expiry_test_predictions_assign)\n",
    "dim(expiry_test_predictions)\n",
    "head(expiry_test_predictions_assign)"
   ]
  },
  {
   "cell_type": "code",
   "execution_count": null,
   "metadata": {},
   "outputs": [],
   "source": [
    "# metalearning trained on 80% subset of 20% subset of expiry\n",
    "# tested on 20% subset of 20% of expiry\n",
    "\n",
    "table(expiry_test_predictions_assign$l10_win_01)/nrow(expiry_test_predictions_assign)\n",
    "sum(is.na(expiry_test_predictions_assign$l10_win_01))/nrow(expiry_test_predictions_assign)"
   ]
  },
  {
   "cell_type": "code",
   "execution_count": null,
   "metadata": {},
   "outputs": [],
   "source": [
    "# remove all NAs\n",
    "# ie elements of test which were used to train the model\n",
    "expiry_test_predictions_assign <- expiry_test_predictions_assign %>% filter(!is.na(l10_win_01))\n",
    "dim(expiry_test_predictions_assign)\n",
    "sum(is.na(expiry_test_predictions_assign$l10_win_01))/nrow(expiry_test_predictions_assign)\n",
    "head(expiry_test_predictions_assign)"
   ]
  },
  {
   "cell_type": "code",
   "execution_count": null,
   "metadata": {},
   "outputs": [],
   "source": [
    "expiry_test_predictions_assign$l10_win_pred <- \n",
    "    (expiry_test_predictions_assign$l10_win_01=='l10_seg2_glm_fb')*expiry_test_predictions_assign$pred_df_seg2_glm_fb+\n",
    "    (expiry_test_predictions_assign$l10_win_01=='l10_agg_rf_fb')*expiry_test_predictions_assign$pred_df_agg_rf_fb\n",
    "\n",
    "head(expiry_test_predictions_assign %>% select(pred_df_seg2_glm_fb,pred_df_agg_rf_fb,l10_win_01,l10_win_pred))"
   ]
  },
  {
   "cell_type": "code",
   "execution_count": null,
   "metadata": {},
   "outputs": [],
   "source": [
    "\n",
    "lift_list <- list()\n",
    "auc_list <- list()\n",
    "\n",
    "fallback_lift <- chart_lift(pred_df=expiry_test_predictions_assign,\n",
    "                        dep_var = \"renewal_status\",\n",
    "                        pred_var = \"l10_win_pred\") \n",
    "\n",
    "lift_list[[\"l10_win_pred\"]] <- fallback_lift\n",
    "auc_list[[\"l10_win_pred\"]] <- calc_auc(lift_df=fallback_lift)\n",
    "\n",
    "models <- c('pred_df_seg2_glm_fb','pred_df_agg_rf_fb')\n",
    "\n",
    "\n",
    "for (model in models){\n",
    "    model_lift <- chart_lift(pred_df=expiry_test_predictions_assign,\n",
    "                        dep_var = \"renewal_status\",\n",
    "                        pred_var = model) \n",
    "    \n",
    "    fallback_lift <- merge(fallback_lift, model_lift, by=c(\"P\"),all= TRUE, \n",
    "                           suffixes = c(\"\",\n",
    "                                        paste(\"_\",gsub(\"pred_df_\", \"\", model)) ))\n",
    "    \n",
    "    lift_list[[model]] <- model_lift\n",
    "    auc_list[[model]] <- calc_auc(lift_df=model_lift)\n",
    "}\n",
    "\n",
    "lift_df <- fallback_lift"
   ]
  },
  {
   "cell_type": "code",
   "execution_count": null,
   "metadata": {},
   "outputs": [],
   "source": [
    "length(lift_list)\n",
    "names(lift_list)\n",
    "sapply(lift_list, dim)\n",
    "lift_list[\"auc_win_pred\"]"
   ]
  },
  {
   "cell_type": "code",
   "execution_count": null,
   "metadata": {},
   "outputs": [],
   "source": [
    "prop.table(table(expiry_test_predictions_assign$renewal_status))"
   ]
  },
  {
   "cell_type": "code",
   "execution_count": null,
   "metadata": {},
   "outputs": [],
   "source": [
    "plot_multigains <- function (lift_df_list=list(seg_glm = lift_df, \n",
    "                                               ben_dtr = lift_df_2),\n",
    "                             auc_list = list(seg_glm = auc, \n",
    "                                             ben_dtr=auc_2),\n",
    "                             prop_positive = 0.1194494) {\n",
    "  \n",
    "  optimal_df <- data.frame( \"P\"=c(0,prop_positive,1.0),\n",
    "                            \"actu_renwd2\"=c(NA,NA,NA),\n",
    "                            \"gain\"=c(0,1.0,1.0),\n",
    "                            \"lift\"=c(NA,NA,NA))\n",
    "  \n",
    "  lift_df_list <- lapply(lift_df_list, function(df) {\n",
    "    df <- df %>%\n",
    "      add_row(P = 0, gain =0) %>%\n",
    "      arrange(P)\n",
    "  })\n",
    "\n",
    "  auc_lift_list = paste(lapply(auc_list, round, 3),sapply(lift_df_list, function(x) round(x[2,\"lift\"],2)), sep=\", \")\n",
    "  \n",
    "  auc_map = paste(names(lift_df_list),auc_lift_list, sep=\" = \")[1:length(lift_df_list)]\n",
    "  \n",
    "  \n",
    "  gains_plot <- ggplot(NULL, aes(P,  gain)) +\n",
    "    geom_line(data = lift_df_list[[1]] %>% slice(1, n())) +\n",
    "    \n",
    "    list(geom_line(data=optimal_df), geom_point(data=optimal_df)) +\n",
    "    \n",
    "    scale_y_continuous(breaks = seq(0, 1, by = .1), limits = c(0,1)) +\n",
    "    scale_x_continuous(breaks = seq(0, 1, by = .1)) +\n",
    "    labs(title = \"Cumulative Gains Plot\",\n",
    "         y = \"Cumulative Gain\",\n",
    "         x = \"Percentile\")+\n",
    "    theme(text = element_text(size=20))\n",
    "  \n",
    "  for(i in seq(length(lift_df_list))){\n",
    "    name = names(lift_df_list)[[i]]\n",
    "    df = lift_df_list[[i]]\n",
    "    auc = auc_list[[i]]\n",
    "    gains_plot <- gains_plot + list(geom_line(data=df), \n",
    "                                    geom_point(data=df))+ \n",
    "      annotate(\"text\", x = .4, y = .9-i*.075, hjust = 0, label = auc_map[[i]], size = 5)\n",
    "  }\n",
    "  \n",
    "  \n",
    "  return(gains_plot)\n",
    "}\n"
   ]
  },
  {
   "cell_type": "code",
   "execution_count": null,
   "metadata": {},
   "outputs": [],
   "source": [
    "plot_multigains(            lift_df_list=lift_list,\n",
    "                             auc_list = auc_list,\n",
    "                             prop_positive = 0.1194494) "
   ]
  },
  {
   "cell_type": "code",
   "execution_count": null,
   "metadata": {},
   "outputs": [],
   "source": [
    "dim(expiry_test_predictions_assign)"
   ]
  },
  {
   "cell_type": "code",
   "execution_count": null,
   "metadata": {},
   "outputs": [],
   "source": [
    "lift_df"
   ]
  },
  {
   "cell_type": "code",
   "execution_count": null,
   "metadata": {},
   "outputs": [],
   "source": [
    "as.data.frame(auc_list)"
   ]
  },
  {
   "cell_type": "markdown",
   "metadata": {},
   "source": [
    "# Examining how variables of high importance differ between classes in training & test data"
   ]
  },
  {
   "cell_type": "code",
   "execution_count": null,
   "metadata": {},
   "outputs": [],
   "source": [
    "model <- ranger(formula         = auc_win_01 ~ ., \n",
    "                data            = subset(train, select = -c(l10_win_01) ), \n",
    "                importance = 'impurity', \n",
    "                num.trees       = 500,\n",
    "                probability = TRUE,\n",
    "                replace = FALSE,\n",
    "                sample.fraction = .8,\n",
    "                seed            = 123,\n",
    "                respect.unordered.factors=TRUE)\n",
    "var_imp <- as.data.frame(importance(model))\n",
    "names(var_imp) <- 'imp'\n",
    "var_imp$var <- row.names(var_imp)\n",
    "row.names(var_imp) <- NULL\n",
    "var_imp <- var_imp %>% arrange(desc(imp))\n",
    "head(var_imp,10)"
   ]
  },
  {
   "cell_type": "code",
   "execution_count": null,
   "metadata": {},
   "outputs": [],
   "source": [
    "train %>% \n",
    "  group_by(auc_win_01) %>%\n",
    "  summarize(mean_tld_rat = mean(tld_rat),\n",
    "           mean_sldlen_kurt = mean(sldlen_kurt),\n",
    "           mean_gibbs_kurt = mean(gibbs_kurt),\n",
    "           mean_sldlen_skew = mean(sldlen_skew),\n",
    "           mean_gibbs_rng = mean(gibbs_rng),\n",
    "           mean_ren_prp = mean(ren_prp),\n",
    "           mean_sldlen_rng = mean(sldlen_rng),\n",
    "           mean_pdcnt_skew = mean(pdcnt_skew),\n",
    "           mean_regarpt_skew = mean(regarpt_skew)\n",
    "           )\n",
    "\n",
    "train %>% \n",
    "  group_by(auc_win_01, country_maj) %>%\n",
    "  tally() %>%\n",
    "  arrange(auc_win_01, desc(n)) %>% spread(country_maj, n)  %>% t()"
   ]
  },
  {
   "cell_type": "code",
   "execution_count": null,
   "metadata": {},
   "outputs": [],
   "source": []
  }
 ],
 "metadata": {
  "environment": {
   "name": "r-cpu.3-6.m48",
   "type": "gcloud",
   "uri": "gcr.io/deeplearning-platform-release/r-cpu.3-6:m48"
  },
  "kernelspec": {
   "display_name": "R",
   "language": "R",
   "name": "ir"
  },
  "language_info": {
   "codemirror_mode": "r",
   "file_extension": ".r",
   "mimetype": "text/x-r-source",
   "name": "R",
   "pygments_lexer": "r",
   "version": "3.6.3"
  }
 },
 "nbformat": 4,
 "nbformat_minor": 4
}
