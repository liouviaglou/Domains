{
 "cells": [
  {
   "cell_type": "markdown",
   "metadata": {},
   "source": [
    "# Fallback Table Metalearning Training\n"
   ]
  },
  {
   "cell_type": "code",
   "execution_count": 1,
   "metadata": {},
   "outputs": [],
   "source": [
    "options(repr.matrix.max.cols=50, repr.matrix.max.rows=100)"
   ]
  },
  {
   "cell_type": "code",
   "execution_count": 2,
   "metadata": {},
   "outputs": [],
   "source": [
    "# install.packages(\"pkgcond\")"
   ]
  },
  {
   "cell_type": "code",
   "execution_count": 3,
   "metadata": {},
   "outputs": [
    {
     "name": "stderr",
     "output_type": "stream",
     "text": [
      "\n",
      "Attaching package: ‘dplyr’\n",
      "\n",
      "\n",
      "The following objects are masked from ‘package:stats’:\n",
      "\n",
      "    filter, lag\n",
      "\n",
      "\n",
      "The following objects are masked from ‘package:base’:\n",
      "\n",
      "    intersect, setdiff, setequal, union\n",
      "\n",
      "\n",
      "\n",
      "Attaching package: ‘data.table’\n",
      "\n",
      "\n",
      "The following objects are masked from ‘package:dplyr’:\n",
      "\n",
      "    between, first, last\n",
      "\n",
      "\n",
      "Loading required package: grid\n",
      "\n",
      "Loading required package: libcoin\n",
      "\n",
      "Loading required package: mvtnorm\n",
      "\n",
      "Loading required package: lattice\n",
      "\n",
      "Loading required package: ggplot2\n",
      "\n",
      "randomForest 4.6-14\n",
      "\n",
      "Type rfNews() to see new features/changes/bug fixes.\n",
      "\n",
      "\n",
      "Attaching package: ‘randomForest’\n",
      "\n",
      "\n",
      "The following object is masked from ‘package:ggplot2’:\n",
      "\n",
      "    margin\n",
      "\n",
      "\n",
      "The following object is masked from ‘package:dplyr’:\n",
      "\n",
      "    combine\n",
      "\n",
      "\n",
      "\n",
      "Attaching package: ‘ranger’\n",
      "\n",
      "\n",
      "The following object is masked from ‘package:randomForest’:\n",
      "\n",
      "    importance\n",
      "\n",
      "\n",
      "\n",
      "Attaching package: ‘plotly’\n",
      "\n",
      "\n",
      "The following object is masked from ‘package:ggplot2’:\n",
      "\n",
      "    last_plot\n",
      "\n",
      "\n",
      "The following object is masked from ‘package:stats’:\n",
      "\n",
      "    filter\n",
      "\n",
      "\n",
      "The following object is masked from ‘package:graphics’:\n",
      "\n",
      "    layout\n",
      "\n",
      "\n"
     ]
    },
    {
     "data": {
      "text/html": [
       "'/home/jupyter/Domains_202003/scripts/phaseII_06_fallbacksupp'"
      ],
      "text/latex": [
       "'/home/jupyter/Domains\\_202003/scripts/phaseII\\_06\\_fallbacksupp'"
      ],
      "text/markdown": [
       "'/home/jupyter/Domains_202003/scripts/phaseII_06_fallbacksupp'"
      ],
      "text/plain": [
       "[1] \"/home/jupyter/Domains_202003/scripts/phaseII_06_fallbacksupp\""
      ]
     },
     "metadata": {},
     "output_type": "display_data"
    }
   ],
   "source": [
    "library(dplyr)\n",
    "library(data.table)\n",
    "library(partykit)\n",
    "library(tictoc)\n",
    "library(caret)\n",
    "library(e1071)\n",
    "library(randomForest)\n",
    "library(ranger)\n",
    "\n",
    "#for 3d plotting\n",
    "library(akima)\n",
    "library(plotly)\n",
    "\n",
    "# for prep data\n",
    "library(stringr)\n",
    "library(pbapply)\n",
    "library(stringdist)\n",
    "library(data.table)\n",
    "library(dominanceanalysis)\n",
    "\n",
    "\n",
    "getwd()"
   ]
  },
  {
   "cell_type": "code",
   "execution_count": 4,
   "metadata": {},
   "outputs": [
    {
     "name": "stderr",
     "output_type": "stream",
     "text": [
      "\n",
      "Attaching package: ‘tidyr’\n",
      "\n",
      "\n",
      "The following object is masked from ‘package:stringdist’:\n",
      "\n",
      "    extract\n",
      "\n",
      "\n"
     ]
    }
   ],
   "source": [
    "\n",
    "source('../orig/functions.R')\n",
    "\n",
    "source('../orig/functions_models.R')\n",
    "\n",
    "source('../phaseII_03_forest/functions_eval.R')\n"
   ]
  },
  {
   "cell_type": "code",
   "execution_count": 5,
   "metadata": {},
   "outputs": [],
   "source": [
    "source('functions_metalearning.R')"
   ]
  },
  {
   "cell_type": "code",
   "execution_count": 6,
   "metadata": {},
   "outputs": [],
   "source": [
    "source('functions_fallback.R')"
   ]
  },
  {
   "cell_type": "code",
   "execution_count": 7,
   "metadata": {},
   "outputs": [],
   "source": [
    "# source('load_prep_data_expiry_2.R') #read in train test and predictions manually instead\n",
    "\n",
    "# READ CSV's\n",
    "# expiry_df_test_preds <- read.csv(\"../../data/output/datapull_20201116/expiry_df_test_preds.csv\")\n",
    "expiry_df_train <- read.csv(\"../../data/output/datapull_20201116/expiry_df_train.csv\")\n",
    "# expiry_df_test <- read.csv(\"../../data/output/datapull_20201116/expiry_df_test.csv\")\n",
    "metametrics_df <- read.csv(\"../../data/output/datapull_20201116/expiry_metametrics_df.csv\")\n",
    "# expiry_df\n",
    "# expiry_train_df \n",
    "# expiry_test_df \n",
    "# expiry_list\n",
    "# expiry_train_list\n",
    "# expiry_test_list"
   ]
  },
  {
   "cell_type": "markdown",
   "metadata": {},
   "source": [
    "# CREATE flags, analaze splits\n",
    "## seg2_glm_fb vs agg_rf_ALL"
   ]
  },
  {
   "cell_type": "code",
   "execution_count": 8,
   "metadata": {},
   "outputs": [
    {
     "data": {
      "text/html": [
       "<style>\n",
       ".list-inline {list-style: none; margin:0; padding: 0}\n",
       ".list-inline>li {display: inline-block}\n",
       ".list-inline>li:not(:last-child)::after {content: \"\\00b7\"; padding: 0 .5ex}\n",
       "</style>\n",
       "<ol class=list-inline><li>TRUE</li><li>TRUE</li></ol>\n"
      ],
      "text/latex": [
       "\\begin{enumerate*}\n",
       "\\item TRUE\n",
       "\\item TRUE\n",
       "\\end{enumerate*}\n"
      ],
      "text/markdown": [
       "1. TRUE\n",
       "2. TRUE\n",
       "\n",
       "\n"
      ],
      "text/plain": [
       "[1] TRUE TRUE"
      ]
     },
     "metadata": {},
     "output_type": "display_data"
    },
    {
     "data": {
      "text/html": [
       "<style>\n",
       ".list-inline {list-style: none; margin:0; padding: 0}\n",
       ".list-inline>li {display: inline-block}\n",
       ".list-inline>li:not(:last-child)::after {content: \"\\00b7\"; padding: 0 .5ex}\n",
       "</style>\n",
       "<ol class=list-inline><li>TRUE</li><li>TRUE</li></ol>\n"
      ],
      "text/latex": [
       "\\begin{enumerate*}\n",
       "\\item TRUE\n",
       "\\item TRUE\n",
       "\\end{enumerate*}\n"
      ],
      "text/markdown": [
       "1. TRUE\n",
       "2. TRUE\n",
       "\n",
       "\n"
      ],
      "text/plain": [
       "[1] TRUE TRUE"
      ]
     },
     "metadata": {},
     "output_type": "display_data"
    }
   ],
   "source": [
    "# (auc_vars = grep('auc', names(metrics_df), value=TRUE))\n",
    "# (l10_vars = grep('l10', names(metrics_df), value=TRUE))\n",
    "\n",
    "auc_vars = c('auc_seg2_glm_fb','auc_agg_rf_ALL')\n",
    "l10_vars = c('l10_seg2_glm_fb','l10_agg_rf_ALL')\n",
    "\n",
    "auc_vars %in% names(metametrics_df)\n",
    "l10_vars %in% names(metametrics_df)\n",
    "\n",
    "metametrics_df <- metametrics_df %>%\n",
    "    mutate (auc_win_01=sapply(apply(.[,c(auc_vars)], \n",
    "                          1, function(x) names(x)[which.max(x)]), \n",
    "                                    function(s) if (length(s) == 0) NA else paste(s, collapse = \" \")),\n",
    "            l10_win_01=sapply(apply(.[,c(l10_vars)], \n",
    "                          1, function(x) names(x)[which.max(x)]), \n",
    "                                    function(s) if (length(s) == 0) NA else paste(s, collapse = \" \")) \n",
    "            ) \n",
    "                              "
   ]
  },
  {
   "cell_type": "code",
   "execution_count": 9,
   "metadata": {},
   "outputs": [
    {
     "data": {
      "text/plain": [
       "\n",
       " auc_agg_rf_ALL auc_seg2_glm_fb \n",
       "            762             720 "
      ]
     },
     "metadata": {},
     "output_type": "display_data"
    },
    {
     "data": {
      "text/plain": [
       "\n",
       " l10_agg_rf_ALL l10_seg2_glm_fb \n",
       "            516             966 "
      ]
     },
     "metadata": {},
     "output_type": "display_data"
    }
   ],
   "source": [
    "table(metametrics_df$auc_win_01)\n",
    "table(metametrics_df$l10_win_01)"
   ]
  },
  {
   "cell_type": "markdown",
   "metadata": {},
   "source": [
    "## multiclass"
   ]
  },
  {
   "cell_type": "code",
   "execution_count": 10,
   "metadata": {},
   "outputs": [
    {
     "data": {
      "text/html": [
       "<style>\n",
       ".list-inline {list-style: none; margin:0; padding: 0}\n",
       ".list-inline>li {display: inline-block}\n",
       ".list-inline>li:not(:last-child)::after {content: \"\\00b7\"; padding: 0 .5ex}\n",
       "</style>\n",
       "<ol class=list-inline><li>'auc_seg2_glm'</li><li>'auc_seg_glm'</li><li>'auc_agg_glm_ALL'</li><li>'auc_agg_glm'</li><li>'auc_seg2_rf'</li><li>'auc_seg_rf'</li><li>'auc_agg_rf_ALL'</li><li>'auc_agg_rf'</li><li>'auc_seg2_glm_fb'</li><li>'auc_seg_glm_fb'</li><li>'auc_agg_glm_fb'</li><li>'auc_agg_glm_ALL_fb'</li><li>'auc_seg2_rf_fb'</li><li>'auc_seg_rf_fb'</li><li>'auc_agg_rf_fb'</li><li>'auc_agg_rf_ALL_fb'</li><li>'auc_win_01'</li></ol>\n"
      ],
      "text/latex": [
       "\\begin{enumerate*}\n",
       "\\item 'auc\\_seg2\\_glm'\n",
       "\\item 'auc\\_seg\\_glm'\n",
       "\\item 'auc\\_agg\\_glm\\_ALL'\n",
       "\\item 'auc\\_agg\\_glm'\n",
       "\\item 'auc\\_seg2\\_rf'\n",
       "\\item 'auc\\_seg\\_rf'\n",
       "\\item 'auc\\_agg\\_rf\\_ALL'\n",
       "\\item 'auc\\_agg\\_rf'\n",
       "\\item 'auc\\_seg2\\_glm\\_fb'\n",
       "\\item 'auc\\_seg\\_glm\\_fb'\n",
       "\\item 'auc\\_agg\\_glm\\_fb'\n",
       "\\item 'auc\\_agg\\_glm\\_ALL\\_fb'\n",
       "\\item 'auc\\_seg2\\_rf\\_fb'\n",
       "\\item 'auc\\_seg\\_rf\\_fb'\n",
       "\\item 'auc\\_agg\\_rf\\_fb'\n",
       "\\item 'auc\\_agg\\_rf\\_ALL\\_fb'\n",
       "\\item 'auc\\_win\\_01'\n",
       "\\end{enumerate*}\n"
      ],
      "text/markdown": [
       "1. 'auc_seg2_glm'\n",
       "2. 'auc_seg_glm'\n",
       "3. 'auc_agg_glm_ALL'\n",
       "4. 'auc_agg_glm'\n",
       "5. 'auc_seg2_rf'\n",
       "6. 'auc_seg_rf'\n",
       "7. 'auc_agg_rf_ALL'\n",
       "8. 'auc_agg_rf'\n",
       "9. 'auc_seg2_glm_fb'\n",
       "10. 'auc_seg_glm_fb'\n",
       "11. 'auc_agg_glm_fb'\n",
       "12. 'auc_agg_glm_ALL_fb'\n",
       "13. 'auc_seg2_rf_fb'\n",
       "14. 'auc_seg_rf_fb'\n",
       "15. 'auc_agg_rf_fb'\n",
       "16. 'auc_agg_rf_ALL_fb'\n",
       "17. 'auc_win_01'\n",
       "\n",
       "\n"
      ],
      "text/plain": [
       " [1] \"auc_seg2_glm\"       \"auc_seg_glm\"        \"auc_agg_glm_ALL\"   \n",
       " [4] \"auc_agg_glm\"        \"auc_seg2_rf\"        \"auc_seg_rf\"        \n",
       " [7] \"auc_agg_rf_ALL\"     \"auc_agg_rf\"         \"auc_seg2_glm_fb\"   \n",
       "[10] \"auc_seg_glm_fb\"     \"auc_agg_glm_fb\"     \"auc_agg_glm_ALL_fb\"\n",
       "[13] \"auc_seg2_rf_fb\"     \"auc_seg_rf_fb\"      \"auc_agg_rf_fb\"     \n",
       "[16] \"auc_agg_rf_ALL_fb\"  \"auc_win_01\"        "
      ]
     },
     "metadata": {},
     "output_type": "display_data"
    },
    {
     "data": {
      "text/html": [
       "<style>\n",
       ".list-inline {list-style: none; margin:0; padding: 0}\n",
       ".list-inline>li {display: inline-block}\n",
       ".list-inline>li:not(:last-child)::after {content: \"\\00b7\"; padding: 0 .5ex}\n",
       "</style>\n",
       "<ol class=list-inline><li>'l10_seg2_glm'</li><li>'l10_seg_glm'</li><li>'l10_agg_glm_ALL'</li><li>'l10_agg_glm'</li><li>'l10_seg2_rf'</li><li>'l10_seg_rf'</li><li>'l10_agg_rf'</li><li>'l10_agg_rf_ALL'</li><li>'l10_seg2_glm_fb'</li><li>'l10_seg_glm_fb'</li><li>'l10_agg_glm_fb'</li><li>'l10_agg_glm_ALL_fb'</li><li>'l10_seg2_rf_fb'</li><li>'l10_seg_rf_fb'</li><li>'l10_agg_rf_fb'</li><li>'l10_agg_rf_ALL_fb'</li><li>'l10_win_01'</li></ol>\n"
      ],
      "text/latex": [
       "\\begin{enumerate*}\n",
       "\\item 'l10\\_seg2\\_glm'\n",
       "\\item 'l10\\_seg\\_glm'\n",
       "\\item 'l10\\_agg\\_glm\\_ALL'\n",
       "\\item 'l10\\_agg\\_glm'\n",
       "\\item 'l10\\_seg2\\_rf'\n",
       "\\item 'l10\\_seg\\_rf'\n",
       "\\item 'l10\\_agg\\_rf'\n",
       "\\item 'l10\\_agg\\_rf\\_ALL'\n",
       "\\item 'l10\\_seg2\\_glm\\_fb'\n",
       "\\item 'l10\\_seg\\_glm\\_fb'\n",
       "\\item 'l10\\_agg\\_glm\\_fb'\n",
       "\\item 'l10\\_agg\\_glm\\_ALL\\_fb'\n",
       "\\item 'l10\\_seg2\\_rf\\_fb'\n",
       "\\item 'l10\\_seg\\_rf\\_fb'\n",
       "\\item 'l10\\_agg\\_rf\\_fb'\n",
       "\\item 'l10\\_agg\\_rf\\_ALL\\_fb'\n",
       "\\item 'l10\\_win\\_01'\n",
       "\\end{enumerate*}\n"
      ],
      "text/markdown": [
       "1. 'l10_seg2_glm'\n",
       "2. 'l10_seg_glm'\n",
       "3. 'l10_agg_glm_ALL'\n",
       "4. 'l10_agg_glm'\n",
       "5. 'l10_seg2_rf'\n",
       "6. 'l10_seg_rf'\n",
       "7. 'l10_agg_rf'\n",
       "8. 'l10_agg_rf_ALL'\n",
       "9. 'l10_seg2_glm_fb'\n",
       "10. 'l10_seg_glm_fb'\n",
       "11. 'l10_agg_glm_fb'\n",
       "12. 'l10_agg_glm_ALL_fb'\n",
       "13. 'l10_seg2_rf_fb'\n",
       "14. 'l10_seg_rf_fb'\n",
       "15. 'l10_agg_rf_fb'\n",
       "16. 'l10_agg_rf_ALL_fb'\n",
       "17. 'l10_win_01'\n",
       "\n",
       "\n"
      ],
      "text/plain": [
       " [1] \"l10_seg2_glm\"       \"l10_seg_glm\"        \"l10_agg_glm_ALL\"   \n",
       " [4] \"l10_agg_glm\"        \"l10_seg2_rf\"        \"l10_seg_rf\"        \n",
       " [7] \"l10_agg_rf\"         \"l10_agg_rf_ALL\"     \"l10_seg2_glm_fb\"   \n",
       "[10] \"l10_seg_glm_fb\"     \"l10_agg_glm_fb\"     \"l10_agg_glm_ALL_fb\"\n",
       "[13] \"l10_seg2_rf_fb\"     \"l10_seg_rf_fb\"      \"l10_agg_rf_fb\"     \n",
       "[16] \"l10_agg_rf_ALL_fb\"  \"l10_win_01\"        "
      ]
     },
     "metadata": {},
     "output_type": "display_data"
    },
    {
     "data": {
      "text/html": [
       "<style>\n",
       ".list-inline {list-style: none; margin:0; padding: 0}\n",
       ".list-inline>li {display: inline-block}\n",
       ".list-inline>li:not(:last-child)::after {content: \"\\00b7\"; padding: 0 .5ex}\n",
       "</style>\n",
       "<ol class=list-inline><li>'auc_seg2_glm'</li><li>'auc_seg_glm'</li><li>'auc_agg_glm_ALL'</li><li>'auc_agg_glm'</li><li>'auc_seg2_rf'</li><li>'auc_seg_rf'</li><li>'auc_agg_rf_ALL'</li><li>'auc_agg_rf'</li><li>'auc_seg2_glm_fb'</li><li>'auc_seg_glm_fb'</li><li>'auc_agg_glm_fb'</li><li>'auc_agg_glm_ALL_fb'</li><li>'auc_seg2_rf_fb'</li><li>'auc_seg_rf_fb'</li><li>'auc_agg_rf_fb'</li><li>'auc_agg_rf_ALL_fb'</li></ol>\n"
      ],
      "text/latex": [
       "\\begin{enumerate*}\n",
       "\\item 'auc\\_seg2\\_glm'\n",
       "\\item 'auc\\_seg\\_glm'\n",
       "\\item 'auc\\_agg\\_glm\\_ALL'\n",
       "\\item 'auc\\_agg\\_glm'\n",
       "\\item 'auc\\_seg2\\_rf'\n",
       "\\item 'auc\\_seg\\_rf'\n",
       "\\item 'auc\\_agg\\_rf\\_ALL'\n",
       "\\item 'auc\\_agg\\_rf'\n",
       "\\item 'auc\\_seg2\\_glm\\_fb'\n",
       "\\item 'auc\\_seg\\_glm\\_fb'\n",
       "\\item 'auc\\_agg\\_glm\\_fb'\n",
       "\\item 'auc\\_agg\\_glm\\_ALL\\_fb'\n",
       "\\item 'auc\\_seg2\\_rf\\_fb'\n",
       "\\item 'auc\\_seg\\_rf\\_fb'\n",
       "\\item 'auc\\_agg\\_rf\\_fb'\n",
       "\\item 'auc\\_agg\\_rf\\_ALL\\_fb'\n",
       "\\end{enumerate*}\n"
      ],
      "text/markdown": [
       "1. 'auc_seg2_glm'\n",
       "2. 'auc_seg_glm'\n",
       "3. 'auc_agg_glm_ALL'\n",
       "4. 'auc_agg_glm'\n",
       "5. 'auc_seg2_rf'\n",
       "6. 'auc_seg_rf'\n",
       "7. 'auc_agg_rf_ALL'\n",
       "8. 'auc_agg_rf'\n",
       "9. 'auc_seg2_glm_fb'\n",
       "10. 'auc_seg_glm_fb'\n",
       "11. 'auc_agg_glm_fb'\n",
       "12. 'auc_agg_glm_ALL_fb'\n",
       "13. 'auc_seg2_rf_fb'\n",
       "14. 'auc_seg_rf_fb'\n",
       "15. 'auc_agg_rf_fb'\n",
       "16. 'auc_agg_rf_ALL_fb'\n",
       "\n",
       "\n"
      ],
      "text/plain": [
       " [1] \"auc_seg2_glm\"       \"auc_seg_glm\"        \"auc_agg_glm_ALL\"   \n",
       " [4] \"auc_agg_glm\"        \"auc_seg2_rf\"        \"auc_seg_rf\"        \n",
       " [7] \"auc_agg_rf_ALL\"     \"auc_agg_rf\"         \"auc_seg2_glm_fb\"   \n",
       "[10] \"auc_seg_glm_fb\"     \"auc_agg_glm_fb\"     \"auc_agg_glm_ALL_fb\"\n",
       "[13] \"auc_seg2_rf_fb\"     \"auc_seg_rf_fb\"      \"auc_agg_rf_fb\"     \n",
       "[16] \"auc_agg_rf_ALL_fb\" "
      ]
     },
     "metadata": {},
     "output_type": "display_data"
    },
    {
     "data": {
      "text/html": [
       "<style>\n",
       ".list-inline {list-style: none; margin:0; padding: 0}\n",
       ".list-inline>li {display: inline-block}\n",
       ".list-inline>li:not(:last-child)::after {content: \"\\00b7\"; padding: 0 .5ex}\n",
       "</style>\n",
       "<ol class=list-inline><li>'l10_seg2_glm'</li><li>'l10_seg_glm'</li><li>'l10_agg_glm_ALL'</li><li>'l10_agg_glm'</li><li>'l10_seg2_rf'</li><li>'l10_seg_rf'</li><li>'l10_agg_rf'</li><li>'l10_agg_rf_ALL'</li><li>'l10_seg2_glm_fb'</li><li>'l10_seg_glm_fb'</li><li>'l10_agg_glm_fb'</li><li>'l10_agg_glm_ALL_fb'</li><li>'l10_seg2_rf_fb'</li><li>'l10_seg_rf_fb'</li><li>'l10_agg_rf_fb'</li><li>'l10_agg_rf_ALL_fb'</li></ol>\n"
      ],
      "text/latex": [
       "\\begin{enumerate*}\n",
       "\\item 'l10\\_seg2\\_glm'\n",
       "\\item 'l10\\_seg\\_glm'\n",
       "\\item 'l10\\_agg\\_glm\\_ALL'\n",
       "\\item 'l10\\_agg\\_glm'\n",
       "\\item 'l10\\_seg2\\_rf'\n",
       "\\item 'l10\\_seg\\_rf'\n",
       "\\item 'l10\\_agg\\_rf'\n",
       "\\item 'l10\\_agg\\_rf\\_ALL'\n",
       "\\item 'l10\\_seg2\\_glm\\_fb'\n",
       "\\item 'l10\\_seg\\_glm\\_fb'\n",
       "\\item 'l10\\_agg\\_glm\\_fb'\n",
       "\\item 'l10\\_agg\\_glm\\_ALL\\_fb'\n",
       "\\item 'l10\\_seg2\\_rf\\_fb'\n",
       "\\item 'l10\\_seg\\_rf\\_fb'\n",
       "\\item 'l10\\_agg\\_rf\\_fb'\n",
       "\\item 'l10\\_agg\\_rf\\_ALL\\_fb'\n",
       "\\end{enumerate*}\n"
      ],
      "text/markdown": [
       "1. 'l10_seg2_glm'\n",
       "2. 'l10_seg_glm'\n",
       "3. 'l10_agg_glm_ALL'\n",
       "4. 'l10_agg_glm'\n",
       "5. 'l10_seg2_rf'\n",
       "6. 'l10_seg_rf'\n",
       "7. 'l10_agg_rf'\n",
       "8. 'l10_agg_rf_ALL'\n",
       "9. 'l10_seg2_glm_fb'\n",
       "10. 'l10_seg_glm_fb'\n",
       "11. 'l10_agg_glm_fb'\n",
       "12. 'l10_agg_glm_ALL_fb'\n",
       "13. 'l10_seg2_rf_fb'\n",
       "14. 'l10_seg_rf_fb'\n",
       "15. 'l10_agg_rf_fb'\n",
       "16. 'l10_agg_rf_ALL_fb'\n",
       "\n",
       "\n"
      ],
      "text/plain": [
       " [1] \"l10_seg2_glm\"       \"l10_seg_glm\"        \"l10_agg_glm_ALL\"   \n",
       " [4] \"l10_agg_glm\"        \"l10_seg2_rf\"        \"l10_seg_rf\"        \n",
       " [7] \"l10_agg_rf\"         \"l10_agg_rf_ALL\"     \"l10_seg2_glm_fb\"   \n",
       "[10] \"l10_seg_glm_fb\"     \"l10_agg_glm_fb\"     \"l10_agg_glm_ALL_fb\"\n",
       "[13] \"l10_seg2_rf_fb\"     \"l10_seg_rf_fb\"      \"l10_agg_rf_fb\"     \n",
       "[16] \"l10_agg_rf_ALL_fb\" "
      ]
     },
     "metadata": {},
     "output_type": "display_data"
    }
   ],
   "source": [
    "(auc_vars = grep('auc_', names(metametrics_df), value=TRUE))\n",
    "(l10_vars = grep('l10_', names(metametrics_df), value=TRUE))\n",
    "\n",
    "(auc_vars = auc_vars[-grep(\"win\", auc_vars)])\n",
    "(l10_vars = l10_vars[-grep(\"win\", l10_vars)])\n",
    "\n",
    "metametrics_df <- metametrics_df %>%\n",
    "    mutate (auc_win_02=sapply(apply(.[,c(auc_vars)], \n",
    "                          1, function(x) names(x)[which.max(x)]) , function(s) if (length(s) == 0) NA else paste(s, collapse = \" \")) ,\n",
    "            l10_win_02=sapply(apply(.[,c(l10_vars)], \n",
    "                          1, function(x) names(x)[which.max(x)]), function(s) if (length(s) == 0) NA else paste(s, collapse = \" \")) \n",
    "            ) "
   ]
  },
  {
   "cell_type": "code",
   "execution_count": 11,
   "metadata": {},
   "outputs": [
    {
     "data": {
      "text/html": [
       "<table>\n",
       "<caption>A data.frame: 9 × 2</caption>\n",
       "<thead>\n",
       "\t<tr><th scope=col>Var1</th><th scope=col>Freq</th></tr>\n",
       "\t<tr><th scope=col>&lt;fct&gt;</th><th scope=col>&lt;int&gt;</th></tr>\n",
       "</thead>\n",
       "<tbody>\n",
       "\t<tr><td>auc_seg2_glm   </td><td>487</td></tr>\n",
       "\t<tr><td>auc_seg_rf     </td><td>213</td></tr>\n",
       "\t<tr><td>auc_seg2_rf    </td><td>163</td></tr>\n",
       "\t<tr><td>auc_seg_glm    </td><td>157</td></tr>\n",
       "\t<tr><td>auc_agg_rf_ALL </td><td>145</td></tr>\n",
       "\t<tr><td>auc_agg_rf     </td><td>116</td></tr>\n",
       "\t<tr><td>auc_agg_glm_ALL</td><td>100</td></tr>\n",
       "\t<tr><td>auc_agg_glm    </td><td> 57</td></tr>\n",
       "\t<tr><td>auc_seg2_glm_fb</td><td> 44</td></tr>\n",
       "</tbody>\n",
       "</table>\n"
      ],
      "text/latex": [
       "A data.frame: 9 × 2\n",
       "\\begin{tabular}{ll}\n",
       " Var1 & Freq\\\\\n",
       " <fct> & <int>\\\\\n",
       "\\hline\n",
       "\t auc\\_seg2\\_glm    & 487\\\\\n",
       "\t auc\\_seg\\_rf      & 213\\\\\n",
       "\t auc\\_seg2\\_rf     & 163\\\\\n",
       "\t auc\\_seg\\_glm     & 157\\\\\n",
       "\t auc\\_agg\\_rf\\_ALL  & 145\\\\\n",
       "\t auc\\_agg\\_rf      & 116\\\\\n",
       "\t auc\\_agg\\_glm\\_ALL & 100\\\\\n",
       "\t auc\\_agg\\_glm     &  57\\\\\n",
       "\t auc\\_seg2\\_glm\\_fb &  44\\\\\n",
       "\\end{tabular}\n"
      ],
      "text/markdown": [
       "\n",
       "A data.frame: 9 × 2\n",
       "\n",
       "| Var1 &lt;fct&gt; | Freq &lt;int&gt; |\n",
       "|---|---|\n",
       "| auc_seg2_glm    | 487 |\n",
       "| auc_seg_rf      | 213 |\n",
       "| auc_seg2_rf     | 163 |\n",
       "| auc_seg_glm     | 157 |\n",
       "| auc_agg_rf_ALL  | 145 |\n",
       "| auc_agg_rf      | 116 |\n",
       "| auc_agg_glm_ALL | 100 |\n",
       "| auc_agg_glm     |  57 |\n",
       "| auc_seg2_glm_fb |  44 |\n",
       "\n"
      ],
      "text/plain": [
       "  Var1            Freq\n",
       "1 auc_seg2_glm    487 \n",
       "2 auc_seg_rf      213 \n",
       "3 auc_seg2_rf     163 \n",
       "4 auc_seg_glm     157 \n",
       "5 auc_agg_rf_ALL  145 \n",
       "6 auc_agg_rf      116 \n",
       "7 auc_agg_glm_ALL 100 \n",
       "8 auc_agg_glm      57 \n",
       "9 auc_seg2_glm_fb  44 "
      ]
     },
     "metadata": {},
     "output_type": "display_data"
    },
    {
     "data": {
      "text/html": [
       "<table>\n",
       "<caption>A data.frame: 9 × 2</caption>\n",
       "<thead>\n",
       "\t<tr><th scope=col>Var1</th><th scope=col>Freq</th></tr>\n",
       "\t<tr><th scope=col>&lt;fct&gt;</th><th scope=col>&lt;int&gt;</th></tr>\n",
       "</thead>\n",
       "<tbody>\n",
       "\t<tr><td>l10_seg2_glm   </td><td>731</td></tr>\n",
       "\t<tr><td>l10_seg_glm    </td><td>178</td></tr>\n",
       "\t<tr><td>l10_seg2_rf    </td><td>169</td></tr>\n",
       "\t<tr><td>l10_seg_rf     </td><td>132</td></tr>\n",
       "\t<tr><td>l10_agg_glm_ALL</td><td> 81</td></tr>\n",
       "\t<tr><td>l10_agg_rf     </td><td> 81</td></tr>\n",
       "\t<tr><td>l10_agg_rf_ALL </td><td> 53</td></tr>\n",
       "\t<tr><td>l10_agg_glm    </td><td> 36</td></tr>\n",
       "\t<tr><td>l10_seg2_glm_fb</td><td> 21</td></tr>\n",
       "</tbody>\n",
       "</table>\n"
      ],
      "text/latex": [
       "A data.frame: 9 × 2\n",
       "\\begin{tabular}{ll}\n",
       " Var1 & Freq\\\\\n",
       " <fct> & <int>\\\\\n",
       "\\hline\n",
       "\t l10\\_seg2\\_glm    & 731\\\\\n",
       "\t l10\\_seg\\_glm     & 178\\\\\n",
       "\t l10\\_seg2\\_rf     & 169\\\\\n",
       "\t l10\\_seg\\_rf      & 132\\\\\n",
       "\t l10\\_agg\\_glm\\_ALL &  81\\\\\n",
       "\t l10\\_agg\\_rf      &  81\\\\\n",
       "\t l10\\_agg\\_rf\\_ALL  &  53\\\\\n",
       "\t l10\\_agg\\_glm     &  36\\\\\n",
       "\t l10\\_seg2\\_glm\\_fb &  21\\\\\n",
       "\\end{tabular}\n"
      ],
      "text/markdown": [
       "\n",
       "A data.frame: 9 × 2\n",
       "\n",
       "| Var1 &lt;fct&gt; | Freq &lt;int&gt; |\n",
       "|---|---|\n",
       "| l10_seg2_glm    | 731 |\n",
       "| l10_seg_glm     | 178 |\n",
       "| l10_seg2_rf     | 169 |\n",
       "| l10_seg_rf      | 132 |\n",
       "| l10_agg_glm_ALL |  81 |\n",
       "| l10_agg_rf      |  81 |\n",
       "| l10_agg_rf_ALL  |  53 |\n",
       "| l10_agg_glm     |  36 |\n",
       "| l10_seg2_glm_fb |  21 |\n",
       "\n"
      ],
      "text/plain": [
       "  Var1            Freq\n",
       "1 l10_seg2_glm    731 \n",
       "2 l10_seg_glm     178 \n",
       "3 l10_seg2_rf     169 \n",
       "4 l10_seg_rf      132 \n",
       "5 l10_agg_glm_ALL  81 \n",
       "6 l10_agg_rf       81 \n",
       "7 l10_agg_rf_ALL   53 \n",
       "8 l10_agg_glm      36 \n",
       "9 l10_seg2_glm_fb  21 "
      ]
     },
     "metadata": {},
     "output_type": "display_data"
    }
   ],
   "source": [
    "as.data.frame(sort(table(metametrics_df$auc_win_02), decreasing=TRUE))\n",
    "as.data.frame(sort(table(metametrics_df$l10_win_02), decreasing=TRUE))"
   ]
  },
  {
   "cell_type": "markdown",
   "metadata": {},
   "source": [
    "## seg2_glm_fb vs seg2_glm"
   ]
  },
  {
   "cell_type": "code",
   "execution_count": 12,
   "metadata": {},
   "outputs": [
    {
     "data": {
      "text/html": [
       "<style>\n",
       ".list-inline {list-style: none; margin:0; padding: 0}\n",
       ".list-inline>li {display: inline-block}\n",
       ".list-inline>li:not(:last-child)::after {content: \"\\00b7\"; padding: 0 .5ex}\n",
       "</style>\n",
       "<ol class=list-inline><li>'auc_seg2_glm'</li><li>'auc_seg2_glm_fb'</li></ol>\n"
      ],
      "text/latex": [
       "\\begin{enumerate*}\n",
       "\\item 'auc\\_seg2\\_glm'\n",
       "\\item 'auc\\_seg2\\_glm\\_fb'\n",
       "\\end{enumerate*}\n"
      ],
      "text/markdown": [
       "1. 'auc_seg2_glm'\n",
       "2. 'auc_seg2_glm_fb'\n",
       "\n",
       "\n"
      ],
      "text/plain": [
       "[1] \"auc_seg2_glm\"    \"auc_seg2_glm_fb\""
      ]
     },
     "metadata": {},
     "output_type": "display_data"
    },
    {
     "data": {
      "text/html": [
       "<style>\n",
       ".list-inline {list-style: none; margin:0; padding: 0}\n",
       ".list-inline>li {display: inline-block}\n",
       ".list-inline>li:not(:last-child)::after {content: \"\\00b7\"; padding: 0 .5ex}\n",
       "</style>\n",
       "<ol class=list-inline><li>'l10_seg2_glm'</li><li>'l10_seg2_glm_fb'</li></ol>\n"
      ],
      "text/latex": [
       "\\begin{enumerate*}\n",
       "\\item 'l10\\_seg2\\_glm'\n",
       "\\item 'l10\\_seg2\\_glm\\_fb'\n",
       "\\end{enumerate*}\n"
      ],
      "text/markdown": [
       "1. 'l10_seg2_glm'\n",
       "2. 'l10_seg2_glm_fb'\n",
       "\n",
       "\n"
      ],
      "text/plain": [
       "[1] \"l10_seg2_glm\"    \"l10_seg2_glm_fb\""
      ]
     },
     "metadata": {},
     "output_type": "display_data"
    }
   ],
   "source": [
    "(auc_vars = grep('auc_seg2_glm', names(metametrics_df), value=TRUE))\n",
    "(l10_vars = grep('l10_seg2_glm', names(metametrics_df), value=TRUE))\n",
    "\n",
    "metametrics_df <- metametrics_df %>%\n",
    "    mutate (auc_win_03=sapply(apply(.[,c(auc_vars)], \n",
    "                          1, function(x) names(x)[which.max(x)]) , function(s) if (length(s) == 0) NA else paste(s, collapse = \" \")) ,\n",
    "            l10_win_03=sapply(apply(.[,c(l10_vars)], \n",
    "                          1, function(x) names(x)[which.max(x)]), function(s) if (length(s) == 0) NA else paste(s, collapse = \" \")) \n",
    "            ) \n",
    "                              \n"
   ]
  },
  {
   "cell_type": "code",
   "execution_count": 13,
   "metadata": {},
   "outputs": [
    {
     "data": {
      "text/plain": [
       "\n",
       "   auc_seg2_glm auc_seg2_glm_fb \n",
       "           1221             261 "
      ]
     },
     "metadata": {},
     "output_type": "display_data"
    },
    {
     "data": {
      "text/plain": [
       "\n",
       "   l10_seg2_glm l10_seg2_glm_fb \n",
       "           1306             176 "
      ]
     },
     "metadata": {},
     "output_type": "display_data"
    }
   ],
   "source": [
    "table(metametrics_df$auc_win_03)\n",
    "table(metametrics_df$l10_win_03)"
   ]
  },
  {
   "cell_type": "code",
   "execution_count": 14,
   "metadata": {},
   "outputs": [
    {
     "data": {
      "text/html": [
       "<style>\n",
       ".list-inline {list-style: none; margin:0; padding: 0}\n",
       ".list-inline>li {display: inline-block}\n",
       ".list-inline>li:not(:last-child)::after {content: \"\\00b7\"; padding: 0 .5ex}\n",
       "</style>\n",
       "<ol class=list-inline><li>1758</li><li>84</li></ol>\n"
      ],
      "text/latex": [
       "\\begin{enumerate*}\n",
       "\\item 1758\n",
       "\\item 84\n",
       "\\end{enumerate*}\n"
      ],
      "text/markdown": [
       "1. 1758\n",
       "2. 84\n",
       "\n",
       "\n"
      ],
      "text/plain": [
       "[1] 1758   84"
      ]
     },
     "metadata": {},
     "output_type": "display_data"
    }
   ],
   "source": [
    "dim(metametrics_df)"
   ]
  },
  {
   "cell_type": "code",
   "execution_count": 15,
   "metadata": {},
   "outputs": [
    {
     "name": "stdout",
     "output_type": "stream",
     "text": [
      "Excluding 1706 tld-re's (80.89%), due to volume < 500 \n",
      "Excluding 157 tld-re's (7.44%) associated with tld's 'pw' and 'in.net' \n"
     ]
    }
   ],
   "source": [
    "# percentage of of tld-re's replaced with FB table use\n",
    "tld_registrar_excl_list = tld_registrar_excl_df(train_df = expiry_df_train)"
   ]
  },
  {
   "cell_type": "code",
   "execution_count": 16,
   "metadata": {},
   "outputs": [
    {
     "data": {
      "text/html": [
       "0.741183162684869"
      ],
      "text/latex": [
       "0.741183162684869"
      ],
      "text/markdown": [
       "0.741183162684869"
      ],
      "text/plain": [
       "[1] 0.7411832"
      ]
     },
     "metadata": {},
     "output_type": "display_data"
    }
   ],
   "source": [
    "metametrics_df %>% filter(tld_registrar_index %in% tld_registrar_excl_list) %>% nrow() / metametrics_df %>% nrow()"
   ]
  },
  {
   "cell_type": "markdown",
   "metadata": {},
   "source": [
    "# Preprocess data - missing value impute & train/test split"
   ]
  },
  {
   "cell_type": "code",
   "execution_count": 17,
   "metadata": {},
   "outputs": [],
   "source": [
    "# install.packages(\"missRanger\")\n",
    "library(missRanger)"
   ]
  },
  {
   "cell_type": "code",
   "execution_count": 18,
   "metadata": {},
   "outputs": [
    {
     "name": "stdout",
     "output_type": "stream",
     "text": [
      "\n",
      "Missing value imputation by random forests\n",
      "\n",
      "  Variables to impute:\t\tgeo_maj, daydom_std, daydom_skew, daydom_kurt, sldlen_std, sldlen_skew, sldlen_kurt, gibbs_std, gibbs_skew, gibbs_kurt, pdcnt_std, pdcnt_skew, pdcnt_kurt, regarpt_std, regarpt_skew, regarpt_kurt, l10_seg2_glm, l10_seg_glm, l10_agg_glm_ALL, l10_agg_glm, l10_seg2_rf, l10_seg_rf, l10_agg_rf, l10_agg_rf_ALL, auc_seg2_glm, auc_seg_glm, auc_agg_glm_ALL, auc_agg_glm, auc_seg2_rf, auc_seg_rf, auc_agg_rf_ALL, auc_agg_rf, l10_seg2_glm_fb, l10_seg_glm_fb, l10_agg_glm_fb, l10_agg_glm_ALL_fb, l10_seg2_rf_fb, l10_seg_rf_fb, l10_agg_rf_fb, l10_agg_rf_ALL_fb, auc_seg2_glm_fb, auc_seg_glm_fb, auc_agg_glm_fb, auc_agg_glm_ALL_fb, auc_seg2_rf_fb, auc_seg_rf_fb, auc_agg_rf_fb, auc_agg_rf_ALL_fb, auc_win_01, l10_win_01, auc_win_02, l10_win_02, auc_win_03, l10_win_03\n",
      "  Variables used to impute:\ttld_registrar_index, geo_maj, geo_cnt, n, ren_prp, tld_cnt, tld_rat, daydom_min, daydom_max, daydom_mean, daydom_rng, daydom_std, daydom_skew, daydom_kurt, sldlen_min, sldlen_max, sldlen_mean, sldlen_rng, sldlen_std, sldlen_skew, sldlen_kurt, gibbs_min, gibbs_max, gibbs_mean, gibbs_rng, gibbs_std, gibbs_skew, gibbs_kurt, pdcnt_min, pdcnt_max, pdcnt_mean, pdcnt_rng, pdcnt_std, pdcnt_skew, pdcnt_kurt, regarpt_min, regarpt_max, regarpt_mean, regarpt_rng, regarpt_std, regarpt_skew, regarpt_kurt, country_maj, region_maj, country_cnt, region_cnt, l10_seg2_glm, l10_seg_glm, l10_agg_glm_ALL, l10_agg_glm, l10_seg2_rf, l10_seg_rf, l10_agg_rf, l10_agg_rf_ALL, auc_seg2_glm, auc_seg_glm, auc_agg_glm_ALL, auc_agg_glm, auc_seg2_rf, auc_seg_rf, auc_agg_rf_ALL, auc_agg_rf, l10_seg2_glm_fb, l10_seg_glm_fb, l10_agg_glm_fb, l10_agg_glm_ALL_fb, l10_seg2_rf_fb, l10_seg_rf_fb, l10_agg_rf_fb, l10_agg_rf_ALL_fb, auc_seg2_glm_fb, auc_seg_glm_fb, auc_agg_glm_fb, auc_agg_glm_ALL_fb, auc_seg2_rf_fb, auc_seg_rf_fb, auc_agg_rf_fb, auc_agg_rf_ALL_fb, auc_win_01, l10_win_01, auc_win_02, l10_win_02, auc_win_03, l10_win_03\n",
      "iter 1:\t......................................................\n",
      "iter 2:\t......................................................\n",
      "iter 3:\t......................................................\n",
      "iter 4:\t......................................................\n",
      "iter 5:\t......................................................\n"
     ]
    }
   ],
   "source": [
    "metametrics_imp_df <- missRanger(metametrics_df, num.trees = 100)"
   ]
  },
  {
   "cell_type": "code",
   "execution_count": 19,
   "metadata": {},
   "outputs": [],
   "source": [
    "set.seed(123) \n",
    "smp_siz = floor(0.8*nrow(metametrics_imp_df))\n",
    "train_ind = sample(seq_len(nrow(metametrics_imp_df)),size = smp_siz) \n",
    "train = metametrics_imp_df[train_ind,] \n",
    "test = metametrics_imp_df[-train_ind,]  "
   ]
  },
  {
   "cell_type": "code",
   "execution_count": 20,
   "metadata": {},
   "outputs": [
    {
     "data": {
      "text/html": [
       "<style>\n",
       ".list-inline {list-style: none; margin:0; padding: 0}\n",
       ".list-inline>li {display: inline-block}\n",
       ".list-inline>li:not(:last-child)::after {content: \"\\00b7\"; padding: 0 .5ex}\n",
       "</style>\n",
       "<ol class=list-inline><li>1406</li><li>84</li></ol>\n"
      ],
      "text/latex": [
       "\\begin{enumerate*}\n",
       "\\item 1406\n",
       "\\item 84\n",
       "\\end{enumerate*}\n"
      ],
      "text/markdown": [
       "1. 1406\n",
       "2. 84\n",
       "\n",
       "\n"
      ],
      "text/plain": [
       "[1] 1406   84"
      ]
     },
     "metadata": {},
     "output_type": "display_data"
    },
    {
     "data": {
      "text/html": [
       "<style>\n",
       ".list-inline {list-style: none; margin:0; padding: 0}\n",
       ".list-inline>li {display: inline-block}\n",
       ".list-inline>li:not(:last-child)::after {content: \"\\00b7\"; padding: 0 .5ex}\n",
       "</style>\n",
       "<ol class=list-inline><li>352</li><li>84</li></ol>\n"
      ],
      "text/latex": [
       "\\begin{enumerate*}\n",
       "\\item 352\n",
       "\\item 84\n",
       "\\end{enumerate*}\n"
      ],
      "text/markdown": [
       "1. 352\n",
       "2. 84\n",
       "\n",
       "\n"
      ],
      "text/plain": [
       "[1] 352  84"
      ]
     },
     "metadata": {},
     "output_type": "display_data"
    }
   ],
   "source": [
    "dim(train)\n",
    "dim(test)"
   ]
  },
  {
   "cell_type": "markdown",
   "metadata": {},
   "source": [
    "# RF BINARY w/ win_02"
   ]
  },
  {
   "cell_type": "code",
   "execution_count": 21,
   "metadata": {},
   "outputs": [
    {
     "data": {
      "text/html": [
       "<table>\n",
       "<caption>A data.frame: 6 × 47</caption>\n",
       "<thead>\n",
       "\t<tr><th></th><th scope=col>auc_win_02</th><th scope=col>l10_win_02</th><th scope=col>geo_maj</th><th scope=col>geo_cnt</th><th scope=col>n</th><th scope=col>ren_prp</th><th scope=col>tld_cnt</th><th scope=col>tld_rat</th><th scope=col>daydom_min</th><th scope=col>daydom_max</th><th scope=col>daydom_mean</th><th scope=col>daydom_rng</th><th scope=col>daydom_std</th><th scope=col>daydom_skew</th><th scope=col>daydom_kurt</th><th scope=col>sldlen_min</th><th scope=col>sldlen_max</th><th scope=col>sldlen_mean</th><th scope=col>sldlen_rng</th><th scope=col>sldlen_std</th><th scope=col>sldlen_skew</th><th scope=col>sldlen_kurt</th><th scope=col>gibbs_min</th><th scope=col>gibbs_max</th><th scope=col>gibbs_mean</th><th scope=col>gibbs_rng</th><th scope=col>gibbs_std</th><th scope=col>gibbs_skew</th><th scope=col>gibbs_kurt</th><th scope=col>pdcnt_min</th><th scope=col>pdcnt_max</th><th scope=col>pdcnt_mean</th><th scope=col>pdcnt_rng</th><th scope=col>pdcnt_std</th><th scope=col>pdcnt_skew</th><th scope=col>pdcnt_kurt</th><th scope=col>regarpt_min</th><th scope=col>regarpt_max</th><th scope=col>regarpt_mean</th><th scope=col>regarpt_rng</th><th scope=col>regarpt_std</th><th scope=col>regarpt_skew</th><th scope=col>regarpt_kurt</th><th scope=col>country_maj</th><th scope=col>region_maj</th><th scope=col>country_cnt</th><th scope=col>region_cnt</th></tr>\n",
       "\t<tr><th></th><th scope=col>&lt;chr&gt;</th><th scope=col>&lt;chr&gt;</th><th scope=col>&lt;fct&gt;</th><th scope=col>&lt;int&gt;</th><th scope=col>&lt;int&gt;</th><th scope=col>&lt;dbl&gt;</th><th scope=col>&lt;int&gt;</th><th scope=col>&lt;dbl&gt;</th><th scope=col>&lt;int&gt;</th><th scope=col>&lt;int&gt;</th><th scope=col>&lt;dbl&gt;</th><th scope=col>&lt;int&gt;</th><th scope=col>&lt;dbl&gt;</th><th scope=col>&lt;dbl&gt;</th><th scope=col>&lt;dbl&gt;</th><th scope=col>&lt;int&gt;</th><th scope=col>&lt;int&gt;</th><th scope=col>&lt;dbl&gt;</th><th scope=col>&lt;int&gt;</th><th scope=col>&lt;dbl&gt;</th><th scope=col>&lt;dbl&gt;</th><th scope=col>&lt;dbl&gt;</th><th scope=col>&lt;dbl&gt;</th><th scope=col>&lt;dbl&gt;</th><th scope=col>&lt;dbl&gt;</th><th scope=col>&lt;dbl&gt;</th><th scope=col>&lt;dbl&gt;</th><th scope=col>&lt;dbl&gt;</th><th scope=col>&lt;dbl&gt;</th><th scope=col>&lt;int&gt;</th><th scope=col>&lt;int&gt;</th><th scope=col>&lt;dbl&gt;</th><th scope=col>&lt;int&gt;</th><th scope=col>&lt;dbl&gt;</th><th scope=col>&lt;dbl&gt;</th><th scope=col>&lt;dbl&gt;</th><th scope=col>&lt;dbl&gt;</th><th scope=col>&lt;dbl&gt;</th><th scope=col>&lt;dbl&gt;</th><th scope=col>&lt;dbl&gt;</th><th scope=col>&lt;dbl&gt;</th><th scope=col>&lt;dbl&gt;</th><th scope=col>&lt;dbl&gt;</th><th scope=col>&lt;fct&gt;</th><th scope=col>&lt;fct&gt;</th><th scope=col>&lt;int&gt;</th><th scope=col>&lt;int&gt;</th></tr>\n",
       "</thead>\n",
       "<tbody>\n",
       "\t<tr><th scope=row>1</th><td>auc_seg2_glm_fb</td><td>l10_seg_rf     </td><td>EU   </td><td>1</td><td>   11</td><td>0.54545455</td><td>1</td><td>9.090909e-02</td><td> 1</td><td>   5</td><td>   2.181818</td><td>   4</td><td>   1.537412</td><td> 0.9266651</td><td>-0.7811140</td><td>4</td><td>14</td><td>7.636364</td><td>10</td><td>2.907670</td><td>0.7720046</td><td>-0.3922768</td><td>1.71</td><td>  9.01</td><td>4.655455</td><td>  7.30</td><td> 2.602016</td><td> 6.453797e-01</td><td>-1.217221</td><td>1</td><td>  3</td><td> 1.363636</td><td>  2</td><td> 0.6741999</td><td>1.338593</td><td> 0.3606612</td><td>15.0000</td><td>15.0</td><td>15.0000000</td><td> 0.0000</td><td>0.0000000</td><td>      NA</td><td>        NA</td><td>Japan        </td><td>Non China</td><td>1</td><td>1</td></tr>\n",
       "\t<tr><th scope=row>2</th><td>NA             </td><td>NA             </td><td>EU   </td><td>1</td><td>    2</td><td>0.00000000</td><td>1</td><td>5.000000e-01</td><td> 1</td><td>   1</td><td>   1.000000</td><td>   0</td><td>   0.000000</td><td>        NA</td><td>        NA</td><td>5</td><td> 8</td><td>6.500000</td><td> 3</td><td>2.121320</td><td>0.0000000</td><td>-2.7500000</td><td>3.28</td><td>  8.62</td><td>5.950000</td><td>  5.34</td><td> 3.775950</td><td> 9.898575e-17</td><td>-2.750000</td><td>1</td><td>  1</td><td> 1.000000</td><td>  0</td><td> 0.0000000</td><td>      NA</td><td>        NA</td><td>15.0000</td><td>15.0</td><td>15.0000000</td><td> 0.0000</td><td>0.0000000</td><td>      NA</td><td>        NA</td><td>United States</td><td>Non China</td><td>1</td><td>1</td></tr>\n",
       "\t<tr><th scope=row>3</th><td>auc_agg_glm_ALL</td><td>l10_agg_glm_ALL</td><td>EU   </td><td>1</td><td>    8</td><td>0.50000000</td><td>1</td><td>1.250000e-01</td><td> 1</td><td>   1</td><td>   1.000000</td><td>   0</td><td>   0.000000</td><td>        NA</td><td>        NA</td><td>4</td><td>15</td><td>8.875000</td><td>11</td><td>3.522884</td><td>0.4848693</td><td>-1.1434523</td><td>2.00</td><td>  6.09</td><td>4.396250</td><td>  4.09</td><td> 1.360167</td><td>-3.531195e-01</td><td>-1.301177</td><td>1</td><td>  1</td><td> 1.000000</td><td>  0</td><td> 0.0000000</td><td>      NA</td><td>        NA</td><td> 3.0000</td><td> 5.0</td><td> 4.0000000</td><td> 2.0000</td><td>1.0690450</td><td>0.000000</td><td> -2.234375</td><td>China        </td><td>China    </td><td>1</td><td>1</td></tr>\n",
       "\t<tr><th scope=row>4</th><td>auc_seg2_glm_fb</td><td>l10_seg_rf     </td><td>EU   </td><td>1</td><td>   47</td><td>0.06382979</td><td>1</td><td>2.127660e-02</td><td> 1</td><td> 119</td><td>  82.872340</td><td> 118</td><td>  46.011632</td><td>-0.8738906</td><td>-0.9645903</td><td>4</td><td>61</td><td>9.446809</td><td>57</td><td>8.334863</td><td>5.0179710</td><td>28.2025571</td><td>0.28</td><td> 17.92</td><td>4.695745</td><td> 17.64</td><td> 3.112366</td><td> 1.526987e+00</td><td> 4.826982</td><td>1</td><td>  3</td><td> 1.191489</td><td>  2</td><td> 0.4490714</td><td>2.194541</td><td> 4.1889225</td><td> 0.0001</td><td>15.0</td><td> 0.8511511</td><td>14.9999</td><td>2.6207801</td><td>3.740087</td><td> 15.752244</td><td>United States</td><td>Non China</td><td>1</td><td>1</td></tr>\n",
       "\t<tr><th scope=row>5</th><td>auc_seg2_rf    </td><td>l10_seg2_rf    </td><td>EU   </td><td>1</td><td>   25</td><td>0.20000000</td><td>1</td><td>4.000000e-02</td><td> 1</td><td>  14</td><td>   5.040000</td><td>  13</td><td>   5.020624</td><td> 1.0166170</td><td>-0.7554981</td><td>4</td><td>19</td><td>7.080000</td><td>15</td><td>3.451087</td><td>1.9087776</td><td> 3.6548313</td><td>0.59</td><td>100.00</td><td>9.743600</td><td> 99.41</td><td>19.035942</td><td> 4.242864e+00</td><td>17.222688</td><td>1</td><td> 10</td><td> 1.520000</td><td>  9</td><td> 1.8055470</td><td>4.127909</td><td>16.4692321</td><td> 0.5000</td><td> 0.5</td><td> 0.5000000</td><td> 0.0000</td><td>0.0000000</td><td>      NA</td><td>        NA</td><td>China        </td><td>China    </td><td>1</td><td>1</td></tr>\n",
       "\t<tr><th scope=row>6</th><td>auc_agg_rf_ALL </td><td>l10_agg_rf_ALL </td><td>China</td><td>1</td><td>35046</td><td>0.02014495</td><td>1</td><td>2.853393e-05</td><td>19</td><td>7163</td><td>1299.015380</td><td>7144</td><td>1600.896587</td><td> 2.5691646</td><td> 6.0230231</td><td>3</td><td>63</td><td>6.947155</td><td>60</td><td>3.018534</td><td>2.7839889</td><td>17.5227635</td><td>0.00</td><td>100.00</td><td>5.653614</td><td>100.00</td><td>19.616978</td><td> 4.525337e+00</td><td>18.821500</td><td>1</td><td>400</td><td>23.168949</td><td>399</td><td>52.1502807</td><td>3.559110</td><td>14.2005513</td><td> 0.0001</td><td> 5.0</td><td> 0.7338244</td><td> 4.9999</td><td>0.1809528</td><td>3.717292</td><td>137.140359</td><td>United States</td><td>Non China</td><td>1</td><td>1</td></tr>\n",
       "</tbody>\n",
       "</table>\n"
      ],
      "text/latex": [
       "A data.frame: 6 × 47\n",
       "\\begin{tabular}{r|lllllllllllllllllllllllllllllllllllllllllllllll}\n",
       "  & auc\\_win\\_02 & l10\\_win\\_02 & geo\\_maj & geo\\_cnt & n & ren\\_prp & tld\\_cnt & tld\\_rat & daydom\\_min & daydom\\_max & daydom\\_mean & daydom\\_rng & daydom\\_std & daydom\\_skew & daydom\\_kurt & sldlen\\_min & sldlen\\_max & sldlen\\_mean & sldlen\\_rng & sldlen\\_std & sldlen\\_skew & sldlen\\_kurt & gibbs\\_min & gibbs\\_max & gibbs\\_mean & gibbs\\_rng & gibbs\\_std & gibbs\\_skew & gibbs\\_kurt & pdcnt\\_min & pdcnt\\_max & pdcnt\\_mean & pdcnt\\_rng & pdcnt\\_std & pdcnt\\_skew & pdcnt\\_kurt & regarpt\\_min & regarpt\\_max & regarpt\\_mean & regarpt\\_rng & regarpt\\_std & regarpt\\_skew & regarpt\\_kurt & country\\_maj & region\\_maj & country\\_cnt & region\\_cnt\\\\\n",
       "  & <chr> & <chr> & <fct> & <int> & <int> & <dbl> & <int> & <dbl> & <int> & <int> & <dbl> & <int> & <dbl> & <dbl> & <dbl> & <int> & <int> & <dbl> & <int> & <dbl> & <dbl> & <dbl> & <dbl> & <dbl> & <dbl> & <dbl> & <dbl> & <dbl> & <dbl> & <int> & <int> & <dbl> & <int> & <dbl> & <dbl> & <dbl> & <dbl> & <dbl> & <dbl> & <dbl> & <dbl> & <dbl> & <dbl> & <fct> & <fct> & <int> & <int>\\\\\n",
       "\\hline\n",
       "\t1 & auc\\_seg2\\_glm\\_fb & l10\\_seg\\_rf      & EU    & 1 &    11 & 0.54545455 & 1 & 9.090909e-02 &  1 &    5 &    2.181818 &    4 &    1.537412 &  0.9266651 & -0.7811140 & 4 & 14 & 7.636364 & 10 & 2.907670 & 0.7720046 & -0.3922768 & 1.71 &   9.01 & 4.655455 &   7.30 &  2.602016 &  6.453797e-01 & -1.217221 & 1 &   3 &  1.363636 &   2 &  0.6741999 & 1.338593 &  0.3606612 & 15.0000 & 15.0 & 15.0000000 &  0.0000 & 0.0000000 &       NA &         NA & Japan         & Non China & 1 & 1\\\\\n",
       "\t2 & NA              & NA              & EU    & 1 &     2 & 0.00000000 & 1 & 5.000000e-01 &  1 &    1 &    1.000000 &    0 &    0.000000 &         NA &         NA & 5 &  8 & 6.500000 &  3 & 2.121320 & 0.0000000 & -2.7500000 & 3.28 &   8.62 & 5.950000 &   5.34 &  3.775950 &  9.898575e-17 & -2.750000 & 1 &   1 &  1.000000 &   0 &  0.0000000 &       NA &         NA & 15.0000 & 15.0 & 15.0000000 &  0.0000 & 0.0000000 &       NA &         NA & United States & Non China & 1 & 1\\\\\n",
       "\t3 & auc\\_agg\\_glm\\_ALL & l10\\_agg\\_glm\\_ALL & EU    & 1 &     8 & 0.50000000 & 1 & 1.250000e-01 &  1 &    1 &    1.000000 &    0 &    0.000000 &         NA &         NA & 4 & 15 & 8.875000 & 11 & 3.522884 & 0.4848693 & -1.1434523 & 2.00 &   6.09 & 4.396250 &   4.09 &  1.360167 & -3.531195e-01 & -1.301177 & 1 &   1 &  1.000000 &   0 &  0.0000000 &       NA &         NA &  3.0000 &  5.0 &  4.0000000 &  2.0000 & 1.0690450 & 0.000000 &  -2.234375 & China         & China     & 1 & 1\\\\\n",
       "\t4 & auc\\_seg2\\_glm\\_fb & l10\\_seg\\_rf      & EU    & 1 &    47 & 0.06382979 & 1 & 2.127660e-02 &  1 &  119 &   82.872340 &  118 &   46.011632 & -0.8738906 & -0.9645903 & 4 & 61 & 9.446809 & 57 & 8.334863 & 5.0179710 & 28.2025571 & 0.28 &  17.92 & 4.695745 &  17.64 &  3.112366 &  1.526987e+00 &  4.826982 & 1 &   3 &  1.191489 &   2 &  0.4490714 & 2.194541 &  4.1889225 &  0.0001 & 15.0 &  0.8511511 & 14.9999 & 2.6207801 & 3.740087 &  15.752244 & United States & Non China & 1 & 1\\\\\n",
       "\t5 & auc\\_seg2\\_rf     & l10\\_seg2\\_rf     & EU    & 1 &    25 & 0.20000000 & 1 & 4.000000e-02 &  1 &   14 &    5.040000 &   13 &    5.020624 &  1.0166170 & -0.7554981 & 4 & 19 & 7.080000 & 15 & 3.451087 & 1.9087776 &  3.6548313 & 0.59 & 100.00 & 9.743600 &  99.41 & 19.035942 &  4.242864e+00 & 17.222688 & 1 &  10 &  1.520000 &   9 &  1.8055470 & 4.127909 & 16.4692321 &  0.5000 &  0.5 &  0.5000000 &  0.0000 & 0.0000000 &       NA &         NA & China         & China     & 1 & 1\\\\\n",
       "\t6 & auc\\_agg\\_rf\\_ALL  & l10\\_agg\\_rf\\_ALL  & China & 1 & 35046 & 0.02014495 & 1 & 2.853393e-05 & 19 & 7163 & 1299.015380 & 7144 & 1600.896587 &  2.5691646 &  6.0230231 & 3 & 63 & 6.947155 & 60 & 3.018534 & 2.7839889 & 17.5227635 & 0.00 & 100.00 & 5.653614 & 100.00 & 19.616978 &  4.525337e+00 & 18.821500 & 1 & 400 & 23.168949 & 399 & 52.1502807 & 3.559110 & 14.2005513 &  0.0001 &  5.0 &  0.7338244 &  4.9999 & 0.1809528 & 3.717292 & 137.140359 & United States & Non China & 1 & 1\\\\\n",
       "\\end{tabular}\n"
      ],
      "text/markdown": [
       "\n",
       "A data.frame: 6 × 47\n",
       "\n",
       "| <!--/--> | auc_win_02 &lt;chr&gt; | l10_win_02 &lt;chr&gt; | geo_maj &lt;fct&gt; | geo_cnt &lt;int&gt; | n &lt;int&gt; | ren_prp &lt;dbl&gt; | tld_cnt &lt;int&gt; | tld_rat &lt;dbl&gt; | daydom_min &lt;int&gt; | daydom_max &lt;int&gt; | daydom_mean &lt;dbl&gt; | daydom_rng &lt;int&gt; | daydom_std &lt;dbl&gt; | daydom_skew &lt;dbl&gt; | daydom_kurt &lt;dbl&gt; | sldlen_min &lt;int&gt; | sldlen_max &lt;int&gt; | sldlen_mean &lt;dbl&gt; | sldlen_rng &lt;int&gt; | sldlen_std &lt;dbl&gt; | sldlen_skew &lt;dbl&gt; | sldlen_kurt &lt;dbl&gt; | gibbs_min &lt;dbl&gt; | gibbs_max &lt;dbl&gt; | gibbs_mean &lt;dbl&gt; | gibbs_rng &lt;dbl&gt; | gibbs_std &lt;dbl&gt; | gibbs_skew &lt;dbl&gt; | gibbs_kurt &lt;dbl&gt; | pdcnt_min &lt;int&gt; | pdcnt_max &lt;int&gt; | pdcnt_mean &lt;dbl&gt; | pdcnt_rng &lt;int&gt; | pdcnt_std &lt;dbl&gt; | pdcnt_skew &lt;dbl&gt; | pdcnt_kurt &lt;dbl&gt; | regarpt_min &lt;dbl&gt; | regarpt_max &lt;dbl&gt; | regarpt_mean &lt;dbl&gt; | regarpt_rng &lt;dbl&gt; | regarpt_std &lt;dbl&gt; | regarpt_skew &lt;dbl&gt; | regarpt_kurt &lt;dbl&gt; | country_maj &lt;fct&gt; | region_maj &lt;fct&gt; | country_cnt &lt;int&gt; | region_cnt &lt;int&gt; |\n",
       "|---|---|---|---|---|---|---|---|---|---|---|---|---|---|---|---|---|---|---|---|---|---|---|---|---|---|---|---|---|---|---|---|---|---|---|---|---|---|---|---|---|---|---|---|---|---|---|---|\n",
       "| 1 | auc_seg2_glm_fb | l10_seg_rf      | EU    | 1 |    11 | 0.54545455 | 1 | 9.090909e-02 |  1 |    5 |    2.181818 |    4 |    1.537412 |  0.9266651 | -0.7811140 | 4 | 14 | 7.636364 | 10 | 2.907670 | 0.7720046 | -0.3922768 | 1.71 |   9.01 | 4.655455 |   7.30 |  2.602016 |  6.453797e-01 | -1.217221 | 1 |   3 |  1.363636 |   2 |  0.6741999 | 1.338593 |  0.3606612 | 15.0000 | 15.0 | 15.0000000 |  0.0000 | 0.0000000 |       NA |         NA | Japan         | Non China | 1 | 1 |\n",
       "| 2 | NA              | NA              | EU    | 1 |     2 | 0.00000000 | 1 | 5.000000e-01 |  1 |    1 |    1.000000 |    0 |    0.000000 |         NA |         NA | 5 |  8 | 6.500000 |  3 | 2.121320 | 0.0000000 | -2.7500000 | 3.28 |   8.62 | 5.950000 |   5.34 |  3.775950 |  9.898575e-17 | -2.750000 | 1 |   1 |  1.000000 |   0 |  0.0000000 |       NA |         NA | 15.0000 | 15.0 | 15.0000000 |  0.0000 | 0.0000000 |       NA |         NA | United States | Non China | 1 | 1 |\n",
       "| 3 | auc_agg_glm_ALL | l10_agg_glm_ALL | EU    | 1 |     8 | 0.50000000 | 1 | 1.250000e-01 |  1 |    1 |    1.000000 |    0 |    0.000000 |         NA |         NA | 4 | 15 | 8.875000 | 11 | 3.522884 | 0.4848693 | -1.1434523 | 2.00 |   6.09 | 4.396250 |   4.09 |  1.360167 | -3.531195e-01 | -1.301177 | 1 |   1 |  1.000000 |   0 |  0.0000000 |       NA |         NA |  3.0000 |  5.0 |  4.0000000 |  2.0000 | 1.0690450 | 0.000000 |  -2.234375 | China         | China     | 1 | 1 |\n",
       "| 4 | auc_seg2_glm_fb | l10_seg_rf      | EU    | 1 |    47 | 0.06382979 | 1 | 2.127660e-02 |  1 |  119 |   82.872340 |  118 |   46.011632 | -0.8738906 | -0.9645903 | 4 | 61 | 9.446809 | 57 | 8.334863 | 5.0179710 | 28.2025571 | 0.28 |  17.92 | 4.695745 |  17.64 |  3.112366 |  1.526987e+00 |  4.826982 | 1 |   3 |  1.191489 |   2 |  0.4490714 | 2.194541 |  4.1889225 |  0.0001 | 15.0 |  0.8511511 | 14.9999 | 2.6207801 | 3.740087 |  15.752244 | United States | Non China | 1 | 1 |\n",
       "| 5 | auc_seg2_rf     | l10_seg2_rf     | EU    | 1 |    25 | 0.20000000 | 1 | 4.000000e-02 |  1 |   14 |    5.040000 |   13 |    5.020624 |  1.0166170 | -0.7554981 | 4 | 19 | 7.080000 | 15 | 3.451087 | 1.9087776 |  3.6548313 | 0.59 | 100.00 | 9.743600 |  99.41 | 19.035942 |  4.242864e+00 | 17.222688 | 1 |  10 |  1.520000 |   9 |  1.8055470 | 4.127909 | 16.4692321 |  0.5000 |  0.5 |  0.5000000 |  0.0000 | 0.0000000 |       NA |         NA | China         | China     | 1 | 1 |\n",
       "| 6 | auc_agg_rf_ALL  | l10_agg_rf_ALL  | China | 1 | 35046 | 0.02014495 | 1 | 2.853393e-05 | 19 | 7163 | 1299.015380 | 7144 | 1600.896587 |  2.5691646 |  6.0230231 | 3 | 63 | 6.947155 | 60 | 3.018534 | 2.7839889 | 17.5227635 | 0.00 | 100.00 | 5.653614 | 100.00 | 19.616978 |  4.525337e+00 | 18.821500 | 1 | 400 | 23.168949 | 399 | 52.1502807 | 3.559110 | 14.2005513 |  0.0001 |  5.0 |  0.7338244 |  4.9999 | 0.1809528 | 3.717292 | 137.140359 | United States | Non China | 1 | 1 |\n",
       "\n"
      ],
      "text/plain": [
       "  auc_win_02      l10_win_02      geo_maj geo_cnt n     ren_prp    tld_cnt\n",
       "1 auc_seg2_glm_fb l10_seg_rf      EU      1          11 0.54545455 1      \n",
       "2 NA              NA              EU      1           2 0.00000000 1      \n",
       "3 auc_agg_glm_ALL l10_agg_glm_ALL EU      1           8 0.50000000 1      \n",
       "4 auc_seg2_glm_fb l10_seg_rf      EU      1          47 0.06382979 1      \n",
       "5 auc_seg2_rf     l10_seg2_rf     EU      1          25 0.20000000 1      \n",
       "6 auc_agg_rf_ALL  l10_agg_rf_ALL  China   1       35046 0.02014495 1      \n",
       "  tld_rat      daydom_min daydom_max daydom_mean daydom_rng daydom_std \n",
       "1 9.090909e-02  1            5          2.181818    4          1.537412\n",
       "2 5.000000e-01  1            1          1.000000    0          0.000000\n",
       "3 1.250000e-01  1            1          1.000000    0          0.000000\n",
       "4 2.127660e-02  1          119         82.872340  118         46.011632\n",
       "5 4.000000e-02  1           14          5.040000   13          5.020624\n",
       "6 2.853393e-05 19         7163       1299.015380 7144       1600.896587\n",
       "  daydom_skew daydom_kurt sldlen_min sldlen_max sldlen_mean sldlen_rng\n",
       "1  0.9266651  -0.7811140  4          14         7.636364    10        \n",
       "2         NA          NA  5           8         6.500000     3        \n",
       "3         NA          NA  4          15         8.875000    11        \n",
       "4 -0.8738906  -0.9645903  4          61         9.446809    57        \n",
       "5  1.0166170  -0.7554981  4          19         7.080000    15        \n",
       "6  2.5691646   6.0230231  3          63         6.947155    60        \n",
       "  sldlen_std sldlen_skew sldlen_kurt gibbs_min gibbs_max gibbs_mean gibbs_rng\n",
       "1 2.907670   0.7720046   -0.3922768  1.71        9.01    4.655455     7.30   \n",
       "2 2.121320   0.0000000   -2.7500000  3.28        8.62    5.950000     5.34   \n",
       "3 3.522884   0.4848693   -1.1434523  2.00        6.09    4.396250     4.09   \n",
       "4 8.334863   5.0179710   28.2025571  0.28       17.92    4.695745    17.64   \n",
       "5 3.451087   1.9087776    3.6548313  0.59      100.00    9.743600    99.41   \n",
       "6 3.018534   2.7839889   17.5227635  0.00      100.00    5.653614   100.00   \n",
       "  gibbs_std gibbs_skew    gibbs_kurt pdcnt_min pdcnt_max pdcnt_mean pdcnt_rng\n",
       "1  2.602016  6.453797e-01 -1.217221  1           3        1.363636    2      \n",
       "2  3.775950  9.898575e-17 -2.750000  1           1        1.000000    0      \n",
       "3  1.360167 -3.531195e-01 -1.301177  1           1        1.000000    0      \n",
       "4  3.112366  1.526987e+00  4.826982  1           3        1.191489    2      \n",
       "5 19.035942  4.242864e+00 17.222688  1          10        1.520000    9      \n",
       "6 19.616978  4.525337e+00 18.821500  1         400       23.168949  399      \n",
       "  pdcnt_std  pdcnt_skew pdcnt_kurt regarpt_min regarpt_max regarpt_mean\n",
       "1  0.6741999 1.338593    0.3606612 15.0000     15.0        15.0000000  \n",
       "2  0.0000000       NA           NA 15.0000     15.0        15.0000000  \n",
       "3  0.0000000       NA           NA  3.0000      5.0         4.0000000  \n",
       "4  0.4490714 2.194541    4.1889225  0.0001     15.0         0.8511511  \n",
       "5  1.8055470 4.127909   16.4692321  0.5000      0.5         0.5000000  \n",
       "6 52.1502807 3.559110   14.2005513  0.0001      5.0         0.7338244  \n",
       "  regarpt_rng regarpt_std regarpt_skew regarpt_kurt country_maj   region_maj\n",
       "1  0.0000     0.0000000         NA             NA   Japan         Non China \n",
       "2  0.0000     0.0000000         NA             NA   United States Non China \n",
       "3  2.0000     1.0690450   0.000000      -2.234375   China         China     \n",
       "4 14.9999     2.6207801   3.740087      15.752244   United States Non China \n",
       "5  0.0000     0.0000000         NA             NA   China         China     \n",
       "6  4.9999     0.1809528   3.717292     137.140359   United States Non China \n",
       "  country_cnt region_cnt\n",
       "1 1           1         \n",
       "2 1           1         \n",
       "3 1           1         \n",
       "4 1           1         \n",
       "5 1           1         \n",
       "6 1           1         "
      ]
     },
     "metadata": {},
     "output_type": "display_data"
    }
   ],
   "source": [
    "metametrics_df %>% \n",
    "  select('auc_win_02', 'l10_win_02') %>% \n",
    "  bind_cols(\n",
    "      metametrics_df %>% \n",
    "        select(-contains('auc'),\n",
    "               -contains('l10'),\n",
    "               -contains('tld_registrar_index'))\n",
    "      ) %>% head()"
   ]
  },
  {
   "cell_type": "markdown",
   "metadata": {},
   "source": [
    "### AUC "
   ]
  },
  {
   "cell_type": "code",
   "execution_count": 22,
   "metadata": {},
   "outputs": [],
   "source": [
    "library(ranger) "
   ]
  },
  {
   "cell_type": "code",
   "execution_count": 36,
   "metadata": {},
   "outputs": [
    {
     "data": {
      "text/plain": [
       "      Y\n",
       "       auc_agg_glm auc_agg_glm_ALL auc_agg_rf auc_agg_rf_ALL auc_seg_glm\n",
       "  0.02           0               0          0              0           0\n",
       "  0.06           0               0          0              0           0\n",
       "  0.07           0               0          0              0           0\n",
       "  0.08           0               0          0            118         128\n",
       "  0.11           0               0         92              0           0\n",
       "  0.12           0              81          0              0           0\n",
       "  0.21          47               0          0              0           0\n",
       "  0.26           0               0          0              0           0\n",
       "      Y\n",
       "       auc_seg_rf auc_seg2_glm auc_seg2_glm_fb auc_seg2_rf\n",
       "  0.02          0          584               0           0\n",
       "  0.06        171            0               0           0\n",
       "  0.07          0            0               0         148\n",
       "  0.08          0            0               0           0\n",
       "  0.11          0            0               0           0\n",
       "  0.12          0            0               0           0\n",
       "  0.21          0            0               0           0\n",
       "  0.26          0            0              37           0"
      ]
     },
     "metadata": {},
     "output_type": "display_data"
    }
   ],
   "source": [
    "#Compute weights to balance the RF\n",
    "Y = train$auc_win_02\n",
    "w <- 1/table(Y)\n",
    "w <- w/sum(w)\n",
    "\n",
    "weights <- rep(0, length(Y))\n",
    "\n",
    "for (model in unique(Y)){\n",
    "    weights[Y==model] <- w[model]\n",
    "}\n",
    "table(round(weights,2), Y)"
   ]
  },
  {
   "cell_type": "code",
   "execution_count": 37,
   "metadata": {},
   "outputs": [],
   "source": [
    "model <- ranger(formula         = auc_win_02 ~ ., \n",
    "                data            = train %>% \n",
    "                                    select('auc_win_02') %>% \n",
    "                                    bind_cols(\n",
    "                                        train %>% \n",
    "                                        select(-contains('auc'),-contains('l10'),-'tld_registrar_index', -'tld_rat')), \n",
    "                importance = 'impurity', \n",
    "                num.trees       = 500,\n",
    "                probability = TRUE,\n",
    "                replace = FALSE,\n",
    "                sample.fraction = .8,\n",
    "                seed            = 123,\n",
    "                respect.unordered.factors=TRUE,\n",
    "               case.weights=weights)"
   ]
  },
  {
   "cell_type": "code",
   "execution_count": 38,
   "metadata": {},
   "outputs": [],
   "source": [
    "pred <- predict(model, \n",
    "                data = test,\n",
    "                type=\"response\")$predictions\n",
    "\n",
    "pred <- as.data.frame(pred)\n",
    "auc_vars <- names(pred)\n",
    "pred <- pred %>%\n",
    "    mutate (auc_win_02=sapply(apply(.[,c(auc_vars)], \n",
    "                          1, function(x) names(x)[which.max(x)]) , \n",
    "                                    function(s) if (length(s) == 0) NA else paste(s, collapse = \" \")) \n",
    "            ) "
   ]
  },
  {
   "cell_type": "code",
   "execution_count": 39,
   "metadata": {},
   "outputs": [
    {
     "data": {
      "text/html": [
       "<table>\n",
       "<caption>A data.frame: 9 × 2</caption>\n",
       "<thead>\n",
       "\t<tr><th scope=col>Var1</th><th scope=col>Freq</th></tr>\n",
       "\t<tr><th scope=col>&lt;fct&gt;</th><th scope=col>&lt;dbl&gt;</th></tr>\n",
       "</thead>\n",
       "<tbody>\n",
       "\t<tr><td>auc_agg_glm    </td><td>0.005681818</td></tr>\n",
       "\t<tr><td>auc_seg2_glm_fb</td><td>0.008522727</td></tr>\n",
       "\t<tr><td>auc_agg_glm_ALL</td><td>0.034090909</td></tr>\n",
       "\t<tr><td>auc_agg_rf     </td><td>0.051136364</td></tr>\n",
       "\t<tr><td>auc_agg_rf_ALL </td><td>0.105113636</td></tr>\n",
       "\t<tr><td>auc_seg_glm    </td><td>0.110795455</td></tr>\n",
       "\t<tr><td>auc_seg2_rf    </td><td>0.110795455</td></tr>\n",
       "\t<tr><td>auc_seg_rf     </td><td>0.173295455</td></tr>\n",
       "\t<tr><td>auc_seg2_glm   </td><td>0.400568182</td></tr>\n",
       "</tbody>\n",
       "</table>\n"
      ],
      "text/latex": [
       "A data.frame: 9 × 2\n",
       "\\begin{tabular}{ll}\n",
       " Var1 & Freq\\\\\n",
       " <fct> & <dbl>\\\\\n",
       "\\hline\n",
       "\t auc\\_agg\\_glm     & 0.005681818\\\\\n",
       "\t auc\\_seg2\\_glm\\_fb & 0.008522727\\\\\n",
       "\t auc\\_agg\\_glm\\_ALL & 0.034090909\\\\\n",
       "\t auc\\_agg\\_rf      & 0.051136364\\\\\n",
       "\t auc\\_agg\\_rf\\_ALL  & 0.105113636\\\\\n",
       "\t auc\\_seg\\_glm     & 0.110795455\\\\\n",
       "\t auc\\_seg2\\_rf     & 0.110795455\\\\\n",
       "\t auc\\_seg\\_rf      & 0.173295455\\\\\n",
       "\t auc\\_seg2\\_glm    & 0.400568182\\\\\n",
       "\\end{tabular}\n"
      ],
      "text/markdown": [
       "\n",
       "A data.frame: 9 × 2\n",
       "\n",
       "| Var1 &lt;fct&gt; | Freq &lt;dbl&gt; |\n",
       "|---|---|\n",
       "| auc_agg_glm     | 0.005681818 |\n",
       "| auc_seg2_glm_fb | 0.008522727 |\n",
       "| auc_agg_glm_ALL | 0.034090909 |\n",
       "| auc_agg_rf      | 0.051136364 |\n",
       "| auc_agg_rf_ALL  | 0.105113636 |\n",
       "| auc_seg_glm     | 0.110795455 |\n",
       "| auc_seg2_rf     | 0.110795455 |\n",
       "| auc_seg_rf      | 0.173295455 |\n",
       "| auc_seg2_glm    | 0.400568182 |\n",
       "\n"
      ],
      "text/plain": [
       "  Var1            Freq       \n",
       "1 auc_agg_glm     0.005681818\n",
       "2 auc_seg2_glm_fb 0.008522727\n",
       "3 auc_agg_glm_ALL 0.034090909\n",
       "4 auc_agg_rf      0.051136364\n",
       "5 auc_agg_rf_ALL  0.105113636\n",
       "6 auc_seg_glm     0.110795455\n",
       "7 auc_seg2_rf     0.110795455\n",
       "8 auc_seg_rf      0.173295455\n",
       "9 auc_seg2_glm    0.400568182"
      ]
     },
     "metadata": {},
     "output_type": "display_data"
    }
   ],
   "source": [
    "data.frame(sort(prop.table(table(pred$auc_win_02))))"
   ]
  },
  {
   "cell_type": "code",
   "execution_count": 41,
   "metadata": {},
   "outputs": [
    {
     "data": {
      "text/plain": [
       "                 \n",
       "                  auc_agg_glm auc_agg_glm_ALL auc_agg_rf auc_agg_rf_ALL\n",
       "  auc_agg_glm               0               0          1              1\n",
       "  auc_agg_glm_ALL           0               1          1              1\n",
       "  auc_agg_rf                0               3          5              2\n",
       "  auc_agg_rf_ALL            0               2          2              8\n",
       "  auc_seg_glm               1               2          1              3\n",
       "  auc_seg_rf                0               1          5             11\n",
       "  auc_seg2_glm              1               2          2              8\n",
       "  auc_seg2_glm_fb           0               0          0              1\n",
       "  auc_seg2_rf               0               1          1              2\n",
       "                 \n",
       "                  auc_seg_glm auc_seg_rf auc_seg2_glm auc_seg2_glm_fb\n",
       "  auc_agg_glm               2          4            1               0\n",
       "  auc_agg_glm_ALL           6          1            5               1\n",
       "  auc_agg_rf                4          2            3               0\n",
       "  auc_agg_rf_ALL            5         10            1               1\n",
       "  auc_seg_glm               6          5            8               0\n",
       "  auc_seg_rf                4         20            5               0\n",
       "  auc_seg2_glm             11          6          113               1\n",
       "  auc_seg2_glm_fb           1          2            2               0\n",
       "  auc_seg2_rf               0         11            3               0\n",
       "                 \n",
       "                  auc_seg2_rf\n",
       "  auc_agg_glm               1\n",
       "  auc_agg_glm_ALL           3\n",
       "  auc_agg_rf                6\n",
       "  auc_agg_rf_ALL            5\n",
       "  auc_seg_glm               4\n",
       "  auc_seg_rf                7\n",
       "  auc_seg2_glm              9\n",
       "  auc_seg2_glm_fb           1\n",
       "  auc_seg2_rf               3"
      ]
     },
     "metadata": {},
     "output_type": "display_data"
    }
   ],
   "source": [
    "xtab <- table(test$auc_win_02, pred$auc_win_02)\n",
    "xtab"
   ]
  },
  {
   "cell_type": "code",
   "execution_count": 42,
   "metadata": {},
   "outputs": [
    {
     "data": {
      "text/html": [
       "<style>\n",
       ".list-inline {list-style: none; margin:0; padding: 0}\n",
       ".list-inline>li {display: inline-block}\n",
       ".list-inline>li:not(:last-child)::after {content: \"\\00b7\"; padding: 0 .5ex}\n",
       "</style>\n",
       "<ol class=list-inline><li>'auc_agg_glm'</li><li>'auc_agg_glm_ALL'</li><li>'auc_agg_rf'</li><li>'auc_agg_rf_ALL'</li><li>'auc_seg_glm'</li><li>'auc_seg_rf'</li><li>'auc_seg2_glm'</li><li>'auc_seg2_glm_fb'</li><li>'auc_seg2_rf'</li></ol>\n"
      ],
      "text/latex": [
       "\\begin{enumerate*}\n",
       "\\item 'auc\\_agg\\_glm'\n",
       "\\item 'auc\\_agg\\_glm\\_ALL'\n",
       "\\item 'auc\\_agg\\_rf'\n",
       "\\item 'auc\\_agg\\_rf\\_ALL'\n",
       "\\item 'auc\\_seg\\_glm'\n",
       "\\item 'auc\\_seg\\_rf'\n",
       "\\item 'auc\\_seg2\\_glm'\n",
       "\\item 'auc\\_seg2\\_glm\\_fb'\n",
       "\\item 'auc\\_seg2\\_rf'\n",
       "\\end{enumerate*}\n"
      ],
      "text/markdown": [
       "1. 'auc_agg_glm'\n",
       "2. 'auc_agg_glm_ALL'\n",
       "3. 'auc_agg_rf'\n",
       "4. 'auc_agg_rf_ALL'\n",
       "5. 'auc_seg_glm'\n",
       "6. 'auc_seg_rf'\n",
       "7. 'auc_seg2_glm'\n",
       "8. 'auc_seg2_glm_fb'\n",
       "9. 'auc_seg2_rf'\n",
       "\n",
       "\n"
      ],
      "text/plain": [
       "[1] \"auc_agg_glm\"     \"auc_agg_glm_ALL\" \"auc_agg_rf\"      \"auc_agg_rf_ALL\" \n",
       "[5] \"auc_seg_glm\"     \"auc_seg_rf\"      \"auc_seg2_glm\"    \"auc_seg2_glm_fb\"\n",
       "[9] \"auc_seg2_rf\"    "
      ]
     },
     "metadata": {},
     "output_type": "display_data"
    },
    {
     "data": {
      "text/html": [
       "<style>\n",
       ".list-inline {list-style: none; margin:0; padding: 0}\n",
       ".list-inline>li {display: inline-block}\n",
       ".list-inline>li:not(:last-child)::after {content: \"\\00b7\"; padding: 0 .5ex}\n",
       "</style>\n",
       "<ol class=list-inline><li>'auc_agg_glm'</li><li>'auc_agg_glm_ALL'</li><li>'auc_agg_rf'</li><li>'auc_agg_rf_ALL'</li><li>'auc_seg_glm'</li><li>'auc_seg_rf'</li><li>'auc_seg2_glm'</li><li>'auc_seg2_glm_fb'</li><li>'auc_seg2_rf'</li></ol>\n"
      ],
      "text/latex": [
       "\\begin{enumerate*}\n",
       "\\item 'auc\\_agg\\_glm'\n",
       "\\item 'auc\\_agg\\_glm\\_ALL'\n",
       "\\item 'auc\\_agg\\_rf'\n",
       "\\item 'auc\\_agg\\_rf\\_ALL'\n",
       "\\item 'auc\\_seg\\_glm'\n",
       "\\item 'auc\\_seg\\_rf'\n",
       "\\item 'auc\\_seg2\\_glm'\n",
       "\\item 'auc\\_seg2\\_glm\\_fb'\n",
       "\\item 'auc\\_seg2\\_rf'\n",
       "\\end{enumerate*}\n"
      ],
      "text/markdown": [
       "1. 'auc_agg_glm'\n",
       "2. 'auc_agg_glm_ALL'\n",
       "3. 'auc_agg_rf'\n",
       "4. 'auc_agg_rf_ALL'\n",
       "5. 'auc_seg_glm'\n",
       "6. 'auc_seg_rf'\n",
       "7. 'auc_seg2_glm'\n",
       "8. 'auc_seg2_glm_fb'\n",
       "9. 'auc_seg2_rf'\n",
       "\n",
       "\n"
      ],
      "text/plain": [
       "[1] \"auc_agg_glm\"     \"auc_agg_glm_ALL\" \"auc_agg_rf\"      \"auc_agg_rf_ALL\" \n",
       "[5] \"auc_seg_glm\"     \"auc_seg_rf\"      \"auc_seg2_glm\"    \"auc_seg2_glm_fb\"\n",
       "[9] \"auc_seg2_rf\"    "
      ]
     },
     "metadata": {},
     "output_type": "display_data"
    }
   ],
   "source": [
    "levels(factor(test$auc_win_02))\n",
    "levels(factor(pred$auc_win_02))"
   ]
  },
  {
   "cell_type": "code",
   "execution_count": 43,
   "metadata": {},
   "outputs": [
    {
     "data": {
      "text/html": [
       "<style>\n",
       ".list-inline {list-style: none; margin:0; padding: 0}\n",
       ".list-inline>li {display: inline-block}\n",
       ".list-inline>li:not(:last-child)::after {content: \"\\00b7\"; padding: 0 .5ex}\n",
       "</style>\n",
       "<ol class=list-inline><li>'auc_seg_rf'</li><li>'auc_seg2_glm'</li><li>'auc_agg_glm'</li><li>'auc_agg_rf_ALL'</li><li>'auc_seg2_rf'</li><li>'auc_agg_glm_ALL'</li><li>'auc_agg_rf'</li><li>'auc_seg2_glm_fb'</li><li>'auc_seg_glm'</li></ol>\n"
      ],
      "text/latex": [
       "\\begin{enumerate*}\n",
       "\\item 'auc\\_seg\\_rf'\n",
       "\\item 'auc\\_seg2\\_glm'\n",
       "\\item 'auc\\_agg\\_glm'\n",
       "\\item 'auc\\_agg\\_rf\\_ALL'\n",
       "\\item 'auc\\_seg2\\_rf'\n",
       "\\item 'auc\\_agg\\_glm\\_ALL'\n",
       "\\item 'auc\\_agg\\_rf'\n",
       "\\item 'auc\\_seg2\\_glm\\_fb'\n",
       "\\item 'auc\\_seg\\_glm'\n",
       "\\end{enumerate*}\n"
      ],
      "text/markdown": [
       "1. 'auc_seg_rf'\n",
       "2. 'auc_seg2_glm'\n",
       "3. 'auc_agg_glm'\n",
       "4. 'auc_agg_rf_ALL'\n",
       "5. 'auc_seg2_rf'\n",
       "6. 'auc_agg_glm_ALL'\n",
       "7. 'auc_agg_rf'\n",
       "8. 'auc_seg2_glm_fb'\n",
       "9. 'auc_seg_glm'\n",
       "\n",
       "\n"
      ],
      "text/plain": [
       "[1] \"auc_seg_rf\"      \"auc_seg2_glm\"    \"auc_agg_glm\"     \"auc_agg_rf_ALL\" \n",
       "[5] \"auc_seg2_rf\"     \"auc_agg_glm_ALL\" \"auc_agg_rf\"      \"auc_seg2_glm_fb\"\n",
       "[9] \"auc_seg_glm\"    "
      ]
     },
     "metadata": {},
     "output_type": "display_data"
    },
    {
     "data": {
      "text/html": [
       "<style>\n",
       ".list-inline {list-style: none; margin:0; padding: 0}\n",
       ".list-inline>li {display: inline-block}\n",
       ".list-inline>li:not(:last-child)::after {content: \"\\00b7\"; padding: 0 .5ex}\n",
       "</style>\n",
       "<ol class=list-inline><li>'auc_agg_glm_ALL'</li><li>'auc_seg2_glm'</li><li>'auc_seg_rf'</li><li>'auc_seg_glm'</li><li>'auc_agg_rf'</li><li>'auc_seg2_rf'</li><li>'auc_seg2_glm_fb'</li><li>'auc_agg_rf_ALL'</li><li>'auc_agg_glm'</li></ol>\n"
      ],
      "text/latex": [
       "\\begin{enumerate*}\n",
       "\\item 'auc\\_agg\\_glm\\_ALL'\n",
       "\\item 'auc\\_seg2\\_glm'\n",
       "\\item 'auc\\_seg\\_rf'\n",
       "\\item 'auc\\_seg\\_glm'\n",
       "\\item 'auc\\_agg\\_rf'\n",
       "\\item 'auc\\_seg2\\_rf'\n",
       "\\item 'auc\\_seg2\\_glm\\_fb'\n",
       "\\item 'auc\\_agg\\_rf\\_ALL'\n",
       "\\item 'auc\\_agg\\_glm'\n",
       "\\end{enumerate*}\n"
      ],
      "text/markdown": [
       "1. 'auc_agg_glm_ALL'\n",
       "2. 'auc_seg2_glm'\n",
       "3. 'auc_seg_rf'\n",
       "4. 'auc_seg_glm'\n",
       "5. 'auc_agg_rf'\n",
       "6. 'auc_seg2_rf'\n",
       "7. 'auc_seg2_glm_fb'\n",
       "8. 'auc_agg_rf_ALL'\n",
       "9. 'auc_agg_glm'\n",
       "\n",
       "\n"
      ],
      "text/plain": [
       "[1] \"auc_agg_glm_ALL\" \"auc_seg2_glm\"    \"auc_seg_rf\"      \"auc_seg_glm\"    \n",
       "[5] \"auc_agg_rf\"      \"auc_seg2_rf\"     \"auc_seg2_glm_fb\" \"auc_agg_rf_ALL\" \n",
       "[9] \"auc_agg_glm\"    "
      ]
     },
     "metadata": {},
     "output_type": "display_data"
    }
   ],
   "source": [
    "unique(train$auc_win_02)\n",
    "unique(test$auc_win_02)"
   ]
  },
  {
   "cell_type": "code",
   "execution_count": 44,
   "metadata": {},
   "outputs": [
    {
     "data": {
      "text/plain": [
       "Confusion Matrix and Statistics\n",
       "\n",
       "                 Reference\n",
       "Prediction        auc_agg_glm auc_agg_glm_ALL auc_agg_rf auc_agg_rf_ALL\n",
       "  auc_agg_glm               0               0          1              1\n",
       "  auc_agg_glm_ALL           0               1          1              1\n",
       "  auc_agg_rf                0               3          5              2\n",
       "  auc_agg_rf_ALL            0               2          2              8\n",
       "  auc_seg_glm               1               2          1              3\n",
       "  auc_seg_rf                0               1          5             11\n",
       "  auc_seg2_glm              1               2          2              8\n",
       "  auc_seg2_glm_fb           0               0          0              1\n",
       "  auc_seg2_rf               0               1          1              2\n",
       "                 Reference\n",
       "Prediction        auc_seg_glm auc_seg_rf auc_seg2_glm auc_seg2_glm_fb\n",
       "  auc_agg_glm               2          4            1               0\n",
       "  auc_agg_glm_ALL           6          1            5               1\n",
       "  auc_agg_rf                4          2            3               0\n",
       "  auc_agg_rf_ALL            5         10            1               1\n",
       "  auc_seg_glm               6          5            8               0\n",
       "  auc_seg_rf                4         20            5               0\n",
       "  auc_seg2_glm             11          6          113               1\n",
       "  auc_seg2_glm_fb           1          2            2               0\n",
       "  auc_seg2_rf               0         11            3               0\n",
       "                 Reference\n",
       "Prediction        auc_seg2_rf\n",
       "  auc_agg_glm               1\n",
       "  auc_agg_glm_ALL           3\n",
       "  auc_agg_rf                6\n",
       "  auc_agg_rf_ALL            5\n",
       "  auc_seg_glm               4\n",
       "  auc_seg_rf                7\n",
       "  auc_seg2_glm              9\n",
       "  auc_seg2_glm_fb           1\n",
       "  auc_seg2_rf               3\n",
       "\n",
       "Overall Statistics\n",
       "                                          \n",
       "               Accuracy : 0.4432          \n",
       "                 95% CI : (0.3905, 0.4968)\n",
       "    No Information Rate : 0.4006          \n",
       "    P-Value [Acc > NIR] : 0.05792         \n",
       "                                          \n",
       "                  Kappa : 0.2748          \n",
       "                                          \n",
       " Mcnemar's Test P-Value : NA              \n",
       "\n",
       "Statistics by Class:\n",
       "\n",
       "                     Class: auc_agg_glm Class: auc_agg_glm_ALL\n",
       "Sensitivity                    0.000000               0.083333\n",
       "Specificity                    0.971429               0.947059\n",
       "Pos Pred Value                 0.000000               0.052632\n",
       "Neg Pred Value                 0.994152               0.966967\n",
       "Prevalence                     0.005682               0.034091\n",
       "Detection Rate                 0.000000               0.002841\n",
       "Detection Prevalence           0.028409               0.053977\n",
       "Balanced Accuracy              0.485714               0.515196\n",
       "                     Class: auc_agg_rf Class: auc_agg_rf_ALL Class: auc_seg_glm\n",
       "Sensitivity                    0.27778               0.21622            0.15385\n",
       "Specificity                    0.94012               0.91746            0.92332\n",
       "Pos Pred Value                 0.20000               0.23529            0.20000\n",
       "Neg Pred Value                 0.96024               0.90881            0.89752\n",
       "Prevalence                     0.05114               0.10511            0.11080\n",
       "Detection Rate                 0.01420               0.02273            0.01705\n",
       "Detection Prevalence           0.07102               0.09659            0.08523\n",
       "Balanced Accuracy              0.60895               0.56684            0.53858\n",
       "                     Class: auc_seg_rf Class: auc_seg2_glm\n",
       "Sensitivity                    0.32787              0.8014\n",
       "Specificity                    0.88660              0.8104\n",
       "Pos Pred Value                 0.37736              0.7386\n",
       "Neg Pred Value                 0.86288              0.8593\n",
       "Prevalence                     0.17330              0.4006\n",
       "Detection Rate                 0.05682              0.3210\n",
       "Detection Prevalence           0.15057              0.4347\n",
       "Balanced Accuracy              0.60723              0.8059\n",
       "                     Class: auc_seg2_glm_fb Class: auc_seg2_rf\n",
       "Sensitivity                        0.000000           0.076923\n",
       "Specificity                        0.979943           0.942492\n",
       "Pos Pred Value                     0.000000           0.142857\n",
       "Neg Pred Value                     0.991304           0.891239\n",
       "Prevalence                         0.008523           0.110795\n",
       "Detection Rate                     0.000000           0.008523\n",
       "Detection Prevalence               0.019886           0.059659\n",
       "Balanced Accuracy                  0.489971           0.509708"
      ]
     },
     "metadata": {},
     "output_type": "display_data"
    }
   ],
   "source": [
    "confusionMatrix(data=factor(test$auc_win_02,\n",
    "                           levels=levels(factor(pred$auc_win_02))), reference=factor(pred$auc_win_02))"
   ]
  },
  {
   "cell_type": "code",
   "execution_count": 45,
   "metadata": {},
   "outputs": [
    {
     "data": {
      "text/html": [
       "<table>\n",
       "<caption>A data.frame: 15 × 1</caption>\n",
       "<thead>\n",
       "\t<tr><th></th><th scope=col>importance(model)</th></tr>\n",
       "\t<tr><th></th><th scope=col>&lt;dbl&gt;</th></tr>\n",
       "</thead>\n",
       "<tbody>\n",
       "\t<tr><th scope=row>n</th><td>33.27559</td></tr>\n",
       "\t<tr><th scope=row>ren_prp</th><td>26.13155</td></tr>\n",
       "\t<tr><th scope=row>gibbs_rng</th><td>25.72643</td></tr>\n",
       "\t<tr><th scope=row>sldlen_kurt</th><td>23.26212</td></tr>\n",
       "\t<tr><th scope=row>daydom_skew</th><td>22.09165</td></tr>\n",
       "\t<tr><th scope=row>gibbs_kurt</th><td>21.52359</td></tr>\n",
       "\t<tr><th scope=row>sldlen_rng</th><td>20.53707</td></tr>\n",
       "\t<tr><th scope=row>daydom_kurt</th><td>19.36542</td></tr>\n",
       "\t<tr><th scope=row>daydom_rng</th><td>18.33922</td></tr>\n",
       "\t<tr><th scope=row>pdcnt_skew</th><td>14.65452</td></tr>\n",
       "\t<tr><th scope=row>daydom_mean</th><td>14.50215</td></tr>\n",
       "\t<tr><th scope=row>sldlen_skew</th><td>14.07745</td></tr>\n",
       "\t<tr><th scope=row>sldlen_std</th><td>13.34630</td></tr>\n",
       "\t<tr><th scope=row>daydom_max</th><td>13.09464</td></tr>\n",
       "\t<tr><th scope=row>gibbs_std</th><td>12.91732</td></tr>\n",
       "</tbody>\n",
       "</table>\n"
      ],
      "text/latex": [
       "A data.frame: 15 × 1\n",
       "\\begin{tabular}{r|l}\n",
       "  & importance(model)\\\\\n",
       "  & <dbl>\\\\\n",
       "\\hline\n",
       "\tn & 33.27559\\\\\n",
       "\tren\\_prp & 26.13155\\\\\n",
       "\tgibbs\\_rng & 25.72643\\\\\n",
       "\tsldlen\\_kurt & 23.26212\\\\\n",
       "\tdaydom\\_skew & 22.09165\\\\\n",
       "\tgibbs\\_kurt & 21.52359\\\\\n",
       "\tsldlen\\_rng & 20.53707\\\\\n",
       "\tdaydom\\_kurt & 19.36542\\\\\n",
       "\tdaydom\\_rng & 18.33922\\\\\n",
       "\tpdcnt\\_skew & 14.65452\\\\\n",
       "\tdaydom\\_mean & 14.50215\\\\\n",
       "\tsldlen\\_skew & 14.07745\\\\\n",
       "\tsldlen\\_std & 13.34630\\\\\n",
       "\tdaydom\\_max & 13.09464\\\\\n",
       "\tgibbs\\_std & 12.91732\\\\\n",
       "\\end{tabular}\n"
      ],
      "text/markdown": [
       "\n",
       "A data.frame: 15 × 1\n",
       "\n",
       "| <!--/--> | importance(model) &lt;dbl&gt; |\n",
       "|---|---|\n",
       "| n | 33.27559 |\n",
       "| ren_prp | 26.13155 |\n",
       "| gibbs_rng | 25.72643 |\n",
       "| sldlen_kurt | 23.26212 |\n",
       "| daydom_skew | 22.09165 |\n",
       "| gibbs_kurt | 21.52359 |\n",
       "| sldlen_rng | 20.53707 |\n",
       "| daydom_kurt | 19.36542 |\n",
       "| daydom_rng | 18.33922 |\n",
       "| pdcnt_skew | 14.65452 |\n",
       "| daydom_mean | 14.50215 |\n",
       "| sldlen_skew | 14.07745 |\n",
       "| sldlen_std | 13.34630 |\n",
       "| daydom_max | 13.09464 |\n",
       "| gibbs_std | 12.91732 |\n",
       "\n"
      ],
      "text/plain": [
       "            importance(model)\n",
       "n           33.27559         \n",
       "ren_prp     26.13155         \n",
       "gibbs_rng   25.72643         \n",
       "sldlen_kurt 23.26212         \n",
       "daydom_skew 22.09165         \n",
       "gibbs_kurt  21.52359         \n",
       "sldlen_rng  20.53707         \n",
       "daydom_kurt 19.36542         \n",
       "daydom_rng  18.33922         \n",
       "pdcnt_skew  14.65452         \n",
       "daydom_mean 14.50215         \n",
       "sldlen_skew 14.07745         \n",
       "sldlen_std  13.34630         \n",
       "daydom_max  13.09464         \n",
       "gibbs_std   12.91732         "
      ]
     },
     "metadata": {},
     "output_type": "display_data"
    }
   ],
   "source": [
    "as.data.frame(importance(model)) %>% arrange(desc(importance(model))) %>% head(15)"
   ]
  },
  {
   "cell_type": "code",
   "execution_count": 46,
   "metadata": {},
   "outputs": [
    {
     "data": {
      "text/html": [
       "<style>\n",
       ".list-inline {list-style: none; margin:0; padding: 0}\n",
       ".list-inline>li {display: inline-block}\n",
       ".list-inline>li:not(:last-child)::after {content: \"\\00b7\"; padding: 0 .5ex}\n",
       "</style>\n",
       "<ol class=list-inline><li>'n'</li><li>'ren_prp'</li><li>'gibbs_rng'</li><li>'sldlen_kurt'</li><li>'daydom_skew'</li><li>'gibbs_kurt'</li><li>'sldlen_rng'</li><li>'daydom_kurt'</li><li>'daydom_rng'</li><li>'pdcnt_skew'</li><li>'daydom_mean'</li><li>'sldlen_skew'</li><li>'sldlen_std'</li><li>'daydom_max'</li><li>'gibbs_std'</li></ol>\n"
      ],
      "text/latex": [
       "\\begin{enumerate*}\n",
       "\\item 'n'\n",
       "\\item 'ren\\_prp'\n",
       "\\item 'gibbs\\_rng'\n",
       "\\item 'sldlen\\_kurt'\n",
       "\\item 'daydom\\_skew'\n",
       "\\item 'gibbs\\_kurt'\n",
       "\\item 'sldlen\\_rng'\n",
       "\\item 'daydom\\_kurt'\n",
       "\\item 'daydom\\_rng'\n",
       "\\item 'pdcnt\\_skew'\n",
       "\\item 'daydom\\_mean'\n",
       "\\item 'sldlen\\_skew'\n",
       "\\item 'sldlen\\_std'\n",
       "\\item 'daydom\\_max'\n",
       "\\item 'gibbs\\_std'\n",
       "\\end{enumerate*}\n"
      ],
      "text/markdown": [
       "1. 'n'\n",
       "2. 'ren_prp'\n",
       "3. 'gibbs_rng'\n",
       "4. 'sldlen_kurt'\n",
       "5. 'daydom_skew'\n",
       "6. 'gibbs_kurt'\n",
       "7. 'sldlen_rng'\n",
       "8. 'daydom_kurt'\n",
       "9. 'daydom_rng'\n",
       "10. 'pdcnt_skew'\n",
       "11. 'daydom_mean'\n",
       "12. 'sldlen_skew'\n",
       "13. 'sldlen_std'\n",
       "14. 'daydom_max'\n",
       "15. 'gibbs_std'\n",
       "\n",
       "\n"
      ],
      "text/plain": [
       " [1] \"n\"           \"ren_prp\"     \"gibbs_rng\"   \"sldlen_kurt\" \"daydom_skew\"\n",
       " [6] \"gibbs_kurt\"  \"sldlen_rng\"  \"daydom_kurt\" \"daydom_rng\"  \"pdcnt_skew\" \n",
       "[11] \"daydom_mean\" \"sldlen_skew\" \"sldlen_std\"  \"daydom_max\"  \"gibbs_std\"  "
      ]
     },
     "metadata": {},
     "output_type": "display_data"
    }
   ],
   "source": [
    "as.data.frame(importance(model)) %>% arrange(desc(importance(model))) %>% head(15) %>% row.names()"
   ]
  },
  {
   "cell_type": "markdown",
   "metadata": {},
   "source": [
    "### L10"
   ]
  },
  {
   "cell_type": "code",
   "execution_count": 47,
   "metadata": {},
   "outputs": [],
   "source": [
    "library(ranger) "
   ]
  },
  {
   "cell_type": "code",
   "execution_count": 48,
   "metadata": {},
   "outputs": [
    {
     "data": {
      "text/plain": [
       "      Y\n",
       "       l10_agg_glm l10_agg_glm_ALL l10_agg_rf l10_agg_rf_ALL l10_seg_glm\n",
       "  0.01           0               0          0              0           0\n",
       "  0.04           0               0          0              0         144\n",
       "  0.05           0               0          0              0           0\n",
       "  0.08           0               0         70              0           0\n",
       "  0.09           0              65          0              0           0\n",
       "  0.14           0               0          0             42           0\n",
       "  0.18          32               0          0              0           0\n",
       "  0.38           0               0          0              0           0\n",
       "      Y\n",
       "       l10_seg_rf l10_seg2_glm l10_seg2_glm_fb l10_seg2_rf\n",
       "  0.01          0          786               0           0\n",
       "  0.04          0            0               0         145\n",
       "  0.05        107            0               0           0\n",
       "  0.08          0            0               0           0\n",
       "  0.09          0            0               0           0\n",
       "  0.14          0            0               0           0\n",
       "  0.18          0            0               0           0\n",
       "  0.38          0            0              15           0"
      ]
     },
     "metadata": {},
     "output_type": "display_data"
    }
   ],
   "source": [
    "#Compute weights to balance the RF\n",
    "Y = train$l10_win_02\n",
    "w <- 1/table(Y)\n",
    "w <- w/sum(w)\n",
    "\n",
    "for (model in unique(Y)){\n",
    "    weights[Y==model] <- w[model]\n",
    "}\n",
    "table(round(weights,2), Y)"
   ]
  },
  {
   "cell_type": "code",
   "execution_count": 49,
   "metadata": {},
   "outputs": [],
   "source": [
    "model <- ranger(formula         = l10_win_02 ~ ., \n",
    "                data            = train %>% \n",
    "                                    select('l10_win_02') %>% \n",
    "                                    bind_cols(\n",
    "                                        train %>% \n",
    "                                        select(-contains('auc'),-contains('l10'),-'tld_registrar_index', -'tld_rat')), \n",
    "                importance = 'impurity', \n",
    "                num.trees       = 500,\n",
    "                probability = TRUE,\n",
    "                replace = FALSE,\n",
    "                sample.fraction = .8,\n",
    "                seed            = 123,\n",
    "                respect.unordered.factors=TRUE,\n",
    "               case.weights=weights)"
   ]
  },
  {
   "cell_type": "code",
   "execution_count": 50,
   "metadata": {},
   "outputs": [
    {
     "data": {
      "text/html": [
       "<table>\n",
       "<caption>A data.frame: 6 × 10</caption>\n",
       "<thead>\n",
       "\t<tr><th></th><th scope=col>l10_agg_glm</th><th scope=col>l10_agg_glm_ALL</th><th scope=col>l10_agg_rf</th><th scope=col>l10_agg_rf_ALL</th><th scope=col>l10_seg_glm</th><th scope=col>l10_seg_rf</th><th scope=col>l10_seg2_glm</th><th scope=col>l10_seg2_glm_fb</th><th scope=col>l10_seg2_rf</th><th scope=col>l10_win_02</th></tr>\n",
       "\t<tr><th></th><th scope=col>&lt;dbl&gt;</th><th scope=col>&lt;dbl&gt;</th><th scope=col>&lt;dbl&gt;</th><th scope=col>&lt;dbl&gt;</th><th scope=col>&lt;dbl&gt;</th><th scope=col>&lt;dbl&gt;</th><th scope=col>&lt;dbl&gt;</th><th scope=col>&lt;dbl&gt;</th><th scope=col>&lt;dbl&gt;</th><th scope=col>&lt;chr&gt;</th></tr>\n",
       "</thead>\n",
       "<tbody>\n",
       "\t<tr><th scope=row>1</th><td>0.046107143</td><td>0.12972857</td><td>0.024352381</td><td>0.0330666667</td><td>0.09808095</td><td>0.047103175</td><td>0.5850310</td><td>0.0164507937</td><td>0.020079365</td><td>l10_seg2_glm</td></tr>\n",
       "\t<tr><th scope=row>2</th><td>0.006895238</td><td>0.07811429</td><td>0.066870635</td><td>0.0394857143</td><td>0.07510952</td><td>0.262149206</td><td>0.1455365</td><td>0.0059603175</td><td>0.319878571</td><td>l10_seg2_rf </td></tr>\n",
       "\t<tr><th scope=row>3</th><td>0.034887302</td><td>0.02626746</td><td>0.001844444</td><td>0.0000000000</td><td>0.03827540</td><td>0.015524603</td><td>0.8818008</td><td>0.0000000000</td><td>0.001400000</td><td>l10_seg2_glm</td></tr>\n",
       "\t<tr><th scope=row>4</th><td>0.028417460</td><td>0.05007857</td><td>0.032798413</td><td>0.0117817460</td><td>0.13967619</td><td>0.062572222</td><td>0.5872437</td><td>0.0292071429</td><td>0.058224603</td><td>l10_seg2_glm</td></tr>\n",
       "\t<tr><th scope=row>5</th><td>0.007315873</td><td>0.04744762</td><td>0.014799206</td><td>0.0002857143</td><td>0.13516825</td><td>0.008557143</td><td>0.7832048</td><td>0.0005833333</td><td>0.002638095</td><td>l10_seg2_glm</td></tr>\n",
       "\t<tr><th scope=row>6</th><td>0.011672222</td><td>0.04377381</td><td>0.051314286</td><td>0.0542515873</td><td>0.08328413</td><td>0.119780952</td><td>0.4895238</td><td>0.0059293651</td><td>0.140469841</td><td>l10_seg2_glm</td></tr>\n",
       "</tbody>\n",
       "</table>\n"
      ],
      "text/latex": [
       "A data.frame: 6 × 10\n",
       "\\begin{tabular}{r|llllllllll}\n",
       "  & l10\\_agg\\_glm & l10\\_agg\\_glm\\_ALL & l10\\_agg\\_rf & l10\\_agg\\_rf\\_ALL & l10\\_seg\\_glm & l10\\_seg\\_rf & l10\\_seg2\\_glm & l10\\_seg2\\_glm\\_fb & l10\\_seg2\\_rf & l10\\_win\\_02\\\\\n",
       "  & <dbl> & <dbl> & <dbl> & <dbl> & <dbl> & <dbl> & <dbl> & <dbl> & <dbl> & <chr>\\\\\n",
       "\\hline\n",
       "\t1 & 0.046107143 & 0.12972857 & 0.024352381 & 0.0330666667 & 0.09808095 & 0.047103175 & 0.5850310 & 0.0164507937 & 0.020079365 & l10\\_seg2\\_glm\\\\\n",
       "\t2 & 0.006895238 & 0.07811429 & 0.066870635 & 0.0394857143 & 0.07510952 & 0.262149206 & 0.1455365 & 0.0059603175 & 0.319878571 & l10\\_seg2\\_rf \\\\\n",
       "\t3 & 0.034887302 & 0.02626746 & 0.001844444 & 0.0000000000 & 0.03827540 & 0.015524603 & 0.8818008 & 0.0000000000 & 0.001400000 & l10\\_seg2\\_glm\\\\\n",
       "\t4 & 0.028417460 & 0.05007857 & 0.032798413 & 0.0117817460 & 0.13967619 & 0.062572222 & 0.5872437 & 0.0292071429 & 0.058224603 & l10\\_seg2\\_glm\\\\\n",
       "\t5 & 0.007315873 & 0.04744762 & 0.014799206 & 0.0002857143 & 0.13516825 & 0.008557143 & 0.7832048 & 0.0005833333 & 0.002638095 & l10\\_seg2\\_glm\\\\\n",
       "\t6 & 0.011672222 & 0.04377381 & 0.051314286 & 0.0542515873 & 0.08328413 & 0.119780952 & 0.4895238 & 0.0059293651 & 0.140469841 & l10\\_seg2\\_glm\\\\\n",
       "\\end{tabular}\n"
      ],
      "text/markdown": [
       "\n",
       "A data.frame: 6 × 10\n",
       "\n",
       "| <!--/--> | l10_agg_glm &lt;dbl&gt; | l10_agg_glm_ALL &lt;dbl&gt; | l10_agg_rf &lt;dbl&gt; | l10_agg_rf_ALL &lt;dbl&gt; | l10_seg_glm &lt;dbl&gt; | l10_seg_rf &lt;dbl&gt; | l10_seg2_glm &lt;dbl&gt; | l10_seg2_glm_fb &lt;dbl&gt; | l10_seg2_rf &lt;dbl&gt; | l10_win_02 &lt;chr&gt; |\n",
       "|---|---|---|---|---|---|---|---|---|---|---|\n",
       "| 1 | 0.046107143 | 0.12972857 | 0.024352381 | 0.0330666667 | 0.09808095 | 0.047103175 | 0.5850310 | 0.0164507937 | 0.020079365 | l10_seg2_glm |\n",
       "| 2 | 0.006895238 | 0.07811429 | 0.066870635 | 0.0394857143 | 0.07510952 | 0.262149206 | 0.1455365 | 0.0059603175 | 0.319878571 | l10_seg2_rf  |\n",
       "| 3 | 0.034887302 | 0.02626746 | 0.001844444 | 0.0000000000 | 0.03827540 | 0.015524603 | 0.8818008 | 0.0000000000 | 0.001400000 | l10_seg2_glm |\n",
       "| 4 | 0.028417460 | 0.05007857 | 0.032798413 | 0.0117817460 | 0.13967619 | 0.062572222 | 0.5872437 | 0.0292071429 | 0.058224603 | l10_seg2_glm |\n",
       "| 5 | 0.007315873 | 0.04744762 | 0.014799206 | 0.0002857143 | 0.13516825 | 0.008557143 | 0.7832048 | 0.0005833333 | 0.002638095 | l10_seg2_glm |\n",
       "| 6 | 0.011672222 | 0.04377381 | 0.051314286 | 0.0542515873 | 0.08328413 | 0.119780952 | 0.4895238 | 0.0059293651 | 0.140469841 | l10_seg2_glm |\n",
       "\n"
      ],
      "text/plain": [
       "  l10_agg_glm l10_agg_glm_ALL l10_agg_rf  l10_agg_rf_ALL l10_seg_glm\n",
       "1 0.046107143 0.12972857      0.024352381 0.0330666667   0.09808095 \n",
       "2 0.006895238 0.07811429      0.066870635 0.0394857143   0.07510952 \n",
       "3 0.034887302 0.02626746      0.001844444 0.0000000000   0.03827540 \n",
       "4 0.028417460 0.05007857      0.032798413 0.0117817460   0.13967619 \n",
       "5 0.007315873 0.04744762      0.014799206 0.0002857143   0.13516825 \n",
       "6 0.011672222 0.04377381      0.051314286 0.0542515873   0.08328413 \n",
       "  l10_seg_rf  l10_seg2_glm l10_seg2_glm_fb l10_seg2_rf l10_win_02  \n",
       "1 0.047103175 0.5850310    0.0164507937    0.020079365 l10_seg2_glm\n",
       "2 0.262149206 0.1455365    0.0059603175    0.319878571 l10_seg2_rf \n",
       "3 0.015524603 0.8818008    0.0000000000    0.001400000 l10_seg2_glm\n",
       "4 0.062572222 0.5872437    0.0292071429    0.058224603 l10_seg2_glm\n",
       "5 0.008557143 0.7832048    0.0005833333    0.002638095 l10_seg2_glm\n",
       "6 0.119780952 0.4895238    0.0059293651    0.140469841 l10_seg2_glm"
      ]
     },
     "metadata": {},
     "output_type": "display_data"
    }
   ],
   "source": [
    "pred <- predict(model, \n",
    "                data = test,\n",
    "                type=\"response\")$predictions\n",
    "\n",
    "pred <- as.data.frame(pred)\n",
    "vars <- names(pred)\n",
    "pred <- pred %>%\n",
    "    mutate (l10_win_02=sapply(apply(.[,c(vars)], \n",
    "                          1, function(x) names(x)[which.max(x)]) , function(s) if (length(s) == 0) NA else paste(s, collapse = \" \")) \n",
    "            ) \n",
    "head(pred)"
   ]
  },
  {
   "cell_type": "code",
   "execution_count": 51,
   "metadata": {},
   "outputs": [
    {
     "data": {
      "text/plain": [
       "                 \n",
       "                  l10_agg_rf l10_agg_rf_ALL l10_seg_glm l10_seg_rf l10_seg2_glm\n",
       "  l10_agg_glm              1              0           0          0            3\n",
       "  l10_agg_glm_ALL          0              0           5          1            7\n",
       "  l10_agg_rf               0              1           4          1            4\n",
       "  l10_agg_rf_ALL           0              0           1          2            2\n",
       "  l10_seg_glm              0              0           4          1           17\n",
       "  l10_seg_rf               1              0           4          8            5\n",
       "  l10_seg2_glm             1              0           6          3          188\n",
       "  l10_seg2_glm_fb          0              0           2          0            3\n",
       "  l10_seg2_rf              0              0           1          3            7\n",
       "                 \n",
       "                  l10_seg2_rf\n",
       "  l10_agg_glm               0\n",
       "  l10_agg_glm_ALL           3\n",
       "  l10_agg_rf                2\n",
       "  l10_agg_rf_ALL            6\n",
       "  l10_seg_glm              12\n",
       "  l10_seg_rf                8\n",
       "  l10_seg2_glm             20\n",
       "  l10_seg2_glm_fb           1\n",
       "  l10_seg2_rf              14"
      ]
     },
     "metadata": {},
     "output_type": "display_data"
    }
   ],
   "source": [
    "xtab <- table(test$l10_win_02, pred$l10_win_02)\n",
    "xtab"
   ]
  },
  {
   "cell_type": "code",
   "execution_count": 52,
   "metadata": {},
   "outputs": [
    {
     "data": {
      "text/plain": [
       "Confusion Matrix and Statistics\n",
       "\n",
       "                 Reference\n",
       "Prediction        l10_agg_glm l10_agg_glm_ALL l10_agg_rf l10_agg_rf_ALL\n",
       "  l10_agg_glm               0               0          1              0\n",
       "  l10_agg_glm_ALL           0               0          0              0\n",
       "  l10_agg_rf                0               0          0              1\n",
       "  l10_agg_rf_ALL            0               0          0              0\n",
       "  l10_seg_glm               0               0          0              0\n",
       "  l10_seg_rf                0               0          1              0\n",
       "  l10_seg2_glm              0               0          1              0\n",
       "  l10_seg2_glm_fb           0               0          0              0\n",
       "  l10_seg2_rf               0               0          0              0\n",
       "                 Reference\n",
       "Prediction        l10_seg_glm l10_seg_rf l10_seg2_glm l10_seg2_glm_fb\n",
       "  l10_agg_glm               0          0            3               0\n",
       "  l10_agg_glm_ALL           5          1            7               0\n",
       "  l10_agg_rf                4          1            4               0\n",
       "  l10_agg_rf_ALL            1          2            2               0\n",
       "  l10_seg_glm               4          1           17               0\n",
       "  l10_seg_rf                4          8            5               0\n",
       "  l10_seg2_glm              6          3          188               0\n",
       "  l10_seg2_glm_fb           2          0            3               0\n",
       "  l10_seg2_rf               1          3            7               0\n",
       "                 Reference\n",
       "Prediction        l10_seg2_rf\n",
       "  l10_agg_glm               0\n",
       "  l10_agg_glm_ALL           3\n",
       "  l10_agg_rf                2\n",
       "  l10_agg_rf_ALL            6\n",
       "  l10_seg_glm              12\n",
       "  l10_seg_rf                8\n",
       "  l10_seg2_glm             20\n",
       "  l10_seg2_glm_fb           1\n",
       "  l10_seg2_rf              14\n",
       "\n",
       "Overall Statistics\n",
       "                                          \n",
       "               Accuracy : 0.608           \n",
       "                 95% CI : (0.5548, 0.6593)\n",
       "    No Information Rate : 0.6705          \n",
       "    P-Value [Acc > NIR] : 0.9941          \n",
       "                                          \n",
       "                  Kappa : 0.2995          \n",
       "                                          \n",
       " Mcnemar's Test P-Value : NA              \n",
       "\n",
       "Statistics by Class:\n",
       "\n",
       "                     Class: l10_agg_glm Class: l10_agg_glm_ALL\n",
       "Sensitivity                          NA                     NA\n",
       "Specificity                     0.98864                0.95455\n",
       "Pos Pred Value                       NA                     NA\n",
       "Neg Pred Value                       NA                     NA\n",
       "Prevalence                      0.00000                0.00000\n",
       "Detection Rate                  0.00000                0.00000\n",
       "Detection Prevalence            0.01136                0.04545\n",
       "Balanced Accuracy                    NA                     NA\n",
       "                     Class: l10_agg_rf Class: l10_agg_rf_ALL Class: l10_seg_glm\n",
       "Sensitivity                   0.000000              0.000000            0.14815\n",
       "Specificity                   0.965616              0.968661            0.90769\n",
       "Pos Pred Value                0.000000              0.000000            0.11765\n",
       "Neg Pred Value                0.991176              0.997067            0.92767\n",
       "Prevalence                    0.008523              0.002841            0.07670\n",
       "Detection Rate                0.000000              0.000000            0.01136\n",
       "Detection Prevalence          0.034091              0.031250            0.09659\n",
       "Balanced Accuracy             0.482808              0.484330            0.52792\n",
       "                     Class: l10_seg_rf Class: l10_seg2_glm\n",
       "Sensitivity                    0.42105              0.7966\n",
       "Specificity                    0.94595              0.7414\n",
       "Pos Pred Value                 0.30769              0.8624\n",
       "Neg Pred Value                 0.96626              0.6418\n",
       "Prevalence                     0.05398              0.6705\n",
       "Detection Rate                 0.02273              0.5341\n",
       "Detection Prevalence           0.07386              0.6193\n",
       "Balanced Accuracy              0.68350              0.7690\n",
       "                     Class: l10_seg2_glm_fb Class: l10_seg2_rf\n",
       "Sensitivity                              NA            0.21212\n",
       "Specificity                         0.98295            0.96154\n",
       "Pos Pred Value                           NA            0.56000\n",
       "Neg Pred Value                           NA            0.84098\n",
       "Prevalence                          0.00000            0.18750\n",
       "Detection Rate                      0.00000            0.03977\n",
       "Detection Prevalence                0.01705            0.07102\n",
       "Balanced Accuracy                        NA            0.58683"
      ]
     },
     "metadata": {},
     "output_type": "display_data"
    }
   ],
   "source": [
    "confusionMatrix(data=factor(test$l10_win_02), reference=factor(pred$l10_win_02, levels=levels(factor(test$l10_win_02))))"
   ]
  },
  {
   "cell_type": "code",
   "execution_count": 53,
   "metadata": {},
   "outputs": [
    {
     "data": {
      "text/plain": [
       "\n",
       "    l10_agg_glm l10_agg_glm_ALL      l10_agg_rf  l10_agg_rf_ALL     l10_seg_glm \n",
       "              4              16              12              11              34 \n",
       "     l10_seg_rf    l10_seg2_glm l10_seg2_glm_fb     l10_seg2_rf \n",
       "             26             218               6              25 "
      ]
     },
     "metadata": {},
     "output_type": "display_data"
    }
   ],
   "source": [
    "table(test$l10_win_02)"
   ]
  },
  {
   "cell_type": "code",
   "execution_count": 54,
   "metadata": {},
   "outputs": [
    {
     "data": {
      "text/plain": [
       "\n",
       "    l10_agg_rf l10_agg_rf_ALL    l10_seg_glm     l10_seg_rf   l10_seg2_glm \n",
       "   0.008522727    0.002840909    0.076704545    0.053977273    0.670454545 \n",
       "   l10_seg2_rf \n",
       "   0.187500000 "
      ]
     },
     "metadata": {},
     "output_type": "display_data"
    }
   ],
   "source": [
    "prop.table(table(pred$l10_win_02))"
   ]
  },
  {
   "cell_type": "code",
   "execution_count": 55,
   "metadata": {},
   "outputs": [
    {
     "data": {
      "text/html": [
       "<table>\n",
       "<caption>A data.frame: 15 × 1</caption>\n",
       "<thead>\n",
       "\t<tr><th></th><th scope=col>importance(model)</th></tr>\n",
       "\t<tr><th></th><th scope=col>&lt;dbl&gt;</th></tr>\n",
       "</thead>\n",
       "<tbody>\n",
       "\t<tr><th scope=row>n</th><td>34.52838</td></tr>\n",
       "\t<tr><th scope=row>sldlen_kurt</th><td>26.26625</td></tr>\n",
       "\t<tr><th scope=row>ren_prp</th><td>23.45355</td></tr>\n",
       "\t<tr><th scope=row>sldlen_rng</th><td>19.89118</td></tr>\n",
       "\t<tr><th scope=row>gibbs_rng</th><td>19.76998</td></tr>\n",
       "\t<tr><th scope=row>daydom_rng</th><td>18.04565</td></tr>\n",
       "\t<tr><th scope=row>pdcnt_skew</th><td>16.39951</td></tr>\n",
       "\t<tr><th scope=row>gibbs_max</th><td>16.10392</td></tr>\n",
       "\t<tr><th scope=row>daydom_skew</th><td>15.20988</td></tr>\n",
       "\t<tr><th scope=row>sldlen_skew</th><td>14.40955</td></tr>\n",
       "\t<tr><th scope=row>daydom_max</th><td>13.77426</td></tr>\n",
       "\t<tr><th scope=row>gibbs_kurt</th><td>13.61387</td></tr>\n",
       "\t<tr><th scope=row>pdcnt_kurt</th><td>13.12445</td></tr>\n",
       "\t<tr><th scope=row>daydom_kurt</th><td>12.83916</td></tr>\n",
       "\t<tr><th scope=row>gibbs_skew</th><td>11.93109</td></tr>\n",
       "</tbody>\n",
       "</table>\n"
      ],
      "text/latex": [
       "A data.frame: 15 × 1\n",
       "\\begin{tabular}{r|l}\n",
       "  & importance(model)\\\\\n",
       "  & <dbl>\\\\\n",
       "\\hline\n",
       "\tn & 34.52838\\\\\n",
       "\tsldlen\\_kurt & 26.26625\\\\\n",
       "\tren\\_prp & 23.45355\\\\\n",
       "\tsldlen\\_rng & 19.89118\\\\\n",
       "\tgibbs\\_rng & 19.76998\\\\\n",
       "\tdaydom\\_rng & 18.04565\\\\\n",
       "\tpdcnt\\_skew & 16.39951\\\\\n",
       "\tgibbs\\_max & 16.10392\\\\\n",
       "\tdaydom\\_skew & 15.20988\\\\\n",
       "\tsldlen\\_skew & 14.40955\\\\\n",
       "\tdaydom\\_max & 13.77426\\\\\n",
       "\tgibbs\\_kurt & 13.61387\\\\\n",
       "\tpdcnt\\_kurt & 13.12445\\\\\n",
       "\tdaydom\\_kurt & 12.83916\\\\\n",
       "\tgibbs\\_skew & 11.93109\\\\\n",
       "\\end{tabular}\n"
      ],
      "text/markdown": [
       "\n",
       "A data.frame: 15 × 1\n",
       "\n",
       "| <!--/--> | importance(model) &lt;dbl&gt; |\n",
       "|---|---|\n",
       "| n | 34.52838 |\n",
       "| sldlen_kurt | 26.26625 |\n",
       "| ren_prp | 23.45355 |\n",
       "| sldlen_rng | 19.89118 |\n",
       "| gibbs_rng | 19.76998 |\n",
       "| daydom_rng | 18.04565 |\n",
       "| pdcnt_skew | 16.39951 |\n",
       "| gibbs_max | 16.10392 |\n",
       "| daydom_skew | 15.20988 |\n",
       "| sldlen_skew | 14.40955 |\n",
       "| daydom_max | 13.77426 |\n",
       "| gibbs_kurt | 13.61387 |\n",
       "| pdcnt_kurt | 13.12445 |\n",
       "| daydom_kurt | 12.83916 |\n",
       "| gibbs_skew | 11.93109 |\n",
       "\n"
      ],
      "text/plain": [
       "            importance(model)\n",
       "n           34.52838         \n",
       "sldlen_kurt 26.26625         \n",
       "ren_prp     23.45355         \n",
       "sldlen_rng  19.89118         \n",
       "gibbs_rng   19.76998         \n",
       "daydom_rng  18.04565         \n",
       "pdcnt_skew  16.39951         \n",
       "gibbs_max   16.10392         \n",
       "daydom_skew 15.20988         \n",
       "sldlen_skew 14.40955         \n",
       "daydom_max  13.77426         \n",
       "gibbs_kurt  13.61387         \n",
       "pdcnt_kurt  13.12445         \n",
       "daydom_kurt 12.83916         \n",
       "gibbs_skew  11.93109         "
      ]
     },
     "metadata": {},
     "output_type": "display_data"
    }
   ],
   "source": [
    "as.data.frame(importance(model)) %>% arrange(desc(importance(model))) %>% head(15)"
   ]
  },
  {
   "cell_type": "code",
   "execution_count": 56,
   "metadata": {},
   "outputs": [
    {
     "data": {
      "text/html": [
       "<style>\n",
       ".list-inline {list-style: none; margin:0; padding: 0}\n",
       ".list-inline>li {display: inline-block}\n",
       ".list-inline>li:not(:last-child)::after {content: \"\\00b7\"; padding: 0 .5ex}\n",
       "</style>\n",
       "<ol class=list-inline><li>'n'</li><li>'sldlen_kurt'</li><li>'ren_prp'</li><li>'sldlen_rng'</li><li>'gibbs_rng'</li><li>'daydom_rng'</li><li>'pdcnt_skew'</li><li>'gibbs_max'</li><li>'daydom_skew'</li><li>'sldlen_skew'</li><li>'daydom_max'</li><li>'gibbs_kurt'</li><li>'pdcnt_kurt'</li><li>'daydom_kurt'</li><li>'gibbs_skew'</li></ol>\n"
      ],
      "text/latex": [
       "\\begin{enumerate*}\n",
       "\\item 'n'\n",
       "\\item 'sldlen\\_kurt'\n",
       "\\item 'ren\\_prp'\n",
       "\\item 'sldlen\\_rng'\n",
       "\\item 'gibbs\\_rng'\n",
       "\\item 'daydom\\_rng'\n",
       "\\item 'pdcnt\\_skew'\n",
       "\\item 'gibbs\\_max'\n",
       "\\item 'daydom\\_skew'\n",
       "\\item 'sldlen\\_skew'\n",
       "\\item 'daydom\\_max'\n",
       "\\item 'gibbs\\_kurt'\n",
       "\\item 'pdcnt\\_kurt'\n",
       "\\item 'daydom\\_kurt'\n",
       "\\item 'gibbs\\_skew'\n",
       "\\end{enumerate*}\n"
      ],
      "text/markdown": [
       "1. 'n'\n",
       "2. 'sldlen_kurt'\n",
       "3. 'ren_prp'\n",
       "4. 'sldlen_rng'\n",
       "5. 'gibbs_rng'\n",
       "6. 'daydom_rng'\n",
       "7. 'pdcnt_skew'\n",
       "8. 'gibbs_max'\n",
       "9. 'daydom_skew'\n",
       "10. 'sldlen_skew'\n",
       "11. 'daydom_max'\n",
       "12. 'gibbs_kurt'\n",
       "13. 'pdcnt_kurt'\n",
       "14. 'daydom_kurt'\n",
       "15. 'gibbs_skew'\n",
       "\n",
       "\n"
      ],
      "text/plain": [
       " [1] \"n\"           \"sldlen_kurt\" \"ren_prp\"     \"sldlen_rng\"  \"gibbs_rng\"  \n",
       " [6] \"daydom_rng\"  \"pdcnt_skew\"  \"gibbs_max\"   \"daydom_skew\" \"sldlen_skew\"\n",
       "[11] \"daydom_max\"  \"gibbs_kurt\"  \"pdcnt_kurt\"  \"daydom_kurt\" \"gibbs_skew\" "
      ]
     },
     "metadata": {},
     "output_type": "display_data"
    }
   ],
   "source": [
    "as.data.frame(importance(model)) %>% arrange(desc(importance(model))) %>% head(15) %>% row.names()"
   ]
  },
  {
   "cell_type": "markdown",
   "metadata": {},
   "source": [
    "# RF BINARY w/ auc_win_03"
   ]
  },
  {
   "cell_type": "markdown",
   "metadata": {},
   "source": [
    "## RF binary auc"
   ]
  },
  {
   "cell_type": "code",
   "execution_count": null,
   "metadata": {},
   "outputs": [],
   "source": [
    "library(ranger) "
   ]
  },
  {
   "cell_type": "code",
   "execution_count": 62,
   "metadata": {},
   "outputs": [
    {
     "data": {
      "text/plain": [
       "      Y\n",
       "       auc_seg2_glm auc_seg2_glm_fb\n",
       "  0.15         1196               0\n",
       "  0.85            0             210"
      ]
     },
     "metadata": {},
     "output_type": "display_data"
    }
   ],
   "source": [
    "#Compute weights to balance the RF\n",
    "Y = train$auc_win_03\n",
    "w <- 1/table(Y)\n",
    "w <- w/sum(w)\n",
    "\n",
    "\n",
    "weights <- rep(0, length(Y))\n",
    "\n",
    "for (model in unique(Y)){\n",
    "    weights[Y==model] <- w[model]\n",
    "}\n",
    "table(round(weights,2), Y)"
   ]
  },
  {
   "cell_type": "code",
   "execution_count": 63,
   "metadata": {},
   "outputs": [],
   "source": [
    "model <- ranger(formula         = auc_win_03 ~ ., \n",
    "                data            = train %>% \n",
    "                                    select('auc_win_03') %>% \n",
    "                                    bind_cols(\n",
    "                                        train %>% \n",
    "                                        select(-contains('auc'),-contains('l10'),-'tld_registrar_index', -'tld_rat')), \n",
    "                importance = 'impurity', \n",
    "                num.trees       = 500,\n",
    "                probability = TRUE,\n",
    "                replace = FALSE,\n",
    "                sample.fraction = .8,\n",
    "                seed            = 123,\n",
    "                respect.unordered.factors=TRUE,\n",
    "               case.weights=weights)"
   ]
  },
  {
   "cell_type": "code",
   "execution_count": 64,
   "metadata": {},
   "outputs": [
    {
     "data": {
      "text/html": [
       "<table>\n",
       "<caption>A data.frame: 6 × 3</caption>\n",
       "<thead>\n",
       "\t<tr><th></th><th scope=col>auc_seg2_glm</th><th scope=col>auc_seg2_glm_fb</th><th scope=col>auc_win_03</th></tr>\n",
       "\t<tr><th></th><th scope=col>&lt;dbl&gt;</th><th scope=col>&lt;dbl&gt;</th><th scope=col>&lt;chr&gt;</th></tr>\n",
       "</thead>\n",
       "<tbody>\n",
       "\t<tr><th scope=row>1</th><td>0.6195817</td><td>0.38041825</td><td>auc_seg2_glm   </td></tr>\n",
       "\t<tr><th scope=row>2</th><td>0.8273563</td><td>0.17264365</td><td>auc_seg2_glm   </td></tr>\n",
       "\t<tr><th scope=row>3</th><td>0.9589754</td><td>0.04102460</td><td>auc_seg2_glm   </td></tr>\n",
       "\t<tr><th scope=row>4</th><td>0.4912294</td><td>0.50877063</td><td>auc_seg2_glm_fb</td></tr>\n",
       "\t<tr><th scope=row>5</th><td>0.9415603</td><td>0.05843968</td><td>auc_seg2_glm   </td></tr>\n",
       "\t<tr><th scope=row>6</th><td>0.9649071</td><td>0.03509286</td><td>auc_seg2_glm   </td></tr>\n",
       "</tbody>\n",
       "</table>\n"
      ],
      "text/latex": [
       "A data.frame: 6 × 3\n",
       "\\begin{tabular}{r|lll}\n",
       "  & auc\\_seg2\\_glm & auc\\_seg2\\_glm\\_fb & auc\\_win\\_03\\\\\n",
       "  & <dbl> & <dbl> & <chr>\\\\\n",
       "\\hline\n",
       "\t1 & 0.6195817 & 0.38041825 & auc\\_seg2\\_glm   \\\\\n",
       "\t2 & 0.8273563 & 0.17264365 & auc\\_seg2\\_glm   \\\\\n",
       "\t3 & 0.9589754 & 0.04102460 & auc\\_seg2\\_glm   \\\\\n",
       "\t4 & 0.4912294 & 0.50877063 & auc\\_seg2\\_glm\\_fb\\\\\n",
       "\t5 & 0.9415603 & 0.05843968 & auc\\_seg2\\_glm   \\\\\n",
       "\t6 & 0.9649071 & 0.03509286 & auc\\_seg2\\_glm   \\\\\n",
       "\\end{tabular}\n"
      ],
      "text/markdown": [
       "\n",
       "A data.frame: 6 × 3\n",
       "\n",
       "| <!--/--> | auc_seg2_glm &lt;dbl&gt; | auc_seg2_glm_fb &lt;dbl&gt; | auc_win_03 &lt;chr&gt; |\n",
       "|---|---|---|---|\n",
       "| 1 | 0.6195817 | 0.38041825 | auc_seg2_glm    |\n",
       "| 2 | 0.8273563 | 0.17264365 | auc_seg2_glm    |\n",
       "| 3 | 0.9589754 | 0.04102460 | auc_seg2_glm    |\n",
       "| 4 | 0.4912294 | 0.50877063 | auc_seg2_glm_fb |\n",
       "| 5 | 0.9415603 | 0.05843968 | auc_seg2_glm    |\n",
       "| 6 | 0.9649071 | 0.03509286 | auc_seg2_glm    |\n",
       "\n"
      ],
      "text/plain": [
       "  auc_seg2_glm auc_seg2_glm_fb auc_win_03     \n",
       "1 0.6195817    0.38041825      auc_seg2_glm   \n",
       "2 0.8273563    0.17264365      auc_seg2_glm   \n",
       "3 0.9589754    0.04102460      auc_seg2_glm   \n",
       "4 0.4912294    0.50877063      auc_seg2_glm_fb\n",
       "5 0.9415603    0.05843968      auc_seg2_glm   \n",
       "6 0.9649071    0.03509286      auc_seg2_glm   "
      ]
     },
     "metadata": {},
     "output_type": "display_data"
    }
   ],
   "source": [
    "pred <- predict(model, \n",
    "                data = test,\n",
    "                type=\"response\")$predictions\n",
    "\n",
    "pred <- as.data.frame(pred)\n",
    "auc_vars <- names(pred)\n",
    "pred <- pred %>%\n",
    "    mutate (auc_win_03=sapply(apply(.[,c(auc_vars)], \n",
    "                          1, function(x) names(x)[which.max(x)]) , \n",
    "                                    function(s) if (length(s) == 0) NA else paste(s, collapse = \" \")) \n",
    "            ) \n",
    "head(pred)"
   ]
  },
  {
   "cell_type": "code",
   "execution_count": 65,
   "metadata": {},
   "outputs": [
    {
     "data": {
      "text/plain": [
       "\n",
       "   auc_seg2_glm auc_seg2_glm_fb \n",
       "     0.94602273      0.05397727 "
      ]
     },
     "metadata": {},
     "output_type": "display_data"
    }
   ],
   "source": [
    "prop.table(table(pred$auc_win_03))"
   ]
  },
  {
   "cell_type": "code",
   "execution_count": 66,
   "metadata": {},
   "outputs": [
    {
     "data": {
      "text/plain": [
       "                 \n",
       "                  auc_seg2_glm auc_seg2_glm_fb\n",
       "  auc_agg_rf_ALL           151              10\n",
       "  auc_seg2_glm_fb          182               9"
      ]
     },
     "metadata": {},
     "output_type": "display_data"
    }
   ],
   "source": [
    "xtab <- table(test$auc_win_01, pred$auc_win_03)\n",
    "xtab"
   ]
  },
  {
   "cell_type": "code",
   "execution_count": 67,
   "metadata": {},
   "outputs": [
    {
     "data": {
      "text/plain": [
       "Confusion Matrix and Statistics\n",
       "\n",
       "                 Reference\n",
       "Prediction        auc_seg2_glm auc_seg2_glm_fb\n",
       "  auc_seg2_glm             291              10\n",
       "  auc_seg2_glm_fb           42               9\n",
       "                                          \n",
       "               Accuracy : 0.8523          \n",
       "                 95% CI : (0.8108, 0.8877)\n",
       "    No Information Rate : 0.946           \n",
       "    P-Value [Acc > NIR] : 1               \n",
       "                                          \n",
       "                  Kappa : 0.1937          \n",
       "                                          \n",
       " Mcnemar's Test P-Value : 1.716e-05       \n",
       "                                          \n",
       "            Sensitivity : 0.8739          \n",
       "            Specificity : 0.4737          \n",
       "         Pos Pred Value : 0.9668          \n",
       "         Neg Pred Value : 0.1765          \n",
       "             Prevalence : 0.9460          \n",
       "         Detection Rate : 0.8267          \n",
       "   Detection Prevalence : 0.8551          \n",
       "      Balanced Accuracy : 0.6738          \n",
       "                                          \n",
       "       'Positive' Class : auc_seg2_glm    \n",
       "                                          "
      ]
     },
     "metadata": {},
     "output_type": "display_data"
    }
   ],
   "source": [
    "confusionMatrix(data=factor(test$auc_win_03), \n",
    "                reference=factor(pred$auc_win_03, levels=levels(factor(test$auc_win_03))))"
   ]
  },
  {
   "cell_type": "code",
   "execution_count": 68,
   "metadata": {},
   "outputs": [
    {
     "data": {
      "text/html": [
       "<table>\n",
       "<caption>A data.frame: 15 × 1</caption>\n",
       "<thead>\n",
       "\t<tr><th></th><th scope=col>importance(model)</th></tr>\n",
       "\t<tr><th></th><th scope=col>&lt;dbl&gt;</th></tr>\n",
       "</thead>\n",
       "<tbody>\n",
       "\t<tr><th scope=row>ren_prp</th><td>15.781213</td></tr>\n",
       "\t<tr><th scope=row>n</th><td>14.832819</td></tr>\n",
       "\t<tr><th scope=row>daydom_std</th><td>11.246247</td></tr>\n",
       "\t<tr><th scope=row>country_maj</th><td>10.826304</td></tr>\n",
       "\t<tr><th scope=row>gibbs_rng</th><td> 9.264955</td></tr>\n",
       "\t<tr><th scope=row>daydom_skew</th><td> 9.097403</td></tr>\n",
       "\t<tr><th scope=row>pdcnt_kurt</th><td> 8.097096</td></tr>\n",
       "\t<tr><th scope=row>gibbs_skew</th><td> 8.096050</td></tr>\n",
       "\t<tr><th scope=row>daydom_mean</th><td> 8.066799</td></tr>\n",
       "\t<tr><th scope=row>sldlen_std</th><td> 7.594125</td></tr>\n",
       "\t<tr><th scope=row>gibbs_kurt</th><td> 7.504788</td></tr>\n",
       "\t<tr><th scope=row>daydom_rng</th><td> 7.432577</td></tr>\n",
       "\t<tr><th scope=row>sldlen_rng</th><td> 7.266180</td></tr>\n",
       "\t<tr><th scope=row>daydom_kurt</th><td> 7.119277</td></tr>\n",
       "\t<tr><th scope=row>pdcnt_skew</th><td> 7.093547</td></tr>\n",
       "</tbody>\n",
       "</table>\n"
      ],
      "text/latex": [
       "A data.frame: 15 × 1\n",
       "\\begin{tabular}{r|l}\n",
       "  & importance(model)\\\\\n",
       "  & <dbl>\\\\\n",
       "\\hline\n",
       "\tren\\_prp & 15.781213\\\\\n",
       "\tn & 14.832819\\\\\n",
       "\tdaydom\\_std & 11.246247\\\\\n",
       "\tcountry\\_maj & 10.826304\\\\\n",
       "\tgibbs\\_rng &  9.264955\\\\\n",
       "\tdaydom\\_skew &  9.097403\\\\\n",
       "\tpdcnt\\_kurt &  8.097096\\\\\n",
       "\tgibbs\\_skew &  8.096050\\\\\n",
       "\tdaydom\\_mean &  8.066799\\\\\n",
       "\tsldlen\\_std &  7.594125\\\\\n",
       "\tgibbs\\_kurt &  7.504788\\\\\n",
       "\tdaydom\\_rng &  7.432577\\\\\n",
       "\tsldlen\\_rng &  7.266180\\\\\n",
       "\tdaydom\\_kurt &  7.119277\\\\\n",
       "\tpdcnt\\_skew &  7.093547\\\\\n",
       "\\end{tabular}\n"
      ],
      "text/markdown": [
       "\n",
       "A data.frame: 15 × 1\n",
       "\n",
       "| <!--/--> | importance(model) &lt;dbl&gt; |\n",
       "|---|---|\n",
       "| ren_prp | 15.781213 |\n",
       "| n | 14.832819 |\n",
       "| daydom_std | 11.246247 |\n",
       "| country_maj | 10.826304 |\n",
       "| gibbs_rng |  9.264955 |\n",
       "| daydom_skew |  9.097403 |\n",
       "| pdcnt_kurt |  8.097096 |\n",
       "| gibbs_skew |  8.096050 |\n",
       "| daydom_mean |  8.066799 |\n",
       "| sldlen_std |  7.594125 |\n",
       "| gibbs_kurt |  7.504788 |\n",
       "| daydom_rng |  7.432577 |\n",
       "| sldlen_rng |  7.266180 |\n",
       "| daydom_kurt |  7.119277 |\n",
       "| pdcnt_skew |  7.093547 |\n",
       "\n"
      ],
      "text/plain": [
       "            importance(model)\n",
       "ren_prp     15.781213        \n",
       "n           14.832819        \n",
       "daydom_std  11.246247        \n",
       "country_maj 10.826304        \n",
       "gibbs_rng    9.264955        \n",
       "daydom_skew  9.097403        \n",
       "pdcnt_kurt   8.097096        \n",
       "gibbs_skew   8.096050        \n",
       "daydom_mean  8.066799        \n",
       "sldlen_std   7.594125        \n",
       "gibbs_kurt   7.504788        \n",
       "daydom_rng   7.432577        \n",
       "sldlen_rng   7.266180        \n",
       "daydom_kurt  7.119277        \n",
       "pdcnt_skew   7.093547        "
      ]
     },
     "metadata": {},
     "output_type": "display_data"
    }
   ],
   "source": [
    "as.data.frame(importance(model)) %>% arrange(desc(importance(model))) %>% head(15)"
   ]
  },
  {
   "cell_type": "code",
   "execution_count": 69,
   "metadata": {},
   "outputs": [
    {
     "data": {
      "text/html": [
       "<style>\n",
       ".list-inline {list-style: none; margin:0; padding: 0}\n",
       ".list-inline>li {display: inline-block}\n",
       ".list-inline>li:not(:last-child)::after {content: \"\\00b7\"; padding: 0 .5ex}\n",
       "</style>\n",
       "<ol class=list-inline><li>'ren_prp'</li><li>'n'</li><li>'daydom_std'</li><li>'country_maj'</li><li>'gibbs_rng'</li></ol>\n"
      ],
      "text/latex": [
       "\\begin{enumerate*}\n",
       "\\item 'ren\\_prp'\n",
       "\\item 'n'\n",
       "\\item 'daydom\\_std'\n",
       "\\item 'country\\_maj'\n",
       "\\item 'gibbs\\_rng'\n",
       "\\end{enumerate*}\n"
      ],
      "text/markdown": [
       "1. 'ren_prp'\n",
       "2. 'n'\n",
       "3. 'daydom_std'\n",
       "4. 'country_maj'\n",
       "5. 'gibbs_rng'\n",
       "\n",
       "\n"
      ],
      "text/plain": [
       "[1] \"ren_prp\"     \"n\"           \"daydom_std\"  \"country_maj\" \"gibbs_rng\"  "
      ]
     },
     "metadata": {},
     "output_type": "display_data"
    }
   ],
   "source": [
    "as.data.frame(importance(model)) %>% arrange(desc(importance(model))) %>% head(5) %>% row.names"
   ]
  },
  {
   "cell_type": "markdown",
   "metadata": {},
   "source": [
    "## RF binary l10"
   ]
  },
  {
   "cell_type": "code",
   "execution_count": 70,
   "metadata": {},
   "outputs": [],
   "source": [
    "library(ranger) "
   ]
  },
  {
   "cell_type": "code",
   "execution_count": 71,
   "metadata": {},
   "outputs": [
    {
     "data": {
      "text/plain": [
       "     Y\n",
       "      l10_seg2_glm l10_seg2_glm_fb\n",
       "  0.1         1268               0\n",
       "  0.9            0             138"
      ]
     },
     "metadata": {},
     "output_type": "display_data"
    }
   ],
   "source": [
    "#Compute weights to balance the RF\n",
    "Y = train$l10_win_03\n",
    "w <- 1/table(Y)\n",
    "w <- w/sum(w)\n",
    "\n",
    "weights <- rep(0, length(Y))\n",
    "\n",
    "for (model in unique(Y)){\n",
    "    weights[Y==model] <- w[model]\n",
    "}\n",
    "table(round(weights,2), Y)"
   ]
  },
  {
   "cell_type": "code",
   "execution_count": 72,
   "metadata": {},
   "outputs": [],
   "source": [
    "model <- ranger(formula         = l10_win_03 ~ ., \n",
    "                data            = train %>% \n",
    "                                    select('l10_win_03') %>% \n",
    "                                    bind_cols(\n",
    "                                        train %>% \n",
    "                                        select(-contains('auc'),-contains('l10'),-'tld_registrar_index', -'tld_rat')), \n",
    "                importance = 'impurity', \n",
    "                num.trees       = 500,\n",
    "                probability = TRUE,\n",
    "                replace = FALSE,\n",
    "                sample.fraction = .8,\n",
    "                seed            = 123,\n",
    "                respect.unordered.factors=TRUE,\n",
    "               case.weights=weights)"
   ]
  },
  {
   "cell_type": "code",
   "execution_count": 73,
   "metadata": {},
   "outputs": [
    {
     "data": {
      "text/html": [
       "<table>\n",
       "<caption>A data.frame: 6 × 3</caption>\n",
       "<thead>\n",
       "\t<tr><th></th><th scope=col>l10_seg2_glm</th><th scope=col>l10_seg2_glm_fb</th><th scope=col>l10_win_03</th></tr>\n",
       "\t<tr><th></th><th scope=col>&lt;dbl&gt;</th><th scope=col>&lt;dbl&gt;</th><th scope=col>&lt;chr&gt;</th></tr>\n",
       "</thead>\n",
       "<tbody>\n",
       "\t<tr><th scope=row>1</th><td>0.9007310</td><td>0.09926905</td><td>l10_seg2_glm</td></tr>\n",
       "\t<tr><th scope=row>2</th><td>0.9673992</td><td>0.03260079</td><td>l10_seg2_glm</td></tr>\n",
       "\t<tr><th scope=row>3</th><td>0.9466183</td><td>0.05338175</td><td>l10_seg2_glm</td></tr>\n",
       "\t<tr><th scope=row>4</th><td>0.7222183</td><td>0.27778175</td><td>l10_seg2_glm</td></tr>\n",
       "\t<tr><th scope=row>5</th><td>0.9369825</td><td>0.06301746</td><td>l10_seg2_glm</td></tr>\n",
       "\t<tr><th scope=row>6</th><td>0.9742849</td><td>0.02571508</td><td>l10_seg2_glm</td></tr>\n",
       "</tbody>\n",
       "</table>\n"
      ],
      "text/latex": [
       "A data.frame: 6 × 3\n",
       "\\begin{tabular}{r|lll}\n",
       "  & l10\\_seg2\\_glm & l10\\_seg2\\_glm\\_fb & l10\\_win\\_03\\\\\n",
       "  & <dbl> & <dbl> & <chr>\\\\\n",
       "\\hline\n",
       "\t1 & 0.9007310 & 0.09926905 & l10\\_seg2\\_glm\\\\\n",
       "\t2 & 0.9673992 & 0.03260079 & l10\\_seg2\\_glm\\\\\n",
       "\t3 & 0.9466183 & 0.05338175 & l10\\_seg2\\_glm\\\\\n",
       "\t4 & 0.7222183 & 0.27778175 & l10\\_seg2\\_glm\\\\\n",
       "\t5 & 0.9369825 & 0.06301746 & l10\\_seg2\\_glm\\\\\n",
       "\t6 & 0.9742849 & 0.02571508 & l10\\_seg2\\_glm\\\\\n",
       "\\end{tabular}\n"
      ],
      "text/markdown": [
       "\n",
       "A data.frame: 6 × 3\n",
       "\n",
       "| <!--/--> | l10_seg2_glm &lt;dbl&gt; | l10_seg2_glm_fb &lt;dbl&gt; | l10_win_03 &lt;chr&gt; |\n",
       "|---|---|---|---|\n",
       "| 1 | 0.9007310 | 0.09926905 | l10_seg2_glm |\n",
       "| 2 | 0.9673992 | 0.03260079 | l10_seg2_glm |\n",
       "| 3 | 0.9466183 | 0.05338175 | l10_seg2_glm |\n",
       "| 4 | 0.7222183 | 0.27778175 | l10_seg2_glm |\n",
       "| 5 | 0.9369825 | 0.06301746 | l10_seg2_glm |\n",
       "| 6 | 0.9742849 | 0.02571508 | l10_seg2_glm |\n",
       "\n"
      ],
      "text/plain": [
       "  l10_seg2_glm l10_seg2_glm_fb l10_win_03  \n",
       "1 0.9007310    0.09926905      l10_seg2_glm\n",
       "2 0.9673992    0.03260079      l10_seg2_glm\n",
       "3 0.9466183    0.05338175      l10_seg2_glm\n",
       "4 0.7222183    0.27778175      l10_seg2_glm\n",
       "5 0.9369825    0.06301746      l10_seg2_glm\n",
       "6 0.9742849    0.02571508      l10_seg2_glm"
      ]
     },
     "metadata": {},
     "output_type": "display_data"
    }
   ],
   "source": [
    "pred <- predict(model, \n",
    "                data = test,\n",
    "                type=\"response\")$predictions\n",
    "\n",
    "pred <- as.data.frame(pred)\n",
    "auc_vars <- names(pred)\n",
    "pred <- pred %>%\n",
    "    mutate (l10_win_03=sapply(apply(.[,c(auc_vars)], \n",
    "                          1, function(x) names(x)[which.max(x)]) , \n",
    "                                    function(s) if (length(s) == 0) NA else paste(s, collapse = \" \")) \n",
    "            ) \n",
    "head(pred)"
   ]
  },
  {
   "cell_type": "code",
   "execution_count": 74,
   "metadata": {},
   "outputs": [
    {
     "data": {
      "text/plain": [
       "\n",
       "   l10_seg2_glm l10_seg2_glm_fb \n",
       "     0.98863636      0.01136364 "
      ]
     },
     "metadata": {},
     "output_type": "display_data"
    }
   ],
   "source": [
    "prop.table(table(pred$l10_win_03))"
   ]
  },
  {
   "cell_type": "code",
   "execution_count": 75,
   "metadata": {},
   "outputs": [
    {
     "data": {
      "text/plain": [
       "                 \n",
       "                  l10_seg2_glm l10_seg2_glm_fb\n",
       "  l10_seg2_glm             312               2\n",
       "  l10_seg2_glm_fb           36               2"
      ]
     },
     "metadata": {},
     "output_type": "display_data"
    }
   ],
   "source": [
    "xtab <- table(test$l10_win_03, pred$l10_win_03)\n",
    "xtab"
   ]
  },
  {
   "cell_type": "code",
   "execution_count": 76,
   "metadata": {},
   "outputs": [
    {
     "data": {
      "text/plain": [
       "Confusion Matrix and Statistics\n",
       "\n",
       "                 Reference\n",
       "Prediction        l10_seg2_glm l10_seg2_glm_fb\n",
       "  l10_seg2_glm             312               2\n",
       "  l10_seg2_glm_fb           36               2\n",
       "                                          \n",
       "               Accuracy : 0.892           \n",
       "                 95% CI : (0.8548, 0.9225)\n",
       "    No Information Rate : 0.9886          \n",
       "    P-Value [Acc > NIR] : 1               \n",
       "                                          \n",
       "                  Kappa : 0.0762          \n",
       "                                          \n",
       " Mcnemar's Test P-Value : 8.636e-08       \n",
       "                                          \n",
       "            Sensitivity : 0.89655         \n",
       "            Specificity : 0.50000         \n",
       "         Pos Pred Value : 0.99363         \n",
       "         Neg Pred Value : 0.05263         \n",
       "             Prevalence : 0.98864         \n",
       "         Detection Rate : 0.88636         \n",
       "   Detection Prevalence : 0.89205         \n",
       "      Balanced Accuracy : 0.69828         \n",
       "                                          \n",
       "       'Positive' Class : l10_seg2_glm    \n",
       "                                          "
      ]
     },
     "metadata": {},
     "output_type": "display_data"
    }
   ],
   "source": [
    "confusionMatrix(data=factor(test$l10_win_03), \n",
    "                reference=factor(pred$l10_win_03, levels=levels(factor(test$l10_win_03))))"
   ]
  },
  {
   "cell_type": "code",
   "execution_count": 139,
   "metadata": {},
   "outputs": [
    {
     "data": {
      "text/html": [
       "352"
      ],
      "text/latex": [
       "352"
      ],
      "text/markdown": [
       "352"
      ],
      "text/plain": [
       "[1] 352"
      ]
     },
     "metadata": {},
     "output_type": "display_data"
    },
    {
     "data": {
      "text/html": [
       "352"
      ],
      "text/latex": [
       "352"
      ],
      "text/markdown": [
       "352"
      ],
      "text/plain": [
       "[1] 352"
      ]
     },
     "metadata": {},
     "output_type": "display_data"
    }
   ],
   "source": [
    "length((test$l10_win_03))\n",
    "length((pred$l10_win_03))"
   ]
  },
  {
   "cell_type": "code",
   "execution_count": null,
   "metadata": {},
   "outputs": [],
   "source": [
    "prop.table(table(test$l10_win_03))\n",
    "prop.table(table(test$auc_win_03))"
   ]
  },
  {
   "cell_type": "code",
   "execution_count": null,
   "metadata": {},
   "outputs": [],
   "source": [
    "as.data.frame(importance(model)) %>% arrange(desc(importance(model))) %>% head(15)"
   ]
  },
  {
   "cell_type": "code",
   "execution_count": null,
   "metadata": {},
   "outputs": [],
   "source": [
    "as.data.frame(importance(model)) %>% arrange(desc(importance(model))) %>% head(5) %>% row.names()"
   ]
  },
  {
   "cell_type": "markdown",
   "metadata": {},
   "source": [
    "# RF BINARY w/ auc_win_03"
   ]
  },
  {
   "cell_type": "code",
   "execution_count": null,
   "metadata": {},
   "outputs": [],
   "source": []
  },
  {
   "cell_type": "markdown",
   "metadata": {},
   "source": [
    "## RF binary auc"
   ]
  },
  {
   "cell_type": "code",
   "execution_count": null,
   "metadata": {},
   "outputs": [],
   "source": [
    "library(ranger) "
   ]
  },
  {
   "cell_type": "code",
   "execution_count": null,
   "metadata": {},
   "outputs": [],
   "source": [
    "#Compute weights to balance the RF\n",
    "Y = train$auc_win_03\n",
    "w <- 1/table(Y)\n",
    "w <- w/sum(w)\n",
    "\n",
    "for (model in unique(Y)){\n",
    "    weights[Y==model] <- w[model]\n",
    "}\n",
    "table(round(weights,2), Y)"
   ]
  },
  {
   "cell_type": "code",
   "execution_count": 121,
   "metadata": {},
   "outputs": [],
   "source": [
    "model <- ranger(formula         = auc_win_01 ~ ., \n",
    "                data            = train %>% \n",
    "                                    select('auc_win_01') %>% \n",
    "                                    bind_cols(\n",
    "                                        train %>% \n",
    "                                        select(-contains('auc'),-contains('l10'),-'tld_registrar_index', -'tld_rat')), \n",
    "                importance = 'impurity', \n",
    "                num.trees       = 500,\n",
    "                probability = TRUE,\n",
    "                replace = FALSE,\n",
    "                sample.fraction = .8,\n",
    "                seed            = 123,\n",
    "                respect.unordered.factors=TRUE,\n",
    "               case.weights=weights)"
   ]
  },
  {
   "cell_type": "code",
   "execution_count": 122,
   "metadata": {},
   "outputs": [
    {
     "data": {
      "text/html": [
       "<table>\n",
       "<caption>A data.frame: 6 × 3</caption>\n",
       "<thead>\n",
       "\t<tr><th></th><th scope=col>auc_agg_rf_ALL</th><th scope=col>auc_seg2_glm_fb</th><th scope=col>auc_win_01</th></tr>\n",
       "\t<tr><th></th><th scope=col>&lt;dbl&gt;</th><th scope=col>&lt;dbl&gt;</th><th scope=col>&lt;chr&gt;</th></tr>\n",
       "</thead>\n",
       "<tbody>\n",
       "\t<tr><th scope=row>1</th><td>0.4868460</td><td>0.5131540</td><td>auc_seg2_glm_fb</td></tr>\n",
       "\t<tr><th scope=row>2</th><td>0.6879087</td><td>0.3120913</td><td>auc_agg_rf_ALL </td></tr>\n",
       "\t<tr><th scope=row>3</th><td>0.1507087</td><td>0.8492913</td><td>auc_seg2_glm_fb</td></tr>\n",
       "\t<tr><th scope=row>4</th><td>0.5063397</td><td>0.4936603</td><td>auc_agg_rf_ALL </td></tr>\n",
       "\t<tr><th scope=row>5</th><td>0.2291079</td><td>0.7708921</td><td>auc_seg2_glm_fb</td></tr>\n",
       "\t<tr><th scope=row>6</th><td>0.7603794</td><td>0.2396206</td><td>auc_agg_rf_ALL </td></tr>\n",
       "</tbody>\n",
       "</table>\n"
      ],
      "text/latex": [
       "A data.frame: 6 × 3\n",
       "\\begin{tabular}{r|lll}\n",
       "  & auc\\_agg\\_rf\\_ALL & auc\\_seg2\\_glm\\_fb & auc\\_win\\_01\\\\\n",
       "  & <dbl> & <dbl> & <chr>\\\\\n",
       "\\hline\n",
       "\t1 & 0.4868460 & 0.5131540 & auc\\_seg2\\_glm\\_fb\\\\\n",
       "\t2 & 0.6879087 & 0.3120913 & auc\\_agg\\_rf\\_ALL \\\\\n",
       "\t3 & 0.1507087 & 0.8492913 & auc\\_seg2\\_glm\\_fb\\\\\n",
       "\t4 & 0.5063397 & 0.4936603 & auc\\_agg\\_rf\\_ALL \\\\\n",
       "\t5 & 0.2291079 & 0.7708921 & auc\\_seg2\\_glm\\_fb\\\\\n",
       "\t6 & 0.7603794 & 0.2396206 & auc\\_agg\\_rf\\_ALL \\\\\n",
       "\\end{tabular}\n"
      ],
      "text/markdown": [
       "\n",
       "A data.frame: 6 × 3\n",
       "\n",
       "| <!--/--> | auc_agg_rf_ALL &lt;dbl&gt; | auc_seg2_glm_fb &lt;dbl&gt; | auc_win_01 &lt;chr&gt; |\n",
       "|---|---|---|---|\n",
       "| 1 | 0.4868460 | 0.5131540 | auc_seg2_glm_fb |\n",
       "| 2 | 0.6879087 | 0.3120913 | auc_agg_rf_ALL  |\n",
       "| 3 | 0.1507087 | 0.8492913 | auc_seg2_glm_fb |\n",
       "| 4 | 0.5063397 | 0.4936603 | auc_agg_rf_ALL  |\n",
       "| 5 | 0.2291079 | 0.7708921 | auc_seg2_glm_fb |\n",
       "| 6 | 0.7603794 | 0.2396206 | auc_agg_rf_ALL  |\n",
       "\n"
      ],
      "text/plain": [
       "  auc_agg_rf_ALL auc_seg2_glm_fb auc_win_01     \n",
       "1 0.4868460      0.5131540       auc_seg2_glm_fb\n",
       "2 0.6879087      0.3120913       auc_agg_rf_ALL \n",
       "3 0.1507087      0.8492913       auc_seg2_glm_fb\n",
       "4 0.5063397      0.4936603       auc_agg_rf_ALL \n",
       "5 0.2291079      0.7708921       auc_seg2_glm_fb\n",
       "6 0.7603794      0.2396206       auc_agg_rf_ALL "
      ]
     },
     "metadata": {},
     "output_type": "display_data"
    }
   ],
   "source": [
    "pred <- predict(model, \n",
    "                data = test,\n",
    "                type=\"response\")$predictions\n",
    "\n",
    "pred <- as.data.frame(pred)\n",
    "auc_vars <- names(pred)\n",
    "pred <- pred %>%\n",
    "    mutate (auc_win_01=sapply(apply(.[,c(auc_vars)], \n",
    "                          1, function(x) names(x)[which.max(x)]) , \n",
    "                                    function(s) if (length(s) == 0) NA else paste(s, collapse = \" \")) \n",
    "            ) \n",
    "head(pred)"
   ]
  },
  {
   "cell_type": "code",
   "execution_count": 123,
   "metadata": {},
   "outputs": [
    {
     "data": {
      "text/plain": [
       "\n",
       " auc_agg_rf_ALL auc_seg2_glm_fb \n",
       "      0.5795455       0.4204545 "
      ]
     },
     "metadata": {},
     "output_type": "display_data"
    }
   ],
   "source": [
    "prop.table(table(pred$auc_win_01))"
   ]
  },
  {
   "cell_type": "code",
   "execution_count": 124,
   "metadata": {},
   "outputs": [
    {
     "data": {
      "text/plain": [
       "                 \n",
       "                  auc_agg_rf_ALL auc_seg2_glm_fb\n",
       "  auc_agg_rf_ALL             135              30\n",
       "  auc_seg2_glm_fb             69             118"
      ]
     },
     "metadata": {},
     "output_type": "display_data"
    }
   ],
   "source": [
    "xtab <- table(test$auc_win_01, pred$auc_win_01)\n",
    "xtab"
   ]
  },
  {
   "cell_type": "code",
   "execution_count": 125,
   "metadata": {},
   "outputs": [
    {
     "data": {
      "text/plain": [
       "Confusion Matrix and Statistics\n",
       "\n",
       "                 Reference\n",
       "Prediction        auc_agg_rf_ALL auc_seg2_glm_fb\n",
       "  auc_agg_rf_ALL             135              30\n",
       "  auc_seg2_glm_fb             69             118\n",
       "                                          \n",
       "               Accuracy : 0.7188          \n",
       "                 95% CI : (0.6687, 0.7651)\n",
       "    No Information Rate : 0.5795          \n",
       "    P-Value [Acc > NIR] : 4.33e-08        \n",
       "                                          \n",
       "                  Kappa : 0.443           \n",
       "                                          \n",
       " Mcnemar's Test P-Value : 0.0001339       \n",
       "                                          \n",
       "            Sensitivity : 0.6618          \n",
       "            Specificity : 0.7973          \n",
       "         Pos Pred Value : 0.8182          \n",
       "         Neg Pred Value : 0.6310          \n",
       "             Prevalence : 0.5795          \n",
       "         Detection Rate : 0.3835          \n",
       "   Detection Prevalence : 0.4688          \n",
       "      Balanced Accuracy : 0.7295          \n",
       "                                          \n",
       "       'Positive' Class : auc_agg_rf_ALL  \n",
       "                                          "
      ]
     },
     "metadata": {},
     "output_type": "display_data"
    }
   ],
   "source": [
    "confusionMatrix(data=factor(test$auc_win_01), \n",
    "                reference=factor(pred$auc_win_01, levels=levels(factor(test$auc_win_01))))"
   ]
  },
  {
   "cell_type": "code",
   "execution_count": 128,
   "metadata": {},
   "outputs": [
    {
     "data": {
      "text/html": [
       "<table>\n",
       "<caption>A data.frame: 15 × 1</caption>\n",
       "<thead>\n",
       "\t<tr><th></th><th scope=col>importance(model)</th></tr>\n",
       "\t<tr><th></th><th scope=col>&lt;dbl&gt;</th></tr>\n",
       "</thead>\n",
       "<tbody>\n",
       "\t<tr><th scope=row>n</th><td>35.69194</td></tr>\n",
       "\t<tr><th scope=row>sldlen_kurt</th><td>27.26609</td></tr>\n",
       "\t<tr><th scope=row>gibbs_kurt</th><td>23.45892</td></tr>\n",
       "\t<tr><th scope=row>daydom_rng</th><td>21.76428</td></tr>\n",
       "\t<tr><th scope=row>gibbs_rng</th><td>19.67531</td></tr>\n",
       "\t<tr><th scope=row>daydom_kurt</th><td>18.49228</td></tr>\n",
       "\t<tr><th scope=row>ren_prp</th><td>15.96621</td></tr>\n",
       "\t<tr><th scope=row>country_maj</th><td>14.90314</td></tr>\n",
       "\t<tr><th scope=row>sldlen_skew</th><td>14.84797</td></tr>\n",
       "\t<tr><th scope=row>daydom_max</th><td>14.21378</td></tr>\n",
       "\t<tr><th scope=row>sldlen_rng</th><td>14.12214</td></tr>\n",
       "\t<tr><th scope=row>daydom_skew</th><td>13.33637</td></tr>\n",
       "\t<tr><th scope=row>daydom_mean</th><td>12.57793</td></tr>\n",
       "\t<tr><th scope=row>regarpt_skew</th><td>12.02454</td></tr>\n",
       "\t<tr><th scope=row>regarpt_kurt</th><td>11.54927</td></tr>\n",
       "</tbody>\n",
       "</table>\n"
      ],
      "text/latex": [
       "A data.frame: 15 × 1\n",
       "\\begin{tabular}{r|l}\n",
       "  & importance(model)\\\\\n",
       "  & <dbl>\\\\\n",
       "\\hline\n",
       "\tn & 35.69194\\\\\n",
       "\tsldlen\\_kurt & 27.26609\\\\\n",
       "\tgibbs\\_kurt & 23.45892\\\\\n",
       "\tdaydom\\_rng & 21.76428\\\\\n",
       "\tgibbs\\_rng & 19.67531\\\\\n",
       "\tdaydom\\_kurt & 18.49228\\\\\n",
       "\tren\\_prp & 15.96621\\\\\n",
       "\tcountry\\_maj & 14.90314\\\\\n",
       "\tsldlen\\_skew & 14.84797\\\\\n",
       "\tdaydom\\_max & 14.21378\\\\\n",
       "\tsldlen\\_rng & 14.12214\\\\\n",
       "\tdaydom\\_skew & 13.33637\\\\\n",
       "\tdaydom\\_mean & 12.57793\\\\\n",
       "\tregarpt\\_skew & 12.02454\\\\\n",
       "\tregarpt\\_kurt & 11.54927\\\\\n",
       "\\end{tabular}\n"
      ],
      "text/markdown": [
       "\n",
       "A data.frame: 15 × 1\n",
       "\n",
       "| <!--/--> | importance(model) &lt;dbl&gt; |\n",
       "|---|---|\n",
       "| n | 35.69194 |\n",
       "| sldlen_kurt | 27.26609 |\n",
       "| gibbs_kurt | 23.45892 |\n",
       "| daydom_rng | 21.76428 |\n",
       "| gibbs_rng | 19.67531 |\n",
       "| daydom_kurt | 18.49228 |\n",
       "| ren_prp | 15.96621 |\n",
       "| country_maj | 14.90314 |\n",
       "| sldlen_skew | 14.84797 |\n",
       "| daydom_max | 14.21378 |\n",
       "| sldlen_rng | 14.12214 |\n",
       "| daydom_skew | 13.33637 |\n",
       "| daydom_mean | 12.57793 |\n",
       "| regarpt_skew | 12.02454 |\n",
       "| regarpt_kurt | 11.54927 |\n",
       "\n"
      ],
      "text/plain": [
       "             importance(model)\n",
       "n            35.69194         \n",
       "sldlen_kurt  27.26609         \n",
       "gibbs_kurt   23.45892         \n",
       "daydom_rng   21.76428         \n",
       "gibbs_rng    19.67531         \n",
       "daydom_kurt  18.49228         \n",
       "ren_prp      15.96621         \n",
       "country_maj  14.90314         \n",
       "sldlen_skew  14.84797         \n",
       "daydom_max   14.21378         \n",
       "sldlen_rng   14.12214         \n",
       "daydom_skew  13.33637         \n",
       "daydom_mean  12.57793         \n",
       "regarpt_skew 12.02454         \n",
       "regarpt_kurt 11.54927         "
      ]
     },
     "metadata": {},
     "output_type": "display_data"
    }
   ],
   "source": [
    "as.data.frame(importance(model)) %>% arrange(desc(importance(model))) %>% head(15)"
   ]
  },
  {
   "cell_type": "code",
   "execution_count": 129,
   "metadata": {},
   "outputs": [
    {
     "data": {
      "text/html": [
       "<style>\n",
       ".list-inline {list-style: none; margin:0; padding: 0}\n",
       ".list-inline>li {display: inline-block}\n",
       ".list-inline>li:not(:last-child)::after {content: \"\\00b7\"; padding: 0 .5ex}\n",
       "</style>\n",
       "<ol class=list-inline><li>'n'</li><li>'sldlen_kurt'</li><li>'gibbs_kurt'</li><li>'daydom_rng'</li><li>'gibbs_rng'</li></ol>\n"
      ],
      "text/latex": [
       "\\begin{enumerate*}\n",
       "\\item 'n'\n",
       "\\item 'sldlen\\_kurt'\n",
       "\\item 'gibbs\\_kurt'\n",
       "\\item 'daydom\\_rng'\n",
       "\\item 'gibbs\\_rng'\n",
       "\\end{enumerate*}\n"
      ],
      "text/markdown": [
       "1. 'n'\n",
       "2. 'sldlen_kurt'\n",
       "3. 'gibbs_kurt'\n",
       "4. 'daydom_rng'\n",
       "5. 'gibbs_rng'\n",
       "\n",
       "\n"
      ],
      "text/plain": [
       "[1] \"n\"           \"sldlen_kurt\" \"gibbs_kurt\"  \"daydom_rng\"  \"gibbs_rng\"  "
      ]
     },
     "metadata": {},
     "output_type": "display_data"
    }
   ],
   "source": [
    "as.data.frame(importance(model)) %>% arrange(desc(importance(model))) %>% head(5) %>% row.names"
   ]
  },
  {
   "cell_type": "markdown",
   "metadata": {},
   "source": [
    "## RF binary l10"
   ]
  },
  {
   "cell_type": "code",
   "execution_count": null,
   "metadata": {},
   "outputs": [],
   "source": [
    "library(ranger) "
   ]
  },
  {
   "cell_type": "code",
   "execution_count": 130,
   "metadata": {},
   "outputs": [
    {
     "data": {
      "text/plain": [
       "     Y\n",
       "      l10_agg_rf_ALL l10_seg2_glm_fb\n",
       "  0.3              0             988\n",
       "  0.7            418               0"
      ]
     },
     "metadata": {},
     "output_type": "display_data"
    }
   ],
   "source": [
    "#Compute weights to balance the RF\n",
    "Y = train$l10_win_01\n",
    "w <- 1/table(Y)\n",
    "w <- w/sum(w)\n",
    "\n",
    "for (model in unique(Y)){\n",
    "    weights[Y==model] <- w[model]\n",
    "}\n",
    "table(round(weights,2), Y)"
   ]
  },
  {
   "cell_type": "code",
   "execution_count": 131,
   "metadata": {},
   "outputs": [],
   "source": [
    "model <- ranger(formula         = l10_win_01 ~ ., \n",
    "                data            = train %>% \n",
    "                                    select('l10_win_01') %>% \n",
    "                                    bind_cols(\n",
    "                                        train %>% \n",
    "                                        select(-contains('auc'),-contains('l10'),-'tld_registrar_index', -'tld_rat')), \n",
    "                importance = 'impurity', \n",
    "                num.trees       = 500,\n",
    "                probability = TRUE,\n",
    "                replace = FALSE,\n",
    "                sample.fraction = .8,\n",
    "                seed            = 123,\n",
    "                respect.unordered.factors=TRUE,\n",
    "               case.weights=weights)"
   ]
  },
  {
   "cell_type": "code",
   "execution_count": 134,
   "metadata": {},
   "outputs": [
    {
     "data": {
      "text/html": [
       "<table>\n",
       "<caption>A data.frame: 6 × 3</caption>\n",
       "<thead>\n",
       "\t<tr><th></th><th scope=col>l10_agg_rf_ALL</th><th scope=col>l10_seg2_glm_fb</th><th scope=col>l10_win_01</th></tr>\n",
       "\t<tr><th></th><th scope=col>&lt;dbl&gt;</th><th scope=col>&lt;dbl&gt;</th><th scope=col>&lt;chr&gt;</th></tr>\n",
       "</thead>\n",
       "<tbody>\n",
       "\t<tr><th scope=row>1</th><td>0.16256587</td><td>0.8374341</td><td>l10_seg2_glm_fb</td></tr>\n",
       "\t<tr><th scope=row>2</th><td>0.67128968</td><td>0.3287103</td><td>l10_agg_rf_ALL </td></tr>\n",
       "\t<tr><th scope=row>3</th><td>0.08287063</td><td>0.9171294</td><td>l10_seg2_glm_fb</td></tr>\n",
       "\t<tr><th scope=row>4</th><td>0.40130079</td><td>0.5986992</td><td>l10_seg2_glm_fb</td></tr>\n",
       "\t<tr><th scope=row>5</th><td>0.21686349</td><td>0.7831365</td><td>l10_seg2_glm_fb</td></tr>\n",
       "\t<tr><th scope=row>6</th><td>0.47004286</td><td>0.5299571</td><td>l10_seg2_glm_fb</td></tr>\n",
       "</tbody>\n",
       "</table>\n"
      ],
      "text/latex": [
       "A data.frame: 6 × 3\n",
       "\\begin{tabular}{r|lll}\n",
       "  & l10\\_agg\\_rf\\_ALL & l10\\_seg2\\_glm\\_fb & l10\\_win\\_01\\\\\n",
       "  & <dbl> & <dbl> & <chr>\\\\\n",
       "\\hline\n",
       "\t1 & 0.16256587 & 0.8374341 & l10\\_seg2\\_glm\\_fb\\\\\n",
       "\t2 & 0.67128968 & 0.3287103 & l10\\_agg\\_rf\\_ALL \\\\\n",
       "\t3 & 0.08287063 & 0.9171294 & l10\\_seg2\\_glm\\_fb\\\\\n",
       "\t4 & 0.40130079 & 0.5986992 & l10\\_seg2\\_glm\\_fb\\\\\n",
       "\t5 & 0.21686349 & 0.7831365 & l10\\_seg2\\_glm\\_fb\\\\\n",
       "\t6 & 0.47004286 & 0.5299571 & l10\\_seg2\\_glm\\_fb\\\\\n",
       "\\end{tabular}\n"
      ],
      "text/markdown": [
       "\n",
       "A data.frame: 6 × 3\n",
       "\n",
       "| <!--/--> | l10_agg_rf_ALL &lt;dbl&gt; | l10_seg2_glm_fb &lt;dbl&gt; | l10_win_01 &lt;chr&gt; |\n",
       "|---|---|---|---|\n",
       "| 1 | 0.16256587 | 0.8374341 | l10_seg2_glm_fb |\n",
       "| 2 | 0.67128968 | 0.3287103 | l10_agg_rf_ALL  |\n",
       "| 3 | 0.08287063 | 0.9171294 | l10_seg2_glm_fb |\n",
       "| 4 | 0.40130079 | 0.5986992 | l10_seg2_glm_fb |\n",
       "| 5 | 0.21686349 | 0.7831365 | l10_seg2_glm_fb |\n",
       "| 6 | 0.47004286 | 0.5299571 | l10_seg2_glm_fb |\n",
       "\n"
      ],
      "text/plain": [
       "  l10_agg_rf_ALL l10_seg2_glm_fb l10_win_01     \n",
       "1 0.16256587     0.8374341       l10_seg2_glm_fb\n",
       "2 0.67128968     0.3287103       l10_agg_rf_ALL \n",
       "3 0.08287063     0.9171294       l10_seg2_glm_fb\n",
       "4 0.40130079     0.5986992       l10_seg2_glm_fb\n",
       "5 0.21686349     0.7831365       l10_seg2_glm_fb\n",
       "6 0.47004286     0.5299571       l10_seg2_glm_fb"
      ]
     },
     "metadata": {},
     "output_type": "display_data"
    }
   ],
   "source": [
    "pred <- predict(model, \n",
    "                data = test,\n",
    "                type=\"response\")$predictions\n",
    "\n",
    "pred <- as.data.frame(pred)\n",
    "auc_vars <- names(pred)\n",
    "pred <- pred %>%\n",
    "    mutate (l10_win_01=sapply(apply(.[,c(auc_vars)], \n",
    "                          1, function(x) names(x)[which.max(x)]) , \n",
    "                                    function(s) if (length(s) == 0) NA else paste(s, collapse = \" \")) \n",
    "            ) \n",
    "head(pred)"
   ]
  },
  {
   "cell_type": "code",
   "execution_count": 136,
   "metadata": {},
   "outputs": [
    {
     "data": {
      "text/plain": [
       "\n",
       " l10_agg_rf_ALL l10_seg2_glm_fb \n",
       "         0.3125          0.6875 "
      ]
     },
     "metadata": {},
     "output_type": "display_data"
    }
   ],
   "source": [
    "prop.table(table(pred$l10_win_01))"
   ]
  },
  {
   "cell_type": "code",
   "execution_count": 137,
   "metadata": {},
   "outputs": [
    {
     "data": {
      "text/plain": [
       "                 \n",
       "                  l10_agg_rf_ALL l10_seg2_glm_fb\n",
       "  l10_agg_rf_ALL              64              39\n",
       "  l10_seg2_glm_fb             46             203"
      ]
     },
     "metadata": {},
     "output_type": "display_data"
    }
   ],
   "source": [
    "xtab <- table(test$l10_win_01, pred$l10_win_01)\n",
    "xtab"
   ]
  },
  {
   "cell_type": "code",
   "execution_count": 138,
   "metadata": {},
   "outputs": [
    {
     "data": {
      "text/plain": [
       "Confusion Matrix and Statistics\n",
       "\n",
       "                 Reference\n",
       "Prediction        l10_agg_rf_ALL l10_seg2_glm_fb\n",
       "  l10_agg_rf_ALL              64              39\n",
       "  l10_seg2_glm_fb             46             203\n",
       "                                          \n",
       "               Accuracy : 0.7585          \n",
       "                 95% CI : (0.7103, 0.8023)\n",
       "    No Information Rate : 0.6875          \n",
       "    P-Value [Acc > NIR] : 0.002017        \n",
       "                                          \n",
       "                  Kappa : 0.4281          \n",
       "                                          \n",
       " Mcnemar's Test P-Value : 0.515181        \n",
       "                                          \n",
       "            Sensitivity : 0.5818          \n",
       "            Specificity : 0.8388          \n",
       "         Pos Pred Value : 0.6214          \n",
       "         Neg Pred Value : 0.8153          \n",
       "             Prevalence : 0.3125          \n",
       "         Detection Rate : 0.1818          \n",
       "   Detection Prevalence : 0.2926          \n",
       "      Balanced Accuracy : 0.7103          \n",
       "                                          \n",
       "       'Positive' Class : l10_agg_rf_ALL  \n",
       "                                          "
      ]
     },
     "metadata": {},
     "output_type": "display_data"
    }
   ],
   "source": [
    "confusionMatrix(data=factor(test$l10_win_01), \n",
    "                reference=factor(pred$l10_win_01, levels=levels(factor(test$l10_win_01))))"
   ]
  },
  {
   "cell_type": "code",
   "execution_count": 139,
   "metadata": {},
   "outputs": [
    {
     "data": {
      "text/html": [
       "352"
      ],
      "text/latex": [
       "352"
      ],
      "text/markdown": [
       "352"
      ],
      "text/plain": [
       "[1] 352"
      ]
     },
     "metadata": {},
     "output_type": "display_data"
    },
    {
     "data": {
      "text/html": [
       "352"
      ],
      "text/latex": [
       "352"
      ],
      "text/markdown": [
       "352"
      ],
      "text/plain": [
       "[1] 352"
      ]
     },
     "metadata": {},
     "output_type": "display_data"
    }
   ],
   "source": [
    "length((test$l10_win_01))\n",
    "length((pred$l10_win_01))"
   ]
  },
  {
   "cell_type": "code",
   "execution_count": 140,
   "metadata": {},
   "outputs": [
    {
     "data": {
      "text/plain": [
       "\n",
       " l10_agg_rf_ALL l10_seg2_glm_fb \n",
       "      0.2926136       0.7073864 "
      ]
     },
     "metadata": {},
     "output_type": "display_data"
    },
    {
     "data": {
      "text/plain": [
       "\n",
       " auc_agg_rf_ALL auc_seg2_glm_fb \n",
       "        0.46875         0.53125 "
      ]
     },
     "metadata": {},
     "output_type": "display_data"
    }
   ],
   "source": [
    "prop.table(table(test$l10_win_01))\n",
    "prop.table(table(test$auc_win_01))"
   ]
  },
  {
   "cell_type": "code",
   "execution_count": 141,
   "metadata": {},
   "outputs": [
    {
     "data": {
      "text/html": [
       "<table>\n",
       "<caption>A data.frame: 15 × 1</caption>\n",
       "<thead>\n",
       "\t<tr><th></th><th scope=col>importance(model)</th></tr>\n",
       "\t<tr><th></th><th scope=col>&lt;dbl&gt;</th></tr>\n",
       "</thead>\n",
       "<tbody>\n",
       "\t<tr><th scope=row>n</th><td>29.68940</td></tr>\n",
       "\t<tr><th scope=row>daydom_rng</th><td>23.76639</td></tr>\n",
       "\t<tr><th scope=row>daydom_max</th><td>19.52655</td></tr>\n",
       "\t<tr><th scope=row>sldlen_kurt</th><td>18.10491</td></tr>\n",
       "\t<tr><th scope=row>daydom_mean</th><td>16.28520</td></tr>\n",
       "\t<tr><th scope=row>ren_prp</th><td>15.05664</td></tr>\n",
       "\t<tr><th scope=row>gibbs_rng</th><td>14.48129</td></tr>\n",
       "\t<tr><th scope=row>country_maj</th><td>14.04315</td></tr>\n",
       "\t<tr><th scope=row>sldlen_rng</th><td>13.72672</td></tr>\n",
       "\t<tr><th scope=row>gibbs_min</th><td>11.75477</td></tr>\n",
       "\t<tr><th scope=row>pdcnt_max</th><td>11.65640</td></tr>\n",
       "\t<tr><th scope=row>pdcnt_rng</th><td>11.45695</td></tr>\n",
       "\t<tr><th scope=row>gibbs_kurt</th><td>11.21336</td></tr>\n",
       "\t<tr><th scope=row>daydom_kurt</th><td>11.03456</td></tr>\n",
       "\t<tr><th scope=row>sldlen_skew</th><td>10.99259</td></tr>\n",
       "</tbody>\n",
       "</table>\n"
      ],
      "text/latex": [
       "A data.frame: 15 × 1\n",
       "\\begin{tabular}{r|l}\n",
       "  & importance(model)\\\\\n",
       "  & <dbl>\\\\\n",
       "\\hline\n",
       "\tn & 29.68940\\\\\n",
       "\tdaydom\\_rng & 23.76639\\\\\n",
       "\tdaydom\\_max & 19.52655\\\\\n",
       "\tsldlen\\_kurt & 18.10491\\\\\n",
       "\tdaydom\\_mean & 16.28520\\\\\n",
       "\tren\\_prp & 15.05664\\\\\n",
       "\tgibbs\\_rng & 14.48129\\\\\n",
       "\tcountry\\_maj & 14.04315\\\\\n",
       "\tsldlen\\_rng & 13.72672\\\\\n",
       "\tgibbs\\_min & 11.75477\\\\\n",
       "\tpdcnt\\_max & 11.65640\\\\\n",
       "\tpdcnt\\_rng & 11.45695\\\\\n",
       "\tgibbs\\_kurt & 11.21336\\\\\n",
       "\tdaydom\\_kurt & 11.03456\\\\\n",
       "\tsldlen\\_skew & 10.99259\\\\\n",
       "\\end{tabular}\n"
      ],
      "text/markdown": [
       "\n",
       "A data.frame: 15 × 1\n",
       "\n",
       "| <!--/--> | importance(model) &lt;dbl&gt; |\n",
       "|---|---|\n",
       "| n | 29.68940 |\n",
       "| daydom_rng | 23.76639 |\n",
       "| daydom_max | 19.52655 |\n",
       "| sldlen_kurt | 18.10491 |\n",
       "| daydom_mean | 16.28520 |\n",
       "| ren_prp | 15.05664 |\n",
       "| gibbs_rng | 14.48129 |\n",
       "| country_maj | 14.04315 |\n",
       "| sldlen_rng | 13.72672 |\n",
       "| gibbs_min | 11.75477 |\n",
       "| pdcnt_max | 11.65640 |\n",
       "| pdcnt_rng | 11.45695 |\n",
       "| gibbs_kurt | 11.21336 |\n",
       "| daydom_kurt | 11.03456 |\n",
       "| sldlen_skew | 10.99259 |\n",
       "\n"
      ],
      "text/plain": [
       "            importance(model)\n",
       "n           29.68940         \n",
       "daydom_rng  23.76639         \n",
       "daydom_max  19.52655         \n",
       "sldlen_kurt 18.10491         \n",
       "daydom_mean 16.28520         \n",
       "ren_prp     15.05664         \n",
       "gibbs_rng   14.48129         \n",
       "country_maj 14.04315         \n",
       "sldlen_rng  13.72672         \n",
       "gibbs_min   11.75477         \n",
       "pdcnt_max   11.65640         \n",
       "pdcnt_rng   11.45695         \n",
       "gibbs_kurt  11.21336         \n",
       "daydom_kurt 11.03456         \n",
       "sldlen_skew 10.99259         "
      ]
     },
     "metadata": {},
     "output_type": "display_data"
    }
   ],
   "source": [
    "as.data.frame(importance(model)) %>% arrange(desc(importance(model))) %>% head(15)"
   ]
  },
  {
   "cell_type": "code",
   "execution_count": 142,
   "metadata": {},
   "outputs": [
    {
     "data": {
      "text/html": [
       "<style>\n",
       ".list-inline {list-style: none; margin:0; padding: 0}\n",
       ".list-inline>li {display: inline-block}\n",
       ".list-inline>li:not(:last-child)::after {content: \"\\00b7\"; padding: 0 .5ex}\n",
       "</style>\n",
       "<ol class=list-inline><li>'n'</li><li>'daydom_rng'</li><li>'daydom_max'</li><li>'sldlen_kurt'</li><li>'daydom_mean'</li></ol>\n"
      ],
      "text/latex": [
       "\\begin{enumerate*}\n",
       "\\item 'n'\n",
       "\\item 'daydom\\_rng'\n",
       "\\item 'daydom\\_max'\n",
       "\\item 'sldlen\\_kurt'\n",
       "\\item 'daydom\\_mean'\n",
       "\\end{enumerate*}\n"
      ],
      "text/markdown": [
       "1. 'n'\n",
       "2. 'daydom_rng'\n",
       "3. 'daydom_max'\n",
       "4. 'sldlen_kurt'\n",
       "5. 'daydom_mean'\n",
       "\n",
       "\n"
      ],
      "text/plain": [
       "[1] \"n\"           \"daydom_rng\"  \"daydom_max\"  \"sldlen_kurt\" \"daydom_mean\""
      ]
     },
     "metadata": {},
     "output_type": "display_data"
    }
   ],
   "source": [
    "as.data.frame(importance(model)) %>% arrange(desc(importance(model))) %>% head(5) %>% row.names()"
   ]
  },
  {
   "cell_type": "markdown",
   "metadata": {},
   "source": [
    "# Assign Model based on Binary prediction for AUC"
   ]
  },
  {
   "cell_type": "code",
   "execution_count": null,
   "metadata": {},
   "outputs": [],
   "source": [
    "model <- ranger(formula         = auc_win_01 ~ ., \n",
    "                data            = subset(train, select = -c(l10_win_01) ), \n",
    "                importance = 'impurity', \n",
    "                num.trees       = 500,\n",
    "                probability = TRUE,\n",
    "                replace = FALSE,\n",
    "                sample.fraction = .8,\n",
    "                seed            = 123,\n",
    "                respect.unordered.factors=TRUE)"
   ]
  },
  {
   "cell_type": "code",
   "execution_count": null,
   "metadata": {},
   "outputs": [],
   "source": [
    "pred <- predict(model, \n",
    "                data = test,\n",
    "                type=\"response\")$predictions"
   ]
  },
  {
   "cell_type": "code",
   "execution_count": null,
   "metadata": {},
   "outputs": [],
   "source": [
    "pred <- as.data.frame(pred)\n",
    "auc_vars <- names(pred)\n",
    "pred <- pred %>%\n",
    "    mutate (auc_win_01=sapply(apply(.[,c(auc_vars)], \n",
    "                          1, function(x) names(x)[which.max(x)]) , \n",
    "                                    function(s) if (length(s) == 0) NA else paste(s, collapse = \" \")) \n",
    "            ) \n",
    "head(pred)"
   ]
  },
  {
   "cell_type": "code",
   "execution_count": null,
   "metadata": {},
   "outputs": [],
   "source": [
    "test_pred <- cbind(test,pred)\n",
    "# test_pred <- test_pred %>% select()\n",
    "dim(test)\n",
    "dim(pred)\n",
    "dim(test_pred)\n",
    "head(test_pred)"
   ]
  },
  {
   "cell_type": "markdown",
   "metadata": {},
   "source": [
    "# Calc metrics"
   ]
  },
  {
   "cell_type": "markdown",
   "metadata": {},
   "source": [
    "## generate lookup for tld-reg model"
   ]
  },
  {
   "cell_type": "code",
   "execution_count": null,
   "metadata": {},
   "outputs": [],
   "source": [
    "head(expiry_test_meta)"
   ]
  },
  {
   "cell_type": "code",
   "execution_count": null,
   "metadata": {},
   "outputs": [],
   "source": [
    "expiry_test_meta_test <- expiry_test_meta[-train_ind,]\n",
    "\n",
    "dim(pred)\n",
    "dim(expiry_test_meta_test)\n",
    "\n",
    "expiry_test_meta_test <- cbind(expiry_test_meta_test, pred)\n",
    "expiry_test_meta_test <- expiry_test_meta_test %>% select(tld_registrar_index, auc_win_01)\n",
    "\n",
    "expiry_test_meta_test %>% head()"
   ]
  },
  {
   "cell_type": "markdown",
   "metadata": {},
   "source": [
    "## assign prediction based on lookup"
   ]
  },
  {
   "cell_type": "code",
   "execution_count": null,
   "metadata": {},
   "outputs": [],
   "source": [
    "expiry_test_predictions_assign <- merge(expiry_test_predictions, \n",
    "                                       expiry_test_meta_test, \n",
    "                                       on='tld_registrar_index',\n",
    "                                       all=TRUE)\n",
    "dim(expiry_test_predictions_assign)\n",
    "dim(expiry_test_predictions)\n",
    "head(expiry_test_predictions_assign)"
   ]
  },
  {
   "cell_type": "code",
   "execution_count": null,
   "metadata": {},
   "outputs": [],
   "source": [
    "# metalearning trained on 80% subset of 20% subset of expiry\n",
    "# tested on 20% subset of 20% of expiry\n",
    "\n",
    "table(expiry_test_predictions_assign$auc_win_01)/nrow(expiry_test_predictions_assign)\n",
    "sum(is.na(expiry_test_predictions_assign$auc_win_01))/nrow(expiry_test_predictions_assign)"
   ]
  },
  {
   "cell_type": "code",
   "execution_count": null,
   "metadata": {},
   "outputs": [],
   "source": [
    "# remove all NAs\n",
    "# ie elements of test which were used to train the model\n",
    "expiry_test_predictions_assign <- expiry_test_predictions_assign %>% filter(!is.na(auc_win_01))\n",
    "dim(expiry_test_predictions_assign)\n",
    "sum(is.na(expiry_test_predictions_assign$auc_win_01))/nrow(expiry_test_predictions_assign)\n",
    "head(expiry_test_predictions_assign)"
   ]
  },
  {
   "cell_type": "code",
   "execution_count": null,
   "metadata": {},
   "outputs": [],
   "source": [
    "expiry_test_predictions_assign$auc_win_pred <- \n",
    "    (expiry_test_predictions_assign$auc_win_01=='auc_seg2_glm_fb')*expiry_test_predictions_assign$pred_df_seg2_glm_fb+\n",
    "    (expiry_test_predictions_assign$auc_win_01=='auc_agg_rf_fb')*expiry_test_predictions_assign$pred_df_agg_rf_fb\n",
    "\n",
    "head(expiry_test_predictions_assign %>% select(pred_df_seg2_glm_fb,pred_df_agg_rf_fb,auc_win_01,auc_win_pred))"
   ]
  },
  {
   "cell_type": "code",
   "execution_count": null,
   "metadata": {},
   "outputs": [],
   "source": [
    "\n",
    "lift_list <- list()\n",
    "auc_list <- list()\n",
    "\n",
    "fallback_lift <- chart_lift(pred_df=expiry_test_predictions_assign,\n",
    "                        dep_var = \"renewal_status\",\n",
    "                        pred_var = \"auc_win_pred\") \n",
    "\n",
    "lift_list[[\"auc_win_pred\"]] <- fallback_lift\n",
    "auc_list[[\"auc_win_pred\"]] <- calc_auc(lift_df=fallback_lift)\n",
    "\n",
    "models <- c('pred_df_seg2_glm_fb','pred_df_agg_rf_fb')\n",
    "\n",
    "\n",
    "for (model in models){\n",
    "    model_lift <- chart_lift(pred_df=expiry_test_predictions_assign,\n",
    "                        dep_var = \"renewal_status\",\n",
    "                        pred_var = model) \n",
    "    \n",
    "    fallback_lift <- merge(fallback_lift, model_lift, by=c(\"P\"),all= TRUE, \n",
    "                           suffixes = c(\"\",\n",
    "                                        paste(\"_\",gsub(\"pred_df_\", \"\", model)) ))\n",
    "    \n",
    "    lift_list[[model]] <- model_lift\n",
    "    auc_list[[model]] <- calc_auc(lift_df=model_lift)\n",
    "}\n",
    "\n",
    "lift_df <- fallback_lift"
   ]
  },
  {
   "cell_type": "code",
   "execution_count": null,
   "metadata": {},
   "outputs": [],
   "source": [
    "length(lift_list)\n",
    "names(lift_list)\n",
    "sapply(lift_list, dim)\n",
    "lift_list[\"auc_win_pred\"]"
   ]
  },
  {
   "cell_type": "code",
   "execution_count": null,
   "metadata": {},
   "outputs": [],
   "source": [
    "prop.table(table(expiry_test_predictions_assign$renewal_status))"
   ]
  },
  {
   "cell_type": "code",
   "execution_count": null,
   "metadata": {},
   "outputs": [],
   "source": [
    "plot_multigains <- function (lift_df_list=list(seg_glm = lift_df, \n",
    "                                               ben_dtr = lift_df_2),\n",
    "                             auc_list = list(seg_glm = auc, \n",
    "                                             ben_dtr=auc_2),\n",
    "                             prop_positive = 0.1194494) {\n",
    "  \n",
    "  optimal_df <- data.frame( \"P\"=c(0,prop_positive,1.0),\n",
    "                            \"actu_renwd2\"=c(NA,NA,NA),\n",
    "                            \"gain\"=c(0,1.0,1.0),\n",
    "                            \"lift\"=c(NA,NA,NA))\n",
    "  \n",
    "  lift_df_list <- lapply(lift_df_list, function(df) {\n",
    "    df <- df %>%\n",
    "      add_row(P = 0, gain =0) %>%\n",
    "      arrange(P)\n",
    "  })\n",
    "\n",
    "  auc_lift_list = paste(lapply(auc_list, round, 3),sapply(lift_df_list, function(x) round(x[2,\"lift\"],2)), sep=\", \")\n",
    "  \n",
    "  auc_map = paste(names(lift_df_list),auc_lift_list, sep=\" = \")[1:length(lift_df_list)]\n",
    "  \n",
    "  \n",
    "  gains_plot <- ggplot(NULL, aes(P,  gain)) +\n",
    "    geom_line(data = lift_df_list[[1]] %>% slice(1, n())) +\n",
    "    \n",
    "    list(geom_line(data=optimal_df), geom_point(data=optimal_df)) +\n",
    "    \n",
    "    scale_y_continuous(breaks = seq(0, 1, by = .1), limits = c(0,1)) +\n",
    "    scale_x_continuous(breaks = seq(0, 1, by = .1)) +\n",
    "    labs(title = \"Cumulative Gains Plot\",\n",
    "         y = \"Cumulative Gain\",\n",
    "         x = \"Percentile\")+\n",
    "    theme(text = element_text(size=20))\n",
    "  \n",
    "  for(i in seq(length(lift_df_list))){\n",
    "    name = names(lift_df_list)[[i]]\n",
    "    df = lift_df_list[[i]]\n",
    "    auc = auc_list[[i]]\n",
    "    gains_plot <- gains_plot + list(geom_line(data=df), \n",
    "                                    geom_point(data=df))+ \n",
    "      annotate(\"text\", x = .4, y = .9-i*.075, hjust = 0, label = auc_map[[i]], size = 5)\n",
    "  }\n",
    "  \n",
    "  \n",
    "  return(gains_plot)\n",
    "}\n"
   ]
  },
  {
   "cell_type": "code",
   "execution_count": null,
   "metadata": {},
   "outputs": [],
   "source": [
    "plot_multigains(            lift_df_list=lift_list,\n",
    "                             auc_list = auc_list,\n",
    "                             prop_positive = 0.1194494) "
   ]
  },
  {
   "cell_type": "code",
   "execution_count": null,
   "metadata": {},
   "outputs": [],
   "source": [
    "dim(expiry_test_predictions_assign)"
   ]
  },
  {
   "cell_type": "code",
   "execution_count": null,
   "metadata": {},
   "outputs": [],
   "source": [
    "lift_df"
   ]
  },
  {
   "cell_type": "code",
   "execution_count": null,
   "metadata": {},
   "outputs": [],
   "source": [
    "as.data.frame(auc_list)"
   ]
  },
  {
   "cell_type": "code",
   "execution_count": null,
   "metadata": {},
   "outputs": [],
   "source": []
  },
  {
   "cell_type": "markdown",
   "metadata": {},
   "source": [
    "# Assign Model based on Binary prediction for L10"
   ]
  },
  {
   "cell_type": "code",
   "execution_count": null,
   "metadata": {},
   "outputs": [],
   "source": [
    "model <- ranger(formula         = l10_win_01 ~ ., \n",
    "                data            = subset(train, select = -c(auc_win_01) ), \n",
    "                importance = 'impurity', \n",
    "                num.trees       = 500,\n",
    "                probability = TRUE,\n",
    "                replace = FALSE,\n",
    "                sample.fraction = .8,\n",
    "                seed            = 123,\n",
    "                respect.unordered.factors=TRUE)"
   ]
  },
  {
   "cell_type": "code",
   "execution_count": null,
   "metadata": {},
   "outputs": [],
   "source": [
    "pred <- predict(model, \n",
    "                data = test,\n",
    "                type=\"response\")$predictions\n",
    "head(pred)"
   ]
  },
  {
   "cell_type": "code",
   "execution_count": null,
   "metadata": {},
   "outputs": [],
   "source": [
    "pred <- as.data.frame(pred)\n",
    "(auc_vars <- names(pred))\n",
    "pred <- pred %>%\n",
    "    mutate (l10_win_01=sapply(apply(.[,c(auc_vars)], \n",
    "                          1, function(x) names(x)[which.max(x)]) , \n",
    "                                    function(s) if (length(s) == 0) NA else paste(s, collapse = \" \")) \n",
    "            ) \n",
    "head(pred)"
   ]
  },
  {
   "cell_type": "code",
   "execution_count": null,
   "metadata": {},
   "outputs": [],
   "source": [
    "test_pred <- cbind(test,pred)\n",
    "# test_pred <- test_pred %>% select()\n",
    "dim(test)\n",
    "dim(pred)\n",
    "dim(test_pred)\n",
    "head(test_pred)"
   ]
  },
  {
   "cell_type": "markdown",
   "metadata": {},
   "source": [
    "# Calc metrics"
   ]
  },
  {
   "cell_type": "markdown",
   "metadata": {},
   "source": [
    "## generate lookup for tld-reg model"
   ]
  },
  {
   "cell_type": "code",
   "execution_count": null,
   "metadata": {},
   "outputs": [],
   "source": [
    "head(expiry_test_meta)"
   ]
  },
  {
   "cell_type": "code",
   "execution_count": null,
   "metadata": {},
   "outputs": [],
   "source": [
    "expiry_test_meta_test <- expiry_test_meta[-train_ind,]\n",
    "\n",
    "dim(pred)\n",
    "dim(expiry_test_meta_test)\n",
    "\n",
    "expiry_test_meta_test <- cbind(expiry_test_meta_test, pred)\n",
    "expiry_test_meta_test <- expiry_test_meta_test %>% select(tld_registrar_index, l10_win_01)\n",
    "\n",
    "expiry_test_meta_test %>% head()"
   ]
  },
  {
   "cell_type": "markdown",
   "metadata": {},
   "source": [
    "## assign prediction based on lookup"
   ]
  },
  {
   "cell_type": "code",
   "execution_count": null,
   "metadata": {},
   "outputs": [],
   "source": [
    "expiry_test_predictions_assign <- merge(expiry_test_predictions, \n",
    "                                       expiry_test_meta_test, \n",
    "                                       on='tld_registrar_index',\n",
    "                                       all=TRUE)\n",
    "dim(expiry_test_predictions_assign)\n",
    "dim(expiry_test_predictions)\n",
    "head(expiry_test_predictions_assign)"
   ]
  },
  {
   "cell_type": "code",
   "execution_count": null,
   "metadata": {},
   "outputs": [],
   "source": [
    "# metalearning trained on 80% subset of 20% subset of expiry\n",
    "# tested on 20% subset of 20% of expiry\n",
    "\n",
    "table(expiry_test_predictions_assign$l10_win_01)/nrow(expiry_test_predictions_assign)\n",
    "sum(is.na(expiry_test_predictions_assign$l10_win_01))/nrow(expiry_test_predictions_assign)"
   ]
  },
  {
   "cell_type": "code",
   "execution_count": null,
   "metadata": {},
   "outputs": [],
   "source": [
    "# remove all NAs\n",
    "# ie elements of test which were used to train the model\n",
    "expiry_test_predictions_assign <- expiry_test_predictions_assign %>% filter(!is.na(l10_win_01))\n",
    "dim(expiry_test_predictions_assign)\n",
    "sum(is.na(expiry_test_predictions_assign$l10_win_01))/nrow(expiry_test_predictions_assign)\n",
    "head(expiry_test_predictions_assign)"
   ]
  },
  {
   "cell_type": "code",
   "execution_count": null,
   "metadata": {},
   "outputs": [],
   "source": [
    "expiry_test_predictions_assign$l10_win_pred <- \n",
    "    (expiry_test_predictions_assign$l10_win_01=='l10_seg2_glm_fb')*expiry_test_predictions_assign$pred_df_seg2_glm_fb+\n",
    "    (expiry_test_predictions_assign$l10_win_01=='l10_agg_rf_fb')*expiry_test_predictions_assign$pred_df_agg_rf_fb\n",
    "\n",
    "head(expiry_test_predictions_assign %>% select(pred_df_seg2_glm_fb,pred_df_agg_rf_fb,l10_win_01,l10_win_pred))"
   ]
  },
  {
   "cell_type": "code",
   "execution_count": null,
   "metadata": {},
   "outputs": [],
   "source": [
    "\n",
    "lift_list <- list()\n",
    "auc_list <- list()\n",
    "\n",
    "fallback_lift <- chart_lift(pred_df=expiry_test_predictions_assign,\n",
    "                        dep_var = \"renewal_status\",\n",
    "                        pred_var = \"l10_win_pred\") \n",
    "\n",
    "lift_list[[\"l10_win_pred\"]] <- fallback_lift\n",
    "auc_list[[\"l10_win_pred\"]] <- calc_auc(lift_df=fallback_lift)\n",
    "\n",
    "models <- c('pred_df_seg2_glm_fb','pred_df_agg_rf_fb')\n",
    "\n",
    "\n",
    "for (model in models){\n",
    "    model_lift <- chart_lift(pred_df=expiry_test_predictions_assign,\n",
    "                        dep_var = \"renewal_status\",\n",
    "                        pred_var = model) \n",
    "    \n",
    "    fallback_lift <- merge(fallback_lift, model_lift, by=c(\"P\"),all= TRUE, \n",
    "                           suffixes = c(\"\",\n",
    "                                        paste(\"_\",gsub(\"pred_df_\", \"\", model)) ))\n",
    "    \n",
    "    lift_list[[model]] <- model_lift\n",
    "    auc_list[[model]] <- calc_auc(lift_df=model_lift)\n",
    "}\n",
    "\n",
    "lift_df <- fallback_lift"
   ]
  },
  {
   "cell_type": "code",
   "execution_count": null,
   "metadata": {},
   "outputs": [],
   "source": [
    "length(lift_list)\n",
    "names(lift_list)\n",
    "sapply(lift_list, dim)\n",
    "lift_list[\"auc_win_pred\"]"
   ]
  },
  {
   "cell_type": "code",
   "execution_count": null,
   "metadata": {},
   "outputs": [],
   "source": [
    "prop.table(table(expiry_test_predictions_assign$renewal_status))"
   ]
  },
  {
   "cell_type": "code",
   "execution_count": null,
   "metadata": {},
   "outputs": [],
   "source": [
    "plot_multigains <- function (lift_df_list=list(seg_glm = lift_df, \n",
    "                                               ben_dtr = lift_df_2),\n",
    "                             auc_list = list(seg_glm = auc, \n",
    "                                             ben_dtr=auc_2),\n",
    "                             prop_positive = 0.1194494) {\n",
    "  \n",
    "  optimal_df <- data.frame( \"P\"=c(0,prop_positive,1.0),\n",
    "                            \"actu_renwd2\"=c(NA,NA,NA),\n",
    "                            \"gain\"=c(0,1.0,1.0),\n",
    "                            \"lift\"=c(NA,NA,NA))\n",
    "  \n",
    "  lift_df_list <- lapply(lift_df_list, function(df) {\n",
    "    df <- df %>%\n",
    "      add_row(P = 0, gain =0) %>%\n",
    "      arrange(P)\n",
    "  })\n",
    "\n",
    "  auc_lift_list = paste(lapply(auc_list, round, 3),sapply(lift_df_list, function(x) round(x[2,\"lift\"],2)), sep=\", \")\n",
    "  \n",
    "  auc_map = paste(names(lift_df_list),auc_lift_list, sep=\" = \")[1:length(lift_df_list)]\n",
    "  \n",
    "  \n",
    "  gains_plot <- ggplot(NULL, aes(P,  gain)) +\n",
    "    geom_line(data = lift_df_list[[1]] %>% slice(1, n())) +\n",
    "    \n",
    "    list(geom_line(data=optimal_df), geom_point(data=optimal_df)) +\n",
    "    \n",
    "    scale_y_continuous(breaks = seq(0, 1, by = .1), limits = c(0,1)) +\n",
    "    scale_x_continuous(breaks = seq(0, 1, by = .1)) +\n",
    "    labs(title = \"Cumulative Gains Plot\",\n",
    "         y = \"Cumulative Gain\",\n",
    "         x = \"Percentile\")+\n",
    "    theme(text = element_text(size=20))\n",
    "  \n",
    "  for(i in seq(length(lift_df_list))){\n",
    "    name = names(lift_df_list)[[i]]\n",
    "    df = lift_df_list[[i]]\n",
    "    auc = auc_list[[i]]\n",
    "    gains_plot <- gains_plot + list(geom_line(data=df), \n",
    "                                    geom_point(data=df))+ \n",
    "      annotate(\"text\", x = .4, y = .9-i*.075, hjust = 0, label = auc_map[[i]], size = 5)\n",
    "  }\n",
    "  \n",
    "  \n",
    "  return(gains_plot)\n",
    "}\n"
   ]
  },
  {
   "cell_type": "code",
   "execution_count": null,
   "metadata": {},
   "outputs": [],
   "source": [
    "plot_multigains(            lift_df_list=lift_list,\n",
    "                             auc_list = auc_list,\n",
    "                             prop_positive = 0.1194494) "
   ]
  },
  {
   "cell_type": "code",
   "execution_count": null,
   "metadata": {},
   "outputs": [],
   "source": [
    "dim(expiry_test_predictions_assign)"
   ]
  },
  {
   "cell_type": "code",
   "execution_count": null,
   "metadata": {},
   "outputs": [],
   "source": [
    "lift_df"
   ]
  },
  {
   "cell_type": "code",
   "execution_count": null,
   "metadata": {},
   "outputs": [],
   "source": [
    "as.data.frame(auc_list)"
   ]
  },
  {
   "cell_type": "markdown",
   "metadata": {},
   "source": [
    "# Examining how variables of high importance differ between classes in training & test data"
   ]
  },
  {
   "cell_type": "code",
   "execution_count": null,
   "metadata": {},
   "outputs": [],
   "source": [
    "model <- ranger(formula         = auc_win_01 ~ ., \n",
    "                data            = subset(train, select = -c(l10_win_01) ), \n",
    "                importance = 'impurity', \n",
    "                num.trees       = 500,\n",
    "                probability = TRUE,\n",
    "                replace = FALSE,\n",
    "                sample.fraction = .8,\n",
    "                seed            = 123,\n",
    "                respect.unordered.factors=TRUE)\n",
    "var_imp <- as.data.frame(importance(model))\n",
    "names(var_imp) <- 'imp'\n",
    "var_imp$var <- row.names(var_imp)\n",
    "row.names(var_imp) <- NULL\n",
    "var_imp <- var_imp %>% arrange(desc(imp))\n",
    "head(var_imp,10)"
   ]
  },
  {
   "cell_type": "code",
   "execution_count": null,
   "metadata": {},
   "outputs": [],
   "source": [
    "train %>% \n",
    "  group_by(auc_win_01) %>%\n",
    "  summarize(mean_tld_rat = mean(tld_rat),\n",
    "           mean_sldlen_kurt = mean(sldlen_kurt),\n",
    "           mean_gibbs_kurt = mean(gibbs_kurt),\n",
    "           mean_sldlen_skew = mean(sldlen_skew),\n",
    "           mean_gibbs_rng = mean(gibbs_rng),\n",
    "           mean_ren_prp = mean(ren_prp),\n",
    "           mean_sldlen_rng = mean(sldlen_rng),\n",
    "           mean_pdcnt_skew = mean(pdcnt_skew),\n",
    "           mean_regarpt_skew = mean(regarpt_skew)\n",
    "           )\n",
    "\n",
    "train %>% \n",
    "  group_by(auc_win_01, country_maj) %>%\n",
    "  tally() %>%\n",
    "  arrange(auc_win_01, desc(n)) %>% spread(country_maj, n)  %>% t()"
   ]
  },
  {
   "cell_type": "code",
   "execution_count": null,
   "metadata": {},
   "outputs": [],
   "source": []
  }
 ],
 "metadata": {
  "environment": {
   "name": "r-cpu.3-6.m48",
   "type": "gcloud",
   "uri": "gcr.io/deeplearning-platform-release/r-cpu.3-6:m48"
  },
  "kernelspec": {
   "display_name": "R",
   "language": "R",
   "name": "ir"
  },
  "language_info": {
   "codemirror_mode": "r",
   "file_extension": ".r",
   "mimetype": "text/x-r-source",
   "name": "R",
   "pygments_lexer": "r",
   "version": "3.6.3"
  }
 },
 "nbformat": 4,
 "nbformat_minor": 4
}
