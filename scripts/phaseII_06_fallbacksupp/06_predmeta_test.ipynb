{
 "cells": [
  {
   "cell_type": "markdown",
   "metadata": {},
   "source": [
    "# Testing Metalearning Predictions script"
   ]
  },
  {
   "cell_type": "code",
   "execution_count": 1,
   "metadata": {},
   "outputs": [],
   "source": [
    "options(repr.matrix.max.cols=50, repr.matrix.max.rows=100)"
   ]
  },
  {
   "cell_type": "code",
   "execution_count": 2,
   "metadata": {},
   "outputs": [],
   "source": [
    "# install.packages(\"pkgcond\")"
   ]
  },
  {
   "cell_type": "code",
   "execution_count": 3,
   "metadata": {},
   "outputs": [
    {
     "name": "stderr",
     "output_type": "stream",
     "text": [
      "\n",
      "Attaching package: ‘dplyr’\n",
      "\n",
      "\n",
      "The following objects are masked from ‘package:stats’:\n",
      "\n",
      "    filter, lag\n",
      "\n",
      "\n",
      "The following objects are masked from ‘package:base’:\n",
      "\n",
      "    intersect, setdiff, setequal, union\n",
      "\n",
      "\n",
      "\n",
      "Attaching package: ‘data.table’\n",
      "\n",
      "\n",
      "The following objects are masked from ‘package:dplyr’:\n",
      "\n",
      "    between, first, last\n",
      "\n",
      "\n",
      "Loading required package: grid\n",
      "\n",
      "Loading required package: libcoin\n",
      "\n",
      "Loading required package: mvtnorm\n",
      "\n",
      "Loading required package: lattice\n",
      "\n",
      "Loading required package: ggplot2\n",
      "\n",
      "randomForest 4.6-14\n",
      "\n",
      "Type rfNews() to see new features/changes/bug fixes.\n",
      "\n",
      "\n",
      "Attaching package: ‘randomForest’\n",
      "\n",
      "\n",
      "The following object is masked from ‘package:ggplot2’:\n",
      "\n",
      "    margin\n",
      "\n",
      "\n",
      "The following object is masked from ‘package:dplyr’:\n",
      "\n",
      "    combine\n",
      "\n",
      "\n",
      "\n",
      "Attaching package: ‘ranger’\n",
      "\n",
      "\n",
      "The following object is masked from ‘package:randomForest’:\n",
      "\n",
      "    importance\n",
      "\n",
      "\n",
      "\n",
      "Attaching package: ‘plotly’\n",
      "\n",
      "\n",
      "The following object is masked from ‘package:ggplot2’:\n",
      "\n",
      "    last_plot\n",
      "\n",
      "\n",
      "The following object is masked from ‘package:stats’:\n",
      "\n",
      "    filter\n",
      "\n",
      "\n",
      "The following object is masked from ‘package:graphics’:\n",
      "\n",
      "    layout\n",
      "\n",
      "\n",
      "Loading required package: RJSONIO\n",
      "\n"
     ]
    },
    {
     "data": {
      "text/html": [
       "'/home/jupyter/local/Domains_202003/scripts/phaseII_06_fallbacksupp'"
      ],
      "text/latex": [
       "'/home/jupyter/local/Domains\\_202003/scripts/phaseII\\_06\\_fallbacksupp'"
      ],
      "text/markdown": [
       "'/home/jupyter/local/Domains_202003/scripts/phaseII_06_fallbacksupp'"
      ],
      "text/plain": [
       "[1] \"/home/jupyter/local/Domains_202003/scripts/phaseII_06_fallbacksupp\""
      ]
     },
     "metadata": {},
     "output_type": "display_data"
    }
   ],
   "source": [
    "library(dplyr)\n",
    "library(data.table)\n",
    "library(partykit)\n",
    "library(tictoc)\n",
    "library(caret)\n",
    "library(e1071)\n",
    "library(randomForest)\n",
    "library(ranger)\n",
    "\n",
    "#for 3d plotting\n",
    "library(akima)\n",
    "library(plotly)\n",
    "\n",
    "# for prep data\n",
    "library(rPython)\n",
    "library(stringr)\n",
    "library(pbapply)\n",
    "library(stringdist)\n",
    "library(data.table)\n",
    "library(dominanceanalysis)\n",
    "\n",
    "\n",
    "getwd()"
   ]
  },
  {
   "cell_type": "code",
   "execution_count": 4,
   "metadata": {},
   "outputs": [],
   "source": [
    "\n",
    "source('../orig/functions.R')\n",
    "\n",
    "source('../orig/functions_models.R')\n",
    "\n",
    "source('../phaseII_03_forest/functions_eval.R')\n",
    "\n",
    "\n",
    "source('../phaseII_03_forest/load_prep_data_expiry.R')\n",
    "\n",
    "# expiry_train_prepped_2_1 (list, less df's w/ 0 obs)\n",
    "# expiry_test_prepped_2_1  (list, less df's w/ 0 obs)\n",
    "# expiry_train_df_1 (above, rbound)\n",
    "# expiry_test_df_1 (above, rbound)\n",
    "# expiry_train_df_sub (subset vars)                                        \n",
    "# expiry_test_df_sub (subset vars)"
   ]
  },
  {
   "cell_type": "code",
   "execution_count": 27,
   "metadata": {},
   "outputs": [],
   "source": [
    "\n",
    "source('functions_metalearning.R')"
   ]
  },
  {
   "cell_type": "markdown",
   "metadata": {},
   "source": [
    "# DEFINE limited global objects"
   ]
  },
  {
   "cell_type": "code",
   "execution_count": 28,
   "metadata": {},
   "outputs": [
    {
     "data": {
      "text/html": [
       "5"
      ],
      "text/latex": [
       "5"
      ],
      "text/markdown": [
       "5"
      ],
      "text/plain": [
       "[1] 5"
      ]
     },
     "metadata": {},
     "output_type": "display_data"
    },
    {
     "data": {
      "text/html": [
       "<style>\n",
       ".list-inline {list-style: none; margin:0; padding: 0}\n",
       ".list-inline>li {display: inline-block}\n",
       ".list-inline>li:not(:last-child)::after {content: \"\\00b7\"; padding: 0 .5ex}\n",
       "</style>\n",
       "<ol class=list-inline><li>'funchengdu west'</li><li>'siteuol'</li><li>'pwgandi sas'</li><li>'sitereg.ru'</li><li>'sitegmo'</li></ol>\n"
      ],
      "text/latex": [
       "\\begin{enumerate*}\n",
       "\\item 'funchengdu west'\n",
       "\\item 'siteuol'\n",
       "\\item 'pwgandi sas'\n",
       "\\item 'sitereg.ru'\n",
       "\\item 'sitegmo'\n",
       "\\end{enumerate*}\n"
      ],
      "text/markdown": [
       "1. 'funchengdu west'\n",
       "2. 'siteuol'\n",
       "3. 'pwgandi sas'\n",
       "4. 'sitereg.ru'\n",
       "5. 'sitegmo'\n",
       "\n",
       "\n"
      ],
      "text/plain": [
       "[1] \"funchengdu west\" \"siteuol\"         \"pwgandi sas\"     \"sitereg.ru\"     \n",
       "[5] \"sitegmo\"        "
      ]
     },
     "metadata": {},
     "output_type": "display_data"
    }
   ],
   "source": [
    "tld_reseller_list = expiry_train_df_1 %>% sample_n(5) %>% distinct(tld_registrar_index) %>% \n",
    "  pull(tld_registrar_index) %>%  head(5) # limit to 5\n",
    "length(tld_reseller_list)\n",
    "tld_reseller_list"
   ]
  },
  {
   "cell_type": "code",
   "execution_count": 29,
   "metadata": {},
   "outputs": [
    {
     "data": {
      "text/html": [
       "5"
      ],
      "text/latex": [
       "5"
      ],
      "text/markdown": [
       "5"
      ],
      "text/plain": [
       "[1] 5"
      ]
     },
     "metadata": {},
     "output_type": "display_data"
    },
    {
     "data": {
      "text/html": [
       "<style>\n",
       ".list-inline {list-style: none; margin:0; padding: 0}\n",
       ".list-inline>li {display: inline-block}\n",
       ".list-inline>li:not(:last-child)::after {content: \"\\00b7\"; padding: 0 .5ex}\n",
       "</style>\n",
       "<ol class=list-inline><li>'1&amp;1 internet'</li><li>'10dencehispahard'</li><li>'1api'</li><li>'ab name isp'</li><li>'active 24'</li></ol>\n"
      ],
      "text/latex": [
       "\\begin{enumerate*}\n",
       "\\item '1\\&1 internet'\n",
       "\\item '10dencehispahard'\n",
       "\\item '1api'\n",
       "\\item 'ab name isp'\n",
       "\\item 'active 24'\n",
       "\\end{enumerate*}\n"
      ],
      "text/markdown": [
       "1. '1&amp;1 internet'\n",
       "2. '10dencehispahard'\n",
       "3. '1api'\n",
       "4. 'ab name isp'\n",
       "5. 'active 24'\n",
       "\n",
       "\n"
      ],
      "text/plain": [
       "[1] \"1&1 internet\"     \"10dencehispahard\" \"1api\"             \"ab name isp\"     \n",
       "[5] \"active 24\"       "
      ]
     },
     "metadata": {},
     "output_type": "display_data"
    }
   ],
   "source": [
    "reseller_list = expiry_train_df_1 %>% distinct(reseller) %>% pull(reseller) %>% head(5) # limit 5\n",
    "length(reseller_list)\n",
    "reseller_list"
   ]
  },
  {
   "cell_type": "markdown",
   "metadata": {},
   "source": [
    "# TEST train_all in functions*.R"
   ]
  },
  {
   "cell_type": "code",
   "execution_count": 30,
   "metadata": {},
   "outputs": [],
   "source": [
    "subDir = paste(\"models\", format(Sys.Date(), format=\"%Y%m%d\") , sep = \"_\")\n",
    "fullDir = file.path('../../data/output', subDir)\n",
    "dir.create(fullDir, showWarnings = FALSE)"
   ]
  },
  {
   "cell_type": "code",
   "execution_count": 31,
   "metadata": {},
   "outputs": [
    {
     "name": "stdout",
     "output_type": "stream",
     "text": [
      "[1] \"model_seg_glm_11internet\"\n",
      "[1] \"model_seg_rf_11internet\"\n",
      "[1] \"model_seg_glm_10dencehispahard\"\n"
     ]
    },
    {
     "name": "stderr",
     "output_type": "stream",
     "text": [
      "Warning message:\n",
      "“glm.fit: fitted probabilities numerically 0 or 1 occurred”\n"
     ]
    },
    {
     "name": "stdout",
     "output_type": "stream",
     "text": [
      "[1] \"model_seg_rf_10dencehispahard\"\n",
      "[1] \"model_seg_glm_1api\"\n",
      "[1] \"model_seg_rf_1api\"\n",
      "[1] \"model_seg_glm_abnameisp\"\n",
      "[1] \"model_seg_rf_abnameisp\"\n",
      "[1] \"model_seg_glm_active24\"\n",
      "[1] \"model_seg_rf_active24\"\n",
      "[1] \"model_seg2_glm_funchengduwest\"\n"
     ]
    },
    {
     "name": "stderr",
     "output_type": "stream",
     "text": [
      "Warning message:\n",
      "“glm.fit: fitted probabilities numerically 0 or 1 occurred”\n"
     ]
    },
    {
     "name": "stdout",
     "output_type": "stream",
     "text": [
      "[1] \"model_seg2_rf_funchengduwest\"\n",
      "[1] \"model_seg2_glm_siteuol\"\n"
     ]
    },
    {
     "name": "stderr",
     "output_type": "stream",
     "text": [
      "Warning message:\n",
      "“glm.fit: fitted probabilities numerically 0 or 1 occurred”\n"
     ]
    },
    {
     "name": "stdout",
     "output_type": "stream",
     "text": [
      "[1] \"model_seg2_rf_siteuol\"\n",
      "[1] \"model_seg2_glm_pwgandisas\"\n",
      "[1] \"model_seg2_rf_pwgandisas\"\n",
      "[1] \"model_seg2_glm_siteregru\"\n",
      "[1] \"model_seg2_rf_siteregru\"\n",
      "[1] \"model_seg2_glm_sitegmo\"\n"
     ]
    },
    {
     "name": "stderr",
     "output_type": "stream",
     "text": [
      "Warning message:\n",
      "“glm.fit: fitted probabilities numerically 0 or 1 occurred”\n"
     ]
    },
    {
     "name": "stdout",
     "output_type": "stream",
     "text": [
      "[1] \"model_seg2_rf_sitegmo\"\n"
     ]
    }
   ],
   "source": [
    "train_all(tld_reseller_list,\n",
    "                       reseller_list,\n",
    "                       train_list = expiry_train_prepped_2_1,\n",
    "                       test_list = expiry_test_prepped_2_1,\n",
    "                       model_agg_glm = 1, # skip agg models\n",
    "                       model_agg_rf = 1, \n",
    "         fullDir=fullDir)   # skip agg models"
   ]
  },
  {
   "cell_type": "markdown",
   "metadata": {},
   "source": [
    "# TEST pred_all in functions*.R"
   ]
  },
  {
   "cell_type": "code",
   "execution_count": 55,
   "metadata": {},
   "outputs": [],
   "source": [
    "source('functions_metalearning.R')"
   ]
  },
  {
   "cell_type": "code",
   "execution_count": 56,
   "metadata": {},
   "outputs": [
    {
     "name": "stdout",
     "output_type": "stream",
     "text": [
      "Predicting model_agg_rfNULL\n",
      "[1] \"funchengdu west\"\n"
     ]
    },
    {
     "ename": "ERROR",
     "evalue": "Error in get(model_name): object 'model_seg_glm_chengduwest' not found\n",
     "output_type": "error",
     "traceback": [
      "Error in get(model_name): object 'model_seg_glm_chengduwest' not found\nTraceback:\n",
      "1. pred_all(fullDir = \"../../data/output/models_20201017\", tld_reseller_list, \n .     test_list = expiry_test_prepped_2_1)",
      "2. lapply(tld_reseller_list, function(tld_reseller_str) pred_seg_glm(test_list, \n .     tld_reseller_str))",
      "3. FUN(X[[i]], ...)",
      "4. pred_seg_glm(test_list, tld_reseller_str)",
      "5. get(model_name)"
     ]
    }
   ],
   "source": [
    "pred_df <- pred_all(fullDir='../../data/output/models_20201017', # dir of models\n",
    "                      tld_reseller_list,\n",
    "                      test_list = expiry_test_prepped_2_1)"
   ]
  },
  {
   "cell_type": "code",
   "execution_count": 44,
   "metadata": {},
   "outputs": [],
   "source": [
    "load(\"../../data/output/models_20201017/model_agg_glm.Rdata\")"
   ]
  },
  {
   "cell_type": "code",
   "execution_count": 54,
   "metadata": {},
   "outputs": [
    {
     "data": {
      "text/plain": [
       "NULL"
      ]
     },
     "metadata": {},
     "output_type": "display_data"
    }
   ],
   "source": [
    "model_agg_glm"
   ]
  },
  {
   "cell_type": "code",
   "execution_count": 45,
   "metadata": {},
   "outputs": [],
   "source": [
    "tld_reseller_str=\"funchengdu west\"\n",
    "model=model_agg_glm"
   ]
  },
  {
   "cell_type": "code",
   "execution_count": 41,
   "metadata": {},
   "outputs": [],
   "source": [
    "test_list_tld_reseller = test_list[tld_reseller_str]\n",
    "test_df_tld_reseller =  rbindlist(test_list_tld_reseller,use.names=TRUE)"
   ]
  },
  {
   "cell_type": "code",
   "execution_count": 43,
   "metadata": {},
   "outputs": [
    {
     "data": {
      "text/html": [
       "<style>\n",
       ".list-inline {list-style: none; margin:0; padding: 0}\n",
       ".list-inline>li {display: inline-block}\n",
       ".list-inline>li:not(:last-child)::after {content: \"\\00b7\"; padding: 0 .5ex}\n",
       "</style>\n",
       "<ol class=list-inline><li>5662</li><li>39</li></ol>\n"
      ],
      "text/latex": [
       "\\begin{enumerate*}\n",
       "\\item 5662\n",
       "\\item 39\n",
       "\\end{enumerate*}\n"
      ],
      "text/markdown": [
       "1. 5662\n",
       "2. 39\n",
       "\n",
       "\n"
      ],
      "text/plain": [
       "[1] 5662   39"
      ]
     },
     "metadata": {},
     "output_type": "display_data"
    }
   ],
   "source": [
    "dim(test_df_tld_reseller)"
   ]
  },
  {
   "cell_type": "code",
   "execution_count": 46,
   "metadata": {},
   "outputs": [
    {
     "ename": "ERROR",
     "evalue": "Error in UseMethod(\"predict\"): no applicable method for 'predict' applied to an object of class \"NULL\"\n",
     "output_type": "error",
     "traceback": [
      "Error in UseMethod(\"predict\"): no applicable method for 'predict' applied to an object of class \"NULL\"\nTraceback:\n",
      "1. predict_first_renewal_agg(test_df_tld_reseller, model)   # at line 5 of file <text>",
      "2. predict(model, newdata = subset(test_data, select = c(pattern_domain_count, \n .     log_reg_arpt, sld_length, gibb_score, sld_type, day_domains, \n .     reg_period, tld, reseller)), type = \"response\")"
     ]
    }
   ],
   "source": [
    "# if test data contains no observations, skip!\n",
    "if (dim(test_df_tld_reseller)[1]==0){\n",
    "    pred_df_agg_glm = NA\n",
    "} else {\n",
    "    pred = predict_first_renewal_agg(test_df_tld_reseller, model)\n",
    "\n",
    "    pred_df_agg_glm = data.frame(\"actual\" = pred$renewal_status,\n",
    "                                  \"predicted\" = pred$first_renewal_prediction)\n",
    "} "
   ]
  },
  {
   "cell_type": "code",
   "execution_count": 47,
   "metadata": {},
   "outputs": [],
   "source": [
    "test_data = test_df_tld_reseller"
   ]
  },
  {
   "cell_type": "code",
   "execution_count": 48,
   "metadata": {},
   "outputs": [],
   "source": [
    "test_data$sld_type[!(test_data$sld_type %in% model$xlevels$sld_type)]<-NA\n",
    "test_data$reseller[!(test_data$reseller %in% model$xlevels$reseller)]<-NA # LVG added"
   ]
  },
  {
   "cell_type": "code",
   "execution_count": 50,
   "metadata": {},
   "outputs": [],
   "source": [
    "test_data_sub = subset(test_data,\n",
    "                                              select=c(pattern_domain_count, \n",
    "                                                       log_reg_arpt,\n",
    "                                                       sld_length, \n",
    "                                                       gibb_score,\n",
    "                                                       sld_type, \n",
    "                                                       day_domains,\n",
    "                                                       reg_period, \n",
    "                                                       tld, reseller))"
   ]
  },
  {
   "cell_type": "code",
   "execution_count": 51,
   "metadata": {},
   "outputs": [
    {
     "data": {
      "text/html": [
       "<style>\n",
       ".list-inline {list-style: none; margin:0; padding: 0}\n",
       ".list-inline>li {display: inline-block}\n",
       ".list-inline>li:not(:last-child)::after {content: \"\\00b7\"; padding: 0 .5ex}\n",
       "</style>\n",
       "<ol class=list-inline><li>5662</li><li>9</li></ol>\n"
      ],
      "text/latex": [
       "\\begin{enumerate*}\n",
       "\\item 5662\n",
       "\\item 9\n",
       "\\end{enumerate*}\n"
      ],
      "text/markdown": [
       "1. 5662\n",
       "2. 9\n",
       "\n",
       "\n"
      ],
      "text/plain": [
       "[1] 5662    9"
      ]
     },
     "metadata": {},
     "output_type": "display_data"
    }
   ],
   "source": [
    "dim(test_data_sub)"
   ]
  },
  {
   "cell_type": "code",
   "execution_count": 52,
   "metadata": {},
   "outputs": [
    {
     "ename": "ERROR",
     "evalue": "Error in UseMethod(\"predict\"): no applicable method for 'predict' applied to an object of class \"NULL\"\n",
     "output_type": "error",
     "traceback": [
      "Error in UseMethod(\"predict\"): no applicable method for 'predict' applied to an object of class \"NULL\"\nTraceback:\n",
      "1. predict(model, newdata = subset(test_data, select = c(pattern_domain_count, \n .     log_reg_arpt, sld_length, gibb_score, sld_type, day_domains, \n .     reg_period, tld, reseller)), type = \"response\")"
     ]
    }
   ],
   "source": [
    "#test.data$probabilities <- predict(model,newdata=subset(test.data,select=c(Coeff.Variation, LogArpt, SLD.Length, SLD.Type, Day.Domains, Gibb.Score)),type='response');\n",
    "test_data$probabilities<-predict(model,\n",
    "                               newdata=subset(test_data,\n",
    "                                              select=c(pattern_domain_count, \n",
    "                                                       log_reg_arpt,\n",
    "                                                       sld_length, \n",
    "                                                       gibb_score,\n",
    "                                                       sld_type, \n",
    "                                                       day_domains,\n",
    "                                                       reg_period, \n",
    "                                                       tld, reseller)),type='response');"
   ]
  },
  {
   "cell_type": "code",
   "execution_count": 53,
   "metadata": {},
   "outputs": [
    {
     "data": {
      "text/plain": [
       "NULL"
      ]
     },
     "metadata": {},
     "output_type": "display_data"
    }
   ],
   "source": [
    "model"
   ]
  },
  {
   "cell_type": "code",
   "execution_count": null,
   "metadata": {},
   "outputs": [],
   "source": [
    "# had to comment out the following to get predition list to work\n",
    "#   test_data$first_renewal_prediction[test_data$Status == \"Deleted\"]<-0\n",
    "#   test_data$first_renewal_prediction<-round(test_data$first_renewal_prediction,3)\n",
    "# made the following mods\n",
    "test_data$first_renewal_prediction<-round(test_data$probabilities,3)\n",
    "test_data$first_renewal_prediction[test_data$Status == \"Deleted\"]<-0\n",
    "return(test_data)"
   ]
  },
  {
   "cell_type": "code",
   "execution_count": null,
   "metadata": {},
   "outputs": [],
   "source": []
  },
  {
   "cell_type": "code",
   "execution_count": null,
   "metadata": {},
   "outputs": [],
   "source": []
  },
  {
   "cell_type": "code",
   "execution_count": null,
   "metadata": {},
   "outputs": [],
   "source": []
  },
  {
   "cell_type": "code",
   "execution_count": 158,
   "metadata": {},
   "outputs": [],
   "source": [
    "# define vars\n",
    "fullDir='../../data/output/models_20201015' # dir of models\n",
    "# tld_reseller_list # already defined in global vars above\n",
    "test_list = expiry_test_prepped_2_1\n",
    "\n",
    "test_list_tld_reseller = test_list[tld_reseller_str]\n",
    "test_df_tld_reseller =  rbindlist(test_list_tld_reseller,use.names=TRUE)    \n",
    "reseller_str = test_df_tld_reseller %>% filter(tld_registrar_index==tld_reseller_str) %>% \n",
    "   distinct(reseller) %>% pull(reseller)"
   ]
  },
  {
   "cell_type": "code",
   "execution_count": 103,
   "metadata": {},
   "outputs": [
    {
     "data": {
      "text/html": [
       "1405"
      ],
      "text/latex": [
       "1405"
      ],
      "text/markdown": [
       "1405"
      ],
      "text/plain": [
       "[1] 1405"
      ]
     },
     "metadata": {},
     "output_type": "display_data"
    }
   ],
   "source": [
    "length(test_list)"
   ]
  },
  {
   "cell_type": "code",
   "execution_count": 73,
   "metadata": {},
   "outputs": [],
   "source": [
    "# skipping agg models"
   ]
  },
  {
   "cell_type": "code",
   "execution_count": 74,
   "metadata": {},
   "outputs": [
    {
     "data": {
      "text/html": [
       "<style>\n",
       ".list-inline {list-style: none; margin:0; padding: 0}\n",
       ".list-inline>li {display: inline-block}\n",
       ".list-inline>li:not(:last-child)::after {content: \"\\00b7\"; padding: 0 .5ex}\n",
       "</style>\n",
       "<ol class=list-inline><li>'model_seg_glm_1 1 internet'</li><li>'model_seg_glm_1&amp;1_internet'</li><li>'model_seg_glm_10dencehispahard'</li><li>'model_seg_glm_11internet'</li><li>'model_seg_glm_1api'</li><li>'model_seg_glm_ab name isp'</li><li>'model_seg_glm_ab_name isp'</li><li>'model_seg_glm_abnameisp'</li><li>'model_seg_glm_active 24'</li><li>'model_seg_glm_active_24'</li><li>'model_seg_glm_active24'</li><li>'model_seg2_glm_fun10dencehispahard'</li><li>'model_seg2_glm_fun11internet'</li><li>'model_seg2_glm_fun1api'</li><li>'model_seg2_glm_funabnameisp'</li><li>'model_seg2_glm_funactive24'</li><li>'model_seg2_rf_fun10dencehispahard'</li><li>'model_seg2_rf_fun11internet'</li><li>'model_seg2_rf_fun1api'</li><li>'model_seg2_rf_funabnameisp'</li><li>'model_seg2_rf_funactive24'</li></ol>\n"
      ],
      "text/latex": [
       "\\begin{enumerate*}\n",
       "\\item 'model\\_seg\\_glm\\_1 1 internet'\n",
       "\\item 'model\\_seg\\_glm\\_1\\&1\\_internet'\n",
       "\\item 'model\\_seg\\_glm\\_10dencehispahard'\n",
       "\\item 'model\\_seg\\_glm\\_11internet'\n",
       "\\item 'model\\_seg\\_glm\\_1api'\n",
       "\\item 'model\\_seg\\_glm\\_ab name isp'\n",
       "\\item 'model\\_seg\\_glm\\_ab\\_name isp'\n",
       "\\item 'model\\_seg\\_glm\\_abnameisp'\n",
       "\\item 'model\\_seg\\_glm\\_active 24'\n",
       "\\item 'model\\_seg\\_glm\\_active\\_24'\n",
       "\\item 'model\\_seg\\_glm\\_active24'\n",
       "\\item 'model\\_seg2\\_glm\\_fun10dencehispahard'\n",
       "\\item 'model\\_seg2\\_glm\\_fun11internet'\n",
       "\\item 'model\\_seg2\\_glm\\_fun1api'\n",
       "\\item 'model\\_seg2\\_glm\\_funabnameisp'\n",
       "\\item 'model\\_seg2\\_glm\\_funactive24'\n",
       "\\item 'model\\_seg2\\_rf\\_fun10dencehispahard'\n",
       "\\item 'model\\_seg2\\_rf\\_fun11internet'\n",
       "\\item 'model\\_seg2\\_rf\\_fun1api'\n",
       "\\item 'model\\_seg2\\_rf\\_funabnameisp'\n",
       "\\item 'model\\_seg2\\_rf\\_funactive24'\n",
       "\\end{enumerate*}\n"
      ],
      "text/markdown": [
       "1. 'model_seg_glm_1 1 internet'\n",
       "2. 'model_seg_glm_1&amp;1_internet'\n",
       "3. 'model_seg_glm_10dencehispahard'\n",
       "4. 'model_seg_glm_11internet'\n",
       "5. 'model_seg_glm_1api'\n",
       "6. 'model_seg_glm_ab name isp'\n",
       "7. 'model_seg_glm_ab_name isp'\n",
       "8. 'model_seg_glm_abnameisp'\n",
       "9. 'model_seg_glm_active 24'\n",
       "10. 'model_seg_glm_active_24'\n",
       "11. 'model_seg_glm_active24'\n",
       "12. 'model_seg2_glm_fun10dencehispahard'\n",
       "13. 'model_seg2_glm_fun11internet'\n",
       "14. 'model_seg2_glm_fun1api'\n",
       "15. 'model_seg2_glm_funabnameisp'\n",
       "16. 'model_seg2_glm_funactive24'\n",
       "17. 'model_seg2_rf_fun10dencehispahard'\n",
       "18. 'model_seg2_rf_fun11internet'\n",
       "19. 'model_seg2_rf_fun1api'\n",
       "20. 'model_seg2_rf_funabnameisp'\n",
       "21. 'model_seg2_rf_funactive24'\n",
       "\n",
       "\n"
      ],
      "text/plain": [
       " [1] \"model_seg_glm_1 1 internet\"         \"model_seg_glm_1&1_internet\"        \n",
       " [3] \"model_seg_glm_10dencehispahard\"     \"model_seg_glm_11internet\"          \n",
       " [5] \"model_seg_glm_1api\"                 \"model_seg_glm_ab name isp\"         \n",
       " [7] \"model_seg_glm_ab_name isp\"          \"model_seg_glm_abnameisp\"           \n",
       " [9] \"model_seg_glm_active 24\"            \"model_seg_glm_active_24\"           \n",
       "[11] \"model_seg_glm_active24\"             \"model_seg2_glm_fun10dencehispahard\"\n",
       "[13] \"model_seg2_glm_fun11internet\"       \"model_seg2_glm_fun1api\"            \n",
       "[15] \"model_seg2_glm_funabnameisp\"        \"model_seg2_glm_funactive24\"        \n",
       "[17] \"model_seg2_rf_fun10dencehispahard\"  \"model_seg2_rf_fun11internet\"       \n",
       "[19] \"model_seg2_rf_fun1api\"              \"model_seg2_rf_funabnameisp\"        \n",
       "[21] \"model_seg2_rf_funactive24\"         "
      ]
     },
     "metadata": {},
     "output_type": "display_data"
    },
    {
     "data": {
      "text/html": [
       "<style>\n",
       ".list-inline {list-style: none; margin:0; padding: 0}\n",
       ".list-inline>li {display: inline-block}\n",
       ".list-inline>li:not(:last-child)::after {content: \"\\00b7\"; padding: 0 .5ex}\n",
       "</style>\n",
       "<ol class=list-inline><li>'apply_standard_adjustments'</li><li>'basic_prep_domain_data'</li><li>'build_model_first_renewal'</li><li>'build_model_first_renewal_agg'</li><li>'build_model_first_renewal_agg_plus'</li><li>'build_model_first_renewal_reg'</li><li>'build_model_second_renewal'</li><li>'calc_auc'</li><li>'change.colnames'</li><li>'chart_lift'</li><li>'expiry_test_df_1'</li><li>'expiry_test_df_sub'</li><li>'expiry_test_prepped_2'</li><li>'expiry_test_prepped_2_1'</li><li>'expiry_train_df_1'</li><li>'expiry_train_df_sub'</li><li>'expiry_train_prepped_2'</li><li>'expiry_train_prepped_2_1'</li><li>'fullDir'</li><li>'get_cluster_data'</li><li>'get_cluster_large'</li><li>'get_df_npv'</li><li>'get_domain_npv'</li><li>'get_domain_type'</li><li>'get_pattern_score'</li><li>'get_renewal_status'</li><li>'intersect2'</li><li>'list_predict_first_renewal'</li><li>'list_predict_second_renewal'</li><li>'mass_build_model_first_renewal'</li><li>'mass_build_model_second_renewal'</li><li>'mass_predict_first_renewal'</li><li>'mass_predict_second_renewal'</li><li>'mass_prep_data'</li><li>'model'</li><li>'model_agg_glm'</li><li>'model_agg_rf'</li><li>'model_name'</li><li>'na.zero'</li><li>'newreg_data_prep'</li><li>'newreg_data_rename'</li><li>'newreg_data_select'</li><li>'plot_gains'</li><li>'plot_multigains'</li><li>'plot_multigains_file'</li><li>'plot_multigains_res'</li><li>'pred_agg_glm'</li><li>'pred_agg_rf'</li><li>'pred_seg_glm'</li><li>'pred_seg_rf'</li><li>'pred_seg2_glm'</li><li>'pred_seg2_rf'</li><li>'predict_first_renewal'</li><li>'predict_first_renewal_agg'</li><li>'predict_first_renewal_agg_plus'</li><li>'predict_first_renewal_reg'</li><li>'predict_second_renewal'</li><li>'prep_domain_data'</li><li>'reseller_list'</li><li>'reseller_str'</li><li>'sample_fraction'</li><li>'save_object'</li><li>'subDir'</li><li>'test_list'</li><li>'tld_reseller_list'</li><li>'tld_reseller_str'</li><li>'train_agg_glm'</li><li>'train_agg_rf'</li><li>'train_all'</li><li>'train_df_tld_reseller'</li><li>'train_list'</li><li>'train_list_tld_reseller'</li><li>'train_seg_glm'</li><li>'train_seg_rf'</li><li>'train_seg2_glm'</li><li>'train_seg2_rf'</li><li>'unzip.file'</li></ol>\n"
      ],
      "text/latex": [
       "\\begin{enumerate*}\n",
       "\\item 'apply\\_standard\\_adjustments'\n",
       "\\item 'basic\\_prep\\_domain\\_data'\n",
       "\\item 'build\\_model\\_first\\_renewal'\n",
       "\\item 'build\\_model\\_first\\_renewal\\_agg'\n",
       "\\item 'build\\_model\\_first\\_renewal\\_agg\\_plus'\n",
       "\\item 'build\\_model\\_first\\_renewal\\_reg'\n",
       "\\item 'build\\_model\\_second\\_renewal'\n",
       "\\item 'calc\\_auc'\n",
       "\\item 'change.colnames'\n",
       "\\item 'chart\\_lift'\n",
       "\\item 'expiry\\_test\\_df\\_1'\n",
       "\\item 'expiry\\_test\\_df\\_sub'\n",
       "\\item 'expiry\\_test\\_prepped\\_2'\n",
       "\\item 'expiry\\_test\\_prepped\\_2\\_1'\n",
       "\\item 'expiry\\_train\\_df\\_1'\n",
       "\\item 'expiry\\_train\\_df\\_sub'\n",
       "\\item 'expiry\\_train\\_prepped\\_2'\n",
       "\\item 'expiry\\_train\\_prepped\\_2\\_1'\n",
       "\\item 'fullDir'\n",
       "\\item 'get\\_cluster\\_data'\n",
       "\\item 'get\\_cluster\\_large'\n",
       "\\item 'get\\_df\\_npv'\n",
       "\\item 'get\\_domain\\_npv'\n",
       "\\item 'get\\_domain\\_type'\n",
       "\\item 'get\\_pattern\\_score'\n",
       "\\item 'get\\_renewal\\_status'\n",
       "\\item 'intersect2'\n",
       "\\item 'list\\_predict\\_first\\_renewal'\n",
       "\\item 'list\\_predict\\_second\\_renewal'\n",
       "\\item 'mass\\_build\\_model\\_first\\_renewal'\n",
       "\\item 'mass\\_build\\_model\\_second\\_renewal'\n",
       "\\item 'mass\\_predict\\_first\\_renewal'\n",
       "\\item 'mass\\_predict\\_second\\_renewal'\n",
       "\\item 'mass\\_prep\\_data'\n",
       "\\item 'model'\n",
       "\\item 'model\\_agg\\_glm'\n",
       "\\item 'model\\_agg\\_rf'\n",
       "\\item 'model\\_name'\n",
       "\\item 'na.zero'\n",
       "\\item 'newreg\\_data\\_prep'\n",
       "\\item 'newreg\\_data\\_rename'\n",
       "\\item 'newreg\\_data\\_select'\n",
       "\\item 'plot\\_gains'\n",
       "\\item 'plot\\_multigains'\n",
       "\\item 'plot\\_multigains\\_file'\n",
       "\\item 'plot\\_multigains\\_res'\n",
       "\\item 'pred\\_agg\\_glm'\n",
       "\\item 'pred\\_agg\\_rf'\n",
       "\\item 'pred\\_seg\\_glm'\n",
       "\\item 'pred\\_seg\\_rf'\n",
       "\\item 'pred\\_seg2\\_glm'\n",
       "\\item 'pred\\_seg2\\_rf'\n",
       "\\item 'predict\\_first\\_renewal'\n",
       "\\item 'predict\\_first\\_renewal\\_agg'\n",
       "\\item 'predict\\_first\\_renewal\\_agg\\_plus'\n",
       "\\item 'predict\\_first\\_renewal\\_reg'\n",
       "\\item 'predict\\_second\\_renewal'\n",
       "\\item 'prep\\_domain\\_data'\n",
       "\\item 'reseller\\_list'\n",
       "\\item 'reseller\\_str'\n",
       "\\item 'sample\\_fraction'\n",
       "\\item 'save\\_object'\n",
       "\\item 'subDir'\n",
       "\\item 'test\\_list'\n",
       "\\item 'tld\\_reseller\\_list'\n",
       "\\item 'tld\\_reseller\\_str'\n",
       "\\item 'train\\_agg\\_glm'\n",
       "\\item 'train\\_agg\\_rf'\n",
       "\\item 'train\\_all'\n",
       "\\item 'train\\_df\\_tld\\_reseller'\n",
       "\\item 'train\\_list'\n",
       "\\item 'train\\_list\\_tld\\_reseller'\n",
       "\\item 'train\\_seg\\_glm'\n",
       "\\item 'train\\_seg\\_rf'\n",
       "\\item 'train\\_seg2\\_glm'\n",
       "\\item 'train\\_seg2\\_rf'\n",
       "\\item 'unzip.file'\n",
       "\\end{enumerate*}\n"
      ],
      "text/markdown": [
       "1. 'apply_standard_adjustments'\n",
       "2. 'basic_prep_domain_data'\n",
       "3. 'build_model_first_renewal'\n",
       "4. 'build_model_first_renewal_agg'\n",
       "5. 'build_model_first_renewal_agg_plus'\n",
       "6. 'build_model_first_renewal_reg'\n",
       "7. 'build_model_second_renewal'\n",
       "8. 'calc_auc'\n",
       "9. 'change.colnames'\n",
       "10. 'chart_lift'\n",
       "11. 'expiry_test_df_1'\n",
       "12. 'expiry_test_df_sub'\n",
       "13. 'expiry_test_prepped_2'\n",
       "14. 'expiry_test_prepped_2_1'\n",
       "15. 'expiry_train_df_1'\n",
       "16. 'expiry_train_df_sub'\n",
       "17. 'expiry_train_prepped_2'\n",
       "18. 'expiry_train_prepped_2_1'\n",
       "19. 'fullDir'\n",
       "20. 'get_cluster_data'\n",
       "21. 'get_cluster_large'\n",
       "22. 'get_df_npv'\n",
       "23. 'get_domain_npv'\n",
       "24. 'get_domain_type'\n",
       "25. 'get_pattern_score'\n",
       "26. 'get_renewal_status'\n",
       "27. 'intersect2'\n",
       "28. 'list_predict_first_renewal'\n",
       "29. 'list_predict_second_renewal'\n",
       "30. 'mass_build_model_first_renewal'\n",
       "31. 'mass_build_model_second_renewal'\n",
       "32. 'mass_predict_first_renewal'\n",
       "33. 'mass_predict_second_renewal'\n",
       "34. 'mass_prep_data'\n",
       "35. 'model'\n",
       "36. 'model_agg_glm'\n",
       "37. 'model_agg_rf'\n",
       "38. 'model_name'\n",
       "39. 'na.zero'\n",
       "40. 'newreg_data_prep'\n",
       "41. 'newreg_data_rename'\n",
       "42. 'newreg_data_select'\n",
       "43. 'plot_gains'\n",
       "44. 'plot_multigains'\n",
       "45. 'plot_multigains_file'\n",
       "46. 'plot_multigains_res'\n",
       "47. 'pred_agg_glm'\n",
       "48. 'pred_agg_rf'\n",
       "49. 'pred_seg_glm'\n",
       "50. 'pred_seg_rf'\n",
       "51. 'pred_seg2_glm'\n",
       "52. 'pred_seg2_rf'\n",
       "53. 'predict_first_renewal'\n",
       "54. 'predict_first_renewal_agg'\n",
       "55. 'predict_first_renewal_agg_plus'\n",
       "56. 'predict_first_renewal_reg'\n",
       "57. 'predict_second_renewal'\n",
       "58. 'prep_domain_data'\n",
       "59. 'reseller_list'\n",
       "60. 'reseller_str'\n",
       "61. 'sample_fraction'\n",
       "62. 'save_object'\n",
       "63. 'subDir'\n",
       "64. 'test_list'\n",
       "65. 'tld_reseller_list'\n",
       "66. 'tld_reseller_str'\n",
       "67. 'train_agg_glm'\n",
       "68. 'train_agg_rf'\n",
       "69. 'train_all'\n",
       "70. 'train_df_tld_reseller'\n",
       "71. 'train_list'\n",
       "72. 'train_list_tld_reseller'\n",
       "73. 'train_seg_glm'\n",
       "74. 'train_seg_rf'\n",
       "75. 'train_seg2_glm'\n",
       "76. 'train_seg2_rf'\n",
       "77. 'unzip.file'\n",
       "\n",
       "\n"
      ],
      "text/plain": [
       " [1] \"apply_standard_adjustments\"         \"basic_prep_domain_data\"            \n",
       " [3] \"build_model_first_renewal\"          \"build_model_first_renewal_agg\"     \n",
       " [5] \"build_model_first_renewal_agg_plus\" \"build_model_first_renewal_reg\"     \n",
       " [7] \"build_model_second_renewal\"         \"calc_auc\"                          \n",
       " [9] \"change.colnames\"                    \"chart_lift\"                        \n",
       "[11] \"expiry_test_df_1\"                   \"expiry_test_df_sub\"                \n",
       "[13] \"expiry_test_prepped_2\"              \"expiry_test_prepped_2_1\"           \n",
       "[15] \"expiry_train_df_1\"                  \"expiry_train_df_sub\"               \n",
       "[17] \"expiry_train_prepped_2\"             \"expiry_train_prepped_2_1\"          \n",
       "[19] \"fullDir\"                            \"get_cluster_data\"                  \n",
       "[21] \"get_cluster_large\"                  \"get_df_npv\"                        \n",
       "[23] \"get_domain_npv\"                     \"get_domain_type\"                   \n",
       "[25] \"get_pattern_score\"                  \"get_renewal_status\"                \n",
       "[27] \"intersect2\"                         \"list_predict_first_renewal\"        \n",
       "[29] \"list_predict_second_renewal\"        \"mass_build_model_first_renewal\"    \n",
       "[31] \"mass_build_model_second_renewal\"    \"mass_predict_first_renewal\"        \n",
       "[33] \"mass_predict_second_renewal\"        \"mass_prep_data\"                    \n",
       "[35] \"model\"                              \"model_agg_glm\"                     \n",
       "[37] \"model_agg_rf\"                       \"model_name\"                        \n",
       "[39] \"na.zero\"                            \"newreg_data_prep\"                  \n",
       "[41] \"newreg_data_rename\"                 \"newreg_data_select\"                \n",
       "[43] \"plot_gains\"                         \"plot_multigains\"                   \n",
       "[45] \"plot_multigains_file\"               \"plot_multigains_res\"               \n",
       "[47] \"pred_agg_glm\"                       \"pred_agg_rf\"                       \n",
       "[49] \"pred_seg_glm\"                       \"pred_seg_rf\"                       \n",
       "[51] \"pred_seg2_glm\"                      \"pred_seg2_rf\"                      \n",
       "[53] \"predict_first_renewal\"              \"predict_first_renewal_agg\"         \n",
       "[55] \"predict_first_renewal_agg_plus\"     \"predict_first_renewal_reg\"         \n",
       "[57] \"predict_second_renewal\"             \"prep_domain_data\"                  \n",
       "[59] \"reseller_list\"                      \"reseller_str\"                      \n",
       "[61] \"sample_fraction\"                    \"save_object\"                       \n",
       "[63] \"subDir\"                             \"test_list\"                         \n",
       "[65] \"tld_reseller_list\"                  \"tld_reseller_str\"                  \n",
       "[67] \"train_agg_glm\"                      \"train_agg_rf\"                      \n",
       "[69] \"train_all\"                          \"train_df_tld_reseller\"             \n",
       "[71] \"train_list\"                         \"train_list_tld_reseller\"           \n",
       "[73] \"train_seg_glm\"                      \"train_seg_rf\"                      \n",
       "[75] \"train_seg2_glm\"                     \"train_seg2_rf\"                     \n",
       "[77] \"unzip.file\"                        "
      ]
     },
     "metadata": {},
     "output_type": "display_data"
    }
   ],
   "source": [
    "# list & remove R model objects so we can test load()\n",
    "ls(pattern='^model_seg')\n",
    "rm(list=ls(pattern='^model_seg'))\n",
    "ls()"
   ]
  },
  {
   "cell_type": "code",
   "execution_count": 141,
   "metadata": {},
   "outputs": [
    {
     "data": {
      "text/html": [
       "<ol>\n",
       "\t<li>'model_seg_glm_10dencehispahard'</li>\n",
       "\t<li>'model_seg_glm_11internet'</li>\n",
       "\t<li>'model_seg_glm_1api'</li>\n",
       "\t<li>'model_seg_glm_abnameisp'</li>\n",
       "\t<li>'model_seg_glm_active24'</li>\n",
       "</ol>\n"
      ],
      "text/latex": [
       "\\begin{enumerate}\n",
       "\\item 'model\\_seg\\_glm\\_10dencehispahard'\n",
       "\\item 'model\\_seg\\_glm\\_11internet'\n",
       "\\item 'model\\_seg\\_glm\\_1api'\n",
       "\\item 'model\\_seg\\_glm\\_abnameisp'\n",
       "\\item 'model\\_seg\\_glm\\_active24'\n",
       "\\end{enumerate}\n"
      ],
      "text/markdown": [
       "1. 'model_seg_glm_10dencehispahard'\n",
       "2. 'model_seg_glm_11internet'\n",
       "3. 'model_seg_glm_1api'\n",
       "4. 'model_seg_glm_abnameisp'\n",
       "5. 'model_seg_glm_active24'\n",
       "\n",
       "\n"
      ],
      "text/plain": [
       "[[1]]\n",
       "[1] \"model_seg_glm_10dencehispahard\"\n",
       "\n",
       "[[2]]\n",
       "[1] \"model_seg_glm_11internet\"\n",
       "\n",
       "[[3]]\n",
       "[1] \"model_seg_glm_1api\"\n",
       "\n",
       "[[4]]\n",
       "[1] \"model_seg_glm_abnameisp\"\n",
       "\n",
       "[[5]]\n",
       "[1] \"model_seg_glm_active24\"\n"
      ]
     },
     "metadata": {},
     "output_type": "display_data"
    }
   ],
   "source": [
    "# load all seg_glm objects into memory\n",
    "lapply(Sys.glob(file.path(fullDir,'model_seg_glm_*')),load,.GlobalEnv)"
   ]
  },
  {
   "cell_type": "code",
   "execution_count": 142,
   "metadata": {},
   "outputs": [
    {
     "data": {
      "text/html": [
       "<style>\n",
       ".list-inline {list-style: none; margin:0; padding: 0}\n",
       ".list-inline>li {display: inline-block}\n",
       ".list-inline>li:not(:last-child)::after {content: \"\\00b7\"; padding: 0 .5ex}\n",
       "</style>\n",
       "<ol class=list-inline><li>'model_seg_glm_10dencehispahard'</li><li>'model_seg_glm_11internet'</li><li>'model_seg_glm_1api'</li><li>'model_seg_glm_abnameisp'</li><li>'model_seg_glm_active24'</li><li>'model_seg_glm_fun11internet'</li></ol>\n"
      ],
      "text/latex": [
       "\\begin{enumerate*}\n",
       "\\item 'model\\_seg\\_glm\\_10dencehispahard'\n",
       "\\item 'model\\_seg\\_glm\\_11internet'\n",
       "\\item 'model\\_seg\\_glm\\_1api'\n",
       "\\item 'model\\_seg\\_glm\\_abnameisp'\n",
       "\\item 'model\\_seg\\_glm\\_active24'\n",
       "\\item 'model\\_seg\\_glm\\_fun11internet'\n",
       "\\end{enumerate*}\n"
      ],
      "text/markdown": [
       "1. 'model_seg_glm_10dencehispahard'\n",
       "2. 'model_seg_glm_11internet'\n",
       "3. 'model_seg_glm_1api'\n",
       "4. 'model_seg_glm_abnameisp'\n",
       "5. 'model_seg_glm_active24'\n",
       "6. 'model_seg_glm_fun11internet'\n",
       "\n",
       "\n"
      ],
      "text/plain": [
       "[1] \"model_seg_glm_10dencehispahard\" \"model_seg_glm_11internet\"      \n",
       "[3] \"model_seg_glm_1api\"             \"model_seg_glm_abnameisp\"       \n",
       "[5] \"model_seg_glm_active24\"         \"model_seg_glm_fun11internet\"   "
      ]
     },
     "metadata": {},
     "output_type": "display_data"
    }
   ],
   "source": [
    "ls(pattern='^model_seg')"
   ]
  },
  {
   "cell_type": "code",
   "execution_count": 159,
   "metadata": {},
   "outputs": [
    {
     "data": {
      "text/html": [
       "'model_seg_glm_11internet'"
      ],
      "text/latex": [
       "'model\\_seg\\_glm\\_11internet'"
      ],
      "text/markdown": [
       "'model_seg_glm_11internet'"
      ],
      "text/plain": [
       "[1] \"model_seg_glm_11internet\""
      ]
     },
     "metadata": {},
     "output_type": "display_data"
    }
   ],
   "source": [
    "model_name <- paste0('model_seg_glm_',str_replace_all(reseller_str, \"[^[:alnum:]]\", \"\"))\n",
    "model_name"
   ]
  },
  {
   "cell_type": "code",
   "execution_count": 171,
   "metadata": {},
   "outputs": [
    {
     "data": {
      "text/plain": [
       "\n",
       "Call:  glm(formula = renewal_status ~ ., family = binomial(link = \"logit\"), \n",
       "    data = build_data, model = FALSE, y = FALSE)\n",
       "\n",
       "Coefficients:\n",
       "         (Intercept)  pattern_domain_count          log_reg_arpt  \n",
       "            2.221461             -0.187971              0.022872  \n",
       "          sld_length             sld_typel            sld_typeln  \n",
       "           -0.038738             -0.399963             -0.742730  \n",
       "   sld_typehyphen-ln           sld_typeidn             sld_typen  \n",
       "           -0.596912              0.084214             -1.885978  \n",
       "         day_domains            gibb_score            reg_period  \n",
       "           -0.004669              0.013288             -0.091999  \n",
       "             tldhost             tldonline              tldpress  \n",
       "          -13.942045             -1.046547             -1.327404  \n",
       "             tldsite              tldspace              tldstore  \n",
       "           -2.478357             -2.002977             -1.089458  \n",
       "             tldtech            tldwebsite  \n",
       "           -0.842179             -1.165685  \n",
       "\n",
       "Degrees of Freedom: 9339 Total (i.e. Null);  9320 Residual\n",
       "Null Deviance:\t    12830 \n",
       "Residual Deviance: 12440 \tAIC: 12480"
      ]
     },
     "metadata": {},
     "output_type": "display_data"
    }
   ],
   "source": [
    "model_seg_glm_11internet"
   ]
  },
  {
   "cell_type": "code",
   "execution_count": 162,
   "metadata": {},
   "outputs": [],
   "source": [
    "model <- mget(model_name)"
   ]
  },
  {
   "cell_type": "code",
   "execution_count": 163,
   "metadata": {},
   "outputs": [
    {
     "data": {
      "text/plain": [
       "$model_seg_glm_11internet\n",
       "\n",
       "Call:  glm(formula = renewal_status ~ ., family = binomial(link = \"logit\"), \n",
       "    data = build_data, model = FALSE, y = FALSE)\n",
       "\n",
       "Coefficients:\n",
       "         (Intercept)  pattern_domain_count          log_reg_arpt  \n",
       "            2.221461             -0.187971              0.022872  \n",
       "          sld_length             sld_typel            sld_typeln  \n",
       "           -0.038738             -0.399963             -0.742730  \n",
       "   sld_typehyphen-ln           sld_typeidn             sld_typen  \n",
       "           -0.596912              0.084214             -1.885978  \n",
       "         day_domains            gibb_score            reg_period  \n",
       "           -0.004669              0.013288             -0.091999  \n",
       "             tldhost             tldonline              tldpress  \n",
       "          -13.942045             -1.046547             -1.327404  \n",
       "             tldsite              tldspace              tldstore  \n",
       "           -2.478357             -2.002977             -1.089458  \n",
       "             tldtech            tldwebsite  \n",
       "           -0.842179             -1.165685  \n",
       "\n",
       "Degrees of Freedom: 9339 Total (i.e. Null);  9320 Residual\n",
       "Null Deviance:\t    12830 \n",
       "Residual Deviance: 12440 \tAIC: 12480\n"
      ]
     },
     "metadata": {},
     "output_type": "display_data"
    }
   ],
   "source": [
    "model"
   ]
  },
  {
   "cell_type": "code",
   "execution_count": 170,
   "metadata": {},
   "outputs": [
    {
     "name": "stdout",
     "output_type": "stream",
     "text": [
      "[1] \"fun1&1 internet\"\n"
     ]
    },
    {
     "ename": "ERROR",
     "evalue": "Error: value for ‘model_seg_glm_11internet’ not found\n",
     "output_type": "error",
     "traceback": [
      "Error: value for ‘model_seg_glm_11internet’ not found\nTraceback:\n",
      "1. lapply(tld_reseller_list, function(reseller_str) pred_seg_glm(test_list, \n .     tld_reseller_str))",
      "2. FUN(X[[i]], ...)",
      "3. pred_seg_glm(test_list, tld_reseller_str)   # at line 2-4 of file <text>",
      "4. mget(model_name)",
      "5. (function (x) \n . stop(gettextf(\"value for %s not found\", sQuote(x)), call. = FALSE))(\"model_seg_glm_11internet\")",
      "6. stop(gettextf(\"value for %s not found\", sQuote(x)), call. = FALSE)"
     ]
    }
   ],
   "source": [
    "preds_seg_glm = lapply(tld_reseller_list, \n",
    "           function(reseller_str) pred_seg_glm(\n",
    "               test_list, \n",
    "               tld_reseller_str)\n",
    "           )"
   ]
  },
  {
   "cell_type": "code",
   "execution_count": 183,
   "metadata": {},
   "outputs": [],
   "source": [
    "tld_reseller_str=\"fun1&1 internet\""
   ]
  },
  {
   "cell_type": "code",
   "execution_count": 184,
   "metadata": {},
   "outputs": [
    {
     "name": "stdout",
     "output_type": "stream",
     "text": [
      "[1] \"fun1&1 internet\"\n"
     ]
    },
    {
     "data": {
      "text/html": [
       "<table>\n",
       "<caption>A data.table: 2 × 39</caption>\n",
       "<thead>\n",
       "\t<tr><th scope=col>renewal_type</th><th scope=col>renewed_count</th><th scope=col>expiry_date</th><th scope=col>domain_id</th><th scope=col>domain</th><th scope=col>creation_date</th><th scope=col>status</th><th scope=col>tld</th><th scope=col>registrar</th><th scope=col>reseller</th><th scope=col>reseller_country</th><th scope=col>region</th><th scope=col>reg_period</th><th scope=col>registrant_country</th><th scope=col>renewal_status</th><th scope=col>renew_mbg</th><th scope=col>renew_type</th><th scope=col>autorenew_type</th><th scope=col>renew_date</th><th scope=col>renew_registrar</th><th scope=col>renew_reseller</th><th scope=col>reg_revenue</th><th scope=col>reg_arpt</th><th scope=col>renew_period</th><th scope=col>renew_domain_revenue</th><th scope=col>renew_arpt</th><th scope=col>reg_arpt_org</th><th scope=col>tld_registrar_index</th><th scope=col>sld</th><th scope=col>sld_type</th><th scope=col>sld_length</th><th scope=col>sld_type2</th><th scope=col>day_domains</th><th scope=col>log_reg_arpt</th><th scope=col>gibb_score</th><th scope=col>pattern</th><th scope=col>cluster</th><th scope=col>pattern_score</th><th scope=col>pattern_domain_count</th></tr>\n",
       "\t<tr><th scope=col>&lt;chr&gt;</th><th scope=col>&lt;int&gt;</th><th scope=col>&lt;date&gt;</th><th scope=col>&lt;int&gt;</th><th scope=col>&lt;chr&gt;</th><th scope=col>&lt;date&gt;</th><th scope=col>&lt;chr&gt;</th><th scope=col>&lt;fct&gt;</th><th scope=col>&lt;chr&gt;</th><th scope=col>&lt;chr&gt;</th><th scope=col>&lt;chr&gt;</th><th scope=col>&lt;chr&gt;</th><th scope=col>&lt;int&gt;</th><th scope=col>&lt;chr&gt;</th><th scope=col>&lt;fct&gt;</th><th scope=col>&lt;int&gt;</th><th scope=col>&lt;chr&gt;</th><th scope=col>&lt;chr&gt;</th><th scope=col>&lt;date&gt;</th><th scope=col>&lt;chr&gt;</th><th scope=col>&lt;chr&gt;</th><th scope=col>&lt;dbl&gt;</th><th scope=col>&lt;dbl&gt;</th><th scope=col>&lt;int&gt;</th><th scope=col>&lt;dbl&gt;</th><th scope=col>&lt;dbl&gt;</th><th scope=col>&lt;dbl&gt;</th><th scope=col>&lt;chr&gt;</th><th scope=col>&lt;chr&gt;</th><th scope=col>&lt;fct&gt;</th><th scope=col>&lt;int&gt;</th><th scope=col>&lt;chr&gt;</th><th scope=col>&lt;int&gt;</th><th scope=col>&lt;dbl&gt;</th><th scope=col>&lt;dbl&gt;</th><th scope=col>&lt;chr&gt;</th><th scope=col>&lt;dbl&gt;</th><th scope=col>&lt;dbl&gt;</th><th scope=col>&lt;int&gt;</th></tr>\n",
       "</thead>\n",
       "<tbody>\n",
       "\t<tr><td>FirstTime</td><td>1</td><td>2020-01-22</td><td>91639803</td><td><span style=white-space:pre-wrap>segeln.fun   </span></td><td>2019-01-22</td><td>Active</td><td>fun</td><td>1&amp;1 internet</td><td>1&amp;1 internet</td><td>Germany</td><td>Non China</td><td>1</td><td>NA</td><td>Renewed</td><td>0</td><td>auto-renewal</td><td>realized</td><td>2020-01-22</td><td>1&amp;1 Internet</td><td>1&amp;1 Internet</td><td>15</td><td>15</td><td>1</td><td>15</td><td>15</td><td>15</td><td>fun1&amp;1 internet</td><td><span style=white-space:pre-wrap>segeln   </span></td><td>l</td><td>6</td><td>6l</td><td>1</td><td>2.70805</td><td>2.23</td><td><span style=white-space:pre-wrap>segeln   </span></td><td>1</td><td>1</td><td>1</td></tr>\n",
       "\t<tr><td>FirstTime</td><td>1</td><td>2020-03-07</td><td>95819759</td><td>harzhotel.fun</td><td>2019-03-07</td><td>Active</td><td>fun</td><td>1&amp;1 internet</td><td>1&amp;1 internet</td><td>Germany</td><td>Non China</td><td>1</td><td>NA</td><td>Renewed</td><td>0</td><td>auto-renewal</td><td>realized</td><td>2020-03-07</td><td>1&amp;1 Internet</td><td>1&amp;1 Internet</td><td>15</td><td>15</td><td>1</td><td>15</td><td>15</td><td>15</td><td>fun1&amp;1 internet</td><td>harzhotel</td><td>l</td><td>9</td><td>9l</td><td>1</td><td>2.70805</td><td>3.45</td><td>harzhotel</td><td>1</td><td>1</td><td>1</td></tr>\n",
       "</tbody>\n",
       "</table>\n"
      ],
      "text/latex": [
       "A data.table: 2 × 39\n",
       "\\begin{tabular}{lllllllllllllllllllllllllllllllllllllll}\n",
       " renewal\\_type & renewed\\_count & expiry\\_date & domain\\_id & domain & creation\\_date & status & tld & registrar & reseller & reseller\\_country & region & reg\\_period & registrant\\_country & renewal\\_status & renew\\_mbg & renew\\_type & autorenew\\_type & renew\\_date & renew\\_registrar & renew\\_reseller & reg\\_revenue & reg\\_arpt & renew\\_period & renew\\_domain\\_revenue & renew\\_arpt & reg\\_arpt\\_org & tld\\_registrar\\_index & sld & sld\\_type & sld\\_length & sld\\_type2 & day\\_domains & log\\_reg\\_arpt & gibb\\_score & pattern & cluster & pattern\\_score & pattern\\_domain\\_count\\\\\n",
       " <chr> & <int> & <date> & <int> & <chr> & <date> & <chr> & <fct> & <chr> & <chr> & <chr> & <chr> & <int> & <chr> & <fct> & <int> & <chr> & <chr> & <date> & <chr> & <chr> & <dbl> & <dbl> & <int> & <dbl> & <dbl> & <dbl> & <chr> & <chr> & <fct> & <int> & <chr> & <int> & <dbl> & <dbl> & <chr> & <dbl> & <dbl> & <int>\\\\\n",
       "\\hline\n",
       "\t FirstTime & 1 & 2020-01-22 & 91639803 & segeln.fun    & 2019-01-22 & Active & fun & 1\\&1 internet & 1\\&1 internet & Germany & Non China & 1 & NA & Renewed & 0 & auto-renewal & realized & 2020-01-22 & 1\\&1 Internet & 1\\&1 Internet & 15 & 15 & 1 & 15 & 15 & 15 & fun1\\&1 internet & segeln    & l & 6 & 6l & 1 & 2.70805 & 2.23 & segeln    & 1 & 1 & 1\\\\\n",
       "\t FirstTime & 1 & 2020-03-07 & 95819759 & harzhotel.fun & 2019-03-07 & Active & fun & 1\\&1 internet & 1\\&1 internet & Germany & Non China & 1 & NA & Renewed & 0 & auto-renewal & realized & 2020-03-07 & 1\\&1 Internet & 1\\&1 Internet & 15 & 15 & 1 & 15 & 15 & 15 & fun1\\&1 internet & harzhotel & l & 9 & 9l & 1 & 2.70805 & 3.45 & harzhotel & 1 & 1 & 1\\\\\n",
       "\\end{tabular}\n"
      ],
      "text/markdown": [
       "\n",
       "A data.table: 2 × 39\n",
       "\n",
       "| renewal_type &lt;chr&gt; | renewed_count &lt;int&gt; | expiry_date &lt;date&gt; | domain_id &lt;int&gt; | domain &lt;chr&gt; | creation_date &lt;date&gt; | status &lt;chr&gt; | tld &lt;fct&gt; | registrar &lt;chr&gt; | reseller &lt;chr&gt; | reseller_country &lt;chr&gt; | region &lt;chr&gt; | reg_period &lt;int&gt; | registrant_country &lt;chr&gt; | renewal_status &lt;fct&gt; | renew_mbg &lt;int&gt; | renew_type &lt;chr&gt; | autorenew_type &lt;chr&gt; | renew_date &lt;date&gt; | renew_registrar &lt;chr&gt; | renew_reseller &lt;chr&gt; | reg_revenue &lt;dbl&gt; | reg_arpt &lt;dbl&gt; | renew_period &lt;int&gt; | renew_domain_revenue &lt;dbl&gt; | renew_arpt &lt;dbl&gt; | reg_arpt_org &lt;dbl&gt; | tld_registrar_index &lt;chr&gt; | sld &lt;chr&gt; | sld_type &lt;fct&gt; | sld_length &lt;int&gt; | sld_type2 &lt;chr&gt; | day_domains &lt;int&gt; | log_reg_arpt &lt;dbl&gt; | gibb_score &lt;dbl&gt; | pattern &lt;chr&gt; | cluster &lt;dbl&gt; | pattern_score &lt;dbl&gt; | pattern_domain_count &lt;int&gt; |\n",
       "|---|---|---|---|---|---|---|---|---|---|---|---|---|---|---|---|---|---|---|---|---|---|---|---|---|---|---|---|---|---|---|---|---|---|---|---|---|---|---|\n",
       "| FirstTime | 1 | 2020-01-22 | 91639803 | segeln.fun    | 2019-01-22 | Active | fun | 1&amp;1 internet | 1&amp;1 internet | Germany | Non China | 1 | NA | Renewed | 0 | auto-renewal | realized | 2020-01-22 | 1&amp;1 Internet | 1&amp;1 Internet | 15 | 15 | 1 | 15 | 15 | 15 | fun1&amp;1 internet | segeln    | l | 6 | 6l | 1 | 2.70805 | 2.23 | segeln    | 1 | 1 | 1 |\n",
       "| FirstTime | 1 | 2020-03-07 | 95819759 | harzhotel.fun | 2019-03-07 | Active | fun | 1&amp;1 internet | 1&amp;1 internet | Germany | Non China | 1 | NA | Renewed | 0 | auto-renewal | realized | 2020-03-07 | 1&amp;1 Internet | 1&amp;1 Internet | 15 | 15 | 1 | 15 | 15 | 15 | fun1&amp;1 internet | harzhotel | l | 9 | 9l | 1 | 2.70805 | 3.45 | harzhotel | 1 | 1 | 1 |\n",
       "\n"
      ],
      "text/plain": [
       "  renewal_type renewed_count expiry_date domain_id domain        creation_date\n",
       "1 FirstTime    1             2020-01-22  91639803  segeln.fun    2019-01-22   \n",
       "2 FirstTime    1             2020-03-07  95819759  harzhotel.fun 2019-03-07   \n",
       "  status tld registrar    reseller     reseller_country region    reg_period\n",
       "1 Active fun 1&1 internet 1&1 internet Germany          Non China 1         \n",
       "2 Active fun 1&1 internet 1&1 internet Germany          Non China 1         \n",
       "  registrant_country renewal_status renew_mbg renew_type   autorenew_type\n",
       "1 NA                 Renewed        0         auto-renewal realized      \n",
       "2 NA                 Renewed        0         auto-renewal realized      \n",
       "  renew_date renew_registrar renew_reseller reg_revenue reg_arpt renew_period\n",
       "1 2020-01-22 1&1 Internet    1&1 Internet   15          15       1           \n",
       "2 2020-03-07 1&1 Internet    1&1 Internet   15          15       1           \n",
       "  renew_domain_revenue renew_arpt reg_arpt_org tld_registrar_index sld      \n",
       "1 15                   15         15           fun1&1 internet     segeln   \n",
       "2 15                   15         15           fun1&1 internet     harzhotel\n",
       "  sld_type sld_length sld_type2 day_domains log_reg_arpt gibb_score pattern  \n",
       "1 l        6          6l        1           2.70805      2.23       segeln   \n",
       "2 l        9          9l        1           2.70805      3.45       harzhotel\n",
       "  cluster pattern_score pattern_domain_count\n",
       "1 1       1             1                   \n",
       "2 1       1             1                   "
      ]
     },
     "metadata": {},
     "output_type": "display_data"
    }
   ],
   "source": [
    "print(tld_reseller_str)\n",
    "test_list_tld_reseller = test_list[tld_reseller_str]\n",
    "test_df_tld_reseller =  rbindlist(test_list_tld_reseller,use.names=TRUE)    \n",
    "test_df_tld_reseller"
   ]
  },
  {
   "cell_type": "code",
   "execution_count": 186,
   "metadata": {},
   "outputs": [
    {
     "data": {
      "text/html": [
       "'1&amp;1 internet'"
      ],
      "text/latex": [
       "'1\\&1 internet'"
      ],
      "text/markdown": [
       "'1&amp;1 internet'"
      ],
      "text/plain": [
       "[1] \"1&1 internet\""
      ]
     },
     "metadata": {},
     "output_type": "display_data"
    }
   ],
   "source": [
    "reseller_str = test_df_tld_reseller %>% filter(tld_registrar_index==tld_reseller_str) %>% \n",
    "   distinct(reseller) %>% pull(reseller)\n",
    "reseller_str"
   ]
  },
  {
   "cell_type": "code",
   "execution_count": 187,
   "metadata": {},
   "outputs": [
    {
     "data": {
      "text/html": [
       "'model_seg_glm_11internet'"
      ],
      "text/latex": [
       "'model\\_seg\\_glm\\_11internet'"
      ],
      "text/markdown": [
       "'model_seg_glm_11internet'"
      ],
      "text/plain": [
       "[1] \"model_seg_glm_11internet\""
      ]
     },
     "metadata": {},
     "output_type": "display_data"
    }
   ],
   "source": [
    "model_name <- paste0('model_seg_glm_',str_replace_all(reseller_str, \"[^[:alnum:]]\", \"\"))\n",
    "model_name"
   ]
  },
  {
   "cell_type": "code",
   "execution_count": 188,
   "metadata": {},
   "outputs": [
    {
     "data": {
      "text/plain": [
       "\n",
       "Call:  glm(formula = renewal_status ~ ., family = binomial(link = \"logit\"), \n",
       "    data = build_data, model = FALSE, y = FALSE)\n",
       "\n",
       "Coefficients:\n",
       "         (Intercept)  pattern_domain_count          log_reg_arpt  \n",
       "            2.221461             -0.187971              0.022872  \n",
       "          sld_length             sld_typel            sld_typeln  \n",
       "           -0.038738             -0.399963             -0.742730  \n",
       "   sld_typehyphen-ln           sld_typeidn             sld_typen  \n",
       "           -0.596912              0.084214             -1.885978  \n",
       "         day_domains            gibb_score            reg_period  \n",
       "           -0.004669              0.013288             -0.091999  \n",
       "             tldhost             tldonline              tldpress  \n",
       "          -13.942045             -1.046547             -1.327404  \n",
       "             tldsite              tldspace              tldstore  \n",
       "           -2.478357             -2.002977             -1.089458  \n",
       "             tldtech            tldwebsite  \n",
       "           -0.842179             -1.165685  \n",
       "\n",
       "Degrees of Freedom: 9339 Total (i.e. Null);  9320 Residual\n",
       "Null Deviance:\t    12830 \n",
       "Residual Deviance: 12440 \tAIC: 12480"
      ]
     },
     "metadata": {},
     "output_type": "display_data"
    }
   ],
   "source": [
    "model_seg_glm_11internet"
   ]
  },
  {
   "cell_type": "code",
   "execution_count": 189,
   "metadata": {},
   "outputs": [],
   "source": [
    "model <- mget(model_name)"
   ]
  },
  {
   "cell_type": "code",
   "execution_count": 197,
   "metadata": {},
   "outputs": [],
   "source": [
    "model2 <- get(model_name)"
   ]
  },
  {
   "cell_type": "code",
   "execution_count": 198,
   "metadata": {},
   "outputs": [
    {
     "data": {
      "text/plain": [
       "\n",
       "Call:  glm(formula = renewal_status ~ ., family = binomial(link = \"logit\"), \n",
       "    data = build_data, model = FALSE, y = FALSE)\n",
       "\n",
       "Coefficients:\n",
       "         (Intercept)  pattern_domain_count          log_reg_arpt  \n",
       "            2.221461             -0.187971              0.022872  \n",
       "          sld_length             sld_typel            sld_typeln  \n",
       "           -0.038738             -0.399963             -0.742730  \n",
       "   sld_typehyphen-ln           sld_typeidn             sld_typen  \n",
       "           -0.596912              0.084214             -1.885978  \n",
       "         day_domains            gibb_score            reg_period  \n",
       "           -0.004669              0.013288             -0.091999  \n",
       "             tldhost             tldonline              tldpress  \n",
       "          -13.942045             -1.046547             -1.327404  \n",
       "             tldsite              tldspace              tldstore  \n",
       "           -2.478357             -2.002977             -1.089458  \n",
       "             tldtech            tldwebsite  \n",
       "           -0.842179             -1.165685  \n",
       "\n",
       "Degrees of Freedom: 9339 Total (i.e. Null);  9320 Residual\n",
       "Null Deviance:\t    12830 \n",
       "Residual Deviance: 12440 \tAIC: 12480"
      ]
     },
     "metadata": {},
     "output_type": "display_data"
    }
   ],
   "source": [
    "model2"
   ]
  },
  {
   "cell_type": "code",
   "execution_count": 191,
   "metadata": {},
   "outputs": [],
   "source": [
    "# if test data contains no observations, skip!\n",
    "if (dim(test_df_tld_reseller)[1]==0){\n",
    "    pred_df_seg_glm = NA\n",
    "} else {\n",
    "\n",
    "\n",
    "    pred = predict_first_renewal_reg(test_df_tld_reseller, model)\n",
    "\n",
    "    pred_df_seg_glm = data.frame(\"actual\" = pred$renewal_status,\n",
    "                                  \"predicted\" = pred$first_renewal_prediction)\n",
    "} "
   ]
  },
  {
   "cell_type": "code",
   "execution_count": 192,
   "metadata": {},
   "outputs": [
    {
     "data": {
      "text/html": [
       "<table>\n",
       "<caption>A data.table: 2 × 41</caption>\n",
       "<thead>\n",
       "\t<tr><th scope=col>renewal_type</th><th scope=col>renewed_count</th><th scope=col>expiry_date</th><th scope=col>domain_id</th><th scope=col>domain</th><th scope=col>creation_date</th><th scope=col>status</th><th scope=col>tld</th><th scope=col>registrar</th><th scope=col>reseller</th><th scope=col>reseller_country</th><th scope=col>region</th><th scope=col>reg_period</th><th scope=col>registrant_country</th><th scope=col>renewal_status</th><th scope=col>renew_mbg</th><th scope=col>renew_type</th><th scope=col>autorenew_type</th><th scope=col>renew_date</th><th scope=col>renew_registrar</th><th scope=col>renew_reseller</th><th scope=col>reg_revenue</th><th scope=col>reg_arpt</th><th scope=col>renew_period</th><th scope=col>renew_domain_revenue</th><th scope=col>renew_arpt</th><th scope=col>reg_arpt_org</th><th scope=col>tld_registrar_index</th><th scope=col>sld</th><th scope=col>sld_type</th><th scope=col>sld_length</th><th scope=col>sld_type2</th><th scope=col>day_domains</th><th scope=col>log_reg_arpt</th><th scope=col>gibb_score</th><th scope=col>pattern</th><th scope=col>cluster</th><th scope=col>pattern_score</th><th scope=col>pattern_domain_count</th><th scope=col>probabilities</th><th scope=col>first_renewal_prediction</th></tr>\n",
       "\t<tr><th scope=col>&lt;chr&gt;</th><th scope=col>&lt;int&gt;</th><th scope=col>&lt;date&gt;</th><th scope=col>&lt;int&gt;</th><th scope=col>&lt;chr&gt;</th><th scope=col>&lt;date&gt;</th><th scope=col>&lt;chr&gt;</th><th scope=col>&lt;fct&gt;</th><th scope=col>&lt;chr&gt;</th><th scope=col>&lt;chr&gt;</th><th scope=col>&lt;chr&gt;</th><th scope=col>&lt;chr&gt;</th><th scope=col>&lt;int&gt;</th><th scope=col>&lt;chr&gt;</th><th scope=col>&lt;fct&gt;</th><th scope=col>&lt;int&gt;</th><th scope=col>&lt;chr&gt;</th><th scope=col>&lt;chr&gt;</th><th scope=col>&lt;date&gt;</th><th scope=col>&lt;chr&gt;</th><th scope=col>&lt;chr&gt;</th><th scope=col>&lt;dbl&gt;</th><th scope=col>&lt;dbl&gt;</th><th scope=col>&lt;int&gt;</th><th scope=col>&lt;dbl&gt;</th><th scope=col>&lt;dbl&gt;</th><th scope=col>&lt;dbl&gt;</th><th scope=col>&lt;chr&gt;</th><th scope=col>&lt;chr&gt;</th><th scope=col>&lt;fct&gt;</th><th scope=col>&lt;int&gt;</th><th scope=col>&lt;chr&gt;</th><th scope=col>&lt;int&gt;</th><th scope=col>&lt;dbl&gt;</th><th scope=col>&lt;dbl&gt;</th><th scope=col>&lt;chr&gt;</th><th scope=col>&lt;dbl&gt;</th><th scope=col>&lt;dbl&gt;</th><th scope=col>&lt;int&gt;</th><th scope=col>&lt;dbl&gt;</th><th scope=col>&lt;dbl&gt;</th></tr>\n",
       "</thead>\n",
       "<tbody>\n",
       "\t<tr><td>FirstTime</td><td>1</td><td>2020-01-22</td><td>91639803</td><td><span style=white-space:pre-wrap>segeln.fun   </span></td><td>2019-01-22</td><td>Active</td><td>fun</td><td>1&amp;1 internet</td><td>1&amp;1 internet</td><td>Germany</td><td>Non China</td><td>1</td><td>NA</td><td>Renewed</td><td>0</td><td>auto-renewal</td><td>realized</td><td>2020-01-22</td><td>1&amp;1 Internet</td><td>1&amp;1 Internet</td><td>15</td><td>15</td><td>1</td><td>15</td><td>15</td><td>15</td><td>fun1&amp;1 internet</td><td><span style=white-space:pre-wrap>segeln   </span></td><td>NA</td><td>6</td><td>6l</td><td>1</td><td>2.70805</td><td>2.23</td><td><span style=white-space:pre-wrap>segeln   </span></td><td>1</td><td>1</td><td>1</td><td>NA</td><td>NA</td></tr>\n",
       "\t<tr><td>FirstTime</td><td>1</td><td>2020-03-07</td><td>95819759</td><td>harzhotel.fun</td><td>2019-03-07</td><td>Active</td><td>fun</td><td>1&amp;1 internet</td><td>1&amp;1 internet</td><td>Germany</td><td>Non China</td><td>1</td><td>NA</td><td>Renewed</td><td>0</td><td>auto-renewal</td><td>realized</td><td>2020-03-07</td><td>1&amp;1 Internet</td><td>1&amp;1 Internet</td><td>15</td><td>15</td><td>1</td><td>15</td><td>15</td><td>15</td><td>fun1&amp;1 internet</td><td>harzhotel</td><td>NA</td><td>9</td><td>9l</td><td>1</td><td>2.70805</td><td>3.45</td><td>harzhotel</td><td>1</td><td>1</td><td>1</td><td>NA</td><td>NA</td></tr>\n",
       "</tbody>\n",
       "</table>\n"
      ],
      "text/latex": [
       "A data.table: 2 × 41\n",
       "\\begin{tabular}{lllllllllllllllllllllllllllllllllllllllll}\n",
       " renewal\\_type & renewed\\_count & expiry\\_date & domain\\_id & domain & creation\\_date & status & tld & registrar & reseller & reseller\\_country & region & reg\\_period & registrant\\_country & renewal\\_status & renew\\_mbg & renew\\_type & autorenew\\_type & renew\\_date & renew\\_registrar & renew\\_reseller & reg\\_revenue & reg\\_arpt & renew\\_period & renew\\_domain\\_revenue & renew\\_arpt & reg\\_arpt\\_org & tld\\_registrar\\_index & sld & sld\\_type & sld\\_length & sld\\_type2 & day\\_domains & log\\_reg\\_arpt & gibb\\_score & pattern & cluster & pattern\\_score & pattern\\_domain\\_count & probabilities & first\\_renewal\\_prediction\\\\\n",
       " <chr> & <int> & <date> & <int> & <chr> & <date> & <chr> & <fct> & <chr> & <chr> & <chr> & <chr> & <int> & <chr> & <fct> & <int> & <chr> & <chr> & <date> & <chr> & <chr> & <dbl> & <dbl> & <int> & <dbl> & <dbl> & <dbl> & <chr> & <chr> & <fct> & <int> & <chr> & <int> & <dbl> & <dbl> & <chr> & <dbl> & <dbl> & <int> & <dbl> & <dbl>\\\\\n",
       "\\hline\n",
       "\t FirstTime & 1 & 2020-01-22 & 91639803 & segeln.fun    & 2019-01-22 & Active & fun & 1\\&1 internet & 1\\&1 internet & Germany & Non China & 1 & NA & Renewed & 0 & auto-renewal & realized & 2020-01-22 & 1\\&1 Internet & 1\\&1 Internet & 15 & 15 & 1 & 15 & 15 & 15 & fun1\\&1 internet & segeln    & NA & 6 & 6l & 1 & 2.70805 & 2.23 & segeln    & 1 & 1 & 1 & NA & NA\\\\\n",
       "\t FirstTime & 1 & 2020-03-07 & 95819759 & harzhotel.fun & 2019-03-07 & Active & fun & 1\\&1 internet & 1\\&1 internet & Germany & Non China & 1 & NA & Renewed & 0 & auto-renewal & realized & 2020-03-07 & 1\\&1 Internet & 1\\&1 Internet & 15 & 15 & 1 & 15 & 15 & 15 & fun1\\&1 internet & harzhotel & NA & 9 & 9l & 1 & 2.70805 & 3.45 & harzhotel & 1 & 1 & 1 & NA & NA\\\\\n",
       "\\end{tabular}\n"
      ],
      "text/markdown": [
       "\n",
       "A data.table: 2 × 41\n",
       "\n",
       "| renewal_type &lt;chr&gt; | renewed_count &lt;int&gt; | expiry_date &lt;date&gt; | domain_id &lt;int&gt; | domain &lt;chr&gt; | creation_date &lt;date&gt; | status &lt;chr&gt; | tld &lt;fct&gt; | registrar &lt;chr&gt; | reseller &lt;chr&gt; | reseller_country &lt;chr&gt; | region &lt;chr&gt; | reg_period &lt;int&gt; | registrant_country &lt;chr&gt; | renewal_status &lt;fct&gt; | renew_mbg &lt;int&gt; | renew_type &lt;chr&gt; | autorenew_type &lt;chr&gt; | renew_date &lt;date&gt; | renew_registrar &lt;chr&gt; | renew_reseller &lt;chr&gt; | reg_revenue &lt;dbl&gt; | reg_arpt &lt;dbl&gt; | renew_period &lt;int&gt; | renew_domain_revenue &lt;dbl&gt; | renew_arpt &lt;dbl&gt; | reg_arpt_org &lt;dbl&gt; | tld_registrar_index &lt;chr&gt; | sld &lt;chr&gt; | sld_type &lt;fct&gt; | sld_length &lt;int&gt; | sld_type2 &lt;chr&gt; | day_domains &lt;int&gt; | log_reg_arpt &lt;dbl&gt; | gibb_score &lt;dbl&gt; | pattern &lt;chr&gt; | cluster &lt;dbl&gt; | pattern_score &lt;dbl&gt; | pattern_domain_count &lt;int&gt; | probabilities &lt;dbl&gt; | first_renewal_prediction &lt;dbl&gt; |\n",
       "|---|---|---|---|---|---|---|---|---|---|---|---|---|---|---|---|---|---|---|---|---|---|---|---|---|---|---|---|---|---|---|---|---|---|---|---|---|---|---|---|---|\n",
       "| FirstTime | 1 | 2020-01-22 | 91639803 | segeln.fun    | 2019-01-22 | Active | fun | 1&amp;1 internet | 1&amp;1 internet | Germany | Non China | 1 | NA | Renewed | 0 | auto-renewal | realized | 2020-01-22 | 1&amp;1 Internet | 1&amp;1 Internet | 15 | 15 | 1 | 15 | 15 | 15 | fun1&amp;1 internet | segeln    | NA | 6 | 6l | 1 | 2.70805 | 2.23 | segeln    | 1 | 1 | 1 | NA | NA |\n",
       "| FirstTime | 1 | 2020-03-07 | 95819759 | harzhotel.fun | 2019-03-07 | Active | fun | 1&amp;1 internet | 1&amp;1 internet | Germany | Non China | 1 | NA | Renewed | 0 | auto-renewal | realized | 2020-03-07 | 1&amp;1 Internet | 1&amp;1 Internet | 15 | 15 | 1 | 15 | 15 | 15 | fun1&amp;1 internet | harzhotel | NA | 9 | 9l | 1 | 2.70805 | 3.45 | harzhotel | 1 | 1 | 1 | NA | NA |\n",
       "\n"
      ],
      "text/plain": [
       "  renewal_type renewed_count expiry_date domain_id domain        creation_date\n",
       "1 FirstTime    1             2020-01-22  91639803  segeln.fun    2019-01-22   \n",
       "2 FirstTime    1             2020-03-07  95819759  harzhotel.fun 2019-03-07   \n",
       "  status tld registrar    reseller     reseller_country region    reg_period\n",
       "1 Active fun 1&1 internet 1&1 internet Germany          Non China 1         \n",
       "2 Active fun 1&1 internet 1&1 internet Germany          Non China 1         \n",
       "  registrant_country renewal_status renew_mbg renew_type   autorenew_type\n",
       "1 NA                 Renewed        0         auto-renewal realized      \n",
       "2 NA                 Renewed        0         auto-renewal realized      \n",
       "  renew_date renew_registrar renew_reseller reg_revenue reg_arpt renew_period\n",
       "1 2020-01-22 1&1 Internet    1&1 Internet   15          15       1           \n",
       "2 2020-03-07 1&1 Internet    1&1 Internet   15          15       1           \n",
       "  renew_domain_revenue renew_arpt reg_arpt_org tld_registrar_index sld      \n",
       "1 15                   15         15           fun1&1 internet     segeln   \n",
       "2 15                   15         15           fun1&1 internet     harzhotel\n",
       "  sld_type sld_length sld_type2 day_domains log_reg_arpt gibb_score pattern  \n",
       "1 NA       6          6l        1           2.70805      2.23       segeln   \n",
       "2 NA       9          9l        1           2.70805      3.45       harzhotel\n",
       "  cluster pattern_score pattern_domain_count probabilities\n",
       "1 1       1             1                    NA           \n",
       "2 1       1             1                    NA           \n",
       "  first_renewal_prediction\n",
       "1 NA                      \n",
       "2 NA                      "
      ]
     },
     "metadata": {},
     "output_type": "display_data"
    }
   ],
   "source": [
    "pred"
   ]
  },
  {
   "cell_type": "code",
   "execution_count": 193,
   "metadata": {},
   "outputs": [
    {
     "data": {
      "text/html": [
       "<table>\n",
       "<caption>A data.frame: 2 × 2</caption>\n",
       "<thead>\n",
       "\t<tr><th scope=col>actual</th><th scope=col>predicted</th></tr>\n",
       "\t<tr><th scope=col>&lt;fct&gt;</th><th scope=col>&lt;dbl&gt;</th></tr>\n",
       "</thead>\n",
       "<tbody>\n",
       "\t<tr><td>Renewed</td><td>NA</td></tr>\n",
       "\t<tr><td>Renewed</td><td>NA</td></tr>\n",
       "</tbody>\n",
       "</table>\n"
      ],
      "text/latex": [
       "A data.frame: 2 × 2\n",
       "\\begin{tabular}{ll}\n",
       " actual & predicted\\\\\n",
       " <fct> & <dbl>\\\\\n",
       "\\hline\n",
       "\t Renewed & NA\\\\\n",
       "\t Renewed & NA\\\\\n",
       "\\end{tabular}\n"
      ],
      "text/markdown": [
       "\n",
       "A data.frame: 2 × 2\n",
       "\n",
       "| actual &lt;fct&gt; | predicted &lt;dbl&gt; |\n",
       "|---|---|\n",
       "| Renewed | NA |\n",
       "| Renewed | NA |\n",
       "\n"
      ],
      "text/plain": [
       "  actual  predicted\n",
       "1 Renewed NA       \n",
       "2 Renewed NA       "
      ]
     },
     "metadata": {},
     "output_type": "display_data"
    }
   ],
   "source": [
    "pred_df_seg_glm"
   ]
  },
  {
   "cell_type": "code",
   "execution_count": 194,
   "metadata": {},
   "outputs": [],
   "source": [
    "pred_seg_glm <- function(test_list, tld_reseller_str) {\n",
    "    # seg glm (reseller-segmented glm (including tld as predictor))\n",
    "    \n",
    "    print(tld_reseller_str)\n",
    "    test_list_tld_reseller = test_list[tld_reseller_str]\n",
    "    test_df_tld_reseller =  rbindlist(test_list_tld_reseller,use.names=TRUE)    \n",
    "    reseller_str = test_df_tld_reseller %>% filter(tld_registrar_index==tld_reseller_str) %>% \n",
    "       distinct(reseller) %>% pull(reseller)\n",
    "    \n",
    "    model_name <- paste0('model_seg_glm_',str_replace_all(reseller_str, \"[^[:alnum:]]\", \"\"))\n",
    "    model <- mget(model_name)\n",
    "\n",
    "    # if test data contains no observations, skip!\n",
    "    if (dim(test_df_tld_reseller)[1]==0){\n",
    "        pred_df_seg_glm = NA\n",
    "    } else {\n",
    "\n",
    "\n",
    "        pred = predict_first_renewal_reg(test_df_tld_reseller, model)\n",
    "\n",
    "        pred_df_seg_glm = data.frame(\"actual\" = pred$renewal_status,\n",
    "                                      \"predicted\" = pred$first_renewal_prediction)\n",
    "    } \n",
    "    return(pred_df_seg_glm)\n",
    "}"
   ]
  },
  {
   "cell_type": "code",
   "execution_count": 195,
   "metadata": {},
   "outputs": [
    {
     "data": {
      "text/html": [
       "'fun1&amp;1 internet'"
      ],
      "text/latex": [
       "'fun1\\&1 internet'"
      ],
      "text/markdown": [
       "'fun1&amp;1 internet'"
      ],
      "text/plain": [
       "[1] \"fun1&1 internet\""
      ]
     },
     "metadata": {},
     "output_type": "display_data"
    }
   ],
   "source": [
    "tld_reseller_str"
   ]
  },
  {
   "cell_type": "code",
   "execution_count": 200,
   "metadata": {},
   "outputs": [
    {
     "name": "stdout",
     "output_type": "stream",
     "text": [
      "[1] \"fun1&1 internet\"\n"
     ]
    },
    {
     "name": "stderr",
     "output_type": "stream",
     "text": [
      "Warning message in if (is.na(model) | is.null(test_data)) {:\n",
      "“the condition has length > 1 and only the first element will be used”\n"
     ]
    }
   ],
   "source": [
    "test = pred_seg_glm(test_list, \n",
    "               tld_reseller_str)"
   ]
  },
  {
   "cell_type": "code",
   "execution_count": 201,
   "metadata": {},
   "outputs": [
    {
     "data": {
      "text/html": [
       "<table>\n",
       "<caption>A data.frame: 2 × 2</caption>\n",
       "<thead>\n",
       "\t<tr><th scope=col>actual</th><th scope=col>predicted</th></tr>\n",
       "\t<tr><th scope=col>&lt;fct&gt;</th><th scope=col>&lt;dbl&gt;</th></tr>\n",
       "</thead>\n",
       "<tbody>\n",
       "\t<tr><td>Renewed</td><td>0.802</td></tr>\n",
       "\t<tr><td>Renewed</td><td>0.785</td></tr>\n",
       "</tbody>\n",
       "</table>\n"
      ],
      "text/latex": [
       "A data.frame: 2 × 2\n",
       "\\begin{tabular}{ll}\n",
       " actual & predicted\\\\\n",
       " <fct> & <dbl>\\\\\n",
       "\\hline\n",
       "\t Renewed & 0.802\\\\\n",
       "\t Renewed & 0.785\\\\\n",
       "\\end{tabular}\n"
      ],
      "text/markdown": [
       "\n",
       "A data.frame: 2 × 2\n",
       "\n",
       "| actual &lt;fct&gt; | predicted &lt;dbl&gt; |\n",
       "|---|---|\n",
       "| Renewed | 0.802 |\n",
       "| Renewed | 0.785 |\n",
       "\n"
      ],
      "text/plain": [
       "  actual  predicted\n",
       "1 Renewed 0.802    \n",
       "2 Renewed 0.785    "
      ]
     },
     "metadata": {},
     "output_type": "display_data"
    }
   ],
   "source": [
    "test"
   ]
  },
  {
   "cell_type": "code",
   "execution_count": 215,
   "metadata": {},
   "outputs": [
    {
     "name": "stdout",
     "output_type": "stream",
     "text": [
      "[1] \"fun1&1 internet\"\n"
     ]
    },
    {
     "name": "stderr",
     "output_type": "stream",
     "text": [
      "Warning message in if (is.na(model) | is.null(test_data)) {:\n",
      "“the condition has length > 1 and only the first element will be used”\n"
     ]
    },
    {
     "name": "stdout",
     "output_type": "stream",
     "text": [
      "[1] \"fun10dencehispahard\"\n"
     ]
    },
    {
     "name": "stderr",
     "output_type": "stream",
     "text": [
      "Warning message in if (is.na(model) | is.null(test_data)) {:\n",
      "“the condition has length > 1 and only the first element will be used”\n"
     ]
    },
    {
     "name": "stdout",
     "output_type": "stream",
     "text": [
      "[1] \"fun1api\"\n"
     ]
    },
    {
     "name": "stderr",
     "output_type": "stream",
     "text": [
      "Warning message in if (is.na(model) | is.null(test_data)) {:\n",
      "“the condition has length > 1 and only the first element will be used”\n"
     ]
    },
    {
     "name": "stdout",
     "output_type": "stream",
     "text": [
      "[1] \"funab name isp\"\n",
      "[1] \"funactive 24\"\n"
     ]
    },
    {
     "name": "stderr",
     "output_type": "stream",
     "text": [
      "Warning message in if (is.na(model) | is.null(test_data)) {:\n",
      "“the condition has length > 1 and only the first element will be used”\n",
      "Warning message in predict.lm(object, newdata, se.fit, scale = 1, type = if (type == :\n",
      "“prediction from a rank-deficient fit may be misleading”\n"
     ]
    }
   ],
   "source": [
    "preds_seg_glm = lapply(tld_reseller_list, \n",
    "           function(tld_reseller_str) pred_seg_glm(\n",
    "               test_list, \n",
    "               tld_reseller_str)\n",
    "           )"
   ]
  },
  {
   "cell_type": "code",
   "execution_count": 216,
   "metadata": {},
   "outputs": [
    {
     "data": {
      "text/html": [
       "<ol>\n",
       "\t<li><table>\n",
       "<caption>A data.frame: 2 × 2</caption>\n",
       "<thead>\n",
       "\t<tr><th scope=col>actual</th><th scope=col>predicted</th></tr>\n",
       "\t<tr><th scope=col>&lt;fct&gt;</th><th scope=col>&lt;dbl&gt;</th></tr>\n",
       "</thead>\n",
       "<tbody>\n",
       "\t<tr><td>Renewed</td><td>0.802</td></tr>\n",
       "\t<tr><td>Renewed</td><td>0.785</td></tr>\n",
       "</tbody>\n",
       "</table>\n",
       "</li>\n",
       "\t<li><table>\n",
       "<caption>A data.frame: 2 × 2</caption>\n",
       "<thead>\n",
       "\t<tr><th scope=col>actual</th><th scope=col>predicted</th></tr>\n",
       "\t<tr><th scope=col>&lt;fct&gt;</th><th scope=col>&lt;dbl&gt;</th></tr>\n",
       "</thead>\n",
       "<tbody>\n",
       "\t<tr><td>Not Renewd</td><td>0</td></tr>\n",
       "\t<tr><td>Not Renewd</td><td>0</td></tr>\n",
       "</tbody>\n",
       "</table>\n",
       "</li>\n",
       "\t<li><table>\n",
       "<caption>A data.frame: 2 × 2</caption>\n",
       "<thead>\n",
       "\t<tr><th scope=col>actual</th><th scope=col>predicted</th></tr>\n",
       "\t<tr><th scope=col>&lt;fct&gt;</th><th scope=col>&lt;dbl&gt;</th></tr>\n",
       "</thead>\n",
       "<tbody>\n",
       "\t<tr><td>Renewed   </td><td>0.842</td></tr>\n",
       "\t<tr><td>Not Renewd</td><td>0.843</td></tr>\n",
       "</tbody>\n",
       "</table>\n",
       "</li>\n",
       "\t<li>&lt;NA&gt;</li>\n",
       "\t<li><table>\n",
       "<caption>A data.frame: 22 × 2</caption>\n",
       "<thead>\n",
       "\t<tr><th scope=col>actual</th><th scope=col>predicted</th></tr>\n",
       "\t<tr><th scope=col>&lt;fct&gt;</th><th scope=col>&lt;dbl&gt;</th></tr>\n",
       "</thead>\n",
       "<tbody>\n",
       "\t<tr><td>Not Renewd</td><td>0.192</td></tr>\n",
       "\t<tr><td>Not Renewd</td><td>0.198</td></tr>\n",
       "\t<tr><td>Not Renewd</td><td>0.210</td></tr>\n",
       "\t<tr><td>Not Renewd</td><td>0.212</td></tr>\n",
       "\t<tr><td>Not Renewd</td><td>0.188</td></tr>\n",
       "\t<tr><td>Not Renewd</td><td>0.197</td></tr>\n",
       "\t<tr><td>Not Renewd</td><td>0.138</td></tr>\n",
       "\t<tr><td>Renewed   </td><td>0.118</td></tr>\n",
       "\t<tr><td>Renewed   </td><td>0.119</td></tr>\n",
       "\t<tr><td>Renewed   </td><td>0.196</td></tr>\n",
       "\t<tr><td>Renewed   </td><td>0.196</td></tr>\n",
       "\t<tr><td>Not Renewd</td><td>0.222</td></tr>\n",
       "\t<tr><td>Not Renewd</td><td>0.222</td></tr>\n",
       "\t<tr><td>Not Renewd</td><td>0.209</td></tr>\n",
       "\t<tr><td>Not Renewd</td><td>0.232</td></tr>\n",
       "\t<tr><td>Not Renewd</td><td>0.173</td></tr>\n",
       "\t<tr><td>Not Renewd</td><td>0.176</td></tr>\n",
       "\t<tr><td>Not Renewd</td><td>0.176</td></tr>\n",
       "\t<tr><td>Not Renewd</td><td>0.215</td></tr>\n",
       "\t<tr><td>Not Renewd</td><td>0.047</td></tr>\n",
       "\t<tr><td>Not Renewd</td><td>0.206</td></tr>\n",
       "\t<tr><td>Renewed   </td><td>0.207</td></tr>\n",
       "</tbody>\n",
       "</table>\n",
       "</li>\n",
       "</ol>\n"
      ],
      "text/latex": [
       "\\begin{enumerate}\n",
       "\\item A data.frame: 2 × 2\n",
       "\\begin{tabular}{ll}\n",
       " actual & predicted\\\\\n",
       " <fct> & <dbl>\\\\\n",
       "\\hline\n",
       "\t Renewed & 0.802\\\\\n",
       "\t Renewed & 0.785\\\\\n",
       "\\end{tabular}\n",
       "\n",
       "\\item A data.frame: 2 × 2\n",
       "\\begin{tabular}{ll}\n",
       " actual & predicted\\\\\n",
       " <fct> & <dbl>\\\\\n",
       "\\hline\n",
       "\t Not Renewd & 0\\\\\n",
       "\t Not Renewd & 0\\\\\n",
       "\\end{tabular}\n",
       "\n",
       "\\item A data.frame: 2 × 2\n",
       "\\begin{tabular}{ll}\n",
       " actual & predicted\\\\\n",
       " <fct> & <dbl>\\\\\n",
       "\\hline\n",
       "\t Renewed    & 0.842\\\\\n",
       "\t Not Renewd & 0.843\\\\\n",
       "\\end{tabular}\n",
       "\n",
       "\\item <NA>\n",
       "\\item A data.frame: 22 × 2\n",
       "\\begin{tabular}{ll}\n",
       " actual & predicted\\\\\n",
       " <fct> & <dbl>\\\\\n",
       "\\hline\n",
       "\t Not Renewd & 0.192\\\\\n",
       "\t Not Renewd & 0.198\\\\\n",
       "\t Not Renewd & 0.210\\\\\n",
       "\t Not Renewd & 0.212\\\\\n",
       "\t Not Renewd & 0.188\\\\\n",
       "\t Not Renewd & 0.197\\\\\n",
       "\t Not Renewd & 0.138\\\\\n",
       "\t Renewed    & 0.118\\\\\n",
       "\t Renewed    & 0.119\\\\\n",
       "\t Renewed    & 0.196\\\\\n",
       "\t Renewed    & 0.196\\\\\n",
       "\t Not Renewd & 0.222\\\\\n",
       "\t Not Renewd & 0.222\\\\\n",
       "\t Not Renewd & 0.209\\\\\n",
       "\t Not Renewd & 0.232\\\\\n",
       "\t Not Renewd & 0.173\\\\\n",
       "\t Not Renewd & 0.176\\\\\n",
       "\t Not Renewd & 0.176\\\\\n",
       "\t Not Renewd & 0.215\\\\\n",
       "\t Not Renewd & 0.047\\\\\n",
       "\t Not Renewd & 0.206\\\\\n",
       "\t Renewed    & 0.207\\\\\n",
       "\\end{tabular}\n",
       "\n",
       "\\end{enumerate}\n"
      ],
      "text/markdown": [
       "1. \n",
       "A data.frame: 2 × 2\n",
       "\n",
       "| actual &lt;fct&gt; | predicted &lt;dbl&gt; |\n",
       "|---|---|\n",
       "| Renewed | 0.802 |\n",
       "| Renewed | 0.785 |\n",
       "\n",
       "\n",
       "2. \n",
       "A data.frame: 2 × 2\n",
       "\n",
       "| actual &lt;fct&gt; | predicted &lt;dbl&gt; |\n",
       "|---|---|\n",
       "| Not Renewd | 0 |\n",
       "| Not Renewd | 0 |\n",
       "\n",
       "\n",
       "3. \n",
       "A data.frame: 2 × 2\n",
       "\n",
       "| actual &lt;fct&gt; | predicted &lt;dbl&gt; |\n",
       "|---|---|\n",
       "| Renewed    | 0.842 |\n",
       "| Not Renewd | 0.843 |\n",
       "\n",
       "\n",
       "4. &lt;NA&gt;\n",
       "5. \n",
       "A data.frame: 22 × 2\n",
       "\n",
       "| actual &lt;fct&gt; | predicted &lt;dbl&gt; |\n",
       "|---|---|\n",
       "| Not Renewd | 0.192 |\n",
       "| Not Renewd | 0.198 |\n",
       "| Not Renewd | 0.210 |\n",
       "| Not Renewd | 0.212 |\n",
       "| Not Renewd | 0.188 |\n",
       "| Not Renewd | 0.197 |\n",
       "| Not Renewd | 0.138 |\n",
       "| Renewed    | 0.118 |\n",
       "| Renewed    | 0.119 |\n",
       "| Renewed    | 0.196 |\n",
       "| Renewed    | 0.196 |\n",
       "| Not Renewd | 0.222 |\n",
       "| Not Renewd | 0.222 |\n",
       "| Not Renewd | 0.209 |\n",
       "| Not Renewd | 0.232 |\n",
       "| Not Renewd | 0.173 |\n",
       "| Not Renewd | 0.176 |\n",
       "| Not Renewd | 0.176 |\n",
       "| Not Renewd | 0.215 |\n",
       "| Not Renewd | 0.047 |\n",
       "| Not Renewd | 0.206 |\n",
       "| Renewed    | 0.207 |\n",
       "\n",
       "\n",
       "\n",
       "\n"
      ],
      "text/plain": [
       "[[1]]\n",
       "   actual predicted\n",
       "1 Renewed     0.802\n",
       "2 Renewed     0.785\n",
       "\n",
       "[[2]]\n",
       "      actual predicted\n",
       "1 Not Renewd         0\n",
       "2 Not Renewd         0\n",
       "\n",
       "[[3]]\n",
       "      actual predicted\n",
       "1    Renewed     0.842\n",
       "2 Not Renewd     0.843\n",
       "\n",
       "[[4]]\n",
       "[1] NA\n",
       "\n",
       "[[5]]\n",
       "       actual predicted\n",
       "1  Not Renewd     0.192\n",
       "2  Not Renewd     0.198\n",
       "3  Not Renewd     0.210\n",
       "4  Not Renewd     0.212\n",
       "5  Not Renewd     0.188\n",
       "6  Not Renewd     0.197\n",
       "7  Not Renewd     0.138\n",
       "8     Renewed     0.118\n",
       "9     Renewed     0.119\n",
       "10    Renewed     0.196\n",
       "11    Renewed     0.196\n",
       "12 Not Renewd     0.222\n",
       "13 Not Renewd     0.222\n",
       "14 Not Renewd     0.209\n",
       "15 Not Renewd     0.232\n",
       "16 Not Renewd     0.173\n",
       "17 Not Renewd     0.176\n",
       "18 Not Renewd     0.176\n",
       "19 Not Renewd     0.215\n",
       "20 Not Renewd     0.047\n",
       "21 Not Renewd     0.206\n",
       "22    Renewed     0.207\n"
      ]
     },
     "metadata": {},
     "output_type": "display_data"
    }
   ],
   "source": [
    "preds_seg_glm"
   ]
  },
  {
   "cell_type": "code",
   "execution_count": 217,
   "metadata": {},
   "outputs": [
    {
     "data": {
      "text/html": [
       "<style>\n",
       ".list-inline {list-style: none; margin:0; padding: 0}\n",
       ".list-inline>li {display: inline-block}\n",
       ".list-inline>li:not(:last-child)::after {content: \"\\00b7\"; padding: 0 .5ex}\n",
       "</style>\n",
       "<ol class=list-inline><li>'apply_standard_adjustments'</li><li>'basic_prep_domain_data'</li><li>'build_model_first_renewal'</li><li>'build_model_first_renewal_agg'</li><li>'build_model_first_renewal_agg_plus'</li><li>'build_model_first_renewal_reg'</li><li>'build_model_second_renewal'</li><li>'calc_auc'</li><li>'change.colnames'</li><li>'chart_lift'</li><li>'expiry_test_df_1'</li><li>'expiry_test_df_sub'</li><li>'expiry_test_prepped_2'</li><li>'expiry_test_prepped_2_1'</li><li>'expiry_train_df_1'</li><li>'expiry_train_df_sub'</li><li>'expiry_train_prepped_2'</li><li>'expiry_train_prepped_2_1'</li><li>'fullDir'</li><li>'get_cluster_data'</li><li>'get_cluster_large'</li><li>'get_df_npv'</li><li>'get_domain_npv'</li><li>'get_domain_type'</li><li>'get_pattern_score'</li><li>'get_renewal_status'</li><li>'intersect2'</li><li>'list_predict_first_renewal'</li><li>'list_predict_second_renewal'</li><li>'mass_build_model_first_renewal'</li><li>'mass_build_model_second_renewal'</li><li>'mass_predict_first_renewal'</li><li>'mass_predict_second_renewal'</li><li>'mass_prep_data'</li><li>'model'</li><li>'model_agg_glm'</li><li>'model_agg_rf'</li><li>'model_name'</li><li>'model_seg_glm_10dencehispahard'</li><li>'model_seg_glm_11internet'</li><li>'model_seg_glm_1api'</li><li>'model_seg_glm_abnameisp'</li><li>'model_seg_glm_active24'</li><li>'model_seg_glm_fun11internet'</li><li>'model2'</li><li>'na.zero'</li><li>'newreg_data_prep'</li><li>'newreg_data_rename'</li><li>'newreg_data_select'</li><li>'plot_gains'</li><li>'plot_multigains'</li><li>'plot_multigains_file'</li><li>'plot_multigains_res'</li><li>'pred'</li><li>'pred_agg_glm'</li><li>'pred_agg_rf'</li><li>'pred_df_seg_glm'</li><li>'pred_seg_glm'</li><li>'pred_seg_rf'</li><li>'pred_seg2_glm'</li><li>'pred_seg2_rf'</li><li>'predict_first_renewal'</li><li>'predict_first_renewal_agg'</li><li>'predict_first_renewal_agg_plus'</li><li>'predict_first_renewal_reg'</li><li>'predict_second_renewal'</li><li>'preds_seg_glm'</li><li>'prep_domain_data'</li><li>'reseller_list'</li><li>'reseller_lookup'</li><li>'reseller_str'</li><li>'sample_fraction'</li><li>'save_object'</li><li>'subDir'</li><li>'test'</li><li>'test_df_tld_reseller'</li><li>'test_list'</li><li>'test_list_tld_reseller'</li><li>'tld_reseller_list'</li><li>'tld_reseller_str'</li><li>'train_agg_glm'</li><li>'train_agg_rf'</li><li>'train_all'</li><li>'train_df_tld_reseller'</li><li>'train_list'</li><li>'train_list_tld_reseller'</li><li>'train_seg_glm'</li><li>'train_seg_rf'</li><li>'train_seg2_glm'</li><li>'train_seg2_rf'</li><li>'unzip.file'</li><li>'x'</li></ol>\n"
      ],
      "text/latex": [
       "\\begin{enumerate*}\n",
       "\\item 'apply\\_standard\\_adjustments'\n",
       "\\item 'basic\\_prep\\_domain\\_data'\n",
       "\\item 'build\\_model\\_first\\_renewal'\n",
       "\\item 'build\\_model\\_first\\_renewal\\_agg'\n",
       "\\item 'build\\_model\\_first\\_renewal\\_agg\\_plus'\n",
       "\\item 'build\\_model\\_first\\_renewal\\_reg'\n",
       "\\item 'build\\_model\\_second\\_renewal'\n",
       "\\item 'calc\\_auc'\n",
       "\\item 'change.colnames'\n",
       "\\item 'chart\\_lift'\n",
       "\\item 'expiry\\_test\\_df\\_1'\n",
       "\\item 'expiry\\_test\\_df\\_sub'\n",
       "\\item 'expiry\\_test\\_prepped\\_2'\n",
       "\\item 'expiry\\_test\\_prepped\\_2\\_1'\n",
       "\\item 'expiry\\_train\\_df\\_1'\n",
       "\\item 'expiry\\_train\\_df\\_sub'\n",
       "\\item 'expiry\\_train\\_prepped\\_2'\n",
       "\\item 'expiry\\_train\\_prepped\\_2\\_1'\n",
       "\\item 'fullDir'\n",
       "\\item 'get\\_cluster\\_data'\n",
       "\\item 'get\\_cluster\\_large'\n",
       "\\item 'get\\_df\\_npv'\n",
       "\\item 'get\\_domain\\_npv'\n",
       "\\item 'get\\_domain\\_type'\n",
       "\\item 'get\\_pattern\\_score'\n",
       "\\item 'get\\_renewal\\_status'\n",
       "\\item 'intersect2'\n",
       "\\item 'list\\_predict\\_first\\_renewal'\n",
       "\\item 'list\\_predict\\_second\\_renewal'\n",
       "\\item 'mass\\_build\\_model\\_first\\_renewal'\n",
       "\\item 'mass\\_build\\_model\\_second\\_renewal'\n",
       "\\item 'mass\\_predict\\_first\\_renewal'\n",
       "\\item 'mass\\_predict\\_second\\_renewal'\n",
       "\\item 'mass\\_prep\\_data'\n",
       "\\item 'model'\n",
       "\\item 'model\\_agg\\_glm'\n",
       "\\item 'model\\_agg\\_rf'\n",
       "\\item 'model\\_name'\n",
       "\\item 'model\\_seg\\_glm\\_10dencehispahard'\n",
       "\\item 'model\\_seg\\_glm\\_11internet'\n",
       "\\item 'model\\_seg\\_glm\\_1api'\n",
       "\\item 'model\\_seg\\_glm\\_abnameisp'\n",
       "\\item 'model\\_seg\\_glm\\_active24'\n",
       "\\item 'model\\_seg\\_glm\\_fun11internet'\n",
       "\\item 'model2'\n",
       "\\item 'na.zero'\n",
       "\\item 'newreg\\_data\\_prep'\n",
       "\\item 'newreg\\_data\\_rename'\n",
       "\\item 'newreg\\_data\\_select'\n",
       "\\item 'plot\\_gains'\n",
       "\\item 'plot\\_multigains'\n",
       "\\item 'plot\\_multigains\\_file'\n",
       "\\item 'plot\\_multigains\\_res'\n",
       "\\item 'pred'\n",
       "\\item 'pred\\_agg\\_glm'\n",
       "\\item 'pred\\_agg\\_rf'\n",
       "\\item 'pred\\_df\\_seg\\_glm'\n",
       "\\item 'pred\\_seg\\_glm'\n",
       "\\item 'pred\\_seg\\_rf'\n",
       "\\item 'pred\\_seg2\\_glm'\n",
       "\\item 'pred\\_seg2\\_rf'\n",
       "\\item 'predict\\_first\\_renewal'\n",
       "\\item 'predict\\_first\\_renewal\\_agg'\n",
       "\\item 'predict\\_first\\_renewal\\_agg\\_plus'\n",
       "\\item 'predict\\_first\\_renewal\\_reg'\n",
       "\\item 'predict\\_second\\_renewal'\n",
       "\\item 'preds\\_seg\\_glm'\n",
       "\\item 'prep\\_domain\\_data'\n",
       "\\item 'reseller\\_list'\n",
       "\\item 'reseller\\_lookup'\n",
       "\\item 'reseller\\_str'\n",
       "\\item 'sample\\_fraction'\n",
       "\\item 'save\\_object'\n",
       "\\item 'subDir'\n",
       "\\item 'test'\n",
       "\\item 'test\\_df\\_tld\\_reseller'\n",
       "\\item 'test\\_list'\n",
       "\\item 'test\\_list\\_tld\\_reseller'\n",
       "\\item 'tld\\_reseller\\_list'\n",
       "\\item 'tld\\_reseller\\_str'\n",
       "\\item 'train\\_agg\\_glm'\n",
       "\\item 'train\\_agg\\_rf'\n",
       "\\item 'train\\_all'\n",
       "\\item 'train\\_df\\_tld\\_reseller'\n",
       "\\item 'train\\_list'\n",
       "\\item 'train\\_list\\_tld\\_reseller'\n",
       "\\item 'train\\_seg\\_glm'\n",
       "\\item 'train\\_seg\\_rf'\n",
       "\\item 'train\\_seg2\\_glm'\n",
       "\\item 'train\\_seg2\\_rf'\n",
       "\\item 'unzip.file'\n",
       "\\item 'x'\n",
       "\\end{enumerate*}\n"
      ],
      "text/markdown": [
       "1. 'apply_standard_adjustments'\n",
       "2. 'basic_prep_domain_data'\n",
       "3. 'build_model_first_renewal'\n",
       "4. 'build_model_first_renewal_agg'\n",
       "5. 'build_model_first_renewal_agg_plus'\n",
       "6. 'build_model_first_renewal_reg'\n",
       "7. 'build_model_second_renewal'\n",
       "8. 'calc_auc'\n",
       "9. 'change.colnames'\n",
       "10. 'chart_lift'\n",
       "11. 'expiry_test_df_1'\n",
       "12. 'expiry_test_df_sub'\n",
       "13. 'expiry_test_prepped_2'\n",
       "14. 'expiry_test_prepped_2_1'\n",
       "15. 'expiry_train_df_1'\n",
       "16. 'expiry_train_df_sub'\n",
       "17. 'expiry_train_prepped_2'\n",
       "18. 'expiry_train_prepped_2_1'\n",
       "19. 'fullDir'\n",
       "20. 'get_cluster_data'\n",
       "21. 'get_cluster_large'\n",
       "22. 'get_df_npv'\n",
       "23. 'get_domain_npv'\n",
       "24. 'get_domain_type'\n",
       "25. 'get_pattern_score'\n",
       "26. 'get_renewal_status'\n",
       "27. 'intersect2'\n",
       "28. 'list_predict_first_renewal'\n",
       "29. 'list_predict_second_renewal'\n",
       "30. 'mass_build_model_first_renewal'\n",
       "31. 'mass_build_model_second_renewal'\n",
       "32. 'mass_predict_first_renewal'\n",
       "33. 'mass_predict_second_renewal'\n",
       "34. 'mass_prep_data'\n",
       "35. 'model'\n",
       "36. 'model_agg_glm'\n",
       "37. 'model_agg_rf'\n",
       "38. 'model_name'\n",
       "39. 'model_seg_glm_10dencehispahard'\n",
       "40. 'model_seg_glm_11internet'\n",
       "41. 'model_seg_glm_1api'\n",
       "42. 'model_seg_glm_abnameisp'\n",
       "43. 'model_seg_glm_active24'\n",
       "44. 'model_seg_glm_fun11internet'\n",
       "45. 'model2'\n",
       "46. 'na.zero'\n",
       "47. 'newreg_data_prep'\n",
       "48. 'newreg_data_rename'\n",
       "49. 'newreg_data_select'\n",
       "50. 'plot_gains'\n",
       "51. 'plot_multigains'\n",
       "52. 'plot_multigains_file'\n",
       "53. 'plot_multigains_res'\n",
       "54. 'pred'\n",
       "55. 'pred_agg_glm'\n",
       "56. 'pred_agg_rf'\n",
       "57. 'pred_df_seg_glm'\n",
       "58. 'pred_seg_glm'\n",
       "59. 'pred_seg_rf'\n",
       "60. 'pred_seg2_glm'\n",
       "61. 'pred_seg2_rf'\n",
       "62. 'predict_first_renewal'\n",
       "63. 'predict_first_renewal_agg'\n",
       "64. 'predict_first_renewal_agg_plus'\n",
       "65. 'predict_first_renewal_reg'\n",
       "66. 'predict_second_renewal'\n",
       "67. 'preds_seg_glm'\n",
       "68. 'prep_domain_data'\n",
       "69. 'reseller_list'\n",
       "70. 'reseller_lookup'\n",
       "71. 'reseller_str'\n",
       "72. 'sample_fraction'\n",
       "73. 'save_object'\n",
       "74. 'subDir'\n",
       "75. 'test'\n",
       "76. 'test_df_tld_reseller'\n",
       "77. 'test_list'\n",
       "78. 'test_list_tld_reseller'\n",
       "79. 'tld_reseller_list'\n",
       "80. 'tld_reseller_str'\n",
       "81. 'train_agg_glm'\n",
       "82. 'train_agg_rf'\n",
       "83. 'train_all'\n",
       "84. 'train_df_tld_reseller'\n",
       "85. 'train_list'\n",
       "86. 'train_list_tld_reseller'\n",
       "87. 'train_seg_glm'\n",
       "88. 'train_seg_rf'\n",
       "89. 'train_seg2_glm'\n",
       "90. 'train_seg2_rf'\n",
       "91. 'unzip.file'\n",
       "92. 'x'\n",
       "\n",
       "\n"
      ],
      "text/plain": [
       " [1] \"apply_standard_adjustments\"         \"basic_prep_domain_data\"            \n",
       " [3] \"build_model_first_renewal\"          \"build_model_first_renewal_agg\"     \n",
       " [5] \"build_model_first_renewal_agg_plus\" \"build_model_first_renewal_reg\"     \n",
       " [7] \"build_model_second_renewal\"         \"calc_auc\"                          \n",
       " [9] \"change.colnames\"                    \"chart_lift\"                        \n",
       "[11] \"expiry_test_df_1\"                   \"expiry_test_df_sub\"                \n",
       "[13] \"expiry_test_prepped_2\"              \"expiry_test_prepped_2_1\"           \n",
       "[15] \"expiry_train_df_1\"                  \"expiry_train_df_sub\"               \n",
       "[17] \"expiry_train_prepped_2\"             \"expiry_train_prepped_2_1\"          \n",
       "[19] \"fullDir\"                            \"get_cluster_data\"                  \n",
       "[21] \"get_cluster_large\"                  \"get_df_npv\"                        \n",
       "[23] \"get_domain_npv\"                     \"get_domain_type\"                   \n",
       "[25] \"get_pattern_score\"                  \"get_renewal_status\"                \n",
       "[27] \"intersect2\"                         \"list_predict_first_renewal\"        \n",
       "[29] \"list_predict_second_renewal\"        \"mass_build_model_first_renewal\"    \n",
       "[31] \"mass_build_model_second_renewal\"    \"mass_predict_first_renewal\"        \n",
       "[33] \"mass_predict_second_renewal\"        \"mass_prep_data\"                    \n",
       "[35] \"model\"                              \"model_agg_glm\"                     \n",
       "[37] \"model_agg_rf\"                       \"model_name\"                        \n",
       "[39] \"model_seg_glm_10dencehispahard\"     \"model_seg_glm_11internet\"          \n",
       "[41] \"model_seg_glm_1api\"                 \"model_seg_glm_abnameisp\"           \n",
       "[43] \"model_seg_glm_active24\"             \"model_seg_glm_fun11internet\"       \n",
       "[45] \"model2\"                             \"na.zero\"                           \n",
       "[47] \"newreg_data_prep\"                   \"newreg_data_rename\"                \n",
       "[49] \"newreg_data_select\"                 \"plot_gains\"                        \n",
       "[51] \"plot_multigains\"                    \"plot_multigains_file\"              \n",
       "[53] \"plot_multigains_res\"                \"pred\"                              \n",
       "[55] \"pred_agg_glm\"                       \"pred_agg_rf\"                       \n",
       "[57] \"pred_df_seg_glm\"                    \"pred_seg_glm\"                      \n",
       "[59] \"pred_seg_rf\"                        \"pred_seg2_glm\"                     \n",
       "[61] \"pred_seg2_rf\"                       \"predict_first_renewal\"             \n",
       "[63] \"predict_first_renewal_agg\"          \"predict_first_renewal_agg_plus\"    \n",
       "[65] \"predict_first_renewal_reg\"          \"predict_second_renewal\"            \n",
       "[67] \"preds_seg_glm\"                      \"prep_domain_data\"                  \n",
       "[69] \"reseller_list\"                      \"reseller_lookup\"                   \n",
       "[71] \"reseller_str\"                       \"sample_fraction\"                   \n",
       "[73] \"save_object\"                        \"subDir\"                            \n",
       "[75] \"test\"                               \"test_df_tld_reseller\"              \n",
       "[77] \"test_list\"                          \"test_list_tld_reseller\"            \n",
       "[79] \"tld_reseller_list\"                  \"tld_reseller_str\"                  \n",
       "[81] \"train_agg_glm\"                      \"train_agg_rf\"                      \n",
       "[83] \"train_all\"                          \"train_df_tld_reseller\"             \n",
       "[85] \"train_list\"                         \"train_list_tld_reseller\"           \n",
       "[87] \"train_seg_glm\"                      \"train_seg_rf\"                      \n",
       "[89] \"train_seg2_glm\"                     \"train_seg2_rf\"                     \n",
       "[91] \"unzip.file\"                         \"x\"                                 "
      ]
     },
     "metadata": {},
     "output_type": "display_data"
    }
   ],
   "source": [
    "ls()"
   ]
  },
  {
   "cell_type": "code",
   "execution_count": 219,
   "metadata": {},
   "outputs": [
    {
     "data": {
      "text/html": [
       "<style>\n",
       ".list-inline {list-style: none; margin:0; padding: 0}\n",
       ".list-inline>li {display: inline-block}\n",
       ".list-inline>li:not(:last-child)::after {content: \"\\00b7\"; padding: 0 .5ex}\n",
       "</style>\n",
       "<ol class=list-inline><li>'model_seg_glm_10dencehispahard'</li><li>'model_seg_glm_11internet'</li><li>'model_seg_glm_1api'</li><li>'model_seg_glm_abnameisp'</li><li>'model_seg_glm_active24'</li><li>'model_seg_glm_fun11internet'</li></ol>\n"
      ],
      "text/latex": [
       "\\begin{enumerate*}\n",
       "\\item 'model\\_seg\\_glm\\_10dencehispahard'\n",
       "\\item 'model\\_seg\\_glm\\_11internet'\n",
       "\\item 'model\\_seg\\_glm\\_1api'\n",
       "\\item 'model\\_seg\\_glm\\_abnameisp'\n",
       "\\item 'model\\_seg\\_glm\\_active24'\n",
       "\\item 'model\\_seg\\_glm\\_fun11internet'\n",
       "\\end{enumerate*}\n"
      ],
      "text/markdown": [
       "1. 'model_seg_glm_10dencehispahard'\n",
       "2. 'model_seg_glm_11internet'\n",
       "3. 'model_seg_glm_1api'\n",
       "4. 'model_seg_glm_abnameisp'\n",
       "5. 'model_seg_glm_active24'\n",
       "6. 'model_seg_glm_fun11internet'\n",
       "\n",
       "\n"
      ],
      "text/plain": [
       "[1] \"model_seg_glm_10dencehispahard\" \"model_seg_glm_11internet\"      \n",
       "[3] \"model_seg_glm_1api\"             \"model_seg_glm_abnameisp\"       \n",
       "[5] \"model_seg_glm_active24\"         \"model_seg_glm_fun11internet\"   "
      ]
     },
     "metadata": {},
     "output_type": "display_data"
    },
    {
     "data": {
      "text/html": [],
      "text/latex": [],
      "text/markdown": [],
      "text/plain": [
       "character(0)"
      ]
     },
     "metadata": {},
     "output_type": "display_data"
    }
   ],
   "source": [
    "# list & remove R model objects so we can test load()\n",
    "ls(pattern='^model_seg_glm_')\n",
    "rm(list=ls(pattern='^model_seg_glm_'))\n",
    "ls(pattern='^model_seg_glm_')"
   ]
  },
  {
   "cell_type": "code",
   "execution_count": 235,
   "metadata": {},
   "outputs": [
    {
     "data": {
      "text/html": [
       "<ol>\n",
       "\t<li>'model_seg_rf_10dencehispahard'</li>\n",
       "\t<li>'model_seg_rf_11internet'</li>\n",
       "\t<li>'model_seg_rf_1api'</li>\n",
       "\t<li>'model_seg_rf_abnameisp'</li>\n",
       "\t<li>'model_seg_rf_active24'</li>\n",
       "</ol>\n"
      ],
      "text/latex": [
       "\\begin{enumerate}\n",
       "\\item 'model\\_seg\\_rf\\_10dencehispahard'\n",
       "\\item 'model\\_seg\\_rf\\_11internet'\n",
       "\\item 'model\\_seg\\_rf\\_1api'\n",
       "\\item 'model\\_seg\\_rf\\_abnameisp'\n",
       "\\item 'model\\_seg\\_rf\\_active24'\n",
       "\\end{enumerate}\n"
      ],
      "text/markdown": [
       "1. 'model_seg_rf_10dencehispahard'\n",
       "2. 'model_seg_rf_11internet'\n",
       "3. 'model_seg_rf_1api'\n",
       "4. 'model_seg_rf_abnameisp'\n",
       "5. 'model_seg_rf_active24'\n",
       "\n",
       "\n"
      ],
      "text/plain": [
       "[[1]]\n",
       "[1] \"model_seg_rf_10dencehispahard\"\n",
       "\n",
       "[[2]]\n",
       "[1] \"model_seg_rf_11internet\"\n",
       "\n",
       "[[3]]\n",
       "[1] \"model_seg_rf_1api\"\n",
       "\n",
       "[[4]]\n",
       "[1] \"model_seg_rf_abnameisp\"\n",
       "\n",
       "[[5]]\n",
       "[1] \"model_seg_rf_active24\"\n"
      ]
     },
     "metadata": {},
     "output_type": "display_data"
    },
    {
     "data": {
      "text/html": [
       "<table>\n",
       "<caption>A matrix: 2 × 6 of type dbl</caption>\n",
       "<thead>\n",
       "\t<tr><th></th><th scope=col>used</th><th scope=col>(Mb)</th><th scope=col>gc trigger</th><th scope=col>(Mb)</th><th scope=col>max used</th><th scope=col>(Mb)</th></tr>\n",
       "</thead>\n",
       "<tbody>\n",
       "\t<tr><th scope=row>Ncells</th><td>  6974640</td><td> 372.5</td><td> 13384612</td><td> 714.9</td><td> 13384612</td><td> 714.9</td></tr>\n",
       "\t<tr><th scope=row>Vcells</th><td>134400307</td><td>1025.4</td><td>222902998</td><td>1700.7</td><td>222902921</td><td>1700.7</td></tr>\n",
       "</tbody>\n",
       "</table>\n"
      ],
      "text/latex": [
       "A matrix: 2 × 6 of type dbl\n",
       "\\begin{tabular}{r|llllll}\n",
       "  & used & (Mb) & gc trigger & (Mb) & max used & (Mb)\\\\\n",
       "\\hline\n",
       "\tNcells &   6974640 &  372.5 &  13384612 &  714.9 &  13384612 &  714.9\\\\\n",
       "\tVcells & 134400307 & 1025.4 & 222902998 & 1700.7 & 222902921 & 1700.7\\\\\n",
       "\\end{tabular}\n"
      ],
      "text/markdown": [
       "\n",
       "A matrix: 2 × 6 of type dbl\n",
       "\n",
       "| <!--/--> | used | (Mb) | gc trigger | (Mb) | max used | (Mb) |\n",
       "|---|---|---|---|---|---|---|\n",
       "| Ncells |   6974640 |  372.5 |  13384612 |  714.9 |  13384612 |  714.9 |\n",
       "| Vcells | 134400307 | 1025.4 | 222902998 | 1700.7 | 222902921 | 1700.7 |\n",
       "\n"
      ],
      "text/plain": [
       "       used      (Mb)   gc trigger (Mb)   max used  (Mb)  \n",
       "Ncells   6974640  372.5  13384612   714.9  13384612  714.9\n",
       "Vcells 134400307 1025.4 222902998  1700.7 222902921 1700.7"
      ]
     },
     "metadata": {},
     "output_type": "display_data"
    }
   ],
   "source": [
    "lapply(Sys.glob(file.path(fullDir,'model_seg_rf_*')),load,.GlobalEnv)\n",
    "preds_seg_rf = lapply(tld_reseller_list, \n",
    "       function(tld_reseller_str) pred_seg_rf(\n",
    "           test_list, \n",
    "           tld_reseller_str)\n",
    "       )\n",
    "rm(list=ls(pattern='^model_seg_rf_'))\n",
    "gc()  "
   ]
  },
  {
   "cell_type": "code",
   "execution_count": 237,
   "metadata": {},
   "outputs": [
    {
     "data": {
      "text/html": [
       "<ol>\n",
       "\t<li>'model_seg_rf_10dencehispahard'</li>\n",
       "\t<li>'model_seg_rf_11internet'</li>\n",
       "\t<li>'model_seg_rf_1api'</li>\n",
       "\t<li>'model_seg_rf_abnameisp'</li>\n",
       "\t<li>'model_seg_rf_active24'</li>\n",
       "</ol>\n"
      ],
      "text/latex": [
       "\\begin{enumerate}\n",
       "\\item 'model\\_seg\\_rf\\_10dencehispahard'\n",
       "\\item 'model\\_seg\\_rf\\_11internet'\n",
       "\\item 'model\\_seg\\_rf\\_1api'\n",
       "\\item 'model\\_seg\\_rf\\_abnameisp'\n",
       "\\item 'model\\_seg\\_rf\\_active24'\n",
       "\\end{enumerate}\n"
      ],
      "text/markdown": [
       "1. 'model_seg_rf_10dencehispahard'\n",
       "2. 'model_seg_rf_11internet'\n",
       "3. 'model_seg_rf_1api'\n",
       "4. 'model_seg_rf_abnameisp'\n",
       "5. 'model_seg_rf_active24'\n",
       "\n",
       "\n"
      ],
      "text/plain": [
       "[[1]]\n",
       "[1] \"model_seg_rf_10dencehispahard\"\n",
       "\n",
       "[[2]]\n",
       "[1] \"model_seg_rf_11internet\"\n",
       "\n",
       "[[3]]\n",
       "[1] \"model_seg_rf_1api\"\n",
       "\n",
       "[[4]]\n",
       "[1] \"model_seg_rf_abnameisp\"\n",
       "\n",
       "[[5]]\n",
       "[1] \"model_seg_rf_active24\"\n"
      ]
     },
     "metadata": {},
     "output_type": "display_data"
    }
   ],
   "source": [
    "lapply(Sys.glob(file.path(fullDir,'model_seg_rf_*')),load,.GlobalEnv)"
   ]
  },
  {
   "cell_type": "code",
   "execution_count": 259,
   "metadata": {},
   "outputs": [
    {
     "data": {
      "text/html": [
       "1405"
      ],
      "text/latex": [
       "1405"
      ],
      "text/markdown": [
       "1405"
      ],
      "text/plain": [
       "[1] 1405"
      ]
     },
     "metadata": {},
     "output_type": "display_data"
    }
   ],
   "source": [
    "length(test_list)"
   ]
  },
  {
   "cell_type": "code",
   "execution_count": 262,
   "metadata": {},
   "outputs": [],
   "source": [
    "tld_reseller_str=tld_reseller_list[[5]]"
   ]
  },
  {
   "cell_type": "code",
   "execution_count": 284,
   "metadata": {},
   "outputs": [
    {
     "name": "stdout",
     "output_type": "stream",
     "text": [
      "[1] 22 39\n",
      "[1] \"go\"\n",
      "[1] 22  2\n"
     ]
    },
    {
     "data": {
      "text/html": [
       "<table>\n",
       "<caption>A data.frame: 22 × 2</caption>\n",
       "<thead>\n",
       "\t<tr><th scope=col>actual</th><th scope=col>predicted</th></tr>\n",
       "\t<tr><th scope=col>&lt;fct&gt;</th><th scope=col>&lt;dbl&gt;</th></tr>\n",
       "</thead>\n",
       "<tbody>\n",
       "\t<tr><td>Not Renewd</td><td>0.1782283</td></tr>\n",
       "\t<tr><td>Not Renewd</td><td>0.1877276</td></tr>\n",
       "\t<tr><td>Not Renewd</td><td>0.1992040</td></tr>\n",
       "\t<tr><td>Not Renewd</td><td>0.2086369</td></tr>\n",
       "\t<tr><td>Not Renewd</td><td>0.2383924</td></tr>\n",
       "\t<tr><td>Not Renewd</td><td>0.5100125</td></tr>\n",
       "\t<tr><td>Not Renewd</td><td>0.2416895</td></tr>\n",
       "\t<tr><td>Renewed   </td><td>0.2047713</td></tr>\n",
       "\t<tr><td>Renewed   </td><td>0.2194942</td></tr>\n",
       "\t<tr><td>Renewed   </td><td>0.5111910</td></tr>\n",
       "\t<tr><td>Renewed   </td><td>0.2209711</td></tr>\n",
       "\t<tr><td>Not Renewd</td><td>0.1552589</td></tr>\n",
       "\t<tr><td>Not Renewd</td><td>0.1929771</td></tr>\n",
       "\t<tr><td>Not Renewd</td><td>0.2501982</td></tr>\n",
       "\t<tr><td>Not Renewd</td><td>0.1421217</td></tr>\n",
       "\t<tr><td>Not Renewd</td><td>0.2709206</td></tr>\n",
       "\t<tr><td>Not Renewd</td><td>0.2613976</td></tr>\n",
       "\t<tr><td>Not Renewd</td><td>0.2613976</td></tr>\n",
       "\t<tr><td>Not Renewd</td><td>0.1735025</td></tr>\n",
       "\t<tr><td>Not Renewd</td><td>0.3213206</td></tr>\n",
       "\t<tr><td>Not Renewd</td><td>0.4754838</td></tr>\n",
       "\t<tr><td>Renewed   </td><td>0.2695949</td></tr>\n",
       "</tbody>\n",
       "</table>\n"
      ],
      "text/latex": [
       "A data.frame: 22 × 2\n",
       "\\begin{tabular}{ll}\n",
       " actual & predicted\\\\\n",
       " <fct> & <dbl>\\\\\n",
       "\\hline\n",
       "\t Not Renewd & 0.1782283\\\\\n",
       "\t Not Renewd & 0.1877276\\\\\n",
       "\t Not Renewd & 0.1992040\\\\\n",
       "\t Not Renewd & 0.2086369\\\\\n",
       "\t Not Renewd & 0.2383924\\\\\n",
       "\t Not Renewd & 0.5100125\\\\\n",
       "\t Not Renewd & 0.2416895\\\\\n",
       "\t Renewed    & 0.2047713\\\\\n",
       "\t Renewed    & 0.2194942\\\\\n",
       "\t Renewed    & 0.5111910\\\\\n",
       "\t Renewed    & 0.2209711\\\\\n",
       "\t Not Renewd & 0.1552589\\\\\n",
       "\t Not Renewd & 0.1929771\\\\\n",
       "\t Not Renewd & 0.2501982\\\\\n",
       "\t Not Renewd & 0.1421217\\\\\n",
       "\t Not Renewd & 0.2709206\\\\\n",
       "\t Not Renewd & 0.2613976\\\\\n",
       "\t Not Renewd & 0.2613976\\\\\n",
       "\t Not Renewd & 0.1735025\\\\\n",
       "\t Not Renewd & 0.3213206\\\\\n",
       "\t Not Renewd & 0.4754838\\\\\n",
       "\t Renewed    & 0.2695949\\\\\n",
       "\\end{tabular}\n"
      ],
      "text/markdown": [
       "\n",
       "A data.frame: 22 × 2\n",
       "\n",
       "| actual &lt;fct&gt; | predicted &lt;dbl&gt; |\n",
       "|---|---|\n",
       "| Not Renewd | 0.1782283 |\n",
       "| Not Renewd | 0.1877276 |\n",
       "| Not Renewd | 0.1992040 |\n",
       "| Not Renewd | 0.2086369 |\n",
       "| Not Renewd | 0.2383924 |\n",
       "| Not Renewd | 0.5100125 |\n",
       "| Not Renewd | 0.2416895 |\n",
       "| Renewed    | 0.2047713 |\n",
       "| Renewed    | 0.2194942 |\n",
       "| Renewed    | 0.5111910 |\n",
       "| Renewed    | 0.2209711 |\n",
       "| Not Renewd | 0.1552589 |\n",
       "| Not Renewd | 0.1929771 |\n",
       "| Not Renewd | 0.2501982 |\n",
       "| Not Renewd | 0.1421217 |\n",
       "| Not Renewd | 0.2709206 |\n",
       "| Not Renewd | 0.2613976 |\n",
       "| Not Renewd | 0.2613976 |\n",
       "| Not Renewd | 0.1735025 |\n",
       "| Not Renewd | 0.3213206 |\n",
       "| Not Renewd | 0.4754838 |\n",
       "| Renewed    | 0.2695949 |\n",
       "\n"
      ],
      "text/plain": [
       "   actual     predicted\n",
       "1  Not Renewd 0.1782283\n",
       "2  Not Renewd 0.1877276\n",
       "3  Not Renewd 0.1992040\n",
       "4  Not Renewd 0.2086369\n",
       "5  Not Renewd 0.2383924\n",
       "6  Not Renewd 0.5100125\n",
       "7  Not Renewd 0.2416895\n",
       "8  Renewed    0.2047713\n",
       "9  Renewed    0.2194942\n",
       "10 Renewed    0.5111910\n",
       "11 Renewed    0.2209711\n",
       "12 Not Renewd 0.1552589\n",
       "13 Not Renewd 0.1929771\n",
       "14 Not Renewd 0.2501982\n",
       "15 Not Renewd 0.1421217\n",
       "16 Not Renewd 0.2709206\n",
       "17 Not Renewd 0.2613976\n",
       "18 Not Renewd 0.2613976\n",
       "19 Not Renewd 0.1735025\n",
       "20 Not Renewd 0.3213206\n",
       "21 Not Renewd 0.4754838\n",
       "22 Renewed    0.2695949"
      ]
     },
     "metadata": {},
     "output_type": "display_data"
    }
   ],
   "source": [
    "pred_seg_rf(test_list, tld_reseller_str)"
   ]
  },
  {
   "cell_type": "code",
   "execution_count": 273,
   "metadata": {},
   "outputs": [
    {
     "data": {
      "text/html": [
       "<table>\n",
       "<caption>A data.frame: 2 × 2</caption>\n",
       "<thead>\n",
       "\t<tr><th scope=col>actual</th><th scope=col>predicted</th></tr>\n",
       "\t<tr><th scope=col>&lt;fct&gt;</th><th scope=col>&lt;dbl&gt;</th></tr>\n",
       "</thead>\n",
       "<tbody>\n",
       "\t<tr><td>Renewed</td><td>NA</td></tr>\n",
       "\t<tr><td>Renewed</td><td>NA</td></tr>\n",
       "</tbody>\n",
       "</table>\n"
      ],
      "text/latex": [
       "A data.frame: 2 × 2\n",
       "\\begin{tabular}{ll}\n",
       " actual & predicted\\\\\n",
       " <fct> & <dbl>\\\\\n",
       "\\hline\n",
       "\t Renewed & NA\\\\\n",
       "\t Renewed & NA\\\\\n",
       "\\end{tabular}\n"
      ],
      "text/markdown": [
       "\n",
       "A data.frame: 2 × 2\n",
       "\n",
       "| actual &lt;fct&gt; | predicted &lt;dbl&gt; |\n",
       "|---|---|\n",
       "| Renewed | NA |\n",
       "| Renewed | NA |\n",
       "\n"
      ],
      "text/plain": [
       "  actual  predicted\n",
       "1 Renewed NA       \n",
       "2 Renewed NA       "
      ]
     },
     "metadata": {},
     "output_type": "display_data"
    }
   ],
   "source": [
    "test"
   ]
  },
  {
   "cell_type": "code",
   "execution_count": 290,
   "metadata": {},
   "outputs": [
    {
     "data": {
      "text/html": [
       "<ol>\n",
       "\t<li>'model_seg_rf_10dencehispahard'</li>\n",
       "\t<li>'model_seg_rf_11internet'</li>\n",
       "\t<li>'model_seg_rf_1api'</li>\n",
       "\t<li>'model_seg_rf_abnameisp'</li>\n",
       "\t<li>'model_seg_rf_active24'</li>\n",
       "</ol>\n"
      ],
      "text/latex": [
       "\\begin{enumerate}\n",
       "\\item 'model\\_seg\\_rf\\_10dencehispahard'\n",
       "\\item 'model\\_seg\\_rf\\_11internet'\n",
       "\\item 'model\\_seg\\_rf\\_1api'\n",
       "\\item 'model\\_seg\\_rf\\_abnameisp'\n",
       "\\item 'model\\_seg\\_rf\\_active24'\n",
       "\\end{enumerate}\n"
      ],
      "text/markdown": [
       "1. 'model_seg_rf_10dencehispahard'\n",
       "2. 'model_seg_rf_11internet'\n",
       "3. 'model_seg_rf_1api'\n",
       "4. 'model_seg_rf_abnameisp'\n",
       "5. 'model_seg_rf_active24'\n",
       "\n",
       "\n"
      ],
      "text/plain": [
       "[[1]]\n",
       "[1] \"model_seg_rf_10dencehispahard\"\n",
       "\n",
       "[[2]]\n",
       "[1] \"model_seg_rf_11internet\"\n",
       "\n",
       "[[3]]\n",
       "[1] \"model_seg_rf_1api\"\n",
       "\n",
       "[[4]]\n",
       "[1] \"model_seg_rf_abnameisp\"\n",
       "\n",
       "[[5]]\n",
       "[1] \"model_seg_rf_active24\"\n"
      ]
     },
     "metadata": {},
     "output_type": "display_data"
    },
    {
     "data": {
      "text/html": [
       "<table>\n",
       "<caption>A matrix: 2 × 6 of type dbl</caption>\n",
       "<thead>\n",
       "\t<tr><th></th><th scope=col>used</th><th scope=col>(Mb)</th><th scope=col>gc trigger</th><th scope=col>(Mb)</th><th scope=col>max used</th><th scope=col>(Mb)</th></tr>\n",
       "</thead>\n",
       "<tbody>\n",
       "\t<tr><th scope=row>Ncells</th><td>  5848520</td><td>312.4</td><td> 13384612</td><td> 714.9</td><td> 13384612</td><td> 714.9</td></tr>\n",
       "\t<tr><th scope=row>Vcells</th><td>127591285</td><td>973.5</td><td>222902998</td><td>1700.7</td><td>222902921</td><td>1700.7</td></tr>\n",
       "</tbody>\n",
       "</table>\n"
      ],
      "text/latex": [
       "A matrix: 2 × 6 of type dbl\n",
       "\\begin{tabular}{r|llllll}\n",
       "  & used & (Mb) & gc trigger & (Mb) & max used & (Mb)\\\\\n",
       "\\hline\n",
       "\tNcells &   5848520 & 312.4 &  13384612 &  714.9 &  13384612 &  714.9\\\\\n",
       "\tVcells & 127591285 & 973.5 & 222902998 & 1700.7 & 222902921 & 1700.7\\\\\n",
       "\\end{tabular}\n"
      ],
      "text/markdown": [
       "\n",
       "A matrix: 2 × 6 of type dbl\n",
       "\n",
       "| <!--/--> | used | (Mb) | gc trigger | (Mb) | max used | (Mb) |\n",
       "|---|---|---|---|---|---|---|\n",
       "| Ncells |   5848520 | 312.4 |  13384612 |  714.9 |  13384612 |  714.9 |\n",
       "| Vcells | 127591285 | 973.5 | 222902998 | 1700.7 | 222902921 | 1700.7 |\n",
       "\n"
      ],
      "text/plain": [
       "       used      (Mb)  gc trigger (Mb)   max used  (Mb)  \n",
       "Ncells   5848520 312.4  13384612   714.9  13384612  714.9\n",
       "Vcells 127591285 973.5 222902998  1700.7 222902921 1700.7"
      ]
     },
     "metadata": {},
     "output_type": "display_data"
    }
   ],
   "source": [
    "lapply(Sys.glob(file.path(fullDir,'model_seg_rf_*')),load,.GlobalEnv)\n",
    "preds_seg_rf = lapply(tld_reseller_list, \n",
    "       function(tld_reseller_str) pred_seg_rf(\n",
    "           test_list, \n",
    "           tld_reseller_str)\n",
    "       )\n",
    "rm(list=ls(pattern='^model_seg_rf_'))\n",
    "gc()  "
   ]
  },
  {
   "cell_type": "code",
   "execution_count": 292,
   "metadata": {},
   "outputs": [
    {
     "data": {
      "text/html": [
       "<ol>\n",
       "\t<li>2</li>\n",
       "\t<li>2</li>\n",
       "\t<li>2</li>\n",
       "\t<li>NULL</li>\n",
       "\t<li>22</li>\n",
       "</ol>\n"
      ],
      "text/latex": [
       "\\begin{enumerate}\n",
       "\\item 2\n",
       "\\item 2\n",
       "\\item 2\n",
       "\\item NULL\n",
       "\\item 22\n",
       "\\end{enumerate}\n"
      ],
      "text/markdown": [
       "1. 2\n",
       "2. 2\n",
       "3. 2\n",
       "4. NULL\n",
       "5. 22\n",
       "\n",
       "\n"
      ],
      "text/plain": [
       "[[1]]\n",
       "[1] 2\n",
       "\n",
       "[[2]]\n",
       "[1] 2\n",
       "\n",
       "[[3]]\n",
       "[1] 2\n",
       "\n",
       "[[4]]\n",
       "NULL\n",
       "\n",
       "[[5]]\n",
       "[1] 22\n"
      ]
     },
     "metadata": {},
     "output_type": "display_data"
    },
    {
     "data": {
      "text/html": [
       "<ol>\n",
       "\t<li>2</li>\n",
       "\t<li>2</li>\n",
       "\t<li>2</li>\n",
       "\t<li>NULL</li>\n",
       "\t<li>22</li>\n",
       "</ol>\n"
      ],
      "text/latex": [
       "\\begin{enumerate}\n",
       "\\item 2\n",
       "\\item 2\n",
       "\\item 2\n",
       "\\item NULL\n",
       "\\item 22\n",
       "\\end{enumerate}\n"
      ],
      "text/markdown": [
       "1. 2\n",
       "2. 2\n",
       "3. 2\n",
       "4. NULL\n",
       "5. 22\n",
       "\n",
       "\n"
      ],
      "text/plain": [
       "[[1]]\n",
       "[1] 2\n",
       "\n",
       "[[2]]\n",
       "[1] 2\n",
       "\n",
       "[[3]]\n",
       "[1] 2\n",
       "\n",
       "[[4]]\n",
       "NULL\n",
       "\n",
       "[[5]]\n",
       "[1] 22\n"
      ]
     },
     "metadata": {},
     "output_type": "display_data"
    }
   ],
   "source": [
    "lapply(preds_seg_rf,nrow)\n",
    "lapply(preds_seg_glm,nrow)"
   ]
  },
  {
   "cell_type": "code",
   "execution_count": 293,
   "metadata": {},
   "outputs": [
    {
     "data": {
      "text/html": [
       "<ol>\n",
       "\t<li>'model_seg2_glm_fun10dencehispahard'</li>\n",
       "\t<li>'model_seg2_glm_fun11internet'</li>\n",
       "\t<li>'model_seg2_glm_fun1api'</li>\n",
       "\t<li>'model_seg2_glm_funabnameisp'</li>\n",
       "\t<li>'model_seg2_glm_funactive24'</li>\n",
       "</ol>\n"
      ],
      "text/latex": [
       "\\begin{enumerate}\n",
       "\\item 'model\\_seg2\\_glm\\_fun10dencehispahard'\n",
       "\\item 'model\\_seg2\\_glm\\_fun11internet'\n",
       "\\item 'model\\_seg2\\_glm\\_fun1api'\n",
       "\\item 'model\\_seg2\\_glm\\_funabnameisp'\n",
       "\\item 'model\\_seg2\\_glm\\_funactive24'\n",
       "\\end{enumerate}\n"
      ],
      "text/markdown": [
       "1. 'model_seg2_glm_fun10dencehispahard'\n",
       "2. 'model_seg2_glm_fun11internet'\n",
       "3. 'model_seg2_glm_fun1api'\n",
       "4. 'model_seg2_glm_funabnameisp'\n",
       "5. 'model_seg2_glm_funactive24'\n",
       "\n",
       "\n"
      ],
      "text/plain": [
       "[[1]]\n",
       "[1] \"model_seg2_glm_fun10dencehispahard\"\n",
       "\n",
       "[[2]]\n",
       "[1] \"model_seg2_glm_fun11internet\"\n",
       "\n",
       "[[3]]\n",
       "[1] \"model_seg2_glm_fun1api\"\n",
       "\n",
       "[[4]]\n",
       "[1] \"model_seg2_glm_funabnameisp\"\n",
       "\n",
       "[[5]]\n",
       "[1] \"model_seg2_glm_funactive24\"\n"
      ]
     },
     "metadata": {},
     "output_type": "display_data"
    }
   ],
   "source": [
    "lapply(Sys.glob(file.path(fullDir,'model_seg2_glm_*')),load,.GlobalEnv)"
   ]
  },
  {
   "cell_type": "code",
   "execution_count": 295,
   "metadata": {},
   "outputs": [
    {
     "name": "stderr",
     "output_type": "stream",
     "text": [
      "Warning message in if (is.na(model) | is.null(test_data)) {:\n",
      "“the condition has length > 1 and only the first element will be used”\n",
      "Warning message in predict.lm(object, newdata, se.fit, scale = 1, type = if (type == :\n",
      "“prediction from a rank-deficient fit may be misleading”\n",
      "Warning message in if (is.na(model) | is.null(test_data)) {:\n",
      "“the condition has length > 1 and only the first element will be used”\n",
      "Warning message in predict.lm(object, newdata, se.fit, scale = 1, type = if (type == :\n",
      "“prediction from a rank-deficient fit may be misleading”\n",
      "Warning message in if (is.na(model) | is.null(test_data)) {:\n",
      "“the condition has length > 1 and only the first element will be used”\n",
      "Warning message in predict.lm(object, newdata, se.fit, scale = 1, type = if (type == :\n",
      "“prediction from a rank-deficient fit may be misleading”\n"
     ]
    }
   ],
   "source": [
    "preds_seg2_glm = lapply(tld_reseller_list, \n",
    "   function(tld_reseller_str) pred_seg2_glm(\n",
    "       test_list, \n",
    "       tld_reseller_str)\n",
    "   )"
   ]
  },
  {
   "cell_type": "code",
   "execution_count": 296,
   "metadata": {},
   "outputs": [
    {
     "data": {
      "text/html": [
       "<ol>\n",
       "\t<li><table>\n",
       "<caption>A data.frame: 2 × 2</caption>\n",
       "<thead>\n",
       "\t<tr><th scope=col>actual</th><th scope=col>predicted</th></tr>\n",
       "\t<tr><th scope=col>&lt;fct&gt;</th><th scope=col>&lt;dbl&gt;</th></tr>\n",
       "</thead>\n",
       "<tbody>\n",
       "\t<tr><td>Renewed</td><td>0.8459141</td></tr>\n",
       "\t<tr><td>Renewed</td><td>0.4607455</td></tr>\n",
       "</tbody>\n",
       "</table>\n",
       "</li>\n",
       "\t<li><table>\n",
       "<caption>A data.frame: 2 × 2</caption>\n",
       "<thead>\n",
       "\t<tr><th scope=col>actual</th><th scope=col>predicted</th></tr>\n",
       "\t<tr><th scope=col>&lt;fct&gt;</th><th scope=col>&lt;lgl&gt;</th></tr>\n",
       "</thead>\n",
       "<tbody>\n",
       "\t<tr><td>Not Renewd</td><td>NA</td></tr>\n",
       "\t<tr><td>Not Renewd</td><td>NA</td></tr>\n",
       "</tbody>\n",
       "</table>\n",
       "</li>\n",
       "\t<li><table>\n",
       "<caption>A data.frame: 2 × 2</caption>\n",
       "<thead>\n",
       "\t<tr><th scope=col>actual</th><th scope=col>predicted</th></tr>\n",
       "\t<tr><th scope=col>&lt;fct&gt;</th><th scope=col>&lt;dbl&gt;</th></tr>\n",
       "</thead>\n",
       "<tbody>\n",
       "\t<tr><td>Renewed   </td><td>0.9999971</td></tr>\n",
       "\t<tr><td>Not Renewd</td><td>0.9999992</td></tr>\n",
       "</tbody>\n",
       "</table>\n",
       "</li>\n",
       "\t<li>&lt;NA&gt;</li>\n",
       "\t<li><table>\n",
       "<caption>A data.frame: 22 × 2</caption>\n",
       "<thead>\n",
       "\t<tr><th scope=col>actual</th><th scope=col>predicted</th></tr>\n",
       "\t<tr><th scope=col>&lt;fct&gt;</th><th scope=col>&lt;dbl&gt;</th></tr>\n",
       "</thead>\n",
       "<tbody>\n",
       "\t<tr><td>Not Renewd</td><td>1.710762e-09</td></tr>\n",
       "\t<tr><td>Not Renewd</td><td>2.825345e-01</td></tr>\n",
       "\t<tr><td>Not Renewd</td><td>2.842911e-01</td></tr>\n",
       "\t<tr><td>Not Renewd</td><td>2.905496e-01</td></tr>\n",
       "\t<tr><td>Not Renewd</td><td>2.516515e-01</td></tr>\n",
       "\t<tr><td>Not Renewd</td><td>2.583409e-01</td></tr>\n",
       "\t<tr><td>Not Renewd</td><td>1.904241e-01</td></tr>\n",
       "\t<tr><td>Renewed   </td><td>1.609926e-01</td></tr>\n",
       "\t<tr><td>Renewed   </td><td>1.373008e-01</td></tr>\n",
       "\t<tr><td>Renewed   </td><td>2.545271e-01</td></tr>\n",
       "\t<tr><td>Renewed   </td><td>2.647054e-01</td></tr>\n",
       "\t<tr><td>Not Renewd</td><td>2.403962e-09</td></tr>\n",
       "\t<tr><td>Not Renewd</td><td>2.730204e-01</td></tr>\n",
       "\t<tr><td>Not Renewd</td><td>2.740618e-01</td></tr>\n",
       "\t<tr><td>Not Renewd</td><td>3.254645e-01</td></tr>\n",
       "\t<tr><td>Not Renewd</td><td>2.220446e-16</td></tr>\n",
       "\t<tr><td>Not Renewd</td><td>2.220446e-16</td></tr>\n",
       "\t<tr><td>Not Renewd</td><td>2.220446e-16</td></tr>\n",
       "\t<tr><td>Not Renewd</td><td>2.804287e-01</td></tr>\n",
       "\t<tr><td>Not Renewd</td><td>1.349027e-03</td></tr>\n",
       "\t<tr><td>Not Renewd</td><td>3.008619e-01</td></tr>\n",
       "\t<tr><td>Renewed   </td><td>2.604631e-01</td></tr>\n",
       "</tbody>\n",
       "</table>\n",
       "</li>\n",
       "</ol>\n"
      ],
      "text/latex": [
       "\\begin{enumerate}\n",
       "\\item A data.frame: 2 × 2\n",
       "\\begin{tabular}{ll}\n",
       " actual & predicted\\\\\n",
       " <fct> & <dbl>\\\\\n",
       "\\hline\n",
       "\t Renewed & 0.8459141\\\\\n",
       "\t Renewed & 0.4607455\\\\\n",
       "\\end{tabular}\n",
       "\n",
       "\\item A data.frame: 2 × 2\n",
       "\\begin{tabular}{ll}\n",
       " actual & predicted\\\\\n",
       " <fct> & <lgl>\\\\\n",
       "\\hline\n",
       "\t Not Renewd & NA\\\\\n",
       "\t Not Renewd & NA\\\\\n",
       "\\end{tabular}\n",
       "\n",
       "\\item A data.frame: 2 × 2\n",
       "\\begin{tabular}{ll}\n",
       " actual & predicted\\\\\n",
       " <fct> & <dbl>\\\\\n",
       "\\hline\n",
       "\t Renewed    & 0.9999971\\\\\n",
       "\t Not Renewd & 0.9999992\\\\\n",
       "\\end{tabular}\n",
       "\n",
       "\\item <NA>\n",
       "\\item A data.frame: 22 × 2\n",
       "\\begin{tabular}{ll}\n",
       " actual & predicted\\\\\n",
       " <fct> & <dbl>\\\\\n",
       "\\hline\n",
       "\t Not Renewd & 1.710762e-09\\\\\n",
       "\t Not Renewd & 2.825345e-01\\\\\n",
       "\t Not Renewd & 2.842911e-01\\\\\n",
       "\t Not Renewd & 2.905496e-01\\\\\n",
       "\t Not Renewd & 2.516515e-01\\\\\n",
       "\t Not Renewd & 2.583409e-01\\\\\n",
       "\t Not Renewd & 1.904241e-01\\\\\n",
       "\t Renewed    & 1.609926e-01\\\\\n",
       "\t Renewed    & 1.373008e-01\\\\\n",
       "\t Renewed    & 2.545271e-01\\\\\n",
       "\t Renewed    & 2.647054e-01\\\\\n",
       "\t Not Renewd & 2.403962e-09\\\\\n",
       "\t Not Renewd & 2.730204e-01\\\\\n",
       "\t Not Renewd & 2.740618e-01\\\\\n",
       "\t Not Renewd & 3.254645e-01\\\\\n",
       "\t Not Renewd & 2.220446e-16\\\\\n",
       "\t Not Renewd & 2.220446e-16\\\\\n",
       "\t Not Renewd & 2.220446e-16\\\\\n",
       "\t Not Renewd & 2.804287e-01\\\\\n",
       "\t Not Renewd & 1.349027e-03\\\\\n",
       "\t Not Renewd & 3.008619e-01\\\\\n",
       "\t Renewed    & 2.604631e-01\\\\\n",
       "\\end{tabular}\n",
       "\n",
       "\\end{enumerate}\n"
      ],
      "text/markdown": [
       "1. \n",
       "A data.frame: 2 × 2\n",
       "\n",
       "| actual &lt;fct&gt; | predicted &lt;dbl&gt; |\n",
       "|---|---|\n",
       "| Renewed | 0.8459141 |\n",
       "| Renewed | 0.4607455 |\n",
       "\n",
       "\n",
       "2. \n",
       "A data.frame: 2 × 2\n",
       "\n",
       "| actual &lt;fct&gt; | predicted &lt;lgl&gt; |\n",
       "|---|---|\n",
       "| Not Renewd | NA |\n",
       "| Not Renewd | NA |\n",
       "\n",
       "\n",
       "3. \n",
       "A data.frame: 2 × 2\n",
       "\n",
       "| actual &lt;fct&gt; | predicted &lt;dbl&gt; |\n",
       "|---|---|\n",
       "| Renewed    | 0.9999971 |\n",
       "| Not Renewd | 0.9999992 |\n",
       "\n",
       "\n",
       "4. &lt;NA&gt;\n",
       "5. \n",
       "A data.frame: 22 × 2\n",
       "\n",
       "| actual &lt;fct&gt; | predicted &lt;dbl&gt; |\n",
       "|---|---|\n",
       "| Not Renewd | 1.710762e-09 |\n",
       "| Not Renewd | 2.825345e-01 |\n",
       "| Not Renewd | 2.842911e-01 |\n",
       "| Not Renewd | 2.905496e-01 |\n",
       "| Not Renewd | 2.516515e-01 |\n",
       "| Not Renewd | 2.583409e-01 |\n",
       "| Not Renewd | 1.904241e-01 |\n",
       "| Renewed    | 1.609926e-01 |\n",
       "| Renewed    | 1.373008e-01 |\n",
       "| Renewed    | 2.545271e-01 |\n",
       "| Renewed    | 2.647054e-01 |\n",
       "| Not Renewd | 2.403962e-09 |\n",
       "| Not Renewd | 2.730204e-01 |\n",
       "| Not Renewd | 2.740618e-01 |\n",
       "| Not Renewd | 3.254645e-01 |\n",
       "| Not Renewd | 2.220446e-16 |\n",
       "| Not Renewd | 2.220446e-16 |\n",
       "| Not Renewd | 2.220446e-16 |\n",
       "| Not Renewd | 2.804287e-01 |\n",
       "| Not Renewd | 1.349027e-03 |\n",
       "| Not Renewd | 3.008619e-01 |\n",
       "| Renewed    | 2.604631e-01 |\n",
       "\n",
       "\n",
       "\n",
       "\n"
      ],
      "text/plain": [
       "[[1]]\n",
       "   actual predicted\n",
       "1 Renewed 0.8459141\n",
       "2 Renewed 0.4607455\n",
       "\n",
       "[[2]]\n",
       "      actual predicted\n",
       "1 Not Renewd        NA\n",
       "2 Not Renewd        NA\n",
       "\n",
       "[[3]]\n",
       "      actual predicted\n",
       "1    Renewed 0.9999971\n",
       "2 Not Renewd 0.9999992\n",
       "\n",
       "[[4]]\n",
       "[1] NA\n",
       "\n",
       "[[5]]\n",
       "       actual    predicted\n",
       "1  Not Renewd 1.710762e-09\n",
       "2  Not Renewd 2.825345e-01\n",
       "3  Not Renewd 2.842911e-01\n",
       "4  Not Renewd 2.905496e-01\n",
       "5  Not Renewd 2.516515e-01\n",
       "6  Not Renewd 2.583409e-01\n",
       "7  Not Renewd 1.904241e-01\n",
       "8     Renewed 1.609926e-01\n",
       "9     Renewed 1.373008e-01\n",
       "10    Renewed 2.545271e-01\n",
       "11    Renewed 2.647054e-01\n",
       "12 Not Renewd 2.403962e-09\n",
       "13 Not Renewd 2.730204e-01\n",
       "14 Not Renewd 2.740618e-01\n",
       "15 Not Renewd 3.254645e-01\n",
       "16 Not Renewd 2.220446e-16\n",
       "17 Not Renewd 2.220446e-16\n",
       "18 Not Renewd 2.220446e-16\n",
       "19 Not Renewd 2.804287e-01\n",
       "20 Not Renewd 1.349027e-03\n",
       "21 Not Renewd 3.008619e-01\n",
       "22    Renewed 2.604631e-01\n"
      ]
     },
     "metadata": {},
     "output_type": "display_data"
    }
   ],
   "source": [
    "preds_seg2_glm"
   ]
  },
  {
   "cell_type": "code",
   "execution_count": 305,
   "metadata": {},
   "outputs": [
    {
     "data": {
      "text/html": [
       "<ol>\n",
       "\t<li>'model_seg2_rf_fun10dencehispahard'</li>\n",
       "\t<li>'model_seg2_rf_fun11internet'</li>\n",
       "\t<li>'model_seg2_rf_fun1api'</li>\n",
       "\t<li>'model_seg2_rf_funabnameisp'</li>\n",
       "\t<li>'model_seg2_rf_funactive24'</li>\n",
       "</ol>\n"
      ],
      "text/latex": [
       "\\begin{enumerate}\n",
       "\\item 'model\\_seg2\\_rf\\_fun10dencehispahard'\n",
       "\\item 'model\\_seg2\\_rf\\_fun11internet'\n",
       "\\item 'model\\_seg2\\_rf\\_fun1api'\n",
       "\\item 'model\\_seg2\\_rf\\_funabnameisp'\n",
       "\\item 'model\\_seg2\\_rf\\_funactive24'\n",
       "\\end{enumerate}\n"
      ],
      "text/markdown": [
       "1. 'model_seg2_rf_fun10dencehispahard'\n",
       "2. 'model_seg2_rf_fun11internet'\n",
       "3. 'model_seg2_rf_fun1api'\n",
       "4. 'model_seg2_rf_funabnameisp'\n",
       "5. 'model_seg2_rf_funactive24'\n",
       "\n",
       "\n"
      ],
      "text/plain": [
       "[[1]]\n",
       "[1] \"model_seg2_rf_fun10dencehispahard\"\n",
       "\n",
       "[[2]]\n",
       "[1] \"model_seg2_rf_fun11internet\"\n",
       "\n",
       "[[3]]\n",
       "[1] \"model_seg2_rf_fun1api\"\n",
       "\n",
       "[[4]]\n",
       "[1] \"model_seg2_rf_funabnameisp\"\n",
       "\n",
       "[[5]]\n",
       "[1] \"model_seg2_rf_funactive24\"\n"
      ]
     },
     "metadata": {},
     "output_type": "display_data"
    },
    {
     "data": {
      "text/html": [
       "<table>\n",
       "<caption>A matrix: 2 × 6 of type dbl</caption>\n",
       "<thead>\n",
       "\t<tr><th></th><th scope=col>used</th><th scope=col>(Mb)</th><th scope=col>gc trigger</th><th scope=col>(Mb)</th><th scope=col>max used</th><th scope=col>(Mb)</th></tr>\n",
       "</thead>\n",
       "<tbody>\n",
       "\t<tr><th scope=row>Ncells</th><td>  5908440</td><td>315.6</td><td> 13384612</td><td> 714.9</td><td> 13384612</td><td> 714.9</td></tr>\n",
       "\t<tr><th scope=row>Vcells</th><td>127788517</td><td>975.0</td><td>222902998</td><td>1700.7</td><td>222902921</td><td>1700.7</td></tr>\n",
       "</tbody>\n",
       "</table>\n"
      ],
      "text/latex": [
       "A matrix: 2 × 6 of type dbl\n",
       "\\begin{tabular}{r|llllll}\n",
       "  & used & (Mb) & gc trigger & (Mb) & max used & (Mb)\\\\\n",
       "\\hline\n",
       "\tNcells &   5908440 & 315.6 &  13384612 &  714.9 &  13384612 &  714.9\\\\\n",
       "\tVcells & 127788517 & 975.0 & 222902998 & 1700.7 & 222902921 & 1700.7\\\\\n",
       "\\end{tabular}\n"
      ],
      "text/markdown": [
       "\n",
       "A matrix: 2 × 6 of type dbl\n",
       "\n",
       "| <!--/--> | used | (Mb) | gc trigger | (Mb) | max used | (Mb) |\n",
       "|---|---|---|---|---|---|---|\n",
       "| Ncells |   5908440 | 315.6 |  13384612 |  714.9 |  13384612 |  714.9 |\n",
       "| Vcells | 127788517 | 975.0 | 222902998 | 1700.7 | 222902921 | 1700.7 |\n",
       "\n"
      ],
      "text/plain": [
       "       used      (Mb)  gc trigger (Mb)   max used  (Mb)  \n",
       "Ncells   5908440 315.6  13384612   714.9  13384612  714.9\n",
       "Vcells 127788517 975.0 222902998  1700.7 222902921 1700.7"
      ]
     },
     "metadata": {},
     "output_type": "display_data"
    }
   ],
   "source": [
    "lapply(Sys.glob(file.path(fullDir,'model_seg2_rf_*')),load,.GlobalEnv)\n",
    "preds_seg2_rf = lapply(tld_reseller_list, \n",
    "       function(tld_reseller_str) pred_seg2_rf(\n",
    "           test_list, \n",
    "           tld_reseller_str)\n",
    "       )\n",
    "rm(list=ls(pattern='^model_rf2_rf_'))\n",
    "gc()  "
   ]
  },
  {
   "cell_type": "code",
   "execution_count": 306,
   "metadata": {},
   "outputs": [
    {
     "data": {
      "text/html": [
       "<ol>\n",
       "\t<li><table>\n",
       "<caption>A data.frame: 2 × 2</caption>\n",
       "<thead>\n",
       "\t<tr><th scope=col>actual</th><th scope=col>predicted</th></tr>\n",
       "\t<tr><th scope=col>&lt;fct&gt;</th><th scope=col>&lt;dbl&gt;</th></tr>\n",
       "</thead>\n",
       "<tbody>\n",
       "\t<tr><td>Renewed</td><td>0.7125206</td></tr>\n",
       "\t<tr><td>Renewed</td><td>0.7248957</td></tr>\n",
       "</tbody>\n",
       "</table>\n",
       "</li>\n",
       "\t<li><table>\n",
       "<caption>A data.frame: 2 × 2</caption>\n",
       "<thead>\n",
       "\t<tr><th scope=col>actual</th><th scope=col>predicted</th></tr>\n",
       "\t<tr><th scope=col>&lt;fct&gt;</th><th scope=col>&lt;dbl&gt;</th></tr>\n",
       "</thead>\n",
       "<tbody>\n",
       "\t<tr><td>Not Renewd</td><td>0</td></tr>\n",
       "\t<tr><td>Not Renewd</td><td>0</td></tr>\n",
       "</tbody>\n",
       "</table>\n",
       "</li>\n",
       "\t<li><table>\n",
       "<caption>A data.frame: 2 × 2</caption>\n",
       "<thead>\n",
       "\t<tr><th scope=col>actual</th><th scope=col>predicted</th></tr>\n",
       "\t<tr><th scope=col>&lt;fct&gt;</th><th scope=col>&lt;dbl&gt;</th></tr>\n",
       "</thead>\n",
       "<tbody>\n",
       "\t<tr><td>Renewed   </td><td>0.832</td></tr>\n",
       "\t<tr><td>Not Renewd</td><td>0.832</td></tr>\n",
       "</tbody>\n",
       "</table>\n",
       "</li>\n",
       "\t<li>&lt;NA&gt;</li>\n",
       "\t<li><table>\n",
       "<caption>A data.frame: 22 × 2</caption>\n",
       "<thead>\n",
       "\t<tr><th scope=col>actual</th><th scope=col>predicted</th></tr>\n",
       "\t<tr><th scope=col>&lt;fct&gt;</th><th scope=col>&lt;dbl&gt;</th></tr>\n",
       "</thead>\n",
       "<tbody>\n",
       "\t<tr><td>Not Renewd</td><td>0.12787708</td></tr>\n",
       "\t<tr><td>Not Renewd</td><td>0.19177551</td></tr>\n",
       "\t<tr><td>Not Renewd</td><td>0.21341160</td></tr>\n",
       "\t<tr><td>Not Renewd</td><td>0.21341160</td></tr>\n",
       "\t<tr><td>Not Renewd</td><td>0.24060072</td></tr>\n",
       "\t<tr><td>Not Renewd</td><td>0.48983654</td></tr>\n",
       "\t<tr><td>Not Renewd</td><td>0.18419280</td></tr>\n",
       "\t<tr><td>Renewed   </td><td>0.13453123</td></tr>\n",
       "\t<tr><td>Renewed   </td><td>0.15543138</td></tr>\n",
       "\t<tr><td>Renewed   </td><td>0.47717256</td></tr>\n",
       "\t<tr><td>Renewed   </td><td>0.19280800</td></tr>\n",
       "\t<tr><td>Not Renewd</td><td>0.10189740</td></tr>\n",
       "\t<tr><td>Not Renewd</td><td>0.14208955</td></tr>\n",
       "\t<tr><td>Not Renewd</td><td>0.24971102</td></tr>\n",
       "\t<tr><td>Not Renewd</td><td>0.12808544</td></tr>\n",
       "\t<tr><td>Not Renewd</td><td>0.04513118</td></tr>\n",
       "\t<tr><td>Not Renewd</td><td>0.03465718</td></tr>\n",
       "\t<tr><td>Not Renewd</td><td>0.03465718</td></tr>\n",
       "\t<tr><td>Not Renewd</td><td>0.19105098</td></tr>\n",
       "\t<tr><td>Not Renewd</td><td>0.26015674</td></tr>\n",
       "\t<tr><td>Not Renewd</td><td>0.44650115</td></tr>\n",
       "\t<tr><td>Renewed   </td><td>0.25986827</td></tr>\n",
       "</tbody>\n",
       "</table>\n",
       "</li>\n",
       "</ol>\n"
      ],
      "text/latex": [
       "\\begin{enumerate}\n",
       "\\item A data.frame: 2 × 2\n",
       "\\begin{tabular}{ll}\n",
       " actual & predicted\\\\\n",
       " <fct> & <dbl>\\\\\n",
       "\\hline\n",
       "\t Renewed & 0.7125206\\\\\n",
       "\t Renewed & 0.7248957\\\\\n",
       "\\end{tabular}\n",
       "\n",
       "\\item A data.frame: 2 × 2\n",
       "\\begin{tabular}{ll}\n",
       " actual & predicted\\\\\n",
       " <fct> & <dbl>\\\\\n",
       "\\hline\n",
       "\t Not Renewd & 0\\\\\n",
       "\t Not Renewd & 0\\\\\n",
       "\\end{tabular}\n",
       "\n",
       "\\item A data.frame: 2 × 2\n",
       "\\begin{tabular}{ll}\n",
       " actual & predicted\\\\\n",
       " <fct> & <dbl>\\\\\n",
       "\\hline\n",
       "\t Renewed    & 0.832\\\\\n",
       "\t Not Renewd & 0.832\\\\\n",
       "\\end{tabular}\n",
       "\n",
       "\\item <NA>\n",
       "\\item A data.frame: 22 × 2\n",
       "\\begin{tabular}{ll}\n",
       " actual & predicted\\\\\n",
       " <fct> & <dbl>\\\\\n",
       "\\hline\n",
       "\t Not Renewd & 0.12787708\\\\\n",
       "\t Not Renewd & 0.19177551\\\\\n",
       "\t Not Renewd & 0.21341160\\\\\n",
       "\t Not Renewd & 0.21341160\\\\\n",
       "\t Not Renewd & 0.24060072\\\\\n",
       "\t Not Renewd & 0.48983654\\\\\n",
       "\t Not Renewd & 0.18419280\\\\\n",
       "\t Renewed    & 0.13453123\\\\\n",
       "\t Renewed    & 0.15543138\\\\\n",
       "\t Renewed    & 0.47717256\\\\\n",
       "\t Renewed    & 0.19280800\\\\\n",
       "\t Not Renewd & 0.10189740\\\\\n",
       "\t Not Renewd & 0.14208955\\\\\n",
       "\t Not Renewd & 0.24971102\\\\\n",
       "\t Not Renewd & 0.12808544\\\\\n",
       "\t Not Renewd & 0.04513118\\\\\n",
       "\t Not Renewd & 0.03465718\\\\\n",
       "\t Not Renewd & 0.03465718\\\\\n",
       "\t Not Renewd & 0.19105098\\\\\n",
       "\t Not Renewd & 0.26015674\\\\\n",
       "\t Not Renewd & 0.44650115\\\\\n",
       "\t Renewed    & 0.25986827\\\\\n",
       "\\end{tabular}\n",
       "\n",
       "\\end{enumerate}\n"
      ],
      "text/markdown": [
       "1. \n",
       "A data.frame: 2 × 2\n",
       "\n",
       "| actual &lt;fct&gt; | predicted &lt;dbl&gt; |\n",
       "|---|---|\n",
       "| Renewed | 0.7125206 |\n",
       "| Renewed | 0.7248957 |\n",
       "\n",
       "\n",
       "2. \n",
       "A data.frame: 2 × 2\n",
       "\n",
       "| actual &lt;fct&gt; | predicted &lt;dbl&gt; |\n",
       "|---|---|\n",
       "| Not Renewd | 0 |\n",
       "| Not Renewd | 0 |\n",
       "\n",
       "\n",
       "3. \n",
       "A data.frame: 2 × 2\n",
       "\n",
       "| actual &lt;fct&gt; | predicted &lt;dbl&gt; |\n",
       "|---|---|\n",
       "| Renewed    | 0.832 |\n",
       "| Not Renewd | 0.832 |\n",
       "\n",
       "\n",
       "4. &lt;NA&gt;\n",
       "5. \n",
       "A data.frame: 22 × 2\n",
       "\n",
       "| actual &lt;fct&gt; | predicted &lt;dbl&gt; |\n",
       "|---|---|\n",
       "| Not Renewd | 0.12787708 |\n",
       "| Not Renewd | 0.19177551 |\n",
       "| Not Renewd | 0.21341160 |\n",
       "| Not Renewd | 0.21341160 |\n",
       "| Not Renewd | 0.24060072 |\n",
       "| Not Renewd | 0.48983654 |\n",
       "| Not Renewd | 0.18419280 |\n",
       "| Renewed    | 0.13453123 |\n",
       "| Renewed    | 0.15543138 |\n",
       "| Renewed    | 0.47717256 |\n",
       "| Renewed    | 0.19280800 |\n",
       "| Not Renewd | 0.10189740 |\n",
       "| Not Renewd | 0.14208955 |\n",
       "| Not Renewd | 0.24971102 |\n",
       "| Not Renewd | 0.12808544 |\n",
       "| Not Renewd | 0.04513118 |\n",
       "| Not Renewd | 0.03465718 |\n",
       "| Not Renewd | 0.03465718 |\n",
       "| Not Renewd | 0.19105098 |\n",
       "| Not Renewd | 0.26015674 |\n",
       "| Not Renewd | 0.44650115 |\n",
       "| Renewed    | 0.25986827 |\n",
       "\n",
       "\n",
       "\n",
       "\n"
      ],
      "text/plain": [
       "[[1]]\n",
       "   actual predicted\n",
       "1 Renewed 0.7125206\n",
       "2 Renewed 0.7248957\n",
       "\n",
       "[[2]]\n",
       "      actual predicted\n",
       "1 Not Renewd         0\n",
       "2 Not Renewd         0\n",
       "\n",
       "[[3]]\n",
       "      actual predicted\n",
       "1    Renewed     0.832\n",
       "2 Not Renewd     0.832\n",
       "\n",
       "[[4]]\n",
       "[1] NA\n",
       "\n",
       "[[5]]\n",
       "       actual  predicted\n",
       "1  Not Renewd 0.12787708\n",
       "2  Not Renewd 0.19177551\n",
       "3  Not Renewd 0.21341160\n",
       "4  Not Renewd 0.21341160\n",
       "5  Not Renewd 0.24060072\n",
       "6  Not Renewd 0.48983654\n",
       "7  Not Renewd 0.18419280\n",
       "8     Renewed 0.13453123\n",
       "9     Renewed 0.15543138\n",
       "10    Renewed 0.47717256\n",
       "11    Renewed 0.19280800\n",
       "12 Not Renewd 0.10189740\n",
       "13 Not Renewd 0.14208955\n",
       "14 Not Renewd 0.24971102\n",
       "15 Not Renewd 0.12808544\n",
       "16 Not Renewd 0.04513118\n",
       "17 Not Renewd 0.03465718\n",
       "18 Not Renewd 0.03465718\n",
       "19 Not Renewd 0.19105098\n",
       "20 Not Renewd 0.26015674\n",
       "21 Not Renewd 0.44650115\n",
       "22    Renewed 0.25986827\n"
      ]
     },
     "metadata": {},
     "output_type": "display_data"
    }
   ],
   "source": [
    "preds_seg2_rf"
   ]
  },
  {
   "cell_type": "code",
   "execution_count": 307,
   "metadata": {},
   "outputs": [
    {
     "data": {
      "text/html": [
       "<ol>\n",
       "\t<li>2</li>\n",
       "\t<li>2</li>\n",
       "\t<li>2</li>\n",
       "\t<li>NULL</li>\n",
       "\t<li>22</li>\n",
       "</ol>\n"
      ],
      "text/latex": [
       "\\begin{enumerate}\n",
       "\\item 2\n",
       "\\item 2\n",
       "\\item 2\n",
       "\\item NULL\n",
       "\\item 22\n",
       "\\end{enumerate}\n"
      ],
      "text/markdown": [
       "1. 2\n",
       "2. 2\n",
       "3. 2\n",
       "4. NULL\n",
       "5. 22\n",
       "\n",
       "\n"
      ],
      "text/plain": [
       "[[1]]\n",
       "[1] 2\n",
       "\n",
       "[[2]]\n",
       "[1] 2\n",
       "\n",
       "[[3]]\n",
       "[1] 2\n",
       "\n",
       "[[4]]\n",
       "NULL\n",
       "\n",
       "[[5]]\n",
       "[1] 22\n"
      ]
     },
     "metadata": {},
     "output_type": "display_data"
    },
    {
     "data": {
      "text/html": [
       "<ol>\n",
       "\t<li>2</li>\n",
       "\t<li>2</li>\n",
       "\t<li>2</li>\n",
       "\t<li>NULL</li>\n",
       "\t<li>22</li>\n",
       "</ol>\n"
      ],
      "text/latex": [
       "\\begin{enumerate}\n",
       "\\item 2\n",
       "\\item 2\n",
       "\\item 2\n",
       "\\item NULL\n",
       "\\item 22\n",
       "\\end{enumerate}\n"
      ],
      "text/markdown": [
       "1. 2\n",
       "2. 2\n",
       "3. 2\n",
       "4. NULL\n",
       "5. 22\n",
       "\n",
       "\n"
      ],
      "text/plain": [
       "[[1]]\n",
       "[1] 2\n",
       "\n",
       "[[2]]\n",
       "[1] 2\n",
       "\n",
       "[[3]]\n",
       "[1] 2\n",
       "\n",
       "[[4]]\n",
       "NULL\n",
       "\n",
       "[[5]]\n",
       "[1] 22\n"
      ]
     },
     "metadata": {},
     "output_type": "display_data"
    },
    {
     "data": {
      "text/html": [
       "<ol>\n",
       "\t<li>2</li>\n",
       "\t<li>2</li>\n",
       "\t<li>2</li>\n",
       "\t<li>NULL</li>\n",
       "\t<li>22</li>\n",
       "</ol>\n"
      ],
      "text/latex": [
       "\\begin{enumerate}\n",
       "\\item 2\n",
       "\\item 2\n",
       "\\item 2\n",
       "\\item NULL\n",
       "\\item 22\n",
       "\\end{enumerate}\n"
      ],
      "text/markdown": [
       "1. 2\n",
       "2. 2\n",
       "3. 2\n",
       "4. NULL\n",
       "5. 22\n",
       "\n",
       "\n"
      ],
      "text/plain": [
       "[[1]]\n",
       "[1] 2\n",
       "\n",
       "[[2]]\n",
       "[1] 2\n",
       "\n",
       "[[3]]\n",
       "[1] 2\n",
       "\n",
       "[[4]]\n",
       "NULL\n",
       "\n",
       "[[5]]\n",
       "[1] 22\n"
      ]
     },
     "metadata": {},
     "output_type": "display_data"
    },
    {
     "data": {
      "text/html": [
       "<ol>\n",
       "\t<li>2</li>\n",
       "\t<li>2</li>\n",
       "\t<li>2</li>\n",
       "\t<li>NULL</li>\n",
       "\t<li>22</li>\n",
       "</ol>\n"
      ],
      "text/latex": [
       "\\begin{enumerate}\n",
       "\\item 2\n",
       "\\item 2\n",
       "\\item 2\n",
       "\\item NULL\n",
       "\\item 22\n",
       "\\end{enumerate}\n"
      ],
      "text/markdown": [
       "1. 2\n",
       "2. 2\n",
       "3. 2\n",
       "4. NULL\n",
       "5. 22\n",
       "\n",
       "\n"
      ],
      "text/plain": [
       "[[1]]\n",
       "[1] 2\n",
       "\n",
       "[[2]]\n",
       "[1] 2\n",
       "\n",
       "[[3]]\n",
       "[1] 2\n",
       "\n",
       "[[4]]\n",
       "NULL\n",
       "\n",
       "[[5]]\n",
       "[1] 22\n"
      ]
     },
     "metadata": {},
     "output_type": "display_data"
    }
   ],
   "source": [
    "lapply(preds_seg_rf,nrow)\n",
    "lapply(preds_seg_glm,nrow)\n",
    "lapply(preds_seg2_glm,nrow)\n",
    "lapply(preds_seg2_rf,nrow)\n",
    "# lapply(preds_seg_glm,nrow)"
   ]
  },
  {
   "cell_type": "code",
   "execution_count": 303,
   "metadata": {},
   "outputs": [],
   "source": [
    "\n",
    "source('functions_metalearning.R')"
   ]
  },
  {
   "cell_type": "markdown",
   "metadata": {},
   "source": [
    "## combine all preds, cbind with test"
   ]
  },
  {
   "cell_type": "code",
   "execution_count": 336,
   "metadata": {},
   "outputs": [
    {
     "name": "stdout",
     "output_type": "stream",
     "text": [
      "[1] 1\n"
     ]
    },
    {
     "name": "stderr",
     "output_type": "stream",
     "text": [
      "Warning message in if (is.na(preds_seg_glm[[i]])) {:\n",
      "“the condition has length > 1 and only the first element will be used”\n"
     ]
    },
    {
     "name": "stdout",
     "output_type": "stream",
     "text": [
      "[1] 2\n"
     ]
    },
    {
     "name": "stderr",
     "output_type": "stream",
     "text": [
      "Warning message in if (is.na(preds_seg_glm[[i]])) {:\n",
      "“the condition has length > 1 and only the first element will be used”\n"
     ]
    },
    {
     "name": "stdout",
     "output_type": "stream",
     "text": [
      "[1] 3\n"
     ]
    },
    {
     "name": "stderr",
     "output_type": "stream",
     "text": [
      "Warning message in if (is.na(preds_seg_glm[[i]])) {:\n",
      "“the condition has length > 1 and only the first element will be used”\n"
     ]
    },
    {
     "name": "stdout",
     "output_type": "stream",
     "text": [
      "[1] 4\n",
      "[1] 5\n"
     ]
    },
    {
     "name": "stderr",
     "output_type": "stream",
     "text": [
      "Warning message in if (is.na(preds_seg_glm[[i]])) {:\n",
      "“the condition has length > 1 and only the first element will be used”\n"
     ]
    }
   ],
   "source": [
    "x = list()\n",
    "    i=1\n",
    "for (tld_reseller_str in tld_reseller_list) {\n",
    "    print(i)\n",
    "    if (is.na(preds_seg_glm[[i]])) {\n",
    "        x[[tld_reseller_str]]= NA\n",
    "    } else{\n",
    "        x[[tld_reseller_str]] = cbind(\n",
    "            test_list[[tld_reseller_str]],\n",
    "      preds_seg_glm[[i]]$predicted,\n",
    "      preds_seg_rf[[i]]$predicted,\n",
    "      preds_seg2_glm[[i]]$predicted,\n",
    "      preds_seg2_rf[[i]]$predicted)\n",
    "    }\n",
    "    \n",
    "    i=i+1\n",
    "}\n",
    "    \n",
    "    "
   ]
  },
  {
   "cell_type": "code",
   "execution_count": 337,
   "metadata": {},
   "outputs": [
    {
     "data": {
      "text/html": [
       "<dl>\n",
       "\t<dt>$`fun1&amp;1 internet`</dt>\n",
       "\t\t<dd><table>\n",
       "<caption>A data.table: 2 × 43</caption>\n",
       "<thead>\n",
       "\t<tr><th scope=col>renewal_type</th><th scope=col>renewed_count</th><th scope=col>expiry_date</th><th scope=col>domain_id</th><th scope=col>domain</th><th scope=col>creation_date</th><th scope=col>status</th><th scope=col>tld</th><th scope=col>registrar</th><th scope=col>reseller</th><th scope=col>reseller_country</th><th scope=col>region</th><th scope=col>reg_period</th><th scope=col>registrant_country</th><th scope=col>renewal_status</th><th scope=col>renew_mbg</th><th scope=col>renew_type</th><th scope=col>autorenew_type</th><th scope=col>renew_date</th><th scope=col>renew_registrar</th><th scope=col>renew_reseller</th><th scope=col>reg_revenue</th><th scope=col>reg_arpt</th><th scope=col>renew_period</th><th scope=col>renew_domain_revenue</th><th scope=col>renew_arpt</th><th scope=col>reg_arpt_org</th><th scope=col>tld_registrar_index</th><th scope=col>sld</th><th scope=col>sld_type</th><th scope=col>sld_length</th><th scope=col>sld_type2</th><th scope=col>day_domains</th><th scope=col>log_reg_arpt</th><th scope=col>gibb_score</th><th scope=col>pattern</th><th scope=col>cluster</th><th scope=col>pattern_score</th><th scope=col>pattern_domain_count</th><th scope=col>V2</th><th scope=col>V3</th><th scope=col>V4</th><th scope=col>V5</th></tr>\n",
       "\t<tr><th scope=col>&lt;chr&gt;</th><th scope=col>&lt;int&gt;</th><th scope=col>&lt;date&gt;</th><th scope=col>&lt;int&gt;</th><th scope=col>&lt;chr&gt;</th><th scope=col>&lt;date&gt;</th><th scope=col>&lt;chr&gt;</th><th scope=col>&lt;fct&gt;</th><th scope=col>&lt;chr&gt;</th><th scope=col>&lt;chr&gt;</th><th scope=col>&lt;chr&gt;</th><th scope=col>&lt;chr&gt;</th><th scope=col>&lt;int&gt;</th><th scope=col>&lt;chr&gt;</th><th scope=col>&lt;fct&gt;</th><th scope=col>&lt;int&gt;</th><th scope=col>&lt;chr&gt;</th><th scope=col>&lt;chr&gt;</th><th scope=col>&lt;date&gt;</th><th scope=col>&lt;chr&gt;</th><th scope=col>&lt;chr&gt;</th><th scope=col>&lt;dbl&gt;</th><th scope=col>&lt;dbl&gt;</th><th scope=col>&lt;int&gt;</th><th scope=col>&lt;dbl&gt;</th><th scope=col>&lt;dbl&gt;</th><th scope=col>&lt;dbl&gt;</th><th scope=col>&lt;chr&gt;</th><th scope=col>&lt;chr&gt;</th><th scope=col>&lt;fct&gt;</th><th scope=col>&lt;int&gt;</th><th scope=col>&lt;chr&gt;</th><th scope=col>&lt;int&gt;</th><th scope=col>&lt;dbl&gt;</th><th scope=col>&lt;dbl&gt;</th><th scope=col>&lt;chr&gt;</th><th scope=col>&lt;dbl&gt;</th><th scope=col>&lt;dbl&gt;</th><th scope=col>&lt;int&gt;</th><th scope=col>&lt;dbl&gt;</th><th scope=col>&lt;dbl&gt;</th><th scope=col>&lt;dbl&gt;</th><th scope=col>&lt;dbl&gt;</th></tr>\n",
       "</thead>\n",
       "<tbody>\n",
       "\t<tr><td>FirstTime</td><td>1</td><td>2020-01-22</td><td>91639803</td><td><span style=white-space:pre-wrap>segeln.fun   </span></td><td>2019-01-22</td><td>Active</td><td>fun</td><td>1&amp;1 internet</td><td>1&amp;1 internet</td><td>Germany</td><td>Non China</td><td>1</td><td>NA</td><td>Renewed</td><td>0</td><td>auto-renewal</td><td>realized</td><td>2020-01-22</td><td>1&amp;1 Internet</td><td>1&amp;1 Internet</td><td>15</td><td>15</td><td>1</td><td>15</td><td>15</td><td>15</td><td>fun1&amp;1 internet</td><td><span style=white-space:pre-wrap>segeln   </span></td><td>l</td><td>6</td><td>6l</td><td>1</td><td>2.70805</td><td>2.23</td><td><span style=white-space:pre-wrap>segeln   </span></td><td>1</td><td>1</td><td>1</td><td>0.802</td><td>0.6801492</td><td>0.7125206</td><td>0.7125206</td></tr>\n",
       "\t<tr><td>FirstTime</td><td>1</td><td>2020-03-07</td><td>95819759</td><td>harzhotel.fun</td><td>2019-03-07</td><td>Active</td><td>fun</td><td>1&amp;1 internet</td><td>1&amp;1 internet</td><td>Germany</td><td>Non China</td><td>1</td><td>NA</td><td>Renewed</td><td>0</td><td>auto-renewal</td><td>realized</td><td>2020-03-07</td><td>1&amp;1 Internet</td><td>1&amp;1 Internet</td><td>15</td><td>15</td><td>1</td><td>15</td><td>15</td><td>15</td><td>fun1&amp;1 internet</td><td>harzhotel</td><td>l</td><td>9</td><td>9l</td><td>1</td><td>2.70805</td><td>3.45</td><td>harzhotel</td><td>1</td><td>1</td><td>1</td><td>0.785</td><td>0.6428311</td><td>0.7248957</td><td>0.7248957</td></tr>\n",
       "</tbody>\n",
       "</table>\n",
       "</dd>\n",
       "\t<dt>$fun10dencehispahard</dt>\n",
       "\t\t<dd><table>\n",
       "<caption>A data.table: 2 × 43</caption>\n",
       "<thead>\n",
       "\t<tr><th scope=col>renewal_type</th><th scope=col>renewed_count</th><th scope=col>expiry_date</th><th scope=col>domain_id</th><th scope=col>domain</th><th scope=col>creation_date</th><th scope=col>status</th><th scope=col>tld</th><th scope=col>registrar</th><th scope=col>reseller</th><th scope=col>reseller_country</th><th scope=col>region</th><th scope=col>reg_period</th><th scope=col>registrant_country</th><th scope=col>renewal_status</th><th scope=col>renew_mbg</th><th scope=col>renew_type</th><th scope=col>autorenew_type</th><th scope=col>renew_date</th><th scope=col>renew_registrar</th><th scope=col>renew_reseller</th><th scope=col>reg_revenue</th><th scope=col>reg_arpt</th><th scope=col>renew_period</th><th scope=col>renew_domain_revenue</th><th scope=col>renew_arpt</th><th scope=col>reg_arpt_org</th><th scope=col>tld_registrar_index</th><th scope=col>sld</th><th scope=col>sld_type</th><th scope=col>sld_length</th><th scope=col>sld_type2</th><th scope=col>day_domains</th><th scope=col>log_reg_arpt</th><th scope=col>gibb_score</th><th scope=col>pattern</th><th scope=col>cluster</th><th scope=col>pattern_score</th><th scope=col>pattern_domain_count</th><th scope=col>V2</th><th scope=col>V3</th><th scope=col>V4</th><th scope=col>V5</th></tr>\n",
       "\t<tr><th scope=col>&lt;chr&gt;</th><th scope=col>&lt;int&gt;</th><th scope=col>&lt;date&gt;</th><th scope=col>&lt;int&gt;</th><th scope=col>&lt;chr&gt;</th><th scope=col>&lt;date&gt;</th><th scope=col>&lt;chr&gt;</th><th scope=col>&lt;fct&gt;</th><th scope=col>&lt;chr&gt;</th><th scope=col>&lt;chr&gt;</th><th scope=col>&lt;chr&gt;</th><th scope=col>&lt;chr&gt;</th><th scope=col>&lt;int&gt;</th><th scope=col>&lt;chr&gt;</th><th scope=col>&lt;fct&gt;</th><th scope=col>&lt;int&gt;</th><th scope=col>&lt;chr&gt;</th><th scope=col>&lt;chr&gt;</th><th scope=col>&lt;date&gt;</th><th scope=col>&lt;chr&gt;</th><th scope=col>&lt;chr&gt;</th><th scope=col>&lt;dbl&gt;</th><th scope=col>&lt;dbl&gt;</th><th scope=col>&lt;int&gt;</th><th scope=col>&lt;dbl&gt;</th><th scope=col>&lt;dbl&gt;</th><th scope=col>&lt;dbl&gt;</th><th scope=col>&lt;chr&gt;</th><th scope=col>&lt;chr&gt;</th><th scope=col>&lt;fct&gt;</th><th scope=col>&lt;int&gt;</th><th scope=col>&lt;chr&gt;</th><th scope=col>&lt;int&gt;</th><th scope=col>&lt;dbl&gt;</th><th scope=col>&lt;dbl&gt;</th><th scope=col>&lt;chr&gt;</th><th scope=col>&lt;dbl&gt;</th><th scope=col>&lt;dbl&gt;</th><th scope=col>&lt;int&gt;</th><th scope=col>&lt;dbl&gt;</th><th scope=col>&lt;dbl&gt;</th><th scope=col>&lt;dbl&gt;</th><th scope=col>&lt;dbl&gt;</th></tr>\n",
       "</thead>\n",
       "<tbody>\n",
       "\t<tr><td>FirstTime</td><td>1</td><td>2020-01-15</td><td>91044973</td><td>movistar.fun</td><td>2019-01-15</td><td>Active</td><td>fun</td><td>10dencehispahard</td><td>10dencehispahard</td><td>Spain</td><td>Non China</td><td>1</td><td>NA</td><td>Not Renewd</td><td>0</td><td>auto-renewal</td><td>unrealized</td><td>2020-01-15</td><td>10dencehispahard</td><td>10dencehispahard</td><td>15</td><td>15</td><td>1</td><td>15</td><td>15</td><td>15</td><td>fun10dencehispahard</td><td>movistar</td><td>l</td><td>8</td><td>8l</td><td>1</td><td>2.70805</td><td>8.62</td><td>movistar</td><td>1</td><td>1</td><td>1</td><td>0</td><td>0.3462084</td><td>0</td><td>0</td></tr>\n",
       "\t<tr><td>FirstTime</td><td>1</td><td>2020-02-01</td><td>92472913</td><td>kuinik.fun  </td><td>2019-02-01</td><td>Active</td><td>fun</td><td>10dencehispahard</td><td>10dencehispahard</td><td>Spain</td><td>Non China</td><td>1</td><td>NA</td><td>Not Renewd</td><td>0</td><td>auto-renewal</td><td>unrealized</td><td>2020-02-01</td><td>10dencehispahard</td><td>10dencehispahard</td><td>15</td><td>15</td><td>1</td><td>15</td><td>15</td><td>15</td><td>fun10dencehispahard</td><td>kuinik  </td><td>l</td><td>6</td><td>6l</td><td>1</td><td>2.70805</td><td>3.13</td><td>kuinik  </td><td>1</td><td>1</td><td>1</td><td>0</td><td>0.3169892</td><td>0</td><td>0</td></tr>\n",
       "</tbody>\n",
       "</table>\n",
       "</dd>\n",
       "\t<dt>$fun1api</dt>\n",
       "\t\t<dd><table>\n",
       "<caption>A data.table: 2 × 43</caption>\n",
       "<thead>\n",
       "\t<tr><th scope=col>renewal_type</th><th scope=col>renewed_count</th><th scope=col>expiry_date</th><th scope=col>domain_id</th><th scope=col>domain</th><th scope=col>creation_date</th><th scope=col>status</th><th scope=col>tld</th><th scope=col>registrar</th><th scope=col>reseller</th><th scope=col>reseller_country</th><th scope=col>region</th><th scope=col>reg_period</th><th scope=col>registrant_country</th><th scope=col>renewal_status</th><th scope=col>renew_mbg</th><th scope=col>renew_type</th><th scope=col>autorenew_type</th><th scope=col>renew_date</th><th scope=col>renew_registrar</th><th scope=col>renew_reseller</th><th scope=col>reg_revenue</th><th scope=col>reg_arpt</th><th scope=col>renew_period</th><th scope=col>renew_domain_revenue</th><th scope=col>renew_arpt</th><th scope=col>reg_arpt_org</th><th scope=col>tld_registrar_index</th><th scope=col>sld</th><th scope=col>sld_type</th><th scope=col>sld_length</th><th scope=col>sld_type2</th><th scope=col>day_domains</th><th scope=col>log_reg_arpt</th><th scope=col>gibb_score</th><th scope=col>pattern</th><th scope=col>cluster</th><th scope=col>pattern_score</th><th scope=col>pattern_domain_count</th><th scope=col>V2</th><th scope=col>V3</th><th scope=col>V4</th><th scope=col>V5</th></tr>\n",
       "\t<tr><th scope=col>&lt;chr&gt;</th><th scope=col>&lt;int&gt;</th><th scope=col>&lt;date&gt;</th><th scope=col>&lt;int&gt;</th><th scope=col>&lt;chr&gt;</th><th scope=col>&lt;date&gt;</th><th scope=col>&lt;chr&gt;</th><th scope=col>&lt;fct&gt;</th><th scope=col>&lt;chr&gt;</th><th scope=col>&lt;chr&gt;</th><th scope=col>&lt;chr&gt;</th><th scope=col>&lt;chr&gt;</th><th scope=col>&lt;int&gt;</th><th scope=col>&lt;chr&gt;</th><th scope=col>&lt;fct&gt;</th><th scope=col>&lt;int&gt;</th><th scope=col>&lt;chr&gt;</th><th scope=col>&lt;chr&gt;</th><th scope=col>&lt;date&gt;</th><th scope=col>&lt;chr&gt;</th><th scope=col>&lt;chr&gt;</th><th scope=col>&lt;dbl&gt;</th><th scope=col>&lt;dbl&gt;</th><th scope=col>&lt;int&gt;</th><th scope=col>&lt;dbl&gt;</th><th scope=col>&lt;dbl&gt;</th><th scope=col>&lt;dbl&gt;</th><th scope=col>&lt;chr&gt;</th><th scope=col>&lt;chr&gt;</th><th scope=col>&lt;fct&gt;</th><th scope=col>&lt;int&gt;</th><th scope=col>&lt;chr&gt;</th><th scope=col>&lt;int&gt;</th><th scope=col>&lt;dbl&gt;</th><th scope=col>&lt;dbl&gt;</th><th scope=col>&lt;chr&gt;</th><th scope=col>&lt;dbl&gt;</th><th scope=col>&lt;dbl&gt;</th><th scope=col>&lt;int&gt;</th><th scope=col>&lt;dbl&gt;</th><th scope=col>&lt;dbl&gt;</th><th scope=col>&lt;dbl&gt;</th><th scope=col>&lt;dbl&gt;</th></tr>\n",
       "</thead>\n",
       "<tbody>\n",
       "\t<tr><td>FirstTime</td><td>1</td><td>2020-01-21</td><td> 91532433</td><td>bulgari.fun</td><td>2019-01-21</td><td>Active</td><td>fun</td><td>1api</td><td>1api</td><td>Germany</td><td>Non China</td><td>1</td><td>NA</td><td>Renewed   </td><td>0</td><td>auto-renewal</td><td>realized  </td><td>2020-01-21</td><td>1API</td><td>1API</td><td>5</td><td>5</td><td>1</td><td>15</td><td>15</td><td>5</td><td>fun1api</td><td>bulgari</td><td>l</td><td>7</td><td>7l</td><td>1</td><td>1.609438</td><td>4.51</td><td>bulgari</td><td>1</td><td>1</td><td>1</td><td>0.842</td><td>0.8486598</td><td>0.832</td><td>0.832</td></tr>\n",
       "\t<tr><td>FirstTime</td><td>1</td><td>2020-04-24</td><td>101717674</td><td>gotsome.fun</td><td>2019-04-24</td><td>Active</td><td>fun</td><td>1api</td><td>1api</td><td>Germany</td><td>Non China</td><td>1</td><td>NA</td><td>Not Renewd</td><td>0</td><td>auto-renewal</td><td>unrealized</td><td>2020-04-24</td><td>1API</td><td>1API</td><td>5</td><td>5</td><td>1</td><td>15</td><td>15</td><td>5</td><td>fun1api</td><td>gotsome</td><td>l</td><td>7</td><td>7l</td><td>1</td><td>1.609438</td><td>6.09</td><td>gotsome</td><td>1</td><td>1</td><td>1</td><td>0.843</td><td>0.8421671</td><td>0.832</td><td>0.832</td></tr>\n",
       "</tbody>\n",
       "</table>\n",
       "</dd>\n",
       "\t<dt>$`funab name isp`</dt>\n",
       "\t\t<dd>&lt;NA&gt;</dd>\n",
       "\t<dt>$`funactive 24`</dt>\n",
       "\t\t<dd><table>\n",
       "<caption>A data.table: 22 × 43</caption>\n",
       "<thead>\n",
       "\t<tr><th scope=col>renewal_type</th><th scope=col>renewed_count</th><th scope=col>expiry_date</th><th scope=col>domain_id</th><th scope=col>domain</th><th scope=col>creation_date</th><th scope=col>status</th><th scope=col>tld</th><th scope=col>registrar</th><th scope=col>reseller</th><th scope=col>reseller_country</th><th scope=col>region</th><th scope=col>reg_period</th><th scope=col>registrant_country</th><th scope=col>renewal_status</th><th scope=col>renew_mbg</th><th scope=col>renew_type</th><th scope=col>autorenew_type</th><th scope=col>renew_date</th><th scope=col>renew_registrar</th><th scope=col>renew_reseller</th><th scope=col>reg_revenue</th><th scope=col>reg_arpt</th><th scope=col>renew_period</th><th scope=col>renew_domain_revenue</th><th scope=col>renew_arpt</th><th scope=col>reg_arpt_org</th><th scope=col>tld_registrar_index</th><th scope=col>sld</th><th scope=col>sld_type</th><th scope=col>sld_length</th><th scope=col>sld_type2</th><th scope=col>day_domains</th><th scope=col>log_reg_arpt</th><th scope=col>gibb_score</th><th scope=col>cluster</th><th scope=col>pattern</th><th scope=col>pattern_score</th><th scope=col>pattern_domain_count</th><th scope=col>V2</th><th scope=col>V3</th><th scope=col>V4</th><th scope=col>V5</th></tr>\n",
       "\t<tr><th scope=col>&lt;chr&gt;</th><th scope=col>&lt;int&gt;</th><th scope=col>&lt;date&gt;</th><th scope=col>&lt;int&gt;</th><th scope=col>&lt;chr&gt;</th><th scope=col>&lt;date&gt;</th><th scope=col>&lt;chr&gt;</th><th scope=col>&lt;fct&gt;</th><th scope=col>&lt;chr&gt;</th><th scope=col>&lt;chr&gt;</th><th scope=col>&lt;chr&gt;</th><th scope=col>&lt;chr&gt;</th><th scope=col>&lt;int&gt;</th><th scope=col>&lt;chr&gt;</th><th scope=col>&lt;fct&gt;</th><th scope=col>&lt;int&gt;</th><th scope=col>&lt;chr&gt;</th><th scope=col>&lt;chr&gt;</th><th scope=col>&lt;date&gt;</th><th scope=col>&lt;chr&gt;</th><th scope=col>&lt;chr&gt;</th><th scope=col>&lt;dbl&gt;</th><th scope=col>&lt;dbl&gt;</th><th scope=col>&lt;int&gt;</th><th scope=col>&lt;dbl&gt;</th><th scope=col>&lt;dbl&gt;</th><th scope=col>&lt;dbl&gt;</th><th scope=col>&lt;chr&gt;</th><th scope=col>&lt;chr&gt;</th><th scope=col>&lt;fct&gt;</th><th scope=col>&lt;int&gt;</th><th scope=col>&lt;chr&gt;</th><th scope=col>&lt;int&gt;</th><th scope=col>&lt;dbl&gt;</th><th scope=col>&lt;dbl&gt;</th><th scope=col>&lt;chr&gt;</th><th scope=col>&lt;chr&gt;</th><th scope=col>&lt;dbl&gt;</th><th scope=col>&lt;int&gt;</th><th scope=col>&lt;dbl&gt;</th><th scope=col>&lt;dbl&gt;</th><th scope=col>&lt;dbl&gt;</th><th scope=col>&lt;dbl&gt;</th></tr>\n",
       "</thead>\n",
       "<tbody>\n",
       "\t<tr><td>FirstTime</td><td>1</td><td>2020-01-16</td><td> 91155123</td><td>e-smokevirtual.fun</td><td>2019-01-16</td><td>Active</td><td>fun</td><td>ascio</td><td>active 24</td><td>Czech Republic</td><td>Non China</td><td>1</td><td>NA</td><td>Not Renewd</td><td>0</td><td>auto-renewal</td><td>unrealized</td><td>2020-01-16</td><td>Ascio</td><td>Active 24</td><td>0.5</td><td>0.5</td><td>1</td><td>15</td><td>15</td><td>0.5</td><td>funactive 24</td><td>e-smokevirtual</td><td>hyphen-l</td><td>14</td><td>14hyphen-l</td><td>3</td><td>-0.6931472</td><td>  4.37</td><td>1           </td><td>e-smokevirtual</td><td>0.1111111</td><td>1</td><td>0.192</td><td>0.1782283</td><td>0.12787708</td><td>0.12787708</td></tr>\n",
       "\t<tr><td>FirstTime</td><td>1</td><td>2020-01-16</td><td> 91146808</td><td>rovnatka.fun      </td><td>2019-01-16</td><td>Active</td><td>fun</td><td>ascio</td><td>active 24</td><td>Czech Republic</td><td>Non China</td><td>1</td><td>NA</td><td>Not Renewd</td><td>0</td><td>auto-renewal</td><td>unrealized</td><td>2020-01-16</td><td>Ascio</td><td>Active 24</td><td>0.5</td><td>0.5</td><td>1</td><td>15</td><td>15</td><td>0.5</td><td>funactive 24</td><td>rovnatka      </td><td>l       </td><td> 8</td><td>8l        </td><td>3</td><td>-0.6931472</td><td>  1.57</td><td>2           </td><td>rovnatka      </td><td>0.1111111</td><td>1</td><td>0.198</td><td>0.1877276</td><td>0.19177551</td><td>0.19177551</td></tr>\n",
       "\t<tr><td>FirstTime</td><td>1</td><td>2020-01-16</td><td> 91145283</td><td>myokd.fun         </td><td>2019-01-16</td><td>Active</td><td>fun</td><td>ascio</td><td>active 24</td><td>Czech Republic</td><td>Non China</td><td>1</td><td>NA</td><td>Not Renewd</td><td>0</td><td>auto-renewal</td><td>unrealized</td><td>2020-01-16</td><td>Ascio</td><td>Active 24</td><td>0.5</td><td>0.5</td><td>1</td><td>15</td><td>15</td><td>0.5</td><td>funactive 24</td><td>myokd         </td><td>l       </td><td> 5</td><td>5l        </td><td>3</td><td>-0.6931472</td><td>  1.18</td><td>3           </td><td>myokd         </td><td>0.1111111</td><td>1</td><td>0.210</td><td>0.1992040</td><td>0.21341160</td><td>0.21341160</td></tr>\n",
       "\t<tr><td>FirstTime</td><td>1</td><td>2020-01-17</td><td> 91262818</td><td>vtipy.fun         </td><td>2019-01-17</td><td>Active</td><td>fun</td><td>ascio</td><td>active 24</td><td>Czech Republic</td><td>Non China</td><td>1</td><td>NA</td><td>Not Renewd</td><td>0</td><td>auto-renewal</td><td>unrealized</td><td>2020-01-17</td><td>Ascio</td><td>Active 24</td><td>0.5</td><td>0.5</td><td>1</td><td>15</td><td>15</td><td>0.5</td><td>funactive 24</td><td>vtipy         </td><td>l       </td><td> 5</td><td>5l        </td><td>3</td><td>-0.6931472</td><td>  0.63</td><td>1           </td><td>vtipy         </td><td>0.1111111</td><td>1</td><td>0.212</td><td>0.2086369</td><td>0.21341160</td><td>0.21341160</td></tr>\n",
       "\t<tr><td>FirstTime</td><td>1</td><td>2020-01-17</td><td> 91231718</td><td>blahoviny.fun     </td><td>2019-01-17</td><td>Active</td><td>fun</td><td>ascio</td><td>active 24</td><td>Czech Republic</td><td>Non China</td><td>1</td><td>NA</td><td>Not Renewd</td><td>0</td><td>auto-renewal</td><td>unrealized</td><td>2020-01-17</td><td>Ascio</td><td>Active 24</td><td>0.5</td><td>0.5</td><td>1</td><td>15</td><td>15</td><td>0.5</td><td>funactive 24</td><td>blahoviny     </td><td>l       </td><td> 9</td><td>9l        </td><td>3</td><td>-0.6931472</td><td>  4.49</td><td>2           </td><td>blahoviny     </td><td>0.1111111</td><td>1</td><td>0.188</td><td>0.2383924</td><td>0.24060072</td><td>0.24060072</td></tr>\n",
       "\t<tr><td>FirstTime</td><td>1</td><td>2020-01-17</td><td> 91220903</td><td>maxitip.fun       </td><td>2019-01-17</td><td>Active</td><td>fun</td><td>ascio</td><td>active 24</td><td>Czech Republic</td><td>Non China</td><td>1</td><td>NA</td><td>Not Renewd</td><td>0</td><td>auto-renewal</td><td>unrealized</td><td>2020-01-17</td><td>Ascio</td><td>Active 24</td><td>0.5</td><td>0.5</td><td>1</td><td>15</td><td>15</td><td>0.5</td><td>funactive 24</td><td>maxitip       </td><td>l       </td><td> 7</td><td>7l        </td><td>3</td><td>-0.6931472</td><td>  3.70</td><td>3           </td><td>maxitip       </td><td>0.1111111</td><td>1</td><td>0.197</td><td>0.5100125</td><td>0.48983654</td><td>0.48983654</td></tr>\n",
       "\t<tr><td>FirstTime</td><td>1</td><td>2020-01-20</td><td> 91430133</td><td>quads4.fun        </td><td>2019-01-20</td><td>Active</td><td>fun</td><td>ascio</td><td>active 24</td><td>Czech Republic</td><td>Non China</td><td>1</td><td>NA</td><td>Not Renewd</td><td>0</td><td>auto-renewal</td><td>unrealized</td><td>2020-01-20</td><td>Ascio</td><td>Active 24</td><td>0.5</td><td>0.5</td><td>1</td><td>15</td><td>15</td><td>0.5</td><td>funactive 24</td><td>quads4        </td><td>ln      </td><td> 6</td><td>6ln       </td><td>1</td><td>-0.6931472</td><td>  7.29</td><td>quads4      </td><td>1             </td><td>1.0000000</td><td>1</td><td>0.138</td><td>0.2416895</td><td>0.18419280</td><td>0.18419280</td></tr>\n",
       "\t<tr><td>FirstTime</td><td>1</td><td>2020-01-23</td><td> 91697458</td><td>converge4.fun     </td><td>2019-01-23</td><td>Active</td><td>fun</td><td>ascio</td><td>active 24</td><td>Czech Republic</td><td>Non China</td><td>1</td><td>NA</td><td>Renewed   </td><td>0</td><td>renewal     </td><td>NA        </td><td>2020-01-23</td><td>Ascio</td><td>Active 24</td><td>0.5</td><td>0.5</td><td>1</td><td>15</td><td>15</td><td>0.5</td><td>funactive 24</td><td>converge4     </td><td>ln      </td><td> 9</td><td>9ln       </td><td>3</td><td>-0.6931472</td><td>  8.20</td><td>1           </td><td>converge4     </td><td>0.1111111</td><td>1</td><td>0.118</td><td>0.2047713</td><td>0.13453123</td><td>0.13453123</td></tr>\n",
       "\t<tr><td>FirstTime</td><td>1</td><td>2020-01-23</td><td> 91734683</td><td>sendit4.fun       </td><td>2019-01-23</td><td>Active</td><td>fun</td><td>ascio</td><td>active 24</td><td>Czech Republic</td><td>Non China</td><td>1</td><td>NA</td><td>Renewed   </td><td>0</td><td>renewal     </td><td>NA        </td><td>2020-01-23</td><td>Ascio</td><td>Active 24</td><td>0.5</td><td>0.5</td><td>1</td><td>15</td><td>15</td><td>0.5</td><td>funactive 24</td><td>sendit4       </td><td>ln      </td><td> 7</td><td>7ln       </td><td>3</td><td>-0.6931472</td><td> 11.41</td><td>2           </td><td>sendit4       </td><td>0.1111111</td><td>1</td><td>0.119</td><td>0.2194942</td><td>0.15543138</td><td>0.15543138</td></tr>\n",
       "\t<tr><td>FirstTime</td><td>1</td><td>2020-01-23</td><td> 91679788</td><td>matylda.fun       </td><td>2019-01-23</td><td>Active</td><td>fun</td><td>ascio</td><td>active 24</td><td>Czech Republic</td><td>Non China</td><td>1</td><td>NA</td><td>Renewed   </td><td>0</td><td>auto-renewal</td><td>realized  </td><td>2020-01-23</td><td>Ascio</td><td>Active 24</td><td>0.5</td><td>0.5</td><td>1</td><td>15</td><td>15</td><td>0.5</td><td>funactive 24</td><td>matylda       </td><td>l       </td><td> 7</td><td>7l        </td><td>3</td><td>-0.6931472</td><td>  4.06</td><td>3           </td><td>matylda       </td><td>0.1111111</td><td>1</td><td>0.196</td><td>0.5111910</td><td>0.47717256</td><td>0.47717256</td></tr>\n",
       "\t<tr><td>FirstTime</td><td>1</td><td>2020-01-24</td><td> 91777623</td><td>chiptuning.fun    </td><td>2019-01-24</td><td>Active</td><td>fun</td><td>ascio</td><td>active 24</td><td>Czech Republic</td><td>Non China</td><td>1</td><td>NA</td><td>Renewed   </td><td>0</td><td>auto-renewal</td><td>realized  </td><td>2020-01-24</td><td>Ascio</td><td>Ascio    </td><td>0.5</td><td>0.5</td><td>1</td><td>15</td><td>15</td><td>0.5</td><td>funactive 24</td><td>chiptuning    </td><td>l       </td><td>10</td><td>10l       </td><td>1</td><td>-0.6931472</td><td>  6.33</td><td>chiptuning  </td><td>1             </td><td>1.0000000</td><td>1</td><td>0.196</td><td>0.2209711</td><td>0.19280800</td><td>0.19280800</td></tr>\n",
       "\t<tr><td>FirstTime</td><td>1</td><td>2020-02-08</td><td> 93178923</td><td>mdsb-project.fun  </td><td>2019-02-08</td><td>Active</td><td>fun</td><td>ascio</td><td>active 24</td><td>Czech Republic</td><td>Non China</td><td>1</td><td>NA</td><td>Not Renewd</td><td>0</td><td>auto-renewal</td><td>unrealized</td><td>2020-02-08</td><td>Ascio</td><td>Active 24</td><td>0.5</td><td>0.5</td><td>1</td><td>15</td><td>15</td><td>0.5</td><td>funactive 24</td><td>mdsb-project  </td><td>hyphen-l</td><td>12</td><td>12hyphen-l</td><td>1</td><td>-0.6931472</td><td>  1.08</td><td>mdsb-project</td><td>1             </td><td>1.0000000</td><td>1</td><td>0.222</td><td>0.1552589</td><td>0.10189740</td><td>0.10189740</td></tr>\n",
       "\t<tr><td>FirstTime</td><td>1</td><td>2020-03-04</td><td> 95294834</td><td>petr.fun          </td><td>2019-03-04</td><td>Active</td><td>fun</td><td>ascio</td><td>active 24</td><td>Czech Republic</td><td>Non China</td><td>1</td><td>NA</td><td>Not Renewd</td><td>0</td><td>auto-renewal</td><td>unrealized</td><td>2020-03-04</td><td>Ascio</td><td>Ascio    </td><td>0.5</td><td>0.5</td><td>1</td><td>15</td><td>15</td><td>0.5</td><td>funactive 24</td><td>petr          </td><td>l       </td><td> 4</td><td>4l        </td><td>1</td><td>-0.6931472</td><td>  5.10</td><td>petr        </td><td>1             </td><td>1.0000000</td><td>1</td><td>0.222</td><td>0.1929771</td><td>0.14208955</td><td>0.14208955</td></tr>\n",
       "\t<tr><td>FirstTime</td><td>1</td><td>2020-03-08</td><td> 95880789</td><td>priroda.fun       </td><td>2019-03-08</td><td>Active</td><td>fun</td><td>ascio</td><td>active 24</td><td>Czech Republic</td><td>Non China</td><td>1</td><td>NA</td><td>Not Renewd</td><td>0</td><td>auto-renewal</td><td>unrealized</td><td>2020-03-08</td><td>Ascio</td><td>Active 24</td><td>0.5</td><td>0.5</td><td>1</td><td>15</td><td>15</td><td>0.5</td><td>funactive 24</td><td>priroda       </td><td>l       </td><td> 7</td><td>7l        </td><td>1</td><td>-0.6931472</td><td>  5.24</td><td>priroda     </td><td>1             </td><td>1.0000000</td><td>1</td><td>0.209</td><td>0.2501982</td><td>0.24971102</td><td>0.24971102</td></tr>\n",
       "\t<tr><td>FirstTime</td><td>1</td><td>2020-03-15</td><td> 96803354</td><td>cirq.fun          </td><td>2019-03-15</td><td>Active</td><td>fun</td><td>ascio</td><td>active 24</td><td>Czech Republic</td><td>Non China</td><td>1</td><td>NA</td><td>Not Renewd</td><td>0</td><td>auto-renewal</td><td>unrealized</td><td>2020-03-15</td><td>Ascio</td><td>Ascio    </td><td>0.5</td><td>0.5</td><td>1</td><td>15</td><td>15</td><td>0.5</td><td>funactive 24</td><td>cirq          </td><td>l       </td><td> 4</td><td>4l        </td><td>1</td><td>-0.6931472</td><td>  0.59</td><td>cirq        </td><td>1             </td><td>1.0000000</td><td>1</td><td>0.232</td><td>0.1421217</td><td>0.12808544</td><td>0.12808544</td></tr>\n",
       "\t<tr><td>FirstTime</td><td>1</td><td>2020-04-08</td><td> 99267829</td><td>zenyon10.fun      </td><td>2019-04-08</td><td>Active</td><td>fun</td><td>ascio</td><td>active 24</td><td>Czech Republic</td><td>Non China</td><td>1</td><td>NA</td><td>Not Renewd</td><td>0</td><td>auto-renewal</td><td>unrealized</td><td>2020-04-08</td><td>Ascio</td><td>Active 24</td><td>0.5</td><td>0.5</td><td>1</td><td>15</td><td>15</td><td>0.5</td><td>funactive 24</td><td>zenyon10      </td><td>ln      </td><td> 8</td><td>8ln       </td><td>3</td><td>-0.6931472</td><td>  9.33</td><td>1           </td><td>zenyon        </td><td>0.3333333</td><td>3</td><td>0.173</td><td>0.2709206</td><td>0.04513118</td><td>0.04513118</td></tr>\n",
       "\t<tr><td>FirstTime</td><td>1</td><td>2020-04-08</td><td> 99267809</td><td>zenyon4.fun       </td><td>2019-04-08</td><td>Active</td><td>fun</td><td>ascio</td><td>active 24</td><td>Czech Republic</td><td>Non China</td><td>1</td><td>NA</td><td>Not Renewd</td><td>0</td><td>auto-renewal</td><td>unrealized</td><td>2020-04-08</td><td>Ascio</td><td>Active 24</td><td>0.5</td><td>0.5</td><td>1</td><td>15</td><td>15</td><td>0.5</td><td>funactive 24</td><td>zenyon4       </td><td>ln      </td><td> 7</td><td>7ln       </td><td>3</td><td>-0.6931472</td><td>  9.33</td><td>1           </td><td>zenyon        </td><td>0.3333333</td><td>3</td><td>0.176</td><td>0.2613976</td><td>0.03465718</td><td>0.03465718</td></tr>\n",
       "\t<tr><td>FirstTime</td><td>1</td><td>2020-04-08</td><td> 99267819</td><td>zenyon8.fun       </td><td>2019-04-08</td><td>Active</td><td>fun</td><td>ascio</td><td>active 24</td><td>Czech Republic</td><td>Non China</td><td>1</td><td>NA</td><td>Not Renewd</td><td>0</td><td>auto-renewal</td><td>unrealized</td><td>2020-04-08</td><td>Ascio</td><td>Active 24</td><td>0.5</td><td>0.5</td><td>1</td><td>15</td><td>15</td><td>0.5</td><td>funactive 24</td><td>zenyon8       </td><td>ln      </td><td> 7</td><td>7ln       </td><td>3</td><td>-0.6931472</td><td>  9.33</td><td>1           </td><td>zenyon        </td><td>0.3333333</td><td>3</td><td>0.176</td><td>0.2613976</td><td>0.03465718</td><td>0.03465718</td></tr>\n",
       "\t<tr><td>FirstTime</td><td>1</td><td>2020-04-15</td><td>100324309</td><td>jctest.fun        </td><td>2019-04-15</td><td>Active</td><td>fun</td><td>ascio</td><td>active 24</td><td>Czech Republic</td><td>Non China</td><td>1</td><td>NA</td><td>Not Renewd</td><td>0</td><td>auto-renewal</td><td>unrealized</td><td>2020-04-15</td><td>Ascio</td><td>Active 24</td><td>0.5</td><td>0.5</td><td>1</td><td>15</td><td>15</td><td>0.5</td><td>funactive 24</td><td>jctest        </td><td>l       </td><td> 6</td><td>6l        </td><td>1</td><td>-0.6931472</td><td>  4.59</td><td>jctest      </td><td>1             </td><td>1.0000000</td><td>1</td><td>0.215</td><td>0.1735025</td><td>0.19105098</td><td>0.19105098</td></tr>\n",
       "\t<tr><td>FirstTime</td><td>1</td><td>2020-04-18</td><td>100793594</td><td>m230.fun          </td><td>2019-04-18</td><td>Active</td><td>fun</td><td>ascio</td><td>active 24</td><td>Czech Republic</td><td>Non China</td><td>1</td><td>NA</td><td>Not Renewd</td><td>0</td><td>auto-renewal</td><td>unrealized</td><td>2020-04-18</td><td>Ascio</td><td>Active 24</td><td>0.5</td><td>0.5</td><td>1</td><td>15</td><td>15</td><td>0.5</td><td>funactive 24</td><td>m230          </td><td>ln      </td><td> 4</td><td>4ln       </td><td>1</td><td>-0.6931472</td><td>100.00</td><td>m230        </td><td>1             </td><td>1.0000000</td><td>1</td><td>0.047</td><td>0.3213206</td><td>0.26015674</td><td>0.26015674</td></tr>\n",
       "\t<tr><td>FirstTime</td><td>1</td><td>2020-05-07</td><td>102987669</td><td>clubmusic.fun     </td><td>2019-05-07</td><td>Active</td><td>fun</td><td>ascio</td><td>active 24</td><td>Czech Republic</td><td>Non China</td><td>1</td><td>NA</td><td>Not Renewd</td><td>0</td><td>auto-renewal</td><td>unrealized</td><td>2020-05-07</td><td>Ascio</td><td>Ascio    </td><td>0.5</td><td>0.5</td><td>1</td><td>15</td><td>15</td><td>0.5</td><td>funactive 24</td><td>clubmusic     </td><td>l       </td><td> 9</td><td>9l        </td><td>1</td><td>-0.6931472</td><td>  3.04</td><td>clubmusic   </td><td>1             </td><td>1.0000000</td><td>1</td><td>0.206</td><td>0.4754838</td><td>0.44650115</td><td>0.44650115</td></tr>\n",
       "\t<tr><td>FirstTime</td><td>1</td><td>2020-05-16</td><td>103795231</td><td>almondo.fun       </td><td>2019-05-16</td><td>Active</td><td>fun</td><td>ascio</td><td>active 24</td><td>Czech Republic</td><td>Non China</td><td>1</td><td>NA</td><td>Renewed   </td><td>0</td><td>renewal     </td><td>NA        </td><td>2020-04-22</td><td>Ascio</td><td>Ascio    </td><td>0.5</td><td>0.5</td><td>1</td><td>15</td><td>15</td><td>0.5</td><td>funactive 24</td><td>almondo       </td><td>l       </td><td> 7</td><td>7l        </td><td>1</td><td>-0.6931472</td><td>  6.49</td><td>almondo     </td><td>1             </td><td>1.0000000</td><td>1</td><td>0.207</td><td>0.2695949</td><td>0.25986827</td><td>0.25986827</td></tr>\n",
       "</tbody>\n",
       "</table>\n",
       "</dd>\n",
       "</dl>\n"
      ],
      "text/latex": [
       "\\begin{description}\n",
       "\\item[\\$`fun1\\&1 internet`] A data.table: 2 × 43\n",
       "\\begin{tabular}{lllllllllllllllllllllllllllllllllllllllllll}\n",
       " renewal\\_type & renewed\\_count & expiry\\_date & domain\\_id & domain & creation\\_date & status & tld & registrar & reseller & reseller\\_country & region & reg\\_period & registrant\\_country & renewal\\_status & renew\\_mbg & renew\\_type & autorenew\\_type & renew\\_date & renew\\_registrar & renew\\_reseller & reg\\_revenue & reg\\_arpt & renew\\_period & renew\\_domain\\_revenue & renew\\_arpt & reg\\_arpt\\_org & tld\\_registrar\\_index & sld & sld\\_type & sld\\_length & sld\\_type2 & day\\_domains & log\\_reg\\_arpt & gibb\\_score & pattern & cluster & pattern\\_score & pattern\\_domain\\_count & V2 & V3 & V4 & V5\\\\\n",
       " <chr> & <int> & <date> & <int> & <chr> & <date> & <chr> & <fct> & <chr> & <chr> & <chr> & <chr> & <int> & <chr> & <fct> & <int> & <chr> & <chr> & <date> & <chr> & <chr> & <dbl> & <dbl> & <int> & <dbl> & <dbl> & <dbl> & <chr> & <chr> & <fct> & <int> & <chr> & <int> & <dbl> & <dbl> & <chr> & <dbl> & <dbl> & <int> & <dbl> & <dbl> & <dbl> & <dbl>\\\\\n",
       "\\hline\n",
       "\t FirstTime & 1 & 2020-01-22 & 91639803 & segeln.fun    & 2019-01-22 & Active & fun & 1\\&1 internet & 1\\&1 internet & Germany & Non China & 1 & NA & Renewed & 0 & auto-renewal & realized & 2020-01-22 & 1\\&1 Internet & 1\\&1 Internet & 15 & 15 & 1 & 15 & 15 & 15 & fun1\\&1 internet & segeln    & l & 6 & 6l & 1 & 2.70805 & 2.23 & segeln    & 1 & 1 & 1 & 0.802 & 0.6801492 & 0.7125206 & 0.7125206\\\\\n",
       "\t FirstTime & 1 & 2020-03-07 & 95819759 & harzhotel.fun & 2019-03-07 & Active & fun & 1\\&1 internet & 1\\&1 internet & Germany & Non China & 1 & NA & Renewed & 0 & auto-renewal & realized & 2020-03-07 & 1\\&1 Internet & 1\\&1 Internet & 15 & 15 & 1 & 15 & 15 & 15 & fun1\\&1 internet & harzhotel & l & 9 & 9l & 1 & 2.70805 & 3.45 & harzhotel & 1 & 1 & 1 & 0.785 & 0.6428311 & 0.7248957 & 0.7248957\\\\\n",
       "\\end{tabular}\n",
       "\n",
       "\\item[\\$fun10dencehispahard] A data.table: 2 × 43\n",
       "\\begin{tabular}{lllllllllllllllllllllllllllllllllllllllllll}\n",
       " renewal\\_type & renewed\\_count & expiry\\_date & domain\\_id & domain & creation\\_date & status & tld & registrar & reseller & reseller\\_country & region & reg\\_period & registrant\\_country & renewal\\_status & renew\\_mbg & renew\\_type & autorenew\\_type & renew\\_date & renew\\_registrar & renew\\_reseller & reg\\_revenue & reg\\_arpt & renew\\_period & renew\\_domain\\_revenue & renew\\_arpt & reg\\_arpt\\_org & tld\\_registrar\\_index & sld & sld\\_type & sld\\_length & sld\\_type2 & day\\_domains & log\\_reg\\_arpt & gibb\\_score & pattern & cluster & pattern\\_score & pattern\\_domain\\_count & V2 & V3 & V4 & V5\\\\\n",
       " <chr> & <int> & <date> & <int> & <chr> & <date> & <chr> & <fct> & <chr> & <chr> & <chr> & <chr> & <int> & <chr> & <fct> & <int> & <chr> & <chr> & <date> & <chr> & <chr> & <dbl> & <dbl> & <int> & <dbl> & <dbl> & <dbl> & <chr> & <chr> & <fct> & <int> & <chr> & <int> & <dbl> & <dbl> & <chr> & <dbl> & <dbl> & <int> & <dbl> & <dbl> & <dbl> & <dbl>\\\\\n",
       "\\hline\n",
       "\t FirstTime & 1 & 2020-01-15 & 91044973 & movistar.fun & 2019-01-15 & Active & fun & 10dencehispahard & 10dencehispahard & Spain & Non China & 1 & NA & Not Renewd & 0 & auto-renewal & unrealized & 2020-01-15 & 10dencehispahard & 10dencehispahard & 15 & 15 & 1 & 15 & 15 & 15 & fun10dencehispahard & movistar & l & 8 & 8l & 1 & 2.70805 & 8.62 & movistar & 1 & 1 & 1 & 0 & 0.3462084 & 0 & 0\\\\\n",
       "\t FirstTime & 1 & 2020-02-01 & 92472913 & kuinik.fun   & 2019-02-01 & Active & fun & 10dencehispahard & 10dencehispahard & Spain & Non China & 1 & NA & Not Renewd & 0 & auto-renewal & unrealized & 2020-02-01 & 10dencehispahard & 10dencehispahard & 15 & 15 & 1 & 15 & 15 & 15 & fun10dencehispahard & kuinik   & l & 6 & 6l & 1 & 2.70805 & 3.13 & kuinik   & 1 & 1 & 1 & 0 & 0.3169892 & 0 & 0\\\\\n",
       "\\end{tabular}\n",
       "\n",
       "\\item[\\$fun1api] A data.table: 2 × 43\n",
       "\\begin{tabular}{lllllllllllllllllllllllllllllllllllllllllll}\n",
       " renewal\\_type & renewed\\_count & expiry\\_date & domain\\_id & domain & creation\\_date & status & tld & registrar & reseller & reseller\\_country & region & reg\\_period & registrant\\_country & renewal\\_status & renew\\_mbg & renew\\_type & autorenew\\_type & renew\\_date & renew\\_registrar & renew\\_reseller & reg\\_revenue & reg\\_arpt & renew\\_period & renew\\_domain\\_revenue & renew\\_arpt & reg\\_arpt\\_org & tld\\_registrar\\_index & sld & sld\\_type & sld\\_length & sld\\_type2 & day\\_domains & log\\_reg\\_arpt & gibb\\_score & pattern & cluster & pattern\\_score & pattern\\_domain\\_count & V2 & V3 & V4 & V5\\\\\n",
       " <chr> & <int> & <date> & <int> & <chr> & <date> & <chr> & <fct> & <chr> & <chr> & <chr> & <chr> & <int> & <chr> & <fct> & <int> & <chr> & <chr> & <date> & <chr> & <chr> & <dbl> & <dbl> & <int> & <dbl> & <dbl> & <dbl> & <chr> & <chr> & <fct> & <int> & <chr> & <int> & <dbl> & <dbl> & <chr> & <dbl> & <dbl> & <int> & <dbl> & <dbl> & <dbl> & <dbl>\\\\\n",
       "\\hline\n",
       "\t FirstTime & 1 & 2020-01-21 &  91532433 & bulgari.fun & 2019-01-21 & Active & fun & 1api & 1api & Germany & Non China & 1 & NA & Renewed    & 0 & auto-renewal & realized   & 2020-01-21 & 1API & 1API & 5 & 5 & 1 & 15 & 15 & 5 & fun1api & bulgari & l & 7 & 7l & 1 & 1.609438 & 4.51 & bulgari & 1 & 1 & 1 & 0.842 & 0.8486598 & 0.832 & 0.832\\\\\n",
       "\t FirstTime & 1 & 2020-04-24 & 101717674 & gotsome.fun & 2019-04-24 & Active & fun & 1api & 1api & Germany & Non China & 1 & NA & Not Renewd & 0 & auto-renewal & unrealized & 2020-04-24 & 1API & 1API & 5 & 5 & 1 & 15 & 15 & 5 & fun1api & gotsome & l & 7 & 7l & 1 & 1.609438 & 6.09 & gotsome & 1 & 1 & 1 & 0.843 & 0.8421671 & 0.832 & 0.832\\\\\n",
       "\\end{tabular}\n",
       "\n",
       "\\item[\\$`funab name isp`] <NA>\n",
       "\\item[\\$`funactive 24`] A data.table: 22 × 43\n",
       "\\begin{tabular}{lllllllllllllllllllllllllllllllllllllllllll}\n",
       " renewal\\_type & renewed\\_count & expiry\\_date & domain\\_id & domain & creation\\_date & status & tld & registrar & reseller & reseller\\_country & region & reg\\_period & registrant\\_country & renewal\\_status & renew\\_mbg & renew\\_type & autorenew\\_type & renew\\_date & renew\\_registrar & renew\\_reseller & reg\\_revenue & reg\\_arpt & renew\\_period & renew\\_domain\\_revenue & renew\\_arpt & reg\\_arpt\\_org & tld\\_registrar\\_index & sld & sld\\_type & sld\\_length & sld\\_type2 & day\\_domains & log\\_reg\\_arpt & gibb\\_score & cluster & pattern & pattern\\_score & pattern\\_domain\\_count & V2 & V3 & V4 & V5\\\\\n",
       " <chr> & <int> & <date> & <int> & <chr> & <date> & <chr> & <fct> & <chr> & <chr> & <chr> & <chr> & <int> & <chr> & <fct> & <int> & <chr> & <chr> & <date> & <chr> & <chr> & <dbl> & <dbl> & <int> & <dbl> & <dbl> & <dbl> & <chr> & <chr> & <fct> & <int> & <chr> & <int> & <dbl> & <dbl> & <chr> & <chr> & <dbl> & <int> & <dbl> & <dbl> & <dbl> & <dbl>\\\\\n",
       "\\hline\n",
       "\t FirstTime & 1 & 2020-01-16 &  91155123 & e-smokevirtual.fun & 2019-01-16 & Active & fun & ascio & active 24 & Czech Republic & Non China & 1 & NA & Not Renewd & 0 & auto-renewal & unrealized & 2020-01-16 & Ascio & Active 24 & 0.5 & 0.5 & 1 & 15 & 15 & 0.5 & funactive 24 & e-smokevirtual & hyphen-l & 14 & 14hyphen-l & 3 & -0.6931472 &   4.37 & 1            & e-smokevirtual & 0.1111111 & 1 & 0.192 & 0.1782283 & 0.12787708 & 0.12787708\\\\\n",
       "\t FirstTime & 1 & 2020-01-16 &  91146808 & rovnatka.fun       & 2019-01-16 & Active & fun & ascio & active 24 & Czech Republic & Non China & 1 & NA & Not Renewd & 0 & auto-renewal & unrealized & 2020-01-16 & Ascio & Active 24 & 0.5 & 0.5 & 1 & 15 & 15 & 0.5 & funactive 24 & rovnatka       & l        &  8 & 8l         & 3 & -0.6931472 &   1.57 & 2            & rovnatka       & 0.1111111 & 1 & 0.198 & 0.1877276 & 0.19177551 & 0.19177551\\\\\n",
       "\t FirstTime & 1 & 2020-01-16 &  91145283 & myokd.fun          & 2019-01-16 & Active & fun & ascio & active 24 & Czech Republic & Non China & 1 & NA & Not Renewd & 0 & auto-renewal & unrealized & 2020-01-16 & Ascio & Active 24 & 0.5 & 0.5 & 1 & 15 & 15 & 0.5 & funactive 24 & myokd          & l        &  5 & 5l         & 3 & -0.6931472 &   1.18 & 3            & myokd          & 0.1111111 & 1 & 0.210 & 0.1992040 & 0.21341160 & 0.21341160\\\\\n",
       "\t FirstTime & 1 & 2020-01-17 &  91262818 & vtipy.fun          & 2019-01-17 & Active & fun & ascio & active 24 & Czech Republic & Non China & 1 & NA & Not Renewd & 0 & auto-renewal & unrealized & 2020-01-17 & Ascio & Active 24 & 0.5 & 0.5 & 1 & 15 & 15 & 0.5 & funactive 24 & vtipy          & l        &  5 & 5l         & 3 & -0.6931472 &   0.63 & 1            & vtipy          & 0.1111111 & 1 & 0.212 & 0.2086369 & 0.21341160 & 0.21341160\\\\\n",
       "\t FirstTime & 1 & 2020-01-17 &  91231718 & blahoviny.fun      & 2019-01-17 & Active & fun & ascio & active 24 & Czech Republic & Non China & 1 & NA & Not Renewd & 0 & auto-renewal & unrealized & 2020-01-17 & Ascio & Active 24 & 0.5 & 0.5 & 1 & 15 & 15 & 0.5 & funactive 24 & blahoviny      & l        &  9 & 9l         & 3 & -0.6931472 &   4.49 & 2            & blahoviny      & 0.1111111 & 1 & 0.188 & 0.2383924 & 0.24060072 & 0.24060072\\\\\n",
       "\t FirstTime & 1 & 2020-01-17 &  91220903 & maxitip.fun        & 2019-01-17 & Active & fun & ascio & active 24 & Czech Republic & Non China & 1 & NA & Not Renewd & 0 & auto-renewal & unrealized & 2020-01-17 & Ascio & Active 24 & 0.5 & 0.5 & 1 & 15 & 15 & 0.5 & funactive 24 & maxitip        & l        &  7 & 7l         & 3 & -0.6931472 &   3.70 & 3            & maxitip        & 0.1111111 & 1 & 0.197 & 0.5100125 & 0.48983654 & 0.48983654\\\\\n",
       "\t FirstTime & 1 & 2020-01-20 &  91430133 & quads4.fun         & 2019-01-20 & Active & fun & ascio & active 24 & Czech Republic & Non China & 1 & NA & Not Renewd & 0 & auto-renewal & unrealized & 2020-01-20 & Ascio & Active 24 & 0.5 & 0.5 & 1 & 15 & 15 & 0.5 & funactive 24 & quads4         & ln       &  6 & 6ln        & 1 & -0.6931472 &   7.29 & quads4       & 1              & 1.0000000 & 1 & 0.138 & 0.2416895 & 0.18419280 & 0.18419280\\\\\n",
       "\t FirstTime & 1 & 2020-01-23 &  91697458 & converge4.fun      & 2019-01-23 & Active & fun & ascio & active 24 & Czech Republic & Non China & 1 & NA & Renewed    & 0 & renewal      & NA         & 2020-01-23 & Ascio & Active 24 & 0.5 & 0.5 & 1 & 15 & 15 & 0.5 & funactive 24 & converge4      & ln       &  9 & 9ln        & 3 & -0.6931472 &   8.20 & 1            & converge4      & 0.1111111 & 1 & 0.118 & 0.2047713 & 0.13453123 & 0.13453123\\\\\n",
       "\t FirstTime & 1 & 2020-01-23 &  91734683 & sendit4.fun        & 2019-01-23 & Active & fun & ascio & active 24 & Czech Republic & Non China & 1 & NA & Renewed    & 0 & renewal      & NA         & 2020-01-23 & Ascio & Active 24 & 0.5 & 0.5 & 1 & 15 & 15 & 0.5 & funactive 24 & sendit4        & ln       &  7 & 7ln        & 3 & -0.6931472 &  11.41 & 2            & sendit4        & 0.1111111 & 1 & 0.119 & 0.2194942 & 0.15543138 & 0.15543138\\\\\n",
       "\t FirstTime & 1 & 2020-01-23 &  91679788 & matylda.fun        & 2019-01-23 & Active & fun & ascio & active 24 & Czech Republic & Non China & 1 & NA & Renewed    & 0 & auto-renewal & realized   & 2020-01-23 & Ascio & Active 24 & 0.5 & 0.5 & 1 & 15 & 15 & 0.5 & funactive 24 & matylda        & l        &  7 & 7l         & 3 & -0.6931472 &   4.06 & 3            & matylda        & 0.1111111 & 1 & 0.196 & 0.5111910 & 0.47717256 & 0.47717256\\\\\n",
       "\t FirstTime & 1 & 2020-01-24 &  91777623 & chiptuning.fun     & 2019-01-24 & Active & fun & ascio & active 24 & Czech Republic & Non China & 1 & NA & Renewed    & 0 & auto-renewal & realized   & 2020-01-24 & Ascio & Ascio     & 0.5 & 0.5 & 1 & 15 & 15 & 0.5 & funactive 24 & chiptuning     & l        & 10 & 10l        & 1 & -0.6931472 &   6.33 & chiptuning   & 1              & 1.0000000 & 1 & 0.196 & 0.2209711 & 0.19280800 & 0.19280800\\\\\n",
       "\t FirstTime & 1 & 2020-02-08 &  93178923 & mdsb-project.fun   & 2019-02-08 & Active & fun & ascio & active 24 & Czech Republic & Non China & 1 & NA & Not Renewd & 0 & auto-renewal & unrealized & 2020-02-08 & Ascio & Active 24 & 0.5 & 0.5 & 1 & 15 & 15 & 0.5 & funactive 24 & mdsb-project   & hyphen-l & 12 & 12hyphen-l & 1 & -0.6931472 &   1.08 & mdsb-project & 1              & 1.0000000 & 1 & 0.222 & 0.1552589 & 0.10189740 & 0.10189740\\\\\n",
       "\t FirstTime & 1 & 2020-03-04 &  95294834 & petr.fun           & 2019-03-04 & Active & fun & ascio & active 24 & Czech Republic & Non China & 1 & NA & Not Renewd & 0 & auto-renewal & unrealized & 2020-03-04 & Ascio & Ascio     & 0.5 & 0.5 & 1 & 15 & 15 & 0.5 & funactive 24 & petr           & l        &  4 & 4l         & 1 & -0.6931472 &   5.10 & petr         & 1              & 1.0000000 & 1 & 0.222 & 0.1929771 & 0.14208955 & 0.14208955\\\\\n",
       "\t FirstTime & 1 & 2020-03-08 &  95880789 & priroda.fun        & 2019-03-08 & Active & fun & ascio & active 24 & Czech Republic & Non China & 1 & NA & Not Renewd & 0 & auto-renewal & unrealized & 2020-03-08 & Ascio & Active 24 & 0.5 & 0.5 & 1 & 15 & 15 & 0.5 & funactive 24 & priroda        & l        &  7 & 7l         & 1 & -0.6931472 &   5.24 & priroda      & 1              & 1.0000000 & 1 & 0.209 & 0.2501982 & 0.24971102 & 0.24971102\\\\\n",
       "\t FirstTime & 1 & 2020-03-15 &  96803354 & cirq.fun           & 2019-03-15 & Active & fun & ascio & active 24 & Czech Republic & Non China & 1 & NA & Not Renewd & 0 & auto-renewal & unrealized & 2020-03-15 & Ascio & Ascio     & 0.5 & 0.5 & 1 & 15 & 15 & 0.5 & funactive 24 & cirq           & l        &  4 & 4l         & 1 & -0.6931472 &   0.59 & cirq         & 1              & 1.0000000 & 1 & 0.232 & 0.1421217 & 0.12808544 & 0.12808544\\\\\n",
       "\t FirstTime & 1 & 2020-04-08 &  99267829 & zenyon10.fun       & 2019-04-08 & Active & fun & ascio & active 24 & Czech Republic & Non China & 1 & NA & Not Renewd & 0 & auto-renewal & unrealized & 2020-04-08 & Ascio & Active 24 & 0.5 & 0.5 & 1 & 15 & 15 & 0.5 & funactive 24 & zenyon10       & ln       &  8 & 8ln        & 3 & -0.6931472 &   9.33 & 1            & zenyon         & 0.3333333 & 3 & 0.173 & 0.2709206 & 0.04513118 & 0.04513118\\\\\n",
       "\t FirstTime & 1 & 2020-04-08 &  99267809 & zenyon4.fun        & 2019-04-08 & Active & fun & ascio & active 24 & Czech Republic & Non China & 1 & NA & Not Renewd & 0 & auto-renewal & unrealized & 2020-04-08 & Ascio & Active 24 & 0.5 & 0.5 & 1 & 15 & 15 & 0.5 & funactive 24 & zenyon4        & ln       &  7 & 7ln        & 3 & -0.6931472 &   9.33 & 1            & zenyon         & 0.3333333 & 3 & 0.176 & 0.2613976 & 0.03465718 & 0.03465718\\\\\n",
       "\t FirstTime & 1 & 2020-04-08 &  99267819 & zenyon8.fun        & 2019-04-08 & Active & fun & ascio & active 24 & Czech Republic & Non China & 1 & NA & Not Renewd & 0 & auto-renewal & unrealized & 2020-04-08 & Ascio & Active 24 & 0.5 & 0.5 & 1 & 15 & 15 & 0.5 & funactive 24 & zenyon8        & ln       &  7 & 7ln        & 3 & -0.6931472 &   9.33 & 1            & zenyon         & 0.3333333 & 3 & 0.176 & 0.2613976 & 0.03465718 & 0.03465718\\\\\n",
       "\t FirstTime & 1 & 2020-04-15 & 100324309 & jctest.fun         & 2019-04-15 & Active & fun & ascio & active 24 & Czech Republic & Non China & 1 & NA & Not Renewd & 0 & auto-renewal & unrealized & 2020-04-15 & Ascio & Active 24 & 0.5 & 0.5 & 1 & 15 & 15 & 0.5 & funactive 24 & jctest         & l        &  6 & 6l         & 1 & -0.6931472 &   4.59 & jctest       & 1              & 1.0000000 & 1 & 0.215 & 0.1735025 & 0.19105098 & 0.19105098\\\\\n",
       "\t FirstTime & 1 & 2020-04-18 & 100793594 & m230.fun           & 2019-04-18 & Active & fun & ascio & active 24 & Czech Republic & Non China & 1 & NA & Not Renewd & 0 & auto-renewal & unrealized & 2020-04-18 & Ascio & Active 24 & 0.5 & 0.5 & 1 & 15 & 15 & 0.5 & funactive 24 & m230           & ln       &  4 & 4ln        & 1 & -0.6931472 & 100.00 & m230         & 1              & 1.0000000 & 1 & 0.047 & 0.3213206 & 0.26015674 & 0.26015674\\\\\n",
       "\t FirstTime & 1 & 2020-05-07 & 102987669 & clubmusic.fun      & 2019-05-07 & Active & fun & ascio & active 24 & Czech Republic & Non China & 1 & NA & Not Renewd & 0 & auto-renewal & unrealized & 2020-05-07 & Ascio & Ascio     & 0.5 & 0.5 & 1 & 15 & 15 & 0.5 & funactive 24 & clubmusic      & l        &  9 & 9l         & 1 & -0.6931472 &   3.04 & clubmusic    & 1              & 1.0000000 & 1 & 0.206 & 0.4754838 & 0.44650115 & 0.44650115\\\\\n",
       "\t FirstTime & 1 & 2020-05-16 & 103795231 & almondo.fun        & 2019-05-16 & Active & fun & ascio & active 24 & Czech Republic & Non China & 1 & NA & Renewed    & 0 & renewal      & NA         & 2020-04-22 & Ascio & Ascio     & 0.5 & 0.5 & 1 & 15 & 15 & 0.5 & funactive 24 & almondo        & l        &  7 & 7l         & 1 & -0.6931472 &   6.49 & almondo      & 1              & 1.0000000 & 1 & 0.207 & 0.2695949 & 0.25986827 & 0.25986827\\\\\n",
       "\\end{tabular}\n",
       "\n",
       "\\end{description}\n"
      ],
      "text/markdown": [
       "$`fun1&amp;1 internet`\n",
       ":   \n",
       "A data.table: 2 × 43\n",
       "\n",
       "| renewal_type &lt;chr&gt; | renewed_count &lt;int&gt; | expiry_date &lt;date&gt; | domain_id &lt;int&gt; | domain &lt;chr&gt; | creation_date &lt;date&gt; | status &lt;chr&gt; | tld &lt;fct&gt; | registrar &lt;chr&gt; | reseller &lt;chr&gt; | reseller_country &lt;chr&gt; | region &lt;chr&gt; | reg_period &lt;int&gt; | registrant_country &lt;chr&gt; | renewal_status &lt;fct&gt; | renew_mbg &lt;int&gt; | renew_type &lt;chr&gt; | autorenew_type &lt;chr&gt; | renew_date &lt;date&gt; | renew_registrar &lt;chr&gt; | renew_reseller &lt;chr&gt; | reg_revenue &lt;dbl&gt; | reg_arpt &lt;dbl&gt; | renew_period &lt;int&gt; | renew_domain_revenue &lt;dbl&gt; | renew_arpt &lt;dbl&gt; | reg_arpt_org &lt;dbl&gt; | tld_registrar_index &lt;chr&gt; | sld &lt;chr&gt; | sld_type &lt;fct&gt; | sld_length &lt;int&gt; | sld_type2 &lt;chr&gt; | day_domains &lt;int&gt; | log_reg_arpt &lt;dbl&gt; | gibb_score &lt;dbl&gt; | pattern &lt;chr&gt; | cluster &lt;dbl&gt; | pattern_score &lt;dbl&gt; | pattern_domain_count &lt;int&gt; | V2 &lt;dbl&gt; | V3 &lt;dbl&gt; | V4 &lt;dbl&gt; | V5 &lt;dbl&gt; |\n",
       "|---|---|---|---|---|---|---|---|---|---|---|---|---|---|---|---|---|---|---|---|---|---|---|---|---|---|---|---|---|---|---|---|---|---|---|---|---|---|---|---|---|---|---|\n",
       "| FirstTime | 1 | 2020-01-22 | 91639803 | segeln.fun    | 2019-01-22 | Active | fun | 1&amp;1 internet | 1&amp;1 internet | Germany | Non China | 1 | NA | Renewed | 0 | auto-renewal | realized | 2020-01-22 | 1&amp;1 Internet | 1&amp;1 Internet | 15 | 15 | 1 | 15 | 15 | 15 | fun1&amp;1 internet | segeln    | l | 6 | 6l | 1 | 2.70805 | 2.23 | segeln    | 1 | 1 | 1 | 0.802 | 0.6801492 | 0.7125206 | 0.7125206 |\n",
       "| FirstTime | 1 | 2020-03-07 | 95819759 | harzhotel.fun | 2019-03-07 | Active | fun | 1&amp;1 internet | 1&amp;1 internet | Germany | Non China | 1 | NA | Renewed | 0 | auto-renewal | realized | 2020-03-07 | 1&amp;1 Internet | 1&amp;1 Internet | 15 | 15 | 1 | 15 | 15 | 15 | fun1&amp;1 internet | harzhotel | l | 9 | 9l | 1 | 2.70805 | 3.45 | harzhotel | 1 | 1 | 1 | 0.785 | 0.6428311 | 0.7248957 | 0.7248957 |\n",
       "\n",
       "\n",
       "$fun10dencehispahard\n",
       ":   \n",
       "A data.table: 2 × 43\n",
       "\n",
       "| renewal_type &lt;chr&gt; | renewed_count &lt;int&gt; | expiry_date &lt;date&gt; | domain_id &lt;int&gt; | domain &lt;chr&gt; | creation_date &lt;date&gt; | status &lt;chr&gt; | tld &lt;fct&gt; | registrar &lt;chr&gt; | reseller &lt;chr&gt; | reseller_country &lt;chr&gt; | region &lt;chr&gt; | reg_period &lt;int&gt; | registrant_country &lt;chr&gt; | renewal_status &lt;fct&gt; | renew_mbg &lt;int&gt; | renew_type &lt;chr&gt; | autorenew_type &lt;chr&gt; | renew_date &lt;date&gt; | renew_registrar &lt;chr&gt; | renew_reseller &lt;chr&gt; | reg_revenue &lt;dbl&gt; | reg_arpt &lt;dbl&gt; | renew_period &lt;int&gt; | renew_domain_revenue &lt;dbl&gt; | renew_arpt &lt;dbl&gt; | reg_arpt_org &lt;dbl&gt; | tld_registrar_index &lt;chr&gt; | sld &lt;chr&gt; | sld_type &lt;fct&gt; | sld_length &lt;int&gt; | sld_type2 &lt;chr&gt; | day_domains &lt;int&gt; | log_reg_arpt &lt;dbl&gt; | gibb_score &lt;dbl&gt; | pattern &lt;chr&gt; | cluster &lt;dbl&gt; | pattern_score &lt;dbl&gt; | pattern_domain_count &lt;int&gt; | V2 &lt;dbl&gt; | V3 &lt;dbl&gt; | V4 &lt;dbl&gt; | V5 &lt;dbl&gt; |\n",
       "|---|---|---|---|---|---|---|---|---|---|---|---|---|---|---|---|---|---|---|---|---|---|---|---|---|---|---|---|---|---|---|---|---|---|---|---|---|---|---|---|---|---|---|\n",
       "| FirstTime | 1 | 2020-01-15 | 91044973 | movistar.fun | 2019-01-15 | Active | fun | 10dencehispahard | 10dencehispahard | Spain | Non China | 1 | NA | Not Renewd | 0 | auto-renewal | unrealized | 2020-01-15 | 10dencehispahard | 10dencehispahard | 15 | 15 | 1 | 15 | 15 | 15 | fun10dencehispahard | movistar | l | 8 | 8l | 1 | 2.70805 | 8.62 | movistar | 1 | 1 | 1 | 0 | 0.3462084 | 0 | 0 |\n",
       "| FirstTime | 1 | 2020-02-01 | 92472913 | kuinik.fun   | 2019-02-01 | Active | fun | 10dencehispahard | 10dencehispahard | Spain | Non China | 1 | NA | Not Renewd | 0 | auto-renewal | unrealized | 2020-02-01 | 10dencehispahard | 10dencehispahard | 15 | 15 | 1 | 15 | 15 | 15 | fun10dencehispahard | kuinik   | l | 6 | 6l | 1 | 2.70805 | 3.13 | kuinik   | 1 | 1 | 1 | 0 | 0.3169892 | 0 | 0 |\n",
       "\n",
       "\n",
       "$fun1api\n",
       ":   \n",
       "A data.table: 2 × 43\n",
       "\n",
       "| renewal_type &lt;chr&gt; | renewed_count &lt;int&gt; | expiry_date &lt;date&gt; | domain_id &lt;int&gt; | domain &lt;chr&gt; | creation_date &lt;date&gt; | status &lt;chr&gt; | tld &lt;fct&gt; | registrar &lt;chr&gt; | reseller &lt;chr&gt; | reseller_country &lt;chr&gt; | region &lt;chr&gt; | reg_period &lt;int&gt; | registrant_country &lt;chr&gt; | renewal_status &lt;fct&gt; | renew_mbg &lt;int&gt; | renew_type &lt;chr&gt; | autorenew_type &lt;chr&gt; | renew_date &lt;date&gt; | renew_registrar &lt;chr&gt; | renew_reseller &lt;chr&gt; | reg_revenue &lt;dbl&gt; | reg_arpt &lt;dbl&gt; | renew_period &lt;int&gt; | renew_domain_revenue &lt;dbl&gt; | renew_arpt &lt;dbl&gt; | reg_arpt_org &lt;dbl&gt; | tld_registrar_index &lt;chr&gt; | sld &lt;chr&gt; | sld_type &lt;fct&gt; | sld_length &lt;int&gt; | sld_type2 &lt;chr&gt; | day_domains &lt;int&gt; | log_reg_arpt &lt;dbl&gt; | gibb_score &lt;dbl&gt; | pattern &lt;chr&gt; | cluster &lt;dbl&gt; | pattern_score &lt;dbl&gt; | pattern_domain_count &lt;int&gt; | V2 &lt;dbl&gt; | V3 &lt;dbl&gt; | V4 &lt;dbl&gt; | V5 &lt;dbl&gt; |\n",
       "|---|---|---|---|---|---|---|---|---|---|---|---|---|---|---|---|---|---|---|---|---|---|---|---|---|---|---|---|---|---|---|---|---|---|---|---|---|---|---|---|---|---|---|\n",
       "| FirstTime | 1 | 2020-01-21 |  91532433 | bulgari.fun | 2019-01-21 | Active | fun | 1api | 1api | Germany | Non China | 1 | NA | Renewed    | 0 | auto-renewal | realized   | 2020-01-21 | 1API | 1API | 5 | 5 | 1 | 15 | 15 | 5 | fun1api | bulgari | l | 7 | 7l | 1 | 1.609438 | 4.51 | bulgari | 1 | 1 | 1 | 0.842 | 0.8486598 | 0.832 | 0.832 |\n",
       "| FirstTime | 1 | 2020-04-24 | 101717674 | gotsome.fun | 2019-04-24 | Active | fun | 1api | 1api | Germany | Non China | 1 | NA | Not Renewd | 0 | auto-renewal | unrealized | 2020-04-24 | 1API | 1API | 5 | 5 | 1 | 15 | 15 | 5 | fun1api | gotsome | l | 7 | 7l | 1 | 1.609438 | 6.09 | gotsome | 1 | 1 | 1 | 0.843 | 0.8421671 | 0.832 | 0.832 |\n",
       "\n",
       "\n",
       "$`funab name isp`\n",
       ":   &lt;NA&gt;\n",
       "$`funactive 24`\n",
       ":   \n",
       "A data.table: 22 × 43\n",
       "\n",
       "| renewal_type &lt;chr&gt; | renewed_count &lt;int&gt; | expiry_date &lt;date&gt; | domain_id &lt;int&gt; | domain &lt;chr&gt; | creation_date &lt;date&gt; | status &lt;chr&gt; | tld &lt;fct&gt; | registrar &lt;chr&gt; | reseller &lt;chr&gt; | reseller_country &lt;chr&gt; | region &lt;chr&gt; | reg_period &lt;int&gt; | registrant_country &lt;chr&gt; | renewal_status &lt;fct&gt; | renew_mbg &lt;int&gt; | renew_type &lt;chr&gt; | autorenew_type &lt;chr&gt; | renew_date &lt;date&gt; | renew_registrar &lt;chr&gt; | renew_reseller &lt;chr&gt; | reg_revenue &lt;dbl&gt; | reg_arpt &lt;dbl&gt; | renew_period &lt;int&gt; | renew_domain_revenue &lt;dbl&gt; | renew_arpt &lt;dbl&gt; | reg_arpt_org &lt;dbl&gt; | tld_registrar_index &lt;chr&gt; | sld &lt;chr&gt; | sld_type &lt;fct&gt; | sld_length &lt;int&gt; | sld_type2 &lt;chr&gt; | day_domains &lt;int&gt; | log_reg_arpt &lt;dbl&gt; | gibb_score &lt;dbl&gt; | cluster &lt;chr&gt; | pattern &lt;chr&gt; | pattern_score &lt;dbl&gt; | pattern_domain_count &lt;int&gt; | V2 &lt;dbl&gt; | V3 &lt;dbl&gt; | V4 &lt;dbl&gt; | V5 &lt;dbl&gt; |\n",
       "|---|---|---|---|---|---|---|---|---|---|---|---|---|---|---|---|---|---|---|---|---|---|---|---|---|---|---|---|---|---|---|---|---|---|---|---|---|---|---|---|---|---|---|\n",
       "| FirstTime | 1 | 2020-01-16 |  91155123 | e-smokevirtual.fun | 2019-01-16 | Active | fun | ascio | active 24 | Czech Republic | Non China | 1 | NA | Not Renewd | 0 | auto-renewal | unrealized | 2020-01-16 | Ascio | Active 24 | 0.5 | 0.5 | 1 | 15 | 15 | 0.5 | funactive 24 | e-smokevirtual | hyphen-l | 14 | 14hyphen-l | 3 | -0.6931472 |   4.37 | 1            | e-smokevirtual | 0.1111111 | 1 | 0.192 | 0.1782283 | 0.12787708 | 0.12787708 |\n",
       "| FirstTime | 1 | 2020-01-16 |  91146808 | rovnatka.fun       | 2019-01-16 | Active | fun | ascio | active 24 | Czech Republic | Non China | 1 | NA | Not Renewd | 0 | auto-renewal | unrealized | 2020-01-16 | Ascio | Active 24 | 0.5 | 0.5 | 1 | 15 | 15 | 0.5 | funactive 24 | rovnatka       | l        |  8 | 8l         | 3 | -0.6931472 |   1.57 | 2            | rovnatka       | 0.1111111 | 1 | 0.198 | 0.1877276 | 0.19177551 | 0.19177551 |\n",
       "| FirstTime | 1 | 2020-01-16 |  91145283 | myokd.fun          | 2019-01-16 | Active | fun | ascio | active 24 | Czech Republic | Non China | 1 | NA | Not Renewd | 0 | auto-renewal | unrealized | 2020-01-16 | Ascio | Active 24 | 0.5 | 0.5 | 1 | 15 | 15 | 0.5 | funactive 24 | myokd          | l        |  5 | 5l         | 3 | -0.6931472 |   1.18 | 3            | myokd          | 0.1111111 | 1 | 0.210 | 0.1992040 | 0.21341160 | 0.21341160 |\n",
       "| FirstTime | 1 | 2020-01-17 |  91262818 | vtipy.fun          | 2019-01-17 | Active | fun | ascio | active 24 | Czech Republic | Non China | 1 | NA | Not Renewd | 0 | auto-renewal | unrealized | 2020-01-17 | Ascio | Active 24 | 0.5 | 0.5 | 1 | 15 | 15 | 0.5 | funactive 24 | vtipy          | l        |  5 | 5l         | 3 | -0.6931472 |   0.63 | 1            | vtipy          | 0.1111111 | 1 | 0.212 | 0.2086369 | 0.21341160 | 0.21341160 |\n",
       "| FirstTime | 1 | 2020-01-17 |  91231718 | blahoviny.fun      | 2019-01-17 | Active | fun | ascio | active 24 | Czech Republic | Non China | 1 | NA | Not Renewd | 0 | auto-renewal | unrealized | 2020-01-17 | Ascio | Active 24 | 0.5 | 0.5 | 1 | 15 | 15 | 0.5 | funactive 24 | blahoviny      | l        |  9 | 9l         | 3 | -0.6931472 |   4.49 | 2            | blahoviny      | 0.1111111 | 1 | 0.188 | 0.2383924 | 0.24060072 | 0.24060072 |\n",
       "| FirstTime | 1 | 2020-01-17 |  91220903 | maxitip.fun        | 2019-01-17 | Active | fun | ascio | active 24 | Czech Republic | Non China | 1 | NA | Not Renewd | 0 | auto-renewal | unrealized | 2020-01-17 | Ascio | Active 24 | 0.5 | 0.5 | 1 | 15 | 15 | 0.5 | funactive 24 | maxitip        | l        |  7 | 7l         | 3 | -0.6931472 |   3.70 | 3            | maxitip        | 0.1111111 | 1 | 0.197 | 0.5100125 | 0.48983654 | 0.48983654 |\n",
       "| FirstTime | 1 | 2020-01-20 |  91430133 | quads4.fun         | 2019-01-20 | Active | fun | ascio | active 24 | Czech Republic | Non China | 1 | NA | Not Renewd | 0 | auto-renewal | unrealized | 2020-01-20 | Ascio | Active 24 | 0.5 | 0.5 | 1 | 15 | 15 | 0.5 | funactive 24 | quads4         | ln       |  6 | 6ln        | 1 | -0.6931472 |   7.29 | quads4       | 1              | 1.0000000 | 1 | 0.138 | 0.2416895 | 0.18419280 | 0.18419280 |\n",
       "| FirstTime | 1 | 2020-01-23 |  91697458 | converge4.fun      | 2019-01-23 | Active | fun | ascio | active 24 | Czech Republic | Non China | 1 | NA | Renewed    | 0 | renewal      | NA         | 2020-01-23 | Ascio | Active 24 | 0.5 | 0.5 | 1 | 15 | 15 | 0.5 | funactive 24 | converge4      | ln       |  9 | 9ln        | 3 | -0.6931472 |   8.20 | 1            | converge4      | 0.1111111 | 1 | 0.118 | 0.2047713 | 0.13453123 | 0.13453123 |\n",
       "| FirstTime | 1 | 2020-01-23 |  91734683 | sendit4.fun        | 2019-01-23 | Active | fun | ascio | active 24 | Czech Republic | Non China | 1 | NA | Renewed    | 0 | renewal      | NA         | 2020-01-23 | Ascio | Active 24 | 0.5 | 0.5 | 1 | 15 | 15 | 0.5 | funactive 24 | sendit4        | ln       |  7 | 7ln        | 3 | -0.6931472 |  11.41 | 2            | sendit4        | 0.1111111 | 1 | 0.119 | 0.2194942 | 0.15543138 | 0.15543138 |\n",
       "| FirstTime | 1 | 2020-01-23 |  91679788 | matylda.fun        | 2019-01-23 | Active | fun | ascio | active 24 | Czech Republic | Non China | 1 | NA | Renewed    | 0 | auto-renewal | realized   | 2020-01-23 | Ascio | Active 24 | 0.5 | 0.5 | 1 | 15 | 15 | 0.5 | funactive 24 | matylda        | l        |  7 | 7l         | 3 | -0.6931472 |   4.06 | 3            | matylda        | 0.1111111 | 1 | 0.196 | 0.5111910 | 0.47717256 | 0.47717256 |\n",
       "| FirstTime | 1 | 2020-01-24 |  91777623 | chiptuning.fun     | 2019-01-24 | Active | fun | ascio | active 24 | Czech Republic | Non China | 1 | NA | Renewed    | 0 | auto-renewal | realized   | 2020-01-24 | Ascio | Ascio     | 0.5 | 0.5 | 1 | 15 | 15 | 0.5 | funactive 24 | chiptuning     | l        | 10 | 10l        | 1 | -0.6931472 |   6.33 | chiptuning   | 1              | 1.0000000 | 1 | 0.196 | 0.2209711 | 0.19280800 | 0.19280800 |\n",
       "| FirstTime | 1 | 2020-02-08 |  93178923 | mdsb-project.fun   | 2019-02-08 | Active | fun | ascio | active 24 | Czech Republic | Non China | 1 | NA | Not Renewd | 0 | auto-renewal | unrealized | 2020-02-08 | Ascio | Active 24 | 0.5 | 0.5 | 1 | 15 | 15 | 0.5 | funactive 24 | mdsb-project   | hyphen-l | 12 | 12hyphen-l | 1 | -0.6931472 |   1.08 | mdsb-project | 1              | 1.0000000 | 1 | 0.222 | 0.1552589 | 0.10189740 | 0.10189740 |\n",
       "| FirstTime | 1 | 2020-03-04 |  95294834 | petr.fun           | 2019-03-04 | Active | fun | ascio | active 24 | Czech Republic | Non China | 1 | NA | Not Renewd | 0 | auto-renewal | unrealized | 2020-03-04 | Ascio | Ascio     | 0.5 | 0.5 | 1 | 15 | 15 | 0.5 | funactive 24 | petr           | l        |  4 | 4l         | 1 | -0.6931472 |   5.10 | petr         | 1              | 1.0000000 | 1 | 0.222 | 0.1929771 | 0.14208955 | 0.14208955 |\n",
       "| FirstTime | 1 | 2020-03-08 |  95880789 | priroda.fun        | 2019-03-08 | Active | fun | ascio | active 24 | Czech Republic | Non China | 1 | NA | Not Renewd | 0 | auto-renewal | unrealized | 2020-03-08 | Ascio | Active 24 | 0.5 | 0.5 | 1 | 15 | 15 | 0.5 | funactive 24 | priroda        | l        |  7 | 7l         | 1 | -0.6931472 |   5.24 | priroda      | 1              | 1.0000000 | 1 | 0.209 | 0.2501982 | 0.24971102 | 0.24971102 |\n",
       "| FirstTime | 1 | 2020-03-15 |  96803354 | cirq.fun           | 2019-03-15 | Active | fun | ascio | active 24 | Czech Republic | Non China | 1 | NA | Not Renewd | 0 | auto-renewal | unrealized | 2020-03-15 | Ascio | Ascio     | 0.5 | 0.5 | 1 | 15 | 15 | 0.5 | funactive 24 | cirq           | l        |  4 | 4l         | 1 | -0.6931472 |   0.59 | cirq         | 1              | 1.0000000 | 1 | 0.232 | 0.1421217 | 0.12808544 | 0.12808544 |\n",
       "| FirstTime | 1 | 2020-04-08 |  99267829 | zenyon10.fun       | 2019-04-08 | Active | fun | ascio | active 24 | Czech Republic | Non China | 1 | NA | Not Renewd | 0 | auto-renewal | unrealized | 2020-04-08 | Ascio | Active 24 | 0.5 | 0.5 | 1 | 15 | 15 | 0.5 | funactive 24 | zenyon10       | ln       |  8 | 8ln        | 3 | -0.6931472 |   9.33 | 1            | zenyon         | 0.3333333 | 3 | 0.173 | 0.2709206 | 0.04513118 | 0.04513118 |\n",
       "| FirstTime | 1 | 2020-04-08 |  99267809 | zenyon4.fun        | 2019-04-08 | Active | fun | ascio | active 24 | Czech Republic | Non China | 1 | NA | Not Renewd | 0 | auto-renewal | unrealized | 2020-04-08 | Ascio | Active 24 | 0.5 | 0.5 | 1 | 15 | 15 | 0.5 | funactive 24 | zenyon4        | ln       |  7 | 7ln        | 3 | -0.6931472 |   9.33 | 1            | zenyon         | 0.3333333 | 3 | 0.176 | 0.2613976 | 0.03465718 | 0.03465718 |\n",
       "| FirstTime | 1 | 2020-04-08 |  99267819 | zenyon8.fun        | 2019-04-08 | Active | fun | ascio | active 24 | Czech Republic | Non China | 1 | NA | Not Renewd | 0 | auto-renewal | unrealized | 2020-04-08 | Ascio | Active 24 | 0.5 | 0.5 | 1 | 15 | 15 | 0.5 | funactive 24 | zenyon8        | ln       |  7 | 7ln        | 3 | -0.6931472 |   9.33 | 1            | zenyon         | 0.3333333 | 3 | 0.176 | 0.2613976 | 0.03465718 | 0.03465718 |\n",
       "| FirstTime | 1 | 2020-04-15 | 100324309 | jctest.fun         | 2019-04-15 | Active | fun | ascio | active 24 | Czech Republic | Non China | 1 | NA | Not Renewd | 0 | auto-renewal | unrealized | 2020-04-15 | Ascio | Active 24 | 0.5 | 0.5 | 1 | 15 | 15 | 0.5 | funactive 24 | jctest         | l        |  6 | 6l         | 1 | -0.6931472 |   4.59 | jctest       | 1              | 1.0000000 | 1 | 0.215 | 0.1735025 | 0.19105098 | 0.19105098 |\n",
       "| FirstTime | 1 | 2020-04-18 | 100793594 | m230.fun           | 2019-04-18 | Active | fun | ascio | active 24 | Czech Republic | Non China | 1 | NA | Not Renewd | 0 | auto-renewal | unrealized | 2020-04-18 | Ascio | Active 24 | 0.5 | 0.5 | 1 | 15 | 15 | 0.5 | funactive 24 | m230           | ln       |  4 | 4ln        | 1 | -0.6931472 | 100.00 | m230         | 1              | 1.0000000 | 1 | 0.047 | 0.3213206 | 0.26015674 | 0.26015674 |\n",
       "| FirstTime | 1 | 2020-05-07 | 102987669 | clubmusic.fun      | 2019-05-07 | Active | fun | ascio | active 24 | Czech Republic | Non China | 1 | NA | Not Renewd | 0 | auto-renewal | unrealized | 2020-05-07 | Ascio | Ascio     | 0.5 | 0.5 | 1 | 15 | 15 | 0.5 | funactive 24 | clubmusic      | l        |  9 | 9l         | 1 | -0.6931472 |   3.04 | clubmusic    | 1              | 1.0000000 | 1 | 0.206 | 0.4754838 | 0.44650115 | 0.44650115 |\n",
       "| FirstTime | 1 | 2020-05-16 | 103795231 | almondo.fun        | 2019-05-16 | Active | fun | ascio | active 24 | Czech Republic | Non China | 1 | NA | Renewed    | 0 | renewal      | NA         | 2020-04-22 | Ascio | Ascio     | 0.5 | 0.5 | 1 | 15 | 15 | 0.5 | funactive 24 | almondo        | l        |  7 | 7l         | 1 | -0.6931472 |   6.49 | almondo      | 1              | 1.0000000 | 1 | 0.207 | 0.2695949 | 0.25986827 | 0.25986827 |\n",
       "\n",
       "\n",
       "\n",
       "\n"
      ],
      "text/plain": [
       "$`fun1&1 internet`\n",
       "   renewal_type renewed_count expiry_date domain_id        domain creation_date\n",
       "1:    FirstTime             1  2020-01-22  91639803    segeln.fun    2019-01-22\n",
       "2:    FirstTime             1  2020-03-07  95819759 harzhotel.fun    2019-03-07\n",
       "   status tld    registrar     reseller reseller_country    region reg_period\n",
       "1: Active fun 1&1 internet 1&1 internet          Germany Non China          1\n",
       "2: Active fun 1&1 internet 1&1 internet          Germany Non China          1\n",
       "   registrant_country renewal_status renew_mbg   renew_type autorenew_type\n",
       "1:               <NA>        Renewed         0 auto-renewal       realized\n",
       "2:               <NA>        Renewed         0 auto-renewal       realized\n",
       "   renew_date renew_registrar renew_reseller reg_revenue reg_arpt renew_period\n",
       "1: 2020-01-22    1&1 Internet   1&1 Internet          15       15            1\n",
       "2: 2020-03-07    1&1 Internet   1&1 Internet          15       15            1\n",
       "   renew_domain_revenue renew_arpt reg_arpt_org tld_registrar_index       sld\n",
       "1:                   15         15           15     fun1&1 internet    segeln\n",
       "2:                   15         15           15     fun1&1 internet harzhotel\n",
       "   sld_type sld_length sld_type2 day_domains log_reg_arpt gibb_score   pattern\n",
       "1:        l          6        6l           1      2.70805       2.23    segeln\n",
       "2:        l          9        9l           1      2.70805       3.45 harzhotel\n",
       "   cluster pattern_score pattern_domain_count    V2        V3        V4\n",
       "1:       1             1                    1 0.802 0.6801492 0.7125206\n",
       "2:       1             1                    1 0.785 0.6428311 0.7248957\n",
       "          V5\n",
       "1: 0.7125206\n",
       "2: 0.7248957\n",
       "\n",
       "$fun10dencehispahard\n",
       "   renewal_type renewed_count expiry_date domain_id       domain creation_date\n",
       "1:    FirstTime             1  2020-01-15  91044973 movistar.fun    2019-01-15\n",
       "2:    FirstTime             1  2020-02-01  92472913   kuinik.fun    2019-02-01\n",
       "   status tld        registrar         reseller reseller_country    region\n",
       "1: Active fun 10dencehispahard 10dencehispahard            Spain Non China\n",
       "2: Active fun 10dencehispahard 10dencehispahard            Spain Non China\n",
       "   reg_period registrant_country renewal_status renew_mbg   renew_type\n",
       "1:          1               <NA>     Not Renewd         0 auto-renewal\n",
       "2:          1               <NA>     Not Renewd         0 auto-renewal\n",
       "   autorenew_type renew_date  renew_registrar   renew_reseller reg_revenue\n",
       "1:     unrealized 2020-01-15 10dencehispahard 10dencehispahard          15\n",
       "2:     unrealized 2020-02-01 10dencehispahard 10dencehispahard          15\n",
       "   reg_arpt renew_period renew_domain_revenue renew_arpt reg_arpt_org\n",
       "1:       15            1                   15         15           15\n",
       "2:       15            1                   15         15           15\n",
       "   tld_registrar_index      sld sld_type sld_length sld_type2 day_domains\n",
       "1: fun10dencehispahard movistar        l          8        8l           1\n",
       "2: fun10dencehispahard   kuinik        l          6        6l           1\n",
       "   log_reg_arpt gibb_score  pattern cluster pattern_score pattern_domain_count\n",
       "1:      2.70805       8.62 movistar       1             1                    1\n",
       "2:      2.70805       3.13   kuinik       1             1                    1\n",
       "   V2        V3 V4 V5\n",
       "1:  0 0.3462084  0  0\n",
       "2:  0 0.3169892  0  0\n",
       "\n",
       "$fun1api\n",
       "   renewal_type renewed_count expiry_date domain_id      domain creation_date\n",
       "1:    FirstTime             1  2020-01-21  91532433 bulgari.fun    2019-01-21\n",
       "2:    FirstTime             1  2020-04-24 101717674 gotsome.fun    2019-04-24\n",
       "   status tld registrar reseller reseller_country    region reg_period\n",
       "1: Active fun      1api     1api          Germany Non China          1\n",
       "2: Active fun      1api     1api          Germany Non China          1\n",
       "   registrant_country renewal_status renew_mbg   renew_type autorenew_type\n",
       "1:               <NA>        Renewed         0 auto-renewal       realized\n",
       "2:               <NA>     Not Renewd         0 auto-renewal     unrealized\n",
       "   renew_date renew_registrar renew_reseller reg_revenue reg_arpt renew_period\n",
       "1: 2020-01-21            1API           1API           5        5            1\n",
       "2: 2020-04-24            1API           1API           5        5            1\n",
       "   renew_domain_revenue renew_arpt reg_arpt_org tld_registrar_index     sld\n",
       "1:                   15         15            5             fun1api bulgari\n",
       "2:                   15         15            5             fun1api gotsome\n",
       "   sld_type sld_length sld_type2 day_domains log_reg_arpt gibb_score pattern\n",
       "1:        l          7        7l           1     1.609438       4.51 bulgari\n",
       "2:        l          7        7l           1     1.609438       6.09 gotsome\n",
       "   cluster pattern_score pattern_domain_count    V2        V3    V4    V5\n",
       "1:       1             1                    1 0.842 0.8486598 0.832 0.832\n",
       "2:       1             1                    1 0.843 0.8421671 0.832 0.832\n",
       "\n",
       "$`funab name isp`\n",
       "[1] NA\n",
       "\n",
       "$`funactive 24`\n",
       "    renewal_type renewed_count expiry_date domain_id             domain\n",
       " 1:    FirstTime             1  2020-01-16  91155123 e-smokevirtual.fun\n",
       " 2:    FirstTime             1  2020-01-16  91146808       rovnatka.fun\n",
       " 3:    FirstTime             1  2020-01-16  91145283          myokd.fun\n",
       " 4:    FirstTime             1  2020-01-17  91262818          vtipy.fun\n",
       " 5:    FirstTime             1  2020-01-17  91231718      blahoviny.fun\n",
       " 6:    FirstTime             1  2020-01-17  91220903        maxitip.fun\n",
       " 7:    FirstTime             1  2020-01-20  91430133         quads4.fun\n",
       " 8:    FirstTime             1  2020-01-23  91697458      converge4.fun\n",
       " 9:    FirstTime             1  2020-01-23  91734683        sendit4.fun\n",
       "10:    FirstTime             1  2020-01-23  91679788        matylda.fun\n",
       "11:    FirstTime             1  2020-01-24  91777623     chiptuning.fun\n",
       "12:    FirstTime             1  2020-02-08  93178923   mdsb-project.fun\n",
       "13:    FirstTime             1  2020-03-04  95294834           petr.fun\n",
       "14:    FirstTime             1  2020-03-08  95880789        priroda.fun\n",
       "15:    FirstTime             1  2020-03-15  96803354           cirq.fun\n",
       "16:    FirstTime             1  2020-04-08  99267829       zenyon10.fun\n",
       "17:    FirstTime             1  2020-04-08  99267809        zenyon4.fun\n",
       "18:    FirstTime             1  2020-04-08  99267819        zenyon8.fun\n",
       "19:    FirstTime             1  2020-04-15 100324309         jctest.fun\n",
       "20:    FirstTime             1  2020-04-18 100793594           m230.fun\n",
       "21:    FirstTime             1  2020-05-07 102987669      clubmusic.fun\n",
       "22:    FirstTime             1  2020-05-16 103795231        almondo.fun\n",
       "    renewal_type renewed_count expiry_date domain_id             domain\n",
       "    creation_date status tld registrar  reseller reseller_country    region\n",
       " 1:    2019-01-16 Active fun     ascio active 24   Czech Republic Non China\n",
       " 2:    2019-01-16 Active fun     ascio active 24   Czech Republic Non China\n",
       " 3:    2019-01-16 Active fun     ascio active 24   Czech Republic Non China\n",
       " 4:    2019-01-17 Active fun     ascio active 24   Czech Republic Non China\n",
       " 5:    2019-01-17 Active fun     ascio active 24   Czech Republic Non China\n",
       " 6:    2019-01-17 Active fun     ascio active 24   Czech Republic Non China\n",
       " 7:    2019-01-20 Active fun     ascio active 24   Czech Republic Non China\n",
       " 8:    2019-01-23 Active fun     ascio active 24   Czech Republic Non China\n",
       " 9:    2019-01-23 Active fun     ascio active 24   Czech Republic Non China\n",
       "10:    2019-01-23 Active fun     ascio active 24   Czech Republic Non China\n",
       "11:    2019-01-24 Active fun     ascio active 24   Czech Republic Non China\n",
       "12:    2019-02-08 Active fun     ascio active 24   Czech Republic Non China\n",
       "13:    2019-03-04 Active fun     ascio active 24   Czech Republic Non China\n",
       "14:    2019-03-08 Active fun     ascio active 24   Czech Republic Non China\n",
       "15:    2019-03-15 Active fun     ascio active 24   Czech Republic Non China\n",
       "16:    2019-04-08 Active fun     ascio active 24   Czech Republic Non China\n",
       "17:    2019-04-08 Active fun     ascio active 24   Czech Republic Non China\n",
       "18:    2019-04-08 Active fun     ascio active 24   Czech Republic Non China\n",
       "19:    2019-04-15 Active fun     ascio active 24   Czech Republic Non China\n",
       "20:    2019-04-18 Active fun     ascio active 24   Czech Republic Non China\n",
       "21:    2019-05-07 Active fun     ascio active 24   Czech Republic Non China\n",
       "22:    2019-05-16 Active fun     ascio active 24   Czech Republic Non China\n",
       "    creation_date status tld registrar  reseller reseller_country    region\n",
       "    reg_period registrant_country renewal_status renew_mbg   renew_type\n",
       " 1:          1               <NA>     Not Renewd         0 auto-renewal\n",
       " 2:          1               <NA>     Not Renewd         0 auto-renewal\n",
       " 3:          1               <NA>     Not Renewd         0 auto-renewal\n",
       " 4:          1               <NA>     Not Renewd         0 auto-renewal\n",
       " 5:          1               <NA>     Not Renewd         0 auto-renewal\n",
       " 6:          1               <NA>     Not Renewd         0 auto-renewal\n",
       " 7:          1               <NA>     Not Renewd         0 auto-renewal\n",
       " 8:          1               <NA>        Renewed         0      renewal\n",
       " 9:          1               <NA>        Renewed         0      renewal\n",
       "10:          1               <NA>        Renewed         0 auto-renewal\n",
       "11:          1               <NA>        Renewed         0 auto-renewal\n",
       "12:          1               <NA>     Not Renewd         0 auto-renewal\n",
       "13:          1               <NA>     Not Renewd         0 auto-renewal\n",
       "14:          1               <NA>     Not Renewd         0 auto-renewal\n",
       "15:          1               <NA>     Not Renewd         0 auto-renewal\n",
       "16:          1               <NA>     Not Renewd         0 auto-renewal\n",
       "17:          1               <NA>     Not Renewd         0 auto-renewal\n",
       "18:          1               <NA>     Not Renewd         0 auto-renewal\n",
       "19:          1               <NA>     Not Renewd         0 auto-renewal\n",
       "20:          1               <NA>     Not Renewd         0 auto-renewal\n",
       "21:          1               <NA>     Not Renewd         0 auto-renewal\n",
       "22:          1               <NA>        Renewed         0      renewal\n",
       "    reg_period registrant_country renewal_status renew_mbg   renew_type\n",
       "    autorenew_type renew_date renew_registrar renew_reseller reg_revenue\n",
       " 1:     unrealized 2020-01-16           Ascio      Active 24         0.5\n",
       " 2:     unrealized 2020-01-16           Ascio      Active 24         0.5\n",
       " 3:     unrealized 2020-01-16           Ascio      Active 24         0.5\n",
       " 4:     unrealized 2020-01-17           Ascio      Active 24         0.5\n",
       " 5:     unrealized 2020-01-17           Ascio      Active 24         0.5\n",
       " 6:     unrealized 2020-01-17           Ascio      Active 24         0.5\n",
       " 7:     unrealized 2020-01-20           Ascio      Active 24         0.5\n",
       " 8:           <NA> 2020-01-23           Ascio      Active 24         0.5\n",
       " 9:           <NA> 2020-01-23           Ascio      Active 24         0.5\n",
       "10:       realized 2020-01-23           Ascio      Active 24         0.5\n",
       "11:       realized 2020-01-24           Ascio          Ascio         0.5\n",
       "12:     unrealized 2020-02-08           Ascio      Active 24         0.5\n",
       "13:     unrealized 2020-03-04           Ascio          Ascio         0.5\n",
       "14:     unrealized 2020-03-08           Ascio      Active 24         0.5\n",
       "15:     unrealized 2020-03-15           Ascio          Ascio         0.5\n",
       "16:     unrealized 2020-04-08           Ascio      Active 24         0.5\n",
       "17:     unrealized 2020-04-08           Ascio      Active 24         0.5\n",
       "18:     unrealized 2020-04-08           Ascio      Active 24         0.5\n",
       "19:     unrealized 2020-04-15           Ascio      Active 24         0.5\n",
       "20:     unrealized 2020-04-18           Ascio      Active 24         0.5\n",
       "21:     unrealized 2020-05-07           Ascio          Ascio         0.5\n",
       "22:           <NA> 2020-04-22           Ascio          Ascio         0.5\n",
       "    autorenew_type renew_date renew_registrar renew_reseller reg_revenue\n",
       "    reg_arpt renew_period renew_domain_revenue renew_arpt reg_arpt_org\n",
       " 1:      0.5            1                   15         15          0.5\n",
       " 2:      0.5            1                   15         15          0.5\n",
       " 3:      0.5            1                   15         15          0.5\n",
       " 4:      0.5            1                   15         15          0.5\n",
       " 5:      0.5            1                   15         15          0.5\n",
       " 6:      0.5            1                   15         15          0.5\n",
       " 7:      0.5            1                   15         15          0.5\n",
       " 8:      0.5            1                   15         15          0.5\n",
       " 9:      0.5            1                   15         15          0.5\n",
       "10:      0.5            1                   15         15          0.5\n",
       "11:      0.5            1                   15         15          0.5\n",
       "12:      0.5            1                   15         15          0.5\n",
       "13:      0.5            1                   15         15          0.5\n",
       "14:      0.5            1                   15         15          0.5\n",
       "15:      0.5            1                   15         15          0.5\n",
       "16:      0.5            1                   15         15          0.5\n",
       "17:      0.5            1                   15         15          0.5\n",
       "18:      0.5            1                   15         15          0.5\n",
       "19:      0.5            1                   15         15          0.5\n",
       "20:      0.5            1                   15         15          0.5\n",
       "21:      0.5            1                   15         15          0.5\n",
       "22:      0.5            1                   15         15          0.5\n",
       "    reg_arpt renew_period renew_domain_revenue renew_arpt reg_arpt_org\n",
       "    tld_registrar_index            sld sld_type sld_length  sld_type2\n",
       " 1:        funactive 24 e-smokevirtual hyphen-l         14 14hyphen-l\n",
       " 2:        funactive 24       rovnatka        l          8         8l\n",
       " 3:        funactive 24          myokd        l          5         5l\n",
       " 4:        funactive 24          vtipy        l          5         5l\n",
       " 5:        funactive 24      blahoviny        l          9         9l\n",
       " 6:        funactive 24        maxitip        l          7         7l\n",
       " 7:        funactive 24         quads4       ln          6        6ln\n",
       " 8:        funactive 24      converge4       ln          9        9ln\n",
       " 9:        funactive 24        sendit4       ln          7        7ln\n",
       "10:        funactive 24        matylda        l          7         7l\n",
       "11:        funactive 24     chiptuning        l         10        10l\n",
       "12:        funactive 24   mdsb-project hyphen-l         12 12hyphen-l\n",
       "13:        funactive 24           petr        l          4         4l\n",
       "14:        funactive 24        priroda        l          7         7l\n",
       "15:        funactive 24           cirq        l          4         4l\n",
       "16:        funactive 24       zenyon10       ln          8        8ln\n",
       "17:        funactive 24        zenyon4       ln          7        7ln\n",
       "18:        funactive 24        zenyon8       ln          7        7ln\n",
       "19:        funactive 24         jctest        l          6         6l\n",
       "20:        funactive 24           m230       ln          4        4ln\n",
       "21:        funactive 24      clubmusic        l          9         9l\n",
       "22:        funactive 24        almondo        l          7         7l\n",
       "    tld_registrar_index            sld sld_type sld_length  sld_type2\n",
       "    day_domains log_reg_arpt gibb_score      cluster        pattern\n",
       " 1:           3   -0.6931472       4.37            1 e-smokevirtual\n",
       " 2:           3   -0.6931472       1.57            2       rovnatka\n",
       " 3:           3   -0.6931472       1.18            3          myokd\n",
       " 4:           3   -0.6931472       0.63            1          vtipy\n",
       " 5:           3   -0.6931472       4.49            2      blahoviny\n",
       " 6:           3   -0.6931472       3.70            3        maxitip\n",
       " 7:           1   -0.6931472       7.29       quads4              1\n",
       " 8:           3   -0.6931472       8.20            1      converge4\n",
       " 9:           3   -0.6931472      11.41            2        sendit4\n",
       "10:           3   -0.6931472       4.06            3        matylda\n",
       "11:           1   -0.6931472       6.33   chiptuning              1\n",
       "12:           1   -0.6931472       1.08 mdsb-project              1\n",
       "13:           1   -0.6931472       5.10         petr              1\n",
       "14:           1   -0.6931472       5.24      priroda              1\n",
       "15:           1   -0.6931472       0.59         cirq              1\n",
       "16:           3   -0.6931472       9.33            1         zenyon\n",
       "17:           3   -0.6931472       9.33            1         zenyon\n",
       "18:           3   -0.6931472       9.33            1         zenyon\n",
       "19:           1   -0.6931472       4.59       jctest              1\n",
       "20:           1   -0.6931472     100.00         m230              1\n",
       "21:           1   -0.6931472       3.04    clubmusic              1\n",
       "22:           1   -0.6931472       6.49      almondo              1\n",
       "    day_domains log_reg_arpt gibb_score      cluster        pattern\n",
       "    pattern_score pattern_domain_count    V2        V3         V4         V5\n",
       " 1:     0.1111111                    1 0.192 0.1782283 0.12787708 0.12787708\n",
       " 2:     0.1111111                    1 0.198 0.1877276 0.19177551 0.19177551\n",
       " 3:     0.1111111                    1 0.210 0.1992040 0.21341160 0.21341160\n",
       " 4:     0.1111111                    1 0.212 0.2086369 0.21341160 0.21341160\n",
       " 5:     0.1111111                    1 0.188 0.2383924 0.24060072 0.24060072\n",
       " 6:     0.1111111                    1 0.197 0.5100125 0.48983654 0.48983654\n",
       " 7:     1.0000000                    1 0.138 0.2416895 0.18419280 0.18419280\n",
       " 8:     0.1111111                    1 0.118 0.2047713 0.13453123 0.13453123\n",
       " 9:     0.1111111                    1 0.119 0.2194942 0.15543138 0.15543138\n",
       "10:     0.1111111                    1 0.196 0.5111910 0.47717256 0.47717256\n",
       "11:     1.0000000                    1 0.196 0.2209711 0.19280800 0.19280800\n",
       "12:     1.0000000                    1 0.222 0.1552589 0.10189740 0.10189740\n",
       "13:     1.0000000                    1 0.222 0.1929771 0.14208955 0.14208955\n",
       "14:     1.0000000                    1 0.209 0.2501982 0.24971102 0.24971102\n",
       "15:     1.0000000                    1 0.232 0.1421217 0.12808544 0.12808544\n",
       "16:     0.3333333                    3 0.173 0.2709206 0.04513118 0.04513118\n",
       "17:     0.3333333                    3 0.176 0.2613976 0.03465718 0.03465718\n",
       "18:     0.3333333                    3 0.176 0.2613976 0.03465718 0.03465718\n",
       "19:     1.0000000                    1 0.215 0.1735025 0.19105098 0.19105098\n",
       "20:     1.0000000                    1 0.047 0.3213206 0.26015674 0.26015674\n",
       "21:     1.0000000                    1 0.206 0.4754838 0.44650115 0.44650115\n",
       "22:     1.0000000                    1 0.207 0.2695949 0.25986827 0.25986827\n",
       "    pattern_score pattern_domain_count    V2        V3         V4         V5\n"
      ]
     },
     "metadata": {},
     "output_type": "display_data"
    }
   ],
   "source": [
    "x"
   ]
  },
  {
   "cell_type": "code",
   "execution_count": 341,
   "metadata": {},
   "outputs": [],
   "source": [
    "na.omit.list <- function(y) { return(y[!sapply(y, function(x) all(is.na(x)))]) }\n",
    "                                               \n",
    "x <- na.omit.list(x)\n",
    "df <- rbindlist(x,use.names=TRUE)"
   ]
  },
  {
   "cell_type": "code",
   "execution_count": 342,
   "metadata": {},
   "outputs": [
    {
     "data": {
      "text/html": [
       "<style>\n",
       ".list-inline {list-style: none; margin:0; padding: 0}\n",
       ".list-inline>li {display: inline-block}\n",
       ".list-inline>li:not(:last-child)::after {content: \"\\00b7\"; padding: 0 .5ex}\n",
       "</style>\n",
       "<ol class=list-inline><li>28</li><li>43</li></ol>\n"
      ],
      "text/latex": [
       "\\begin{enumerate*}\n",
       "\\item 28\n",
       "\\item 43\n",
       "\\end{enumerate*}\n"
      ],
      "text/markdown": [
       "1. 28\n",
       "2. 43\n",
       "\n",
       "\n"
      ],
      "text/plain": [
       "[1] 28 43"
      ]
     },
     "metadata": {},
     "output_type": "display_data"
    },
    {
     "data": {
      "text/html": [
       "<table>\n",
       "<caption>A data.table: 6 × 43</caption>\n",
       "<thead>\n",
       "\t<tr><th scope=col>renewal_type</th><th scope=col>renewed_count</th><th scope=col>expiry_date</th><th scope=col>domain_id</th><th scope=col>domain</th><th scope=col>creation_date</th><th scope=col>status</th><th scope=col>tld</th><th scope=col>registrar</th><th scope=col>reseller</th><th scope=col>reseller_country</th><th scope=col>region</th><th scope=col>reg_period</th><th scope=col>registrant_country</th><th scope=col>renewal_status</th><th scope=col>renew_mbg</th><th scope=col>renew_type</th><th scope=col>autorenew_type</th><th scope=col>renew_date</th><th scope=col>renew_registrar</th><th scope=col>renew_reseller</th><th scope=col>reg_revenue</th><th scope=col>reg_arpt</th><th scope=col>renew_period</th><th scope=col>renew_domain_revenue</th><th scope=col>renew_arpt</th><th scope=col>reg_arpt_org</th><th scope=col>tld_registrar_index</th><th scope=col>sld</th><th scope=col>sld_type</th><th scope=col>sld_length</th><th scope=col>sld_type2</th><th scope=col>day_domains</th><th scope=col>log_reg_arpt</th><th scope=col>gibb_score</th><th scope=col>pattern</th><th scope=col>cluster</th><th scope=col>pattern_score</th><th scope=col>pattern_domain_count</th><th scope=col>V2</th><th scope=col>V3</th><th scope=col>V4</th><th scope=col>V5</th></tr>\n",
       "\t<tr><th scope=col>&lt;chr&gt;</th><th scope=col>&lt;int&gt;</th><th scope=col>&lt;date&gt;</th><th scope=col>&lt;int&gt;</th><th scope=col>&lt;chr&gt;</th><th scope=col>&lt;date&gt;</th><th scope=col>&lt;chr&gt;</th><th scope=col>&lt;fct&gt;</th><th scope=col>&lt;chr&gt;</th><th scope=col>&lt;chr&gt;</th><th scope=col>&lt;chr&gt;</th><th scope=col>&lt;chr&gt;</th><th scope=col>&lt;int&gt;</th><th scope=col>&lt;chr&gt;</th><th scope=col>&lt;fct&gt;</th><th scope=col>&lt;int&gt;</th><th scope=col>&lt;chr&gt;</th><th scope=col>&lt;chr&gt;</th><th scope=col>&lt;date&gt;</th><th scope=col>&lt;chr&gt;</th><th scope=col>&lt;chr&gt;</th><th scope=col>&lt;dbl&gt;</th><th scope=col>&lt;dbl&gt;</th><th scope=col>&lt;int&gt;</th><th scope=col>&lt;dbl&gt;</th><th scope=col>&lt;dbl&gt;</th><th scope=col>&lt;dbl&gt;</th><th scope=col>&lt;chr&gt;</th><th scope=col>&lt;chr&gt;</th><th scope=col>&lt;fct&gt;</th><th scope=col>&lt;int&gt;</th><th scope=col>&lt;chr&gt;</th><th scope=col>&lt;int&gt;</th><th scope=col>&lt;dbl&gt;</th><th scope=col>&lt;dbl&gt;</th><th scope=col>&lt;chr&gt;</th><th scope=col>&lt;chr&gt;</th><th scope=col>&lt;dbl&gt;</th><th scope=col>&lt;int&gt;</th><th scope=col>&lt;dbl&gt;</th><th scope=col>&lt;dbl&gt;</th><th scope=col>&lt;dbl&gt;</th><th scope=col>&lt;dbl&gt;</th></tr>\n",
       "</thead>\n",
       "<tbody>\n",
       "\t<tr><td>FirstTime</td><td>1</td><td>2020-01-22</td><td> 91639803</td><td><span style=white-space:pre-wrap>segeln.fun   </span></td><td>2019-01-22</td><td>Active</td><td>fun</td><td><span style=white-space:pre-wrap>1&amp;1 internet    </span></td><td><span style=white-space:pre-wrap>1&amp;1 internet    </span></td><td>Germany</td><td>Non China</td><td>1</td><td>NA</td><td><span style=white-space:pre-wrap>Renewed   </span></td><td>0</td><td>auto-renewal</td><td><span style=white-space:pre-wrap>realized  </span></td><td>2020-01-22</td><td><span style=white-space:pre-wrap>1&amp;1 Internet    </span></td><td><span style=white-space:pre-wrap>1&amp;1 Internet    </span></td><td>15</td><td>15</td><td>1</td><td>15</td><td>15</td><td>15</td><td><span style=white-space:pre-wrap>fun1&amp;1 internet    </span></td><td><span style=white-space:pre-wrap>segeln   </span></td><td>l</td><td>6</td><td>6l</td><td>1</td><td>2.708050</td><td>2.23</td><td><span style=white-space:pre-wrap>segeln   </span></td><td>1</td><td>1</td><td>1</td><td>0.802</td><td>0.6801492</td><td>0.7125206</td><td>0.7125206</td></tr>\n",
       "\t<tr><td>FirstTime</td><td>1</td><td>2020-03-07</td><td> 95819759</td><td>harzhotel.fun</td><td>2019-03-07</td><td>Active</td><td>fun</td><td><span style=white-space:pre-wrap>1&amp;1 internet    </span></td><td><span style=white-space:pre-wrap>1&amp;1 internet    </span></td><td>Germany</td><td>Non China</td><td>1</td><td>NA</td><td><span style=white-space:pre-wrap>Renewed   </span></td><td>0</td><td>auto-renewal</td><td><span style=white-space:pre-wrap>realized  </span></td><td>2020-03-07</td><td><span style=white-space:pre-wrap>1&amp;1 Internet    </span></td><td><span style=white-space:pre-wrap>1&amp;1 Internet    </span></td><td>15</td><td>15</td><td>1</td><td>15</td><td>15</td><td>15</td><td><span style=white-space:pre-wrap>fun1&amp;1 internet    </span></td><td>harzhotel</td><td>l</td><td>9</td><td>9l</td><td>1</td><td>2.708050</td><td>3.45</td><td>harzhotel</td><td>1</td><td>1</td><td>1</td><td>0.785</td><td>0.6428311</td><td>0.7248957</td><td>0.7248957</td></tr>\n",
       "\t<tr><td>FirstTime</td><td>1</td><td>2020-01-15</td><td> 91044973</td><td>movistar.fun </td><td>2019-01-15</td><td>Active</td><td>fun</td><td>10dencehispahard</td><td>10dencehispahard</td><td>Spain  </td><td>Non China</td><td>1</td><td>NA</td><td>Not Renewd</td><td>0</td><td>auto-renewal</td><td>unrealized</td><td>2020-01-15</td><td>10dencehispahard</td><td>10dencehispahard</td><td>15</td><td>15</td><td>1</td><td>15</td><td>15</td><td>15</td><td>fun10dencehispahard</td><td>movistar </td><td>l</td><td>8</td><td>8l</td><td>1</td><td>2.708050</td><td>8.62</td><td>movistar </td><td>1</td><td>1</td><td>1</td><td>0.000</td><td>0.3462084</td><td>0.0000000</td><td>0.0000000</td></tr>\n",
       "\t<tr><td>FirstTime</td><td>1</td><td>2020-02-01</td><td> 92472913</td><td>kuinik.fun   </td><td>2019-02-01</td><td>Active</td><td>fun</td><td>10dencehispahard</td><td>10dencehispahard</td><td>Spain  </td><td>Non China</td><td>1</td><td>NA</td><td>Not Renewd</td><td>0</td><td>auto-renewal</td><td>unrealized</td><td>2020-02-01</td><td>10dencehispahard</td><td>10dencehispahard</td><td>15</td><td>15</td><td>1</td><td>15</td><td>15</td><td>15</td><td>fun10dencehispahard</td><td>kuinik   </td><td>l</td><td>6</td><td>6l</td><td>1</td><td>2.708050</td><td>3.13</td><td>kuinik   </td><td>1</td><td>1</td><td>1</td><td>0.000</td><td>0.3169892</td><td>0.0000000</td><td>0.0000000</td></tr>\n",
       "\t<tr><td>FirstTime</td><td>1</td><td>2020-01-21</td><td> 91532433</td><td>bulgari.fun  </td><td>2019-01-21</td><td>Active</td><td>fun</td><td>1api            </td><td>1api            </td><td>Germany</td><td>Non China</td><td>1</td><td>NA</td><td>Renewed   </td><td>0</td><td>auto-renewal</td><td>realized  </td><td>2020-01-21</td><td>1API            </td><td>1API            </td><td> 5</td><td> 5</td><td>1</td><td>15</td><td>15</td><td> 5</td><td>fun1api            </td><td>bulgari  </td><td>l</td><td>7</td><td>7l</td><td>1</td><td>1.609438</td><td>4.51</td><td>bulgari  </td><td>1</td><td>1</td><td>1</td><td>0.842</td><td>0.8486598</td><td>0.8320000</td><td>0.8320000</td></tr>\n",
       "\t<tr><td>FirstTime</td><td>1</td><td>2020-04-24</td><td>101717674</td><td>gotsome.fun  </td><td>2019-04-24</td><td>Active</td><td>fun</td><td>1api            </td><td>1api            </td><td>Germany</td><td>Non China</td><td>1</td><td>NA</td><td>Not Renewd</td><td>0</td><td>auto-renewal</td><td>unrealized</td><td>2020-04-24</td><td>1API            </td><td>1API            </td><td> 5</td><td> 5</td><td>1</td><td>15</td><td>15</td><td> 5</td><td>fun1api            </td><td>gotsome  </td><td>l</td><td>7</td><td>7l</td><td>1</td><td>1.609438</td><td>6.09</td><td>gotsome  </td><td>1</td><td>1</td><td>1</td><td>0.843</td><td>0.8421671</td><td>0.8320000</td><td>0.8320000</td></tr>\n",
       "</tbody>\n",
       "</table>\n"
      ],
      "text/latex": [
       "A data.table: 6 × 43\n",
       "\\begin{tabular}{lllllllllllllllllllllllllllllllllllllllllll}\n",
       " renewal\\_type & renewed\\_count & expiry\\_date & domain\\_id & domain & creation\\_date & status & tld & registrar & reseller & reseller\\_country & region & reg\\_period & registrant\\_country & renewal\\_status & renew\\_mbg & renew\\_type & autorenew\\_type & renew\\_date & renew\\_registrar & renew\\_reseller & reg\\_revenue & reg\\_arpt & renew\\_period & renew\\_domain\\_revenue & renew\\_arpt & reg\\_arpt\\_org & tld\\_registrar\\_index & sld & sld\\_type & sld\\_length & sld\\_type2 & day\\_domains & log\\_reg\\_arpt & gibb\\_score & pattern & cluster & pattern\\_score & pattern\\_domain\\_count & V2 & V3 & V4 & V5\\\\\n",
       " <chr> & <int> & <date> & <int> & <chr> & <date> & <chr> & <fct> & <chr> & <chr> & <chr> & <chr> & <int> & <chr> & <fct> & <int> & <chr> & <chr> & <date> & <chr> & <chr> & <dbl> & <dbl> & <int> & <dbl> & <dbl> & <dbl> & <chr> & <chr> & <fct> & <int> & <chr> & <int> & <dbl> & <dbl> & <chr> & <chr> & <dbl> & <int> & <dbl> & <dbl> & <dbl> & <dbl>\\\\\n",
       "\\hline\n",
       "\t FirstTime & 1 & 2020-01-22 &  91639803 & segeln.fun    & 2019-01-22 & Active & fun & 1\\&1 internet     & 1\\&1 internet     & Germany & Non China & 1 & NA & Renewed    & 0 & auto-renewal & realized   & 2020-01-22 & 1\\&1 Internet     & 1\\&1 Internet     & 15 & 15 & 1 & 15 & 15 & 15 & fun1\\&1 internet     & segeln    & l & 6 & 6l & 1 & 2.708050 & 2.23 & segeln    & 1 & 1 & 1 & 0.802 & 0.6801492 & 0.7125206 & 0.7125206\\\\\n",
       "\t FirstTime & 1 & 2020-03-07 &  95819759 & harzhotel.fun & 2019-03-07 & Active & fun & 1\\&1 internet     & 1\\&1 internet     & Germany & Non China & 1 & NA & Renewed    & 0 & auto-renewal & realized   & 2020-03-07 & 1\\&1 Internet     & 1\\&1 Internet     & 15 & 15 & 1 & 15 & 15 & 15 & fun1\\&1 internet     & harzhotel & l & 9 & 9l & 1 & 2.708050 & 3.45 & harzhotel & 1 & 1 & 1 & 0.785 & 0.6428311 & 0.7248957 & 0.7248957\\\\\n",
       "\t FirstTime & 1 & 2020-01-15 &  91044973 & movistar.fun  & 2019-01-15 & Active & fun & 10dencehispahard & 10dencehispahard & Spain   & Non China & 1 & NA & Not Renewd & 0 & auto-renewal & unrealized & 2020-01-15 & 10dencehispahard & 10dencehispahard & 15 & 15 & 1 & 15 & 15 & 15 & fun10dencehispahard & movistar  & l & 8 & 8l & 1 & 2.708050 & 8.62 & movistar  & 1 & 1 & 1 & 0.000 & 0.3462084 & 0.0000000 & 0.0000000\\\\\n",
       "\t FirstTime & 1 & 2020-02-01 &  92472913 & kuinik.fun    & 2019-02-01 & Active & fun & 10dencehispahard & 10dencehispahard & Spain   & Non China & 1 & NA & Not Renewd & 0 & auto-renewal & unrealized & 2020-02-01 & 10dencehispahard & 10dencehispahard & 15 & 15 & 1 & 15 & 15 & 15 & fun10dencehispahard & kuinik    & l & 6 & 6l & 1 & 2.708050 & 3.13 & kuinik    & 1 & 1 & 1 & 0.000 & 0.3169892 & 0.0000000 & 0.0000000\\\\\n",
       "\t FirstTime & 1 & 2020-01-21 &  91532433 & bulgari.fun   & 2019-01-21 & Active & fun & 1api             & 1api             & Germany & Non China & 1 & NA & Renewed    & 0 & auto-renewal & realized   & 2020-01-21 & 1API             & 1API             &  5 &  5 & 1 & 15 & 15 &  5 & fun1api             & bulgari   & l & 7 & 7l & 1 & 1.609438 & 4.51 & bulgari   & 1 & 1 & 1 & 0.842 & 0.8486598 & 0.8320000 & 0.8320000\\\\\n",
       "\t FirstTime & 1 & 2020-04-24 & 101717674 & gotsome.fun   & 2019-04-24 & Active & fun & 1api             & 1api             & Germany & Non China & 1 & NA & Not Renewd & 0 & auto-renewal & unrealized & 2020-04-24 & 1API             & 1API             &  5 &  5 & 1 & 15 & 15 &  5 & fun1api             & gotsome   & l & 7 & 7l & 1 & 1.609438 & 6.09 & gotsome   & 1 & 1 & 1 & 0.843 & 0.8421671 & 0.8320000 & 0.8320000\\\\\n",
       "\\end{tabular}\n"
      ],
      "text/markdown": [
       "\n",
       "A data.table: 6 × 43\n",
       "\n",
       "| renewal_type &lt;chr&gt; | renewed_count &lt;int&gt; | expiry_date &lt;date&gt; | domain_id &lt;int&gt; | domain &lt;chr&gt; | creation_date &lt;date&gt; | status &lt;chr&gt; | tld &lt;fct&gt; | registrar &lt;chr&gt; | reseller &lt;chr&gt; | reseller_country &lt;chr&gt; | region &lt;chr&gt; | reg_period &lt;int&gt; | registrant_country &lt;chr&gt; | renewal_status &lt;fct&gt; | renew_mbg &lt;int&gt; | renew_type &lt;chr&gt; | autorenew_type &lt;chr&gt; | renew_date &lt;date&gt; | renew_registrar &lt;chr&gt; | renew_reseller &lt;chr&gt; | reg_revenue &lt;dbl&gt; | reg_arpt &lt;dbl&gt; | renew_period &lt;int&gt; | renew_domain_revenue &lt;dbl&gt; | renew_arpt &lt;dbl&gt; | reg_arpt_org &lt;dbl&gt; | tld_registrar_index &lt;chr&gt; | sld &lt;chr&gt; | sld_type &lt;fct&gt; | sld_length &lt;int&gt; | sld_type2 &lt;chr&gt; | day_domains &lt;int&gt; | log_reg_arpt &lt;dbl&gt; | gibb_score &lt;dbl&gt; | pattern &lt;chr&gt; | cluster &lt;chr&gt; | pattern_score &lt;dbl&gt; | pattern_domain_count &lt;int&gt; | V2 &lt;dbl&gt; | V3 &lt;dbl&gt; | V4 &lt;dbl&gt; | V5 &lt;dbl&gt; |\n",
       "|---|---|---|---|---|---|---|---|---|---|---|---|---|---|---|---|---|---|---|---|---|---|---|---|---|---|---|---|---|---|---|---|---|---|---|---|---|---|---|---|---|---|---|\n",
       "| FirstTime | 1 | 2020-01-22 |  91639803 | segeln.fun    | 2019-01-22 | Active | fun | 1&amp;1 internet     | 1&amp;1 internet     | Germany | Non China | 1 | NA | Renewed    | 0 | auto-renewal | realized   | 2020-01-22 | 1&amp;1 Internet     | 1&amp;1 Internet     | 15 | 15 | 1 | 15 | 15 | 15 | fun1&amp;1 internet     | segeln    | l | 6 | 6l | 1 | 2.708050 | 2.23 | segeln    | 1 | 1 | 1 | 0.802 | 0.6801492 | 0.7125206 | 0.7125206 |\n",
       "| FirstTime | 1 | 2020-03-07 |  95819759 | harzhotel.fun | 2019-03-07 | Active | fun | 1&amp;1 internet     | 1&amp;1 internet     | Germany | Non China | 1 | NA | Renewed    | 0 | auto-renewal | realized   | 2020-03-07 | 1&amp;1 Internet     | 1&amp;1 Internet     | 15 | 15 | 1 | 15 | 15 | 15 | fun1&amp;1 internet     | harzhotel | l | 9 | 9l | 1 | 2.708050 | 3.45 | harzhotel | 1 | 1 | 1 | 0.785 | 0.6428311 | 0.7248957 | 0.7248957 |\n",
       "| FirstTime | 1 | 2020-01-15 |  91044973 | movistar.fun  | 2019-01-15 | Active | fun | 10dencehispahard | 10dencehispahard | Spain   | Non China | 1 | NA | Not Renewd | 0 | auto-renewal | unrealized | 2020-01-15 | 10dencehispahard | 10dencehispahard | 15 | 15 | 1 | 15 | 15 | 15 | fun10dencehispahard | movistar  | l | 8 | 8l | 1 | 2.708050 | 8.62 | movistar  | 1 | 1 | 1 | 0.000 | 0.3462084 | 0.0000000 | 0.0000000 |\n",
       "| FirstTime | 1 | 2020-02-01 |  92472913 | kuinik.fun    | 2019-02-01 | Active | fun | 10dencehispahard | 10dencehispahard | Spain   | Non China | 1 | NA | Not Renewd | 0 | auto-renewal | unrealized | 2020-02-01 | 10dencehispahard | 10dencehispahard | 15 | 15 | 1 | 15 | 15 | 15 | fun10dencehispahard | kuinik    | l | 6 | 6l | 1 | 2.708050 | 3.13 | kuinik    | 1 | 1 | 1 | 0.000 | 0.3169892 | 0.0000000 | 0.0000000 |\n",
       "| FirstTime | 1 | 2020-01-21 |  91532433 | bulgari.fun   | 2019-01-21 | Active | fun | 1api             | 1api             | Germany | Non China | 1 | NA | Renewed    | 0 | auto-renewal | realized   | 2020-01-21 | 1API             | 1API             |  5 |  5 | 1 | 15 | 15 |  5 | fun1api             | bulgari   | l | 7 | 7l | 1 | 1.609438 | 4.51 | bulgari   | 1 | 1 | 1 | 0.842 | 0.8486598 | 0.8320000 | 0.8320000 |\n",
       "| FirstTime | 1 | 2020-04-24 | 101717674 | gotsome.fun   | 2019-04-24 | Active | fun | 1api             | 1api             | Germany | Non China | 1 | NA | Not Renewd | 0 | auto-renewal | unrealized | 2020-04-24 | 1API             | 1API             |  5 |  5 | 1 | 15 | 15 |  5 | fun1api             | gotsome   | l | 7 | 7l | 1 | 1.609438 | 6.09 | gotsome   | 1 | 1 | 1 | 0.843 | 0.8421671 | 0.8320000 | 0.8320000 |\n",
       "\n"
      ],
      "text/plain": [
       "  renewal_type renewed_count expiry_date domain_id domain        creation_date\n",
       "1 FirstTime    1             2020-01-22   91639803 segeln.fun    2019-01-22   \n",
       "2 FirstTime    1             2020-03-07   95819759 harzhotel.fun 2019-03-07   \n",
       "3 FirstTime    1             2020-01-15   91044973 movistar.fun  2019-01-15   \n",
       "4 FirstTime    1             2020-02-01   92472913 kuinik.fun    2019-02-01   \n",
       "5 FirstTime    1             2020-01-21   91532433 bulgari.fun   2019-01-21   \n",
       "6 FirstTime    1             2020-04-24  101717674 gotsome.fun   2019-04-24   \n",
       "  status tld registrar        reseller         reseller_country region   \n",
       "1 Active fun 1&1 internet     1&1 internet     Germany          Non China\n",
       "2 Active fun 1&1 internet     1&1 internet     Germany          Non China\n",
       "3 Active fun 10dencehispahard 10dencehispahard Spain            Non China\n",
       "4 Active fun 10dencehispahard 10dencehispahard Spain            Non China\n",
       "5 Active fun 1api             1api             Germany          Non China\n",
       "6 Active fun 1api             1api             Germany          Non China\n",
       "  reg_period registrant_country renewal_status renew_mbg renew_type  \n",
       "1 1          NA                 Renewed        0         auto-renewal\n",
       "2 1          NA                 Renewed        0         auto-renewal\n",
       "3 1          NA                 Not Renewd     0         auto-renewal\n",
       "4 1          NA                 Not Renewd     0         auto-renewal\n",
       "5 1          NA                 Renewed        0         auto-renewal\n",
       "6 1          NA                 Not Renewd     0         auto-renewal\n",
       "  autorenew_type renew_date renew_registrar  renew_reseller   reg_revenue\n",
       "1 realized       2020-01-22 1&1 Internet     1&1 Internet     15         \n",
       "2 realized       2020-03-07 1&1 Internet     1&1 Internet     15         \n",
       "3 unrealized     2020-01-15 10dencehispahard 10dencehispahard 15         \n",
       "4 unrealized     2020-02-01 10dencehispahard 10dencehispahard 15         \n",
       "5 realized       2020-01-21 1API             1API              5         \n",
       "6 unrealized     2020-04-24 1API             1API              5         \n",
       "  reg_arpt renew_period renew_domain_revenue renew_arpt reg_arpt_org\n",
       "1 15       1            15                   15         15          \n",
       "2 15       1            15                   15         15          \n",
       "3 15       1            15                   15         15          \n",
       "4 15       1            15                   15         15          \n",
       "5  5       1            15                   15          5          \n",
       "6  5       1            15                   15          5          \n",
       "  tld_registrar_index sld       sld_type sld_length sld_type2 day_domains\n",
       "1 fun1&1 internet     segeln    l        6          6l        1          \n",
       "2 fun1&1 internet     harzhotel l        9          9l        1          \n",
       "3 fun10dencehispahard movistar  l        8          8l        1          \n",
       "4 fun10dencehispahard kuinik    l        6          6l        1          \n",
       "5 fun1api             bulgari   l        7          7l        1          \n",
       "6 fun1api             gotsome   l        7          7l        1          \n",
       "  log_reg_arpt gibb_score pattern   cluster pattern_score pattern_domain_count\n",
       "1 2.708050     2.23       segeln    1       1             1                   \n",
       "2 2.708050     3.45       harzhotel 1       1             1                   \n",
       "3 2.708050     8.62       movistar  1       1             1                   \n",
       "4 2.708050     3.13       kuinik    1       1             1                   \n",
       "5 1.609438     4.51       bulgari   1       1             1                   \n",
       "6 1.609438     6.09       gotsome   1       1             1                   \n",
       "  V2    V3        V4        V5       \n",
       "1 0.802 0.6801492 0.7125206 0.7125206\n",
       "2 0.785 0.6428311 0.7248957 0.7248957\n",
       "3 0.000 0.3462084 0.0000000 0.0000000\n",
       "4 0.000 0.3169892 0.0000000 0.0000000\n",
       "5 0.842 0.8486598 0.8320000 0.8320000\n",
       "6 0.843 0.8421671 0.8320000 0.8320000"
      ]
     },
     "metadata": {},
     "output_type": "display_data"
    }
   ],
   "source": [
    "dim(df)\n",
    "head(df)"
   ]
  },
  {
   "cell_type": "code",
   "execution_count": null,
   "metadata": {},
   "outputs": [],
   "source": []
  }
 ],
 "metadata": {
  "environment": {
   "name": "r-cpu.3-6.m48",
   "type": "gcloud",
   "uri": "gcr.io/deeplearning-platform-release/r-cpu.3-6:m48"
  },
  "kernelspec": {
   "display_name": "R",
   "language": "R",
   "name": "ir"
  },
  "language_info": {
   "codemirror_mode": "r",
   "file_extension": ".r",
   "mimetype": "text/x-r-source",
   "name": "R",
   "pygments_lexer": "r",
   "version": "3.6.3"
  }
 },
 "nbformat": 4,
 "nbformat_minor": 4
}
