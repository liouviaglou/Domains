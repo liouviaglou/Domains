{
 "cells": [
  {
   "cell_type": "markdown",
   "metadata": {},
   "source": [
    "# Testing Metalearning Predictions script"
   ]
  },
  {
   "cell_type": "code",
   "execution_count": 1,
   "metadata": {},
   "outputs": [],
   "source": [
    "options(repr.matrix.max.cols=50, repr.matrix.max.rows=100)"
   ]
  },
  {
   "cell_type": "code",
   "execution_count": 2,
   "metadata": {},
   "outputs": [],
   "source": [
    "# install.packages(\"pkgcond\")"
   ]
  },
  {
   "cell_type": "code",
   "execution_count": 2,
   "metadata": {},
   "outputs": [
    {
     "name": "stderr",
     "output_type": "stream",
     "text": [
      "\n",
      "Attaching package: ‘dplyr’\n",
      "\n",
      "\n",
      "The following objects are masked from ‘package:stats’:\n",
      "\n",
      "    filter, lag\n",
      "\n",
      "\n",
      "The following objects are masked from ‘package:base’:\n",
      "\n",
      "    intersect, setdiff, setequal, union\n",
      "\n",
      "\n",
      "\n",
      "Attaching package: ‘data.table’\n",
      "\n",
      "\n",
      "The following objects are masked from ‘package:dplyr’:\n",
      "\n",
      "    between, first, last\n",
      "\n",
      "\n",
      "Loading required package: grid\n",
      "\n",
      "Loading required package: libcoin\n",
      "\n",
      "Loading required package: mvtnorm\n",
      "\n",
      "Loading required package: lattice\n",
      "\n",
      "Loading required package: ggplot2\n",
      "\n",
      "randomForest 4.6-14\n",
      "\n",
      "Type rfNews() to see new features/changes/bug fixes.\n",
      "\n",
      "\n",
      "Attaching package: ‘randomForest’\n",
      "\n",
      "\n",
      "The following object is masked from ‘package:ggplot2’:\n",
      "\n",
      "    margin\n",
      "\n",
      "\n",
      "The following object is masked from ‘package:dplyr’:\n",
      "\n",
      "    combine\n",
      "\n",
      "\n",
      "\n",
      "Attaching package: ‘ranger’\n",
      "\n",
      "\n",
      "The following object is masked from ‘package:randomForest’:\n",
      "\n",
      "    importance\n",
      "\n",
      "\n",
      "\n",
      "Attaching package: ‘plotly’\n",
      "\n",
      "\n",
      "The following object is masked from ‘package:ggplot2’:\n",
      "\n",
      "    last_plot\n",
      "\n",
      "\n",
      "The following object is masked from ‘package:stats’:\n",
      "\n",
      "    filter\n",
      "\n",
      "\n",
      "The following object is masked from ‘package:graphics’:\n",
      "\n",
      "    layout\n",
      "\n",
      "\n",
      "\n",
      "Attaching package: ‘zoo’\n",
      "\n",
      "\n",
      "The following objects are masked from ‘package:base’:\n",
      "\n",
      "    as.Date, as.Date.numeric\n",
      "\n",
      "\n"
     ]
    },
    {
     "data": {
      "text/html": [
       "'/home/jupyter/Domains_202003/scripts/phaseII_06_fallbacksupp'"
      ],
      "text/latex": [
       "'/home/jupyter/Domains\\_202003/scripts/phaseII\\_06\\_fallbacksupp'"
      ],
      "text/markdown": [
       "'/home/jupyter/Domains_202003/scripts/phaseII_06_fallbacksupp'"
      ],
      "text/plain": [
       "[1] \"/home/jupyter/Domains_202003/scripts/phaseII_06_fallbacksupp\""
      ]
     },
     "metadata": {},
     "output_type": "display_data"
    }
   ],
   "source": [
    "library(dplyr)\n",
    "library(data.table)\n",
    "library(partykit)\n",
    "library(tictoc)\n",
    "library(caret)\n",
    "library(e1071)\n",
    "library(randomForest)\n",
    "library(ranger)\n",
    "\n",
    "#for 3d plotting\n",
    "library(akima)\n",
    "library(plotly)\n",
    "\n",
    "# for prep data\n",
    "# library(rPython)\n",
    "library(stringr)\n",
    "library(pbapply)\n",
    "library(stringdist)\n",
    "library(data.table)\n",
    "library(dominanceanalysis)\n",
    "library(zoo)\n",
    "\n",
    "\n",
    "getwd()"
   ]
  },
  {
   "cell_type": "code",
   "execution_count": 6,
   "metadata": {},
   "outputs": [
    {
     "name": "stderr",
     "output_type": "stream",
     "text": [
      "\n",
      "Attaching package: ‘tidyr’\n",
      "\n",
      "\n",
      "The following object is masked from ‘package:stringdist’:\n",
      "\n",
      "    extract\n",
      "\n",
      "\n"
     ]
    }
   ],
   "source": [
    "\n",
    "source('../orig/functions.R')\n",
    "\n",
    "source('../orig/functions_models.R')\n",
    "\n",
    "source('../phaseII_03_forest/functions_eval.R')\n",
    "\n",
    "\n",
    "# source('../phaseII_03_forest/load_prep_data_expiry.R')\n",
    "\n",
    "\n",
    "\n",
    "# expiry_train_prepped_2_1 (list, less df's w/ 0 obs)\n",
    "# expiry_test_prepped_2_1  (list, less df's w/ 0 obs)\n",
    "# expiry_train_df_1 (above, rbound)\n",
    "# expiry_test_df_1 (above, rbound)\n",
    "# expiry_train_df_sub (subset vars)                                        \n",
    "# expiry_test_df_sub (subset vars)"
   ]
  },
  {
   "cell_type": "code",
   "execution_count": 41,
   "metadata": {},
   "outputs": [],
   "source": [
    "source('functions_metalearning.R')"
   ]
  },
  {
   "cell_type": "code",
   "execution_count": 8,
   "metadata": {},
   "outputs": [
    {
     "name": "stdout",
     "output_type": "stream",
     "text": [
      "Loading data...Loaded 5427633 rows\n",
      "Removing 0 rows due to expiry_date constraints\n",
      "Removing 758186 rows due to renewed_count constraints\n",
      "Removing 7716 rows due to missing gibb_score\n",
      "... now dataset min(creation_date) is  2017-01-01 .\n"
     ]
    }
   ],
   "source": [
    "source('load_prep_data_expiry_2.R')"
   ]
  },
  {
   "cell_type": "markdown",
   "metadata": {},
   "source": [
    "# Fix preds processing into df"
   ]
  },
  {
   "cell_type": "code",
   "execution_count": 10,
   "metadata": {},
   "outputs": [],
   "source": [
    "fullDir='/home/jupyter/Domains_202003/data/output/models_20201104'\n",
    "load(file.path(fullDir, 'preds/preds_seg2_rf_ALL.RData'))\n",
    "load(file.path(fullDir, 'preds/preds_seg2_glm_ALL.RData'))\n",
    "load(file.path(fullDir, 'preds/preds_seg_rf_ALL.RData'))\n",
    "load(file.path(fullDir, 'preds/preds_seg_glm_ALL.RData'))\n",
    "load(file.path(fullDir, 'preds/preds_agg_rf.RData'))\n",
    "load(file.path(fullDir, 'preds/preds_agg_rf_ALL.RData'))\n",
    "load(file.path(fullDir, 'preds/preds_agg_glm.RData'))\n",
    "load(file.path(fullDir, 'preds/preds_agg_glm_ALL.Rdata'))\n",
    "    "
   ]
  },
  {
   "cell_type": "code",
   "execution_count": 11,
   "metadata": {},
   "outputs": [],
   "source": [
    "tld_reseller_list1 = expiry_train_df %>%  distinct(tld_registrar_index) %>% pull(tld_registrar_index)\n",
    "tld_reseller_list2 = expiry_test_df %>%  distinct(tld_registrar_index) %>% pull(tld_registrar_index)\n",
    "tld_reseller_list = setdiff(tld_reseller_list2,tld_reseller_list1)\n",
    "tld_reseller_list_ALL = tld_reseller_list\n",
    "\n",
    "test_list = expiry_test_list"
   ]
  },
  {
   "cell_type": "code",
   "execution_count": 30,
   "metadata": {},
   "outputs": [],
   "source": [
    "preds_list = list()\n",
    "i=1\n",
    "for (tld_reseller_str in tld_reseller_list_ALL) {\n",
    "    \n",
    "        preds_list[[tld_reseller_str]] = cbind(\n",
    "              test_list[[tld_reseller_str]],\n",
    "              'pred_agg_glm_ALL'=ifelse(is.na(preds_agg_glm_ALL[[i]]), NA , preds_agg_glm_ALL[[i]]$predicted) ,\n",
    "              'pred_agg_rf_ALL'= ifelse(is.na(preds_agg_rf_ALL[[i]]), NA , preds_agg_rf_ALL[[i]]$predicted),\n",
    "              'pred_agg_glm'=ifelse(is.na(preds_agg_glm[[i]]), NA , preds_agg_glm[[i]]$predicted),\n",
    "              'pred_agg_rf'=ifelse(is.na(preds_agg_rf[[i]]), NA , preds_agg_rf[[i]]$predicted),\n",
    "              'pred_seg_glm_ALL'=ifelse(is.na(preds_seg_glm_ALL[[i]]), NA , preds_seg_glm_ALL[[i]]$predicted),\n",
    "              'pred_seg_rf_ALL' = ifelse(is.na(preds_seg_rf_ALL[[i]]), NA , preds_seg_rf_ALL[[i]]$predicted),\n",
    "              'pred_seg2_glm_ALL'=ifelse(is.na(preds_seg2_glm_ALL[[i]]), NA , preds_seg2_glm_ALL[[i]]$predicted),\n",
    "              'pred_seg2_rf_ALL'=ifelse(is.na(preds_seg2_rf_ALL[[i]]), NA , preds_seg2_rf_ALL[[i]]$predicted))\n",
    "    \n",
    "        preds_list[[tld_reseller_str]] <- preds_list[[tld_reseller_str]] %>% select(-contains(\".actual\"))\n",
    "        names(preds_list[[tld_reseller_str]]) <- c(names(test_list[[tld_reseller_str]]),\n",
    "                                                   c('pred_agg_glm_ALL', 'pred_agg_rf_ALL', \n",
    "                                                   'pred_agg_glm','pred_agg_rf',\n",
    "                                                   'pred_seg_glm_ALL', 'pred_seg_rf_ALL',\n",
    "                                                   'pred_seg2_glm_ALL','pred_seg2_rf_ALL'))\n",
    "    i=i+1\n",
    "}"
   ]
  },
  {
   "cell_type": "code",
   "execution_count": 32,
   "metadata": {},
   "outputs": [],
   "source": [
    "na.omit.list <- function(y) { return(y[!sapply(y, function(x) all(is.na(x)))]) }\n",
    "preds_list <- na.omit.list(preds_list)\n",
    "preds_df <- rbindlist(preds_list,use.names=TRUE)"
   ]
  },
  {
   "cell_type": "code",
   "execution_count": 33,
   "metadata": {},
   "outputs": [
    {
     "data": {
      "text/html": [
       "<table>\n",
       "<caption>A data.table: 58 × 39</caption>\n",
       "<thead>\n",
       "\t<tr><th scope=col>renewal_type</th><th scope=col>renewed_count</th><th scope=col>expiry_date</th><th scope=col>creation_date</th><th scope=col>status</th><th scope=col>domain_id</th><th scope=col>domain</th><th scope=col>registrar</th><th scope=col>reseller</th><th scope=col>reseller_country</th><th scope=col>registrant_country</th><th scope=col>reg_period</th><th scope=col>reg_revenue</th><th scope=col>reg_arpt</th><th scope=col>renew_mbg</th><th scope=col>renewal_item_id</th><th scope=col>renew_type</th><th scope=col>autorenew_type</th><th scope=col>renewal_status</th><th scope=col>renew_date</th><th scope=col>renew_arpt</th><th scope=col>gibb_score</th><th scope=col>pattern</th><th scope=col>pattern_domain_count</th><th scope=col>day_domains</th><th scope=col>sld_length</th><th scope=col>sld_type</th><th scope=col>sld_type2</th><th scope=col>tld</th><th scope=col>log_reg_arpt</th><th scope=col>tld_registrar_index</th><th scope=col>pred_agg_glm_ALL</th><th scope=col>pred_agg_rf_ALL</th><th scope=col>pred_agg_glm</th><th scope=col>pred_agg_rf</th><th scope=col>pred_seg_glm_ALL</th><th scope=col>pred_seg_rf_ALL</th><th scope=col>pred_seg2_glm_ALL</th><th scope=col>pred_seg2_rf_ALL</th></tr>\n",
       "\t<tr><th scope=col>&lt;chr&gt;</th><th scope=col>&lt;int&gt;</th><th scope=col>&lt;date&gt;</th><th scope=col>&lt;date&gt;</th><th scope=col>&lt;chr&gt;</th><th scope=col>&lt;int&gt;</th><th scope=col>&lt;chr&gt;</th><th scope=col>&lt;chr&gt;</th><th scope=col>&lt;chr&gt;</th><th scope=col>&lt;chr&gt;</th><th scope=col>&lt;chr&gt;</th><th scope=col>&lt;int&gt;</th><th scope=col>&lt;dbl&gt;</th><th scope=col>&lt;dbl&gt;</th><th scope=col>&lt;int&gt;</th><th scope=col>&lt;int&gt;</th><th scope=col>&lt;chr&gt;</th><th scope=col>&lt;chr&gt;</th><th scope=col>&lt;chr&gt;</th><th scope=col>&lt;date&gt;</th><th scope=col>&lt;dbl&gt;</th><th scope=col>&lt;dbl&gt;</th><th scope=col>&lt;chr&gt;</th><th scope=col>&lt;int&gt;</th><th scope=col>&lt;int&gt;</th><th scope=col>&lt;int&gt;</th><th scope=col>&lt;chr&gt;</th><th scope=col>&lt;chr&gt;</th><th scope=col>&lt;chr&gt;</th><th scope=col>&lt;dbl&gt;</th><th scope=col>&lt;chr&gt;</th><th scope=col>&lt;dbl&gt;</th><th scope=col>&lt;dbl&gt;</th><th scope=col>&lt;dbl&gt;</th><th scope=col>&lt;dbl&gt;</th><th scope=col>&lt;dbl&gt;</th><th scope=col>&lt;dbl&gt;</th><th scope=col>&lt;lgl&gt;</th><th scope=col>&lt;lgl&gt;</th></tr>\n",
       "</thead>\n",
       "<tbody>\n",
       "\t<tr><td>FirstTime</td><td>1</td><td>2019-06-14</td><td>2018-06-14</td><td>Active</td><td> 70181780</td><td>steibei.space              </td><td>Internet GmbH          </td><td>Internet GmbH          </td><td>Germany       </td><td>NA</td><td>1</td><td> 6.00</td><td> 6.0000</td><td>0</td><td>208493821</td><td>auto-renewal</td><td>realized  </td><td>Renewed   </td><td>2019-06-14</td><td>15.0</td><td> 4.02</td><td>steibei              </td><td>1</td><td> 1</td><td> 7</td><td>l       </td><td>7l        </td><td>space  </td><td> 1.79175947</td><td>spaceinternet gmbh          </td><td>0.920</td><td>0.9713886</td><td>   NA</td><td>0.7251219</td><td>0.975</td><td>0.98133698</td><td>NA</td><td>NA</td></tr>\n",
       "\t<tr><td>FirstTime</td><td>1</td><td>2020-05-17</td><td>2019-05-17</td><td>Active</td><td>103906916</td><td>wingtsun.space             </td><td>Internet GmbH          </td><td>Internet GmbH          </td><td>Germany       </td><td>NA</td><td>1</td><td>15.00</td><td>15.0000</td><td>0</td><td>315625244</td><td>auto-renewal</td><td>realized  </td><td>Renewed   </td><td>2020-05-17</td><td>15.0</td><td> 6.48</td><td>wingtsun             </td><td>1</td><td> 1</td><td> 8</td><td>l       </td><td>8l        </td><td>space  </td><td> 2.70805020</td><td>spaceinternet gmbh          </td><td>0.924</td><td>0.9685702</td><td>   NA</td><td>0.6956184</td><td>0.993</td><td>0.97838698</td><td>NA</td><td>NA</td></tr>\n",
       "\t<tr><td>FirstTime</td><td>1</td><td>2019-10-05</td><td>2018-10-05</td><td>Active</td><td> 78360794</td><td>sfmart.store               </td><td>PDR Ltd                </td><td>Arvixe                 </td><td>United States </td><td>NA</td><td>1</td><td> 6.50</td><td> 6.5000</td><td>0</td><td>235884471</td><td>renewal     </td><td>NA        </td><td>Renewed   </td><td>2019-10-01</td><td>26.5</td><td> 1.15</td><td>sfmart               </td><td>1</td><td> 1</td><td> 6</td><td>l       </td><td>6l        </td><td>store  </td><td> 1.87180218</td><td>storearvixe                 </td><td>0.000</td><td>0.2597214</td><td>   NA</td><td>0.7862930</td><td>   NA</td><td>        NA</td><td>NA</td><td>NA</td></tr>\n",
       "\t<tr><td>FirstTime</td><td>1</td><td>2020-08-30</td><td>2019-08-30</td><td>Active</td><td>122049036</td><td>qianxiyun.online           </td><td>                       </td><td>                       </td><td>              </td><td>NA</td><td>1</td><td>25.00</td><td>25.0000</td><td>0</td><td>341703158</td><td>auto-renewal</td><td>unrealized</td><td>Not Renewd</td><td>2020-08-30</td><td> 6.0</td><td> 0.63</td><td>qianxiyun            </td><td>1</td><td> 1</td><td> 9</td><td>l       </td><td>9l        </td><td>online </td><td> 3.21887582</td><td>online                      </td><td>   NA</td><td>0.9550391</td><td>   NA</td><td>0.7713468</td><td>   NA</td><td>        NA</td><td>NA</td><td>NA</td></tr>\n",
       "\t<tr><td>FirstTime</td><td>1</td><td>2019-08-15</td><td>2018-08-15</td><td>Active</td><td> 74267354</td><td>ontarioart.space           </td><td>Register.ca            </td><td>Register.ca            </td><td>Canada        </td><td>NA</td><td>1</td><td> 6.00</td><td> 6.0000</td><td>0</td><td>222880706</td><td>auto-renewal</td><td>unrealized</td><td>Not Renewd</td><td>2019-08-15</td><td>15.0</td><td> 6.11</td><td>ontarioart           </td><td>1</td><td> 1</td><td>10</td><td>l       </td><td>10l       </td><td>space  </td><td> 1.79175947</td><td>spaceregister.ca            </td><td>   NA</td><td>0.9855667</td><td>   NA</td><td>0.7286549</td><td>   NA</td><td>        NA</td><td>NA</td><td>NA</td></tr>\n",
       "\t<tr><td>FirstTime</td><td>1</td><td>2020-04-22</td><td>2019-04-22</td><td>Active</td><td>101141084</td><td>ziprecruiter.press         </td><td>NICENIC                </td><td>NICENIC                </td><td>Hong Kong     </td><td>NA</td><td>1</td><td> 1.08</td><td> 1.0800</td><td>0</td><td>295236384</td><td>transfer    </td><td>NA        </td><td>Renewed   </td><td>2020-02-26</td><td>49.0</td><td> 5.61</td><td>ziprecruiter         </td><td>1</td><td> 1</td><td>12</td><td>l       </td><td>12l       </td><td>press  </td><td> 0.07696104</td><td>pressnicenic                </td><td>0.022</td><td>0.2796425</td><td>   NA</td><td>0.5721173</td><td>0.093</td><td>0.30130160</td><td>NA</td><td>NA</td></tr>\n",
       "\t<tr><td>FirstTime</td><td>1</td><td>2019-06-27</td><td>2018-06-27</td><td>Active</td><td> 71066905</td><td><span style=white-space:pre-wrap>allmaker.space             </span></td><td><span style=white-space:pre-wrap>1&amp;1 Internet           </span></td><td><span style=white-space:pre-wrap>Arsys                  </span></td><td><span style=white-space:pre-wrap>Spain         </span></td><td>NA</td><td>1</td><td> 1.00</td><td> 1.0000</td><td>0</td><td>211876061</td><td>auto-renewal</td><td>unrealized</td><td>Not Renewd</td><td>2019-06-27</td><td> 6.0</td><td> 6.55</td><td><span style=white-space:pre-wrap>allmaker             </span></td><td>1</td><td> 1</td><td> 8</td><td><span style=white-space:pre-wrap>l       </span></td><td><span style=white-space:pre-wrap>8l        </span></td><td><span style=white-space:pre-wrap>space  </span></td><td> 0.00000000</td><td><span style=white-space:pre-wrap>spacearsys                  </span></td><td>0.487</td><td>0.5107410</td><td><span style=white-space:pre-wrap>   NA</span></td><td>0.5963515</td><td>0.544</td><td>0.83162583</td><td>NA</td><td>NA</td></tr>\n",
       "\t<tr><td>FirstTime</td><td>1</td><td>2019-11-19</td><td>2018-11-19</td><td>Active</td><td> 83956614</td><td>frogjuggler.online         </td><td>Imperial Registrations </td><td>Imperial Registrations </td><td>United States </td><td>NA</td><td>1</td><td>25.00</td><td>25.0000</td><td>0</td><td>256244725</td><td>auto-renewal</td><td>unrealized</td><td>Not Renewd</td><td>2019-11-19</td><td>25.0</td><td> 2.98</td><td>frogjuggler          </td><td>1</td><td> 1</td><td>11</td><td>l       </td><td>11l       </td><td>online </td><td> 3.21887582</td><td>onlineimperial registrations</td><td>   NA</td><td>0.9948964</td><td>   NA</td><td>0.8257238</td><td>   NA</td><td>        NA</td><td>NA</td><td>NA</td></tr>\n",
       "\t<tr><td>FirstTime</td><td>1</td><td>2020-08-07</td><td>2019-08-07</td><td>Active</td><td>116039006</td><td>fh1.site                   </td><td>NetClues               </td><td>NetClues               </td><td>              </td><td>NA</td><td>1</td><td> 0.00</td><td> 0.0001</td><td>0</td><td>335679829</td><td>auto-renewal</td><td>realized  </td><td>Renewed   </td><td>2020-08-07</td><td>20.0</td><td> 0.02</td><td>fh1                  </td><td>1</td><td> 1</td><td> 3</td><td>ln      </td><td>3ln       </td><td>site   </td><td>-9.21034037</td><td>sitenetclues                </td><td>0.000</td><td>0.1291702</td><td>   NA</td><td>0.5810059</td><td>   NA</td><td>        NA</td><td>NA</td><td>NA</td></tr>\n",
       "\t<tr><td>FirstTime</td><td>1</td><td>2019-11-09</td><td>2018-11-09</td><td>Active</td><td> 82321649</td><td>antispamgw.host            </td><td>Realtime Register      </td><td>Realtime Register      </td><td>Netherlands   </td><td>NA</td><td>1</td><td>65.00</td><td>65.0000</td><td>0</td><td>238730925</td><td>renewal     </td><td>NA        </td><td>Renewed   </td><td>2019-10-10</td><td>65.0</td><td> 2.09</td><td>antispamgw           </td><td>1</td><td> 1</td><td>10</td><td>l       </td><td>10l       </td><td>host   </td><td> 4.17438727</td><td>hostrealtime register       </td><td>0.252</td><td>0.4590399</td><td>0.253</td><td>0.5696194</td><td>0.904</td><td>0.64286641</td><td>NA</td><td>NA</td></tr>\n",
       "\t<tr><td>FirstTime</td><td>1</td><td>2019-10-04</td><td>2018-10-04</td><td>Active</td><td> 78253334</td><td>lokal.host                 </td><td>Realtime Register      </td><td>Realtime Register      </td><td>Netherlands   </td><td>NA</td><td>1</td><td>65.00</td><td>65.0000</td><td>0</td><td>236006436</td><td>renewal     </td><td>NA        </td><td>Renewed   </td><td>2019-10-01</td><td>65.0</td><td> 3.87</td><td>lokal                </td><td>1</td><td> 1</td><td> 5</td><td>l       </td><td>5l        </td><td>host   </td><td> 4.17438727</td><td>hostrealtime register       </td><td>0.275</td><td>0.5426539</td><td>0.275</td><td>0.5710536</td><td>0.899</td><td>0.68472740</td><td>NA</td><td>NA</td></tr>\n",
       "\t<tr><td>FirstTime</td><td>1</td><td>2019-08-07</td><td>2018-08-07</td><td>Active</td><td> 73736289</td><td>firstdesign.website        </td><td>Mesh Digital           </td><td>Heart Internet         </td><td>United Kingdom</td><td>NA</td><td>1</td><td> 0.80</td><td> 0.8000</td><td>0</td><td>218843026</td><td>renewal     </td><td>NA        </td><td>Renewed   </td><td>2019-08-02</td><td>15.0</td><td> 2.99</td><td>firstdesign          </td><td>1</td><td> 1</td><td>11</td><td>l       </td><td>11l       </td><td>website</td><td>-0.22314355</td><td>websiteheart internet       </td><td>1.000</td><td>0.9309190</td><td>   NA</td><td>0.5801021</td><td>   NA</td><td>        NA</td><td>NA</td><td>NA</td></tr>\n",
       "\t<tr><td>FirstTime</td><td>1</td><td>2020-01-25</td><td>2019-01-25</td><td>Active</td><td> 91900703</td><td>sems.site                  </td><td>Whois Networks         </td><td>Whois Networks         </td><td>Korea         </td><td>NA</td><td>1</td><td>20.00</td><td>20.0000</td><td>0</td><td>283009471</td><td>renewal     </td><td>NA        </td><td>Renewed   </td><td>2020-01-21</td><td>20.0</td><td> 4.29</td><td>sems                 </td><td>1</td><td> 1</td><td> 4</td><td>l       </td><td>4l        </td><td>site   </td><td> 2.99573227</td><td>sitewhois networks          </td><td>0.293</td><td>0.7015172</td><td>   NA</td><td>0.6847056</td><td>0.756</td><td>0.74919041</td><td>NA</td><td>NA</td></tr>\n",
       "\t<tr><td>FirstTime</td><td>1</td><td>2020-03-27</td><td>2019-03-27</td><td>Active</td><td> 98114119</td><td>tevec.store                </td><td>Global Village         </td><td>Global Village         </td><td>Germany       </td><td>NA</td><td>1</td><td>40.00</td><td>40.0000</td><td>0</td><td>        0</td><td>NA          </td><td>NA        </td><td>Not Renewd</td><td>NA</td><td>  NA</td><td> 6.92</td><td>tevec                </td><td>1</td><td> 1</td><td> 5</td><td>l       </td><td>5l        </td><td>store  </td><td> 3.68887945</td><td>storeglobal village         </td><td>1.000</td><td>0.9311672</td><td>   NA</td><td>0.8359576</td><td>   NA</td><td>        NA</td><td>NA</td><td>NA</td></tr>\n",
       "\t<tr><td>FirstTime</td><td>1</td><td>2020-05-19</td><td>2019-05-19</td><td>Active</td><td>104026606</td><td>sevensins.fun              </td><td>DNC Holdings           </td><td>DNC Holdings           </td><td>United States </td><td>NA</td><td>1</td><td>15.00</td><td>15.0000</td><td>0</td><td>316084664</td><td>auto-renewal</td><td>unrealized</td><td>Not Renewd</td><td>2020-05-19</td><td>15.0</td><td> 8.88</td><td>sevensins            </td><td>1</td><td> 1</td><td> 9</td><td>l       </td><td>9l        </td><td>fun    </td><td> 2.70805020</td><td>fundnc holdings             </td><td>0.453</td><td>0.7781161</td><td>   NA</td><td>0.6297827</td><td>0.364</td><td>0.70470105</td><td>NA</td><td>NA</td></tr>\n",
       "\t<tr><td>FirstTime</td><td>1</td><td>2020-04-22</td><td>2019-04-22</td><td>Active</td><td>101088999</td><td>eska.store                 </td><td>Jogjacamp              </td><td>Jogjacamp              </td><td>Indonesia     </td><td>NA</td><td>1</td><td> 2.50</td><td> 2.5000</td><td>0</td><td>309859364</td><td>auto-renewal</td><td>unrealized</td><td>Not Renewd</td><td>2020-04-22</td><td>40.0</td><td> 2.83</td><td>eska                 </td><td>1</td><td> 1</td><td> 4</td><td>l       </td><td>4l        </td><td>store  </td><td> 0.91629073</td><td>storejogjacamp              </td><td>0.052</td><td>0.3624642</td><td>   NA</td><td>0.7672393</td><td>0.046</td><td>0.45361957</td><td>NA</td><td>NA</td></tr>\n",
       "\t<tr><td>FirstTime</td><td>1</td><td>2020-02-05</td><td>2019-02-05</td><td>Active</td><td> 92905248</td><td>compra.store               </td><td>Key-Systems            </td><td>Compra                 </td><td>Netherlands   </td><td>NA</td><td>1</td><td> 3.00</td><td> 3.0000</td><td>0</td><td>289269716</td><td>auto-renewal</td><td>realized  </td><td>Renewed   </td><td>2020-02-05</td><td>40.0</td><td>10.07</td><td>compra               </td><td>1</td><td> 1</td><td> 6</td><td>l       </td><td>6l        </td><td>store  </td><td> 1.09861229</td><td>storecompra                 </td><td>0.000</td><td>0.1588105</td><td>   NA</td><td>0.6993082</td><td>   NA</td><td>0.00000000</td><td>NA</td><td>NA</td></tr>\n",
       "\t<tr><td>FirstTime</td><td>1</td><td>2020-05-26</td><td>2019-05-26</td><td>Active</td><td>104968651</td><td>sysadmins.fun              </td><td>Tecnocratica Centro    </td><td>Tecnocratica Centro    </td><td>Spain         </td><td>NA</td><td>1</td><td>15.00</td><td>15.0000</td><td>0</td><td>315829289</td><td>renewal     </td><td>NA        </td><td>Renewed   </td><td>2020-05-18</td><td>15.0</td><td> 3.46</td><td>sysadmins            </td><td>1</td><td> 1</td><td> 9</td><td>l       </td><td>9l        </td><td>fun    </td><td> 2.70805020</td><td>funtecnocratica centro      </td><td>0.666</td><td>0.6468300</td><td>   NA</td><td>0.5789864</td><td>0.931</td><td>0.81458920</td><td>NA</td><td>NA</td></tr>\n",
       "\t<tr><td>FirstTime</td><td>1</td><td>2019-06-12</td><td>2018-06-12</td><td>Active</td><td> 69902250</td><td>bohemechic.store           </td><td>Planet Hoster          </td><td>Planet Hoster          </td><td>Canada        </td><td>NA</td><td>1</td><td>40.00</td><td>40.0000</td><td>0</td><td>207608691</td><td>renewal     </td><td>NA        </td><td>Renewed   </td><td>2019-06-11</td><td>40.0</td><td> 6.59</td><td>bohemechic           </td><td>1</td><td> 1</td><td>10</td><td>l       </td><td>10l       </td><td>store  </td><td> 3.68887945</td><td>storeplanet hoster          </td><td>0.931</td><td>0.9259644</td><td>   NA</td><td>0.7534841</td><td>1.000</td><td>0.82794164</td><td>NA</td><td>NA</td></tr>\n",
       "\t<tr><td>FirstTime</td><td>1</td><td>2019-09-29</td><td>2018-09-29</td><td>Active</td><td> 77731294</td><td>filetmignon.store          </td><td>Planet Hoster          </td><td>Planet Hoster          </td><td>Canada        </td><td>NA</td><td>1</td><td>40.00</td><td>40.0000</td><td>0</td><td>235473511</td><td>auto-renewal</td><td>realized  </td><td>Renewed   </td><td>2019-09-29</td><td>40.0</td><td> 4.25</td><td>filetmignon          </td><td>1</td><td> 1</td><td>11</td><td>l       </td><td>11l       </td><td>store  </td><td> 3.68887945</td><td>storeplanet hoster          </td><td>0.927</td><td>0.9356569</td><td>   NA</td><td>0.8306447</td><td>1.000</td><td>0.88134164</td><td>NA</td><td>NA</td></tr>\n",
       "\t<tr><td>FirstTime</td><td>1</td><td>2019-10-09</td><td>2018-10-09</td><td>Active</td><td> 78686599</td><td>whiteley.tech              </td><td>Freeparking            </td><td>Freeparking            </td><td>United Kingdom</td><td>NA</td><td>1</td><td>35.00</td><td>35.0000</td><td>0</td><td>224135771</td><td>renewal     </td><td>NA        </td><td>Renewed   </td><td>2019-08-22</td><td>35.0</td><td> 7.84</td><td>whiteley             </td><td>1</td><td> 1</td><td> 8</td><td>l       </td><td>8l        </td><td>tech   </td><td> 3.55534806</td><td>techfreeparking             </td><td>0.671</td><td>0.6450379</td><td>   NA</td><td>0.8157455</td><td>0.382</td><td>0.66875220</td><td>NA</td><td>NA</td></tr>\n",
       "\t<tr><td>FirstTime</td><td>1</td><td>2019-08-04</td><td>2018-08-04</td><td>Active</td><td> 73576899</td><td>altenen.pw                 </td><td>Web4Africa             </td><td>Web4Africa             </td><td>South Africa  </td><td>NA</td><td>1</td><td> 6.00</td><td> 6.0000</td><td>0</td><td>219276076</td><td>auto-renewal</td><td>unrealized</td><td>Not Renewd</td><td>2019-08-04</td><td> 0.0</td><td> 6.97</td><td>altenen              </td><td>1</td><td> 1</td><td> 7</td><td>l       </td><td>7l        </td><td>pw     </td><td> 1.79175947</td><td>pwweb4africa                </td><td>0.035</td><td>0.3189241</td><td>   NA</td><td>0.6318866</td><td>0.101</td><td>0.20175308</td><td>NA</td><td>NA</td></tr>\n",
       "\t<tr><td>FirstTime</td><td>1</td><td>2020-05-24</td><td>2017-05-24</td><td>Active</td><td> 48026450</td><td>cicada.pw                  </td><td>PDR Ltd                </td><td>Bluehost               </td><td>United States </td><td>NA</td><td>3</td><td>12.50</td><td> 4.1700</td><td>0</td><td>317208689</td><td>auto-renewal</td><td>NA        </td><td>Not Renewd</td><td>2020-05-24</td><td> 6.0</td><td> 5.42</td><td>cicada               </td><td>1</td><td> 1</td><td> 6</td><td>l       </td><td>6l        </td><td>pw     </td><td> 1.42791604</td><td>pwbluehost                  </td><td>0.475</td><td>0.5378698</td><td>0.489</td><td>0.6305815</td><td>1.000</td><td>0.56918952</td><td>NA</td><td>NA</td></tr>\n",
       "\t<tr><td>FirstTime</td><td>1</td><td>2019-12-19</td><td>2018-12-19</td><td>Active</td><td> 88054102</td><td>baodou.pw                  </td><td>PDR Ltd                </td><td>Bluehost               </td><td>United States </td><td>NA</td><td>1</td><td> 0.50</td><td> 0.5000</td><td>0</td><td>265555511</td><td>renewal     </td><td>NA        </td><td>Renewed   </td><td>2019-12-12</td><td>15.0</td><td> 1.85</td><td>baodou               </td><td>2</td><td>25</td><td> 6</td><td>l       </td><td>6l        </td><td>pw     </td><td>-0.69314718</td><td>pwbluehost                  </td><td>0.216</td><td>0.1154223</td><td>0.215</td><td>0.1802359</td><td>0.303</td><td>0.69303276</td><td>NA</td><td>NA</td></tr>\n",
       "\t<tr><td>FirstTime</td><td>1</td><td>2020-06-17</td><td>2019-06-17</td><td>Active</td><td>108131151</td><td>marketingshop.space        </td><td>OwnRegistrar           </td><td>OwnRegistrar           </td><td>              </td><td>NA</td><td>1</td><td> 3.00</td><td> 3.0000</td><td>0</td><td>322847614</td><td>auto-renewal</td><td>unrealized</td><td>Not Renewd</td><td>2020-06-17</td><td>15.0</td><td> 6.32</td><td>marketingshop        </td><td>1</td><td> 1</td><td>13</td><td>l       </td><td>13l       </td><td>space  </td><td> 1.09861229</td><td>spaceownregistrar           </td><td>0.325</td><td>0.8397940</td><td>   NA</td><td>0.7007593</td><td>0.017</td><td>0.40453092</td><td>NA</td><td>NA</td></tr>\n",
       "\t<tr><td>FirstTime</td><td>1</td><td>2019-09-17</td><td>2018-09-17</td><td>Active</td><td> 76806449</td><td>gamingwithprose.fun        </td><td>Lexsynergy             </td><td>Lexsynergy             </td><td>United Kingdom</td><td>NA</td><td>1</td><td>15.00</td><td>15.0000</td><td>0</td><td>231821101</td><td>auto-renewal</td><td>unrealized</td><td>Not Renewd</td><td>2019-09-17</td><td>15.0</td><td> 4.43</td><td>gamingwithprose      </td><td>1</td><td> 1</td><td>15</td><td>l       </td><td>15l       </td><td>fun    </td><td> 2.70805020</td><td>funlexsynergy               </td><td>0.810</td><td>0.9250064</td><td>   NA</td><td>0.6166981</td><td>1.000</td><td>0.89775000</td><td>NA</td><td>NA</td></tr>\n",
       "\t<tr><td>FirstTime</td><td>1</td><td>2019-11-19</td><td>2018-11-19</td><td>Active</td><td> 83956624</td><td>frogjuggler.site           </td><td>Imperial Registrations </td><td>Imperial Registrations </td><td>United States </td><td>NA</td><td>1</td><td>20.00</td><td>20.0000</td><td>0</td><td>256244735</td><td>auto-renewal</td><td>unrealized</td><td>Not Renewd</td><td>2019-11-19</td><td>20.0</td><td> 2.98</td><td>frogjuggler          </td><td>1</td><td> 1</td><td>11</td><td>l       </td><td>11l       </td><td>site   </td><td> 2.99573227</td><td>siteimperial registrations  </td><td>   NA</td><td>0.9880768</td><td>   NA</td><td>0.5626476</td><td>   NA</td><td>        NA</td><td>NA</td><td>NA</td></tr>\n",
       "\t<tr><td>FirstTime</td><td>1</td><td>2019-07-31</td><td>2018-07-31</td><td>Active</td><td> 73141264</td><td>youhen.tech                </td><td>Zhengzhou Zitian       </td><td>Zhengzhou Zitian       </td><td>China         </td><td>NA</td><td>1</td><td> 2.25</td><td> 2.2500</td><td>0</td><td>218382716</td><td>auto-renewal</td><td>unrealized</td><td>Not Renewd</td><td>2019-07-31</td><td> 6.0</td><td> 4.64</td><td>youhen               </td><td>1</td><td> 1</td><td> 6</td><td>l       </td><td>6l        </td><td>tech   </td><td> 0.81093022</td><td>techzhengzhou zitian        </td><td>0.957</td><td>0.7270511</td><td>   NA</td><td>0.6360283</td><td>0.540</td><td>0.79759728</td><td>NA</td><td>NA</td></tr>\n",
       "\t<tr><td>FirstTime</td><td>1</td><td>2019-07-20</td><td>2018-07-20</td><td>Active</td><td> 72570834</td><td>merino.pw                  </td><td>Mesh Digital           </td><td>HostEurope             </td><td>Germany       </td><td>NA</td><td>1</td><td> 6.00</td><td> 6.0000</td><td>0</td><td>210057756</td><td>renewal     </td><td>NA        </td><td>Renewed   </td><td>2019-06-20</td><td>15.0</td><td>13.82</td><td>merino               </td><td>1</td><td> 1</td><td> 6</td><td>l       </td><td>6l        </td><td>pw     </td><td> 1.79175947</td><td>pwhosteurope                </td><td>0.708</td><td>0.6851074</td><td>   NA</td><td>0.6368430</td><td>0.974</td><td>0.91915490</td><td>NA</td><td>NA</td></tr>\n",
       "\t<tr><td>FirstTime</td><td>1</td><td>2020-08-15</td><td>2019-08-15</td><td>Active</td><td>118048911</td><td>unitednet-design.website   </td><td>United Domains         </td><td>Alfahosting            </td><td>Germany       </td><td>NA</td><td>1</td><td>15.00</td><td>15.0000</td><td>0</td><td>337655644</td><td>auto-renewal</td><td>realized  </td><td>Renewed   </td><td>2020-08-15</td><td>15.0</td><td> 3.10</td><td>unitednet-design     </td><td>1</td><td> 1</td><td>16</td><td>hyphen-l</td><td>16hyphen-l</td><td>website</td><td> 2.70805020</td><td>websitealfahosting          </td><td>0.688</td><td>0.8366708</td><td>   NA</td><td>0.5640029</td><td>0.756</td><td>0.94420956</td><td>NA</td><td>NA</td></tr>\n",
       "\t<tr><td>FirstTime</td><td>1</td><td>2019-09-26</td><td>2018-09-26</td><td>Active</td><td> 77531224</td><td>kosten.site                </td><td>Key-Systems            </td><td>Compra                 </td><td>Netherlands   </td><td>NA</td><td>1</td><td> 5.00</td><td> 5.0000</td><td>0</td><td>234417531</td><td>auto-renewal</td><td>unrealized</td><td>Not Renewd</td><td>2019-09-26</td><td>20.0</td><td> 6.01</td><td>kosten               </td><td>1</td><td> 1</td><td> 6</td><td>l       </td><td>6l        </td><td>site   </td><td> 1.60943791</td><td>sitecompra                  </td><td>0.000</td><td>0.1650235</td><td>   NA</td><td>0.5973271</td><td>   NA</td><td>0.00000000</td><td>NA</td><td>NA</td></tr>\n",
       "\t<tr><td>FirstTime</td><td>1</td><td>2020-04-05</td><td>2019-04-05</td><td>Active</td><td> 99009174</td><td>webplaneta.press           </td><td>Registrator Domenov    </td><td>Registrator Domenov    </td><td>Russia        </td><td>NA</td><td>1</td><td>49.00</td><td>49.0000</td><td>0</td><td>289165811</td><td>renewal     </td><td>NA        </td><td>Renewed   </td><td>2020-02-05</td><td>49.0</td><td> 2.81</td><td>webplaneta           </td><td>1</td><td> 1</td><td>10</td><td>l       </td><td>10l       </td><td>press  </td><td> 3.89182030</td><td>pressregistrator domenov    </td><td>0.155</td><td>0.4753756</td><td>   NA</td><td>0.7275313</td><td>0.414</td><td>0.46489889</td><td>NA</td><td>NA</td></tr>\n",
       "\t<tr><td>FirstTime</td><td>1</td><td>2019-12-06</td><td>2018-12-06</td><td>Active</td><td> 86079062</td><td>futureclient.website       </td><td>Tucows                 </td><td>Siteground             </td><td>Bulgaria      </td><td>NA</td><td>1</td><td> 5.00</td><td> 5.0000</td><td>0</td><td>262682376</td><td>renewal     </td><td>NA        </td><td>Renewed   </td><td>2019-12-06</td><td>15.0</td><td> 6.73</td><td>futureclient         </td><td>1</td><td> 1</td><td>12</td><td>l       </td><td>12l       </td><td>website</td><td> 1.60943791</td><td>websitesiteground           </td><td>0.470</td><td>0.6328508</td><td>   NA</td><td>0.6251516</td><td>0.591</td><td>0.74349849</td><td>NA</td><td>NA</td></tr>\n",
       "\t<tr><td>FirstTime</td><td>1</td><td>2020-04-29</td><td>2019-04-29</td><td>Active</td><td>102386359</td><td>ahlatlibel.site            </td><td>Tucows                 </td><td>Markum                 </td><td>Indonesia     </td><td>NA</td><td>1</td><td> 6.00</td><td> 6.0000</td><td>0</td><td>311399469</td><td>renewal     </td><td>NA        </td><td>Renewed   </td><td>2020-04-27</td><td>20.0</td><td> 2.42</td><td>ahlatlibel           </td><td>1</td><td> 1</td><td>10</td><td>l       </td><td>10l       </td><td>site   </td><td> 1.79175947</td><td>sitemarkum                  </td><td>0.729</td><td>0.6593500</td><td>   NA</td><td>0.6145744</td><td>   NA</td><td>        NA</td><td>NA</td><td>NA</td></tr>\n",
       "\t<tr><td>FirstTime</td><td>1</td><td>2019-07-31</td><td>2018-07-31</td><td>Active</td><td> 73230044</td><td>rcawireless.tech           </td><td>eNom                   </td><td>EUKHost                </td><td>United Kingdom</td><td>NA</td><td>1</td><td>12.00</td><td>12.0000</td><td>0</td><td>218471321</td><td>auto-renewal</td><td>unrealized</td><td>Not Renewd</td><td>2019-07-31</td><td>35.0</td><td> 5.92</td><td>rcawireless          </td><td>1</td><td> 1</td><td>11</td><td>l       </td><td>11l       </td><td>tech   </td><td> 2.48490665</td><td>techeukhost                 </td><td>0.518</td><td>0.5672919</td><td>   NA</td><td>0.7812017</td><td>0.147</td><td>0.29662500</td><td>NA</td><td>NA</td></tr>\n",
       "\t<tr><td>FirstTime</td><td>1</td><td>2019-08-07</td><td>2018-08-07</td><td>Active</td><td> 73786199</td><td>talktalkplc.press          </td><td>Ascio                  </td><td>Ascio                  </td><td>Denmark       </td><td>NA</td><td>1</td><td> 7.00</td><td> 7.0000</td><td>0</td><td>213695661</td><td>renewal     </td><td>NA        </td><td>Renewed   </td><td>2019-07-08</td><td>49.0</td><td> 1.28</td><td>talktalkplc          </td><td>1</td><td> 1</td><td>11</td><td>l       </td><td>11l       </td><td>press  </td><td> 1.94591015</td><td>pressascio                  </td><td>0.396</td><td>0.6822090</td><td>   NA</td><td>0.7433086</td><td>0.605</td><td>0.93365079</td><td>NA</td><td>NA</td></tr>\n",
       "\t<tr><td>FirstTime</td><td>1</td><td>2020-04-08</td><td>2019-04-08</td><td>Active</td><td> 99243829</td><td>heterodox.press            </td><td>Tucows                 </td><td>EasyDNS                </td><td>Canada        </td><td>NA</td><td>1</td><td>49.00</td><td>49.0000</td><td>0</td><td>304376229</td><td>renewal     </td><td>NA        </td><td>Renewed   </td><td>2020-04-02</td><td>49.0</td><td> 4.41</td><td>heterodox            </td><td>1</td><td> 1</td><td> 9</td><td>l       </td><td>9l        </td><td>press  </td><td> 3.89182030</td><td>presseasydns                </td><td>0.332</td><td>0.4480044</td><td>   NA</td><td>0.5961707</td><td>0.203</td><td>0.71439422</td><td>NA</td><td>NA</td></tr>\n",
       "\t<tr><td>FirstTime</td><td>1</td><td>2020-06-18</td><td>2019-06-18</td><td>Active</td><td>108660061</td><td>creations2020.pw           </td><td>PDR Ltd                </td><td>Impreza                </td><td>Nigeria       </td><td>NA</td><td>1</td><td> 0.50</td><td> 0.5000</td><td>0</td><td>322982304</td><td>auto-renewal</td><td>unrealized</td><td>Not Renewd</td><td>2020-06-18</td><td>15.0</td><td> 8.53</td><td>creations2020        </td><td>1</td><td> 1</td><td>13</td><td>ln      </td><td>13ln      </td><td>pw     </td><td>-0.69314718</td><td>pwimpreza                   </td><td>0.006</td><td>0.1491183</td><td>   NA</td><td>0.5753531</td><td>0.000</td><td>0.15961663</td><td>NA</td><td>NA</td></tr>\n",
       "\t<tr><td>FirstTime</td><td>1</td><td>2019-06-11</td><td>2018-06-11</td><td>Active</td><td> 69834100</td><td>chillfest.fun              </td><td>Webnames               </td><td>Webnames               </td><td>Canada        </td><td>NA</td><td>1</td><td>15.00</td><td>15.0000</td><td>0</td><td>207730351</td><td>auto-renewal</td><td>unrealized</td><td>Not Renewd</td><td>2019-06-11</td><td>15.0</td><td> 7.92</td><td>chillfest            </td><td>1</td><td> 1</td><td> 9</td><td>l       </td><td>9l        </td><td>fun    </td><td> 2.70805020</td><td>funwebnames                 </td><td>0.271</td><td>0.5920338</td><td>   NA</td><td>0.6103056</td><td>0.446</td><td>0.47993068</td><td>NA</td><td>NA</td></tr>\n",
       "\t<tr><td>FirstTime</td><td>1</td><td>2020-05-31</td><td>2019-05-31</td><td>Active</td><td>105762741</td><td>nijmegen.website           </td><td>Key-Systems            </td><td>Neostrada              </td><td>Netherlands   </td><td>NA</td><td>1</td><td>10.00</td><td>10.0000</td><td>0</td><td>319090934</td><td>auto-renewal</td><td>realized  </td><td>Renewed   </td><td>2020-05-31</td><td>15.0</td><td> 1.26</td><td>nijmegen             </td><td>1</td><td> 1</td><td> 8</td><td>l       </td><td>8l        </td><td>website</td><td> 2.30258509</td><td>websiteneostrada            </td><td>0.552</td><td>0.6894393</td><td>   NA</td><td>0.6001310</td><td>0.514</td><td>0.55410756</td><td>NA</td><td>NA</td></tr>\n",
       "\t<tr><td>FirstTime</td><td>1</td><td>2019-07-15</td><td>2018-07-15</td><td>Active</td><td> 72123374</td><td>bosberaad.website          </td><td>Key-Systems            </td><td>Neostrada              </td><td>Netherlands   </td><td>NA</td><td>1</td><td> 4.00</td><td> 4.0000</td><td>0</td><td>215156396</td><td>auto-renewal</td><td>realized  </td><td>Renewed   </td><td>2019-07-15</td><td>15.0</td><td> 2.60</td><td>bosberaad            </td><td>1</td><td> 1</td><td> 9</td><td>l       </td><td>9l        </td><td>website</td><td> 1.38629436</td><td>websiteneostrada            </td><td>0.543</td><td>0.6123546</td><td>   NA</td><td>0.6112665</td><td>0.567</td><td>0.76329629</td><td>NA</td><td>NA</td></tr>\n",
       "\t<tr><td>FirstTime</td><td>1</td><td>2019-10-30</td><td>2018-10-30</td><td>Active</td><td> 80956989</td><td>printxpress.in.net         </td><td>OwnRegistrar           </td><td>OwnRegistrar           </td><td>India         </td><td>NA</td><td>1</td><td> 6.00</td><td> 6.0000</td><td>0</td><td>245484370</td><td>auto-renewal</td><td>unrealized</td><td>Not Renewd</td><td>2019-10-30</td><td> 6.0</td><td> 6.15</td><td>printxpress          </td><td>1</td><td> 1</td><td>11</td><td>l       </td><td>11l       </td><td>in.net </td><td> 1.79175947</td><td>in.netownregistrar          </td><td>0.366</td><td>0.5997195</td><td>   NA</td><td>0.5927023</td><td>0.864</td><td>0.51476187</td><td>NA</td><td>NA</td></tr>\n",
       "\t<tr><td>FirstTime</td><td>1</td><td>2020-07-24</td><td>2019-07-24</td><td>Active</td><td>113944656</td><td>littlelion.space           </td><td>PDR Ltd                </td><td>Guzel Hosting          </td><td>Turkey        </td><td>NA</td><td>1</td><td> 0.50</td><td> 0.5000</td><td>0</td><td>331882189</td><td>auto-renewal</td><td>unrealized</td><td>Not Renewd</td><td>2020-07-24</td><td>15.0</td><td> 6.54</td><td>littlelion           </td><td>1</td><td> 1</td><td>10</td><td>l       </td><td>10l       </td><td>space  </td><td>-0.69314718</td><td>spaceguzel hosting          </td><td>0.038</td><td>0.1223125</td><td>   NA</td><td>0.5811143</td><td>0.058</td><td>0.04018261</td><td>NA</td><td>NA</td></tr>\n",
       "\t<tr><td>FirstTime</td><td>1</td><td>2020-02-06</td><td>2019-02-06</td><td>Active</td><td> 93010773</td><td>parliamentary.press        </td><td>PDR Ltd                </td><td>BigRock                </td><td>India         </td><td>NA</td><td>1</td><td> 6.00</td><td> 6.0000</td><td>0</td><td>289439061</td><td>auto-renewal</td><td>unrealized</td><td>Not Renewd</td><td>2020-02-06</td><td>49.0</td><td> 6.19</td><td>parliamentary        </td><td>1</td><td> 1</td><td>13</td><td>l       </td><td>13l       </td><td>press  </td><td> 1.79175947</td><td>pressbigrock                </td><td>0.049</td><td>0.2166930</td><td>0.038</td><td>0.3034804</td><td>0.122</td><td>0.24535632</td><td>NA</td><td>NA</td></tr>\n",
       "\t<tr><td>FirstTime</td><td>1</td><td>2020-08-18</td><td>2019-08-18</td><td>Active</td><td>118462681</td><td>indoamericanpressclub.press</td><td>PDR Ltd                </td><td>BigRock                </td><td>India         </td><td>NA</td><td>1</td><td> 6.00</td><td> 6.0000</td><td>0</td><td>338353614</td><td>auto-renewal</td><td>unrealized</td><td>Not Renewd</td><td>2020-08-18</td><td>49.0</td><td> 5.47</td><td>indoamericanpressclub</td><td>1</td><td> 1</td><td>21</td><td>l       </td><td>21l       </td><td>press  </td><td> 1.79175947</td><td>pressbigrock                </td><td>0.043</td><td>0.2379831</td><td>0.033</td><td>0.2704060</td><td>0.089</td><td>0.26639695</td><td>NA</td><td>NA</td></tr>\n",
       "\t<tr><td>FirstTime</td><td>1</td><td>2019-07-23</td><td>2018-07-23</td><td>Active</td><td> 72691074</td><td>daton.tech                 </td><td>Inames                 </td><td>Inames                 </td><td>Korea         </td><td>NA</td><td>1</td><td>35.00</td><td>35.0000</td><td>0</td><td>216782261</td><td>auto-renewal</td><td>unrealized</td><td>Not Renewd</td><td>2019-07-23</td><td>35.0</td><td> 8.69</td><td>daton                </td><td>1</td><td> 1</td><td> 5</td><td>l       </td><td>5l        </td><td>tech   </td><td> 3.55534806</td><td>techinames                  </td><td>0.000</td><td>0.2164483</td><td>   NA</td><td>0.8468427</td><td>   NA</td><td>0.00000000</td><td>NA</td><td>NA</td></tr>\n",
       "\t<tr><td>FirstTime</td><td>1</td><td>2020-06-11</td><td>2019-06-11</td><td>Active</td><td>107426936</td><td>webix-dev.host             </td><td>Tucows                 </td><td>Check Domain           </td><td>Germany       </td><td>NA</td><td>1</td><td>65.00</td><td>65.0000</td><td>0</td><td>321311914</td><td>renewal     </td><td>NA        </td><td>Renewed   </td><td>2020-06-11</td><td>65.0</td><td> 1.32</td><td>webix-dev            </td><td>1</td><td> 1</td><td> 9</td><td>hyphen-l</td><td>9hyphen-l </td><td>host   </td><td> 4.17438727</td><td>hostcheck domain            </td><td>0.354</td><td>0.4555586</td><td>   NA</td><td>0.5685879</td><td>0.788</td><td>0.88573523</td><td>NA</td><td>NA</td></tr>\n",
       "\t<tr><td>FirstTime</td><td>1</td><td>2020-01-23</td><td>2019-01-23</td><td>Active</td><td> 91704323</td><td>skateworld.store           </td><td>Tecnocratica Centro    </td><td>Tecnocratica Centro    </td><td>Spain         </td><td>NA</td><td>1</td><td> 6.00</td><td> 6.0000</td><td>0</td><td>284086486</td><td>auto-renewal</td><td>unrealized</td><td>Not Renewd</td><td>2020-01-23</td><td>40.0</td><td> 3.81</td><td>skateworld           </td><td>1</td><td> 1</td><td>10</td><td>l       </td><td>10l       </td><td>store  </td><td> 1.79175947</td><td>storetecnocratica centro    </td><td>0.801</td><td>0.7428275</td><td>   NA</td><td>0.7708989</td><td>0.769</td><td>0.76734804</td><td>NA</td><td>NA</td></tr>\n",
       "\t<tr><td>FirstTime</td><td>1</td><td>2019-06-27</td><td>2018-06-27</td><td>Active</td><td> 71082385</td><td>mondonauts.space           </td><td>COREhub                </td><td>COREhub                </td><td>Spain         </td><td>NA</td><td>1</td><td> 6.00</td><td> 6.0000</td><td>0</td><td>211891596</td><td>auto-renewal</td><td>realized  </td><td>Renewed   </td><td>2019-06-27</td><td>15.0</td><td> 6.78</td><td>mondonauts           </td><td>1</td><td> 1</td><td>10</td><td>l       </td><td>10l       </td><td>space  </td><td> 1.79175947</td><td>spacecorehub                </td><td>0.958</td><td>0.9664041</td><td>   NA</td><td>0.7293035</td><td>0.951</td><td>0.97395632</td><td>NA</td><td>NA</td></tr>\n",
       "\t<tr><td>FirstTime</td><td>1</td><td>2019-06-30</td><td>2017-06-30</td><td>Active</td><td> 49087574</td><td>geovis.store               </td><td>ShenZhen HuLianXianFeng</td><td>ShenZhen HuLianXianFeng</td><td>China         </td><td>NA</td><td>2</td><td> 7.50</td><td> 3.7500</td><td>0</td><td>192437064</td><td>transfer    </td><td>NA        </td><td>Renewed   </td><td>2019-03-25</td><td> 7.0</td><td> 5.41</td><td>geovis               </td><td>1</td><td> 1</td><td> 6</td><td>l       </td><td>6l        </td><td>store  </td><td> 1.32175584</td><td>storeshenzhen hulianxianfeng</td><td>0.105</td><td>0.3228792</td><td>   NA</td><td>0.7141210</td><td>1.000</td><td>0.30977381</td><td>NA</td><td>NA</td></tr>\n",
       "\t<tr><td>FirstTime</td><td>1</td><td>2019-07-08</td><td>2018-07-08</td><td>Active</td><td> 71594045</td><td>acmest.online              </td><td>Whois Networks         </td><td>Whois Networks         </td><td>Korea         </td><td>NA</td><td>1</td><td>25.00</td><td>25.0000</td><td>0</td><td>213832106</td><td>auto-renewal</td><td>unrealized</td><td>Not Renewd</td><td>2019-07-08</td><td>25.0</td><td> 2.88</td><td>acmest               </td><td>1</td><td> 1</td><td> 6</td><td>l       </td><td>6l        </td><td>online </td><td> 3.21887582</td><td>onlinewhois networks        </td><td>0.408</td><td>0.5699284</td><td>   NA</td><td>0.9276133</td><td>0.444</td><td>0.58723209</td><td>NA</td><td>NA</td></tr>\n",
       "\t<tr><td>FirstTime</td><td>1</td><td>2020-05-07</td><td>2019-05-07</td><td>Active</td><td>102955459</td><td>konvini.store              </td><td>Inames                 </td><td>Inames                 </td><td>Korea         </td><td>NA</td><td>1</td><td>40.00</td><td>40.0000</td><td>0</td><td>313667909</td><td>auto-renewal</td><td>unrealized</td><td>Not Renewd</td><td>2020-05-07</td><td>40.0</td><td> 5.59</td><td>konvini              </td><td>1</td><td> 1</td><td> 7</td><td>l       </td><td>7l        </td><td>store  </td><td> 3.68887945</td><td>storeinames                 </td><td>0.000</td><td>0.2070983</td><td>   NA</td><td>0.8658228</td><td>   NA</td><td>0.00000000</td><td>NA</td><td>NA</td></tr>\n",
       "\t<tr><td>FirstTime</td><td>1</td><td>2020-02-11</td><td>2019-02-11</td><td>Active</td><td> 93333378</td><td>dyham.press                </td><td>Webnames               </td><td>Webnames               </td><td>Canada        </td><td>NA</td><td>1</td><td>49.00</td><td>49.0000</td><td>0</td><td>290654076</td><td>auto-renewal</td><td>unrealized</td><td>Not Renewd</td><td>2020-02-11</td><td>49.0</td><td> 1.27</td><td>dyham                </td><td>1</td><td> 1</td><td> 5</td><td>l       </td><td>5l        </td><td>press  </td><td> 3.89182030</td><td>presswebnames               </td><td>0.265</td><td>0.3899154</td><td>   NA</td><td>0.7706898</td><td>0.440</td><td>0.35025719</td><td>NA</td><td>NA</td></tr>\n",
       "\t<tr><td>FirstTime</td><td>1</td><td>2019-07-05</td><td>2018-07-05</td><td>Active</td><td> 71440360</td><td>mellanox.store             </td><td>Domain The Net         </td><td>Domain The Net         </td><td>Israel        </td><td>NA</td><td>1</td><td>40.00</td><td>40.0000</td><td>0</td><td>200279144</td><td>renewal     </td><td>NA        </td><td>Renewed   </td><td>2019-05-06</td><td>40.0</td><td> 5.54</td><td>mellanox             </td><td>1</td><td> 1</td><td> 8</td><td>l       </td><td>8l        </td><td>store  </td><td> 3.68887945</td><td>storedomain the net         </td><td>0.766</td><td>0.4828190</td><td>   NA</td><td>0.8681941</td><td>0.977</td><td>0.89065952</td><td>NA</td><td>NA</td></tr>\n",
       "\t<tr><td>FirstTime</td><td>1</td><td>2019-11-07</td><td>2018-11-07</td><td>Active</td><td> 82102184</td><td><span style=white-space:pre-wrap>ceat.press                 </span></td><td><span style=white-space:pre-wrap>1&amp;1 Internet           </span></td><td><span style=white-space:pre-wrap>Arsys                  </span></td><td><span style=white-space:pre-wrap>Spain         </span></td><td>NA</td><td>1</td><td>49.00</td><td>49.0000</td><td>0</td><td>248366815</td><td>auto-renewal</td><td><span style=white-space:pre-wrap>realized  </span></td><td><span style=white-space:pre-wrap>Renewed   </span></td><td>2019-11-07</td><td>49.0</td><td>10.44</td><td><span style=white-space:pre-wrap>ceat                 </span></td><td>1</td><td> 1</td><td> 4</td><td><span style=white-space:pre-wrap>l       </span></td><td><span style=white-space:pre-wrap>4l        </span></td><td><span style=white-space:pre-wrap>press  </span></td><td> 3.89182030</td><td><span style=white-space:pre-wrap>pressarsys                  </span></td><td>0.489</td><td>0.6627434</td><td><span style=white-space:pre-wrap>   NA</span></td><td>0.8305129</td><td>0.541</td><td>0.75187841</td><td>NA</td><td>NA</td></tr>\n",
       "\t<tr><td>FirstTime</td><td>1</td><td>2019-07-05</td><td>2018-07-05</td><td>Active</td><td> 71455605</td><td>crt.host                   </td><td>PDR Ltd                </td><td>Redehost               </td><td>Brazil        </td><td>NA</td><td>1</td><td> 3.00</td><td> 3.0000</td><td>0</td><td>213418891</td><td>auto-renewal</td><td>unrealized</td><td>Not Renewd</td><td>2019-07-05</td><td>65.0</td><td> 3.67</td><td>crt                  </td><td>1</td><td> 1</td><td> 3</td><td>l       </td><td>3l        </td><td>host   </td><td> 1.09861229</td><td>hostredehost                </td><td>0.091</td><td>0.3858803</td><td>   NA</td><td>0.6396910</td><td>0.217</td><td>0.45188043</td><td>NA</td><td>NA</td></tr>\n",
       "\t<tr><td>FirstTime</td><td>1</td><td>2019-07-01</td><td>2018-07-01</td><td>Active</td><td> 71238585</td><td>musictechnology.press      </td><td>Key-Systems            </td><td>Home.pl                </td><td>Poland        </td><td>NA</td><td>1</td><td>49.00</td><td>49.0000</td><td>0</td><td>211150046</td><td>renewal     </td><td>NA        </td><td>Renewed   </td><td>2019-06-24</td><td>49.0</td><td> 3.29</td><td>musictechnology      </td><td>1</td><td> 1</td><td>15</td><td>l       </td><td>15l       </td><td>press  </td><td> 3.89182030</td><td>presshome.pl                </td><td>0.072</td><td>0.5678307</td><td>0.047</td><td>0.2043780</td><td>0.363</td><td>0.77135019</td><td>NA</td><td>NA</td></tr>\n",
       "\t<tr><td>FirstTime</td><td>1</td><td>2019-08-28</td><td>2018-08-28</td><td>Active</td><td> 75267554</td><td>machineseeker.site         </td><td>Gransy                 </td><td>Webonic                </td><td>Hungary       </td><td>NA</td><td>1</td><td>20.00</td><td>20.0000</td><td>0</td><td>222082036</td><td>renewal     </td><td>NA        </td><td>Renewed   </td><td>2019-08-14</td><td>20.0</td><td> 7.37</td><td>machineseeker        </td><td>1</td><td> 1</td><td>13</td><td>l       </td><td>13l       </td><td>site   </td><td> 2.99573227</td><td>sitewebonic                 </td><td>0.634</td><td>0.8043772</td><td>   NA</td><td>0.5871087</td><td>1.000</td><td>0.76100000</td><td>NA</td><td>NA</td></tr>\n",
       "</tbody>\n",
       "</table>\n"
      ],
      "text/latex": [
       "A data.table: 58 × 39\n",
       "\\begin{tabular}{lllllllllllllllllllllllllllllllllllllll}\n",
       " renewal\\_type & renewed\\_count & expiry\\_date & creation\\_date & status & domain\\_id & domain & registrar & reseller & reseller\\_country & registrant\\_country & reg\\_period & reg\\_revenue & reg\\_arpt & renew\\_mbg & renewal\\_item\\_id & renew\\_type & autorenew\\_type & renewal\\_status & renew\\_date & renew\\_arpt & gibb\\_score & pattern & pattern\\_domain\\_count & day\\_domains & sld\\_length & sld\\_type & sld\\_type2 & tld & log\\_reg\\_arpt & tld\\_registrar\\_index & pred\\_agg\\_glm\\_ALL & pred\\_agg\\_rf\\_ALL & pred\\_agg\\_glm & pred\\_agg\\_rf & pred\\_seg\\_glm\\_ALL & pred\\_seg\\_rf\\_ALL & pred\\_seg2\\_glm\\_ALL & pred\\_seg2\\_rf\\_ALL\\\\\n",
       " <chr> & <int> & <date> & <date> & <chr> & <int> & <chr> & <chr> & <chr> & <chr> & <chr> & <int> & <dbl> & <dbl> & <int> & <int> & <chr> & <chr> & <chr> & <date> & <dbl> & <dbl> & <chr> & <int> & <int> & <int> & <chr> & <chr> & <chr> & <dbl> & <chr> & <dbl> & <dbl> & <dbl> & <dbl> & <dbl> & <dbl> & <lgl> & <lgl>\\\\\n",
       "\\hline\n",
       "\t FirstTime & 1 & 2019-06-14 & 2018-06-14 & Active &  70181780 & steibei.space               & Internet GmbH           & Internet GmbH           & Germany        & NA & 1 &  6.00 &  6.0000 & 0 & 208493821 & auto-renewal & realized   & Renewed    & 2019-06-14 & 15.0 &  4.02 & steibei               & 1 &  1 &  7 & l        & 7l         & space   &  1.79175947 & spaceinternet gmbh           & 0.920 & 0.9713886 &    NA & 0.7251219 & 0.975 & 0.98133698 & NA & NA\\\\\n",
       "\t FirstTime & 1 & 2020-05-17 & 2019-05-17 & Active & 103906916 & wingtsun.space              & Internet GmbH           & Internet GmbH           & Germany        & NA & 1 & 15.00 & 15.0000 & 0 & 315625244 & auto-renewal & realized   & Renewed    & 2020-05-17 & 15.0 &  6.48 & wingtsun              & 1 &  1 &  8 & l        & 8l         & space   &  2.70805020 & spaceinternet gmbh           & 0.924 & 0.9685702 &    NA & 0.6956184 & 0.993 & 0.97838698 & NA & NA\\\\\n",
       "\t FirstTime & 1 & 2019-10-05 & 2018-10-05 & Active &  78360794 & sfmart.store                & PDR Ltd                 & Arvixe                  & United States  & NA & 1 &  6.50 &  6.5000 & 0 & 235884471 & renewal      & NA         & Renewed    & 2019-10-01 & 26.5 &  1.15 & sfmart                & 1 &  1 &  6 & l        & 6l         & store   &  1.87180218 & storearvixe                  & 0.000 & 0.2597214 &    NA & 0.7862930 &    NA &         NA & NA & NA\\\\\n",
       "\t FirstTime & 1 & 2020-08-30 & 2019-08-30 & Active & 122049036 & qianxiyun.online            &                         &                         &                & NA & 1 & 25.00 & 25.0000 & 0 & 341703158 & auto-renewal & unrealized & Not Renewd & 2020-08-30 &  6.0 &  0.63 & qianxiyun             & 1 &  1 &  9 & l        & 9l         & online  &  3.21887582 & online                       &    NA & 0.9550391 &    NA & 0.7713468 &    NA &         NA & NA & NA\\\\\n",
       "\t FirstTime & 1 & 2019-08-15 & 2018-08-15 & Active &  74267354 & ontarioart.space            & Register.ca             & Register.ca             & Canada         & NA & 1 &  6.00 &  6.0000 & 0 & 222880706 & auto-renewal & unrealized & Not Renewd & 2019-08-15 & 15.0 &  6.11 & ontarioart            & 1 &  1 & 10 & l        & 10l        & space   &  1.79175947 & spaceregister.ca             &    NA & 0.9855667 &    NA & 0.7286549 &    NA &         NA & NA & NA\\\\\n",
       "\t FirstTime & 1 & 2020-04-22 & 2019-04-22 & Active & 101141084 & ziprecruiter.press          & NICENIC                 & NICENIC                 & Hong Kong      & NA & 1 &  1.08 &  1.0800 & 0 & 295236384 & transfer     & NA         & Renewed    & 2020-02-26 & 49.0 &  5.61 & ziprecruiter          & 1 &  1 & 12 & l        & 12l        & press   &  0.07696104 & pressnicenic                 & 0.022 & 0.2796425 &    NA & 0.5721173 & 0.093 & 0.30130160 & NA & NA\\\\\n",
       "\t FirstTime & 1 & 2019-06-27 & 2018-06-27 & Active &  71066905 & allmaker.space              & 1\\&1 Internet            & Arsys                   & Spain          & NA & 1 &  1.00 &  1.0000 & 0 & 211876061 & auto-renewal & unrealized & Not Renewd & 2019-06-27 &  6.0 &  6.55 & allmaker              & 1 &  1 &  8 & l        & 8l         & space   &  0.00000000 & spacearsys                   & 0.487 & 0.5107410 &    NA & 0.5963515 & 0.544 & 0.83162583 & NA & NA\\\\\n",
       "\t FirstTime & 1 & 2019-11-19 & 2018-11-19 & Active &  83956614 & frogjuggler.online          & Imperial Registrations  & Imperial Registrations  & United States  & NA & 1 & 25.00 & 25.0000 & 0 & 256244725 & auto-renewal & unrealized & Not Renewd & 2019-11-19 & 25.0 &  2.98 & frogjuggler           & 1 &  1 & 11 & l        & 11l        & online  &  3.21887582 & onlineimperial registrations &    NA & 0.9948964 &    NA & 0.8257238 &    NA &         NA & NA & NA\\\\\n",
       "\t FirstTime & 1 & 2020-08-07 & 2019-08-07 & Active & 116039006 & fh1.site                    & NetClues                & NetClues                &                & NA & 1 &  0.00 &  0.0001 & 0 & 335679829 & auto-renewal & realized   & Renewed    & 2020-08-07 & 20.0 &  0.02 & fh1                   & 1 &  1 &  3 & ln       & 3ln        & site    & -9.21034037 & sitenetclues                 & 0.000 & 0.1291702 &    NA & 0.5810059 &    NA &         NA & NA & NA\\\\\n",
       "\t FirstTime & 1 & 2019-11-09 & 2018-11-09 & Active &  82321649 & antispamgw.host             & Realtime Register       & Realtime Register       & Netherlands    & NA & 1 & 65.00 & 65.0000 & 0 & 238730925 & renewal      & NA         & Renewed    & 2019-10-10 & 65.0 &  2.09 & antispamgw            & 1 &  1 & 10 & l        & 10l        & host    &  4.17438727 & hostrealtime register        & 0.252 & 0.4590399 & 0.253 & 0.5696194 & 0.904 & 0.64286641 & NA & NA\\\\\n",
       "\t FirstTime & 1 & 2019-10-04 & 2018-10-04 & Active &  78253334 & lokal.host                  & Realtime Register       & Realtime Register       & Netherlands    & NA & 1 & 65.00 & 65.0000 & 0 & 236006436 & renewal      & NA         & Renewed    & 2019-10-01 & 65.0 &  3.87 & lokal                 & 1 &  1 &  5 & l        & 5l         & host    &  4.17438727 & hostrealtime register        & 0.275 & 0.5426539 & 0.275 & 0.5710536 & 0.899 & 0.68472740 & NA & NA\\\\\n",
       "\t FirstTime & 1 & 2019-08-07 & 2018-08-07 & Active &  73736289 & firstdesign.website         & Mesh Digital            & Heart Internet          & United Kingdom & NA & 1 &  0.80 &  0.8000 & 0 & 218843026 & renewal      & NA         & Renewed    & 2019-08-02 & 15.0 &  2.99 & firstdesign           & 1 &  1 & 11 & l        & 11l        & website & -0.22314355 & websiteheart internet        & 1.000 & 0.9309190 &    NA & 0.5801021 &    NA &         NA & NA & NA\\\\\n",
       "\t FirstTime & 1 & 2020-01-25 & 2019-01-25 & Active &  91900703 & sems.site                   & Whois Networks          & Whois Networks          & Korea          & NA & 1 & 20.00 & 20.0000 & 0 & 283009471 & renewal      & NA         & Renewed    & 2020-01-21 & 20.0 &  4.29 & sems                  & 1 &  1 &  4 & l        & 4l         & site    &  2.99573227 & sitewhois networks           & 0.293 & 0.7015172 &    NA & 0.6847056 & 0.756 & 0.74919041 & NA & NA\\\\\n",
       "\t FirstTime & 1 & 2020-03-27 & 2019-03-27 & Active &  98114119 & tevec.store                 & Global Village          & Global Village          & Germany        & NA & 1 & 40.00 & 40.0000 & 0 &         0 & NA           & NA         & Not Renewd & NA &   NA &  6.92 & tevec                 & 1 &  1 &  5 & l        & 5l         & store   &  3.68887945 & storeglobal village          & 1.000 & 0.9311672 &    NA & 0.8359576 &    NA &         NA & NA & NA\\\\\n",
       "\t FirstTime & 1 & 2020-05-19 & 2019-05-19 & Active & 104026606 & sevensins.fun               & DNC Holdings            & DNC Holdings            & United States  & NA & 1 & 15.00 & 15.0000 & 0 & 316084664 & auto-renewal & unrealized & Not Renewd & 2020-05-19 & 15.0 &  8.88 & sevensins             & 1 &  1 &  9 & l        & 9l         & fun     &  2.70805020 & fundnc holdings              & 0.453 & 0.7781161 &    NA & 0.6297827 & 0.364 & 0.70470105 & NA & NA\\\\\n",
       "\t FirstTime & 1 & 2020-04-22 & 2019-04-22 & Active & 101088999 & eska.store                  & Jogjacamp               & Jogjacamp               & Indonesia      & NA & 1 &  2.50 &  2.5000 & 0 & 309859364 & auto-renewal & unrealized & Not Renewd & 2020-04-22 & 40.0 &  2.83 & eska                  & 1 &  1 &  4 & l        & 4l         & store   &  0.91629073 & storejogjacamp               & 0.052 & 0.3624642 &    NA & 0.7672393 & 0.046 & 0.45361957 & NA & NA\\\\\n",
       "\t FirstTime & 1 & 2020-02-05 & 2019-02-05 & Active &  92905248 & compra.store                & Key-Systems             & Compra                  & Netherlands    & NA & 1 &  3.00 &  3.0000 & 0 & 289269716 & auto-renewal & realized   & Renewed    & 2020-02-05 & 40.0 & 10.07 & compra                & 1 &  1 &  6 & l        & 6l         & store   &  1.09861229 & storecompra                  & 0.000 & 0.1588105 &    NA & 0.6993082 &    NA & 0.00000000 & NA & NA\\\\\n",
       "\t FirstTime & 1 & 2020-05-26 & 2019-05-26 & Active & 104968651 & sysadmins.fun               & Tecnocratica Centro     & Tecnocratica Centro     & Spain          & NA & 1 & 15.00 & 15.0000 & 0 & 315829289 & renewal      & NA         & Renewed    & 2020-05-18 & 15.0 &  3.46 & sysadmins             & 1 &  1 &  9 & l        & 9l         & fun     &  2.70805020 & funtecnocratica centro       & 0.666 & 0.6468300 &    NA & 0.5789864 & 0.931 & 0.81458920 & NA & NA\\\\\n",
       "\t FirstTime & 1 & 2019-06-12 & 2018-06-12 & Active &  69902250 & bohemechic.store            & Planet Hoster           & Planet Hoster           & Canada         & NA & 1 & 40.00 & 40.0000 & 0 & 207608691 & renewal      & NA         & Renewed    & 2019-06-11 & 40.0 &  6.59 & bohemechic            & 1 &  1 & 10 & l        & 10l        & store   &  3.68887945 & storeplanet hoster           & 0.931 & 0.9259644 &    NA & 0.7534841 & 1.000 & 0.82794164 & NA & NA\\\\\n",
       "\t FirstTime & 1 & 2019-09-29 & 2018-09-29 & Active &  77731294 & filetmignon.store           & Planet Hoster           & Planet Hoster           & Canada         & NA & 1 & 40.00 & 40.0000 & 0 & 235473511 & auto-renewal & realized   & Renewed    & 2019-09-29 & 40.0 &  4.25 & filetmignon           & 1 &  1 & 11 & l        & 11l        & store   &  3.68887945 & storeplanet hoster           & 0.927 & 0.9356569 &    NA & 0.8306447 & 1.000 & 0.88134164 & NA & NA\\\\\n",
       "\t FirstTime & 1 & 2019-10-09 & 2018-10-09 & Active &  78686599 & whiteley.tech               & Freeparking             & Freeparking             & United Kingdom & NA & 1 & 35.00 & 35.0000 & 0 & 224135771 & renewal      & NA         & Renewed    & 2019-08-22 & 35.0 &  7.84 & whiteley              & 1 &  1 &  8 & l        & 8l         & tech    &  3.55534806 & techfreeparking              & 0.671 & 0.6450379 &    NA & 0.8157455 & 0.382 & 0.66875220 & NA & NA\\\\\n",
       "\t FirstTime & 1 & 2019-08-04 & 2018-08-04 & Active &  73576899 & altenen.pw                  & Web4Africa              & Web4Africa              & South Africa   & NA & 1 &  6.00 &  6.0000 & 0 & 219276076 & auto-renewal & unrealized & Not Renewd & 2019-08-04 &  0.0 &  6.97 & altenen               & 1 &  1 &  7 & l        & 7l         & pw      &  1.79175947 & pwweb4africa                 & 0.035 & 0.3189241 &    NA & 0.6318866 & 0.101 & 0.20175308 & NA & NA\\\\\n",
       "\t FirstTime & 1 & 2020-05-24 & 2017-05-24 & Active &  48026450 & cicada.pw                   & PDR Ltd                 & Bluehost                & United States  & NA & 3 & 12.50 &  4.1700 & 0 & 317208689 & auto-renewal & NA         & Not Renewd & 2020-05-24 &  6.0 &  5.42 & cicada                & 1 &  1 &  6 & l        & 6l         & pw      &  1.42791604 & pwbluehost                   & 0.475 & 0.5378698 & 0.489 & 0.6305815 & 1.000 & 0.56918952 & NA & NA\\\\\n",
       "\t FirstTime & 1 & 2019-12-19 & 2018-12-19 & Active &  88054102 & baodou.pw                   & PDR Ltd                 & Bluehost                & United States  & NA & 1 &  0.50 &  0.5000 & 0 & 265555511 & renewal      & NA         & Renewed    & 2019-12-12 & 15.0 &  1.85 & baodou                & 2 & 25 &  6 & l        & 6l         & pw      & -0.69314718 & pwbluehost                   & 0.216 & 0.1154223 & 0.215 & 0.1802359 & 0.303 & 0.69303276 & NA & NA\\\\\n",
       "\t FirstTime & 1 & 2020-06-17 & 2019-06-17 & Active & 108131151 & marketingshop.space         & OwnRegistrar            & OwnRegistrar            &                & NA & 1 &  3.00 &  3.0000 & 0 & 322847614 & auto-renewal & unrealized & Not Renewd & 2020-06-17 & 15.0 &  6.32 & marketingshop         & 1 &  1 & 13 & l        & 13l        & space   &  1.09861229 & spaceownregistrar            & 0.325 & 0.8397940 &    NA & 0.7007593 & 0.017 & 0.40453092 & NA & NA\\\\\n",
       "\t FirstTime & 1 & 2019-09-17 & 2018-09-17 & Active &  76806449 & gamingwithprose.fun         & Lexsynergy              & Lexsynergy              & United Kingdom & NA & 1 & 15.00 & 15.0000 & 0 & 231821101 & auto-renewal & unrealized & Not Renewd & 2019-09-17 & 15.0 &  4.43 & gamingwithprose       & 1 &  1 & 15 & l        & 15l        & fun     &  2.70805020 & funlexsynergy                & 0.810 & 0.9250064 &    NA & 0.6166981 & 1.000 & 0.89775000 & NA & NA\\\\\n",
       "\t FirstTime & 1 & 2019-11-19 & 2018-11-19 & Active &  83956624 & frogjuggler.site            & Imperial Registrations  & Imperial Registrations  & United States  & NA & 1 & 20.00 & 20.0000 & 0 & 256244735 & auto-renewal & unrealized & Not Renewd & 2019-11-19 & 20.0 &  2.98 & frogjuggler           & 1 &  1 & 11 & l        & 11l        & site    &  2.99573227 & siteimperial registrations   &    NA & 0.9880768 &    NA & 0.5626476 &    NA &         NA & NA & NA\\\\\n",
       "\t FirstTime & 1 & 2019-07-31 & 2018-07-31 & Active &  73141264 & youhen.tech                 & Zhengzhou Zitian        & Zhengzhou Zitian        & China          & NA & 1 &  2.25 &  2.2500 & 0 & 218382716 & auto-renewal & unrealized & Not Renewd & 2019-07-31 &  6.0 &  4.64 & youhen                & 1 &  1 &  6 & l        & 6l         & tech    &  0.81093022 & techzhengzhou zitian         & 0.957 & 0.7270511 &    NA & 0.6360283 & 0.540 & 0.79759728 & NA & NA\\\\\n",
       "\t FirstTime & 1 & 2019-07-20 & 2018-07-20 & Active &  72570834 & merino.pw                   & Mesh Digital            & HostEurope              & Germany        & NA & 1 &  6.00 &  6.0000 & 0 & 210057756 & renewal      & NA         & Renewed    & 2019-06-20 & 15.0 & 13.82 & merino                & 1 &  1 &  6 & l        & 6l         & pw      &  1.79175947 & pwhosteurope                 & 0.708 & 0.6851074 &    NA & 0.6368430 & 0.974 & 0.91915490 & NA & NA\\\\\n",
       "\t FirstTime & 1 & 2020-08-15 & 2019-08-15 & Active & 118048911 & unitednet-design.website    & United Domains          & Alfahosting             & Germany        & NA & 1 & 15.00 & 15.0000 & 0 & 337655644 & auto-renewal & realized   & Renewed    & 2020-08-15 & 15.0 &  3.10 & unitednet-design      & 1 &  1 & 16 & hyphen-l & 16hyphen-l & website &  2.70805020 & websitealfahosting           & 0.688 & 0.8366708 &    NA & 0.5640029 & 0.756 & 0.94420956 & NA & NA\\\\\n",
       "\t FirstTime & 1 & 2019-09-26 & 2018-09-26 & Active &  77531224 & kosten.site                 & Key-Systems             & Compra                  & Netherlands    & NA & 1 &  5.00 &  5.0000 & 0 & 234417531 & auto-renewal & unrealized & Not Renewd & 2019-09-26 & 20.0 &  6.01 & kosten                & 1 &  1 &  6 & l        & 6l         & site    &  1.60943791 & sitecompra                   & 0.000 & 0.1650235 &    NA & 0.5973271 &    NA & 0.00000000 & NA & NA\\\\\n",
       "\t FirstTime & 1 & 2020-04-05 & 2019-04-05 & Active &  99009174 & webplaneta.press            & Registrator Domenov     & Registrator Domenov     & Russia         & NA & 1 & 49.00 & 49.0000 & 0 & 289165811 & renewal      & NA         & Renewed    & 2020-02-05 & 49.0 &  2.81 & webplaneta            & 1 &  1 & 10 & l        & 10l        & press   &  3.89182030 & pressregistrator domenov     & 0.155 & 0.4753756 &    NA & 0.7275313 & 0.414 & 0.46489889 & NA & NA\\\\\n",
       "\t FirstTime & 1 & 2019-12-06 & 2018-12-06 & Active &  86079062 & futureclient.website        & Tucows                  & Siteground              & Bulgaria       & NA & 1 &  5.00 &  5.0000 & 0 & 262682376 & renewal      & NA         & Renewed    & 2019-12-06 & 15.0 &  6.73 & futureclient          & 1 &  1 & 12 & l        & 12l        & website &  1.60943791 & websitesiteground            & 0.470 & 0.6328508 &    NA & 0.6251516 & 0.591 & 0.74349849 & NA & NA\\\\\n",
       "\t FirstTime & 1 & 2020-04-29 & 2019-04-29 & Active & 102386359 & ahlatlibel.site             & Tucows                  & Markum                  & Indonesia      & NA & 1 &  6.00 &  6.0000 & 0 & 311399469 & renewal      & NA         & Renewed    & 2020-04-27 & 20.0 &  2.42 & ahlatlibel            & 1 &  1 & 10 & l        & 10l        & site    &  1.79175947 & sitemarkum                   & 0.729 & 0.6593500 &    NA & 0.6145744 &    NA &         NA & NA & NA\\\\\n",
       "\t FirstTime & 1 & 2019-07-31 & 2018-07-31 & Active &  73230044 & rcawireless.tech            & eNom                    & EUKHost                 & United Kingdom & NA & 1 & 12.00 & 12.0000 & 0 & 218471321 & auto-renewal & unrealized & Not Renewd & 2019-07-31 & 35.0 &  5.92 & rcawireless           & 1 &  1 & 11 & l        & 11l        & tech    &  2.48490665 & techeukhost                  & 0.518 & 0.5672919 &    NA & 0.7812017 & 0.147 & 0.29662500 & NA & NA\\\\\n",
       "\t FirstTime & 1 & 2019-08-07 & 2018-08-07 & Active &  73786199 & talktalkplc.press           & Ascio                   & Ascio                   & Denmark        & NA & 1 &  7.00 &  7.0000 & 0 & 213695661 & renewal      & NA         & Renewed    & 2019-07-08 & 49.0 &  1.28 & talktalkplc           & 1 &  1 & 11 & l        & 11l        & press   &  1.94591015 & pressascio                   & 0.396 & 0.6822090 &    NA & 0.7433086 & 0.605 & 0.93365079 & NA & NA\\\\\n",
       "\t FirstTime & 1 & 2020-04-08 & 2019-04-08 & Active &  99243829 & heterodox.press             & Tucows                  & EasyDNS                 & Canada         & NA & 1 & 49.00 & 49.0000 & 0 & 304376229 & renewal      & NA         & Renewed    & 2020-04-02 & 49.0 &  4.41 & heterodox             & 1 &  1 &  9 & l        & 9l         & press   &  3.89182030 & presseasydns                 & 0.332 & 0.4480044 &    NA & 0.5961707 & 0.203 & 0.71439422 & NA & NA\\\\\n",
       "\t FirstTime & 1 & 2020-06-18 & 2019-06-18 & Active & 108660061 & creations2020.pw            & PDR Ltd                 & Impreza                 & Nigeria        & NA & 1 &  0.50 &  0.5000 & 0 & 322982304 & auto-renewal & unrealized & Not Renewd & 2020-06-18 & 15.0 &  8.53 & creations2020         & 1 &  1 & 13 & ln       & 13ln       & pw      & -0.69314718 & pwimpreza                    & 0.006 & 0.1491183 &    NA & 0.5753531 & 0.000 & 0.15961663 & NA & NA\\\\\n",
       "\t FirstTime & 1 & 2019-06-11 & 2018-06-11 & Active &  69834100 & chillfest.fun               & Webnames                & Webnames                & Canada         & NA & 1 & 15.00 & 15.0000 & 0 & 207730351 & auto-renewal & unrealized & Not Renewd & 2019-06-11 & 15.0 &  7.92 & chillfest             & 1 &  1 &  9 & l        & 9l         & fun     &  2.70805020 & funwebnames                  & 0.271 & 0.5920338 &    NA & 0.6103056 & 0.446 & 0.47993068 & NA & NA\\\\\n",
       "\t FirstTime & 1 & 2020-05-31 & 2019-05-31 & Active & 105762741 & nijmegen.website            & Key-Systems             & Neostrada               & Netherlands    & NA & 1 & 10.00 & 10.0000 & 0 & 319090934 & auto-renewal & realized   & Renewed    & 2020-05-31 & 15.0 &  1.26 & nijmegen              & 1 &  1 &  8 & l        & 8l         & website &  2.30258509 & websiteneostrada             & 0.552 & 0.6894393 &    NA & 0.6001310 & 0.514 & 0.55410756 & NA & NA\\\\\n",
       "\t FirstTime & 1 & 2019-07-15 & 2018-07-15 & Active &  72123374 & bosberaad.website           & Key-Systems             & Neostrada               & Netherlands    & NA & 1 &  4.00 &  4.0000 & 0 & 215156396 & auto-renewal & realized   & Renewed    & 2019-07-15 & 15.0 &  2.60 & bosberaad             & 1 &  1 &  9 & l        & 9l         & website &  1.38629436 & websiteneostrada             & 0.543 & 0.6123546 &    NA & 0.6112665 & 0.567 & 0.76329629 & NA & NA\\\\\n",
       "\t FirstTime & 1 & 2019-10-30 & 2018-10-30 & Active &  80956989 & printxpress.in.net          & OwnRegistrar            & OwnRegistrar            & India          & NA & 1 &  6.00 &  6.0000 & 0 & 245484370 & auto-renewal & unrealized & Not Renewd & 2019-10-30 &  6.0 &  6.15 & printxpress           & 1 &  1 & 11 & l        & 11l        & in.net  &  1.79175947 & in.netownregistrar           & 0.366 & 0.5997195 &    NA & 0.5927023 & 0.864 & 0.51476187 & NA & NA\\\\\n",
       "\t FirstTime & 1 & 2020-07-24 & 2019-07-24 & Active & 113944656 & littlelion.space            & PDR Ltd                 & Guzel Hosting           & Turkey         & NA & 1 &  0.50 &  0.5000 & 0 & 331882189 & auto-renewal & unrealized & Not Renewd & 2020-07-24 & 15.0 &  6.54 & littlelion            & 1 &  1 & 10 & l        & 10l        & space   & -0.69314718 & spaceguzel hosting           & 0.038 & 0.1223125 &    NA & 0.5811143 & 0.058 & 0.04018261 & NA & NA\\\\\n",
       "\t FirstTime & 1 & 2020-02-06 & 2019-02-06 & Active &  93010773 & parliamentary.press         & PDR Ltd                 & BigRock                 & India          & NA & 1 &  6.00 &  6.0000 & 0 & 289439061 & auto-renewal & unrealized & Not Renewd & 2020-02-06 & 49.0 &  6.19 & parliamentary         & 1 &  1 & 13 & l        & 13l        & press   &  1.79175947 & pressbigrock                 & 0.049 & 0.2166930 & 0.038 & 0.3034804 & 0.122 & 0.24535632 & NA & NA\\\\\n",
       "\t FirstTime & 1 & 2020-08-18 & 2019-08-18 & Active & 118462681 & indoamericanpressclub.press & PDR Ltd                 & BigRock                 & India          & NA & 1 &  6.00 &  6.0000 & 0 & 338353614 & auto-renewal & unrealized & Not Renewd & 2020-08-18 & 49.0 &  5.47 & indoamericanpressclub & 1 &  1 & 21 & l        & 21l        & press   &  1.79175947 & pressbigrock                 & 0.043 & 0.2379831 & 0.033 & 0.2704060 & 0.089 & 0.26639695 & NA & NA\\\\\n",
       "\t FirstTime & 1 & 2019-07-23 & 2018-07-23 & Active &  72691074 & daton.tech                  & Inames                  & Inames                  & Korea          & NA & 1 & 35.00 & 35.0000 & 0 & 216782261 & auto-renewal & unrealized & Not Renewd & 2019-07-23 & 35.0 &  8.69 & daton                 & 1 &  1 &  5 & l        & 5l         & tech    &  3.55534806 & techinames                   & 0.000 & 0.2164483 &    NA & 0.8468427 &    NA & 0.00000000 & NA & NA\\\\\n",
       "\t FirstTime & 1 & 2020-06-11 & 2019-06-11 & Active & 107426936 & webix-dev.host              & Tucows                  & Check Domain            & Germany        & NA & 1 & 65.00 & 65.0000 & 0 & 321311914 & renewal      & NA         & Renewed    & 2020-06-11 & 65.0 &  1.32 & webix-dev             & 1 &  1 &  9 & hyphen-l & 9hyphen-l  & host    &  4.17438727 & hostcheck domain             & 0.354 & 0.4555586 &    NA & 0.5685879 & 0.788 & 0.88573523 & NA & NA\\\\\n",
       "\t FirstTime & 1 & 2020-01-23 & 2019-01-23 & Active &  91704323 & skateworld.store            & Tecnocratica Centro     & Tecnocratica Centro     & Spain          & NA & 1 &  6.00 &  6.0000 & 0 & 284086486 & auto-renewal & unrealized & Not Renewd & 2020-01-23 & 40.0 &  3.81 & skateworld            & 1 &  1 & 10 & l        & 10l        & store   &  1.79175947 & storetecnocratica centro     & 0.801 & 0.7428275 &    NA & 0.7708989 & 0.769 & 0.76734804 & NA & NA\\\\\n",
       "\t FirstTime & 1 & 2019-06-27 & 2018-06-27 & Active &  71082385 & mondonauts.space            & COREhub                 & COREhub                 & Spain          & NA & 1 &  6.00 &  6.0000 & 0 & 211891596 & auto-renewal & realized   & Renewed    & 2019-06-27 & 15.0 &  6.78 & mondonauts            & 1 &  1 & 10 & l        & 10l        & space   &  1.79175947 & spacecorehub                 & 0.958 & 0.9664041 &    NA & 0.7293035 & 0.951 & 0.97395632 & NA & NA\\\\\n",
       "\t FirstTime & 1 & 2019-06-30 & 2017-06-30 & Active &  49087574 & geovis.store                & ShenZhen HuLianXianFeng & ShenZhen HuLianXianFeng & China          & NA & 2 &  7.50 &  3.7500 & 0 & 192437064 & transfer     & NA         & Renewed    & 2019-03-25 &  7.0 &  5.41 & geovis                & 1 &  1 &  6 & l        & 6l         & store   &  1.32175584 & storeshenzhen hulianxianfeng & 0.105 & 0.3228792 &    NA & 0.7141210 & 1.000 & 0.30977381 & NA & NA\\\\\n",
       "\t FirstTime & 1 & 2019-07-08 & 2018-07-08 & Active &  71594045 & acmest.online               & Whois Networks          & Whois Networks          & Korea          & NA & 1 & 25.00 & 25.0000 & 0 & 213832106 & auto-renewal & unrealized & Not Renewd & 2019-07-08 & 25.0 &  2.88 & acmest                & 1 &  1 &  6 & l        & 6l         & online  &  3.21887582 & onlinewhois networks         & 0.408 & 0.5699284 &    NA & 0.9276133 & 0.444 & 0.58723209 & NA & NA\\\\\n",
       "\t FirstTime & 1 & 2020-05-07 & 2019-05-07 & Active & 102955459 & konvini.store               & Inames                  & Inames                  & Korea          & NA & 1 & 40.00 & 40.0000 & 0 & 313667909 & auto-renewal & unrealized & Not Renewd & 2020-05-07 & 40.0 &  5.59 & konvini               & 1 &  1 &  7 & l        & 7l         & store   &  3.68887945 & storeinames                  & 0.000 & 0.2070983 &    NA & 0.8658228 &    NA & 0.00000000 & NA & NA\\\\\n",
       "\t FirstTime & 1 & 2020-02-11 & 2019-02-11 & Active &  93333378 & dyham.press                 & Webnames                & Webnames                & Canada         & NA & 1 & 49.00 & 49.0000 & 0 & 290654076 & auto-renewal & unrealized & Not Renewd & 2020-02-11 & 49.0 &  1.27 & dyham                 & 1 &  1 &  5 & l        & 5l         & press   &  3.89182030 & presswebnames                & 0.265 & 0.3899154 &    NA & 0.7706898 & 0.440 & 0.35025719 & NA & NA\\\\\n",
       "\t FirstTime & 1 & 2019-07-05 & 2018-07-05 & Active &  71440360 & mellanox.store              & Domain The Net          & Domain The Net          & Israel         & NA & 1 & 40.00 & 40.0000 & 0 & 200279144 & renewal      & NA         & Renewed    & 2019-05-06 & 40.0 &  5.54 & mellanox              & 1 &  1 &  8 & l        & 8l         & store   &  3.68887945 & storedomain the net          & 0.766 & 0.4828190 &    NA & 0.8681941 & 0.977 & 0.89065952 & NA & NA\\\\\n",
       "\t FirstTime & 1 & 2019-11-07 & 2018-11-07 & Active &  82102184 & ceat.press                  & 1\\&1 Internet            & Arsys                   & Spain          & NA & 1 & 49.00 & 49.0000 & 0 & 248366815 & auto-renewal & realized   & Renewed    & 2019-11-07 & 49.0 & 10.44 & ceat                  & 1 &  1 &  4 & l        & 4l         & press   &  3.89182030 & pressarsys                   & 0.489 & 0.6627434 &    NA & 0.8305129 & 0.541 & 0.75187841 & NA & NA\\\\\n",
       "\t FirstTime & 1 & 2019-07-05 & 2018-07-05 & Active &  71455605 & crt.host                    & PDR Ltd                 & Redehost                & Brazil         & NA & 1 &  3.00 &  3.0000 & 0 & 213418891 & auto-renewal & unrealized & Not Renewd & 2019-07-05 & 65.0 &  3.67 & crt                   & 1 &  1 &  3 & l        & 3l         & host    &  1.09861229 & hostredehost                 & 0.091 & 0.3858803 &    NA & 0.6396910 & 0.217 & 0.45188043 & NA & NA\\\\\n",
       "\t FirstTime & 1 & 2019-07-01 & 2018-07-01 & Active &  71238585 & musictechnology.press       & Key-Systems             & Home.pl                 & Poland         & NA & 1 & 49.00 & 49.0000 & 0 & 211150046 & renewal      & NA         & Renewed    & 2019-06-24 & 49.0 &  3.29 & musictechnology       & 1 &  1 & 15 & l        & 15l        & press   &  3.89182030 & presshome.pl                 & 0.072 & 0.5678307 & 0.047 & 0.2043780 & 0.363 & 0.77135019 & NA & NA\\\\\n",
       "\t FirstTime & 1 & 2019-08-28 & 2018-08-28 & Active &  75267554 & machineseeker.site          & Gransy                  & Webonic                 & Hungary        & NA & 1 & 20.00 & 20.0000 & 0 & 222082036 & renewal      & NA         & Renewed    & 2019-08-14 & 20.0 &  7.37 & machineseeker         & 1 &  1 & 13 & l        & 13l        & site    &  2.99573227 & sitewebonic                  & 0.634 & 0.8043772 &    NA & 0.5871087 & 1.000 & 0.76100000 & NA & NA\\\\\n",
       "\\end{tabular}\n"
      ],
      "text/markdown": [
       "\n",
       "A data.table: 58 × 39\n",
       "\n",
       "| renewal_type &lt;chr&gt; | renewed_count &lt;int&gt; | expiry_date &lt;date&gt; | creation_date &lt;date&gt; | status &lt;chr&gt; | domain_id &lt;int&gt; | domain &lt;chr&gt; | registrar &lt;chr&gt; | reseller &lt;chr&gt; | reseller_country &lt;chr&gt; | registrant_country &lt;chr&gt; | reg_period &lt;int&gt; | reg_revenue &lt;dbl&gt; | reg_arpt &lt;dbl&gt; | renew_mbg &lt;int&gt; | renewal_item_id &lt;int&gt; | renew_type &lt;chr&gt; | autorenew_type &lt;chr&gt; | renewal_status &lt;chr&gt; | renew_date &lt;date&gt; | renew_arpt &lt;dbl&gt; | gibb_score &lt;dbl&gt; | pattern &lt;chr&gt; | pattern_domain_count &lt;int&gt; | day_domains &lt;int&gt; | sld_length &lt;int&gt; | sld_type &lt;chr&gt; | sld_type2 &lt;chr&gt; | tld &lt;chr&gt; | log_reg_arpt &lt;dbl&gt; | tld_registrar_index &lt;chr&gt; | pred_agg_glm_ALL &lt;dbl&gt; | pred_agg_rf_ALL &lt;dbl&gt; | pred_agg_glm &lt;dbl&gt; | pred_agg_rf &lt;dbl&gt; | pred_seg_glm_ALL &lt;dbl&gt; | pred_seg_rf_ALL &lt;dbl&gt; | pred_seg2_glm_ALL &lt;lgl&gt; | pred_seg2_rf_ALL &lt;lgl&gt; |\n",
       "|---|---|---|---|---|---|---|---|---|---|---|---|---|---|---|---|---|---|---|---|---|---|---|---|---|---|---|---|---|---|---|---|---|---|---|---|---|---|---|\n",
       "| FirstTime | 1 | 2019-06-14 | 2018-06-14 | Active |  70181780 | steibei.space               | Internet GmbH           | Internet GmbH           | Germany        | NA | 1 |  6.00 |  6.0000 | 0 | 208493821 | auto-renewal | realized   | Renewed    | 2019-06-14 | 15.0 |  4.02 | steibei               | 1 |  1 |  7 | l        | 7l         | space   |  1.79175947 | spaceinternet gmbh           | 0.920 | 0.9713886 |    NA | 0.7251219 | 0.975 | 0.98133698 | NA | NA |\n",
       "| FirstTime | 1 | 2020-05-17 | 2019-05-17 | Active | 103906916 | wingtsun.space              | Internet GmbH           | Internet GmbH           | Germany        | NA | 1 | 15.00 | 15.0000 | 0 | 315625244 | auto-renewal | realized   | Renewed    | 2020-05-17 | 15.0 |  6.48 | wingtsun              | 1 |  1 |  8 | l        | 8l         | space   |  2.70805020 | spaceinternet gmbh           | 0.924 | 0.9685702 |    NA | 0.6956184 | 0.993 | 0.97838698 | NA | NA |\n",
       "| FirstTime | 1 | 2019-10-05 | 2018-10-05 | Active |  78360794 | sfmart.store                | PDR Ltd                 | Arvixe                  | United States  | NA | 1 |  6.50 |  6.5000 | 0 | 235884471 | renewal      | NA         | Renewed    | 2019-10-01 | 26.5 |  1.15 | sfmart                | 1 |  1 |  6 | l        | 6l         | store   |  1.87180218 | storearvixe                  | 0.000 | 0.2597214 |    NA | 0.7862930 |    NA |         NA | NA | NA |\n",
       "| FirstTime | 1 | 2020-08-30 | 2019-08-30 | Active | 122049036 | qianxiyun.online            | <!----> | <!----> | <!----> | NA | 1 | 25.00 | 25.0000 | 0 | 341703158 | auto-renewal | unrealized | Not Renewd | 2020-08-30 |  6.0 |  0.63 | qianxiyun             | 1 |  1 |  9 | l        | 9l         | online  |  3.21887582 | online                       |    NA | 0.9550391 |    NA | 0.7713468 |    NA |         NA | NA | NA |\n",
       "| FirstTime | 1 | 2019-08-15 | 2018-08-15 | Active |  74267354 | ontarioart.space            | Register.ca             | Register.ca             | Canada         | NA | 1 |  6.00 |  6.0000 | 0 | 222880706 | auto-renewal | unrealized | Not Renewd | 2019-08-15 | 15.0 |  6.11 | ontarioart            | 1 |  1 | 10 | l        | 10l        | space   |  1.79175947 | spaceregister.ca             |    NA | 0.9855667 |    NA | 0.7286549 |    NA |         NA | NA | NA |\n",
       "| FirstTime | 1 | 2020-04-22 | 2019-04-22 | Active | 101141084 | ziprecruiter.press          | NICENIC                 | NICENIC                 | Hong Kong      | NA | 1 |  1.08 |  1.0800 | 0 | 295236384 | transfer     | NA         | Renewed    | 2020-02-26 | 49.0 |  5.61 | ziprecruiter          | 1 |  1 | 12 | l        | 12l        | press   |  0.07696104 | pressnicenic                 | 0.022 | 0.2796425 |    NA | 0.5721173 | 0.093 | 0.30130160 | NA | NA |\n",
       "| FirstTime | 1 | 2019-06-27 | 2018-06-27 | Active |  71066905 | allmaker.space              | 1&amp;1 Internet            | Arsys                   | Spain          | NA | 1 |  1.00 |  1.0000 | 0 | 211876061 | auto-renewal | unrealized | Not Renewd | 2019-06-27 |  6.0 |  6.55 | allmaker              | 1 |  1 |  8 | l        | 8l         | space   |  0.00000000 | spacearsys                   | 0.487 | 0.5107410 |    NA | 0.5963515 | 0.544 | 0.83162583 | NA | NA |\n",
       "| FirstTime | 1 | 2019-11-19 | 2018-11-19 | Active |  83956614 | frogjuggler.online          | Imperial Registrations  | Imperial Registrations  | United States  | NA | 1 | 25.00 | 25.0000 | 0 | 256244725 | auto-renewal | unrealized | Not Renewd | 2019-11-19 | 25.0 |  2.98 | frogjuggler           | 1 |  1 | 11 | l        | 11l        | online  |  3.21887582 | onlineimperial registrations |    NA | 0.9948964 |    NA | 0.8257238 |    NA |         NA | NA | NA |\n",
       "| FirstTime | 1 | 2020-08-07 | 2019-08-07 | Active | 116039006 | fh1.site                    | NetClues                | NetClues                | <!----> | NA | 1 |  0.00 |  0.0001 | 0 | 335679829 | auto-renewal | realized   | Renewed    | 2020-08-07 | 20.0 |  0.02 | fh1                   | 1 |  1 |  3 | ln       | 3ln        | site    | -9.21034037 | sitenetclues                 | 0.000 | 0.1291702 |    NA | 0.5810059 |    NA |         NA | NA | NA |\n",
       "| FirstTime | 1 | 2019-11-09 | 2018-11-09 | Active |  82321649 | antispamgw.host             | Realtime Register       | Realtime Register       | Netherlands    | NA | 1 | 65.00 | 65.0000 | 0 | 238730925 | renewal      | NA         | Renewed    | 2019-10-10 | 65.0 |  2.09 | antispamgw            | 1 |  1 | 10 | l        | 10l        | host    |  4.17438727 | hostrealtime register        | 0.252 | 0.4590399 | 0.253 | 0.5696194 | 0.904 | 0.64286641 | NA | NA |\n",
       "| FirstTime | 1 | 2019-10-04 | 2018-10-04 | Active |  78253334 | lokal.host                  | Realtime Register       | Realtime Register       | Netherlands    | NA | 1 | 65.00 | 65.0000 | 0 | 236006436 | renewal      | NA         | Renewed    | 2019-10-01 | 65.0 |  3.87 | lokal                 | 1 |  1 |  5 | l        | 5l         | host    |  4.17438727 | hostrealtime register        | 0.275 | 0.5426539 | 0.275 | 0.5710536 | 0.899 | 0.68472740 | NA | NA |\n",
       "| FirstTime | 1 | 2019-08-07 | 2018-08-07 | Active |  73736289 | firstdesign.website         | Mesh Digital            | Heart Internet          | United Kingdom | NA | 1 |  0.80 |  0.8000 | 0 | 218843026 | renewal      | NA         | Renewed    | 2019-08-02 | 15.0 |  2.99 | firstdesign           | 1 |  1 | 11 | l        | 11l        | website | -0.22314355 | websiteheart internet        | 1.000 | 0.9309190 |    NA | 0.5801021 |    NA |         NA | NA | NA |\n",
       "| FirstTime | 1 | 2020-01-25 | 2019-01-25 | Active |  91900703 | sems.site                   | Whois Networks          | Whois Networks          | Korea          | NA | 1 | 20.00 | 20.0000 | 0 | 283009471 | renewal      | NA         | Renewed    | 2020-01-21 | 20.0 |  4.29 | sems                  | 1 |  1 |  4 | l        | 4l         | site    |  2.99573227 | sitewhois networks           | 0.293 | 0.7015172 |    NA | 0.6847056 | 0.756 | 0.74919041 | NA | NA |\n",
       "| FirstTime | 1 | 2020-03-27 | 2019-03-27 | Active |  98114119 | tevec.store                 | Global Village          | Global Village          | Germany        | NA | 1 | 40.00 | 40.0000 | 0 |         0 | NA           | NA         | Not Renewd | NA |   NA |  6.92 | tevec                 | 1 |  1 |  5 | l        | 5l         | store   |  3.68887945 | storeglobal village          | 1.000 | 0.9311672 |    NA | 0.8359576 |    NA |         NA | NA | NA |\n",
       "| FirstTime | 1 | 2020-05-19 | 2019-05-19 | Active | 104026606 | sevensins.fun               | DNC Holdings            | DNC Holdings            | United States  | NA | 1 | 15.00 | 15.0000 | 0 | 316084664 | auto-renewal | unrealized | Not Renewd | 2020-05-19 | 15.0 |  8.88 | sevensins             | 1 |  1 |  9 | l        | 9l         | fun     |  2.70805020 | fundnc holdings              | 0.453 | 0.7781161 |    NA | 0.6297827 | 0.364 | 0.70470105 | NA | NA |\n",
       "| FirstTime | 1 | 2020-04-22 | 2019-04-22 | Active | 101088999 | eska.store                  | Jogjacamp               | Jogjacamp               | Indonesia      | NA | 1 |  2.50 |  2.5000 | 0 | 309859364 | auto-renewal | unrealized | Not Renewd | 2020-04-22 | 40.0 |  2.83 | eska                  | 1 |  1 |  4 | l        | 4l         | store   |  0.91629073 | storejogjacamp               | 0.052 | 0.3624642 |    NA | 0.7672393 | 0.046 | 0.45361957 | NA | NA |\n",
       "| FirstTime | 1 | 2020-02-05 | 2019-02-05 | Active |  92905248 | compra.store                | Key-Systems             | Compra                  | Netherlands    | NA | 1 |  3.00 |  3.0000 | 0 | 289269716 | auto-renewal | realized   | Renewed    | 2020-02-05 | 40.0 | 10.07 | compra                | 1 |  1 |  6 | l        | 6l         | store   |  1.09861229 | storecompra                  | 0.000 | 0.1588105 |    NA | 0.6993082 |    NA | 0.00000000 | NA | NA |\n",
       "| FirstTime | 1 | 2020-05-26 | 2019-05-26 | Active | 104968651 | sysadmins.fun               | Tecnocratica Centro     | Tecnocratica Centro     | Spain          | NA | 1 | 15.00 | 15.0000 | 0 | 315829289 | renewal      | NA         | Renewed    | 2020-05-18 | 15.0 |  3.46 | sysadmins             | 1 |  1 |  9 | l        | 9l         | fun     |  2.70805020 | funtecnocratica centro       | 0.666 | 0.6468300 |    NA | 0.5789864 | 0.931 | 0.81458920 | NA | NA |\n",
       "| FirstTime | 1 | 2019-06-12 | 2018-06-12 | Active |  69902250 | bohemechic.store            | Planet Hoster           | Planet Hoster           | Canada         | NA | 1 | 40.00 | 40.0000 | 0 | 207608691 | renewal      | NA         | Renewed    | 2019-06-11 | 40.0 |  6.59 | bohemechic            | 1 |  1 | 10 | l        | 10l        | store   |  3.68887945 | storeplanet hoster           | 0.931 | 0.9259644 |    NA | 0.7534841 | 1.000 | 0.82794164 | NA | NA |\n",
       "| FirstTime | 1 | 2019-09-29 | 2018-09-29 | Active |  77731294 | filetmignon.store           | Planet Hoster           | Planet Hoster           | Canada         | NA | 1 | 40.00 | 40.0000 | 0 | 235473511 | auto-renewal | realized   | Renewed    | 2019-09-29 | 40.0 |  4.25 | filetmignon           | 1 |  1 | 11 | l        | 11l        | store   |  3.68887945 | storeplanet hoster           | 0.927 | 0.9356569 |    NA | 0.8306447 | 1.000 | 0.88134164 | NA | NA |\n",
       "| FirstTime | 1 | 2019-10-09 | 2018-10-09 | Active |  78686599 | whiteley.tech               | Freeparking             | Freeparking             | United Kingdom | NA | 1 | 35.00 | 35.0000 | 0 | 224135771 | renewal      | NA         | Renewed    | 2019-08-22 | 35.0 |  7.84 | whiteley              | 1 |  1 |  8 | l        | 8l         | tech    |  3.55534806 | techfreeparking              | 0.671 | 0.6450379 |    NA | 0.8157455 | 0.382 | 0.66875220 | NA | NA |\n",
       "| FirstTime | 1 | 2019-08-04 | 2018-08-04 | Active |  73576899 | altenen.pw                  | Web4Africa              | Web4Africa              | South Africa   | NA | 1 |  6.00 |  6.0000 | 0 | 219276076 | auto-renewal | unrealized | Not Renewd | 2019-08-04 |  0.0 |  6.97 | altenen               | 1 |  1 |  7 | l        | 7l         | pw      |  1.79175947 | pwweb4africa                 | 0.035 | 0.3189241 |    NA | 0.6318866 | 0.101 | 0.20175308 | NA | NA |\n",
       "| FirstTime | 1 | 2020-05-24 | 2017-05-24 | Active |  48026450 | cicada.pw                   | PDR Ltd                 | Bluehost                | United States  | NA | 3 | 12.50 |  4.1700 | 0 | 317208689 | auto-renewal | NA         | Not Renewd | 2020-05-24 |  6.0 |  5.42 | cicada                | 1 |  1 |  6 | l        | 6l         | pw      |  1.42791604 | pwbluehost                   | 0.475 | 0.5378698 | 0.489 | 0.6305815 | 1.000 | 0.56918952 | NA | NA |\n",
       "| FirstTime | 1 | 2019-12-19 | 2018-12-19 | Active |  88054102 | baodou.pw                   | PDR Ltd                 | Bluehost                | United States  | NA | 1 |  0.50 |  0.5000 | 0 | 265555511 | renewal      | NA         | Renewed    | 2019-12-12 | 15.0 |  1.85 | baodou                | 2 | 25 |  6 | l        | 6l         | pw      | -0.69314718 | pwbluehost                   | 0.216 | 0.1154223 | 0.215 | 0.1802359 | 0.303 | 0.69303276 | NA | NA |\n",
       "| FirstTime | 1 | 2020-06-17 | 2019-06-17 | Active | 108131151 | marketingshop.space         | OwnRegistrar            | OwnRegistrar            | <!----> | NA | 1 |  3.00 |  3.0000 | 0 | 322847614 | auto-renewal | unrealized | Not Renewd | 2020-06-17 | 15.0 |  6.32 | marketingshop         | 1 |  1 | 13 | l        | 13l        | space   |  1.09861229 | spaceownregistrar            | 0.325 | 0.8397940 |    NA | 0.7007593 | 0.017 | 0.40453092 | NA | NA |\n",
       "| FirstTime | 1 | 2019-09-17 | 2018-09-17 | Active |  76806449 | gamingwithprose.fun         | Lexsynergy              | Lexsynergy              | United Kingdom | NA | 1 | 15.00 | 15.0000 | 0 | 231821101 | auto-renewal | unrealized | Not Renewd | 2019-09-17 | 15.0 |  4.43 | gamingwithprose       | 1 |  1 | 15 | l        | 15l        | fun     |  2.70805020 | funlexsynergy                | 0.810 | 0.9250064 |    NA | 0.6166981 | 1.000 | 0.89775000 | NA | NA |\n",
       "| FirstTime | 1 | 2019-11-19 | 2018-11-19 | Active |  83956624 | frogjuggler.site            | Imperial Registrations  | Imperial Registrations  | United States  | NA | 1 | 20.00 | 20.0000 | 0 | 256244735 | auto-renewal | unrealized | Not Renewd | 2019-11-19 | 20.0 |  2.98 | frogjuggler           | 1 |  1 | 11 | l        | 11l        | site    |  2.99573227 | siteimperial registrations   |    NA | 0.9880768 |    NA | 0.5626476 |    NA |         NA | NA | NA |\n",
       "| FirstTime | 1 | 2019-07-31 | 2018-07-31 | Active |  73141264 | youhen.tech                 | Zhengzhou Zitian        | Zhengzhou Zitian        | China          | NA | 1 |  2.25 |  2.2500 | 0 | 218382716 | auto-renewal | unrealized | Not Renewd | 2019-07-31 |  6.0 |  4.64 | youhen                | 1 |  1 |  6 | l        | 6l         | tech    |  0.81093022 | techzhengzhou zitian         | 0.957 | 0.7270511 |    NA | 0.6360283 | 0.540 | 0.79759728 | NA | NA |\n",
       "| FirstTime | 1 | 2019-07-20 | 2018-07-20 | Active |  72570834 | merino.pw                   | Mesh Digital            | HostEurope              | Germany        | NA | 1 |  6.00 |  6.0000 | 0 | 210057756 | renewal      | NA         | Renewed    | 2019-06-20 | 15.0 | 13.82 | merino                | 1 |  1 |  6 | l        | 6l         | pw      |  1.79175947 | pwhosteurope                 | 0.708 | 0.6851074 |    NA | 0.6368430 | 0.974 | 0.91915490 | NA | NA |\n",
       "| FirstTime | 1 | 2020-08-15 | 2019-08-15 | Active | 118048911 | unitednet-design.website    | United Domains          | Alfahosting             | Germany        | NA | 1 | 15.00 | 15.0000 | 0 | 337655644 | auto-renewal | realized   | Renewed    | 2020-08-15 | 15.0 |  3.10 | unitednet-design      | 1 |  1 | 16 | hyphen-l | 16hyphen-l | website |  2.70805020 | websitealfahosting           | 0.688 | 0.8366708 |    NA | 0.5640029 | 0.756 | 0.94420956 | NA | NA |\n",
       "| FirstTime | 1 | 2019-09-26 | 2018-09-26 | Active |  77531224 | kosten.site                 | Key-Systems             | Compra                  | Netherlands    | NA | 1 |  5.00 |  5.0000 | 0 | 234417531 | auto-renewal | unrealized | Not Renewd | 2019-09-26 | 20.0 |  6.01 | kosten                | 1 |  1 |  6 | l        | 6l         | site    |  1.60943791 | sitecompra                   | 0.000 | 0.1650235 |    NA | 0.5973271 |    NA | 0.00000000 | NA | NA |\n",
       "| FirstTime | 1 | 2020-04-05 | 2019-04-05 | Active |  99009174 | webplaneta.press            | Registrator Domenov     | Registrator Domenov     | Russia         | NA | 1 | 49.00 | 49.0000 | 0 | 289165811 | renewal      | NA         | Renewed    | 2020-02-05 | 49.0 |  2.81 | webplaneta            | 1 |  1 | 10 | l        | 10l        | press   |  3.89182030 | pressregistrator domenov     | 0.155 | 0.4753756 |    NA | 0.7275313 | 0.414 | 0.46489889 | NA | NA |\n",
       "| FirstTime | 1 | 2019-12-06 | 2018-12-06 | Active |  86079062 | futureclient.website        | Tucows                  | Siteground              | Bulgaria       | NA | 1 |  5.00 |  5.0000 | 0 | 262682376 | renewal      | NA         | Renewed    | 2019-12-06 | 15.0 |  6.73 | futureclient          | 1 |  1 | 12 | l        | 12l        | website |  1.60943791 | websitesiteground            | 0.470 | 0.6328508 |    NA | 0.6251516 | 0.591 | 0.74349849 | NA | NA |\n",
       "| FirstTime | 1 | 2020-04-29 | 2019-04-29 | Active | 102386359 | ahlatlibel.site             | Tucows                  | Markum                  | Indonesia      | NA | 1 |  6.00 |  6.0000 | 0 | 311399469 | renewal      | NA         | Renewed    | 2020-04-27 | 20.0 |  2.42 | ahlatlibel            | 1 |  1 | 10 | l        | 10l        | site    |  1.79175947 | sitemarkum                   | 0.729 | 0.6593500 |    NA | 0.6145744 |    NA |         NA | NA | NA |\n",
       "| FirstTime | 1 | 2019-07-31 | 2018-07-31 | Active |  73230044 | rcawireless.tech            | eNom                    | EUKHost                 | United Kingdom | NA | 1 | 12.00 | 12.0000 | 0 | 218471321 | auto-renewal | unrealized | Not Renewd | 2019-07-31 | 35.0 |  5.92 | rcawireless           | 1 |  1 | 11 | l        | 11l        | tech    |  2.48490665 | techeukhost                  | 0.518 | 0.5672919 |    NA | 0.7812017 | 0.147 | 0.29662500 | NA | NA |\n",
       "| FirstTime | 1 | 2019-08-07 | 2018-08-07 | Active |  73786199 | talktalkplc.press           | Ascio                   | Ascio                   | Denmark        | NA | 1 |  7.00 |  7.0000 | 0 | 213695661 | renewal      | NA         | Renewed    | 2019-07-08 | 49.0 |  1.28 | talktalkplc           | 1 |  1 | 11 | l        | 11l        | press   |  1.94591015 | pressascio                   | 0.396 | 0.6822090 |    NA | 0.7433086 | 0.605 | 0.93365079 | NA | NA |\n",
       "| FirstTime | 1 | 2020-04-08 | 2019-04-08 | Active |  99243829 | heterodox.press             | Tucows                  | EasyDNS                 | Canada         | NA | 1 | 49.00 | 49.0000 | 0 | 304376229 | renewal      | NA         | Renewed    | 2020-04-02 | 49.0 |  4.41 | heterodox             | 1 |  1 |  9 | l        | 9l         | press   |  3.89182030 | presseasydns                 | 0.332 | 0.4480044 |    NA | 0.5961707 | 0.203 | 0.71439422 | NA | NA |\n",
       "| FirstTime | 1 | 2020-06-18 | 2019-06-18 | Active | 108660061 | creations2020.pw            | PDR Ltd                 | Impreza                 | Nigeria        | NA | 1 |  0.50 |  0.5000 | 0 | 322982304 | auto-renewal | unrealized | Not Renewd | 2020-06-18 | 15.0 |  8.53 | creations2020         | 1 |  1 | 13 | ln       | 13ln       | pw      | -0.69314718 | pwimpreza                    | 0.006 | 0.1491183 |    NA | 0.5753531 | 0.000 | 0.15961663 | NA | NA |\n",
       "| FirstTime | 1 | 2019-06-11 | 2018-06-11 | Active |  69834100 | chillfest.fun               | Webnames                | Webnames                | Canada         | NA | 1 | 15.00 | 15.0000 | 0 | 207730351 | auto-renewal | unrealized | Not Renewd | 2019-06-11 | 15.0 |  7.92 | chillfest             | 1 |  1 |  9 | l        | 9l         | fun     |  2.70805020 | funwebnames                  | 0.271 | 0.5920338 |    NA | 0.6103056 | 0.446 | 0.47993068 | NA | NA |\n",
       "| FirstTime | 1 | 2020-05-31 | 2019-05-31 | Active | 105762741 | nijmegen.website            | Key-Systems             | Neostrada               | Netherlands    | NA | 1 | 10.00 | 10.0000 | 0 | 319090934 | auto-renewal | realized   | Renewed    | 2020-05-31 | 15.0 |  1.26 | nijmegen              | 1 |  1 |  8 | l        | 8l         | website |  2.30258509 | websiteneostrada             | 0.552 | 0.6894393 |    NA | 0.6001310 | 0.514 | 0.55410756 | NA | NA |\n",
       "| FirstTime | 1 | 2019-07-15 | 2018-07-15 | Active |  72123374 | bosberaad.website           | Key-Systems             | Neostrada               | Netherlands    | NA | 1 |  4.00 |  4.0000 | 0 | 215156396 | auto-renewal | realized   | Renewed    | 2019-07-15 | 15.0 |  2.60 | bosberaad             | 1 |  1 |  9 | l        | 9l         | website |  1.38629436 | websiteneostrada             | 0.543 | 0.6123546 |    NA | 0.6112665 | 0.567 | 0.76329629 | NA | NA |\n",
       "| FirstTime | 1 | 2019-10-30 | 2018-10-30 | Active |  80956989 | printxpress.in.net          | OwnRegistrar            | OwnRegistrar            | India          | NA | 1 |  6.00 |  6.0000 | 0 | 245484370 | auto-renewal | unrealized | Not Renewd | 2019-10-30 |  6.0 |  6.15 | printxpress           | 1 |  1 | 11 | l        | 11l        | in.net  |  1.79175947 | in.netownregistrar           | 0.366 | 0.5997195 |    NA | 0.5927023 | 0.864 | 0.51476187 | NA | NA |\n",
       "| FirstTime | 1 | 2020-07-24 | 2019-07-24 | Active | 113944656 | littlelion.space            | PDR Ltd                 | Guzel Hosting           | Turkey         | NA | 1 |  0.50 |  0.5000 | 0 | 331882189 | auto-renewal | unrealized | Not Renewd | 2020-07-24 | 15.0 |  6.54 | littlelion            | 1 |  1 | 10 | l        | 10l        | space   | -0.69314718 | spaceguzel hosting           | 0.038 | 0.1223125 |    NA | 0.5811143 | 0.058 | 0.04018261 | NA | NA |\n",
       "| FirstTime | 1 | 2020-02-06 | 2019-02-06 | Active |  93010773 | parliamentary.press         | PDR Ltd                 | BigRock                 | India          | NA | 1 |  6.00 |  6.0000 | 0 | 289439061 | auto-renewal | unrealized | Not Renewd | 2020-02-06 | 49.0 |  6.19 | parliamentary         | 1 |  1 | 13 | l        | 13l        | press   |  1.79175947 | pressbigrock                 | 0.049 | 0.2166930 | 0.038 | 0.3034804 | 0.122 | 0.24535632 | NA | NA |\n",
       "| FirstTime | 1 | 2020-08-18 | 2019-08-18 | Active | 118462681 | indoamericanpressclub.press | PDR Ltd                 | BigRock                 | India          | NA | 1 |  6.00 |  6.0000 | 0 | 338353614 | auto-renewal | unrealized | Not Renewd | 2020-08-18 | 49.0 |  5.47 | indoamericanpressclub | 1 |  1 | 21 | l        | 21l        | press   |  1.79175947 | pressbigrock                 | 0.043 | 0.2379831 | 0.033 | 0.2704060 | 0.089 | 0.26639695 | NA | NA |\n",
       "| FirstTime | 1 | 2019-07-23 | 2018-07-23 | Active |  72691074 | daton.tech                  | Inames                  | Inames                  | Korea          | NA | 1 | 35.00 | 35.0000 | 0 | 216782261 | auto-renewal | unrealized | Not Renewd | 2019-07-23 | 35.0 |  8.69 | daton                 | 1 |  1 |  5 | l        | 5l         | tech    |  3.55534806 | techinames                   | 0.000 | 0.2164483 |    NA | 0.8468427 |    NA | 0.00000000 | NA | NA |\n",
       "| FirstTime | 1 | 2020-06-11 | 2019-06-11 | Active | 107426936 | webix-dev.host              | Tucows                  | Check Domain            | Germany        | NA | 1 | 65.00 | 65.0000 | 0 | 321311914 | renewal      | NA         | Renewed    | 2020-06-11 | 65.0 |  1.32 | webix-dev             | 1 |  1 |  9 | hyphen-l | 9hyphen-l  | host    |  4.17438727 | hostcheck domain             | 0.354 | 0.4555586 |    NA | 0.5685879 | 0.788 | 0.88573523 | NA | NA |\n",
       "| FirstTime | 1 | 2020-01-23 | 2019-01-23 | Active |  91704323 | skateworld.store            | Tecnocratica Centro     | Tecnocratica Centro     | Spain          | NA | 1 |  6.00 |  6.0000 | 0 | 284086486 | auto-renewal | unrealized | Not Renewd | 2020-01-23 | 40.0 |  3.81 | skateworld            | 1 |  1 | 10 | l        | 10l        | store   |  1.79175947 | storetecnocratica centro     | 0.801 | 0.7428275 |    NA | 0.7708989 | 0.769 | 0.76734804 | NA | NA |\n",
       "| FirstTime | 1 | 2019-06-27 | 2018-06-27 | Active |  71082385 | mondonauts.space            | COREhub                 | COREhub                 | Spain          | NA | 1 |  6.00 |  6.0000 | 0 | 211891596 | auto-renewal | realized   | Renewed    | 2019-06-27 | 15.0 |  6.78 | mondonauts            | 1 |  1 | 10 | l        | 10l        | space   |  1.79175947 | spacecorehub                 | 0.958 | 0.9664041 |    NA | 0.7293035 | 0.951 | 0.97395632 | NA | NA |\n",
       "| FirstTime | 1 | 2019-06-30 | 2017-06-30 | Active |  49087574 | geovis.store                | ShenZhen HuLianXianFeng | ShenZhen HuLianXianFeng | China          | NA | 2 |  7.50 |  3.7500 | 0 | 192437064 | transfer     | NA         | Renewed    | 2019-03-25 |  7.0 |  5.41 | geovis                | 1 |  1 |  6 | l        | 6l         | store   |  1.32175584 | storeshenzhen hulianxianfeng | 0.105 | 0.3228792 |    NA | 0.7141210 | 1.000 | 0.30977381 | NA | NA |\n",
       "| FirstTime | 1 | 2019-07-08 | 2018-07-08 | Active |  71594045 | acmest.online               | Whois Networks          | Whois Networks          | Korea          | NA | 1 | 25.00 | 25.0000 | 0 | 213832106 | auto-renewal | unrealized | Not Renewd | 2019-07-08 | 25.0 |  2.88 | acmest                | 1 |  1 |  6 | l        | 6l         | online  |  3.21887582 | onlinewhois networks         | 0.408 | 0.5699284 |    NA | 0.9276133 | 0.444 | 0.58723209 | NA | NA |\n",
       "| FirstTime | 1 | 2020-05-07 | 2019-05-07 | Active | 102955459 | konvini.store               | Inames                  | Inames                  | Korea          | NA | 1 | 40.00 | 40.0000 | 0 | 313667909 | auto-renewal | unrealized | Not Renewd | 2020-05-07 | 40.0 |  5.59 | konvini               | 1 |  1 |  7 | l        | 7l         | store   |  3.68887945 | storeinames                  | 0.000 | 0.2070983 |    NA | 0.8658228 |    NA | 0.00000000 | NA | NA |\n",
       "| FirstTime | 1 | 2020-02-11 | 2019-02-11 | Active |  93333378 | dyham.press                 | Webnames                | Webnames                | Canada         | NA | 1 | 49.00 | 49.0000 | 0 | 290654076 | auto-renewal | unrealized | Not Renewd | 2020-02-11 | 49.0 |  1.27 | dyham                 | 1 |  1 |  5 | l        | 5l         | press   |  3.89182030 | presswebnames                | 0.265 | 0.3899154 |    NA | 0.7706898 | 0.440 | 0.35025719 | NA | NA |\n",
       "| FirstTime | 1 | 2019-07-05 | 2018-07-05 | Active |  71440360 | mellanox.store              | Domain The Net          | Domain The Net          | Israel         | NA | 1 | 40.00 | 40.0000 | 0 | 200279144 | renewal      | NA         | Renewed    | 2019-05-06 | 40.0 |  5.54 | mellanox              | 1 |  1 |  8 | l        | 8l         | store   |  3.68887945 | storedomain the net          | 0.766 | 0.4828190 |    NA | 0.8681941 | 0.977 | 0.89065952 | NA | NA |\n",
       "| FirstTime | 1 | 2019-11-07 | 2018-11-07 | Active |  82102184 | ceat.press                  | 1&amp;1 Internet            | Arsys                   | Spain          | NA | 1 | 49.00 | 49.0000 | 0 | 248366815 | auto-renewal | realized   | Renewed    | 2019-11-07 | 49.0 | 10.44 | ceat                  | 1 |  1 |  4 | l        | 4l         | press   |  3.89182030 | pressarsys                   | 0.489 | 0.6627434 |    NA | 0.8305129 | 0.541 | 0.75187841 | NA | NA |\n",
       "| FirstTime | 1 | 2019-07-05 | 2018-07-05 | Active |  71455605 | crt.host                    | PDR Ltd                 | Redehost                | Brazil         | NA | 1 |  3.00 |  3.0000 | 0 | 213418891 | auto-renewal | unrealized | Not Renewd | 2019-07-05 | 65.0 |  3.67 | crt                   | 1 |  1 |  3 | l        | 3l         | host    |  1.09861229 | hostredehost                 | 0.091 | 0.3858803 |    NA | 0.6396910 | 0.217 | 0.45188043 | NA | NA |\n",
       "| FirstTime | 1 | 2019-07-01 | 2018-07-01 | Active |  71238585 | musictechnology.press       | Key-Systems             | Home.pl                 | Poland         | NA | 1 | 49.00 | 49.0000 | 0 | 211150046 | renewal      | NA         | Renewed    | 2019-06-24 | 49.0 |  3.29 | musictechnology       | 1 |  1 | 15 | l        | 15l        | press   |  3.89182030 | presshome.pl                 | 0.072 | 0.5678307 | 0.047 | 0.2043780 | 0.363 | 0.77135019 | NA | NA |\n",
       "| FirstTime | 1 | 2019-08-28 | 2018-08-28 | Active |  75267554 | machineseeker.site          | Gransy                  | Webonic                 | Hungary        | NA | 1 | 20.00 | 20.0000 | 0 | 222082036 | renewal      | NA         | Renewed    | 2019-08-14 | 20.0 |  7.37 | machineseeker         | 1 |  1 | 13 | l        | 13l        | site    |  2.99573227 | sitewebonic                  | 0.634 | 0.8043772 |    NA | 0.5871087 | 1.000 | 0.76100000 | NA | NA |\n",
       "\n"
      ],
      "text/plain": [
       "   renewal_type renewed_count expiry_date creation_date status domain_id\n",
       "1  FirstTime    1             2019-06-14  2018-06-14    Active  70181780\n",
       "2  FirstTime    1             2020-05-17  2019-05-17    Active 103906916\n",
       "3  FirstTime    1             2019-10-05  2018-10-05    Active  78360794\n",
       "4  FirstTime    1             2020-08-30  2019-08-30    Active 122049036\n",
       "5  FirstTime    1             2019-08-15  2018-08-15    Active  74267354\n",
       "6  FirstTime    1             2020-04-22  2019-04-22    Active 101141084\n",
       "7  FirstTime    1             2019-06-27  2018-06-27    Active  71066905\n",
       "8  FirstTime    1             2019-11-19  2018-11-19    Active  83956614\n",
       "9  FirstTime    1             2020-08-07  2019-08-07    Active 116039006\n",
       "10 FirstTime    1             2019-11-09  2018-11-09    Active  82321649\n",
       "11 FirstTime    1             2019-10-04  2018-10-04    Active  78253334\n",
       "12 FirstTime    1             2019-08-07  2018-08-07    Active  73736289\n",
       "13 FirstTime    1             2020-01-25  2019-01-25    Active  91900703\n",
       "14 FirstTime    1             2020-03-27  2019-03-27    Active  98114119\n",
       "15 FirstTime    1             2020-05-19  2019-05-19    Active 104026606\n",
       "16 FirstTime    1             2020-04-22  2019-04-22    Active 101088999\n",
       "17 FirstTime    1             2020-02-05  2019-02-05    Active  92905248\n",
       "18 FirstTime    1             2020-05-26  2019-05-26    Active 104968651\n",
       "19 FirstTime    1             2019-06-12  2018-06-12    Active  69902250\n",
       "20 FirstTime    1             2019-09-29  2018-09-29    Active  77731294\n",
       "21 FirstTime    1             2019-10-09  2018-10-09    Active  78686599\n",
       "22 FirstTime    1             2019-08-04  2018-08-04    Active  73576899\n",
       "23 FirstTime    1             2020-05-24  2017-05-24    Active  48026450\n",
       "24 FirstTime    1             2019-12-19  2018-12-19    Active  88054102\n",
       "25 FirstTime    1             2020-06-17  2019-06-17    Active 108131151\n",
       "26 FirstTime    1             2019-09-17  2018-09-17    Active  76806449\n",
       "27 FirstTime    1             2019-11-19  2018-11-19    Active  83956624\n",
       "28 FirstTime    1             2019-07-31  2018-07-31    Active  73141264\n",
       "29 FirstTime    1             2019-07-20  2018-07-20    Active  72570834\n",
       "30 FirstTime    1             2020-08-15  2019-08-15    Active 118048911\n",
       "31 FirstTime    1             2019-09-26  2018-09-26    Active  77531224\n",
       "32 FirstTime    1             2020-04-05  2019-04-05    Active  99009174\n",
       "33 FirstTime    1             2019-12-06  2018-12-06    Active  86079062\n",
       "34 FirstTime    1             2020-04-29  2019-04-29    Active 102386359\n",
       "35 FirstTime    1             2019-07-31  2018-07-31    Active  73230044\n",
       "36 FirstTime    1             2019-08-07  2018-08-07    Active  73786199\n",
       "37 FirstTime    1             2020-04-08  2019-04-08    Active  99243829\n",
       "38 FirstTime    1             2020-06-18  2019-06-18    Active 108660061\n",
       "39 FirstTime    1             2019-06-11  2018-06-11    Active  69834100\n",
       "40 FirstTime    1             2020-05-31  2019-05-31    Active 105762741\n",
       "41 FirstTime    1             2019-07-15  2018-07-15    Active  72123374\n",
       "42 FirstTime    1             2019-10-30  2018-10-30    Active  80956989\n",
       "43 FirstTime    1             2020-07-24  2019-07-24    Active 113944656\n",
       "44 FirstTime    1             2020-02-06  2019-02-06    Active  93010773\n",
       "45 FirstTime    1             2020-08-18  2019-08-18    Active 118462681\n",
       "46 FirstTime    1             2019-07-23  2018-07-23    Active  72691074\n",
       "47 FirstTime    1             2020-06-11  2019-06-11    Active 107426936\n",
       "48 FirstTime    1             2020-01-23  2019-01-23    Active  91704323\n",
       "49 FirstTime    1             2019-06-27  2018-06-27    Active  71082385\n",
       "50 FirstTime    1             2019-06-30  2017-06-30    Active  49087574\n",
       "51 FirstTime    1             2019-07-08  2018-07-08    Active  71594045\n",
       "52 FirstTime    1             2020-05-07  2019-05-07    Active 102955459\n",
       "53 FirstTime    1             2020-02-11  2019-02-11    Active  93333378\n",
       "54 FirstTime    1             2019-07-05  2018-07-05    Active  71440360\n",
       "55 FirstTime    1             2019-11-07  2018-11-07    Active  82102184\n",
       "56 FirstTime    1             2019-07-05  2018-07-05    Active  71455605\n",
       "57 FirstTime    1             2019-07-01  2018-07-01    Active  71238585\n",
       "58 FirstTime    1             2019-08-28  2018-08-28    Active  75267554\n",
       "   domain                      registrar               reseller               \n",
       "1  steibei.space               Internet GmbH           Internet GmbH          \n",
       "2  wingtsun.space              Internet GmbH           Internet GmbH          \n",
       "3  sfmart.store                PDR Ltd                 Arvixe                 \n",
       "4  qianxiyun.online                                                           \n",
       "5  ontarioart.space            Register.ca             Register.ca            \n",
       "6  ziprecruiter.press          NICENIC                 NICENIC                \n",
       "7  allmaker.space              1&1 Internet            Arsys                  \n",
       "8  frogjuggler.online          Imperial Registrations  Imperial Registrations \n",
       "9  fh1.site                    NetClues                NetClues               \n",
       "10 antispamgw.host             Realtime Register       Realtime Register      \n",
       "11 lokal.host                  Realtime Register       Realtime Register      \n",
       "12 firstdesign.website         Mesh Digital            Heart Internet         \n",
       "13 sems.site                   Whois Networks          Whois Networks         \n",
       "14 tevec.store                 Global Village          Global Village         \n",
       "15 sevensins.fun               DNC Holdings            DNC Holdings           \n",
       "16 eska.store                  Jogjacamp               Jogjacamp              \n",
       "17 compra.store                Key-Systems             Compra                 \n",
       "18 sysadmins.fun               Tecnocratica Centro     Tecnocratica Centro    \n",
       "19 bohemechic.store            Planet Hoster           Planet Hoster          \n",
       "20 filetmignon.store           Planet Hoster           Planet Hoster          \n",
       "21 whiteley.tech               Freeparking             Freeparking            \n",
       "22 altenen.pw                  Web4Africa              Web4Africa             \n",
       "23 cicada.pw                   PDR Ltd                 Bluehost               \n",
       "24 baodou.pw                   PDR Ltd                 Bluehost               \n",
       "25 marketingshop.space         OwnRegistrar            OwnRegistrar           \n",
       "26 gamingwithprose.fun         Lexsynergy              Lexsynergy             \n",
       "27 frogjuggler.site            Imperial Registrations  Imperial Registrations \n",
       "28 youhen.tech                 Zhengzhou Zitian        Zhengzhou Zitian       \n",
       "29 merino.pw                   Mesh Digital            HostEurope             \n",
       "30 unitednet-design.website    United Domains          Alfahosting            \n",
       "31 kosten.site                 Key-Systems             Compra                 \n",
       "32 webplaneta.press            Registrator Domenov     Registrator Domenov    \n",
       "33 futureclient.website        Tucows                  Siteground             \n",
       "34 ahlatlibel.site             Tucows                  Markum                 \n",
       "35 rcawireless.tech            eNom                    EUKHost                \n",
       "36 talktalkplc.press           Ascio                   Ascio                  \n",
       "37 heterodox.press             Tucows                  EasyDNS                \n",
       "38 creations2020.pw            PDR Ltd                 Impreza                \n",
       "39 chillfest.fun               Webnames                Webnames               \n",
       "40 nijmegen.website            Key-Systems             Neostrada              \n",
       "41 bosberaad.website           Key-Systems             Neostrada              \n",
       "42 printxpress.in.net          OwnRegistrar            OwnRegistrar           \n",
       "43 littlelion.space            PDR Ltd                 Guzel Hosting          \n",
       "44 parliamentary.press         PDR Ltd                 BigRock                \n",
       "45 indoamericanpressclub.press PDR Ltd                 BigRock                \n",
       "46 daton.tech                  Inames                  Inames                 \n",
       "47 webix-dev.host              Tucows                  Check Domain           \n",
       "48 skateworld.store            Tecnocratica Centro     Tecnocratica Centro    \n",
       "49 mondonauts.space            COREhub                 COREhub                \n",
       "50 geovis.store                ShenZhen HuLianXianFeng ShenZhen HuLianXianFeng\n",
       "51 acmest.online               Whois Networks          Whois Networks         \n",
       "52 konvini.store               Inames                  Inames                 \n",
       "53 dyham.press                 Webnames                Webnames               \n",
       "54 mellanox.store              Domain The Net          Domain The Net         \n",
       "55 ceat.press                  1&1 Internet            Arsys                  \n",
       "56 crt.host                    PDR Ltd                 Redehost               \n",
       "57 musictechnology.press       Key-Systems             Home.pl                \n",
       "58 machineseeker.site          Gransy                  Webonic                \n",
       "   reseller_country registrant_country reg_period reg_revenue reg_arpt\n",
       "1  Germany          NA                 1           6.00        6.0000 \n",
       "2  Germany          NA                 1          15.00       15.0000 \n",
       "3  United States    NA                 1           6.50        6.5000 \n",
       "4                   NA                 1          25.00       25.0000 \n",
       "5  Canada           NA                 1           6.00        6.0000 \n",
       "6  Hong Kong        NA                 1           1.08        1.0800 \n",
       "7  Spain            NA                 1           1.00        1.0000 \n",
       "8  United States    NA                 1          25.00       25.0000 \n",
       "9                   NA                 1           0.00        0.0001 \n",
       "10 Netherlands      NA                 1          65.00       65.0000 \n",
       "11 Netherlands      NA                 1          65.00       65.0000 \n",
       "12 United Kingdom   NA                 1           0.80        0.8000 \n",
       "13 Korea            NA                 1          20.00       20.0000 \n",
       "14 Germany          NA                 1          40.00       40.0000 \n",
       "15 United States    NA                 1          15.00       15.0000 \n",
       "16 Indonesia        NA                 1           2.50        2.5000 \n",
       "17 Netherlands      NA                 1           3.00        3.0000 \n",
       "18 Spain            NA                 1          15.00       15.0000 \n",
       "19 Canada           NA                 1          40.00       40.0000 \n",
       "20 Canada           NA                 1          40.00       40.0000 \n",
       "21 United Kingdom   NA                 1          35.00       35.0000 \n",
       "22 South Africa     NA                 1           6.00        6.0000 \n",
       "23 United States    NA                 3          12.50        4.1700 \n",
       "24 United States    NA                 1           0.50        0.5000 \n",
       "25                  NA                 1           3.00        3.0000 \n",
       "26 United Kingdom   NA                 1          15.00       15.0000 \n",
       "27 United States    NA                 1          20.00       20.0000 \n",
       "28 China            NA                 1           2.25        2.2500 \n",
       "29 Germany          NA                 1           6.00        6.0000 \n",
       "30 Germany          NA                 1          15.00       15.0000 \n",
       "31 Netherlands      NA                 1           5.00        5.0000 \n",
       "32 Russia           NA                 1          49.00       49.0000 \n",
       "33 Bulgaria         NA                 1           5.00        5.0000 \n",
       "34 Indonesia        NA                 1           6.00        6.0000 \n",
       "35 United Kingdom   NA                 1          12.00       12.0000 \n",
       "36 Denmark          NA                 1           7.00        7.0000 \n",
       "37 Canada           NA                 1          49.00       49.0000 \n",
       "38 Nigeria          NA                 1           0.50        0.5000 \n",
       "39 Canada           NA                 1          15.00       15.0000 \n",
       "40 Netherlands      NA                 1          10.00       10.0000 \n",
       "41 Netherlands      NA                 1           4.00        4.0000 \n",
       "42 India            NA                 1           6.00        6.0000 \n",
       "43 Turkey           NA                 1           0.50        0.5000 \n",
       "44 India            NA                 1           6.00        6.0000 \n",
       "45 India            NA                 1           6.00        6.0000 \n",
       "46 Korea            NA                 1          35.00       35.0000 \n",
       "47 Germany          NA                 1          65.00       65.0000 \n",
       "48 Spain            NA                 1           6.00        6.0000 \n",
       "49 Spain            NA                 1           6.00        6.0000 \n",
       "50 China            NA                 2           7.50        3.7500 \n",
       "51 Korea            NA                 1          25.00       25.0000 \n",
       "52 Korea            NA                 1          40.00       40.0000 \n",
       "53 Canada           NA                 1          49.00       49.0000 \n",
       "54 Israel           NA                 1          40.00       40.0000 \n",
       "55 Spain            NA                 1          49.00       49.0000 \n",
       "56 Brazil           NA                 1           3.00        3.0000 \n",
       "57 Poland           NA                 1          49.00       49.0000 \n",
       "58 Hungary          NA                 1          20.00       20.0000 \n",
       "   renew_mbg renewal_item_id renew_type   autorenew_type renewal_status\n",
       "1  0         208493821       auto-renewal realized       Renewed       \n",
       "2  0         315625244       auto-renewal realized       Renewed       \n",
       "3  0         235884471       renewal      NA             Renewed       \n",
       "4  0         341703158       auto-renewal unrealized     Not Renewd    \n",
       "5  0         222880706       auto-renewal unrealized     Not Renewd    \n",
       "6  0         295236384       transfer     NA             Renewed       \n",
       "7  0         211876061       auto-renewal unrealized     Not Renewd    \n",
       "8  0         256244725       auto-renewal unrealized     Not Renewd    \n",
       "9  0         335679829       auto-renewal realized       Renewed       \n",
       "10 0         238730925       renewal      NA             Renewed       \n",
       "11 0         236006436       renewal      NA             Renewed       \n",
       "12 0         218843026       renewal      NA             Renewed       \n",
       "13 0         283009471       renewal      NA             Renewed       \n",
       "14 0                 0       NA           NA             Not Renewd    \n",
       "15 0         316084664       auto-renewal unrealized     Not Renewd    \n",
       "16 0         309859364       auto-renewal unrealized     Not Renewd    \n",
       "17 0         289269716       auto-renewal realized       Renewed       \n",
       "18 0         315829289       renewal      NA             Renewed       \n",
       "19 0         207608691       renewal      NA             Renewed       \n",
       "20 0         235473511       auto-renewal realized       Renewed       \n",
       "21 0         224135771       renewal      NA             Renewed       \n",
       "22 0         219276076       auto-renewal unrealized     Not Renewd    \n",
       "23 0         317208689       auto-renewal NA             Not Renewd    \n",
       "24 0         265555511       renewal      NA             Renewed       \n",
       "25 0         322847614       auto-renewal unrealized     Not Renewd    \n",
       "26 0         231821101       auto-renewal unrealized     Not Renewd    \n",
       "27 0         256244735       auto-renewal unrealized     Not Renewd    \n",
       "28 0         218382716       auto-renewal unrealized     Not Renewd    \n",
       "29 0         210057756       renewal      NA             Renewed       \n",
       "30 0         337655644       auto-renewal realized       Renewed       \n",
       "31 0         234417531       auto-renewal unrealized     Not Renewd    \n",
       "32 0         289165811       renewal      NA             Renewed       \n",
       "33 0         262682376       renewal      NA             Renewed       \n",
       "34 0         311399469       renewal      NA             Renewed       \n",
       "35 0         218471321       auto-renewal unrealized     Not Renewd    \n",
       "36 0         213695661       renewal      NA             Renewed       \n",
       "37 0         304376229       renewal      NA             Renewed       \n",
       "38 0         322982304       auto-renewal unrealized     Not Renewd    \n",
       "39 0         207730351       auto-renewal unrealized     Not Renewd    \n",
       "40 0         319090934       auto-renewal realized       Renewed       \n",
       "41 0         215156396       auto-renewal realized       Renewed       \n",
       "42 0         245484370       auto-renewal unrealized     Not Renewd    \n",
       "43 0         331882189       auto-renewal unrealized     Not Renewd    \n",
       "44 0         289439061       auto-renewal unrealized     Not Renewd    \n",
       "45 0         338353614       auto-renewal unrealized     Not Renewd    \n",
       "46 0         216782261       auto-renewal unrealized     Not Renewd    \n",
       "47 0         321311914       renewal      NA             Renewed       \n",
       "48 0         284086486       auto-renewal unrealized     Not Renewd    \n",
       "49 0         211891596       auto-renewal realized       Renewed       \n",
       "50 0         192437064       transfer     NA             Renewed       \n",
       "51 0         213832106       auto-renewal unrealized     Not Renewd    \n",
       "52 0         313667909       auto-renewal unrealized     Not Renewd    \n",
       "53 0         290654076       auto-renewal unrealized     Not Renewd    \n",
       "54 0         200279144       renewal      NA             Renewed       \n",
       "55 0         248366815       auto-renewal realized       Renewed       \n",
       "56 0         213418891       auto-renewal unrealized     Not Renewd    \n",
       "57 0         211150046       renewal      NA             Renewed       \n",
       "58 0         222082036       renewal      NA             Renewed       \n",
       "   renew_date renew_arpt gibb_score pattern               pattern_domain_count\n",
       "1  2019-06-14 15.0        4.02      steibei               1                   \n",
       "2  2020-05-17 15.0        6.48      wingtsun              1                   \n",
       "3  2019-10-01 26.5        1.15      sfmart                1                   \n",
       "4  2020-08-30  6.0        0.63      qianxiyun             1                   \n",
       "5  2019-08-15 15.0        6.11      ontarioart            1                   \n",
       "6  2020-02-26 49.0        5.61      ziprecruiter          1                   \n",
       "7  2019-06-27  6.0        6.55      allmaker              1                   \n",
       "8  2019-11-19 25.0        2.98      frogjuggler           1                   \n",
       "9  2020-08-07 20.0        0.02      fh1                   1                   \n",
       "10 2019-10-10 65.0        2.09      antispamgw            1                   \n",
       "11 2019-10-01 65.0        3.87      lokal                 1                   \n",
       "12 2019-08-02 15.0        2.99      firstdesign           1                   \n",
       "13 2020-01-21 20.0        4.29      sems                  1                   \n",
       "14 <NA>         NA        6.92      tevec                 1                   \n",
       "15 2020-05-19 15.0        8.88      sevensins             1                   \n",
       "16 2020-04-22 40.0        2.83      eska                  1                   \n",
       "17 2020-02-05 40.0       10.07      compra                1                   \n",
       "18 2020-05-18 15.0        3.46      sysadmins             1                   \n",
       "19 2019-06-11 40.0        6.59      bohemechic            1                   \n",
       "20 2019-09-29 40.0        4.25      filetmignon           1                   \n",
       "21 2019-08-22 35.0        7.84      whiteley              1                   \n",
       "22 2019-08-04  0.0        6.97      altenen               1                   \n",
       "23 2020-05-24  6.0        5.42      cicada                1                   \n",
       "24 2019-12-12 15.0        1.85      baodou                2                   \n",
       "25 2020-06-17 15.0        6.32      marketingshop         1                   \n",
       "26 2019-09-17 15.0        4.43      gamingwithprose       1                   \n",
       "27 2019-11-19 20.0        2.98      frogjuggler           1                   \n",
       "28 2019-07-31  6.0        4.64      youhen                1                   \n",
       "29 2019-06-20 15.0       13.82      merino                1                   \n",
       "30 2020-08-15 15.0        3.10      unitednet-design      1                   \n",
       "31 2019-09-26 20.0        6.01      kosten                1                   \n",
       "32 2020-02-05 49.0        2.81      webplaneta            1                   \n",
       "33 2019-12-06 15.0        6.73      futureclient          1                   \n",
       "34 2020-04-27 20.0        2.42      ahlatlibel            1                   \n",
       "35 2019-07-31 35.0        5.92      rcawireless           1                   \n",
       "36 2019-07-08 49.0        1.28      talktalkplc           1                   \n",
       "37 2020-04-02 49.0        4.41      heterodox             1                   \n",
       "38 2020-06-18 15.0        8.53      creations2020         1                   \n",
       "39 2019-06-11 15.0        7.92      chillfest             1                   \n",
       "40 2020-05-31 15.0        1.26      nijmegen              1                   \n",
       "41 2019-07-15 15.0        2.60      bosberaad             1                   \n",
       "42 2019-10-30  6.0        6.15      printxpress           1                   \n",
       "43 2020-07-24 15.0        6.54      littlelion            1                   \n",
       "44 2020-02-06 49.0        6.19      parliamentary         1                   \n",
       "45 2020-08-18 49.0        5.47      indoamericanpressclub 1                   \n",
       "46 2019-07-23 35.0        8.69      daton                 1                   \n",
       "47 2020-06-11 65.0        1.32      webix-dev             1                   \n",
       "48 2020-01-23 40.0        3.81      skateworld            1                   \n",
       "49 2019-06-27 15.0        6.78      mondonauts            1                   \n",
       "50 2019-03-25  7.0        5.41      geovis                1                   \n",
       "51 2019-07-08 25.0        2.88      acmest                1                   \n",
       "52 2020-05-07 40.0        5.59      konvini               1                   \n",
       "53 2020-02-11 49.0        1.27      dyham                 1                   \n",
       "54 2019-05-06 40.0        5.54      mellanox              1                   \n",
       "55 2019-11-07 49.0       10.44      ceat                  1                   \n",
       "56 2019-07-05 65.0        3.67      crt                   1                   \n",
       "57 2019-06-24 49.0        3.29      musictechnology       1                   \n",
       "58 2019-08-14 20.0        7.37      machineseeker         1                   \n",
       "   day_domains sld_length sld_type sld_type2  tld     log_reg_arpt\n",
       "1   1           7         l        7l         space    1.79175947 \n",
       "2   1           8         l        8l         space    2.70805020 \n",
       "3   1           6         l        6l         store    1.87180218 \n",
       "4   1           9         l        9l         online   3.21887582 \n",
       "5   1          10         l        10l        space    1.79175947 \n",
       "6   1          12         l        12l        press    0.07696104 \n",
       "7   1           8         l        8l         space    0.00000000 \n",
       "8   1          11         l        11l        online   3.21887582 \n",
       "9   1           3         ln       3ln        site    -9.21034037 \n",
       "10  1          10         l        10l        host     4.17438727 \n",
       "11  1           5         l        5l         host     4.17438727 \n",
       "12  1          11         l        11l        website -0.22314355 \n",
       "13  1           4         l        4l         site     2.99573227 \n",
       "14  1           5         l        5l         store    3.68887945 \n",
       "15  1           9         l        9l         fun      2.70805020 \n",
       "16  1           4         l        4l         store    0.91629073 \n",
       "17  1           6         l        6l         store    1.09861229 \n",
       "18  1           9         l        9l         fun      2.70805020 \n",
       "19  1          10         l        10l        store    3.68887945 \n",
       "20  1          11         l        11l        store    3.68887945 \n",
       "21  1           8         l        8l         tech     3.55534806 \n",
       "22  1           7         l        7l         pw       1.79175947 \n",
       "23  1           6         l        6l         pw       1.42791604 \n",
       "24 25           6         l        6l         pw      -0.69314718 \n",
       "25  1          13         l        13l        space    1.09861229 \n",
       "26  1          15         l        15l        fun      2.70805020 \n",
       "27  1          11         l        11l        site     2.99573227 \n",
       "28  1           6         l        6l         tech     0.81093022 \n",
       "29  1           6         l        6l         pw       1.79175947 \n",
       "30  1          16         hyphen-l 16hyphen-l website  2.70805020 \n",
       "31  1           6         l        6l         site     1.60943791 \n",
       "32  1          10         l        10l        press    3.89182030 \n",
       "33  1          12         l        12l        website  1.60943791 \n",
       "34  1          10         l        10l        site     1.79175947 \n",
       "35  1          11         l        11l        tech     2.48490665 \n",
       "36  1          11         l        11l        press    1.94591015 \n",
       "37  1           9         l        9l         press    3.89182030 \n",
       "38  1          13         ln       13ln       pw      -0.69314718 \n",
       "39  1           9         l        9l         fun      2.70805020 \n",
       "40  1           8         l        8l         website  2.30258509 \n",
       "41  1           9         l        9l         website  1.38629436 \n",
       "42  1          11         l        11l        in.net   1.79175947 \n",
       "43  1          10         l        10l        space   -0.69314718 \n",
       "44  1          13         l        13l        press    1.79175947 \n",
       "45  1          21         l        21l        press    1.79175947 \n",
       "46  1           5         l        5l         tech     3.55534806 \n",
       "47  1           9         hyphen-l 9hyphen-l  host     4.17438727 \n",
       "48  1          10         l        10l        store    1.79175947 \n",
       "49  1          10         l        10l        space    1.79175947 \n",
       "50  1           6         l        6l         store    1.32175584 \n",
       "51  1           6         l        6l         online   3.21887582 \n",
       "52  1           7         l        7l         store    3.68887945 \n",
       "53  1           5         l        5l         press    3.89182030 \n",
       "54  1           8         l        8l         store    3.68887945 \n",
       "55  1           4         l        4l         press    3.89182030 \n",
       "56  1           3         l        3l         host     1.09861229 \n",
       "57  1          15         l        15l        press    3.89182030 \n",
       "58  1          13         l        13l        site     2.99573227 \n",
       "   tld_registrar_index          pred_agg_glm_ALL pred_agg_rf_ALL pred_agg_glm\n",
       "1  spaceinternet gmbh           0.920            0.9713886          NA       \n",
       "2  spaceinternet gmbh           0.924            0.9685702          NA       \n",
       "3  storearvixe                  0.000            0.2597214          NA       \n",
       "4  online                          NA            0.9550391          NA       \n",
       "5  spaceregister.ca                NA            0.9855667          NA       \n",
       "6  pressnicenic                 0.022            0.2796425          NA       \n",
       "7  spacearsys                   0.487            0.5107410          NA       \n",
       "8  onlineimperial registrations    NA            0.9948964          NA       \n",
       "9  sitenetclues                 0.000            0.1291702          NA       \n",
       "10 hostrealtime register        0.252            0.4590399       0.253       \n",
       "11 hostrealtime register        0.275            0.5426539       0.275       \n",
       "12 websiteheart internet        1.000            0.9309190          NA       \n",
       "13 sitewhois networks           0.293            0.7015172          NA       \n",
       "14 storeglobal village          1.000            0.9311672          NA       \n",
       "15 fundnc holdings              0.453            0.7781161          NA       \n",
       "16 storejogjacamp               0.052            0.3624642          NA       \n",
       "17 storecompra                  0.000            0.1588105          NA       \n",
       "18 funtecnocratica centro       0.666            0.6468300          NA       \n",
       "19 storeplanet hoster           0.931            0.9259644          NA       \n",
       "20 storeplanet hoster           0.927            0.9356569          NA       \n",
       "21 techfreeparking              0.671            0.6450379          NA       \n",
       "22 pwweb4africa                 0.035            0.3189241          NA       \n",
       "23 pwbluehost                   0.475            0.5378698       0.489       \n",
       "24 pwbluehost                   0.216            0.1154223       0.215       \n",
       "25 spaceownregistrar            0.325            0.8397940          NA       \n",
       "26 funlexsynergy                0.810            0.9250064          NA       \n",
       "27 siteimperial registrations      NA            0.9880768          NA       \n",
       "28 techzhengzhou zitian         0.957            0.7270511          NA       \n",
       "29 pwhosteurope                 0.708            0.6851074          NA       \n",
       "30 websitealfahosting           0.688            0.8366708          NA       \n",
       "31 sitecompra                   0.000            0.1650235          NA       \n",
       "32 pressregistrator domenov     0.155            0.4753756          NA       \n",
       "33 websitesiteground            0.470            0.6328508          NA       \n",
       "34 sitemarkum                   0.729            0.6593500          NA       \n",
       "35 techeukhost                  0.518            0.5672919          NA       \n",
       "36 pressascio                   0.396            0.6822090          NA       \n",
       "37 presseasydns                 0.332            0.4480044          NA       \n",
       "38 pwimpreza                    0.006            0.1491183          NA       \n",
       "39 funwebnames                  0.271            0.5920338          NA       \n",
       "40 websiteneostrada             0.552            0.6894393          NA       \n",
       "41 websiteneostrada             0.543            0.6123546          NA       \n",
       "42 in.netownregistrar           0.366            0.5997195          NA       \n",
       "43 spaceguzel hosting           0.038            0.1223125          NA       \n",
       "44 pressbigrock                 0.049            0.2166930       0.038       \n",
       "45 pressbigrock                 0.043            0.2379831       0.033       \n",
       "46 techinames                   0.000            0.2164483          NA       \n",
       "47 hostcheck domain             0.354            0.4555586          NA       \n",
       "48 storetecnocratica centro     0.801            0.7428275          NA       \n",
       "49 spacecorehub                 0.958            0.9664041          NA       \n",
       "50 storeshenzhen hulianxianfeng 0.105            0.3228792          NA       \n",
       "51 onlinewhois networks         0.408            0.5699284          NA       \n",
       "52 storeinames                  0.000            0.2070983          NA       \n",
       "53 presswebnames                0.265            0.3899154          NA       \n",
       "54 storedomain the net          0.766            0.4828190          NA       \n",
       "55 pressarsys                   0.489            0.6627434          NA       \n",
       "56 hostredehost                 0.091            0.3858803          NA       \n",
       "57 presshome.pl                 0.072            0.5678307       0.047       \n",
       "58 sitewebonic                  0.634            0.8043772          NA       \n",
       "   pred_agg_rf pred_seg_glm_ALL pred_seg_rf_ALL pred_seg2_glm_ALL\n",
       "1  0.7251219   0.975            0.98133698      NA               \n",
       "2  0.6956184   0.993            0.97838698      NA               \n",
       "3  0.7862930      NA                    NA      NA               \n",
       "4  0.7713468      NA                    NA      NA               \n",
       "5  0.7286549      NA                    NA      NA               \n",
       "6  0.5721173   0.093            0.30130160      NA               \n",
       "7  0.5963515   0.544            0.83162583      NA               \n",
       "8  0.8257238      NA                    NA      NA               \n",
       "9  0.5810059      NA                    NA      NA               \n",
       "10 0.5696194   0.904            0.64286641      NA               \n",
       "11 0.5710536   0.899            0.68472740      NA               \n",
       "12 0.5801021      NA                    NA      NA               \n",
       "13 0.6847056   0.756            0.74919041      NA               \n",
       "14 0.8359576      NA                    NA      NA               \n",
       "15 0.6297827   0.364            0.70470105      NA               \n",
       "16 0.7672393   0.046            0.45361957      NA               \n",
       "17 0.6993082      NA            0.00000000      NA               \n",
       "18 0.5789864   0.931            0.81458920      NA               \n",
       "19 0.7534841   1.000            0.82794164      NA               \n",
       "20 0.8306447   1.000            0.88134164      NA               \n",
       "21 0.8157455   0.382            0.66875220      NA               \n",
       "22 0.6318866   0.101            0.20175308      NA               \n",
       "23 0.6305815   1.000            0.56918952      NA               \n",
       "24 0.1802359   0.303            0.69303276      NA               \n",
       "25 0.7007593   0.017            0.40453092      NA               \n",
       "26 0.6166981   1.000            0.89775000      NA               \n",
       "27 0.5626476      NA                    NA      NA               \n",
       "28 0.6360283   0.540            0.79759728      NA               \n",
       "29 0.6368430   0.974            0.91915490      NA               \n",
       "30 0.5640029   0.756            0.94420956      NA               \n",
       "31 0.5973271      NA            0.00000000      NA               \n",
       "32 0.7275313   0.414            0.46489889      NA               \n",
       "33 0.6251516   0.591            0.74349849      NA               \n",
       "34 0.6145744      NA                    NA      NA               \n",
       "35 0.7812017   0.147            0.29662500      NA               \n",
       "36 0.7433086   0.605            0.93365079      NA               \n",
       "37 0.5961707   0.203            0.71439422      NA               \n",
       "38 0.5753531   0.000            0.15961663      NA               \n",
       "39 0.6103056   0.446            0.47993068      NA               \n",
       "40 0.6001310   0.514            0.55410756      NA               \n",
       "41 0.6112665   0.567            0.76329629      NA               \n",
       "42 0.5927023   0.864            0.51476187      NA               \n",
       "43 0.5811143   0.058            0.04018261      NA               \n",
       "44 0.3034804   0.122            0.24535632      NA               \n",
       "45 0.2704060   0.089            0.26639695      NA               \n",
       "46 0.8468427      NA            0.00000000      NA               \n",
       "47 0.5685879   0.788            0.88573523      NA               \n",
       "48 0.7708989   0.769            0.76734804      NA               \n",
       "49 0.7293035   0.951            0.97395632      NA               \n",
       "50 0.7141210   1.000            0.30977381      NA               \n",
       "51 0.9276133   0.444            0.58723209      NA               \n",
       "52 0.8658228      NA            0.00000000      NA               \n",
       "53 0.7706898   0.440            0.35025719      NA               \n",
       "54 0.8681941   0.977            0.89065952      NA               \n",
       "55 0.8305129   0.541            0.75187841      NA               \n",
       "56 0.6396910   0.217            0.45188043      NA               \n",
       "57 0.2043780   0.363            0.77135019      NA               \n",
       "58 0.5871087   1.000            0.76100000      NA               \n",
       "   pred_seg2_rf_ALL\n",
       "1  NA              \n",
       "2  NA              \n",
       "3  NA              \n",
       "4  NA              \n",
       "5  NA              \n",
       "6  NA              \n",
       "7  NA              \n",
       "8  NA              \n",
       "9  NA              \n",
       "10 NA              \n",
       "11 NA              \n",
       "12 NA              \n",
       "13 NA              \n",
       "14 NA              \n",
       "15 NA              \n",
       "16 NA              \n",
       "17 NA              \n",
       "18 NA              \n",
       "19 NA              \n",
       "20 NA              \n",
       "21 NA              \n",
       "22 NA              \n",
       "23 NA              \n",
       "24 NA              \n",
       "25 NA              \n",
       "26 NA              \n",
       "27 NA              \n",
       "28 NA              \n",
       "29 NA              \n",
       "30 NA              \n",
       "31 NA              \n",
       "32 NA              \n",
       "33 NA              \n",
       "34 NA              \n",
       "35 NA              \n",
       "36 NA              \n",
       "37 NA              \n",
       "38 NA              \n",
       "39 NA              \n",
       "40 NA              \n",
       "41 NA              \n",
       "42 NA              \n",
       "43 NA              \n",
       "44 NA              \n",
       "45 NA              \n",
       "46 NA              \n",
       "47 NA              \n",
       "48 NA              \n",
       "49 NA              \n",
       "50 NA              \n",
       "51 NA              \n",
       "52 NA              \n",
       "53 NA              \n",
       "54 NA              \n",
       "55 NA              \n",
       "56 NA              \n",
       "57 NA              \n",
       "58 NA              "
      ]
     },
     "metadata": {},
     "output_type": "display_data"
    }
   ],
   "source": [
    "preds_df"
   ]
  },
  {
   "cell_type": "code",
   "execution_count": 34,
   "metadata": {},
   "outputs": [],
   "source": [
    "write.csv(preds_df, file=file.path(fullDir,'preds','preds.csv'),row.names = FALSE)"
   ]
  },
  {
   "cell_type": "markdown",
   "metadata": {},
   "source": [
    "# Rehash on 52 tld-re's"
   ]
  },
  {
   "cell_type": "code",
   "execution_count": 6,
   "metadata": {},
   "outputs": [],
   "source": [
    "fullDir='/home/jupyter/Domains_202003/data/output/models_20201104'"
   ]
  },
  {
   "cell_type": "code",
   "execution_count": 9,
   "metadata": {},
   "outputs": [
    {
     "name": "stdout",
     "output_type": "stream",
     "text": [
      "Excluding 1706 tld-re's (80.89%), due to volume < 500 \n",
      "Excluding 157 tld-re's (7.44%) associated with tld's 'pw' and 'in.net' \n",
      "Processing 52 tld-re's\n"
     ]
    }
   ],
   "source": [
    "tld_reseller_list1 = expiry_train_df %>%  distinct(tld_registrar_index) %>% pull(tld_registrar_index)\n",
    "tld_reseller_list2 = expiry_test_df %>%  distinct(tld_registrar_index) %>% pull(tld_registrar_index)\n",
    "tld_reseller_list = setdiff(tld_reseller_list2,tld_reseller_list1)\n",
    "tld_registrar_excl_list = tld_registrar_excl(train_list = expiry_train_list)\n",
    "cat(\"Processing\", length(tld_reseller_list),\"tld-re's\\n\")"
   ]
  },
  {
   "cell_type": "code",
   "execution_count": 13,
   "metadata": {},
   "outputs": [
    {
     "data": {
      "text/html": [
       "'spaceinternet gmbh'"
      ],
      "text/latex": [
       "'spaceinternet gmbh'"
      ],
      "text/markdown": [
       "'spaceinternet gmbh'"
      ],
      "text/plain": [
       "[1] \"spaceinternet gmbh\""
      ]
     },
     "metadata": {},
     "output_type": "display_data"
    }
   ],
   "source": [
    "test_list = expiry_test_list\n",
    "tld_reseller_str = tld_reseller_list[[1]]\n",
    "tld_reseller_str"
   ]
  },
  {
   "cell_type": "markdown",
   "metadata": {},
   "source": [
    "### seg2models"
   ]
  },
  {
   "cell_type": "code",
   "execution_count": 20,
   "metadata": {},
   "outputs": [],
   "source": [
    "# obviously, seg2 would all be na because models at the tld-registrara level don't exist"
   ]
  },
  {
   "cell_type": "markdown",
   "metadata": {},
   "source": [
    "### segmodels"
   ]
  },
  {
   "cell_type": "code",
   "execution_count": 23,
   "metadata": {},
   "outputs": [],
   "source": [
    "test_list_tld_reseller = test_list[tld_reseller_str]\n",
    "test_df_tld_reseller =  rbindlist(test_list_tld_reseller,use.names=TRUE)"
   ]
  },
  {
   "cell_type": "code",
   "execution_count": 4,
   "metadata": {},
   "outputs": [],
   "source": [
    "# reseller_str = test_df_tld_reseller %>% filter(tld_registrar_index==tld_reseller_str) %>% distinct(reseller) %>% pull(reseller)\n",
    "reseller_str = 'Internet GmbH'"
   ]
  },
  {
   "cell_type": "code",
   "execution_count": 8,
   "metadata": {},
   "outputs": [
    {
     "data": {
      "text/html": [
       "'model_seg_rf_InternetGmbH'"
      ],
      "text/latex": [
       "'model\\_seg\\_rf\\_InternetGmbH'"
      ],
      "text/markdown": [
       "'model_seg_rf_InternetGmbH'"
      ],
      "text/plain": [
       "[1] \"model_seg_rf_InternetGmbH\""
      ]
     },
     "metadata": {},
     "output_type": "display_data"
    },
    {
     "data": {
      "text/html": [
       "'/home/jupyter/Domains_202003/data/output/models_20201104/model_seg_rf_InternetGmbH.Rdata'"
      ],
      "text/latex": [
       "'/home/jupyter/Domains\\_202003/data/output/models\\_20201104/model\\_seg\\_rf\\_InternetGmbH.Rdata'"
      ],
      "text/markdown": [
       "'/home/jupyter/Domains_202003/data/output/models_20201104/model_seg_rf_InternetGmbH.Rdata'"
      ],
      "text/plain": [
       "[1] \"/home/jupyter/Domains_202003/data/output/models_20201104/model_seg_rf_InternetGmbH.Rdata\""
      ]
     },
     "metadata": {},
     "output_type": "display_data"
    }
   ],
   "source": [
    "model_name <- paste0('model_seg_rf_',str_replace_all(reseller_str, \"[^[:alnum:]]\", \"\"))\n",
    "model_name\n",
    "file.path(fullDir,paste0(model_name,'.Rdata'))\n",
    "load(file.path(fullDir,paste0(model_name,'.Rdata')))"
   ]
  },
  {
   "cell_type": "code",
   "execution_count": 9,
   "metadata": {},
   "outputs": [
    {
     "data": {
      "text/html": [
       "TRUE"
      ],
      "text/latex": [
       "TRUE"
      ],
      "text/markdown": [
       "TRUE"
      ],
      "text/plain": [
       "[1] TRUE"
      ]
     },
     "metadata": {},
     "output_type": "display_data"
    }
   ],
   "source": [
    "exists(model_name)"
   ]
  },
  {
   "cell_type": "code",
   "execution_count": 37,
   "metadata": {},
   "outputs": [
    {
     "data": {
      "text/plain": [
       "Ranger result\n",
       "\n",
       "Call:\n",
       " ranger(formula = renewal_status ~ pattern_domain_count + log_reg_arpt +      sld_length + gibb_score + sld_type + day_domains + reg_period +      tld, data = train_df_reseller, importance = \"impurity\", num.trees = 1000,      probability = TRUE, replace = FALSE, sample.fraction = sample_fraction,      seed = 123, respect.unordered.factors = TRUE) \n",
       "\n",
       "Type:                             Probability estimation \n",
       "Number of trees:                  1000 \n",
       "Sample size:                      34 \n",
       "Number of independent variables:  8 \n",
       "Mtry:                             2 \n",
       "Target node size:                 10 \n",
       "Variable importance mode:         impurity \n",
       "Splitrule:                        gini \n",
       "OOB prediction error (Brier s.):  0.05751451 "
      ]
     },
     "metadata": {},
     "output_type": "display_data"
    }
   ],
   "source": [
    "model_seg_rf_InternetGmbH"
   ]
  },
  {
   "cell_type": "code",
   "execution_count": 42,
   "metadata": {},
   "outputs": [
    {
     "name": "stdout",
     "output_type": "stream",
     "text": [
      "[1] \"spaceinternet gmbh\"\n"
     ]
    }
   ],
   "source": [
    "preds_seg_rf = pred_seg_rf(test_list, tld_reseller_str)"
   ]
  },
  {
   "cell_type": "code",
   "execution_count": 43,
   "metadata": {},
   "outputs": [
    {
     "data": {
      "text/html": [
       "<table>\n",
       "<caption>A data.frame: 2 × 2</caption>\n",
       "<thead>\n",
       "\t<tr><th scope=col>actual</th><th scope=col>predicted</th></tr>\n",
       "\t<tr><th scope=col>&lt;fct&gt;</th><th scope=col>&lt;dbl&gt;</th></tr>\n",
       "</thead>\n",
       "<tbody>\n",
       "\t<tr><td>Renewed</td><td>0.981337</td></tr>\n",
       "\t<tr><td>Renewed</td><td>0.978387</td></tr>\n",
       "</tbody>\n",
       "</table>\n"
      ],
      "text/latex": [
       "A data.frame: 2 × 2\n",
       "\\begin{tabular}{ll}\n",
       " actual & predicted\\\\\n",
       " <fct> & <dbl>\\\\\n",
       "\\hline\n",
       "\t Renewed & 0.981337\\\\\n",
       "\t Renewed & 0.978387\\\\\n",
       "\\end{tabular}\n"
      ],
      "text/markdown": [
       "\n",
       "A data.frame: 2 × 2\n",
       "\n",
       "| actual &lt;fct&gt; | predicted &lt;dbl&gt; |\n",
       "|---|---|\n",
       "| Renewed | 0.981337 |\n",
       "| Renewed | 0.978387 |\n",
       "\n"
      ],
      "text/plain": [
       "  actual  predicted\n",
       "1 Renewed 0.981337 \n",
       "2 Renewed 0.978387 "
      ]
     },
     "metadata": {},
     "output_type": "display_data"
    }
   ],
   "source": [
    "preds_seg_rf"
   ]
  },
  {
   "cell_type": "code",
   "execution_count": null,
   "metadata": {},
   "outputs": [],
   "source": []
  },
  {
   "cell_type": "code",
   "execution_count": null,
   "metadata": {},
   "outputs": [],
   "source": []
  },
  {
   "cell_type": "code",
   "execution_count": null,
   "metadata": {},
   "outputs": [],
   "source": []
  },
  {
   "cell_type": "markdown",
   "metadata": {},
   "source": [
    "# DEFINE limited global objects"
   ]
  },
  {
   "cell_type": "code",
   "execution_count": 61,
   "metadata": {},
   "outputs": [
    {
     "data": {
      "text/html": [
       "1723"
      ],
      "text/latex": [
       "1723"
      ],
      "text/markdown": [
       "1723"
      ],
      "text/plain": [
       "[1] 1723"
      ]
     },
     "metadata": {},
     "output_type": "display_data"
    }
   ],
   "source": [
    "# tld_reseller_list = expiry_train_df_1 %>% distinct(tld_registrar_index) %>% \n",
    "#   pull(tld_registrar_index) \n",
    "# length(tld_reseller_list)\n",
    "# tld_reseller_list = c('storenetwork solutions','storeru-center','storebigrock','onlinewhois','websiteregister.it')\n",
    "#tld_reseller_list"
   ]
  },
  {
   "cell_type": "markdown",
   "metadata": {},
   "source": [
    "# Exclude low-vol tld-re's"
   ]
  },
  {
   "cell_type": "code",
   "execution_count": 6,
   "metadata": {},
   "outputs": [
    {
     "name": "stdout",
     "output_type": "stream",
     "text": [
      "Exluding 1239 tld-re's (71.91%), due to volume < 100 \n"
     ]
    }
   ],
   "source": [
    "tld_registrar_excl_list = tld_registrar_excl(train_list = expiry_train_prepped_2_1)"
   ]
  },
  {
   "cell_type": "code",
   "execution_count": 90,
   "metadata": {},
   "outputs": [
    {
     "data": {
      "text/html": [
       "5"
      ],
      "text/latex": [
       "5"
      ],
      "text/markdown": [
       "5"
      ],
      "text/plain": [
       "[1] 5"
      ]
     },
     "metadata": {},
     "output_type": "display_data"
    }
   ],
   "source": [
    "# tld_reseller_list = tld_reseller_list[!(tld_reseller_list %in% tld_registrar_exl_list)]\n",
    "# length(tld_reseller_list)"
   ]
  },
  {
   "cell_type": "code",
   "execution_count": 7,
   "metadata": {},
   "outputs": [],
   "source": [
    "tld_reseller_list = c('websitenamecheap','storeuol','storemat bao','onlinedonweb','onlinecrazy domains')"
   ]
  },
  {
   "cell_type": "code",
   "execution_count": 8,
   "metadata": {},
   "outputs": [],
   "source": [
    "train_list = expiry_train_prepped_2_1[tld_reseller_list]"
   ]
  },
  {
   "cell_type": "code",
   "execution_count": 9,
   "metadata": {},
   "outputs": [
    {
     "data": {
      "text/html": [
       "5"
      ],
      "text/latex": [
       "5"
      ],
      "text/markdown": [
       "5"
      ],
      "text/plain": [
       "[1] 5"
      ]
     },
     "metadata": {},
     "output_type": "display_data"
    }
   ],
   "source": [
    "length(train_list)"
   ]
  },
  {
   "cell_type": "markdown",
   "metadata": {},
   "source": [
    "# TEST train_all in functions*.R"
   ]
  },
  {
   "cell_type": "code",
   "execution_count": 10,
   "metadata": {},
   "outputs": [],
   "source": [
    "\n",
    "source('functions_metalearning.R')"
   ]
  },
  {
   "cell_type": "code",
   "execution_count": null,
   "metadata": {},
   "outputs": [],
   "source": [
    "# subDir = paste(\"models\", format(Sys.Date(), format=\"%Y%m%d\") , sep = \"_\")\n",
    "# fullDir = file.path('../../data/output', subDir)\n",
    "# dir.create(fullDir, showWarnings = FALSE)"
   ]
  },
  {
   "cell_type": "code",
   "execution_count": 11,
   "metadata": {},
   "outputs": [
    {
     "name": "stdout",
     "output_type": "stream",
     "text": [
      "[1] \"model_seg_glm_crazydomains\"\n",
      "[1] \"model_seg_rf_crazydomains\"\n",
      "[1] \"model_seg_glm_donweb\"\n",
      "[1] \"model_seg_rf_donweb\"\n",
      "[1] \"model_seg_glm_matbao\"\n",
      "[1] \"model_seg_rf_matbao\"\n",
      "[1] \"model_seg_glm_uol\"\n",
      "[1] \"model_seg_rf_uol\"\n",
      "[1] \"model_seg_glm_namecheap\"\n",
      "[1] \"model_seg_rf_namecheap\"\n",
      "Growing trees.. Progress: 42%. Estimated remaining time: 43 seconds.\n",
      "Growing trees.. Progress: 84%. Estimated remaining time: 11 seconds.\n",
      "[1] \"model_seg2_glm_websitenamecheap\"\n",
      "[1] \"model_seg2_rf_websitenamecheap\"\n",
      "[1] \"model_seg2_glm_storeuol\"\n",
      "[1] \"model_seg2_rf_storeuol\"\n",
      "[1] \"model_seg2_glm_onlinedonweb\"\n",
      "[1] \"model_seg2_rf_onlinedonweb\"\n",
      "[1] \"model_seg2_glm_onlinecrazydomains\"\n",
      "[1] \"model_seg2_rf_onlinecrazydomains\"\n",
      "[1] \"model_seg2_glm_storematbao\"\n",
      "[1] \"model_seg2_rf_storematbao\"\n"
     ]
    }
   ],
   "source": [
    "tld_reseller_list = train_all(tld_reseller_list,\n",
    "                              tld_registrar_excl_list,\n",
    "                       train_list = expiry_train_prepped_2_1,\n",
    "                       test_list = expiry_test_prepped_2_1,\n",
    "                       model_agg_glm = NULL, \n",
    "                       model_agg_rf = NULL,\n",
    "         fullDir='../../data/output/models_20201020')   "
   ]
  },
  {
   "cell_type": "code",
   "execution_count": 12,
   "metadata": {},
   "outputs": [
    {
     "data": {
      "text/html": [
       "<style>\n",
       ".list-inline {list-style: none; margin:0; padding: 0}\n",
       ".list-inline>li {display: inline-block}\n",
       ".list-inline>li:not(:last-child)::after {content: \"\\00b7\"; padding: 0 .5ex}\n",
       "</style>\n",
       "<ol class=list-inline><li>'websitenamecheap'</li><li>'storeuol'</li><li>'onlinedonweb'</li><li>'onlinecrazy domains'</li><li>'storemat bao'</li></ol>\n"
      ],
      "text/latex": [
       "\\begin{enumerate*}\n",
       "\\item 'websitenamecheap'\n",
       "\\item 'storeuol'\n",
       "\\item 'onlinedonweb'\n",
       "\\item 'onlinecrazy domains'\n",
       "\\item 'storemat bao'\n",
       "\\end{enumerate*}\n"
      ],
      "text/markdown": [
       "1. 'websitenamecheap'\n",
       "2. 'storeuol'\n",
       "3. 'onlinedonweb'\n",
       "4. 'onlinecrazy domains'\n",
       "5. 'storemat bao'\n",
       "\n",
       "\n"
      ],
      "text/plain": [
       "[1] \"websitenamecheap\"    \"storeuol\"            \"onlinedonweb\"       \n",
       "[4] \"onlinecrazy domains\" \"storemat bao\"       "
      ]
     },
     "metadata": {},
     "output_type": "display_data"
    }
   ],
   "source": [
    "tld_reseller_list"
   ]
  },
  {
   "cell_type": "markdown",
   "metadata": {},
   "source": [
    "# TEST pred_all in functions*.R"
   ]
  },
  {
   "cell_type": "code",
   "execution_count": 13,
   "metadata": {},
   "outputs": [],
   "source": [
    "source('functions_metalearning.R')"
   ]
  },
  {
   "cell_type": "code",
   "execution_count": 15,
   "metadata": {},
   "outputs": [
    {
     "name": "stdout",
     "output_type": "stream",
     "text": [
      "\n",
      "\n",
      "Predicting model_agg_glm\n",
      "[1] \"websitenamecheap\"\n"
     ]
    },
    {
     "name": "stderr",
     "output_type": "stream",
     "text": [
      "Warning message in predict.lm(object, newdata, se.fit, scale = 1, type = if (type == :\n",
      "“prediction from a rank-deficient fit may be misleading”\n"
     ]
    },
    {
     "name": "stdout",
     "output_type": "stream",
     "text": [
      "[1] \"storeuol\"\n"
     ]
    },
    {
     "name": "stderr",
     "output_type": "stream",
     "text": [
      "Warning message in predict.lm(object, newdata, se.fit, scale = 1, type = if (type == :\n",
      "“prediction from a rank-deficient fit may be misleading”\n"
     ]
    },
    {
     "name": "stdout",
     "output_type": "stream",
     "text": [
      "[1] \"onlinedonweb\"\n"
     ]
    },
    {
     "name": "stderr",
     "output_type": "stream",
     "text": [
      "Warning message in predict.lm(object, newdata, se.fit, scale = 1, type = if (type == :\n",
      "“prediction from a rank-deficient fit may be misleading”\n"
     ]
    },
    {
     "name": "stdout",
     "output_type": "stream",
     "text": [
      "[1] \"onlinecrazy domains\"\n"
     ]
    },
    {
     "name": "stderr",
     "output_type": "stream",
     "text": [
      "Warning message in predict.lm(object, newdata, se.fit, scale = 1, type = if (type == :\n",
      "“prediction from a rank-deficient fit may be misleading”\n"
     ]
    },
    {
     "name": "stdout",
     "output_type": "stream",
     "text": [
      "[1] \"storemat bao\"\n"
     ]
    },
    {
     "name": "stderr",
     "output_type": "stream",
     "text": [
      "Warning message in predict.lm(object, newdata, se.fit, scale = 1, type = if (type == :\n",
      "“prediction from a rank-deficient fit may be misleading”\n"
     ]
    },
    {
     "name": "stdout",
     "output_type": "stream",
     "text": [
      "\n",
      "\n",
      "Predicting model_agg_rf\n",
      "[1] \"websitenamecheap\"\n",
      "[1] \"storeuol\"\n",
      "[1] \"onlinedonweb\"\n",
      "[1] \"onlinecrazy domains\"\n",
      "[1] \"storemat bao\"\n",
      "\n",
      "\n",
      "Predicting model_seg_glm\n",
      "[1] \"websitenamecheap\"\n"
     ]
    },
    {
     "name": "stderr",
     "output_type": "stream",
     "text": [
      "Warning message in if (is.na(model) | is.null(test_data)) {:\n",
      "“the condition has length > 1 and only the first element will be used”\n"
     ]
    },
    {
     "name": "stdout",
     "output_type": "stream",
     "text": [
      "[1] \"storeuol\"\n"
     ]
    },
    {
     "name": "stderr",
     "output_type": "stream",
     "text": [
      "Warning message in if (is.na(model) | is.null(test_data)) {:\n",
      "“the condition has length > 1 and only the first element will be used”\n"
     ]
    },
    {
     "name": "stdout",
     "output_type": "stream",
     "text": [
      "[1] \"onlinedonweb\"\n"
     ]
    },
    {
     "name": "stderr",
     "output_type": "stream",
     "text": [
      "Warning message in if (is.na(model) | is.null(test_data)) {:\n",
      "“the condition has length > 1 and only the first element will be used”\n"
     ]
    },
    {
     "name": "stdout",
     "output_type": "stream",
     "text": [
      "[1] \"onlinecrazy domains\"\n"
     ]
    },
    {
     "name": "stderr",
     "output_type": "stream",
     "text": [
      "Warning message in if (is.na(model) | is.null(test_data)) {:\n",
      "“the condition has length > 1 and only the first element will be used”\n"
     ]
    },
    {
     "name": "stdout",
     "output_type": "stream",
     "text": [
      "[1] \"storemat bao\"\n"
     ]
    },
    {
     "name": "stderr",
     "output_type": "stream",
     "text": [
      "Warning message in if (is.na(model) | is.null(test_data)) {:\n",
      "“the condition has length > 1 and only the first element will be used”\n"
     ]
    },
    {
     "name": "stdout",
     "output_type": "stream",
     "text": [
      "\n",
      "\n",
      "Predicting model_seg_rf\n",
      "[1] \"websitenamecheap\"\n",
      "[1] \"storeuol\"\n",
      "[1] \"onlinedonweb\"\n",
      "[1] \"onlinecrazy domains\"\n",
      "[1] \"storemat bao\"\n",
      "\n",
      "\n",
      "Predicting model_seg2_glm\n",
      "[1] \"websitenamecheap\"\n"
     ]
    },
    {
     "name": "stderr",
     "output_type": "stream",
     "text": [
      "Warning message in if (is.na(model) | is.null(test_data)) {:\n",
      "“the condition has length > 1 and only the first element will be used”\n"
     ]
    },
    {
     "name": "stdout",
     "output_type": "stream",
     "text": [
      "[1] \"storeuol\"\n"
     ]
    },
    {
     "name": "stderr",
     "output_type": "stream",
     "text": [
      "Warning message in if (is.na(model) | is.null(test_data)) {:\n",
      "“the condition has length > 1 and only the first element will be used”\n"
     ]
    },
    {
     "name": "stdout",
     "output_type": "stream",
     "text": [
      "[1] \"onlinedonweb\"\n"
     ]
    },
    {
     "name": "stderr",
     "output_type": "stream",
     "text": [
      "Warning message in if (is.na(model) | is.null(test_data)) {:\n",
      "“the condition has length > 1 and only the first element will be used”\n"
     ]
    },
    {
     "name": "stdout",
     "output_type": "stream",
     "text": [
      "[1] \"onlinecrazy domains\"\n"
     ]
    },
    {
     "name": "stderr",
     "output_type": "stream",
     "text": [
      "Warning message in if (is.na(model) | is.null(test_data)) {:\n",
      "“the condition has length > 1 and only the first element will be used”\n"
     ]
    },
    {
     "name": "stdout",
     "output_type": "stream",
     "text": [
      "[1] \"storemat bao\"\n"
     ]
    },
    {
     "name": "stderr",
     "output_type": "stream",
     "text": [
      "Warning message in if (is.na(model) | is.null(test_data)) {:\n",
      "“the condition has length > 1 and only the first element will be used”\n",
      "Warning message in predict.lm(object, newdata, se.fit, scale = 1, type = if (type == :\n",
      "“prediction from a rank-deficient fit may be misleading”\n"
     ]
    },
    {
     "name": "stdout",
     "output_type": "stream",
     "text": [
      "\n",
      "\n",
      "Predicting model_seg2_rf\n",
      "[1] \"websitenamecheap\"\n",
      "[1] \"storeuol\"\n",
      "[1] \"onlinedonweb\"\n",
      "[1] \"onlinecrazy domains\"\n",
      "[1] \"storemat bao\"\n"
     ]
    },
    {
     "name": "stderr",
     "output_type": "stream",
     "text": [
      "Warning message in if (is.na(preds_seg_glm[[i]])) {:\n",
      "“the condition has length > 1 and only the first element will be used”\n",
      "Warning message in if (is.na(preds_seg_glm[[i]])) {:\n",
      "“the condition has length > 1 and only the first element will be used”\n",
      "Warning message in if (is.na(preds_seg_glm[[i]])) {:\n",
      "“the condition has length > 1 and only the first element will be used”\n",
      "Warning message in if (is.na(preds_seg_glm[[i]])) {:\n",
      "“the condition has length > 1 and only the first element will be used”\n",
      "Warning message in if (is.na(preds_seg_glm[[i]])) {:\n",
      "“the condition has length > 1 and only the first element will be used”\n"
     ]
    }
   ],
   "source": [
    "preds_df <- pred_all(tld_reseller_list, tld_registrar_excl_list,\n",
    "                      test_list = expiry_test_prepped_2_1,\n",
    "                  fullDir='../../data/output/models_20201020' # dir of models\n",
    "                      )"
   ]
  },
  {
   "cell_type": "code",
   "execution_count": 16,
   "metadata": {},
   "outputs": [
    {
     "data": {
      "text/html": [
       "<table>\n",
       "<caption>A data.table: 6 × 7</caption>\n",
       "<thead>\n",
       "\t<tr><th scope=col>renewal_status</th><th scope=col>pred_agg_glm</th><th scope=col>pred_agg_rf</th><th scope=col>pred_seg_glm</th><th scope=col>pred_seg_rf</th><th scope=col>pred_seg2_glm</th><th scope=col>pred_seg2_rf</th></tr>\n",
       "\t<tr><th scope=col>&lt;fct&gt;</th><th scope=col>&lt;dbl&gt;</th><th scope=col>&lt;dbl&gt;</th><th scope=col>&lt;dbl&gt;</th><th scope=col>&lt;dbl&gt;</th><th scope=col>&lt;dbl&gt;</th><th scope=col>&lt;dbl&gt;</th></tr>\n",
       "</thead>\n",
       "<tbody>\n",
       "\t<tr><td>Renewed   </td><td>0.193</td><td>0.4870859</td><td>0.719</td><td>0.4438893</td><td>0.3787142</td><td>0.5009564</td></tr>\n",
       "\t<tr><td>Not Renewd</td><td>0.191</td><td>0.3272803</td><td>0.716</td><td>0.3856979</td><td>0.3737353</td><td>0.4038157</td></tr>\n",
       "\t<tr><td>Not Renewd</td><td>0.201</td><td>0.4503606</td><td>0.732</td><td>0.4557063</td><td>0.3911853</td><td>0.4264446</td></tr>\n",
       "\t<tr><td>Not Renewd</td><td>0.188</td><td>0.4750480</td><td>0.712</td><td>0.5444202</td><td>0.3685513</td><td>0.4542695</td></tr>\n",
       "\t<tr><td>Not Renewd</td><td>0.188</td><td>0.3215509</td><td>0.711</td><td>0.4049546</td><td>0.3692081</td><td>0.4116593</td></tr>\n",
       "\t<tr><td>Not Renewd</td><td>0.183</td><td>0.3699182</td><td>0.701</td><td>0.4838001</td><td>0.3612048</td><td>0.4254576</td></tr>\n",
       "</tbody>\n",
       "</table>\n"
      ],
      "text/latex": [
       "A data.table: 6 × 7\n",
       "\\begin{tabular}{lllllll}\n",
       " renewal\\_status & pred\\_agg\\_glm & pred\\_agg\\_rf & pred\\_seg\\_glm & pred\\_seg\\_rf & pred\\_seg2\\_glm & pred\\_seg2\\_rf\\\\\n",
       " <fct> & <dbl> & <dbl> & <dbl> & <dbl> & <dbl> & <dbl>\\\\\n",
       "\\hline\n",
       "\t Renewed    & 0.193 & 0.4870859 & 0.719 & 0.4438893 & 0.3787142 & 0.5009564\\\\\n",
       "\t Not Renewd & 0.191 & 0.3272803 & 0.716 & 0.3856979 & 0.3737353 & 0.4038157\\\\\n",
       "\t Not Renewd & 0.201 & 0.4503606 & 0.732 & 0.4557063 & 0.3911853 & 0.4264446\\\\\n",
       "\t Not Renewd & 0.188 & 0.4750480 & 0.712 & 0.5444202 & 0.3685513 & 0.4542695\\\\\n",
       "\t Not Renewd & 0.188 & 0.3215509 & 0.711 & 0.4049546 & 0.3692081 & 0.4116593\\\\\n",
       "\t Not Renewd & 0.183 & 0.3699182 & 0.701 & 0.4838001 & 0.3612048 & 0.4254576\\\\\n",
       "\\end{tabular}\n"
      ],
      "text/markdown": [
       "\n",
       "A data.table: 6 × 7\n",
       "\n",
       "| renewal_status &lt;fct&gt; | pred_agg_glm &lt;dbl&gt; | pred_agg_rf &lt;dbl&gt; | pred_seg_glm &lt;dbl&gt; | pred_seg_rf &lt;dbl&gt; | pred_seg2_glm &lt;dbl&gt; | pred_seg2_rf &lt;dbl&gt; |\n",
       "|---|---|---|---|---|---|---|\n",
       "| Renewed    | 0.193 | 0.4870859 | 0.719 | 0.4438893 | 0.3787142 | 0.5009564 |\n",
       "| Not Renewd | 0.191 | 0.3272803 | 0.716 | 0.3856979 | 0.3737353 | 0.4038157 |\n",
       "| Not Renewd | 0.201 | 0.4503606 | 0.732 | 0.4557063 | 0.3911853 | 0.4264446 |\n",
       "| Not Renewd | 0.188 | 0.4750480 | 0.712 | 0.5444202 | 0.3685513 | 0.4542695 |\n",
       "| Not Renewd | 0.188 | 0.3215509 | 0.711 | 0.4049546 | 0.3692081 | 0.4116593 |\n",
       "| Not Renewd | 0.183 | 0.3699182 | 0.701 | 0.4838001 | 0.3612048 | 0.4254576 |\n",
       "\n"
      ],
      "text/plain": [
       "  renewal_status pred_agg_glm pred_agg_rf pred_seg_glm pred_seg_rf\n",
       "1 Renewed        0.193        0.4870859   0.719        0.4438893  \n",
       "2 Not Renewd     0.191        0.3272803   0.716        0.3856979  \n",
       "3 Not Renewd     0.201        0.4503606   0.732        0.4557063  \n",
       "4 Not Renewd     0.188        0.4750480   0.712        0.5444202  \n",
       "5 Not Renewd     0.188        0.3215509   0.711        0.4049546  \n",
       "6 Not Renewd     0.183        0.3699182   0.701        0.4838001  \n",
       "  pred_seg2_glm pred_seg2_rf\n",
       "1 0.3787142     0.5009564   \n",
       "2 0.3737353     0.4038157   \n",
       "3 0.3911853     0.4264446   \n",
       "4 0.3685513     0.4542695   \n",
       "5 0.3692081     0.4116593   \n",
       "6 0.3612048     0.4254576   "
      ]
     },
     "metadata": {},
     "output_type": "display_data"
    }
   ],
   "source": [
    "preds_df %>% select(renewal_status,contains(\"pred\")) %>% head()"
   ]
  },
  {
   "cell_type": "code",
   "execution_count": 17,
   "metadata": {},
   "outputs": [
    {
     "data": {
      "text/html": [
       "<table>\n",
       "<caption>A data.table: 6 × 7</caption>\n",
       "<thead>\n",
       "\t<tr><th scope=col>renewal_status</th><th scope=col>pred_agg_glm</th><th scope=col>pred_agg_rf</th><th scope=col>pred_seg_glm</th><th scope=col>pred_seg_rf</th><th scope=col>pred_seg2_glm</th><th scope=col>pred_seg2_rf</th></tr>\n",
       "\t<tr><th scope=col>&lt;fct&gt;</th><th scope=col>&lt;dbl&gt;</th><th scope=col>&lt;dbl&gt;</th><th scope=col>&lt;dbl&gt;</th><th scope=col>&lt;dbl&gt;</th><th scope=col>&lt;dbl&gt;</th><th scope=col>&lt;dbl&gt;</th></tr>\n",
       "</thead>\n",
       "<tbody>\n",
       "\t<tr><td>Not Renewd</td><td>NA</td><td>NA</td><td>NA</td><td>NA</td><td>NA</td><td>NA</td></tr>\n",
       "\t<tr><td>Not Renewd</td><td>NA</td><td>NA</td><td>NA</td><td>NA</td><td>NA</td><td>NA</td></tr>\n",
       "\t<tr><td>Not Renewd</td><td>NA</td><td>NA</td><td>NA</td><td>NA</td><td>NA</td><td>NA</td></tr>\n",
       "\t<tr><td>Not Renewd</td><td>NA</td><td>NA</td><td>NA</td><td>NA</td><td>NA</td><td>NA</td></tr>\n",
       "\t<tr><td>Not Renewd</td><td>NA</td><td>NA</td><td>NA</td><td>NA</td><td>NA</td><td>NA</td></tr>\n",
       "\t<tr><td>Not Renewd</td><td>NA</td><td>NA</td><td>NA</td><td>NA</td><td>NA</td><td>NA</td></tr>\n",
       "</tbody>\n",
       "</table>\n"
      ],
      "text/latex": [
       "A data.table: 6 × 7\n",
       "\\begin{tabular}{lllllll}\n",
       " renewal\\_status & pred\\_agg\\_glm & pred\\_agg\\_rf & pred\\_seg\\_glm & pred\\_seg\\_rf & pred\\_seg2\\_glm & pred\\_seg2\\_rf\\\\\n",
       " <fct> & <dbl> & <dbl> & <dbl> & <dbl> & <dbl> & <dbl>\\\\\n",
       "\\hline\n",
       "\t Not Renewd & NA & NA & NA & NA & NA & NA\\\\\n",
       "\t Not Renewd & NA & NA & NA & NA & NA & NA\\\\\n",
       "\t Not Renewd & NA & NA & NA & NA & NA & NA\\\\\n",
       "\t Not Renewd & NA & NA & NA & NA & NA & NA\\\\\n",
       "\t Not Renewd & NA & NA & NA & NA & NA & NA\\\\\n",
       "\t Not Renewd & NA & NA & NA & NA & NA & NA\\\\\n",
       "\\end{tabular}\n"
      ],
      "text/markdown": [
       "\n",
       "A data.table: 6 × 7\n",
       "\n",
       "| renewal_status &lt;fct&gt; | pred_agg_glm &lt;dbl&gt; | pred_agg_rf &lt;dbl&gt; | pred_seg_glm &lt;dbl&gt; | pred_seg_rf &lt;dbl&gt; | pred_seg2_glm &lt;dbl&gt; | pred_seg2_rf &lt;dbl&gt; |\n",
       "|---|---|---|---|---|---|---|\n",
       "| Not Renewd | NA | NA | NA | NA | NA | NA |\n",
       "| Not Renewd | NA | NA | NA | NA | NA | NA |\n",
       "| Not Renewd | NA | NA | NA | NA | NA | NA |\n",
       "| Not Renewd | NA | NA | NA | NA | NA | NA |\n",
       "| Not Renewd | NA | NA | NA | NA | NA | NA |\n",
       "| Not Renewd | NA | NA | NA | NA | NA | NA |\n",
       "\n"
      ],
      "text/plain": [
       "  renewal_status pred_agg_glm pred_agg_rf pred_seg_glm pred_seg_rf\n",
       "1 Not Renewd     NA           NA          NA           NA         \n",
       "2 Not Renewd     NA           NA          NA           NA         \n",
       "3 Not Renewd     NA           NA          NA           NA         \n",
       "4 Not Renewd     NA           NA          NA           NA         \n",
       "5 Not Renewd     NA           NA          NA           NA         \n",
       "6 Not Renewd     NA           NA          NA           NA         \n",
       "  pred_seg2_glm pred_seg2_rf\n",
       "1 NA            NA          \n",
       "2 NA            NA          \n",
       "3 NA            NA          \n",
       "4 NA            NA          \n",
       "5 NA            NA          \n",
       "6 NA            NA          "
      ]
     },
     "metadata": {},
     "output_type": "display_data"
    }
   ],
   "source": [
    "preds_df %>% select(renewal_status,contains(\"pred\")) %>% tail()"
   ]
  },
  {
   "cell_type": "markdown",
   "metadata": {},
   "source": [
    "# Fallback \n",
    "Since low volume tld-re's were excluded from training and testing, their predictions will be NA, so we just fill all NAs with fallback values."
   ]
  },
  {
   "cell_type": "code",
   "execution_count": 135,
   "metadata": {},
   "outputs": [],
   "source": [
    "source('functions_fallback.R')"
   ]
  },
  {
   "cell_type": "code",
   "execution_count": 35,
   "metadata": {},
   "outputs": [],
   "source": [
    "# THIS IS NO LONGER NEEDED (SEE ABOVE)\n",
    "# # define binary indicator for fallback use\n",
    "# preds_df <- preds_df %>% mutate(pred_agg_glm_fb = ifelse((tld_registrar_index %in% tld_registrar_fb_list) | \n",
    "#                                              is.na(pred_agg_glm), 1,0),\n",
    "#                                pred_agg_rf_fb = ifelse((tld_registrar_index %in% tld_registrar_fb_list) | \n",
    "#                                              is.na(pred_agg_rf), 1,0),\n",
    "#                                pred_seg_glm_fb = ifelse((tld_registrar_index %in% tld_registrar_fb_list) | \n",
    "#                                              is.na(pred_seg_glm), 1,0),\n",
    "#                                pred_seg_rf_fb = ifelse((tld_registrar_index %in% tld_registrar_fb_list) | \n",
    "#                                              is.na(pred_seg_rf), 1,0),\n",
    "#                                pred_seg2_glm_fb = ifelse((tld_registrar_index %in% tld_registrar_fb_list) | \n",
    "#                                              is.na(pred_seg2_glm), 1,0),\n",
    "#                                pred_seg2_rf_fb = ifelse((tld_registrar_index %in% tld_registrar_fb_list) | \n",
    "#                                              is.na(pred_seg2_rf), 1,0),\n",
    "#                                )\n",
    "   \n",
    "# # preds_df %>% group_by(tld_registrar_index, pred_agg_glm_fb) %>% tally()\n",
    "# # preds_df %>% group_by(tld_registrar_index, pred_agg_rf_fb) %>% tally()\n",
    "# # preds_df %>% group_by(tld_registrar_index, pred_seg_glm_fb) %>% tally()\n",
    "# # preds_df %>% group_by(tld_registrar_index, pred_seg_rf_fb) %>% tally()\n",
    "# # preds_df %>% group_by(tld_registrar_index, pred_seg2_glm_fb) %>% tally() \n",
    "# # preds_df %>% group_by(tld_registrar_index, pred_seg2_rf_fb) %>% tally()"
   ]
  },
  {
   "cell_type": "code",
   "execution_count": 111,
   "metadata": {},
   "outputs": [],
   "source": [
    "# system(\"gsutil cp gs://data_input/PredictiveModelAnalysis_ResellerGeoMap.csv /home/jupyter/local/Domains_202003/data/PredictiveModelAnalysis_ResellerGeoMap.csv\")\n",
    "geoLookupDF <- read.csv(\"/home/jupyter/local/Domains_202003/data/PredictiveModelAnalysis_ResellerGeoMap.csv\")\n",
    "# need to remove final row with all NAs\n",
    "geoLookupDF <- geoLookupDF %>% filter_all(any_vars(!is.na(.)))\n"
   ]
  },
  {
   "cell_type": "code",
   "execution_count": 133,
   "metadata": {},
   "outputs": [],
   "source": [
    "geo_lookup <- function(geoLookupDF,\n",
    "                         preds_df) {\n",
    "        \n",
    "    # 1. use geo lookup with duplicate rows removed\n",
    "    #    remove duplicate rows in geo_lookup due to registrar level segmentation\n",
    "    #    results in dims matching for expiry_test\n",
    "\n",
    "    geoLookupDF <- geoLookupDF %>% distinct(reseller,reseller_country, reseller_geo)\n",
    "\n",
    "    preds_df$reseller <- factor(preds_df$reseller)\n",
    "    preds_df$reseller_country <- factor(preds_df$reseller_country)\n",
    "    preds_df <- as.data.frame(preds_df)\n",
    "\n",
    "    preds_df <- merge(preds_df,\n",
    "                      geoLookupDF,\n",
    "                      on=c('reseller','reseller_country'), \n",
    "                      all.x = TRUE)\n",
    "    \n",
    "    \n",
    "    \n",
    "    # 2. create a new lookup where we drop everything except for \n",
    "    #    reseller_country and _geo and have NA map to Others\n",
    "    \n",
    "    geoLookupDF <- geoLookupDF %>% distinct(reseller_country, reseller_geo) %>% \n",
    "                    mutate(reseller_geo = as.character(reseller_geo)) %>%\n",
    "                    mutate(eseller_geo = if_else(is.na(reseller_country), 'Others', reseller_geo) ) %>% \n",
    "                    distinct(reseller_country, reseller_geo) %>% \n",
    "                    mutate(reseller_geo = as.factor(reseller_geo))\n",
    "\n",
    "    # use new lookup to fill reseller_geo based just on reseller_country\n",
    "    preds_df[['reseller_geo']][is.na(preds_df[['reseller_geo']])]<-\n",
    "                    geoLookupDF$reseller_geo[match(\n",
    "                        preds_df$reseller_country[is.na(preds_df[['reseller_geo']])],\n",
    "                        geoLookupDF$reseller_country)]\n",
    "\n",
    "    # manual fix for reseller geo \n",
    "    preds_df[['reseller_geo']][preds_df[['reseller_country']]=='Southafrica']<-'South Africa'\n",
    "\n",
    "    # Print remaining NA reseller_geos\n",
    "    rem_res <- preds_df %>% filter(is.na(reseller_geo)) %>% \n",
    "          distinct(reseller,reseller_country, reseller_geo) %>% pull(reseller)\n",
    "    cat(\"Resellers with unmatched reseller_geo's: \",paste0(rem_res, sep=\", \"))\n",
    "    \n",
    "    return(preds_df)\n",
    "}"
   ]
  },
  {
   "cell_type": "code",
   "execution_count": null,
   "metadata": {},
   "outputs": [],
   "source": []
  },
  {
   "cell_type": "code",
   "execution_count": 134,
   "metadata": {},
   "outputs": [
    {
     "name": "stdout",
     "output_type": "stream",
     "text": [
      "Resellers with unmatched reseller_geo's:  net4 india,  virtua drug, "
     ]
    }
   ],
   "source": [
    "preds_df_2 = geo_lookup(geoLookupDF,preds_df)\n"
   ]
  },
  {
   "cell_type": "code",
   "execution_count": 138,
   "metadata": {},
   "outputs": [
    {
     "name": "stderr",
     "output_type": "stream",
     "text": [
      "Warning message:\n",
      "“`funs()` is deprecated as of dplyr 0.8.0.\n",
      "Please use a list of either functions or lambdas: \n",
      "\n",
      "  # Simple named list: \n",
      "  list(mean = mean, median = median)\n",
      "\n",
      "  # Auto named with `tibble::lst()`: \n",
      "  tibble::lst(mean, median)\n",
      "\n",
      "  # Using lambdas\n",
      "  list(~ mean(., trim = .2), ~ median(., na.rm = TRUE))\n",
      "\u001b[90mThis warning is displayed once every 8 hours.\u001b[39m\n",
      "\u001b[90mCall `lifecycle::last_warnings()` to see where this warning was generated.\u001b[39m”\n"
     ]
    },
    {
     "data": {
      "text/html": [
       "<table>\n",
       "<caption>A matrix: 46 × 1 of type int</caption>\n",
       "<tbody>\n",
       "\t<tr><th scope=row>reseller</th><td>    0</td></tr>\n",
       "\t<tr><th scope=row>reseller_country</th><td>    0</td></tr>\n",
       "\t<tr><th scope=row>renewal_type</th><td>    0</td></tr>\n",
       "\t<tr><th scope=row>renewed_count</th><td>    0</td></tr>\n",
       "\t<tr><th scope=row>expiry_date</th><td>    0</td></tr>\n",
       "\t<tr><th scope=row>domain_id</th><td>    0</td></tr>\n",
       "\t<tr><th scope=row>domain</th><td>    0</td></tr>\n",
       "\t<tr><th scope=row>creation_date</th><td>    0</td></tr>\n",
       "\t<tr><th scope=row>status</th><td>    0</td></tr>\n",
       "\t<tr><th scope=row>tld</th><td>    0</td></tr>\n",
       "\t<tr><th scope=row>registrar</th><td>    0</td></tr>\n",
       "\t<tr><th scope=row>region</th><td>    0</td></tr>\n",
       "\t<tr><th scope=row>reg_period</th><td>    0</td></tr>\n",
       "\t<tr><th scope=row>registrant_country</th><td>11345</td></tr>\n",
       "\t<tr><th scope=row>renewal_status</th><td>    0</td></tr>\n",
       "\t<tr><th scope=row>renew_mbg</th><td>    0</td></tr>\n",
       "\t<tr><th scope=row>renew_type</th><td>  211</td></tr>\n",
       "\t<tr><th scope=row>autorenew_type</th><td> 3381</td></tr>\n",
       "\t<tr><th scope=row>renew_date</th><td>  213</td></tr>\n",
       "\t<tr><th scope=row>renew_registrar</th><td>    0</td></tr>\n",
       "\t<tr><th scope=row>renew_reseller</th><td>    0</td></tr>\n",
       "\t<tr><th scope=row>reg_revenue</th><td>    0</td></tr>\n",
       "\t<tr><th scope=row>reg_arpt</th><td>    0</td></tr>\n",
       "\t<tr><th scope=row>renew_period</th><td>  213</td></tr>\n",
       "\t<tr><th scope=row>renew_domain_revenue</th><td>    0</td></tr>\n",
       "\t<tr><th scope=row>renew_arpt</th><td>  213</td></tr>\n",
       "\t<tr><th scope=row>reg_arpt_org</th><td>    0</td></tr>\n",
       "\t<tr><th scope=row>tld_registrar_index</th><td>    0</td></tr>\n",
       "\t<tr><th scope=row>sld</th><td>    0</td></tr>\n",
       "\t<tr><th scope=row>sld_type</th><td>    0</td></tr>\n",
       "\t<tr><th scope=row>sld_length</th><td>    0</td></tr>\n",
       "\t<tr><th scope=row>sld_type2</th><td>    0</td></tr>\n",
       "\t<tr><th scope=row>day_domains</th><td>    0</td></tr>\n",
       "\t<tr><th scope=row>log_reg_arpt</th><td>    0</td></tr>\n",
       "\t<tr><th scope=row>gibb_score</th><td>    0</td></tr>\n",
       "\t<tr><th scope=row>pattern</th><td>    0</td></tr>\n",
       "\t<tr><th scope=row>cluster</th><td>    0</td></tr>\n",
       "\t<tr><th scope=row>pattern_score</th><td>    0</td></tr>\n",
       "\t<tr><th scope=row>pattern_domain_count</th><td>    0</td></tr>\n",
       "\t<tr><th scope=row>pred_agg_glm</th><td> 5845</td></tr>\n",
       "\t<tr><th scope=row>pred_agg_rf</th><td> 5845</td></tr>\n",
       "\t<tr><th scope=row>pred_seg_glm</th><td> 5845</td></tr>\n",
       "\t<tr><th scope=row>pred_seg_rf</th><td> 5845</td></tr>\n",
       "\t<tr><th scope=row>pred_seg2_glm</th><td> 5846</td></tr>\n",
       "\t<tr><th scope=row>pred_seg2_rf</th><td> 5845</td></tr>\n",
       "\t<tr><th scope=row>reseller_geo</th><td>    2</td></tr>\n",
       "</tbody>\n",
       "</table>\n"
      ],
      "text/latex": [
       "A matrix: 46 × 1 of type int\n",
       "\\begin{tabular}{r|l}\n",
       "\treseller &     0\\\\\n",
       "\treseller\\_country &     0\\\\\n",
       "\trenewal\\_type &     0\\\\\n",
       "\trenewed\\_count &     0\\\\\n",
       "\texpiry\\_date &     0\\\\\n",
       "\tdomain\\_id &     0\\\\\n",
       "\tdomain &     0\\\\\n",
       "\tcreation\\_date &     0\\\\\n",
       "\tstatus &     0\\\\\n",
       "\ttld &     0\\\\\n",
       "\tregistrar &     0\\\\\n",
       "\tregion &     0\\\\\n",
       "\treg\\_period &     0\\\\\n",
       "\tregistrant\\_country & 11345\\\\\n",
       "\trenewal\\_status &     0\\\\\n",
       "\trenew\\_mbg &     0\\\\\n",
       "\trenew\\_type &   211\\\\\n",
       "\tautorenew\\_type &  3381\\\\\n",
       "\trenew\\_date &   213\\\\\n",
       "\trenew\\_registrar &     0\\\\\n",
       "\trenew\\_reseller &     0\\\\\n",
       "\treg\\_revenue &     0\\\\\n",
       "\treg\\_arpt &     0\\\\\n",
       "\trenew\\_period &   213\\\\\n",
       "\trenew\\_domain\\_revenue &     0\\\\\n",
       "\trenew\\_arpt &   213\\\\\n",
       "\treg\\_arpt\\_org &     0\\\\\n",
       "\ttld\\_registrar\\_index &     0\\\\\n",
       "\tsld &     0\\\\\n",
       "\tsld\\_type &     0\\\\\n",
       "\tsld\\_length &     0\\\\\n",
       "\tsld\\_type2 &     0\\\\\n",
       "\tday\\_domains &     0\\\\\n",
       "\tlog\\_reg\\_arpt &     0\\\\\n",
       "\tgibb\\_score &     0\\\\\n",
       "\tpattern &     0\\\\\n",
       "\tcluster &     0\\\\\n",
       "\tpattern\\_score &     0\\\\\n",
       "\tpattern\\_domain\\_count &     0\\\\\n",
       "\tpred\\_agg\\_glm &  5845\\\\\n",
       "\tpred\\_agg\\_rf &  5845\\\\\n",
       "\tpred\\_seg\\_glm &  5845\\\\\n",
       "\tpred\\_seg\\_rf &  5845\\\\\n",
       "\tpred\\_seg2\\_glm &  5846\\\\\n",
       "\tpred\\_seg2\\_rf &  5845\\\\\n",
       "\treseller\\_geo &     2\\\\\n",
       "\\end{tabular}\n"
      ],
      "text/markdown": [
       "\n",
       "A matrix: 46 × 1 of type int\n",
       "\n",
       "| reseller |     0 |\n",
       "| reseller_country |     0 |\n",
       "| renewal_type |     0 |\n",
       "| renewed_count |     0 |\n",
       "| expiry_date |     0 |\n",
       "| domain_id |     0 |\n",
       "| domain |     0 |\n",
       "| creation_date |     0 |\n",
       "| status |     0 |\n",
       "| tld |     0 |\n",
       "| registrar |     0 |\n",
       "| region |     0 |\n",
       "| reg_period |     0 |\n",
       "| registrant_country | 11345 |\n",
       "| renewal_status |     0 |\n",
       "| renew_mbg |     0 |\n",
       "| renew_type |   211 |\n",
       "| autorenew_type |  3381 |\n",
       "| renew_date |   213 |\n",
       "| renew_registrar |     0 |\n",
       "| renew_reseller |     0 |\n",
       "| reg_revenue |     0 |\n",
       "| reg_arpt |     0 |\n",
       "| renew_period |   213 |\n",
       "| renew_domain_revenue |     0 |\n",
       "| renew_arpt |   213 |\n",
       "| reg_arpt_org |     0 |\n",
       "| tld_registrar_index |     0 |\n",
       "| sld |     0 |\n",
       "| sld_type |     0 |\n",
       "| sld_length |     0 |\n",
       "| sld_type2 |     0 |\n",
       "| day_domains |     0 |\n",
       "| log_reg_arpt |     0 |\n",
       "| gibb_score |     0 |\n",
       "| pattern |     0 |\n",
       "| cluster |     0 |\n",
       "| pattern_score |     0 |\n",
       "| pattern_domain_count |     0 |\n",
       "| pred_agg_glm |  5845 |\n",
       "| pred_agg_rf |  5845 |\n",
       "| pred_seg_glm |  5845 |\n",
       "| pred_seg_rf |  5845 |\n",
       "| pred_seg2_glm |  5846 |\n",
       "| pred_seg2_rf |  5845 |\n",
       "| reseller_geo |     2 |\n",
       "\n"
      ],
      "text/plain": [
       "                     [,1] \n",
       "reseller                 0\n",
       "reseller_country         0\n",
       "renewal_type             0\n",
       "renewed_count            0\n",
       "expiry_date              0\n",
       "domain_id                0\n",
       "domain                   0\n",
       "creation_date            0\n",
       "status                   0\n",
       "tld                      0\n",
       "registrar                0\n",
       "region                   0\n",
       "reg_period               0\n",
       "registrant_country   11345\n",
       "renewal_status           0\n",
       "renew_mbg                0\n",
       "renew_type             211\n",
       "autorenew_type        3381\n",
       "renew_date             213\n",
       "renew_registrar          0\n",
       "renew_reseller           0\n",
       "reg_revenue              0\n",
       "reg_arpt                 0\n",
       "renew_period           213\n",
       "renew_domain_revenue     0\n",
       "renew_arpt             213\n",
       "reg_arpt_org             0\n",
       "tld_registrar_index      0\n",
       "sld                      0\n",
       "sld_type                 0\n",
       "sld_length               0\n",
       "sld_type2                0\n",
       "day_domains              0\n",
       "log_reg_arpt             0\n",
       "gibb_score               0\n",
       "pattern                  0\n",
       "cluster                  0\n",
       "pattern_score            0\n",
       "pattern_domain_count     0\n",
       "pred_agg_glm          5845\n",
       "pred_agg_rf           5845\n",
       "pred_seg_glm          5845\n",
       "pred_seg_rf           5845\n",
       "pred_seg2_glm         5846\n",
       "pred_seg2_rf          5845\n",
       "reseller_geo             2"
      ]
     },
     "metadata": {},
     "output_type": "display_data"
    }
   ],
   "source": [
    "preds_df_2 %>%\n",
    "  select(everything()) %>%  # replace to your needs\n",
    "  summarise_all(funs(sum(is.na(.)))) %>% t()"
   ]
  },
  {
   "cell_type": "code",
   "execution_count": 136,
   "metadata": {},
   "outputs": [
    {
     "name": "stderr",
     "output_type": "stream",
     "text": [
      "`summarise()` regrouping output by 'tld', 'reseller_geo' (override with `.groups` argument)\n",
      "\n",
      "`summarise()` regrouping output by 'reseller_geo' (override with `.groups` argument)\n",
      "\n",
      "`summarise()` regrouping output by 'tld' (override with `.groups` argument)\n",
      "\n",
      "`summarise()` regrouping output by 'tld' (override with `.groups` argument)\n",
      "\n",
      "`summarise()` ungrouping output (override with `.groups` argument)\n",
      "\n",
      "`summarise()` regrouping output by 'tld' (override with `.groups` argument)\n",
      "\n",
      "`summarise()` ungrouping output (override with `.groups` argument)\n",
      "\n",
      "`summarise()` regrouping output by 'region' (override with `.groups` argument)\n",
      "\n",
      "`summarise()` ungrouping output (override with `.groups` argument)\n",
      "\n",
      "`summarise()` ungrouping output (override with `.groups` argument)\n",
      "\n"
     ]
    }
   ],
   "source": [
    "npv_fallback_list = fallback_gen( npv_historic_renewal_data = expiry_train_df_1, reseller_am_geo_map = geoLookupDF)"
   ]
  },
  {
   "cell_type": "code",
   "execution_count": 137,
   "metadata": {},
   "outputs": [
    {
     "data": {
      "text/html": [
       "<style>\n",
       ".list-inline {list-style: none; margin:0; padding: 0}\n",
       ".list-inline>li {display: inline-block}\n",
       ".list-inline>li:not(:last-child)::after {content: \"\\00b7\"; padding: 0 .5ex}\n",
       "</style>\n",
       "<ol class=list-inline><li>'npv_fallback_first_geo_arpt_tld'</li><li>'npv_fallback_first_geo_arpt'</li><li>'npv_fallback_first_tld_arpt'</li><li>'npv_fallback_second_tld_geo'</li><li>'npv_fallback_second_geo'</li><li>'npv_fallback_third_tld_geo'</li><li>'npv_fallback_third_geo'</li><li>'npv_fallback_first_final'</li><li>'npv_fallback_second_final'</li><li>'npv_fallback_third_final'</li></ol>\n"
      ],
      "text/latex": [
       "\\begin{enumerate*}\n",
       "\\item 'npv\\_fallback\\_first\\_geo\\_arpt\\_tld'\n",
       "\\item 'npv\\_fallback\\_first\\_geo\\_arpt'\n",
       "\\item 'npv\\_fallback\\_first\\_tld\\_arpt'\n",
       "\\item 'npv\\_fallback\\_second\\_tld\\_geo'\n",
       "\\item 'npv\\_fallback\\_second\\_geo'\n",
       "\\item 'npv\\_fallback\\_third\\_tld\\_geo'\n",
       "\\item 'npv\\_fallback\\_third\\_geo'\n",
       "\\item 'npv\\_fallback\\_first\\_final'\n",
       "\\item 'npv\\_fallback\\_second\\_final'\n",
       "\\item 'npv\\_fallback\\_third\\_final'\n",
       "\\end{enumerate*}\n"
      ],
      "text/markdown": [
       "1. 'npv_fallback_first_geo_arpt_tld'\n",
       "2. 'npv_fallback_first_geo_arpt'\n",
       "3. 'npv_fallback_first_tld_arpt'\n",
       "4. 'npv_fallback_second_tld_geo'\n",
       "5. 'npv_fallback_second_geo'\n",
       "6. 'npv_fallback_third_tld_geo'\n",
       "7. 'npv_fallback_third_geo'\n",
       "8. 'npv_fallback_first_final'\n",
       "9. 'npv_fallback_second_final'\n",
       "10. 'npv_fallback_third_final'\n",
       "\n",
       "\n"
      ],
      "text/plain": [
       " [1] \"npv_fallback_first_geo_arpt_tld\" \"npv_fallback_first_geo_arpt\"    \n",
       " [3] \"npv_fallback_first_tld_arpt\"     \"npv_fallback_second_tld_geo\"    \n",
       " [5] \"npv_fallback_second_geo\"         \"npv_fallback_third_tld_geo\"     \n",
       " [7] \"npv_fallback_third_geo\"          \"npv_fallback_first_final\"       \n",
       " [9] \"npv_fallback_second_final\"       \"npv_fallback_third_final\"       "
      ]
     },
     "metadata": {},
     "output_type": "display_data"
    }
   ],
   "source": [
    "# return list members to objects\n",
    "names(npv_fallback_list)\n",
    "for(i in 1:length(npv_fallback_list)) assign(names(npv_fallback_list)[i], npv_fallback_list[[i]])"
   ]
  },
  {
   "cell_type": "code",
   "execution_count": 143,
   "metadata": {},
   "outputs": [],
   "source": [
    "cols <- preds_df %>% select(contains(\"pred\")) %>% names()"
   ]
  },
  {
   "cell_type": "code",
   "execution_count": 145,
   "metadata": {},
   "outputs": [
    {
     "data": {
      "text/html": [
       "<style>\n",
       ".list-inline {list-style: none; margin:0; padding: 0}\n",
       ".list-inline>li {display: inline-block}\n",
       ".list-inline>li:not(:last-child)::after {content: \"\\00b7\"; padding: 0 .5ex}\n",
       "</style>\n",
       "<ol class=list-inline><li>11370</li><li>46</li></ol>\n"
      ],
      "text/latex": [
       "\\begin{enumerate*}\n",
       "\\item 11370\n",
       "\\item 46\n",
       "\\end{enumerate*}\n"
      ],
      "text/markdown": [
       "1. 11370\n",
       "2. 46\n",
       "\n",
       "\n"
      ],
      "text/plain": [
       "[1] 11370    46"
      ]
     },
     "metadata": {},
     "output_type": "display_data"
    },
    {
     "data": {
      "text/html": [
       "<style>\n",
       ".list-inline {list-style: none; margin:0; padding: 0}\n",
       ".list-inline>li {display: inline-block}\n",
       ".list-inline>li:not(:last-child)::after {content: \"\\00b7\"; padding: 0 .5ex}\n",
       "</style>\n",
       "<ol class=list-inline><li>11370</li><li>53</li></ol>\n"
      ],
      "text/latex": [
       "\\begin{enumerate*}\n",
       "\\item 11370\n",
       "\\item 53\n",
       "\\end{enumerate*}\n"
      ],
      "text/markdown": [
       "1. 11370\n",
       "2. 53\n",
       "\n",
       "\n"
      ],
      "text/plain": [
       "[1] 11370    53"
      ]
     },
     "metadata": {},
     "output_type": "display_data"
    }
   ],
   "source": [
    "preds_df_3 <- preds_df_2\n",
    "\n",
    "for (col in cols) {\n",
    "    preds_df_3 <- fallback_app_1(\n",
    "                test_data_op=preds_df_3,\n",
    "                in_col=col,\n",
    "                out_col=paste0(col,'_fb'))\n",
    "}\n",
    "\n",
    "\n",
    "dim(preds_df_2)\n",
    "dim(preds_df_3)"
   ]
  },
  {
   "cell_type": "code",
   "execution_count": 146,
   "metadata": {},
   "outputs": [
    {
     "data": {
      "text/html": [
       "<table>\n",
       "<caption>A matrix: 53 × 1 of type int</caption>\n",
       "<tbody>\n",
       "\t<tr><th scope=row>reseller</th><td>    0</td></tr>\n",
       "\t<tr><th scope=row>reseller_country</th><td>    0</td></tr>\n",
       "\t<tr><th scope=row>renewal_type</th><td>    0</td></tr>\n",
       "\t<tr><th scope=row>renewed_count</th><td>    0</td></tr>\n",
       "\t<tr><th scope=row>expiry_date</th><td>    0</td></tr>\n",
       "\t<tr><th scope=row>domain_id</th><td>    0</td></tr>\n",
       "\t<tr><th scope=row>domain</th><td>    0</td></tr>\n",
       "\t<tr><th scope=row>creation_date</th><td>    0</td></tr>\n",
       "\t<tr><th scope=row>status</th><td>    0</td></tr>\n",
       "\t<tr><th scope=row>tld</th><td>    0</td></tr>\n",
       "\t<tr><th scope=row>registrar</th><td>    0</td></tr>\n",
       "\t<tr><th scope=row>region</th><td>    0</td></tr>\n",
       "\t<tr><th scope=row>reg_period</th><td>    0</td></tr>\n",
       "\t<tr><th scope=row>registrant_country</th><td>11345</td></tr>\n",
       "\t<tr><th scope=row>renewal_status</th><td>    0</td></tr>\n",
       "\t<tr><th scope=row>renew_mbg</th><td>    0</td></tr>\n",
       "\t<tr><th scope=row>renew_type</th><td>  211</td></tr>\n",
       "\t<tr><th scope=row>autorenew_type</th><td> 3381</td></tr>\n",
       "\t<tr><th scope=row>renew_date</th><td>  213</td></tr>\n",
       "\t<tr><th scope=row>renew_registrar</th><td>    0</td></tr>\n",
       "\t<tr><th scope=row>renew_reseller</th><td>    0</td></tr>\n",
       "\t<tr><th scope=row>reg_revenue</th><td>    0</td></tr>\n",
       "\t<tr><th scope=row>reg_arpt</th><td>    0</td></tr>\n",
       "\t<tr><th scope=row>renew_period</th><td>  213</td></tr>\n",
       "\t<tr><th scope=row>renew_domain_revenue</th><td>    0</td></tr>\n",
       "\t<tr><th scope=row>renew_arpt</th><td>  213</td></tr>\n",
       "\t<tr><th scope=row>reg_arpt_org</th><td>    0</td></tr>\n",
       "\t<tr><th scope=row>tld_registrar_index</th><td>    0</td></tr>\n",
       "\t<tr><th scope=row>sld</th><td>    0</td></tr>\n",
       "\t<tr><th scope=row>sld_type</th><td>    0</td></tr>\n",
       "\t<tr><th scope=row>sld_length</th><td>    0</td></tr>\n",
       "\t<tr><th scope=row>sld_type2</th><td>    0</td></tr>\n",
       "\t<tr><th scope=row>day_domains</th><td>    0</td></tr>\n",
       "\t<tr><th scope=row>log_reg_arpt</th><td>    0</td></tr>\n",
       "\t<tr><th scope=row>gibb_score</th><td>    0</td></tr>\n",
       "\t<tr><th scope=row>pattern</th><td>    0</td></tr>\n",
       "\t<tr><th scope=row>cluster</th><td>    0</td></tr>\n",
       "\t<tr><th scope=row>pattern_score</th><td>    0</td></tr>\n",
       "\t<tr><th scope=row>pattern_domain_count</th><td>    0</td></tr>\n",
       "\t<tr><th scope=row>pred_agg_glm</th><td> 5845</td></tr>\n",
       "\t<tr><th scope=row>pred_agg_rf</th><td> 5845</td></tr>\n",
       "\t<tr><th scope=row>pred_seg_glm</th><td> 5845</td></tr>\n",
       "\t<tr><th scope=row>pred_seg_rf</th><td> 5845</td></tr>\n",
       "\t<tr><th scope=row>pred_seg2_glm</th><td> 5846</td></tr>\n",
       "\t<tr><th scope=row>pred_seg2_rf</th><td> 5845</td></tr>\n",
       "\t<tr><th scope=row>reseller_geo</th><td>    2</td></tr>\n",
       "\t<tr><th scope=row>reg_arpt_slab</th><td>    0</td></tr>\n",
       "\t<tr><th scope=row>pred_agg_glm_fb</th><td>    0</td></tr>\n",
       "\t<tr><th scope=row>pred_agg_rf_fb</th><td>    0</td></tr>\n",
       "\t<tr><th scope=row>pred_seg_glm_fb</th><td>    0</td></tr>\n",
       "\t<tr><th scope=row>pred_seg_rf_fb</th><td>    0</td></tr>\n",
       "\t<tr><th scope=row>pred_seg2_glm_fb</th><td>    0</td></tr>\n",
       "\t<tr><th scope=row>pred_seg2_rf_fb</th><td>    0</td></tr>\n",
       "</tbody>\n",
       "</table>\n"
      ],
      "text/latex": [
       "A matrix: 53 × 1 of type int\n",
       "\\begin{tabular}{r|l}\n",
       "\treseller &     0\\\\\n",
       "\treseller\\_country &     0\\\\\n",
       "\trenewal\\_type &     0\\\\\n",
       "\trenewed\\_count &     0\\\\\n",
       "\texpiry\\_date &     0\\\\\n",
       "\tdomain\\_id &     0\\\\\n",
       "\tdomain &     0\\\\\n",
       "\tcreation\\_date &     0\\\\\n",
       "\tstatus &     0\\\\\n",
       "\ttld &     0\\\\\n",
       "\tregistrar &     0\\\\\n",
       "\tregion &     0\\\\\n",
       "\treg\\_period &     0\\\\\n",
       "\tregistrant\\_country & 11345\\\\\n",
       "\trenewal\\_status &     0\\\\\n",
       "\trenew\\_mbg &     0\\\\\n",
       "\trenew\\_type &   211\\\\\n",
       "\tautorenew\\_type &  3381\\\\\n",
       "\trenew\\_date &   213\\\\\n",
       "\trenew\\_registrar &     0\\\\\n",
       "\trenew\\_reseller &     0\\\\\n",
       "\treg\\_revenue &     0\\\\\n",
       "\treg\\_arpt &     0\\\\\n",
       "\trenew\\_period &   213\\\\\n",
       "\trenew\\_domain\\_revenue &     0\\\\\n",
       "\trenew\\_arpt &   213\\\\\n",
       "\treg\\_arpt\\_org &     0\\\\\n",
       "\ttld\\_registrar\\_index &     0\\\\\n",
       "\tsld &     0\\\\\n",
       "\tsld\\_type &     0\\\\\n",
       "\tsld\\_length &     0\\\\\n",
       "\tsld\\_type2 &     0\\\\\n",
       "\tday\\_domains &     0\\\\\n",
       "\tlog\\_reg\\_arpt &     0\\\\\n",
       "\tgibb\\_score &     0\\\\\n",
       "\tpattern &     0\\\\\n",
       "\tcluster &     0\\\\\n",
       "\tpattern\\_score &     0\\\\\n",
       "\tpattern\\_domain\\_count &     0\\\\\n",
       "\tpred\\_agg\\_glm &  5845\\\\\n",
       "\tpred\\_agg\\_rf &  5845\\\\\n",
       "\tpred\\_seg\\_glm &  5845\\\\\n",
       "\tpred\\_seg\\_rf &  5845\\\\\n",
       "\tpred\\_seg2\\_glm &  5846\\\\\n",
       "\tpred\\_seg2\\_rf &  5845\\\\\n",
       "\treseller\\_geo &     2\\\\\n",
       "\treg\\_arpt\\_slab &     0\\\\\n",
       "\tpred\\_agg\\_glm\\_fb &     0\\\\\n",
       "\tpred\\_agg\\_rf\\_fb &     0\\\\\n",
       "\tpred\\_seg\\_glm\\_fb &     0\\\\\n",
       "\tpred\\_seg\\_rf\\_fb &     0\\\\\n",
       "\tpred\\_seg2\\_glm\\_fb &     0\\\\\n",
       "\tpred\\_seg2\\_rf\\_fb &     0\\\\\n",
       "\\end{tabular}\n"
      ],
      "text/markdown": [
       "\n",
       "A matrix: 53 × 1 of type int\n",
       "\n",
       "| reseller |     0 |\n",
       "| reseller_country |     0 |\n",
       "| renewal_type |     0 |\n",
       "| renewed_count |     0 |\n",
       "| expiry_date |     0 |\n",
       "| domain_id |     0 |\n",
       "| domain |     0 |\n",
       "| creation_date |     0 |\n",
       "| status |     0 |\n",
       "| tld |     0 |\n",
       "| registrar |     0 |\n",
       "| region |     0 |\n",
       "| reg_period |     0 |\n",
       "| registrant_country | 11345 |\n",
       "| renewal_status |     0 |\n",
       "| renew_mbg |     0 |\n",
       "| renew_type |   211 |\n",
       "| autorenew_type |  3381 |\n",
       "| renew_date |   213 |\n",
       "| renew_registrar |     0 |\n",
       "| renew_reseller |     0 |\n",
       "| reg_revenue |     0 |\n",
       "| reg_arpt |     0 |\n",
       "| renew_period |   213 |\n",
       "| renew_domain_revenue |     0 |\n",
       "| renew_arpt |   213 |\n",
       "| reg_arpt_org |     0 |\n",
       "| tld_registrar_index |     0 |\n",
       "| sld |     0 |\n",
       "| sld_type |     0 |\n",
       "| sld_length |     0 |\n",
       "| sld_type2 |     0 |\n",
       "| day_domains |     0 |\n",
       "| log_reg_arpt |     0 |\n",
       "| gibb_score |     0 |\n",
       "| pattern |     0 |\n",
       "| cluster |     0 |\n",
       "| pattern_score |     0 |\n",
       "| pattern_domain_count |     0 |\n",
       "| pred_agg_glm |  5845 |\n",
       "| pred_agg_rf |  5845 |\n",
       "| pred_seg_glm |  5845 |\n",
       "| pred_seg_rf |  5845 |\n",
       "| pred_seg2_glm |  5846 |\n",
       "| pred_seg2_rf |  5845 |\n",
       "| reseller_geo |     2 |\n",
       "| reg_arpt_slab |     0 |\n",
       "| pred_agg_glm_fb |     0 |\n",
       "| pred_agg_rf_fb |     0 |\n",
       "| pred_seg_glm_fb |     0 |\n",
       "| pred_seg_rf_fb |     0 |\n",
       "| pred_seg2_glm_fb |     0 |\n",
       "| pred_seg2_rf_fb |     0 |\n",
       "\n"
      ],
      "text/plain": [
       "                     [,1] \n",
       "reseller                 0\n",
       "reseller_country         0\n",
       "renewal_type             0\n",
       "renewed_count            0\n",
       "expiry_date              0\n",
       "domain_id                0\n",
       "domain                   0\n",
       "creation_date            0\n",
       "status                   0\n",
       "tld                      0\n",
       "registrar                0\n",
       "region                   0\n",
       "reg_period               0\n",
       "registrant_country   11345\n",
       "renewal_status           0\n",
       "renew_mbg                0\n",
       "renew_type             211\n",
       "autorenew_type        3381\n",
       "renew_date             213\n",
       "renew_registrar          0\n",
       "renew_reseller           0\n",
       "reg_revenue              0\n",
       "reg_arpt                 0\n",
       "renew_period           213\n",
       "renew_domain_revenue     0\n",
       "renew_arpt             213\n",
       "reg_arpt_org             0\n",
       "tld_registrar_index      0\n",
       "sld                      0\n",
       "sld_type                 0\n",
       "sld_length               0\n",
       "sld_type2                0\n",
       "day_domains              0\n",
       "log_reg_arpt             0\n",
       "gibb_score               0\n",
       "pattern                  0\n",
       "cluster                  0\n",
       "pattern_score            0\n",
       "pattern_domain_count     0\n",
       "pred_agg_glm          5845\n",
       "pred_agg_rf           5845\n",
       "pred_seg_glm          5845\n",
       "pred_seg_rf           5845\n",
       "pred_seg2_glm         5846\n",
       "pred_seg2_rf          5845\n",
       "reseller_geo             2\n",
       "reg_arpt_slab            0\n",
       "pred_agg_glm_fb          0\n",
       "pred_agg_rf_fb           0\n",
       "pred_seg_glm_fb          0\n",
       "pred_seg_rf_fb           0\n",
       "pred_seg2_glm_fb         0\n",
       "pred_seg2_rf_fb          0"
      ]
     },
     "metadata": {},
     "output_type": "display_data"
    }
   ],
   "source": [
    "preds_df_3 %>%\n",
    "  select(everything()) %>%  # replace to your needs\n",
    "  summarise_all(funs(sum(is.na(.)))) %>% t()"
   ]
  },
  {
   "cell_type": "markdown",
   "metadata": {},
   "source": [
    "# Scope out load_prep functions"
   ]
  },
  {
   "cell_type": "code",
   "execution_count": 15,
   "metadata": {},
   "outputs": [
    {
     "data": {
      "text/html": [
       "<style>\n",
       ".list-inline {list-style: none; margin:0; padding: 0}\n",
       ".list-inline>li {display: inline-block}\n",
       ".list-inline>li:not(:last-child)::after {content: \"\\00b7\"; padding: 0 .5ex}\n",
       "</style>\n",
       "<ol class=list-inline><li>1452307</li><li>27</li></ol>\n"
      ],
      "text/latex": [
       "\\begin{enumerate*}\n",
       "\\item 1452307\n",
       "\\item 27\n",
       "\\end{enumerate*}\n"
      ],
      "text/markdown": [
       "1. 1452307\n",
       "2. 27\n",
       "\n",
       "\n"
      ],
      "text/plain": [
       "[1] 1452307      27"
      ]
     },
     "metadata": {},
     "output_type": "display_data"
    },
    {
     "name": "stdout",
     "output_type": "stream",
     "text": [
      "tibble [1,452,307 × 27] (S3: tbl_df/tbl/data.frame)\n",
      " $ renewal_type        : chr [1:1452307] \"Second\" \"FirstTime\" \"FirstTime\" \"Second\" ...\n",
      " $ renewed_count       : int [1:1452307] 2 1 1 2 1 3 2 1 1 1 ...\n",
      " $ expiry_date         : Date[1:1452307], format: \"2020-08-28\" \"2020-08-28\" ...\n",
      " $ creation_date       : Date[1:1452307], format: \"2018-08-28\" \"2018-08-28\" ...\n",
      " $ domain_id           : int [1:1452307] 75268249 75227889 119902346 75269329 119873126 51570563 75278149 119958381 119912246 119832541 ...\n",
      " $ domain              : chr [1:1452307] \"grafenhaus.online\" \"pultech.tech\" \"lebedeva-olga.space\" \"rvparts.site\" ...\n",
      " $ registrar           : chr [1:1452307] \"United Domains\" \"Domain.com - Registrar\" \"PDR Ltd\" \"Namecheap\" ...\n",
      " $ reseller            : chr [1:1452307] \"United Domains\" \"Domain.com - Registrar\" \"Timeweb\" \"Namecheap\" ...\n",
      " $ reseller_country    : chr [1:1452307] \"Germany\" \"United States\" \"Russia\" \"United States\" ...\n",
      " $ registrant_country  : chr [1:1452307] NA NA NA NA ...\n",
      " $ reg_period          : int [1:1452307] 1 2 1 1 1 1 1 1 1 1 ...\n",
      " $ reg_revenue         : num [1:1452307] 10 23 0.2 12.5 50 12.5 16 -0.4 4.25 2.08 ...\n",
      " $ reg_arpt            : num [1:1452307] 10 11.5 0.2 12.5 50 12.5 16 -0.4 4.25 2.08 ...\n",
      " $ renew_mbg           : int [1:1452307] 0 0 0 0 0 0 0 0 0 0 ...\n",
      " $ renewal_item_id     : int [1:1452307] 0 0 340772378 222805996 340804723 332931424 0 340774508 340754198 340789238 ...\n",
      " $ renew_type          : chr [1:1452307] NA NA \"auto-renewal\" \"renewal\" ...\n",
      " $ autorenew_type      : chr [1:1452307] NA NA \"unrealized\" NA ...\n",
      " $ renewal_status      : chr [1:1452307] \"Not Renewd\" \"Not Renewd\" \"Not Renewd\" \"Renewed\" ...\n",
      " $ renew_date          : Date[1:1452307], format: NA NA ...\n",
      " $ renew_arpt          : num [1:1452307] NA NA 15 12.5 100 15.5 NA 15 25 21 ...\n",
      " $ gibb_score          : num [1:1452307] 3.62 5.61 2.41 1.6 6 5.5 8.7 1.58 3.12 7.64 ...\n",
      " $ pattern             : chr [1:1452307] \"grafenhaus\" \"pultech\" \"lebedeva-olga\" \"rvparts\" ...\n",
      " $ pattern_domain_count: int [1:1452307] 1 2 1 1 2 1 1 1 1 1 ...\n",
      " $ day_domains         : int [1:1452307] 15 7 4 847 2 71 43 264 9 34 ...\n",
      " $ sld_length          : int [1:1452307] 10 7 13 7 5 4 7 7 9 18 ...\n",
      " $ sld_type            : chr [1:1452307] \"l\" \"l\" \"hyphen-l\" \"l\" ...\n",
      " $ sld_type2           : chr [1:1452307] \"10l\" \"7l\" \"13hyphen-l\" \"7l\" ...\n"
     ]
    }
   ],
   "source": [
    "# load data\n",
    "expiry_df <- readRDS(\"/home/jupyter/local/Domains_202003/data/output/expiry_20200701_20201015\")\n",
    "dim(expiry_df)\n",
    "str(expiry_df)"
   ]
  },
  {
   "cell_type": "code",
   "execution_count": 17,
   "metadata": {},
   "outputs": [
    {
     "data": {
      "text/html": [
       "<table>\n",
       "<caption>A tibble: 6 × 8</caption>\n",
       "<thead>\n",
       "\t<tr><th scope=col>pattern_domain_count</th><th scope=col>reg_arpt</th><th scope=col>sld_length</th><th scope=col>gibb_score</th><th scope=col>sld_type</th><th scope=col>day_domains</th><th scope=col>reg_period</th><th scope=col>reseller</th></tr>\n",
       "\t<tr><th scope=col>&lt;int&gt;</th><th scope=col>&lt;dbl&gt;</th><th scope=col>&lt;int&gt;</th><th scope=col>&lt;dbl&gt;</th><th scope=col>&lt;chr&gt;</th><th scope=col>&lt;int&gt;</th><th scope=col>&lt;int&gt;</th><th scope=col>&lt;chr&gt;</th></tr>\n",
       "</thead>\n",
       "<tbody>\n",
       "\t<tr><td>1</td><td>10.0</td><td>10</td><td>3.62</td><td>l       </td><td> 15</td><td>1</td><td>United Domains        </td></tr>\n",
       "\t<tr><td>2</td><td>11.5</td><td> 7</td><td>5.61</td><td>l       </td><td>  7</td><td>2</td><td>Domain.com - Registrar</td></tr>\n",
       "\t<tr><td>1</td><td> 0.2</td><td>13</td><td>2.41</td><td>hyphen-l</td><td>  4</td><td>1</td><td>Timeweb               </td></tr>\n",
       "\t<tr><td>1</td><td>12.5</td><td> 7</td><td>1.60</td><td>l       </td><td>847</td><td>1</td><td>Namecheap             </td></tr>\n",
       "\t<tr><td>2</td><td>50.0</td><td> 5</td><td>6.00</td><td>l       </td><td>  2</td><td>1</td><td>United Domains        </td></tr>\n",
       "\t<tr><td>1</td><td>12.5</td><td> 4</td><td>5.50</td><td>l       </td><td> 71</td><td>1</td><td>Namecheap             </td></tr>\n",
       "</tbody>\n",
       "</table>\n"
      ],
      "text/latex": [
       "A tibble: 6 × 8\n",
       "\\begin{tabular}{llllllll}\n",
       " pattern\\_domain\\_count & reg\\_arpt & sld\\_length & gibb\\_score & sld\\_type & day\\_domains & reg\\_period & reseller\\\\\n",
       " <int> & <dbl> & <int> & <dbl> & <chr> & <int> & <int> & <chr>\\\\\n",
       "\\hline\n",
       "\t 1 & 10.0 & 10 & 3.62 & l        &  15 & 1 & United Domains        \\\\\n",
       "\t 2 & 11.5 &  7 & 5.61 & l        &   7 & 2 & Domain.com - Registrar\\\\\n",
       "\t 1 &  0.2 & 13 & 2.41 & hyphen-l &   4 & 1 & Timeweb               \\\\\n",
       "\t 1 & 12.5 &  7 & 1.60 & l        & 847 & 1 & Namecheap             \\\\\n",
       "\t 2 & 50.0 &  5 & 6.00 & l        &   2 & 1 & United Domains        \\\\\n",
       "\t 1 & 12.5 &  4 & 5.50 & l        &  71 & 1 & Namecheap             \\\\\n",
       "\\end{tabular}\n"
      ],
      "text/markdown": [
       "\n",
       "A tibble: 6 × 8\n",
       "\n",
       "| pattern_domain_count &lt;int&gt; | reg_arpt &lt;dbl&gt; | sld_length &lt;int&gt; | gibb_score &lt;dbl&gt; | sld_type &lt;chr&gt; | day_domains &lt;int&gt; | reg_period &lt;int&gt; | reseller &lt;chr&gt; |\n",
       "|---|---|---|---|---|---|---|---|\n",
       "| 1 | 10.0 | 10 | 3.62 | l        |  15 | 1 | United Domains         |\n",
       "| 2 | 11.5 |  7 | 5.61 | l        |   7 | 2 | Domain.com - Registrar |\n",
       "| 1 |  0.2 | 13 | 2.41 | hyphen-l |   4 | 1 | Timeweb                |\n",
       "| 1 | 12.5 |  7 | 1.60 | l        | 847 | 1 | Namecheap              |\n",
       "| 2 | 50.0 |  5 | 6.00 | l        |   2 | 1 | United Domains         |\n",
       "| 1 | 12.5 |  4 | 5.50 | l        |  71 | 1 | Namecheap              |\n",
       "\n"
      ],
      "text/plain": [
       "  pattern_domain_count reg_arpt sld_length gibb_score sld_type day_domains\n",
       "1 1                    10.0     10         3.62       l         15        \n",
       "2 2                    11.5      7         5.61       l          7        \n",
       "3 1                     0.2     13         2.41       hyphen-l   4        \n",
       "4 1                    12.5      7         1.60       l        847        \n",
       "5 2                    50.0      5         6.00       l          2        \n",
       "6 1                    12.5      4         5.50       l         71        \n",
       "  reg_period reseller              \n",
       "1 1          United Domains        \n",
       "2 2          Domain.com - Registrar\n",
       "3 1          Timeweb               \n",
       "4 1          Namecheap             \n",
       "5 1          United Domains        \n",
       "6 1          Namecheap             "
      ]
     },
     "metadata": {},
     "output_type": "display_data"
    }
   ],
   "source": [
    "necessary_cols <- c('pattern_domain_count','reg_arpt','sld_length','gibb_score',\n",
    "                    'sld_type','day_domains','reg_period','reseller')\n",
    "expiry_df %>% select(all_of(necessary_cols)) %>% head()"
   ]
  },
  {
   "cell_type": "code",
   "execution_count": 18,
   "metadata": {},
   "outputs": [
    {
     "ename": "ERROR",
     "evalue": "Error: Problem with `mutate()` input `tld_registrar_index`.\n\u001b[31m✖\u001b[39m object 'tld' not found\n\u001b[34mℹ\u001b[39m Input `tld_registrar_index` is `tolower(paste(tld, reseller, sep = \"\"))`.\n",
     "output_type": "error",
     "traceback": [
      "Error: Problem with `mutate()` input `tld_registrar_index`.\n\u001b[31m✖\u001b[39m object 'tld' not found\n\u001b[34mℹ\u001b[39m Input `tld_registrar_index` is `tolower(paste(tld, reseller, sep = \"\"))`.\nTraceback:\n",
      "1. expiry_df %>% mutate(reg_arpt = ifelse(reg_arpt <= 0, 1e-04, \n .     reg_arpt), log_reg_arpt = log(reg_arpt), tld_registrar_index = tolower(paste(tld, \n .     reseller, sep = \"\")))",
      "2. withVisible(eval(quote(`_fseq`(`_lhs`)), env, env))",
      "3. eval(quote(`_fseq`(`_lhs`)), env, env)",
      "4. eval(quote(`_fseq`(`_lhs`)), env, env)",
      "5. `_fseq`(`_lhs`)",
      "6. freduce(value, `_function_list`)",
      "7. withVisible(function_list[[k]](value))",
      "8. function_list[[k]](value)",
      "9. mutate(., reg_arpt = ifelse(reg_arpt <= 0, 1e-04, reg_arpt), \n .     log_reg_arpt = log(reg_arpt), tld_registrar_index = tolower(paste(tld, \n .         reseller, sep = \"\")))",
      "10. mutate.data.frame(., reg_arpt = ifelse(reg_arpt <= 0, 1e-04, \n  .     reg_arpt), log_reg_arpt = log(reg_arpt), tld_registrar_index = tolower(paste(tld, \n  .     reseller, sep = \"\")))",
      "11. mutate_cols(.data, ...)",
      "12. tryCatch({\n  .     for (i in seq_along(dots)) {\n  .         not_named <- (is.null(dots_names) || dots_names[i] == \n  .             \"\")\n  .         chunks <- NULL\n  .         result <- NULL\n  .         if (quo_is_symbol(dots[[i]])) {\n  .             name <- as_string(quo_get_expr(dots[[i]]))\n  .             if (name %in% names(new_columns)) {\n  .                 result <- new_columns[[name]]\n  .                 chunks <- mask$get_resolved(name)\n  .             }\n  .             else if (name %in% names(.data)) {\n  .                 result <- .data[[name]]\n  .                 chunks <- mask$resolve(name)\n  .             }\n  .             if (inherits(.data, \"rowwise_df\") && vec_is_list(result)) {\n  .                 sizes <- list_sizes(result)\n  .                 wrong <- which(sizes != 1)\n  .                 if (length(wrong)) {\n  .                   group <- wrong[1L]\n  .                   mask$set_current_group(group)\n  .                   stop_mutate_recycle_incompatible_size(sizes[group])\n  .                 }\n  .             }\n  .         }\n  .         if (is.null(chunks)) {\n  .             chunks <- mask$eval_all_mutate(dots[[i]])\n  .         }\n  .         mask$across_cache_reset()\n  .         if (is.null(chunks)) {\n  .             if (!is.null(dots_names) && dots_names[i] != \"\") {\n  .                 new_columns[[dots_names[i]]] <- zap()\n  .                 suppressWarnings(mask$remove(dots_names[i]))\n  .             }\n  .             next\n  .         }\n  .         if (is.null(result)) {\n  .             result <- tryCatch(vec_unchop(chunks, rows), vctrs_error_incompatible_type = function(cnd) {\n  .                 abort(class = \"dplyr:::error_mutate_incompatible_combine\", \n  .                   parent = cnd)\n  .             })\n  .         }\n  .         if (not_named && is.data.frame(result)) {\n  .             new_columns[names(result)] <- result\n  .             map2(seq_along(result), names(result), function(i, \n  .                 nm) {\n  .                 mask$add(nm, pluck(chunks, i))\n  .             })\n  .         }\n  .         else {\n  .             name <- if (not_named) \n  .                 auto_named_dots[i]\n  .             else dots_names[i]\n  .             new_columns[[name]] <- result\n  .             mask$add(name, chunks)\n  .         }\n  .     }\n  . }, error = function(e) {\n  .     if (inherits(e, \"rlang_error_data_pronoun_not_found\")) {\n  .         stop_error_data_pronoun_not_found(conditionMessage(e), \n  .             index = i, dots = dots, fn = \"mutate\")\n  .     }\n  .     else if (inherits(e, \"dplyr:::mutate_incompatible_size\")) {\n  .         e$size <- vec_size(rows[[i]])\n  .         stop_mutate_recycle_incompatible_size(e, index = i, dots = dots)\n  .     }\n  .     else if (inherits(e, \"dplyr:::mutate_mixed_null\")) {\n  .         stop_mutate_mixed_null(index = i, dots = dots)\n  .     }\n  .     else if (inherits(e, \"dplyr:::mutate_not_vector\")) {\n  .         stop_mutate_not_vector(index = i, dots = dots, result = e$result)\n  .     }\n  .     else if (inherits(e, \"dplyr:::error_mutate_incompatible_combine\")) {\n  .         stop_combine(e$parent, index = i, dots = dots, fn = \"mutate\")\n  .     }\n  .     else {\n  .         stop_dplyr(i, dots, fn = \"mutate\", problem = conditionMessage(e), \n  .             parent = e)\n  .     }\n  . })",
      "13. tryCatchList(expr, classes, parentenv, handlers)",
      "14. tryCatchOne(expr, names, parentenv, handlers[[1L]])",
      "15. value[[3L]](cond)",
      "16. stop_dplyr(i, dots, fn = \"mutate\", problem = conditionMessage(e), \n  .     parent = e)",
      "17. abort(bullets, class = \"dplyr_error\", error_name = error_name, \n  .     error_expression = error_expression, index = .index, dots = dots, \n  .     fn = fn, parent = parent)",
      "18. signal_abort(cnd)"
     ]
    }
   ],
   "source": [
    "# expiry_df <- expiry_df %>% mutate (reg_arpt = ifelse(reg_arpt <= 0, 0.0001,reg_arpt),\n",
    "#                                    log_reg_arpt = log(reg_arpt),\n",
    "#                                    tld_registrar_index = tolower(paste(tld, reseller,sep=\"\")))\n",
    "# str(expiry_df)\n",
    "# head(expiry_df)"
   ]
  },
  {
   "cell_type": "code",
   "execution_count": 6,
   "metadata": {},
   "outputs": [
    {
     "data": {
      "text/plain": [
       "   Min. 1st Qu.  Median    Mean 3rd Qu.    Max. \n",
       "-9.2103 -0.9163 -0.5276 -0.8236  0.4055  4.1744 "
      ]
     },
     "metadata": {},
     "output_type": "display_data"
    },
    {
     "data": {
      "text/html": [
       "0"
      ],
      "text/latex": [
       "0"
      ],
      "text/markdown": [
       "0"
      ],
      "text/plain": [
       "[1] 0"
      ]
     },
     "metadata": {},
     "output_type": "display_data"
    }
   ],
   "source": [
    "summary(expiry_df$log_reg_arpt)\n",
    "sum(is.na(expiry_df$log_reg_arpt))"
   ]
  },
  {
   "cell_type": "markdown",
   "metadata": {},
   "source": [
    "## missing data\n",
    "Training model_agg_rf_ALL\n",
    "Error: Missing data in columns: pattern_domain_count, sld_length, gibb_score, sld_type, day_domains."
   ]
  },
  {
   "cell_type": "code",
   "execution_count": 19,
   "metadata": {},
   "outputs": [
    {
     "data": {
      "text/html": [
       "<table>\n",
       "<caption>A matrix: 27 × 1 of type int</caption>\n",
       "<tbody>\n",
       "\t<tr><th scope=row>renewal_type</th><td>      0</td></tr>\n",
       "\t<tr><th scope=row>renewed_count</th><td>      0</td></tr>\n",
       "\t<tr><th scope=row>expiry_date</th><td>      0</td></tr>\n",
       "\t<tr><th scope=row>creation_date</th><td>   3084</td></tr>\n",
       "\t<tr><th scope=row>domain_id</th><td>      0</td></tr>\n",
       "\t<tr><th scope=row>domain</th><td>      0</td></tr>\n",
       "\t<tr><th scope=row>registrar</th><td>      0</td></tr>\n",
       "\t<tr><th scope=row>reseller</th><td>      0</td></tr>\n",
       "\t<tr><th scope=row>reseller_country</th><td>      0</td></tr>\n",
       "\t<tr><th scope=row>registrant_country</th><td>1451243</td></tr>\n",
       "\t<tr><th scope=row>reg_period</th><td>      0</td></tr>\n",
       "\t<tr><th scope=row>reg_revenue</th><td>      0</td></tr>\n",
       "\t<tr><th scope=row>reg_arpt</th><td>      0</td></tr>\n",
       "\t<tr><th scope=row>renew_mbg</th><td>      1</td></tr>\n",
       "\t<tr><th scope=row>renewal_item_id</th><td>      0</td></tr>\n",
       "\t<tr><th scope=row>renew_type</th><td> 150143</td></tr>\n",
       "\t<tr><th scope=row>autorenew_type</th><td> 778787</td></tr>\n",
       "\t<tr><th scope=row>renewal_status</th><td>      0</td></tr>\n",
       "\t<tr><th scope=row>renew_date</th><td> 150590</td></tr>\n",
       "\t<tr><th scope=row>renew_arpt</th><td> 150591</td></tr>\n",
       "\t<tr><th scope=row>gibb_score</th><td>  80084</td></tr>\n",
       "\t<tr><th scope=row>pattern</th><td>  80084</td></tr>\n",
       "\t<tr><th scope=row>pattern_domain_count</th><td>  80084</td></tr>\n",
       "\t<tr><th scope=row>day_domains</th><td>  80084</td></tr>\n",
       "\t<tr><th scope=row>sld_length</th><td>  80084</td></tr>\n",
       "\t<tr><th scope=row>sld_type</th><td>  80084</td></tr>\n",
       "\t<tr><th scope=row>sld_type2</th><td>  80084</td></tr>\n",
       "</tbody>\n",
       "</table>\n"
      ],
      "text/latex": [
       "A matrix: 27 × 1 of type int\n",
       "\\begin{tabular}{r|l}\n",
       "\trenewal\\_type &       0\\\\\n",
       "\trenewed\\_count &       0\\\\\n",
       "\texpiry\\_date &       0\\\\\n",
       "\tcreation\\_date &    3084\\\\\n",
       "\tdomain\\_id &       0\\\\\n",
       "\tdomain &       0\\\\\n",
       "\tregistrar &       0\\\\\n",
       "\treseller &       0\\\\\n",
       "\treseller\\_country &       0\\\\\n",
       "\tregistrant\\_country & 1451243\\\\\n",
       "\treg\\_period &       0\\\\\n",
       "\treg\\_revenue &       0\\\\\n",
       "\treg\\_arpt &       0\\\\\n",
       "\trenew\\_mbg &       1\\\\\n",
       "\trenewal\\_item\\_id &       0\\\\\n",
       "\trenew\\_type &  150143\\\\\n",
       "\tautorenew\\_type &  778787\\\\\n",
       "\trenewal\\_status &       0\\\\\n",
       "\trenew\\_date &  150590\\\\\n",
       "\trenew\\_arpt &  150591\\\\\n",
       "\tgibb\\_score &   80084\\\\\n",
       "\tpattern &   80084\\\\\n",
       "\tpattern\\_domain\\_count &   80084\\\\\n",
       "\tday\\_domains &   80084\\\\\n",
       "\tsld\\_length &   80084\\\\\n",
       "\tsld\\_type &   80084\\\\\n",
       "\tsld\\_type2 &   80084\\\\\n",
       "\\end{tabular}\n"
      ],
      "text/markdown": [
       "\n",
       "A matrix: 27 × 1 of type int\n",
       "\n",
       "| renewal_type |       0 |\n",
       "| renewed_count |       0 |\n",
       "| expiry_date |       0 |\n",
       "| creation_date |    3084 |\n",
       "| domain_id |       0 |\n",
       "| domain |       0 |\n",
       "| registrar |       0 |\n",
       "| reseller |       0 |\n",
       "| reseller_country |       0 |\n",
       "| registrant_country | 1451243 |\n",
       "| reg_period |       0 |\n",
       "| reg_revenue |       0 |\n",
       "| reg_arpt |       0 |\n",
       "| renew_mbg |       1 |\n",
       "| renewal_item_id |       0 |\n",
       "| renew_type |  150143 |\n",
       "| autorenew_type |  778787 |\n",
       "| renewal_status |       0 |\n",
       "| renew_date |  150590 |\n",
       "| renew_arpt |  150591 |\n",
       "| gibb_score |   80084 |\n",
       "| pattern |   80084 |\n",
       "| pattern_domain_count |   80084 |\n",
       "| day_domains |   80084 |\n",
       "| sld_length |   80084 |\n",
       "| sld_type |   80084 |\n",
       "| sld_type2 |   80084 |\n",
       "\n"
      ],
      "text/plain": [
       "                     [,1]   \n",
       "renewal_type               0\n",
       "renewed_count              0\n",
       "expiry_date                0\n",
       "creation_date           3084\n",
       "domain_id                  0\n",
       "domain                     0\n",
       "registrar                  0\n",
       "reseller                   0\n",
       "reseller_country           0\n",
       "registrant_country   1451243\n",
       "reg_period                 0\n",
       "reg_revenue                0\n",
       "reg_arpt                   0\n",
       "renew_mbg                  1\n",
       "renewal_item_id            0\n",
       "renew_type            150143\n",
       "autorenew_type        778787\n",
       "renewal_status             0\n",
       "renew_date            150590\n",
       "renew_arpt            150591\n",
       "gibb_score             80084\n",
       "pattern                80084\n",
       "pattern_domain_count   80084\n",
       "day_domains            80084\n",
       "sld_length             80084\n",
       "sld_type               80084\n",
       "sld_type2              80084"
      ]
     },
     "metadata": {},
     "output_type": "display_data"
    }
   ],
   "source": [
    "expiry_df %>%\n",
    "  select(everything()) %>% \n",
    "  summarise_all(funs(sum(is.na(.)))) %>% t()"
   ]
  },
  {
   "cell_type": "code",
   "execution_count": 34,
   "metadata": {},
   "outputs": [
    {
     "data": {
      "text/html": [
       "<table>\n",
       "<caption>A matrix: 5 × 1 of type int</caption>\n",
       "<tbody>\n",
       "\t<tr><th scope=row>pattern_domain_count</th><td>593</td></tr>\n",
       "\t<tr><th scope=row>sld_length</th><td>593</td></tr>\n",
       "\t<tr><th scope=row>gibb_score</th><td>593</td></tr>\n",
       "\t<tr><th scope=row>sld_type</th><td>593</td></tr>\n",
       "\t<tr><th scope=row>day_domains</th><td>593</td></tr>\n",
       "</tbody>\n",
       "</table>\n"
      ],
      "text/latex": [
       "A matrix: 5 × 1 of type int\n",
       "\\begin{tabular}{r|l}\n",
       "\tpattern\\_domain\\_count & 593\\\\\n",
       "\tsld\\_length & 593\\\\\n",
       "\tgibb\\_score & 593\\\\\n",
       "\tsld\\_type & 593\\\\\n",
       "\tday\\_domains & 593\\\\\n",
       "\\end{tabular}\n"
      ],
      "text/markdown": [
       "\n",
       "A matrix: 5 × 1 of type int\n",
       "\n",
       "| pattern_domain_count | 593 |\n",
       "| sld_length | 593 |\n",
       "| gibb_score | 593 |\n",
       "| sld_type | 593 |\n",
       "| day_domains | 593 |\n",
       "\n"
      ],
      "text/plain": [
       "                     [,1]\n",
       "pattern_domain_count 593 \n",
       "sld_length           593 \n",
       "gibb_score           593 \n",
       "sld_type             593 \n",
       "day_domains          593 "
      ]
     },
     "metadata": {},
     "output_type": "display_data"
    }
   ],
   "source": [
    "expiry_df %>% filter(is.na(gibb_score)) %>% filter(renewed_count==1) %>% select(pattern_domain_count, sld_length, gibb_score, sld_type, day_domains) %>% \n",
    "  summarise_all(funs(sum(is.na(.)))) %>% t()"
   ]
  },
  {
   "cell_type": "code",
   "execution_count": 22,
   "metadata": {},
   "outputs": [
    {
     "data": {
      "text/html": [
       "<table>\n",
       "<caption>A tibble: 1 × 2</caption>\n",
       "<thead>\n",
       "\t<tr><th scope=col>min(expiry_date)</th><th scope=col>max(expiry_date)</th></tr>\n",
       "\t<tr><th scope=col>&lt;date&gt;</th><th scope=col>&lt;date&gt;</th></tr>\n",
       "</thead>\n",
       "<tbody>\n",
       "\t<tr><td>2020-07-01</td><td>2020-10-15</td></tr>\n",
       "</tbody>\n",
       "</table>\n"
      ],
      "text/latex": [
       "A tibble: 1 × 2\n",
       "\\begin{tabular}{ll}\n",
       " min(expiry\\_date) & max(expiry\\_date)\\\\\n",
       " <date> & <date>\\\\\n",
       "\\hline\n",
       "\t 2020-07-01 & 2020-10-15\\\\\n",
       "\\end{tabular}\n"
      ],
      "text/markdown": [
       "\n",
       "A tibble: 1 × 2\n",
       "\n",
       "| min(expiry_date) &lt;date&gt; | max(expiry_date) &lt;date&gt; |\n",
       "|---|---|\n",
       "| 2020-07-01 | 2020-10-15 |\n",
       "\n"
      ],
      "text/plain": [
       "  min(expiry_date) max(expiry_date)\n",
       "1 2020-07-01       2020-10-15      "
      ]
     },
     "metadata": {},
     "output_type": "display_data"
    }
   ],
   "source": [
    "expiry_df %>% filter(is.na(gibb_score)) %>% summarise(min(expiry_date), max(expiry_date))"
   ]
  },
  {
   "cell_type": "code",
   "execution_count": 33,
   "metadata": {},
   "outputs": [
    {
     "name": "stderr",
     "output_type": "stream",
     "text": [
      "`summarise()` ungrouping output (override with `.groups` argument)\n",
      "\n"
     ]
    },
    {
     "data": {
      "text/html": [
       "<table>\n",
       "<caption>A tibble: 4 × 2</caption>\n",
       "<thead>\n",
       "\t<tr><th scope=col>month</th><th scope=col>count</th></tr>\n",
       "\t<tr><th scope=col>&lt;date&gt;</th><th scope=col>&lt;int&gt;</th></tr>\n",
       "</thead>\n",
       "<tbody>\n",
       "\t<tr><td>2020-07-01</td><td>107</td></tr>\n",
       "\t<tr><td>2020-08-01</td><td>174</td></tr>\n",
       "\t<tr><td>2020-09-01</td><td>222</td></tr>\n",
       "\t<tr><td>2020-10-01</td><td> 90</td></tr>\n",
       "</tbody>\n",
       "</table>\n"
      ],
      "text/latex": [
       "A tibble: 4 × 2\n",
       "\\begin{tabular}{ll}\n",
       " month & count\\\\\n",
       " <date> & <int>\\\\\n",
       "\\hline\n",
       "\t 2020-07-01 & 107\\\\\n",
       "\t 2020-08-01 & 174\\\\\n",
       "\t 2020-09-01 & 222\\\\\n",
       "\t 2020-10-01 &  90\\\\\n",
       "\\end{tabular}\n"
      ],
      "text/markdown": [
       "\n",
       "A tibble: 4 × 2\n",
       "\n",
       "| month &lt;date&gt; | count &lt;int&gt; |\n",
       "|---|---|\n",
       "| 2020-07-01 | 107 |\n",
       "| 2020-08-01 | 174 |\n",
       "| 2020-09-01 | 222 |\n",
       "| 2020-10-01 |  90 |\n",
       "\n"
      ],
      "text/plain": [
       "  month      count\n",
       "1 2020-07-01 107  \n",
       "2 2020-08-01 174  \n",
       "3 2020-09-01 222  \n",
       "4 2020-10-01  90  "
      ]
     },
     "metadata": {},
     "output_type": "display_data"
    }
   ],
   "source": [
    "\n",
    "library(lubridate)\n",
    "expiry_df %>% filter(is.na(gibb_score)) %>% filter(renewed_count==1) %>% group_by(month=floor_date(expiry_date, \"month\")) %>%\n",
    "   summarize(count=n())"
   ]
  },
  {
   "cell_type": "code",
   "execution_count": 25,
   "metadata": {},
   "outputs": [
    {
     "data": {
      "text/html": [
       "<table>\n",
       "<caption>A matrix: 5 × 1 of type int</caption>\n",
       "<tbody>\n",
       "\t<tr><th scope=row>pattern_domain_count</th><td>0</td></tr>\n",
       "\t<tr><th scope=row>sld_length</th><td>0</td></tr>\n",
       "\t<tr><th scope=row>gibb_score</th><td>0</td></tr>\n",
       "\t<tr><th scope=row>sld_type</th><td>0</td></tr>\n",
       "\t<tr><th scope=row>day_domains</th><td>0</td></tr>\n",
       "</tbody>\n",
       "</table>\n"
      ],
      "text/latex": [
       "A matrix: 5 × 1 of type int\n",
       "\\begin{tabular}{r|l}\n",
       "\tpattern\\_domain\\_count & 0\\\\\n",
       "\tsld\\_length & 0\\\\\n",
       "\tgibb\\_score & 0\\\\\n",
       "\tsld\\_type & 0\\\\\n",
       "\tday\\_domains & 0\\\\\n",
       "\\end{tabular}\n"
      ],
      "text/markdown": [
       "\n",
       "A matrix: 5 × 1 of type int\n",
       "\n",
       "| pattern_domain_count | 0 |\n",
       "| sld_length | 0 |\n",
       "| gibb_score | 0 |\n",
       "| sld_type | 0 |\n",
       "| day_domains | 0 |\n",
       "\n"
      ],
      "text/plain": [
       "                     [,1]\n",
       "pattern_domain_count 0   \n",
       "sld_length           0   \n",
       "gibb_score           0   \n",
       "sld_type             0   \n",
       "day_domains          0   "
      ]
     },
     "metadata": {},
     "output_type": "display_data"
    }
   ],
   "source": [
    "expiry_train_df_1  %>%  filter(is.na(gibb_score)) %>% select(pattern_domain_count, sld_length, gibb_score, sld_type, day_domains) %>% \n",
    "  summarise_all(funs(sum(is.na(.)))) %>% t()"
   ]
  },
  {
   "cell_type": "code",
   "execution_count": 27,
   "metadata": {},
   "outputs": [
    {
     "data": {
      "text/html": [
       "<style>\n",
       ".list-inline {list-style: none; margin:0; padding: 0}\n",
       ".list-inline>li {display: inline-block}\n",
       ".list-inline>li:not(:last-child)::after {content: \"\\00b7\"; padding: 0 .5ex}\n",
       "</style>\n",
       "<ol class=list-inline><li>'renewal_type'</li><li>'renewed_count'</li><li>'expiry_date'</li><li>'creation_date'</li><li>'domain_id'</li><li>'domain'</li><li>'registrar'</li><li>'reseller'</li><li>'reseller_country'</li><li>'registrant_country'</li><li>'reg_period'</li><li>'reg_revenue'</li><li>'reg_arpt'</li><li>'renew_mbg'</li><li>'renewal_item_id'</li><li>'renew_type'</li><li>'autorenew_type'</li><li>'renewal_status'</li><li>'renew_date'</li><li>'renew_arpt'</li><li>'gibb_score'</li><li>'pattern'</li><li>'pattern_domain_count'</li><li>'day_domains'</li><li>'sld_length'</li><li>'sld_type'</li><li>'sld_type2'</li></ol>\n"
      ],
      "text/latex": [
       "\\begin{enumerate*}\n",
       "\\item 'renewal\\_type'\n",
       "\\item 'renewed\\_count'\n",
       "\\item 'expiry\\_date'\n",
       "\\item 'creation\\_date'\n",
       "\\item 'domain\\_id'\n",
       "\\item 'domain'\n",
       "\\item 'registrar'\n",
       "\\item 'reseller'\n",
       "\\item 'reseller\\_country'\n",
       "\\item 'registrant\\_country'\n",
       "\\item 'reg\\_period'\n",
       "\\item 'reg\\_revenue'\n",
       "\\item 'reg\\_arpt'\n",
       "\\item 'renew\\_mbg'\n",
       "\\item 'renewal\\_item\\_id'\n",
       "\\item 'renew\\_type'\n",
       "\\item 'autorenew\\_type'\n",
       "\\item 'renewal\\_status'\n",
       "\\item 'renew\\_date'\n",
       "\\item 'renew\\_arpt'\n",
       "\\item 'gibb\\_score'\n",
       "\\item 'pattern'\n",
       "\\item 'pattern\\_domain\\_count'\n",
       "\\item 'day\\_domains'\n",
       "\\item 'sld\\_length'\n",
       "\\item 'sld\\_type'\n",
       "\\item 'sld\\_type2'\n",
       "\\end{enumerate*}\n"
      ],
      "text/markdown": [
       "1. 'renewal_type'\n",
       "2. 'renewed_count'\n",
       "3. 'expiry_date'\n",
       "4. 'creation_date'\n",
       "5. 'domain_id'\n",
       "6. 'domain'\n",
       "7. 'registrar'\n",
       "8. 'reseller'\n",
       "9. 'reseller_country'\n",
       "10. 'registrant_country'\n",
       "11. 'reg_period'\n",
       "12. 'reg_revenue'\n",
       "13. 'reg_arpt'\n",
       "14. 'renew_mbg'\n",
       "15. 'renewal_item_id'\n",
       "16. 'renew_type'\n",
       "17. 'autorenew_type'\n",
       "18. 'renewal_status'\n",
       "19. 'renew_date'\n",
       "20. 'renew_arpt'\n",
       "21. 'gibb_score'\n",
       "22. 'pattern'\n",
       "23. 'pattern_domain_count'\n",
       "24. 'day_domains'\n",
       "25. 'sld_length'\n",
       "26. 'sld_type'\n",
       "27. 'sld_type2'\n",
       "\n",
       "\n"
      ],
      "text/plain": [
       " [1] \"renewal_type\"         \"renewed_count\"        \"expiry_date\"         \n",
       " [4] \"creation_date\"        \"domain_id\"            \"domain\"              \n",
       " [7] \"registrar\"            \"reseller\"             \"reseller_country\"    \n",
       "[10] \"registrant_country\"   \"reg_period\"           \"reg_revenue\"         \n",
       "[13] \"reg_arpt\"             \"renew_mbg\"            \"renewal_item_id\"     \n",
       "[16] \"renew_type\"           \"autorenew_type\"       \"renewal_status\"      \n",
       "[19] \"renew_date\"           \"renew_arpt\"           \"gibb_score\"          \n",
       "[22] \"pattern\"              \"pattern_domain_count\" \"day_domains\"         \n",
       "[25] \"sld_length\"           \"sld_type\"             \"sld_type2\"           "
      ]
     },
     "metadata": {},
     "output_type": "display_data"
    }
   ],
   "source": [
    "names(expiry_df)"
   ]
  },
  {
   "cell_type": "code",
   "execution_count": 28,
   "metadata": {},
   "outputs": [
    {
     "data": {
      "text/html": [
       "<table>\n",
       "<caption>A tibble: 7 × 2</caption>\n",
       "<thead>\n",
       "\t<tr><th scope=col>renewed_count</th><th scope=col>n</th></tr>\n",
       "\t<tr><th scope=col>&lt;int&gt;</th><th scope=col>&lt;int&gt;</th></tr>\n",
       "</thead>\n",
       "<tbody>\n",
       "\t<tr><td>1</td><td>  90</td></tr>\n",
       "\t<tr><td>2</td><td> 275</td></tr>\n",
       "\t<tr><td>3</td><td> 497</td></tr>\n",
       "\t<tr><td>4</td><td>3968</td></tr>\n",
       "\t<tr><td>5</td><td>2941</td></tr>\n",
       "\t<tr><td>6</td><td> 649</td></tr>\n",
       "\t<tr><td>7</td><td> 252</td></tr>\n",
       "</tbody>\n",
       "</table>\n"
      ],
      "text/latex": [
       "A tibble: 7 × 2\n",
       "\\begin{tabular}{ll}\n",
       " renewed\\_count & n\\\\\n",
       " <int> & <int>\\\\\n",
       "\\hline\n",
       "\t 1 &   90\\\\\n",
       "\t 2 &  275\\\\\n",
       "\t 3 &  497\\\\\n",
       "\t 4 & 3968\\\\\n",
       "\t 5 & 2941\\\\\n",
       "\t 6 &  649\\\\\n",
       "\t 7 &  252\\\\\n",
       "\\end{tabular}\n"
      ],
      "text/markdown": [
       "\n",
       "A tibble: 7 × 2\n",
       "\n",
       "| renewed_count &lt;int&gt; | n &lt;int&gt; |\n",
       "|---|---|\n",
       "| 1 |   90 |\n",
       "| 2 |  275 |\n",
       "| 3 |  497 |\n",
       "| 4 | 3968 |\n",
       "| 5 | 2941 |\n",
       "| 6 |  649 |\n",
       "| 7 |  252 |\n",
       "\n"
      ],
      "text/plain": [
       "  renewed_count n   \n",
       "1 1               90\n",
       "2 2              275\n",
       "3 3              497\n",
       "4 4             3968\n",
       "5 5             2941\n",
       "6 6              649\n",
       "7 7              252"
      ]
     },
     "metadata": {},
     "output_type": "display_data"
    }
   ],
   "source": [
    "expiry_df %>% filter(is.na(gibb_score)) %>% filter(floor_date(expiry_date, \"month\")=='2020-10-01') %>% group_by(renewed_count) %>% tally()"
   ]
  },
  {
   "cell_type": "code",
   "execution_count": 32,
   "metadata": {},
   "outputs": [
    {
     "data": {
      "text/html": [
       "<table>\n",
       "<caption>A tibble: 5 × 2</caption>\n",
       "<thead>\n",
       "\t<tr><th scope=col>floor_date(creation_date, \"month\")</th><th scope=col>n</th></tr>\n",
       "\t<tr><th scope=col>&lt;date&gt;</th><th scope=col>&lt;int&gt;</th></tr>\n",
       "</thead>\n",
       "<tbody>\n",
       "\t<tr><td>2013-10-01</td><td> 271</td></tr>\n",
       "\t<tr><td>2014-10-01</td><td> 756</td></tr>\n",
       "\t<tr><td>2015-10-01</td><td>3364</td></tr>\n",
       "\t<tr><td>2016-10-01</td><td>4253</td></tr>\n",
       "\t<tr><td>NA</td><td>  28</td></tr>\n",
       "</tbody>\n",
       "</table>\n"
      ],
      "text/latex": [
       "A tibble: 5 × 2\n",
       "\\begin{tabular}{ll}\n",
       " floor\\_date(creation\\_date, \"month\") & n\\\\\n",
       " <date> & <int>\\\\\n",
       "\\hline\n",
       "\t 2013-10-01 &  271\\\\\n",
       "\t 2014-10-01 &  756\\\\\n",
       "\t 2015-10-01 & 3364\\\\\n",
       "\t 2016-10-01 & 4253\\\\\n",
       "\t NA &   28\\\\\n",
       "\\end{tabular}\n"
      ],
      "text/markdown": [
       "\n",
       "A tibble: 5 × 2\n",
       "\n",
       "| floor_date(creation_date, \"month\") &lt;date&gt; | n &lt;int&gt; |\n",
       "|---|---|\n",
       "| 2013-10-01 |  271 |\n",
       "| 2014-10-01 |  756 |\n",
       "| 2015-10-01 | 3364 |\n",
       "| 2016-10-01 | 4253 |\n",
       "| NA |   28 |\n",
       "\n"
      ],
      "text/plain": [
       "  floor_date(creation_date, \"month\") n   \n",
       "1 2013-10-01                          271\n",
       "2 2014-10-01                          756\n",
       "3 2015-10-01                         3364\n",
       "4 2016-10-01                         4253\n",
       "5 <NA>                                 28"
      ]
     },
     "metadata": {},
     "output_type": "display_data"
    }
   ],
   "source": [
    "expiry_df %>% filter(is.na(gibb_score)) %>% filter(floor_date(expiry_date, \"month\")=='2020-10-01') %>% \n",
    "    group_by(floor_date(creation_date, \"month\") ) %>% tally()"
   ]
  },
  {
   "cell_type": "markdown",
   "metadata": {},
   "source": [
    "# Check -- did we exclude renewed_count>1 from previous analyses?"
   ]
  },
  {
   "cell_type": "code",
   "execution_count": 6,
   "metadata": {},
   "outputs": [
    {
     "data": {
      "text/html": [
       "<style>\n",
       ".list-inline {list-style: none; margin:0; padding: 0}\n",
       ".list-inline>li {display: inline-block}\n",
       ".list-inline>li:not(:last-child)::after {content: \"\\00b7\"; padding: 0 .5ex}\n",
       "</style>\n",
       "<ol class=list-inline><li>'renewal_type'</li><li>'renewed_count'</li><li>'expiry_date'</li><li>'domain_id'</li><li>'domain'</li><li>'creation_date'</li><li>'status'</li><li>'tld'</li><li>'registrar'</li><li>'reseller'</li><li>'reseller_country'</li><li>'region'</li><li>'reg_period'</li><li>'registrant_country'</li><li>'renewal_status'</li><li>'renew_mbg'</li><li>'renew_type'</li><li>'autorenew_type'</li><li>'renew_date'</li><li>'renew_registrar'</li><li>'renew_reseller'</li><li>'reg_revenue'</li><li>'reg_arpt'</li><li>'renew_period'</li><li>'renew_domain_revenue'</li><li>'renew_arpt'</li><li>'reg_arpt_org'</li><li>'tld_registrar_index'</li><li>'sld'</li><li>'sld_type'</li><li>'sld_length'</li><li>'sld_type2'</li><li>'day_domains'</li><li>'log_reg_arpt'</li><li>'gibb_score'</li><li>'pattern'</li><li>'cluster'</li><li>'pattern_score'</li><li>'pattern_domain_count'</li></ol>\n"
      ],
      "text/latex": [
       "\\begin{enumerate*}\n",
       "\\item 'renewal\\_type'\n",
       "\\item 'renewed\\_count'\n",
       "\\item 'expiry\\_date'\n",
       "\\item 'domain\\_id'\n",
       "\\item 'domain'\n",
       "\\item 'creation\\_date'\n",
       "\\item 'status'\n",
       "\\item 'tld'\n",
       "\\item 'registrar'\n",
       "\\item 'reseller'\n",
       "\\item 'reseller\\_country'\n",
       "\\item 'region'\n",
       "\\item 'reg\\_period'\n",
       "\\item 'registrant\\_country'\n",
       "\\item 'renewal\\_status'\n",
       "\\item 'renew\\_mbg'\n",
       "\\item 'renew\\_type'\n",
       "\\item 'autorenew\\_type'\n",
       "\\item 'renew\\_date'\n",
       "\\item 'renew\\_registrar'\n",
       "\\item 'renew\\_reseller'\n",
       "\\item 'reg\\_revenue'\n",
       "\\item 'reg\\_arpt'\n",
       "\\item 'renew\\_period'\n",
       "\\item 'renew\\_domain\\_revenue'\n",
       "\\item 'renew\\_arpt'\n",
       "\\item 'reg\\_arpt\\_org'\n",
       "\\item 'tld\\_registrar\\_index'\n",
       "\\item 'sld'\n",
       "\\item 'sld\\_type'\n",
       "\\item 'sld\\_length'\n",
       "\\item 'sld\\_type2'\n",
       "\\item 'day\\_domains'\n",
       "\\item 'log\\_reg\\_arpt'\n",
       "\\item 'gibb\\_score'\n",
       "\\item 'pattern'\n",
       "\\item 'cluster'\n",
       "\\item 'pattern\\_score'\n",
       "\\item 'pattern\\_domain\\_count'\n",
       "\\end{enumerate*}\n"
      ],
      "text/markdown": [
       "1. 'renewal_type'\n",
       "2. 'renewed_count'\n",
       "3. 'expiry_date'\n",
       "4. 'domain_id'\n",
       "5. 'domain'\n",
       "6. 'creation_date'\n",
       "7. 'status'\n",
       "8. 'tld'\n",
       "9. 'registrar'\n",
       "10. 'reseller'\n",
       "11. 'reseller_country'\n",
       "12. 'region'\n",
       "13. 'reg_period'\n",
       "14. 'registrant_country'\n",
       "15. 'renewal_status'\n",
       "16. 'renew_mbg'\n",
       "17. 'renew_type'\n",
       "18. 'autorenew_type'\n",
       "19. 'renew_date'\n",
       "20. 'renew_registrar'\n",
       "21. 'renew_reseller'\n",
       "22. 'reg_revenue'\n",
       "23. 'reg_arpt'\n",
       "24. 'renew_period'\n",
       "25. 'renew_domain_revenue'\n",
       "26. 'renew_arpt'\n",
       "27. 'reg_arpt_org'\n",
       "28. 'tld_registrar_index'\n",
       "29. 'sld'\n",
       "30. 'sld_type'\n",
       "31. 'sld_length'\n",
       "32. 'sld_type2'\n",
       "33. 'day_domains'\n",
       "34. 'log_reg_arpt'\n",
       "35. 'gibb_score'\n",
       "36. 'pattern'\n",
       "37. 'cluster'\n",
       "38. 'pattern_score'\n",
       "39. 'pattern_domain_count'\n",
       "\n",
       "\n"
      ],
      "text/plain": [
       " [1] \"renewal_type\"         \"renewed_count\"        \"expiry_date\"         \n",
       " [4] \"domain_id\"            \"domain\"               \"creation_date\"       \n",
       " [7] \"status\"               \"tld\"                  \"registrar\"           \n",
       "[10] \"reseller\"             \"reseller_country\"     \"region\"              \n",
       "[13] \"reg_period\"           \"registrant_country\"   \"renewal_status\"      \n",
       "[16] \"renew_mbg\"            \"renew_type\"           \"autorenew_type\"      \n",
       "[19] \"renew_date\"           \"renew_registrar\"      \"renew_reseller\"      \n",
       "[22] \"reg_revenue\"          \"reg_arpt\"             \"renew_period\"        \n",
       "[25] \"renew_domain_revenue\" \"renew_arpt\"           \"reg_arpt_org\"        \n",
       "[28] \"tld_registrar_index\"  \"sld\"                  \"sld_type\"            \n",
       "[31] \"sld_length\"           \"sld_type2\"            \"day_domains\"         \n",
       "[34] \"log_reg_arpt\"         \"gibb_score\"           \"pattern\"             \n",
       "[37] \"cluster\"              \"pattern_score\"        \"pattern_domain_count\""
      ]
     },
     "metadata": {},
     "output_type": "display_data"
    }
   ],
   "source": [
    "names(expiry_train_df_1)"
   ]
  },
  {
   "cell_type": "code",
   "execution_count": 7,
   "metadata": {},
   "outputs": [
    {
     "data": {
      "text/html": [
       "<table>\n",
       "<caption>A tibble: 1 × 2</caption>\n",
       "<thead>\n",
       "\t<tr><th scope=col>renewed_count</th><th scope=col>n</th></tr>\n",
       "\t<tr><th scope=col>&lt;int&gt;</th><th scope=col>&lt;int&gt;</th></tr>\n",
       "</thead>\n",
       "<tbody>\n",
       "\t<tr><td>1</td><td>1188250</td></tr>\n",
       "</tbody>\n",
       "</table>\n"
      ],
      "text/latex": [
       "A tibble: 1 × 2\n",
       "\\begin{tabular}{ll}\n",
       " renewed\\_count & n\\\\\n",
       " <int> & <int>\\\\\n",
       "\\hline\n",
       "\t 1 & 1188250\\\\\n",
       "\\end{tabular}\n"
      ],
      "text/markdown": [
       "\n",
       "A tibble: 1 × 2\n",
       "\n",
       "| renewed_count &lt;int&gt; | n &lt;int&gt; |\n",
       "|---|---|\n",
       "| 1 | 1188250 |\n",
       "\n"
      ],
      "text/plain": [
       "  renewed_count n      \n",
       "1 1             1188250"
      ]
     },
     "metadata": {},
     "output_type": "display_data"
    }
   ],
   "source": [
    "expiry_train_df_1 %>% group_by(renewed_count) %>% tally()"
   ]
  },
  {
   "cell_type": "markdown",
   "metadata": {},
   "source": [
    "# Last check in before script run 20201028"
   ]
  },
  {
   "cell_type": "code",
   "execution_count": 4,
   "metadata": {},
   "outputs": [],
   "source": [
    "library(dplyr)"
   ]
  },
  {
   "cell_type": "code",
   "execution_count": 27,
   "metadata": {},
   "outputs": [],
   "source": [
    "expiry_df <- readRDS(\"/home/jupyter/local/Domains_202003/data/output/expiry_20190601_20200901\")"
   ]
  },
  {
   "cell_type": "code",
   "execution_count": 28,
   "metadata": {},
   "outputs": [
    {
     "data": {
      "text/html": [
       "<style>\n",
       ".list-inline {list-style: none; margin:0; padding: 0}\n",
       ".list-inline>li {display: inline-block}\n",
       ".list-inline>li:not(:last-child)::after {content: \"\\00b7\"; padding: 0 .5ex}\n",
       "</style>\n",
       "<ol class=list-inline><li>5455386</li><li>28</li></ol>\n"
      ],
      "text/latex": [
       "\\begin{enumerate*}\n",
       "\\item 5455386\n",
       "\\item 28\n",
       "\\end{enumerate*}\n"
      ],
      "text/markdown": [
       "1. 5455386\n",
       "2. 28\n",
       "\n",
       "\n"
      ],
      "text/plain": [
       "[1] 5455386      28"
      ]
     },
     "metadata": {},
     "output_type": "display_data"
    },
    {
     "data": {
      "text/html": [
       "<table>\n",
       "<caption>A tibble: 1 × 2</caption>\n",
       "<thead>\n",
       "\t<tr><th scope=col>max(expiry_date)</th><th scope=col>min(expiry_date)</th></tr>\n",
       "\t<tr><th scope=col>&lt;date&gt;</th><th scope=col>&lt;date&gt;</th></tr>\n",
       "</thead>\n",
       "<tbody>\n",
       "\t<tr><td>2020-09-01</td><td>2019-06-01</td></tr>\n",
       "</tbody>\n",
       "</table>\n"
      ],
      "text/latex": [
       "A tibble: 1 × 2\n",
       "\\begin{tabular}{ll}\n",
       " max(expiry\\_date) & min(expiry\\_date)\\\\\n",
       " <date> & <date>\\\\\n",
       "\\hline\n",
       "\t 2020-09-01 & 2019-06-01\\\\\n",
       "\\end{tabular}\n"
      ],
      "text/markdown": [
       "\n",
       "A tibble: 1 × 2\n",
       "\n",
       "| max(expiry_date) &lt;date&gt; | min(expiry_date) &lt;date&gt; |\n",
       "|---|---|\n",
       "| 2020-09-01 | 2019-06-01 |\n",
       "\n"
      ],
      "text/plain": [
       "  max(expiry_date) min(expiry_date)\n",
       "1 2020-09-01       2019-06-01      "
      ]
     },
     "metadata": {},
     "output_type": "display_data"
    }
   ],
   "source": [
    "dim(expiry_df)\n",
    "expiry_df %>% summarise(max(expiry_date), min(expiry_date))"
   ]
  },
  {
   "cell_type": "code",
   "execution_count": 29,
   "metadata": {},
   "outputs": [
    {
     "data": {
      "text/html": [
       "<style>\n",
       ".list-inline {list-style: none; margin:0; padding: 0}\n",
       ".list-inline>li {display: inline-block}\n",
       ".list-inline>li:not(:last-child)::after {content: \"\\00b7\"; padding: 0 .5ex}\n",
       "</style>\n",
       "<ol class=list-inline><li>5455386</li><li>28</li></ol>\n"
      ],
      "text/latex": [
       "\\begin{enumerate*}\n",
       "\\item 5455386\n",
       "\\item 28\n",
       "\\end{enumerate*}\n"
      ],
      "text/markdown": [
       "1. 5455386\n",
       "2. 28\n",
       "\n",
       "\n"
      ],
      "text/plain": [
       "[1] 5455386      28"
      ]
     },
     "metadata": {},
     "output_type": "display_data"
    },
    {
     "data": {
      "text/html": [
       "<table>\n",
       "<caption>A tibble: 1 × 2</caption>\n",
       "<thead>\n",
       "\t<tr><th scope=col>max(expiry_date)</th><th scope=col>min(expiry_date)</th></tr>\n",
       "\t<tr><th scope=col>&lt;date&gt;</th><th scope=col>&lt;date&gt;</th></tr>\n",
       "</thead>\n",
       "<tbody>\n",
       "\t<tr><td>2020-09-01</td><td>2019-06-01</td></tr>\n",
       "</tbody>\n",
       "</table>\n"
      ],
      "text/latex": [
       "A tibble: 1 × 2\n",
       "\\begin{tabular}{ll}\n",
       " max(expiry\\_date) & min(expiry\\_date)\\\\\n",
       " <date> & <date>\\\\\n",
       "\\hline\n",
       "\t 2020-09-01 & 2019-06-01\\\\\n",
       "\\end{tabular}\n"
      ],
      "text/markdown": [
       "\n",
       "A tibble: 1 × 2\n",
       "\n",
       "| max(expiry_date) &lt;date&gt; | min(expiry_date) &lt;date&gt; |\n",
       "|---|---|\n",
       "| 2020-09-01 | 2019-06-01 |\n",
       "\n"
      ],
      "text/plain": [
       "  max(expiry_date) min(expiry_date)\n",
       "1 2020-09-01       2019-06-01      "
      ]
     },
     "metadata": {},
     "output_type": "display_data"
    }
   ],
   "source": [
    "expiry_df <- expiry_df %>% filter(expiry_date >= as.Date(\"2019-06-01\") & expiry_date <= as.Date(\"2020-09-01\"))\n",
    "dim(expiry_df)\n",
    "expiry_df %>% summarise(max(expiry_date), min(expiry_date))"
   ]
  },
  {
   "cell_type": "code",
   "execution_count": 30,
   "metadata": {},
   "outputs": [
    {
     "data": {
      "text/html": [
       "<table>\n",
       "<caption>A tibble: 8 × 2</caption>\n",
       "<thead>\n",
       "\t<tr><th scope=col>renewed_count</th><th scope=col>n</th></tr>\n",
       "\t<tr><th scope=col>&lt;int&gt;</th><th scope=col>&lt;int&gt;</th></tr>\n",
       "</thead>\n",
       "<tbody>\n",
       "\t<tr><td>1</td><td>4688060</td></tr>\n",
       "\t<tr><td>2</td><td> 366856</td></tr>\n",
       "\t<tr><td>3</td><td> 200646</td></tr>\n",
       "\t<tr><td>4</td><td> 137897</td></tr>\n",
       "\t<tr><td>5</td><td>  50449</td></tr>\n",
       "\t<tr><td>6</td><td>   7628</td></tr>\n",
       "\t<tr><td>7</td><td>   3662</td></tr>\n",
       "\t<tr><td>8</td><td>    188</td></tr>\n",
       "</tbody>\n",
       "</table>\n"
      ],
      "text/latex": [
       "A tibble: 8 × 2\n",
       "\\begin{tabular}{ll}\n",
       " renewed\\_count & n\\\\\n",
       " <int> & <int>\\\\\n",
       "\\hline\n",
       "\t 1 & 4688060\\\\\n",
       "\t 2 &  366856\\\\\n",
       "\t 3 &  200646\\\\\n",
       "\t 4 &  137897\\\\\n",
       "\t 5 &   50449\\\\\n",
       "\t 6 &    7628\\\\\n",
       "\t 7 &    3662\\\\\n",
       "\t 8 &     188\\\\\n",
       "\\end{tabular}\n"
      ],
      "text/markdown": [
       "\n",
       "A tibble: 8 × 2\n",
       "\n",
       "| renewed_count &lt;int&gt; | n &lt;int&gt; |\n",
       "|---|---|\n",
       "| 1 | 4688060 |\n",
       "| 2 |  366856 |\n",
       "| 3 |  200646 |\n",
       "| 4 |  137897 |\n",
       "| 5 |   50449 |\n",
       "| 6 |    7628 |\n",
       "| 7 |    3662 |\n",
       "| 8 |     188 |\n",
       "\n"
      ],
      "text/plain": [
       "  renewed_count n      \n",
       "1 1             4688060\n",
       "2 2              366856\n",
       "3 3              200646\n",
       "4 4              137897\n",
       "5 5               50449\n",
       "6 6                7628\n",
       "7 7                3662\n",
       "8 8                 188"
      ]
     },
     "metadata": {},
     "output_type": "display_data"
    }
   ],
   "source": [
    "expiry_df %>% group_by(renewed_count) %>% tally()"
   ]
  },
  {
   "cell_type": "code",
   "execution_count": 31,
   "metadata": {},
   "outputs": [
    {
     "data": {
      "text/html": [
       "<style>\n",
       ".list-inline {list-style: none; margin:0; padding: 0}\n",
       ".list-inline>li {display: inline-block}\n",
       ".list-inline>li:not(:last-child)::after {content: \"\\00b7\"; padding: 0 .5ex}\n",
       "</style>\n",
       "<ol class=list-inline><li>4688060</li><li>28</li></ol>\n"
      ],
      "text/latex": [
       "\\begin{enumerate*}\n",
       "\\item 4688060\n",
       "\\item 28\n",
       "\\end{enumerate*}\n"
      ],
      "text/markdown": [
       "1. 4688060\n",
       "2. 28\n",
       "\n",
       "\n"
      ],
      "text/plain": [
       "[1] 4688060      28"
      ]
     },
     "metadata": {},
     "output_type": "display_data"
    },
    {
     "data": {
      "text/html": [
       "<table>\n",
       "<caption>A tibble: 1 × 2</caption>\n",
       "<thead>\n",
       "\t<tr><th scope=col>max(expiry_date)</th><th scope=col>min(expiry_date)</th></tr>\n",
       "\t<tr><th scope=col>&lt;date&gt;</th><th scope=col>&lt;date&gt;</th></tr>\n",
       "</thead>\n",
       "<tbody>\n",
       "\t<tr><td>2020-09-01</td><td>2019-06-01</td></tr>\n",
       "</tbody>\n",
       "</table>\n"
      ],
      "text/latex": [
       "A tibble: 1 × 2\n",
       "\\begin{tabular}{ll}\n",
       " max(expiry\\_date) & min(expiry\\_date)\\\\\n",
       " <date> & <date>\\\\\n",
       "\\hline\n",
       "\t 2020-09-01 & 2019-06-01\\\\\n",
       "\\end{tabular}\n"
      ],
      "text/markdown": [
       "\n",
       "A tibble: 1 × 2\n",
       "\n",
       "| max(expiry_date) &lt;date&gt; | min(expiry_date) &lt;date&gt; |\n",
       "|---|---|\n",
       "| 2020-09-01 | 2019-06-01 |\n",
       "\n"
      ],
      "text/plain": [
       "  max(expiry_date) min(expiry_date)\n",
       "1 2020-09-01       2019-06-01      "
      ]
     },
     "metadata": {},
     "output_type": "display_data"
    },
    {
     "data": {
      "text/html": [
       "<table>\n",
       "<caption>A tibble: 1 × 2</caption>\n",
       "<thead>\n",
       "\t<tr><th scope=col>renewed_count</th><th scope=col>n</th></tr>\n",
       "\t<tr><th scope=col>&lt;int&gt;</th><th scope=col>&lt;int&gt;</th></tr>\n",
       "</thead>\n",
       "<tbody>\n",
       "\t<tr><td>1</td><td>4688060</td></tr>\n",
       "</tbody>\n",
       "</table>\n"
      ],
      "text/latex": [
       "A tibble: 1 × 2\n",
       "\\begin{tabular}{ll}\n",
       " renewed\\_count & n\\\\\n",
       " <int> & <int>\\\\\n",
       "\\hline\n",
       "\t 1 & 4688060\\\\\n",
       "\\end{tabular}\n"
      ],
      "text/markdown": [
       "\n",
       "A tibble: 1 × 2\n",
       "\n",
       "| renewed_count &lt;int&gt; | n &lt;int&gt; |\n",
       "|---|---|\n",
       "| 1 | 4688060 |\n",
       "\n"
      ],
      "text/plain": [
       "  renewed_count n      \n",
       "1 1             4688060"
      ]
     },
     "metadata": {},
     "output_type": "display_data"
    }
   ],
   "source": [
    "expiry_df <- expiry_df %>% filter(renewed_count==1)\n",
    "dim(expiry_df)\n",
    "expiry_df %>% summarise(max(expiry_date), min(expiry_date))\n",
    "expiry_df %>% group_by(renewed_count) %>% tally()"
   ]
  },
  {
   "cell_type": "code",
   "execution_count": 32,
   "metadata": {},
   "outputs": [
    {
     "data": {
      "text/html": [
       "<table>\n",
       "<caption>A matrix: 28 × 1 of type int</caption>\n",
       "<tbody>\n",
       "\t<tr><th scope=row>renewal_type</th><td>      0</td></tr>\n",
       "\t<tr><th scope=row>renewed_count</th><td>      0</td></tr>\n",
       "\t<tr><th scope=row>expiry_date</th><td>      0</td></tr>\n",
       "\t<tr><th scope=row>creation_date</th><td>      0</td></tr>\n",
       "\t<tr><th scope=row>domain_id</th><td>      0</td></tr>\n",
       "\t<tr><th scope=row>domain</th><td>      0</td></tr>\n",
       "\t<tr><th scope=row>registrar</th><td>      0</td></tr>\n",
       "\t<tr><th scope=row>reseller</th><td>      0</td></tr>\n",
       "\t<tr><th scope=row>reseller_country</th><td>      0</td></tr>\n",
       "\t<tr><th scope=row>registrant_country</th><td>4680297</td></tr>\n",
       "\t<tr><th scope=row>reg_period</th><td>      0</td></tr>\n",
       "\t<tr><th scope=row>reg_revenue</th><td>      0</td></tr>\n",
       "\t<tr><th scope=row>reg_arpt</th><td>      0</td></tr>\n",
       "\t<tr><th scope=row>renew_mbg</th><td>      0</td></tr>\n",
       "\t<tr><th scope=row>renewal_item_id</th><td>      0</td></tr>\n",
       "\t<tr><th scope=row>renew_type</th><td> 138755</td></tr>\n",
       "\t<tr><th scope=row>autorenew_type</th><td> 412170</td></tr>\n",
       "\t<tr><th scope=row>renewal_status</th><td>      0</td></tr>\n",
       "\t<tr><th scope=row>renew_date</th><td> 139091</td></tr>\n",
       "\t<tr><th scope=row>renew_arpt</th><td> 139095</td></tr>\n",
       "\t<tr><th scope=row>gibb_score</th><td>   7748</td></tr>\n",
       "\t<tr><th scope=row>pattern</th><td>   7748</td></tr>\n",
       "\t<tr><th scope=row>pattern_domain_count</th><td>   7748</td></tr>\n",
       "\t<tr><th scope=row>day_domains</th><td>   7748</td></tr>\n",
       "\t<tr><th scope=row>sld_length</th><td>   7748</td></tr>\n",
       "\t<tr><th scope=row>sld_type</th><td>   7748</td></tr>\n",
       "\t<tr><th scope=row>sld_type2</th><td>   7748</td></tr>\n",
       "\t<tr><th scope=row>tld</th><td>      0</td></tr>\n",
       "</tbody>\n",
       "</table>\n"
      ],
      "text/latex": [
       "A matrix: 28 × 1 of type int\n",
       "\\begin{tabular}{r|l}\n",
       "\trenewal\\_type &       0\\\\\n",
       "\trenewed\\_count &       0\\\\\n",
       "\texpiry\\_date &       0\\\\\n",
       "\tcreation\\_date &       0\\\\\n",
       "\tdomain\\_id &       0\\\\\n",
       "\tdomain &       0\\\\\n",
       "\tregistrar &       0\\\\\n",
       "\treseller &       0\\\\\n",
       "\treseller\\_country &       0\\\\\n",
       "\tregistrant\\_country & 4680297\\\\\n",
       "\treg\\_period &       0\\\\\n",
       "\treg\\_revenue &       0\\\\\n",
       "\treg\\_arpt &       0\\\\\n",
       "\trenew\\_mbg &       0\\\\\n",
       "\trenewal\\_item\\_id &       0\\\\\n",
       "\trenew\\_type &  138755\\\\\n",
       "\tautorenew\\_type &  412170\\\\\n",
       "\trenewal\\_status &       0\\\\\n",
       "\trenew\\_date &  139091\\\\\n",
       "\trenew\\_arpt &  139095\\\\\n",
       "\tgibb\\_score &    7748\\\\\n",
       "\tpattern &    7748\\\\\n",
       "\tpattern\\_domain\\_count &    7748\\\\\n",
       "\tday\\_domains &    7748\\\\\n",
       "\tsld\\_length &    7748\\\\\n",
       "\tsld\\_type &    7748\\\\\n",
       "\tsld\\_type2 &    7748\\\\\n",
       "\ttld &       0\\\\\n",
       "\\end{tabular}\n"
      ],
      "text/markdown": [
       "\n",
       "A matrix: 28 × 1 of type int\n",
       "\n",
       "| renewal_type |       0 |\n",
       "| renewed_count |       0 |\n",
       "| expiry_date |       0 |\n",
       "| creation_date |       0 |\n",
       "| domain_id |       0 |\n",
       "| domain |       0 |\n",
       "| registrar |       0 |\n",
       "| reseller |       0 |\n",
       "| reseller_country |       0 |\n",
       "| registrant_country | 4680297 |\n",
       "| reg_period |       0 |\n",
       "| reg_revenue |       0 |\n",
       "| reg_arpt |       0 |\n",
       "| renew_mbg |       0 |\n",
       "| renewal_item_id |       0 |\n",
       "| renew_type |  138755 |\n",
       "| autorenew_type |  412170 |\n",
       "| renewal_status |       0 |\n",
       "| renew_date |  139091 |\n",
       "| renew_arpt |  139095 |\n",
       "| gibb_score |    7748 |\n",
       "| pattern |    7748 |\n",
       "| pattern_domain_count |    7748 |\n",
       "| day_domains |    7748 |\n",
       "| sld_length |    7748 |\n",
       "| sld_type |    7748 |\n",
       "| sld_type2 |    7748 |\n",
       "| tld |       0 |\n",
       "\n"
      ],
      "text/plain": [
       "                     [,1]   \n",
       "renewal_type               0\n",
       "renewed_count              0\n",
       "expiry_date                0\n",
       "creation_date              0\n",
       "domain_id                  0\n",
       "domain                     0\n",
       "registrar                  0\n",
       "reseller                   0\n",
       "reseller_country           0\n",
       "registrant_country   4680297\n",
       "reg_period                 0\n",
       "reg_revenue                0\n",
       "reg_arpt                   0\n",
       "renew_mbg                  0\n",
       "renewal_item_id            0\n",
       "renew_type            138755\n",
       "autorenew_type        412170\n",
       "renewal_status             0\n",
       "renew_date            139091\n",
       "renew_arpt            139095\n",
       "gibb_score              7748\n",
       "pattern                 7748\n",
       "pattern_domain_count    7748\n",
       "day_domains             7748\n",
       "sld_length              7748\n",
       "sld_type                7748\n",
       "sld_type2               7748\n",
       "tld                        0"
      ]
     },
     "metadata": {},
     "output_type": "display_data"
    }
   ],
   "source": [
    "expiry_df %>%\n",
    "  select(everything()) %>% \n",
    "  summarise_all(funs(sum(is.na(.)))) %>% t()"
   ]
  },
  {
   "cell_type": "code",
   "execution_count": 33,
   "metadata": {},
   "outputs": [
    {
     "data": {
      "text/html": [
       "<table>\n",
       "<caption>A tibble: 1 × 1</caption>\n",
       "<thead>\n",
       "\t<tr><th scope=col>max(creation_date)</th></tr>\n",
       "\t<tr><th scope=col>&lt;date&gt;</th></tr>\n",
       "</thead>\n",
       "<tbody>\n",
       "\t<tr><td>2016-12-31</td></tr>\n",
       "</tbody>\n",
       "</table>\n"
      ],
      "text/latex": [
       "A tibble: 1 × 1\n",
       "\\begin{tabular}{l}\n",
       " max(creation\\_date)\\\\\n",
       " <date>\\\\\n",
       "\\hline\n",
       "\t 2016-12-31\\\\\n",
       "\\end{tabular}\n"
      ],
      "text/markdown": [
       "\n",
       "A tibble: 1 × 1\n",
       "\n",
       "| max(creation_date) &lt;date&gt; |\n",
       "|---|\n",
       "| 2016-12-31 |\n",
       "\n"
      ],
      "text/plain": [
       "  max(creation_date)\n",
       "1 2016-12-31        "
      ]
     },
     "metadata": {},
     "output_type": "display_data"
    }
   ],
   "source": [
    "library(lubridate)\n",
    "expiry_df %>% filter(is.na(gibb_score)) %>% \n",
    "    summarise(max(creation_date))"
   ]
  },
  {
   "cell_type": "code",
   "execution_count": 34,
   "metadata": {},
   "outputs": [
    {
     "data": {
      "text/html": [
       "<style>\n",
       ".list-inline {list-style: none; margin:0; padding: 0}\n",
       ".list-inline>li {display: inline-block}\n",
       ".list-inline>li:not(:last-child)::after {content: \"\\00b7\"; padding: 0 .5ex}\n",
       "</style>\n",
       "<ol class=list-inline><li>'renewal_type'</li><li>'renewed_count'</li><li>'expiry_date'</li><li>'creation_date'</li><li>'domain_id'</li><li>'domain'</li><li>'registrar'</li><li>'reseller'</li><li>'reseller_country'</li><li>'registrant_country'</li><li>'reg_period'</li><li>'reg_revenue'</li><li>'reg_arpt'</li><li>'renew_mbg'</li><li>'renewal_item_id'</li><li>'renew_type'</li><li>'autorenew_type'</li><li>'renewal_status'</li><li>'renew_date'</li><li>'renew_arpt'</li><li>'gibb_score'</li><li>'pattern'</li><li>'pattern_domain_count'</li><li>'day_domains'</li><li>'sld_length'</li><li>'sld_type'</li><li>'sld_type2'</li><li>'tld'</li></ol>\n"
      ],
      "text/latex": [
       "\\begin{enumerate*}\n",
       "\\item 'renewal\\_type'\n",
       "\\item 'renewed\\_count'\n",
       "\\item 'expiry\\_date'\n",
       "\\item 'creation\\_date'\n",
       "\\item 'domain\\_id'\n",
       "\\item 'domain'\n",
       "\\item 'registrar'\n",
       "\\item 'reseller'\n",
       "\\item 'reseller\\_country'\n",
       "\\item 'registrant\\_country'\n",
       "\\item 'reg\\_period'\n",
       "\\item 'reg\\_revenue'\n",
       "\\item 'reg\\_arpt'\n",
       "\\item 'renew\\_mbg'\n",
       "\\item 'renewal\\_item\\_id'\n",
       "\\item 'renew\\_type'\n",
       "\\item 'autorenew\\_type'\n",
       "\\item 'renewal\\_status'\n",
       "\\item 'renew\\_date'\n",
       "\\item 'renew\\_arpt'\n",
       "\\item 'gibb\\_score'\n",
       "\\item 'pattern'\n",
       "\\item 'pattern\\_domain\\_count'\n",
       "\\item 'day\\_domains'\n",
       "\\item 'sld\\_length'\n",
       "\\item 'sld\\_type'\n",
       "\\item 'sld\\_type2'\n",
       "\\item 'tld'\n",
       "\\end{enumerate*}\n"
      ],
      "text/markdown": [
       "1. 'renewal_type'\n",
       "2. 'renewed_count'\n",
       "3. 'expiry_date'\n",
       "4. 'creation_date'\n",
       "5. 'domain_id'\n",
       "6. 'domain'\n",
       "7. 'registrar'\n",
       "8. 'reseller'\n",
       "9. 'reseller_country'\n",
       "10. 'registrant_country'\n",
       "11. 'reg_period'\n",
       "12. 'reg_revenue'\n",
       "13. 'reg_arpt'\n",
       "14. 'renew_mbg'\n",
       "15. 'renewal_item_id'\n",
       "16. 'renew_type'\n",
       "17. 'autorenew_type'\n",
       "18. 'renewal_status'\n",
       "19. 'renew_date'\n",
       "20. 'renew_arpt'\n",
       "21. 'gibb_score'\n",
       "22. 'pattern'\n",
       "23. 'pattern_domain_count'\n",
       "24. 'day_domains'\n",
       "25. 'sld_length'\n",
       "26. 'sld_type'\n",
       "27. 'sld_type2'\n",
       "28. 'tld'\n",
       "\n",
       "\n"
      ],
      "text/plain": [
       " [1] \"renewal_type\"         \"renewed_count\"        \"expiry_date\"         \n",
       " [4] \"creation_date\"        \"domain_id\"            \"domain\"              \n",
       " [7] \"registrar\"            \"reseller\"             \"reseller_country\"    \n",
       "[10] \"registrant_country\"   \"reg_period\"           \"reg_revenue\"         \n",
       "[13] \"reg_arpt\"             \"renew_mbg\"            \"renewal_item_id\"     \n",
       "[16] \"renew_type\"           \"autorenew_type\"       \"renewal_status\"      \n",
       "[19] \"renew_date\"           \"renew_arpt\"           \"gibb_score\"          \n",
       "[22] \"pattern\"              \"pattern_domain_count\" \"day_domains\"         \n",
       "[25] \"sld_length\"           \"sld_type\"             \"sld_type2\"           \n",
       "[28] \"tld\"                 "
      ]
     },
     "metadata": {},
     "output_type": "display_data"
    }
   ],
   "source": [
    "names(expiry_df)"
   ]
  },
  {
   "cell_type": "code",
   "execution_count": 35,
   "metadata": {},
   "outputs": [
    {
     "data": {
      "text/html": [
       "7748"
      ],
      "text/latex": [
       "7748"
      ],
      "text/markdown": [
       "7748"
      ],
      "text/plain": [
       "[1] 7748"
      ]
     },
     "metadata": {},
     "output_type": "display_data"
    }
   ],
   "source": [
    "expiry_df %>% filter(is.na(gibb_score)) %>% tally() %>% pull(n)"
   ]
  },
  {
   "cell_type": "code",
   "execution_count": 36,
   "metadata": {},
   "outputs": [
    {
     "name": "stdout",
     "output_type": "stream",
     "text": [
      "Removed 7748 rows due to missing gibb_score... now dataset min(creation_date) is  2017-01-01 ."
     ]
    },
    {
     "data": {
      "text/html": [
       "<style>\n",
       ".list-inline {list-style: none; margin:0; padding: 0}\n",
       ".list-inline>li {display: inline-block}\n",
       ".list-inline>li:not(:last-child)::after {content: \"\\00b7\"; padding: 0 .5ex}\n",
       "</style>\n",
       "<ol class=list-inline><li>4680312</li><li>28</li></ol>\n"
      ],
      "text/latex": [
       "\\begin{enumerate*}\n",
       "\\item 4680312\n",
       "\\item 28\n",
       "\\end{enumerate*}\n"
      ],
      "text/markdown": [
       "1. 4680312\n",
       "2. 28\n",
       "\n",
       "\n"
      ],
      "text/plain": [
       "[1] 4680312      28"
      ]
     },
     "metadata": {},
     "output_type": "display_data"
    }
   ],
   "source": [
    "library(lubridate)\n",
    "cat(\"Removed\", expiry_df %>% filter(is.na(gibb_score)) %>% tally() %>% pull(n) ,\"rows due to missing gibb_score\")\n",
    "expiry_df <- expiry_df %>% filter(!is.na(gibb_score))\n",
    "cat(\"... now dataset min(creation_date) is \", expiry_df %>% summarise(min(creation_date)) %>% pull(1) %>% as.character(),\".\")\n",
    "dim(expiry_df)"
   ]
  },
  {
   "cell_type": "code",
   "execution_count": 37,
   "metadata": {},
   "outputs": [
    {
     "data": {
      "text/html": [
       "4680312"
      ],
      "text/latex": [
       "4680312"
      ],
      "text/markdown": [
       "4680312"
      ],
      "text/plain": [
       "[1] 4680312"
      ]
     },
     "metadata": {},
     "output_type": "display_data"
    }
   ],
   "source": [
    "4688060-7748"
   ]
  },
  {
   "cell_type": "code",
   "execution_count": 38,
   "metadata": {},
   "outputs": [
    {
     "data": {
      "text/html": [
       "<table>\n",
       "<caption>A matrix: 28 × 1 of type int</caption>\n",
       "<tbody>\n",
       "\t<tr><th scope=row>renewal_type</th><td>      0</td></tr>\n",
       "\t<tr><th scope=row>renewed_count</th><td>      0</td></tr>\n",
       "\t<tr><th scope=row>expiry_date</th><td>      0</td></tr>\n",
       "\t<tr><th scope=row>creation_date</th><td>      0</td></tr>\n",
       "\t<tr><th scope=row>domain_id</th><td>      0</td></tr>\n",
       "\t<tr><th scope=row>domain</th><td>      0</td></tr>\n",
       "\t<tr><th scope=row>registrar</th><td>      0</td></tr>\n",
       "\t<tr><th scope=row>reseller</th><td>      0</td></tr>\n",
       "\t<tr><th scope=row>reseller_country</th><td>      0</td></tr>\n",
       "\t<tr><th scope=row>registrant_country</th><td>4680294</td></tr>\n",
       "\t<tr><th scope=row>reg_period</th><td>      0</td></tr>\n",
       "\t<tr><th scope=row>reg_revenue</th><td>      0</td></tr>\n",
       "\t<tr><th scope=row>reg_arpt</th><td>      0</td></tr>\n",
       "\t<tr><th scope=row>renew_mbg</th><td>      0</td></tr>\n",
       "\t<tr><th scope=row>renewal_item_id</th><td>      0</td></tr>\n",
       "\t<tr><th scope=row>renew_type</th><td> 138677</td></tr>\n",
       "\t<tr><th scope=row>autorenew_type</th><td> 410817</td></tr>\n",
       "\t<tr><th scope=row>renewal_status</th><td>      0</td></tr>\n",
       "\t<tr><th scope=row>renew_date</th><td> 138677</td></tr>\n",
       "\t<tr><th scope=row>renew_arpt</th><td> 138681</td></tr>\n",
       "\t<tr><th scope=row>gibb_score</th><td>      0</td></tr>\n",
       "\t<tr><th scope=row>pattern</th><td>      0</td></tr>\n",
       "\t<tr><th scope=row>pattern_domain_count</th><td>      0</td></tr>\n",
       "\t<tr><th scope=row>day_domains</th><td>      0</td></tr>\n",
       "\t<tr><th scope=row>sld_length</th><td>      0</td></tr>\n",
       "\t<tr><th scope=row>sld_type</th><td>      0</td></tr>\n",
       "\t<tr><th scope=row>sld_type2</th><td>      0</td></tr>\n",
       "\t<tr><th scope=row>tld</th><td>      0</td></tr>\n",
       "</tbody>\n",
       "</table>\n"
      ],
      "text/latex": [
       "A matrix: 28 × 1 of type int\n",
       "\\begin{tabular}{r|l}\n",
       "\trenewal\\_type &       0\\\\\n",
       "\trenewed\\_count &       0\\\\\n",
       "\texpiry\\_date &       0\\\\\n",
       "\tcreation\\_date &       0\\\\\n",
       "\tdomain\\_id &       0\\\\\n",
       "\tdomain &       0\\\\\n",
       "\tregistrar &       0\\\\\n",
       "\treseller &       0\\\\\n",
       "\treseller\\_country &       0\\\\\n",
       "\tregistrant\\_country & 4680294\\\\\n",
       "\treg\\_period &       0\\\\\n",
       "\treg\\_revenue &       0\\\\\n",
       "\treg\\_arpt &       0\\\\\n",
       "\trenew\\_mbg &       0\\\\\n",
       "\trenewal\\_item\\_id &       0\\\\\n",
       "\trenew\\_type &  138677\\\\\n",
       "\tautorenew\\_type &  410817\\\\\n",
       "\trenewal\\_status &       0\\\\\n",
       "\trenew\\_date &  138677\\\\\n",
       "\trenew\\_arpt &  138681\\\\\n",
       "\tgibb\\_score &       0\\\\\n",
       "\tpattern &       0\\\\\n",
       "\tpattern\\_domain\\_count &       0\\\\\n",
       "\tday\\_domains &       0\\\\\n",
       "\tsld\\_length &       0\\\\\n",
       "\tsld\\_type &       0\\\\\n",
       "\tsld\\_type2 &       0\\\\\n",
       "\ttld &       0\\\\\n",
       "\\end{tabular}\n"
      ],
      "text/markdown": [
       "\n",
       "A matrix: 28 × 1 of type int\n",
       "\n",
       "| renewal_type |       0 |\n",
       "| renewed_count |       0 |\n",
       "| expiry_date |       0 |\n",
       "| creation_date |       0 |\n",
       "| domain_id |       0 |\n",
       "| domain |       0 |\n",
       "| registrar |       0 |\n",
       "| reseller |       0 |\n",
       "| reseller_country |       0 |\n",
       "| registrant_country | 4680294 |\n",
       "| reg_period |       0 |\n",
       "| reg_revenue |       0 |\n",
       "| reg_arpt |       0 |\n",
       "| renew_mbg |       0 |\n",
       "| renewal_item_id |       0 |\n",
       "| renew_type |  138677 |\n",
       "| autorenew_type |  410817 |\n",
       "| renewal_status |       0 |\n",
       "| renew_date |  138677 |\n",
       "| renew_arpt |  138681 |\n",
       "| gibb_score |       0 |\n",
       "| pattern |       0 |\n",
       "| pattern_domain_count |       0 |\n",
       "| day_domains |       0 |\n",
       "| sld_length |       0 |\n",
       "| sld_type |       0 |\n",
       "| sld_type2 |       0 |\n",
       "| tld |       0 |\n",
       "\n"
      ],
      "text/plain": [
       "                     [,1]   \n",
       "renewal_type               0\n",
       "renewed_count              0\n",
       "expiry_date                0\n",
       "creation_date              0\n",
       "domain_id                  0\n",
       "domain                     0\n",
       "registrar                  0\n",
       "reseller                   0\n",
       "reseller_country           0\n",
       "registrant_country   4680294\n",
       "reg_period                 0\n",
       "reg_revenue                0\n",
       "reg_arpt                   0\n",
       "renew_mbg                  0\n",
       "renewal_item_id            0\n",
       "renew_type            138677\n",
       "autorenew_type        410817\n",
       "renewal_status             0\n",
       "renew_date            138677\n",
       "renew_arpt            138681\n",
       "gibb_score                 0\n",
       "pattern                    0\n",
       "pattern_domain_count       0\n",
       "day_domains                0\n",
       "sld_length                 0\n",
       "sld_type                   0\n",
       "sld_type2                  0\n",
       "tld                        0"
      ]
     },
     "metadata": {},
     "output_type": "display_data"
    }
   ],
   "source": [
    "expiry_df %>%\n",
    "  select(everything()) %>% \n",
    "  summarise_all(funs(sum(is.na(.)))) %>% t()"
   ]
  },
  {
   "cell_type": "code",
   "execution_count": 39,
   "metadata": {},
   "outputs": [],
   "source": [
    "expiry_df <- expiry_df %>% mutate (reg_arpt = ifelse(reg_arpt <= 0, 0.0001,reg_arpt),\n",
    "                                   log_reg_arpt = log(reg_arpt),\n",
    "                                   tld_registrar_index = tolower(paste(tld, reseller,sep=\"\")))"
   ]
  },
  {
   "cell_type": "code",
   "execution_count": 40,
   "metadata": {},
   "outputs": [
    {
     "data": {
      "text/html": [
       "<table>\n",
       "<caption>A matrix: 30 × 1 of type int</caption>\n",
       "<tbody>\n",
       "\t<tr><th scope=row>renewal_type</th><td>      0</td></tr>\n",
       "\t<tr><th scope=row>renewed_count</th><td>      0</td></tr>\n",
       "\t<tr><th scope=row>expiry_date</th><td>      0</td></tr>\n",
       "\t<tr><th scope=row>creation_date</th><td>      0</td></tr>\n",
       "\t<tr><th scope=row>domain_id</th><td>      0</td></tr>\n",
       "\t<tr><th scope=row>domain</th><td>      0</td></tr>\n",
       "\t<tr><th scope=row>registrar</th><td>      0</td></tr>\n",
       "\t<tr><th scope=row>reseller</th><td>      0</td></tr>\n",
       "\t<tr><th scope=row>reseller_country</th><td>      0</td></tr>\n",
       "\t<tr><th scope=row>registrant_country</th><td>4680294</td></tr>\n",
       "\t<tr><th scope=row>reg_period</th><td>      0</td></tr>\n",
       "\t<tr><th scope=row>reg_revenue</th><td>      0</td></tr>\n",
       "\t<tr><th scope=row>reg_arpt</th><td>      0</td></tr>\n",
       "\t<tr><th scope=row>renew_mbg</th><td>      0</td></tr>\n",
       "\t<tr><th scope=row>renewal_item_id</th><td>      0</td></tr>\n",
       "\t<tr><th scope=row>renew_type</th><td> 138677</td></tr>\n",
       "\t<tr><th scope=row>autorenew_type</th><td> 410817</td></tr>\n",
       "\t<tr><th scope=row>renewal_status</th><td>      0</td></tr>\n",
       "\t<tr><th scope=row>renew_date</th><td> 138677</td></tr>\n",
       "\t<tr><th scope=row>renew_arpt</th><td> 138681</td></tr>\n",
       "\t<tr><th scope=row>gibb_score</th><td>      0</td></tr>\n",
       "\t<tr><th scope=row>pattern</th><td>      0</td></tr>\n",
       "\t<tr><th scope=row>pattern_domain_count</th><td>      0</td></tr>\n",
       "\t<tr><th scope=row>day_domains</th><td>      0</td></tr>\n",
       "\t<tr><th scope=row>sld_length</th><td>      0</td></tr>\n",
       "\t<tr><th scope=row>sld_type</th><td>      0</td></tr>\n",
       "\t<tr><th scope=row>sld_type2</th><td>      0</td></tr>\n",
       "\t<tr><th scope=row>tld</th><td>      0</td></tr>\n",
       "\t<tr><th scope=row>log_reg_arpt</th><td>      0</td></tr>\n",
       "\t<tr><th scope=row>tld_registrar_index</th><td>      0</td></tr>\n",
       "</tbody>\n",
       "</table>\n"
      ],
      "text/latex": [
       "A matrix: 30 × 1 of type int\n",
       "\\begin{tabular}{r|l}\n",
       "\trenewal\\_type &       0\\\\\n",
       "\trenewed\\_count &       0\\\\\n",
       "\texpiry\\_date &       0\\\\\n",
       "\tcreation\\_date &       0\\\\\n",
       "\tdomain\\_id &       0\\\\\n",
       "\tdomain &       0\\\\\n",
       "\tregistrar &       0\\\\\n",
       "\treseller &       0\\\\\n",
       "\treseller\\_country &       0\\\\\n",
       "\tregistrant\\_country & 4680294\\\\\n",
       "\treg\\_period &       0\\\\\n",
       "\treg\\_revenue &       0\\\\\n",
       "\treg\\_arpt &       0\\\\\n",
       "\trenew\\_mbg &       0\\\\\n",
       "\trenewal\\_item\\_id &       0\\\\\n",
       "\trenew\\_type &  138677\\\\\n",
       "\tautorenew\\_type &  410817\\\\\n",
       "\trenewal\\_status &       0\\\\\n",
       "\trenew\\_date &  138677\\\\\n",
       "\trenew\\_arpt &  138681\\\\\n",
       "\tgibb\\_score &       0\\\\\n",
       "\tpattern &       0\\\\\n",
       "\tpattern\\_domain\\_count &       0\\\\\n",
       "\tday\\_domains &       0\\\\\n",
       "\tsld\\_length &       0\\\\\n",
       "\tsld\\_type &       0\\\\\n",
       "\tsld\\_type2 &       0\\\\\n",
       "\ttld &       0\\\\\n",
       "\tlog\\_reg\\_arpt &       0\\\\\n",
       "\ttld\\_registrar\\_index &       0\\\\\n",
       "\\end{tabular}\n"
      ],
      "text/markdown": [
       "\n",
       "A matrix: 30 × 1 of type int\n",
       "\n",
       "| renewal_type |       0 |\n",
       "| renewed_count |       0 |\n",
       "| expiry_date |       0 |\n",
       "| creation_date |       0 |\n",
       "| domain_id |       0 |\n",
       "| domain |       0 |\n",
       "| registrar |       0 |\n",
       "| reseller |       0 |\n",
       "| reseller_country |       0 |\n",
       "| registrant_country | 4680294 |\n",
       "| reg_period |       0 |\n",
       "| reg_revenue |       0 |\n",
       "| reg_arpt |       0 |\n",
       "| renew_mbg |       0 |\n",
       "| renewal_item_id |       0 |\n",
       "| renew_type |  138677 |\n",
       "| autorenew_type |  410817 |\n",
       "| renewal_status |       0 |\n",
       "| renew_date |  138677 |\n",
       "| renew_arpt |  138681 |\n",
       "| gibb_score |       0 |\n",
       "| pattern |       0 |\n",
       "| pattern_domain_count |       0 |\n",
       "| day_domains |       0 |\n",
       "| sld_length |       0 |\n",
       "| sld_type |       0 |\n",
       "| sld_type2 |       0 |\n",
       "| tld |       0 |\n",
       "| log_reg_arpt |       0 |\n",
       "| tld_registrar_index |       0 |\n",
       "\n"
      ],
      "text/plain": [
       "                     [,1]   \n",
       "renewal_type               0\n",
       "renewed_count              0\n",
       "expiry_date                0\n",
       "creation_date              0\n",
       "domain_id                  0\n",
       "domain                     0\n",
       "registrar                  0\n",
       "reseller                   0\n",
       "reseller_country           0\n",
       "registrant_country   4680294\n",
       "reg_period                 0\n",
       "reg_revenue                0\n",
       "reg_arpt                   0\n",
       "renew_mbg                  0\n",
       "renewal_item_id            0\n",
       "renew_type            138677\n",
       "autorenew_type        410817\n",
       "renewal_status             0\n",
       "renew_date            138677\n",
       "renew_arpt            138681\n",
       "gibb_score                 0\n",
       "pattern                    0\n",
       "pattern_domain_count       0\n",
       "day_domains                0\n",
       "sld_length                 0\n",
       "sld_type                   0\n",
       "sld_type2                  0\n",
       "tld                        0\n",
       "log_reg_arpt               0\n",
       "tld_registrar_index        0"
      ]
     },
     "metadata": {},
     "output_type": "display_data"
    }
   ],
   "source": [
    "expiry_df %>%\n",
    "  select(everything()) %>% \n",
    "  summarise_all(funs(sum(is.na(.)))) %>% t()"
   ]
  },
  {
   "cell_type": "code",
   "execution_count": 41,
   "metadata": {},
   "outputs": [
    {
     "data": {
      "text/html": [],
      "text/latex": [],
      "text/markdown": [],
      "text/plain": [
       "numeric(0)"
      ]
     },
     "metadata": {},
     "output_type": "display_data"
    }
   ],
   "source": [
    "expiry_df %>% filter(is.na(reg_arpt)) %>% pull(log_reg_arpt)"
   ]
  },
  {
   "cell_type": "code",
   "execution_count": 45,
   "metadata": {},
   "outputs": [
    {
     "name": "stdout",
     "output_type": "stream",
     "text": [
      "hi, bye,"
     ]
    }
   ],
   "source": [
    "cat(paste0(c(\"hi\",\"bye\"), sep=\",\"))"
   ]
  },
  {
   "cell_type": "markdown",
   "metadata": {},
   "source": [
    "# QA script fails"
   ]
  },
  {
   "cell_type": "markdown",
   "metadata": {},
   "source": [
    "## check: predictions for model_agg_glm_ALL != model_agg_glm for a given tld_registrar"
   ]
  },
  {
   "cell_type": "code",
   "execution_count": 175,
   "metadata": {},
   "outputs": [],
   "source": [
    "fullDir <- '/home/jupyter/local/Domains_202003/data/output/models_20201028'\n",
    "preds <- read.csv(file.path(fullDir,'preds.csv'))"
   ]
  },
  {
   "cell_type": "code",
   "execution_count": 176,
   "metadata": {},
   "outputs": [
    {
     "data": {
      "text/html": [
       "<table>\n",
       "<caption>A data.frame: 6 × 38</caption>\n",
       "<thead>\n",
       "\t<tr><th></th><th scope=col>renewal_type</th><th scope=col>renewed_count</th><th scope=col>expiry_date</th><th scope=col>creation_date</th><th scope=col>domain_id</th><th scope=col>domain</th><th scope=col>registrar</th><th scope=col>reseller</th><th scope=col>reseller_country</th><th scope=col>registrant_country</th><th scope=col>reg_period</th><th scope=col>reg_revenue</th><th scope=col>reg_arpt</th><th scope=col>renew_mbg</th><th scope=col>renewal_item_id</th><th scope=col>renew_type</th><th scope=col>autorenew_type</th><th scope=col>renewal_status</th><th scope=col>renew_date</th><th scope=col>renew_arpt</th><th scope=col>gibb_score</th><th scope=col>pattern</th><th scope=col>pattern_domain_count</th><th scope=col>day_domains</th><th scope=col>sld_length</th><th scope=col>sld_type</th><th scope=col>sld_type2</th><th scope=col>tld</th><th scope=col>log_reg_arpt</th><th scope=col>tld_registrar_index</th><th scope=col>pred_agg_glm_ALL</th><th scope=col>pred_agg_rf_ALL</th><th scope=col>pred_agg_glm</th><th scope=col>pred_agg_rf</th><th scope=col>pred_seg_glm_ALL</th><th scope=col>pred_seg_rf_ALL</th><th scope=col>pred_seg2_glm_ALL</th><th scope=col>pred_seg2_rf_ALL</th></tr>\n",
       "\t<tr><th></th><th scope=col>&lt;fct&gt;</th><th scope=col>&lt;int&gt;</th><th scope=col>&lt;fct&gt;</th><th scope=col>&lt;fct&gt;</th><th scope=col>&lt;int&gt;</th><th scope=col>&lt;fct&gt;</th><th scope=col>&lt;fct&gt;</th><th scope=col>&lt;fct&gt;</th><th scope=col>&lt;fct&gt;</th><th scope=col>&lt;fct&gt;</th><th scope=col>&lt;int&gt;</th><th scope=col>&lt;dbl&gt;</th><th scope=col>&lt;dbl&gt;</th><th scope=col>&lt;int&gt;</th><th scope=col>&lt;int&gt;</th><th scope=col>&lt;fct&gt;</th><th scope=col>&lt;fct&gt;</th><th scope=col>&lt;fct&gt;</th><th scope=col>&lt;fct&gt;</th><th scope=col>&lt;dbl&gt;</th><th scope=col>&lt;dbl&gt;</th><th scope=col>&lt;fct&gt;</th><th scope=col>&lt;int&gt;</th><th scope=col>&lt;int&gt;</th><th scope=col>&lt;int&gt;</th><th scope=col>&lt;fct&gt;</th><th scope=col>&lt;fct&gt;</th><th scope=col>&lt;fct&gt;</th><th scope=col>&lt;dbl&gt;</th><th scope=col>&lt;fct&gt;</th><th scope=col>&lt;dbl&gt;</th><th scope=col>&lt;dbl&gt;</th><th scope=col>&lt;dbl&gt;</th><th scope=col>&lt;dbl&gt;</th><th scope=col>&lt;dbl&gt;</th><th scope=col>&lt;dbl&gt;</th><th scope=col>&lt;dbl&gt;</th><th scope=col>&lt;dbl&gt;</th></tr>\n",
       "</thead>\n",
       "<tbody>\n",
       "\t<tr><th scope=row>1</th><td>FirstTime</td><td>1</td><td>2020-06-30</td><td>2019-06-30</td><td>110777246</td><td>entai.space     </td><td>OVH</td><td>OVH</td><td>France</td><td>NA</td><td>1</td><td>0.5</td><td>0.5</td><td>0</td><td>326051494</td><td>auto-renewal</td><td>unrealized</td><td>Not Renewd</td><td>2020-06-30</td><td>15</td><td>6.29</td><td>entai     </td><td>1</td><td> 3</td><td> 5</td><td>l</td><td>5l </td><td>space</td><td>-0.6931472</td><td>spaceovh</td><td>0.382</td><td>0.27858307</td><td>0.382</td><td>0.27858307</td><td>0.386</td><td>0.28259150</td><td>0.4064797</td><td>0.29621531</td></tr>\n",
       "\t<tr><th scope=row>2</th><td>FirstTime</td><td>1</td><td>2020-05-13</td><td>2019-05-13</td><td>103425809</td><td>bxpgdkx.space   </td><td>OVH</td><td>OVH</td><td>France</td><td>NA</td><td>1</td><td>0.5</td><td>0.5</td><td>0</td><td>314864189</td><td>auto-renewal</td><td>unrealized</td><td>Not Renewd</td><td>2020-05-13</td><td>15</td><td>0.11</td><td>bxpgdkx   </td><td>1</td><td>33</td><td> 7</td><td>l</td><td>7l </td><td>space</td><td>-0.6931472</td><td>spaceovh</td><td>0.238</td><td>0.04722732</td><td>0.238</td><td>0.04722732</td><td>0.266</td><td>0.03662617</td><td>0.1304821</td><td>0.04210570</td></tr>\n",
       "\t<tr><th scope=row>3</th><td>FirstTime</td><td>1</td><td>2020-05-13</td><td>2019-05-13</td><td>103426079</td><td>pirzkla.space   </td><td>OVH</td><td>OVH</td><td>France</td><td>NA</td><td>1</td><td>0.5</td><td>0.5</td><td>0</td><td>314864309</td><td>auto-renewal</td><td>unrealized</td><td>Not Renewd</td><td>2020-05-13</td><td>15</td><td>1.32</td><td>pirzkla   </td><td>1</td><td>33</td><td> 7</td><td>l</td><td>7l </td><td>space</td><td>-0.6931472</td><td>spaceovh</td><td>0.241</td><td>0.04389334</td><td>0.241</td><td>0.04389334</td><td>0.270</td><td>0.05025404</td><td>0.1334309</td><td>0.04561117</td></tr>\n",
       "\t<tr><th scope=row>4</th><td>FirstTime</td><td>1</td><td>2020-05-13</td><td>2019-05-13</td><td>103450484</td><td>maboutique.space</td><td>OVH</td><td>OVH</td><td>France</td><td>NA</td><td>1</td><td>0.5</td><td>0.5</td><td>0</td><td>314864449</td><td>auto-renewal</td><td>unrealized</td><td>Not Renewd</td><td>2020-05-13</td><td>15</td><td>5.81</td><td>maboutique</td><td>1</td><td>33</td><td>10</td><td>l</td><td>10l</td><td>space</td><td>-0.6931472</td><td>spaceovh</td><td>0.251</td><td>0.22431104</td><td>0.251</td><td>0.22431104</td><td>0.288</td><td>0.23679877</td><td>0.1479498</td><td>0.22100320</td></tr>\n",
       "\t<tr><th scope=row>5</th><td>FirstTime</td><td>1</td><td>2020-05-13</td><td>2019-05-13</td><td>103406354</td><td>bassguitar.space</td><td>OVH</td><td>OVH</td><td>France</td><td>NA</td><td>1</td><td>0.5</td><td>0.5</td><td>0</td><td>314864074</td><td>auto-renewal</td><td>unrealized</td><td>Not Renewd</td><td>2020-05-13</td><td>15</td><td>3.43</td><td>bassguitar</td><td>1</td><td>33</td><td>10</td><td>l</td><td>10l</td><td>space</td><td>-0.6931472</td><td>spaceovh</td><td>0.245</td><td>0.21018523</td><td>0.245</td><td>0.21018523</td><td>0.281</td><td>0.20246193</td><td>0.1416794</td><td>0.20269325</td></tr>\n",
       "\t<tr><th scope=row>6</th><td>FirstTime</td><td>1</td><td>2020-07-03</td><td>2019-07-03</td><td>111402996</td><td>flunkerei.space </td><td>OVH</td><td>OVH</td><td>France</td><td>NA</td><td>1</td><td>0.5</td><td>0.5</td><td>0</td><td>312912559</td><td>renewal     </td><td>NA        </td><td>Renewed   </td><td>2020-05-04</td><td>15</td><td>5.20</td><td>flunkerei </td><td>1</td><td> 8</td><td> 9</td><td>l</td><td>9l </td><td>space</td><td>-0.6931472</td><td>spaceovh</td><td>0.354</td><td>0.42977486</td><td>0.354</td><td>0.42977486</td><td>0.371</td><td>0.43582715</td><td>0.3537241</td><td>0.41850528</td></tr>\n",
       "</tbody>\n",
       "</table>\n"
      ],
      "text/latex": [
       "A data.frame: 6 × 38\n",
       "\\begin{tabular}{r|llllllllllllllllllllllllllllllllllllll}\n",
       "  & renewal\\_type & renewed\\_count & expiry\\_date & creation\\_date & domain\\_id & domain & registrar & reseller & reseller\\_country & registrant\\_country & reg\\_period & reg\\_revenue & reg\\_arpt & renew\\_mbg & renewal\\_item\\_id & renew\\_type & autorenew\\_type & renewal\\_status & renew\\_date & renew\\_arpt & gibb\\_score & pattern & pattern\\_domain\\_count & day\\_domains & sld\\_length & sld\\_type & sld\\_type2 & tld & log\\_reg\\_arpt & tld\\_registrar\\_index & pred\\_agg\\_glm\\_ALL & pred\\_agg\\_rf\\_ALL & pred\\_agg\\_glm & pred\\_agg\\_rf & pred\\_seg\\_glm\\_ALL & pred\\_seg\\_rf\\_ALL & pred\\_seg2\\_glm\\_ALL & pred\\_seg2\\_rf\\_ALL\\\\\n",
       "  & <fct> & <int> & <fct> & <fct> & <int> & <fct> & <fct> & <fct> & <fct> & <fct> & <int> & <dbl> & <dbl> & <int> & <int> & <fct> & <fct> & <fct> & <fct> & <dbl> & <dbl> & <fct> & <int> & <int> & <int> & <fct> & <fct> & <fct> & <dbl> & <fct> & <dbl> & <dbl> & <dbl> & <dbl> & <dbl> & <dbl> & <dbl> & <dbl>\\\\\n",
       "\\hline\n",
       "\t1 & FirstTime & 1 & 2020-06-30 & 2019-06-30 & 110777246 & entai.space      & OVH & OVH & France & NA & 1 & 0.5 & 0.5 & 0 & 326051494 & auto-renewal & unrealized & Not Renewd & 2020-06-30 & 15 & 6.29 & entai      & 1 &  3 &  5 & l & 5l  & space & -0.6931472 & spaceovh & 0.382 & 0.27858307 & 0.382 & 0.27858307 & 0.386 & 0.28259150 & 0.4064797 & 0.29621531\\\\\n",
       "\t2 & FirstTime & 1 & 2020-05-13 & 2019-05-13 & 103425809 & bxpgdkx.space    & OVH & OVH & France & NA & 1 & 0.5 & 0.5 & 0 & 314864189 & auto-renewal & unrealized & Not Renewd & 2020-05-13 & 15 & 0.11 & bxpgdkx    & 1 & 33 &  7 & l & 7l  & space & -0.6931472 & spaceovh & 0.238 & 0.04722732 & 0.238 & 0.04722732 & 0.266 & 0.03662617 & 0.1304821 & 0.04210570\\\\\n",
       "\t3 & FirstTime & 1 & 2020-05-13 & 2019-05-13 & 103426079 & pirzkla.space    & OVH & OVH & France & NA & 1 & 0.5 & 0.5 & 0 & 314864309 & auto-renewal & unrealized & Not Renewd & 2020-05-13 & 15 & 1.32 & pirzkla    & 1 & 33 &  7 & l & 7l  & space & -0.6931472 & spaceovh & 0.241 & 0.04389334 & 0.241 & 0.04389334 & 0.270 & 0.05025404 & 0.1334309 & 0.04561117\\\\\n",
       "\t4 & FirstTime & 1 & 2020-05-13 & 2019-05-13 & 103450484 & maboutique.space & OVH & OVH & France & NA & 1 & 0.5 & 0.5 & 0 & 314864449 & auto-renewal & unrealized & Not Renewd & 2020-05-13 & 15 & 5.81 & maboutique & 1 & 33 & 10 & l & 10l & space & -0.6931472 & spaceovh & 0.251 & 0.22431104 & 0.251 & 0.22431104 & 0.288 & 0.23679877 & 0.1479498 & 0.22100320\\\\\n",
       "\t5 & FirstTime & 1 & 2020-05-13 & 2019-05-13 & 103406354 & bassguitar.space & OVH & OVH & France & NA & 1 & 0.5 & 0.5 & 0 & 314864074 & auto-renewal & unrealized & Not Renewd & 2020-05-13 & 15 & 3.43 & bassguitar & 1 & 33 & 10 & l & 10l & space & -0.6931472 & spaceovh & 0.245 & 0.21018523 & 0.245 & 0.21018523 & 0.281 & 0.20246193 & 0.1416794 & 0.20269325\\\\\n",
       "\t6 & FirstTime & 1 & 2020-07-03 & 2019-07-03 & 111402996 & flunkerei.space  & OVH & OVH & France & NA & 1 & 0.5 & 0.5 & 0 & 312912559 & renewal      & NA         & Renewed    & 2020-05-04 & 15 & 5.20 & flunkerei  & 1 &  8 &  9 & l & 9l  & space & -0.6931472 & spaceovh & 0.354 & 0.42977486 & 0.354 & 0.42977486 & 0.371 & 0.43582715 & 0.3537241 & 0.41850528\\\\\n",
       "\\end{tabular}\n"
      ],
      "text/markdown": [
       "\n",
       "A data.frame: 6 × 38\n",
       "\n",
       "| <!--/--> | renewal_type &lt;fct&gt; | renewed_count &lt;int&gt; | expiry_date &lt;fct&gt; | creation_date &lt;fct&gt; | domain_id &lt;int&gt; | domain &lt;fct&gt; | registrar &lt;fct&gt; | reseller &lt;fct&gt; | reseller_country &lt;fct&gt; | registrant_country &lt;fct&gt; | reg_period &lt;int&gt; | reg_revenue &lt;dbl&gt; | reg_arpt &lt;dbl&gt; | renew_mbg &lt;int&gt; | renewal_item_id &lt;int&gt; | renew_type &lt;fct&gt; | autorenew_type &lt;fct&gt; | renewal_status &lt;fct&gt; | renew_date &lt;fct&gt; | renew_arpt &lt;dbl&gt; | gibb_score &lt;dbl&gt; | pattern &lt;fct&gt; | pattern_domain_count &lt;int&gt; | day_domains &lt;int&gt; | sld_length &lt;int&gt; | sld_type &lt;fct&gt; | sld_type2 &lt;fct&gt; | tld &lt;fct&gt; | log_reg_arpt &lt;dbl&gt; | tld_registrar_index &lt;fct&gt; | pred_agg_glm_ALL &lt;dbl&gt; | pred_agg_rf_ALL &lt;dbl&gt; | pred_agg_glm &lt;dbl&gt; | pred_agg_rf &lt;dbl&gt; | pred_seg_glm_ALL &lt;dbl&gt; | pred_seg_rf_ALL &lt;dbl&gt; | pred_seg2_glm_ALL &lt;dbl&gt; | pred_seg2_rf_ALL &lt;dbl&gt; |\n",
       "|---|---|---|---|---|---|---|---|---|---|---|---|---|---|---|---|---|---|---|---|---|---|---|---|---|---|---|---|---|---|---|---|---|---|---|---|---|---|---|\n",
       "| 1 | FirstTime | 1 | 2020-06-30 | 2019-06-30 | 110777246 | entai.space      | OVH | OVH | France | NA | 1 | 0.5 | 0.5 | 0 | 326051494 | auto-renewal | unrealized | Not Renewd | 2020-06-30 | 15 | 6.29 | entai      | 1 |  3 |  5 | l | 5l  | space | -0.6931472 | spaceovh | 0.382 | 0.27858307 | 0.382 | 0.27858307 | 0.386 | 0.28259150 | 0.4064797 | 0.29621531 |\n",
       "| 2 | FirstTime | 1 | 2020-05-13 | 2019-05-13 | 103425809 | bxpgdkx.space    | OVH | OVH | France | NA | 1 | 0.5 | 0.5 | 0 | 314864189 | auto-renewal | unrealized | Not Renewd | 2020-05-13 | 15 | 0.11 | bxpgdkx    | 1 | 33 |  7 | l | 7l  | space | -0.6931472 | spaceovh | 0.238 | 0.04722732 | 0.238 | 0.04722732 | 0.266 | 0.03662617 | 0.1304821 | 0.04210570 |\n",
       "| 3 | FirstTime | 1 | 2020-05-13 | 2019-05-13 | 103426079 | pirzkla.space    | OVH | OVH | France | NA | 1 | 0.5 | 0.5 | 0 | 314864309 | auto-renewal | unrealized | Not Renewd | 2020-05-13 | 15 | 1.32 | pirzkla    | 1 | 33 |  7 | l | 7l  | space | -0.6931472 | spaceovh | 0.241 | 0.04389334 | 0.241 | 0.04389334 | 0.270 | 0.05025404 | 0.1334309 | 0.04561117 |\n",
       "| 4 | FirstTime | 1 | 2020-05-13 | 2019-05-13 | 103450484 | maboutique.space | OVH | OVH | France | NA | 1 | 0.5 | 0.5 | 0 | 314864449 | auto-renewal | unrealized | Not Renewd | 2020-05-13 | 15 | 5.81 | maboutique | 1 | 33 | 10 | l | 10l | space | -0.6931472 | spaceovh | 0.251 | 0.22431104 | 0.251 | 0.22431104 | 0.288 | 0.23679877 | 0.1479498 | 0.22100320 |\n",
       "| 5 | FirstTime | 1 | 2020-05-13 | 2019-05-13 | 103406354 | bassguitar.space | OVH | OVH | France | NA | 1 | 0.5 | 0.5 | 0 | 314864074 | auto-renewal | unrealized | Not Renewd | 2020-05-13 | 15 | 3.43 | bassguitar | 1 | 33 | 10 | l | 10l | space | -0.6931472 | spaceovh | 0.245 | 0.21018523 | 0.245 | 0.21018523 | 0.281 | 0.20246193 | 0.1416794 | 0.20269325 |\n",
       "| 6 | FirstTime | 1 | 2020-07-03 | 2019-07-03 | 111402996 | flunkerei.space  | OVH | OVH | France | NA | 1 | 0.5 | 0.5 | 0 | 312912559 | renewal      | NA         | Renewed    | 2020-05-04 | 15 | 5.20 | flunkerei  | 1 |  8 |  9 | l | 9l  | space | -0.6931472 | spaceovh | 0.354 | 0.42977486 | 0.354 | 0.42977486 | 0.371 | 0.43582715 | 0.3537241 | 0.41850528 |\n",
       "\n"
      ],
      "text/plain": [
       "  renewal_type renewed_count expiry_date creation_date domain_id\n",
       "1 FirstTime    1             2020-06-30  2019-06-30    110777246\n",
       "2 FirstTime    1             2020-05-13  2019-05-13    103425809\n",
       "3 FirstTime    1             2020-05-13  2019-05-13    103426079\n",
       "4 FirstTime    1             2020-05-13  2019-05-13    103450484\n",
       "5 FirstTime    1             2020-05-13  2019-05-13    103406354\n",
       "6 FirstTime    1             2020-07-03  2019-07-03    111402996\n",
       "  domain           registrar reseller reseller_country registrant_country\n",
       "1 entai.space      OVH       OVH      France           NA                \n",
       "2 bxpgdkx.space    OVH       OVH      France           NA                \n",
       "3 pirzkla.space    OVH       OVH      France           NA                \n",
       "4 maboutique.space OVH       OVH      France           NA                \n",
       "5 bassguitar.space OVH       OVH      France           NA                \n",
       "6 flunkerei.space  OVH       OVH      France           NA                \n",
       "  reg_period reg_revenue reg_arpt renew_mbg renewal_item_id renew_type  \n",
       "1 1          0.5         0.5      0         326051494       auto-renewal\n",
       "2 1          0.5         0.5      0         314864189       auto-renewal\n",
       "3 1          0.5         0.5      0         314864309       auto-renewal\n",
       "4 1          0.5         0.5      0         314864449       auto-renewal\n",
       "5 1          0.5         0.5      0         314864074       auto-renewal\n",
       "6 1          0.5         0.5      0         312912559       renewal     \n",
       "  autorenew_type renewal_status renew_date renew_arpt gibb_score pattern   \n",
       "1 unrealized     Not Renewd     2020-06-30 15         6.29       entai     \n",
       "2 unrealized     Not Renewd     2020-05-13 15         0.11       bxpgdkx   \n",
       "3 unrealized     Not Renewd     2020-05-13 15         1.32       pirzkla   \n",
       "4 unrealized     Not Renewd     2020-05-13 15         5.81       maboutique\n",
       "5 unrealized     Not Renewd     2020-05-13 15         3.43       bassguitar\n",
       "6 NA             Renewed        2020-05-04 15         5.20       flunkerei \n",
       "  pattern_domain_count day_domains sld_length sld_type sld_type2 tld  \n",
       "1 1                     3           5         l        5l        space\n",
       "2 1                    33           7         l        7l        space\n",
       "3 1                    33           7         l        7l        space\n",
       "4 1                    33          10         l        10l       space\n",
       "5 1                    33          10         l        10l       space\n",
       "6 1                     8           9         l        9l        space\n",
       "  log_reg_arpt tld_registrar_index pred_agg_glm_ALL pred_agg_rf_ALL\n",
       "1 -0.6931472   spaceovh            0.382            0.27858307     \n",
       "2 -0.6931472   spaceovh            0.238            0.04722732     \n",
       "3 -0.6931472   spaceovh            0.241            0.04389334     \n",
       "4 -0.6931472   spaceovh            0.251            0.22431104     \n",
       "5 -0.6931472   spaceovh            0.245            0.21018523     \n",
       "6 -0.6931472   spaceovh            0.354            0.42977486     \n",
       "  pred_agg_glm pred_agg_rf pred_seg_glm_ALL pred_seg_rf_ALL pred_seg2_glm_ALL\n",
       "1 0.382        0.27858307  0.386            0.28259150      0.4064797        \n",
       "2 0.238        0.04722732  0.266            0.03662617      0.1304821        \n",
       "3 0.241        0.04389334  0.270            0.05025404      0.1334309        \n",
       "4 0.251        0.22431104  0.288            0.23679877      0.1479498        \n",
       "5 0.245        0.21018523  0.281            0.20246193      0.1416794        \n",
       "6 0.354        0.42977486  0.371            0.43582715      0.3537241        \n",
       "  pred_seg2_rf_ALL\n",
       "1 0.29621531      \n",
       "2 0.04210570      \n",
       "3 0.04561117      \n",
       "4 0.22100320      \n",
       "5 0.20269325      \n",
       "6 0.41850528      "
      ]
     },
     "metadata": {},
     "output_type": "display_data"
    }
   ],
   "source": [
    "head(preds)"
   ]
  },
  {
   "cell_type": "code",
   "execution_count": 177,
   "metadata": {},
   "outputs": [
    {
     "data": {
      "text/html": [
       "<style>\n",
       ".list-inline {list-style: none; margin:0; padding: 0}\n",
       ".list-inline>li {display: inline-block}\n",
       ".list-inline>li:not(:last-child)::after {content: \"\\00b7\"; padding: 0 .5ex}\n",
       "</style>\n",
       "<ol class=list-inline><li>'renewal_type'</li><li>'renewed_count'</li><li>'expiry_date'</li><li>'creation_date'</li><li>'domain_id'</li><li>'domain'</li><li>'registrar'</li><li>'reseller'</li><li>'reseller_country'</li><li>'registrant_country'</li><li>'reg_period'</li><li>'reg_revenue'</li><li>'reg_arpt'</li><li>'renew_mbg'</li><li>'renewal_item_id'</li><li>'renew_type'</li><li>'autorenew_type'</li><li>'renewal_status'</li><li>'renew_date'</li><li>'renew_arpt'</li><li>'gibb_score'</li><li>'pattern'</li><li>'pattern_domain_count'</li><li>'day_domains'</li><li>'sld_length'</li><li>'sld_type'</li><li>'sld_type2'</li><li>'tld'</li><li>'log_reg_arpt'</li><li>'tld_registrar_index'</li><li>'pred_agg_glm_ALL'</li><li>'pred_agg_rf_ALL'</li><li>'pred_agg_glm'</li><li>'pred_agg_rf'</li><li>'pred_seg_glm_ALL'</li><li>'pred_seg_rf_ALL'</li><li>'pred_seg2_glm_ALL'</li><li>'pred_seg2_rf_ALL'</li></ol>\n"
      ],
      "text/latex": [
       "\\begin{enumerate*}\n",
       "\\item 'renewal\\_type'\n",
       "\\item 'renewed\\_count'\n",
       "\\item 'expiry\\_date'\n",
       "\\item 'creation\\_date'\n",
       "\\item 'domain\\_id'\n",
       "\\item 'domain'\n",
       "\\item 'registrar'\n",
       "\\item 'reseller'\n",
       "\\item 'reseller\\_country'\n",
       "\\item 'registrant\\_country'\n",
       "\\item 'reg\\_period'\n",
       "\\item 'reg\\_revenue'\n",
       "\\item 'reg\\_arpt'\n",
       "\\item 'renew\\_mbg'\n",
       "\\item 'renewal\\_item\\_id'\n",
       "\\item 'renew\\_type'\n",
       "\\item 'autorenew\\_type'\n",
       "\\item 'renewal\\_status'\n",
       "\\item 'renew\\_date'\n",
       "\\item 'renew\\_arpt'\n",
       "\\item 'gibb\\_score'\n",
       "\\item 'pattern'\n",
       "\\item 'pattern\\_domain\\_count'\n",
       "\\item 'day\\_domains'\n",
       "\\item 'sld\\_length'\n",
       "\\item 'sld\\_type'\n",
       "\\item 'sld\\_type2'\n",
       "\\item 'tld'\n",
       "\\item 'log\\_reg\\_arpt'\n",
       "\\item 'tld\\_registrar\\_index'\n",
       "\\item 'pred\\_agg\\_glm\\_ALL'\n",
       "\\item 'pred\\_agg\\_rf\\_ALL'\n",
       "\\item 'pred\\_agg\\_glm'\n",
       "\\item 'pred\\_agg\\_rf'\n",
       "\\item 'pred\\_seg\\_glm\\_ALL'\n",
       "\\item 'pred\\_seg\\_rf\\_ALL'\n",
       "\\item 'pred\\_seg2\\_glm\\_ALL'\n",
       "\\item 'pred\\_seg2\\_rf\\_ALL'\n",
       "\\end{enumerate*}\n"
      ],
      "text/markdown": [
       "1. 'renewal_type'\n",
       "2. 'renewed_count'\n",
       "3. 'expiry_date'\n",
       "4. 'creation_date'\n",
       "5. 'domain_id'\n",
       "6. 'domain'\n",
       "7. 'registrar'\n",
       "8. 'reseller'\n",
       "9. 'reseller_country'\n",
       "10. 'registrant_country'\n",
       "11. 'reg_period'\n",
       "12. 'reg_revenue'\n",
       "13. 'reg_arpt'\n",
       "14. 'renew_mbg'\n",
       "15. 'renewal_item_id'\n",
       "16. 'renew_type'\n",
       "17. 'autorenew_type'\n",
       "18. 'renewal_status'\n",
       "19. 'renew_date'\n",
       "20. 'renew_arpt'\n",
       "21. 'gibb_score'\n",
       "22. 'pattern'\n",
       "23. 'pattern_domain_count'\n",
       "24. 'day_domains'\n",
       "25. 'sld_length'\n",
       "26. 'sld_type'\n",
       "27. 'sld_type2'\n",
       "28. 'tld'\n",
       "29. 'log_reg_arpt'\n",
       "30. 'tld_registrar_index'\n",
       "31. 'pred_agg_glm_ALL'\n",
       "32. 'pred_agg_rf_ALL'\n",
       "33. 'pred_agg_glm'\n",
       "34. 'pred_agg_rf'\n",
       "35. 'pred_seg_glm_ALL'\n",
       "36. 'pred_seg_rf_ALL'\n",
       "37. 'pred_seg2_glm_ALL'\n",
       "38. 'pred_seg2_rf_ALL'\n",
       "\n",
       "\n"
      ],
      "text/plain": [
       " [1] \"renewal_type\"         \"renewed_count\"        \"expiry_date\"         \n",
       " [4] \"creation_date\"        \"domain_id\"            \"domain\"              \n",
       " [7] \"registrar\"            \"reseller\"             \"reseller_country\"    \n",
       "[10] \"registrant_country\"   \"reg_period\"           \"reg_revenue\"         \n",
       "[13] \"reg_arpt\"             \"renew_mbg\"            \"renewal_item_id\"     \n",
       "[16] \"renew_type\"           \"autorenew_type\"       \"renewal_status\"      \n",
       "[19] \"renew_date\"           \"renew_arpt\"           \"gibb_score\"          \n",
       "[22] \"pattern\"              \"pattern_domain_count\" \"day_domains\"         \n",
       "[25] \"sld_length\"           \"sld_type\"             \"sld_type2\"           \n",
       "[28] \"tld\"                  \"log_reg_arpt\"         \"tld_registrar_index\" \n",
       "[31] \"pred_agg_glm_ALL\"     \"pred_agg_rf_ALL\"      \"pred_agg_glm\"        \n",
       "[34] \"pred_agg_rf\"          \"pred_seg_glm_ALL\"     \"pred_seg_rf_ALL\"     \n",
       "[37] \"pred_seg2_glm_ALL\"    \"pred_seg2_rf_ALL\"    "
      ]
     },
     "metadata": {},
     "output_type": "display_data"
    }
   ],
   "source": [
    "names(preds)"
   ]
  },
  {
   "cell_type": "code",
   "execution_count": 180,
   "metadata": {},
   "outputs": [
    {
     "data": {
      "text/plain": [
       " preds$pred_agg_rf == preds$pred_agg_rf_ALL\n",
       " Mode:logical                              \n",
       " TRUE:3498                                 \n",
       " NA's:29695                                "
      ]
     },
     "metadata": {},
     "output_type": "display_data"
    }
   ],
   "source": [
    "summary(as.data.frame(preds$pred_agg_rf == preds$pred_agg_rf_ALL ))"
   ]
  },
  {
   "cell_type": "code",
   "execution_count": 181,
   "metadata": {},
   "outputs": [
    {
     "data": {
      "text/plain": [
       " preds$pred_agg_glm == preds$pred_agg_glm_ALL\n",
       " Mode:logical                                \n",
       " TRUE:3498                                   \n",
       " NA's:29695                                  "
      ]
     },
     "metadata": {},
     "output_type": "display_data"
    }
   ],
   "source": [
    "summary(as.data.frame(preds$pred_agg_glm == preds$pred_agg_glm_ALL ))"
   ]
  },
  {
   "cell_type": "code",
   "execution_count": 165,
   "metadata": {},
   "outputs": [
    {
     "name": "stderr",
     "output_type": "stream",
     "text": [
      "Warning message in if (is.na(model) | is.null(test_data)) {:\n",
      "“the condition has length > 1 and only the first element will be used”\n",
      "Warning message in predict.lm(object, newdata, se.fit, scale = 1, type = if (type == :\n",
      "“prediction from a rank-deficient fit may be misleading”\n",
      "Warning message:\n",
      "“Unknown or uninitialised column: `first_renewal_prediction`.”\n",
      "Warning message:\n",
      "“Unknown or uninitialised column: `Status`.”\n"
     ]
    },
    {
     "ename": "ERROR",
     "evalue": "Error: Assigned data `*vtmp*` must be compatible with existing data.\n\u001b[31m✖\u001b[39m Existing data has 503 rows.\n\u001b[31m✖\u001b[39m Assigned data has 0 rows.\n\u001b[34mℹ\u001b[39m Only vectors of size 1 are recycled.\n",
     "output_type": "error",
     "traceback": [
      "Error: Assigned data `*vtmp*` must be compatible with existing data.\n\u001b[31m✖\u001b[39m Existing data has 503 rows.\n\u001b[31m✖\u001b[39m Assigned data has 0 rows.\n\u001b[34mℹ\u001b[39m Only vectors of size 1 are recycled.\nTraceback:\n",
      "1. pblapply(tld_registrar_list, function(i) list_predict_first_renewal(i, \n .     test_data, data_models))",
      "2. lapply(X, FUN, ...)",
      "3. FUN(X[[i]], ...)",
      "4. list_predict_first_renewal(i, test_data, data_models)   # at line 6 of file <text>",
      "5. predict_first_renewal(tld_registrar_data, model)",
      "6. `$<-`(`*tmp*`, \"first_renewal_prediction\", value = numeric(0))",
      "7. `$<-.tbl_df`(`*tmp*`, \"first_renewal_prediction\", value = numeric(0))",
      "8. tbl_subassign(x, i = NULL, as_string(name), list(value), i_arg = NULL, \n .     j_arg = name, value_arg = substitute(value))",
      "9. vectbl_recycle_rhs(value, fast_nrow(x), length(j), i_arg = NULL, \n .     value_arg)",
      "10. withCallingHandlers(for (j in seq_along(value)) {\n  .     if (!is.null(value[[j]])) {\n  .         value[[j]] <- vec_recycle(value[[j]], nrow)\n  .     }\n  . }, vctrs_error_recycle_incompatible_size = function(cnd) {\n  .     cnd_signal(error_assign_incompatible_size(nrow, value, j, \n  .         i_arg, value_arg))\n  . })",
      "11. vec_recycle(value[[j]], nrow)",
      "12. stop_recycle_incompatible_size(x_size = 0L, size = 503L, x_arg = \"\")",
      "13. stop_vctrs(x_size = x_size, y_size = size, x_arg = x_arg, class = c(\"vctrs_error_incompatible_size\", \n  .     \"vctrs_error_recycle_incompatible_size\"))",
      "14. abort(message, class = c(class, \"vctrs_error\"), ...)",
      "15. signal_abort(cnd)",
      "16. signalCondition(cnd)",
      "17. (function (cnd) \n  . {\n  .     cnd_signal(error_assign_incompatible_size(nrow, value, j, \n  .         i_arg, value_arg))\n  . })(structure(list(message = \"\", trace = structure(list(calls = list(\n  .     IRkernel::main(), kernel$run(), IRkernel:::handle_shell(), \n  .     executor$execute(msg), base::tryCatch(evaluate(request$content$code, \n  .         envir = .GlobalEnv, output_handler = oh, stop_on_error = 1L), \n  .         interrupt = function(cond) interrupted <<- TRUE, error = .self$handle_error), \n  .     base:::tryCatchList(expr, classes, parentenv, handlers), \n  .     base:::tryCatchOne(tryCatchList(expr, names[-nh], parentenv, \n  .         handlers[-nh]), names[nh], parentenv, handlers[[nh]]), \n  .     base:::doTryCatch(return(expr), name, parentenv, handler), \n  .     base:::tryCatchList(expr, names[-nh], parentenv, handlers[-nh]), \n  .     base:::tryCatchOne(expr, names, parentenv, handlers[[1L]]), \n  .     base:::doTryCatch(return(expr), name, parentenv, handler), \n  .     evaluate::evaluate(request$content$code, envir = .GlobalEnv, \n  .         output_handler = oh, stop_on_error = 1L), evaluate:::evaluate_call(expr, \n  .         parsed$src[[i]], envir = envir, enclos = enclos, debug = debug, \n  .         last = i == length(out), use_try = stop_on_error != 2L, \n  .         keep_warning = keep_warning, keep_message = keep_message, \n  .         output_handler = output_handler, include_timing = include_timing), \n  .     evaluate:::timing_fn(handle(ev <- withCallingHandlers(withVisible(eval(expr, \n  .         envir, enclos)), warning = wHandler, error = eHandler, \n  .         message = mHandler))), evaluate:::handle(ev <- withCallingHandlers(withVisible(eval(expr, \n  .         envir, enclos)), warning = wHandler, error = eHandler, \n  .         message = mHandler)), base::try(f, silent = TRUE), base::tryCatch(expr, \n  .         error = function(e) {\n  .             call <- conditionCall(e)\n  .             if (!is.null(call)) {\n  .                 if (identical(call[[1L]], quote(doTryCatch))) \n  .                   call <- sys.call(-4L)\n  .                 dcall <- deparse(call)[1L]\n  .                 prefix <- paste(\"Error in\", dcall, \": \")\n  .                 LONG <- 75L\n  .                 sm <- strsplit(conditionMessage(e), \"\\n\")[[1L]]\n  .                 w <- 14L + nchar(dcall, type = \"w\") + nchar(sm[1L], \n  .                   type = \"w\")\n  .                 if (is.na(w)) \n  .                   w <- 14L + nchar(dcall, type = \"b\") + nchar(sm[1L], \n  .                     type = \"b\")\n  .                 if (w > LONG) \n  .                   prefix <- paste0(prefix, \"\\n  \")\n  .             }\n  .             else prefix <- \"Error : \"\n  .             msg <- paste0(prefix, conditionMessage(e), \"\\n\")\n  .             .Internal(seterrmessage(msg[1L]))\n  .             if (!silent && isTRUE(getOption(\"show.error.messages\"))) {\n  .                 cat(msg, file = outFile)\n  .                 .Internal(printDeferredWarnings())\n  .             }\n  .             invisible(structure(msg, class = \"try-error\", condition = e))\n  .         }), base:::tryCatchList(expr, classes, parentenv, handlers), \n  .     base:::tryCatchOne(expr, names, parentenv, handlers[[1L]]), \n  .     base:::doTryCatch(return(expr), name, parentenv, handler), \n  .     base::withCallingHandlers(withVisible(eval(expr, envir, enclos)), \n  .         warning = wHandler, error = eHandler, message = mHandler), \n  .     base::withVisible(eval(expr, envir, enclos)), base::eval(expr, \n  .         envir, enclos), base::eval(expr, envir, enclos), pbapply::pblapply(tld_registrar_list, \n  .         function(i) list_predict_first_renewal(i, test_data, \n  .             data_models)), base::lapply(X, FUN, ...), global::FUN(X[[i]], \n  .         ...), global::list_predict_first_renewal(i, test_data, \n  .         data_models), global::predict_first_renewal(tld_registrar_data, \n  .         model), base::`$<-`(`*tmp*`, \"first_renewal_prediction\", \n  .         value = numeric(0)), tibble:::`$<-.tbl_df`(`*tmp*`, \"first_renewal_prediction\", \n  .         value = numeric(0)), tibble:::tbl_subassign(x, i = NULL, \n  .         as_string(name), list(value), i_arg = NULL, j_arg = name, \n  .         value_arg = substitute(value)), tibble:::vectbl_recycle_rhs(value, \n  .         fast_nrow(x), length(j), i_arg = NULL, value_arg), base::withCallingHandlers(for (j in seq_along(value)) {\n  .         if (!is.null(value[[j]])) {\n  .             value[[j]] <- vec_recycle(value[[j]], nrow)\n  .         }\n  .     }, vctrs_error_recycle_incompatible_size = function(cnd) {\n  .         cnd_signal(error_assign_incompatible_size(nrow, value, \n  .             j, i_arg, value_arg))\n  .     }), vctrs::vec_recycle(value[[j]], nrow), vctrs:::stop_recycle_incompatible_size(x_size = 0L, \n  .         size = 503L, x_arg = \"\"), vctrs:::stop_vctrs(x_size = x_size, \n  .         y_size = size, x_arg = x_arg, class = c(\"vctrs_error_incompatible_size\", \n  .             \"vctrs_error_recycle_incompatible_size\"))), parents = c(0L, \n  . 1L, 2L, 3L, 4L, 5L, 6L, 7L, 6L, 9L, 10L, 4L, 12L, 13L, 13L, 15L, \n  . 16L, 17L, 18L, 19L, 13L, 13L, 13L, 23L, 0L, 25L, 26L, 27L, 28L, \n  . 29L, 29L, 31L, 32L, 33L, 33L, 0L, 36L), indices = 1:37), class = \"rlang_trace\", version = 1L), \n  .     parent = NULL, x_size = 0L, y_size = 503L, x_arg = \"\"), class = c(\"vctrs_error_incompatible_size\", \n  . \"vctrs_error_recycle_incompatible_size\", \"vctrs_error\", \"rlang_error\", \n  . \"error\", \"condition\")))",
      "18. cnd_signal(error_assign_incompatible_size(nrow, value, j, i_arg, \n  .     value_arg))",
      "19. signal_abort(cnd)"
     ]
    }
   ],
   "source": [
    "# pred = mass_predict_first_renewal(test_list_tld_reseller, model)\n",
    "test_data = test_list_tld_reseller\n",
    "\n",
    "  tld_registrar_list<-names(test_data)\n",
    "  tld_registrar_list <- tld_registrar_list[!is.na(tld_registrar_list)]\n",
    "  prediction_list<-pblapply(tld_registrar_list, function(i) list_predict_first_renewal(i, test_data, data_models))\n",
    "  prediction_list<-prediction_list[!is.na(prediction_list)]\n",
    "  prediction_op<-rbindlist(prediction_list,use.names=TRUE, fill=TRUE) \n",
    "  test_data<-rbindlist(test_data,  use.names=TRUE, fill=TRUE) # modified as per error on 20200715 (see README)\n",
    "  test_data$first_renewal_prediction<-prediction_op$probabilities[match(test_data$domain_id,\n",
    "                                                                        prediction_op$domain_id)]"
   ]
  },
  {
   "cell_type": "markdown",
   "metadata": {},
   "source": [
    "# CHeck output"
   ]
  },
  {
   "cell_type": "code",
   "execution_count": 4,
   "metadata": {},
   "outputs": [],
   "source": [
    "preds <- read.csv('../../data/output/models_20201102/preds.csv')"
   ]
  },
  {
   "cell_type": "code",
   "execution_count": 5,
   "metadata": {},
   "outputs": [
    {
     "data": {
      "text/html": [
       "<style>\n",
       ".list-inline {list-style: none; margin:0; padding: 0}\n",
       ".list-inline>li {display: inline-block}\n",
       ".list-inline>li:not(:last-child)::after {content: \"\\00b7\"; padding: 0 .5ex}\n",
       "</style>\n",
       "<ol class=list-inline><li>932289</li><li>39</li></ol>\n"
      ],
      "text/latex": [
       "\\begin{enumerate*}\n",
       "\\item 932289\n",
       "\\item 39\n",
       "\\end{enumerate*}\n"
      ],
      "text/markdown": [
       "1. 932289\n",
       "2. 39\n",
       "\n",
       "\n"
      ],
      "text/plain": [
       "[1] 932289     39"
      ]
     },
     "metadata": {},
     "output_type": "display_data"
    }
   ],
   "source": [
    "dim(preds)"
   ]
  },
  {
   "cell_type": "code",
   "execution_count": 6,
   "metadata": {},
   "outputs": [
    {
     "data": {
      "text/html": [
       "<table>\n",
       "<caption>A data.frame: 6 × 39</caption>\n",
       "<thead>\n",
       "\t<tr><th></th><th scope=col>renewal_type</th><th scope=col>renewed_count</th><th scope=col>expiry_date</th><th scope=col>creation_date</th><th scope=col>status</th><th scope=col>domain_id</th><th scope=col>domain</th><th scope=col>registrar</th><th scope=col>reseller</th><th scope=col>reseller_country</th><th scope=col>registrant_country</th><th scope=col>reg_period</th><th scope=col>reg_revenue</th><th scope=col>reg_arpt</th><th scope=col>renew_mbg</th><th scope=col>renewal_item_id</th><th scope=col>renew_type</th><th scope=col>autorenew_type</th><th scope=col>renewal_status</th><th scope=col>renew_date</th><th scope=col>renew_arpt</th><th scope=col>gibb_score</th><th scope=col>pattern</th><th scope=col>pattern_domain_count</th><th scope=col>day_domains</th><th scope=col>sld_length</th><th scope=col>sld_type</th><th scope=col>sld_type2</th><th scope=col>tld</th><th scope=col>log_reg_arpt</th><th scope=col>tld_registrar_index</th><th scope=col>pred_agg_glm_ALL</th><th scope=col>pred_agg_rf_ALL</th><th scope=col>pred_agg_glm</th><th scope=col>pred_agg_rf</th><th scope=col>pred_seg_glm_ALL</th><th scope=col>pred_seg_rf_ALL</th><th scope=col>pred_seg2_glm_ALL</th><th scope=col>pred_seg2_rf_ALL</th></tr>\n",
       "\t<tr><th></th><th scope=col>&lt;fct&gt;</th><th scope=col>&lt;int&gt;</th><th scope=col>&lt;fct&gt;</th><th scope=col>&lt;fct&gt;</th><th scope=col>&lt;fct&gt;</th><th scope=col>&lt;int&gt;</th><th scope=col>&lt;fct&gt;</th><th scope=col>&lt;fct&gt;</th><th scope=col>&lt;fct&gt;</th><th scope=col>&lt;fct&gt;</th><th scope=col>&lt;fct&gt;</th><th scope=col>&lt;int&gt;</th><th scope=col>&lt;dbl&gt;</th><th scope=col>&lt;dbl&gt;</th><th scope=col>&lt;int&gt;</th><th scope=col>&lt;int&gt;</th><th scope=col>&lt;fct&gt;</th><th scope=col>&lt;fct&gt;</th><th scope=col>&lt;fct&gt;</th><th scope=col>&lt;fct&gt;</th><th scope=col>&lt;dbl&gt;</th><th scope=col>&lt;dbl&gt;</th><th scope=col>&lt;fct&gt;</th><th scope=col>&lt;int&gt;</th><th scope=col>&lt;int&gt;</th><th scope=col>&lt;int&gt;</th><th scope=col>&lt;fct&gt;</th><th scope=col>&lt;fct&gt;</th><th scope=col>&lt;fct&gt;</th><th scope=col>&lt;dbl&gt;</th><th scope=col>&lt;fct&gt;</th><th scope=col>&lt;dbl&gt;</th><th scope=col>&lt;dbl&gt;</th><th scope=col>&lt;dbl&gt;</th><th scope=col>&lt;dbl&gt;</th><th scope=col>&lt;dbl&gt;</th><th scope=col>&lt;dbl&gt;</th><th scope=col>&lt;dbl&gt;</th><th scope=col>&lt;dbl&gt;</th></tr>\n",
       "</thead>\n",
       "<tbody>\n",
       "\t<tr><th scope=row>1</th><td>FirstTime</td><td>1</td><td>2019-11-08</td><td>2018-11-08</td><td>Active</td><td>82167309</td><td>viralherbs.pw</td><td>Namecheap</td><td>Namecheap</td><td>United States</td><td>NA</td><td>1</td><td>0.48</td><td>0.48</td><td>0</td><td>248714055</td><td>auto-renewal</td><td>realized  </td><td>Renewed   </td><td>2019-11-08</td><td>7.5</td><td>3.39</td><td>viralhealh</td><td>2</td><td> 576</td><td>10</td><td>l       </td><td>10l       </td><td>pw</td><td>-0.7339692</td><td>pwnamecheap</td><td>0.030</td><td>0.027366883</td><td>0.030</td><td>0.027366883</td><td>0.049</td><td>0.02752752</td><td>0.02812901</td><td>0.024447474</td></tr>\n",
       "\t<tr><th scope=row>2</th><td>FirstTime</td><td>1</td><td>2019-08-05</td><td>2018-08-05</td><td>Active</td><td>73624034</td><td>ww3n.pw      </td><td>Namecheap</td><td>Namecheap</td><td>United States</td><td>NA</td><td>1</td><td>0.48</td><td>0.48</td><td>0</td><td>219523016</td><td>auto-renewal</td><td>unrealized</td><td>Not Renewd</td><td>2019-08-05</td><td>0.0</td><td>0.52</td><td>ww3n      </td><td>1</td><td> 257</td><td> 4</td><td>ln      </td><td>4ln       </td><td>pw</td><td>-0.7339692</td><td>pwnamecheap</td><td>0.024</td><td>0.026322543</td><td>0.024</td><td>0.026322543</td><td>0.062</td><td>0.02930435</td><td>0.07347816</td><td>0.025803420</td></tr>\n",
       "\t<tr><th scope=row>3</th><td>FirstTime</td><td>1</td><td>2019-08-11</td><td>2018-08-11</td><td>Active</td><td>74035654</td><td>dpasseresp.pw</td><td>Namecheap</td><td>Namecheap</td><td>United States</td><td>NA</td><td>1</td><td>0.48</td><td>0.48</td><td>0</td><td>221379481</td><td>auto-renewal</td><td>unrealized</td><td>Not Renewd</td><td>2019-08-11</td><td>7.0</td><td>4.65</td><td>pssders   </td><td>3</td><td> 353</td><td>10</td><td>l       </td><td>10l       </td><td>pw</td><td>-0.7339692</td><td>pwnamecheap</td><td>0.035</td><td>0.006085356</td><td>0.035</td><td>0.006085356</td><td>0.066</td><td>0.01232116</td><td>0.03516253</td><td>0.006186874</td></tr>\n",
       "\t<tr><th scope=row>4</th><td>FirstTime</td><td>1</td><td>2019-07-22</td><td>2018-07-22</td><td>Active</td><td>72660399</td><td>sexgirls.pw  </td><td>Namecheap</td><td>Namecheap</td><td>United States</td><td>NA</td><td>1</td><td>0.48</td><td>0.48</td><td>0</td><td>216639126</td><td>auto-renewal</td><td>unrealized</td><td>Not Renewd</td><td>2019-07-22</td><td>7.0</td><td>1.75</td><td>xgirl     </td><td>2</td><td>  80</td><td> 8</td><td>l       </td><td>8l        </td><td>pw</td><td>-0.7339692</td><td>pwnamecheap</td><td>0.048</td><td>0.080058013</td><td>0.048</td><td>0.080058013</td><td>0.098</td><td>0.06522605</td><td>0.06273875</td><td>0.059190735</td></tr>\n",
       "\t<tr><th scope=row>5</th><td>FirstTime</td><td>1</td><td>2019-07-07</td><td>2018-07-07</td><td>Active</td><td>71566430</td><td>yucief.pw    </td><td>Namecheap</td><td>Namecheap</td><td>United States</td><td>NA</td><td>1</td><td>0.48</td><td>0.48</td><td>0</td><td>213669206</td><td>auto-renewal</td><td>unrealized</td><td>Not Renewd</td><td>2019-07-07</td><td>7.0</td><td>1.52</td><td>cief      </td><td>3</td><td>1147</td><td> 6</td><td>l       </td><td>6l        </td><td>pw</td><td>-0.7339692</td><td>pwnamecheap</td><td>0.017</td><td>0.016695967</td><td>0.017</td><td>0.016695967</td><td>0.023</td><td>0.01608117</td><td>0.02273527</td><td>0.016375413</td></tr>\n",
       "\t<tr><th scope=row>6</th><td>FirstTime</td><td>1</td><td>2019-11-11</td><td>2018-11-11</td><td>Active</td><td>82528489</td><td>bio-x-keto.pw</td><td>Namecheap</td><td>Namecheap</td><td>United States</td><td>NA</td><td>1</td><td>0.48</td><td>0.48</td><td>0</td><td>250798210</td><td>auto-renewal</td><td>unrealized</td><td>Not Renewd</td><td>2019-11-11</td><td>7.5</td><td>2.16</td><td>bio-x-keto</td><td>1</td><td> 687</td><td>10</td><td>hyphen-l</td><td>10hyphen-l</td><td>pw</td><td>-0.7339692</td><td>pwnamecheap</td><td>0.031</td><td>0.009853222</td><td>0.031</td><td>0.009853222</td><td>0.038</td><td>0.01404684</td><td>0.02211356</td><td>0.009443069</td></tr>\n",
       "</tbody>\n",
       "</table>\n"
      ],
      "text/latex": [
       "A data.frame: 6 × 39\n",
       "\\begin{tabular}{r|lllllllllllllllllllllllllllllllllllllll}\n",
       "  & renewal\\_type & renewed\\_count & expiry\\_date & creation\\_date & status & domain\\_id & domain & registrar & reseller & reseller\\_country & registrant\\_country & reg\\_period & reg\\_revenue & reg\\_arpt & renew\\_mbg & renewal\\_item\\_id & renew\\_type & autorenew\\_type & renewal\\_status & renew\\_date & renew\\_arpt & gibb\\_score & pattern & pattern\\_domain\\_count & day\\_domains & sld\\_length & sld\\_type & sld\\_type2 & tld & log\\_reg\\_arpt & tld\\_registrar\\_index & pred\\_agg\\_glm\\_ALL & pred\\_agg\\_rf\\_ALL & pred\\_agg\\_glm & pred\\_agg\\_rf & pred\\_seg\\_glm\\_ALL & pred\\_seg\\_rf\\_ALL & pred\\_seg2\\_glm\\_ALL & pred\\_seg2\\_rf\\_ALL\\\\\n",
       "  & <fct> & <int> & <fct> & <fct> & <fct> & <int> & <fct> & <fct> & <fct> & <fct> & <fct> & <int> & <dbl> & <dbl> & <int> & <int> & <fct> & <fct> & <fct> & <fct> & <dbl> & <dbl> & <fct> & <int> & <int> & <int> & <fct> & <fct> & <fct> & <dbl> & <fct> & <dbl> & <dbl> & <dbl> & <dbl> & <dbl> & <dbl> & <dbl> & <dbl>\\\\\n",
       "\\hline\n",
       "\t1 & FirstTime & 1 & 2019-11-08 & 2018-11-08 & Active & 82167309 & viralherbs.pw & Namecheap & Namecheap & United States & NA & 1 & 0.48 & 0.48 & 0 & 248714055 & auto-renewal & realized   & Renewed    & 2019-11-08 & 7.5 & 3.39 & viralhealh & 2 &  576 & 10 & l        & 10l        & pw & -0.7339692 & pwnamecheap & 0.030 & 0.027366883 & 0.030 & 0.027366883 & 0.049 & 0.02752752 & 0.02812901 & 0.024447474\\\\\n",
       "\t2 & FirstTime & 1 & 2019-08-05 & 2018-08-05 & Active & 73624034 & ww3n.pw       & Namecheap & Namecheap & United States & NA & 1 & 0.48 & 0.48 & 0 & 219523016 & auto-renewal & unrealized & Not Renewd & 2019-08-05 & 0.0 & 0.52 & ww3n       & 1 &  257 &  4 & ln       & 4ln        & pw & -0.7339692 & pwnamecheap & 0.024 & 0.026322543 & 0.024 & 0.026322543 & 0.062 & 0.02930435 & 0.07347816 & 0.025803420\\\\\n",
       "\t3 & FirstTime & 1 & 2019-08-11 & 2018-08-11 & Active & 74035654 & dpasseresp.pw & Namecheap & Namecheap & United States & NA & 1 & 0.48 & 0.48 & 0 & 221379481 & auto-renewal & unrealized & Not Renewd & 2019-08-11 & 7.0 & 4.65 & pssders    & 3 &  353 & 10 & l        & 10l        & pw & -0.7339692 & pwnamecheap & 0.035 & 0.006085356 & 0.035 & 0.006085356 & 0.066 & 0.01232116 & 0.03516253 & 0.006186874\\\\\n",
       "\t4 & FirstTime & 1 & 2019-07-22 & 2018-07-22 & Active & 72660399 & sexgirls.pw   & Namecheap & Namecheap & United States & NA & 1 & 0.48 & 0.48 & 0 & 216639126 & auto-renewal & unrealized & Not Renewd & 2019-07-22 & 7.0 & 1.75 & xgirl      & 2 &   80 &  8 & l        & 8l         & pw & -0.7339692 & pwnamecheap & 0.048 & 0.080058013 & 0.048 & 0.080058013 & 0.098 & 0.06522605 & 0.06273875 & 0.059190735\\\\\n",
       "\t5 & FirstTime & 1 & 2019-07-07 & 2018-07-07 & Active & 71566430 & yucief.pw     & Namecheap & Namecheap & United States & NA & 1 & 0.48 & 0.48 & 0 & 213669206 & auto-renewal & unrealized & Not Renewd & 2019-07-07 & 7.0 & 1.52 & cief       & 3 & 1147 &  6 & l        & 6l         & pw & -0.7339692 & pwnamecheap & 0.017 & 0.016695967 & 0.017 & 0.016695967 & 0.023 & 0.01608117 & 0.02273527 & 0.016375413\\\\\n",
       "\t6 & FirstTime & 1 & 2019-11-11 & 2018-11-11 & Active & 82528489 & bio-x-keto.pw & Namecheap & Namecheap & United States & NA & 1 & 0.48 & 0.48 & 0 & 250798210 & auto-renewal & unrealized & Not Renewd & 2019-11-11 & 7.5 & 2.16 & bio-x-keto & 1 &  687 & 10 & hyphen-l & 10hyphen-l & pw & -0.7339692 & pwnamecheap & 0.031 & 0.009853222 & 0.031 & 0.009853222 & 0.038 & 0.01404684 & 0.02211356 & 0.009443069\\\\\n",
       "\\end{tabular}\n"
      ],
      "text/markdown": [
       "\n",
       "A data.frame: 6 × 39\n",
       "\n",
       "| <!--/--> | renewal_type &lt;fct&gt; | renewed_count &lt;int&gt; | expiry_date &lt;fct&gt; | creation_date &lt;fct&gt; | status &lt;fct&gt; | domain_id &lt;int&gt; | domain &lt;fct&gt; | registrar &lt;fct&gt; | reseller &lt;fct&gt; | reseller_country &lt;fct&gt; | registrant_country &lt;fct&gt; | reg_period &lt;int&gt; | reg_revenue &lt;dbl&gt; | reg_arpt &lt;dbl&gt; | renew_mbg &lt;int&gt; | renewal_item_id &lt;int&gt; | renew_type &lt;fct&gt; | autorenew_type &lt;fct&gt; | renewal_status &lt;fct&gt; | renew_date &lt;fct&gt; | renew_arpt &lt;dbl&gt; | gibb_score &lt;dbl&gt; | pattern &lt;fct&gt; | pattern_domain_count &lt;int&gt; | day_domains &lt;int&gt; | sld_length &lt;int&gt; | sld_type &lt;fct&gt; | sld_type2 &lt;fct&gt; | tld &lt;fct&gt; | log_reg_arpt &lt;dbl&gt; | tld_registrar_index &lt;fct&gt; | pred_agg_glm_ALL &lt;dbl&gt; | pred_agg_rf_ALL &lt;dbl&gt; | pred_agg_glm &lt;dbl&gt; | pred_agg_rf &lt;dbl&gt; | pred_seg_glm_ALL &lt;dbl&gt; | pred_seg_rf_ALL &lt;dbl&gt; | pred_seg2_glm_ALL &lt;dbl&gt; | pred_seg2_rf_ALL &lt;dbl&gt; |\n",
       "|---|---|---|---|---|---|---|---|---|---|---|---|---|---|---|---|---|---|---|---|---|---|---|---|---|---|---|---|---|---|---|---|---|---|---|---|---|---|---|---|\n",
       "| 1 | FirstTime | 1 | 2019-11-08 | 2018-11-08 | Active | 82167309 | viralherbs.pw | Namecheap | Namecheap | United States | NA | 1 | 0.48 | 0.48 | 0 | 248714055 | auto-renewal | realized   | Renewed    | 2019-11-08 | 7.5 | 3.39 | viralhealh | 2 |  576 | 10 | l        | 10l        | pw | -0.7339692 | pwnamecheap | 0.030 | 0.027366883 | 0.030 | 0.027366883 | 0.049 | 0.02752752 | 0.02812901 | 0.024447474 |\n",
       "| 2 | FirstTime | 1 | 2019-08-05 | 2018-08-05 | Active | 73624034 | ww3n.pw       | Namecheap | Namecheap | United States | NA | 1 | 0.48 | 0.48 | 0 | 219523016 | auto-renewal | unrealized | Not Renewd | 2019-08-05 | 0.0 | 0.52 | ww3n       | 1 |  257 |  4 | ln       | 4ln        | pw | -0.7339692 | pwnamecheap | 0.024 | 0.026322543 | 0.024 | 0.026322543 | 0.062 | 0.02930435 | 0.07347816 | 0.025803420 |\n",
       "| 3 | FirstTime | 1 | 2019-08-11 | 2018-08-11 | Active | 74035654 | dpasseresp.pw | Namecheap | Namecheap | United States | NA | 1 | 0.48 | 0.48 | 0 | 221379481 | auto-renewal | unrealized | Not Renewd | 2019-08-11 | 7.0 | 4.65 | pssders    | 3 |  353 | 10 | l        | 10l        | pw | -0.7339692 | pwnamecheap | 0.035 | 0.006085356 | 0.035 | 0.006085356 | 0.066 | 0.01232116 | 0.03516253 | 0.006186874 |\n",
       "| 4 | FirstTime | 1 | 2019-07-22 | 2018-07-22 | Active | 72660399 | sexgirls.pw   | Namecheap | Namecheap | United States | NA | 1 | 0.48 | 0.48 | 0 | 216639126 | auto-renewal | unrealized | Not Renewd | 2019-07-22 | 7.0 | 1.75 | xgirl      | 2 |   80 |  8 | l        | 8l         | pw | -0.7339692 | pwnamecheap | 0.048 | 0.080058013 | 0.048 | 0.080058013 | 0.098 | 0.06522605 | 0.06273875 | 0.059190735 |\n",
       "| 5 | FirstTime | 1 | 2019-07-07 | 2018-07-07 | Active | 71566430 | yucief.pw     | Namecheap | Namecheap | United States | NA | 1 | 0.48 | 0.48 | 0 | 213669206 | auto-renewal | unrealized | Not Renewd | 2019-07-07 | 7.0 | 1.52 | cief       | 3 | 1147 |  6 | l        | 6l         | pw | -0.7339692 | pwnamecheap | 0.017 | 0.016695967 | 0.017 | 0.016695967 | 0.023 | 0.01608117 | 0.02273527 | 0.016375413 |\n",
       "| 6 | FirstTime | 1 | 2019-11-11 | 2018-11-11 | Active | 82528489 | bio-x-keto.pw | Namecheap | Namecheap | United States | NA | 1 | 0.48 | 0.48 | 0 | 250798210 | auto-renewal | unrealized | Not Renewd | 2019-11-11 | 7.5 | 2.16 | bio-x-keto | 1 |  687 | 10 | hyphen-l | 10hyphen-l | pw | -0.7339692 | pwnamecheap | 0.031 | 0.009853222 | 0.031 | 0.009853222 | 0.038 | 0.01404684 | 0.02211356 | 0.009443069 |\n",
       "\n"
      ],
      "text/plain": [
       "  renewal_type renewed_count expiry_date creation_date status domain_id\n",
       "1 FirstTime    1             2019-11-08  2018-11-08    Active 82167309 \n",
       "2 FirstTime    1             2019-08-05  2018-08-05    Active 73624034 \n",
       "3 FirstTime    1             2019-08-11  2018-08-11    Active 74035654 \n",
       "4 FirstTime    1             2019-07-22  2018-07-22    Active 72660399 \n",
       "5 FirstTime    1             2019-07-07  2018-07-07    Active 71566430 \n",
       "6 FirstTime    1             2019-11-11  2018-11-11    Active 82528489 \n",
       "  domain        registrar reseller  reseller_country registrant_country\n",
       "1 viralherbs.pw Namecheap Namecheap United States    NA                \n",
       "2 ww3n.pw       Namecheap Namecheap United States    NA                \n",
       "3 dpasseresp.pw Namecheap Namecheap United States    NA                \n",
       "4 sexgirls.pw   Namecheap Namecheap United States    NA                \n",
       "5 yucief.pw     Namecheap Namecheap United States    NA                \n",
       "6 bio-x-keto.pw Namecheap Namecheap United States    NA                \n",
       "  reg_period reg_revenue reg_arpt renew_mbg renewal_item_id renew_type  \n",
       "1 1          0.48        0.48     0         248714055       auto-renewal\n",
       "2 1          0.48        0.48     0         219523016       auto-renewal\n",
       "3 1          0.48        0.48     0         221379481       auto-renewal\n",
       "4 1          0.48        0.48     0         216639126       auto-renewal\n",
       "5 1          0.48        0.48     0         213669206       auto-renewal\n",
       "6 1          0.48        0.48     0         250798210       auto-renewal\n",
       "  autorenew_type renewal_status renew_date renew_arpt gibb_score pattern   \n",
       "1 realized       Renewed        2019-11-08 7.5        3.39       viralhealh\n",
       "2 unrealized     Not Renewd     2019-08-05 0.0        0.52       ww3n      \n",
       "3 unrealized     Not Renewd     2019-08-11 7.0        4.65       pssders   \n",
       "4 unrealized     Not Renewd     2019-07-22 7.0        1.75       xgirl     \n",
       "5 unrealized     Not Renewd     2019-07-07 7.0        1.52       cief      \n",
       "6 unrealized     Not Renewd     2019-11-11 7.5        2.16       bio-x-keto\n",
       "  pattern_domain_count day_domains sld_length sld_type sld_type2  tld\n",
       "1 2                     576        10         l        10l        pw \n",
       "2 1                     257         4         ln       4ln        pw \n",
       "3 3                     353        10         l        10l        pw \n",
       "4 2                      80         8         l        8l         pw \n",
       "5 3                    1147         6         l        6l         pw \n",
       "6 1                     687        10         hyphen-l 10hyphen-l pw \n",
       "  log_reg_arpt tld_registrar_index pred_agg_glm_ALL pred_agg_rf_ALL\n",
       "1 -0.7339692   pwnamecheap         0.030            0.027366883    \n",
       "2 -0.7339692   pwnamecheap         0.024            0.026322543    \n",
       "3 -0.7339692   pwnamecheap         0.035            0.006085356    \n",
       "4 -0.7339692   pwnamecheap         0.048            0.080058013    \n",
       "5 -0.7339692   pwnamecheap         0.017            0.016695967    \n",
       "6 -0.7339692   pwnamecheap         0.031            0.009853222    \n",
       "  pred_agg_glm pred_agg_rf pred_seg_glm_ALL pred_seg_rf_ALL pred_seg2_glm_ALL\n",
       "1 0.030        0.027366883 0.049            0.02752752      0.02812901       \n",
       "2 0.024        0.026322543 0.062            0.02930435      0.07347816       \n",
       "3 0.035        0.006085356 0.066            0.01232116      0.03516253       \n",
       "4 0.048        0.080058013 0.098            0.06522605      0.06273875       \n",
       "5 0.017        0.016695967 0.023            0.01608117      0.02273527       \n",
       "6 0.031        0.009853222 0.038            0.01404684      0.02211356       \n",
       "  pred_seg2_rf_ALL\n",
       "1 0.024447474     \n",
       "2 0.025803420     \n",
       "3 0.006186874     \n",
       "4 0.059190735     \n",
       "5 0.016375413     \n",
       "6 0.009443069     "
      ]
     },
     "metadata": {},
     "output_type": "display_data"
    }
   ],
   "source": [
    "head(preds)"
   ]
  },
  {
   "cell_type": "markdown",
   "metadata": {},
   "source": [
    "# QA script fails"
   ]
  },
  {
   "cell_type": "code",
   "execution_count": 54,
   "metadata": {},
   "outputs": [],
   "source": [
    "\n",
    "source('../orig/functions.R')\n",
    "\n",
    "source('../orig/functions_models.R')"
   ]
  },
  {
   "cell_type": "code",
   "execution_count": 55,
   "metadata": {},
   "outputs": [],
   "source": [
    "# model_seg2_glm_ALL\n",
    "tld_registrar_str = \"siteregistrator domenov\"\n",
    "# tld_registrar_str = \"onlinenominalia\""
   ]
  },
  {
   "cell_type": "code",
   "execution_count": 56,
   "metadata": {},
   "outputs": [],
   "source": [
    "model = load(\"../../data/output/models_20201104/model_seg2_glm_siteregistratordomenov.Rdata\")"
   ]
  },
  {
   "cell_type": "code",
   "execution_count": 57,
   "metadata": {},
   "outputs": [],
   "source": [
    "model <- model_seg2_glm_siteregistratordomenov"
   ]
  },
  {
   "cell_type": "code",
   "execution_count": 58,
   "metadata": {},
   "outputs": [],
   "source": [
    "tld_reseller_str = tld_registrar_str\n",
    "test_list = expiry_test_list\n",
    "test_list_tld_reseller = test_list[tld_reseller_str]\n",
    "test_df_tld_reseller =  rbindlist(test_list_tld_reseller,use.names=TRUE)"
   ]
  },
  {
   "cell_type": "code",
   "execution_count": 61,
   "metadata": {},
   "outputs": [
    {
     "name": "stderr",
     "output_type": "stream",
     "text": [
      "Warning message in if (is.na(model) | is.null(test_data)) {:\n",
      "“the condition has length > 1 and only the first element will be used”\n",
      "Warning message in predict.lm(object, newdata, se.fit, scale = 1, type = if (type == :\n",
      "“prediction from a rank-deficient fit may be misleading”\n"
     ]
    }
   ],
   "source": [
    "pred = mass_predict_first_renewal(test_list_tld_reseller, model)"
   ]
  },
  {
   "cell_type": "code",
   "execution_count": 62,
   "metadata": {},
   "outputs": [
    {
     "data": {
      "text/html": [
       "<table>\n",
       "<caption>A data.table: 6 × 32</caption>\n",
       "<thead>\n",
       "\t<tr><th scope=col>renewal_type</th><th scope=col>renewed_count</th><th scope=col>expiry_date</th><th scope=col>creation_date</th><th scope=col>status</th><th scope=col>domain_id</th><th scope=col>domain</th><th scope=col>registrar</th><th scope=col>reseller</th><th scope=col>reseller_country</th><th scope=col>registrant_country</th><th scope=col>reg_period</th><th scope=col>reg_revenue</th><th scope=col>reg_arpt</th><th scope=col>renew_mbg</th><th scope=col>renewal_item_id</th><th scope=col>renew_type</th><th scope=col>autorenew_type</th><th scope=col>renewal_status</th><th scope=col>renew_date</th><th scope=col>renew_arpt</th><th scope=col>gibb_score</th><th scope=col>pattern</th><th scope=col>pattern_domain_count</th><th scope=col>day_domains</th><th scope=col>sld_length</th><th scope=col>sld_type</th><th scope=col>sld_type2</th><th scope=col>tld</th><th scope=col>log_reg_arpt</th><th scope=col>tld_registrar_index</th><th scope=col>first_renewal_prediction</th></tr>\n",
       "\t<tr><th scope=col>&lt;chr&gt;</th><th scope=col>&lt;int&gt;</th><th scope=col>&lt;date&gt;</th><th scope=col>&lt;date&gt;</th><th scope=col>&lt;chr&gt;</th><th scope=col>&lt;int&gt;</th><th scope=col>&lt;chr&gt;</th><th scope=col>&lt;chr&gt;</th><th scope=col>&lt;chr&gt;</th><th scope=col>&lt;chr&gt;</th><th scope=col>&lt;chr&gt;</th><th scope=col>&lt;int&gt;</th><th scope=col>&lt;dbl&gt;</th><th scope=col>&lt;dbl&gt;</th><th scope=col>&lt;int&gt;</th><th scope=col>&lt;int&gt;</th><th scope=col>&lt;chr&gt;</th><th scope=col>&lt;chr&gt;</th><th scope=col>&lt;chr&gt;</th><th scope=col>&lt;date&gt;</th><th scope=col>&lt;dbl&gt;</th><th scope=col>&lt;dbl&gt;</th><th scope=col>&lt;chr&gt;</th><th scope=col>&lt;int&gt;</th><th scope=col>&lt;int&gt;</th><th scope=col>&lt;int&gt;</th><th scope=col>&lt;chr&gt;</th><th scope=col>&lt;chr&gt;</th><th scope=col>&lt;chr&gt;</th><th scope=col>&lt;dbl&gt;</th><th scope=col>&lt;chr&gt;</th><th scope=col>&lt;dbl&gt;</th></tr>\n",
       "</thead>\n",
       "<tbody>\n",
       "\t<tr><td>FirstTime</td><td>1</td><td>2020-04-10</td><td>2019-04-10</td><td>Active</td><td> 99552094</td><td>zarya.site                 </td><td>Registrator Domenov</td><td>Registrator Domenov</td><td>Russia</td><td>NA</td><td>1</td><td>1</td><td>1</td><td>0</td><td>306634739</td><td>auto-renewal</td><td>realized  </td><td>Renewed   </td><td>2020-04-10</td><td>20</td><td>5.02</td><td>zarya                 </td><td>1</td><td>1</td><td> 5</td><td>l       </td><td>5l        </td><td>site</td><td>0</td><td>siteregistrator domenov</td><td>1.000000e+00</td></tr>\n",
       "\t<tr><td>FirstTime</td><td>1</td><td>2020-03-23</td><td>2019-03-23</td><td>Active</td><td> 97663239</td><td>lti-l.site                 </td><td>Registrator Domenov</td><td>Registrator Domenov</td><td>Russia</td><td>NA</td><td>1</td><td>1</td><td>1</td><td>0</td><td>284200426</td><td>renewal     </td><td>NA        </td><td>Renewed   </td><td>2020-01-24</td><td>20</td><td>4.49</td><td>lti-l                 </td><td>1</td><td>1</td><td> 5</td><td>hyphen-l</td><td>5hyphen-l </td><td>site</td><td>0</td><td>siteregistrator domenov</td><td>1.000000e+00</td></tr>\n",
       "\t<tr><td>FirstTime</td><td>1</td><td>2020-06-17</td><td>2019-06-17</td><td>Active</td><td>108122146</td><td>technogroup.site           </td><td>Registrator Domenov</td><td>Registrator Domenov</td><td>Russia</td><td>NA</td><td>1</td><td>1</td><td>1</td><td>0</td><td>322846904</td><td>auto-renewal</td><td>unrealized</td><td>Not Renewd</td><td>2020-06-17</td><td>20</td><td>3.68</td><td>technogroup           </td><td>1</td><td>1</td><td>11</td><td>l       </td><td>11l       </td><td>site</td><td>0</td><td>siteregistrator domenov</td><td>2.220446e-16</td></tr>\n",
       "\t<tr><td>FirstTime</td><td>1</td><td>2020-07-18</td><td>2019-07-18</td><td>Active</td><td>113052246</td><td>get-landing.site           </td><td>Registrator Domenov</td><td>Registrator Domenov</td><td>Russia</td><td>NA</td><td>1</td><td>1</td><td>1</td><td>0</td><td>330408694</td><td>auto-renewal</td><td>unrealized</td><td>Not Renewd</td><td>2020-07-18</td><td>20</td><td>9.09</td><td>gettilda              </td><td>2</td><td>2</td><td>11</td><td>hyphen-l</td><td>11hyphen-l</td><td>site</td><td>0</td><td>siteregistrator domenov</td><td>2.220446e-16</td></tr>\n",
       "\t<tr><td>FirstTime</td><td>1</td><td>2020-02-21</td><td>2019-02-21</td><td>Active</td><td> 94390464</td><td>xn----7sbhb9acibxt3ndg.site</td><td>Registrator Domenov</td><td>Registrator Domenov</td><td>Russia</td><td>NA</td><td>1</td><td>1</td><td>1</td><td>0</td><td>270099991</td><td>renewal     </td><td>NA        </td><td>Renewed   </td><td>2019-12-24</td><td>20</td><td>0.64</td><td>xn----7sbhb9acibxt3ndg</td><td>1</td><td>1</td><td>22</td><td>idn     </td><td>22idn     </td><td>site</td><td>0</td><td>siteregistrator domenov</td><td>1.000000e+00</td></tr>\n",
       "\t<tr><td>FirstTime</td><td>1</td><td>2020-04-09</td><td>2019-04-09</td><td>Active</td><td> 99411879</td><td>web-leader.site            </td><td>Registrator Domenov</td><td>Registrator Domenov</td><td>Russia</td><td>NA</td><td>1</td><td>1</td><td>1</td><td>0</td><td>306369449</td><td>auto-renewal</td><td>unrealized</td><td>Not Renewd</td><td>2020-04-09</td><td>20</td><td>6.21</td><td>web-leader            </td><td>1</td><td>1</td><td>10</td><td>hyphen-l</td><td>10hyphen-l</td><td>site</td><td>0</td><td>siteregistrator domenov</td><td>2.220446e-16</td></tr>\n",
       "</tbody>\n",
       "</table>\n"
      ],
      "text/latex": [
       "A data.table: 6 × 32\n",
       "\\begin{tabular}{llllllllllllllllllllllllllllllll}\n",
       " renewal\\_type & renewed\\_count & expiry\\_date & creation\\_date & status & domain\\_id & domain & registrar & reseller & reseller\\_country & registrant\\_country & reg\\_period & reg\\_revenue & reg\\_arpt & renew\\_mbg & renewal\\_item\\_id & renew\\_type & autorenew\\_type & renewal\\_status & renew\\_date & renew\\_arpt & gibb\\_score & pattern & pattern\\_domain\\_count & day\\_domains & sld\\_length & sld\\_type & sld\\_type2 & tld & log\\_reg\\_arpt & tld\\_registrar\\_index & first\\_renewal\\_prediction\\\\\n",
       " <chr> & <int> & <date> & <date> & <chr> & <int> & <chr> & <chr> & <chr> & <chr> & <chr> & <int> & <dbl> & <dbl> & <int> & <int> & <chr> & <chr> & <chr> & <date> & <dbl> & <dbl> & <chr> & <int> & <int> & <int> & <chr> & <chr> & <chr> & <dbl> & <chr> & <dbl>\\\\\n",
       "\\hline\n",
       "\t FirstTime & 1 & 2020-04-10 & 2019-04-10 & Active &  99552094 & zarya.site                  & Registrator Domenov & Registrator Domenov & Russia & NA & 1 & 1 & 1 & 0 & 306634739 & auto-renewal & realized   & Renewed    & 2020-04-10 & 20 & 5.02 & zarya                  & 1 & 1 &  5 & l        & 5l         & site & 0 & siteregistrator domenov & 1.000000e+00\\\\\n",
       "\t FirstTime & 1 & 2020-03-23 & 2019-03-23 & Active &  97663239 & lti-l.site                  & Registrator Domenov & Registrator Domenov & Russia & NA & 1 & 1 & 1 & 0 & 284200426 & renewal      & NA         & Renewed    & 2020-01-24 & 20 & 4.49 & lti-l                  & 1 & 1 &  5 & hyphen-l & 5hyphen-l  & site & 0 & siteregistrator domenov & 1.000000e+00\\\\\n",
       "\t FirstTime & 1 & 2020-06-17 & 2019-06-17 & Active & 108122146 & technogroup.site            & Registrator Domenov & Registrator Domenov & Russia & NA & 1 & 1 & 1 & 0 & 322846904 & auto-renewal & unrealized & Not Renewd & 2020-06-17 & 20 & 3.68 & technogroup            & 1 & 1 & 11 & l        & 11l        & site & 0 & siteregistrator domenov & 2.220446e-16\\\\\n",
       "\t FirstTime & 1 & 2020-07-18 & 2019-07-18 & Active & 113052246 & get-landing.site            & Registrator Domenov & Registrator Domenov & Russia & NA & 1 & 1 & 1 & 0 & 330408694 & auto-renewal & unrealized & Not Renewd & 2020-07-18 & 20 & 9.09 & gettilda               & 2 & 2 & 11 & hyphen-l & 11hyphen-l & site & 0 & siteregistrator domenov & 2.220446e-16\\\\\n",
       "\t FirstTime & 1 & 2020-02-21 & 2019-02-21 & Active &  94390464 & xn----7sbhb9acibxt3ndg.site & Registrator Domenov & Registrator Domenov & Russia & NA & 1 & 1 & 1 & 0 & 270099991 & renewal      & NA         & Renewed    & 2019-12-24 & 20 & 0.64 & xn----7sbhb9acibxt3ndg & 1 & 1 & 22 & idn      & 22idn      & site & 0 & siteregistrator domenov & 1.000000e+00\\\\\n",
       "\t FirstTime & 1 & 2020-04-09 & 2019-04-09 & Active &  99411879 & web-leader.site             & Registrator Domenov & Registrator Domenov & Russia & NA & 1 & 1 & 1 & 0 & 306369449 & auto-renewal & unrealized & Not Renewd & 2020-04-09 & 20 & 6.21 & web-leader             & 1 & 1 & 10 & hyphen-l & 10hyphen-l & site & 0 & siteregistrator domenov & 2.220446e-16\\\\\n",
       "\\end{tabular}\n"
      ],
      "text/markdown": [
       "\n",
       "A data.table: 6 × 32\n",
       "\n",
       "| renewal_type &lt;chr&gt; | renewed_count &lt;int&gt; | expiry_date &lt;date&gt; | creation_date &lt;date&gt; | status &lt;chr&gt; | domain_id &lt;int&gt; | domain &lt;chr&gt; | registrar &lt;chr&gt; | reseller &lt;chr&gt; | reseller_country &lt;chr&gt; | registrant_country &lt;chr&gt; | reg_period &lt;int&gt; | reg_revenue &lt;dbl&gt; | reg_arpt &lt;dbl&gt; | renew_mbg &lt;int&gt; | renewal_item_id &lt;int&gt; | renew_type &lt;chr&gt; | autorenew_type &lt;chr&gt; | renewal_status &lt;chr&gt; | renew_date &lt;date&gt; | renew_arpt &lt;dbl&gt; | gibb_score &lt;dbl&gt; | pattern &lt;chr&gt; | pattern_domain_count &lt;int&gt; | day_domains &lt;int&gt; | sld_length &lt;int&gt; | sld_type &lt;chr&gt; | sld_type2 &lt;chr&gt; | tld &lt;chr&gt; | log_reg_arpt &lt;dbl&gt; | tld_registrar_index &lt;chr&gt; | first_renewal_prediction &lt;dbl&gt; |\n",
       "|---|---|---|---|---|---|---|---|---|---|---|---|---|---|---|---|---|---|---|---|---|---|---|---|---|---|---|---|---|---|---|---|\n",
       "| FirstTime | 1 | 2020-04-10 | 2019-04-10 | Active |  99552094 | zarya.site                  | Registrator Domenov | Registrator Domenov | Russia | NA | 1 | 1 | 1 | 0 | 306634739 | auto-renewal | realized   | Renewed    | 2020-04-10 | 20 | 5.02 | zarya                  | 1 | 1 |  5 | l        | 5l         | site | 0 | siteregistrator domenov | 1.000000e+00 |\n",
       "| FirstTime | 1 | 2020-03-23 | 2019-03-23 | Active |  97663239 | lti-l.site                  | Registrator Domenov | Registrator Domenov | Russia | NA | 1 | 1 | 1 | 0 | 284200426 | renewal      | NA         | Renewed    | 2020-01-24 | 20 | 4.49 | lti-l                  | 1 | 1 |  5 | hyphen-l | 5hyphen-l  | site | 0 | siteregistrator domenov | 1.000000e+00 |\n",
       "| FirstTime | 1 | 2020-06-17 | 2019-06-17 | Active | 108122146 | technogroup.site            | Registrator Domenov | Registrator Domenov | Russia | NA | 1 | 1 | 1 | 0 | 322846904 | auto-renewal | unrealized | Not Renewd | 2020-06-17 | 20 | 3.68 | technogroup            | 1 | 1 | 11 | l        | 11l        | site | 0 | siteregistrator domenov | 2.220446e-16 |\n",
       "| FirstTime | 1 | 2020-07-18 | 2019-07-18 | Active | 113052246 | get-landing.site            | Registrator Domenov | Registrator Domenov | Russia | NA | 1 | 1 | 1 | 0 | 330408694 | auto-renewal | unrealized | Not Renewd | 2020-07-18 | 20 | 9.09 | gettilda               | 2 | 2 | 11 | hyphen-l | 11hyphen-l | site | 0 | siteregistrator domenov | 2.220446e-16 |\n",
       "| FirstTime | 1 | 2020-02-21 | 2019-02-21 | Active |  94390464 | xn----7sbhb9acibxt3ndg.site | Registrator Domenov | Registrator Domenov | Russia | NA | 1 | 1 | 1 | 0 | 270099991 | renewal      | NA         | Renewed    | 2019-12-24 | 20 | 0.64 | xn----7sbhb9acibxt3ndg | 1 | 1 | 22 | idn      | 22idn      | site | 0 | siteregistrator domenov | 1.000000e+00 |\n",
       "| FirstTime | 1 | 2020-04-09 | 2019-04-09 | Active |  99411879 | web-leader.site             | Registrator Domenov | Registrator Domenov | Russia | NA | 1 | 1 | 1 | 0 | 306369449 | auto-renewal | unrealized | Not Renewd | 2020-04-09 | 20 | 6.21 | web-leader             | 1 | 1 | 10 | hyphen-l | 10hyphen-l | site | 0 | siteregistrator domenov | 2.220446e-16 |\n",
       "\n"
      ],
      "text/plain": [
       "  renewal_type renewed_count expiry_date creation_date status domain_id\n",
       "1 FirstTime    1             2020-04-10  2019-04-10    Active  99552094\n",
       "2 FirstTime    1             2020-03-23  2019-03-23    Active  97663239\n",
       "3 FirstTime    1             2020-06-17  2019-06-17    Active 108122146\n",
       "4 FirstTime    1             2020-07-18  2019-07-18    Active 113052246\n",
       "5 FirstTime    1             2020-02-21  2019-02-21    Active  94390464\n",
       "6 FirstTime    1             2020-04-09  2019-04-09    Active  99411879\n",
       "  domain                      registrar           reseller           \n",
       "1 zarya.site                  Registrator Domenov Registrator Domenov\n",
       "2 lti-l.site                  Registrator Domenov Registrator Domenov\n",
       "3 technogroup.site            Registrator Domenov Registrator Domenov\n",
       "4 get-landing.site            Registrator Domenov Registrator Domenov\n",
       "5 xn----7sbhb9acibxt3ndg.site Registrator Domenov Registrator Domenov\n",
       "6 web-leader.site             Registrator Domenov Registrator Domenov\n",
       "  reseller_country registrant_country reg_period reg_revenue reg_arpt renew_mbg\n",
       "1 Russia           NA                 1          1           1        0        \n",
       "2 Russia           NA                 1          1           1        0        \n",
       "3 Russia           NA                 1          1           1        0        \n",
       "4 Russia           NA                 1          1           1        0        \n",
       "5 Russia           NA                 1          1           1        0        \n",
       "6 Russia           NA                 1          1           1        0        \n",
       "  renewal_item_id renew_type   autorenew_type renewal_status renew_date\n",
       "1 306634739       auto-renewal realized       Renewed        2020-04-10\n",
       "2 284200426       renewal      NA             Renewed        2020-01-24\n",
       "3 322846904       auto-renewal unrealized     Not Renewd     2020-06-17\n",
       "4 330408694       auto-renewal unrealized     Not Renewd     2020-07-18\n",
       "5 270099991       renewal      NA             Renewed        2019-12-24\n",
       "6 306369449       auto-renewal unrealized     Not Renewd     2020-04-09\n",
       "  renew_arpt gibb_score pattern                pattern_domain_count day_domains\n",
       "1 20         5.02       zarya                  1                    1          \n",
       "2 20         4.49       lti-l                  1                    1          \n",
       "3 20         3.68       technogroup            1                    1          \n",
       "4 20         9.09       gettilda               2                    2          \n",
       "5 20         0.64       xn----7sbhb9acibxt3ndg 1                    1          \n",
       "6 20         6.21       web-leader             1                    1          \n",
       "  sld_length sld_type sld_type2  tld  log_reg_arpt tld_registrar_index    \n",
       "1  5         l        5l         site 0            siteregistrator domenov\n",
       "2  5         hyphen-l 5hyphen-l  site 0            siteregistrator domenov\n",
       "3 11         l        11l        site 0            siteregistrator domenov\n",
       "4 11         hyphen-l 11hyphen-l site 0            siteregistrator domenov\n",
       "5 22         idn      22idn      site 0            siteregistrator domenov\n",
       "6 10         hyphen-l 10hyphen-l site 0            siteregistrator domenov\n",
       "  first_renewal_prediction\n",
       "1 1.000000e+00            \n",
       "2 1.000000e+00            \n",
       "3 2.220446e-16            \n",
       "4 2.220446e-16            \n",
       "5 1.000000e+00            \n",
       "6 2.220446e-16            "
      ]
     },
     "metadata": {},
     "output_type": "display_data"
    }
   ],
   "source": [
    "head(pred)"
   ]
  },
  {
   "cell_type": "code",
   "execution_count": 53,
   "metadata": {},
   "outputs": [
    {
     "data": {
      "text/plain": [
       "\n",
       "Call:  glm(formula = renewal_status ~ ., family = binomial(link = \"logit\"), \n",
       "    data = build_data, model = FALSE, y = FALSE)\n",
       "\n",
       "Coefficients:\n",
       "         (Intercept)  pattern_domain_count          log_reg_arpt  \n",
       "            -0.51143               0.12091               0.06141  \n",
       "          sld_length     sld_typehyphen-ln             sld_typel  \n",
       "            -0.01685               0.20799               0.03283  \n",
       "          sld_typeln             sld_typen           day_domains  \n",
       "            -0.36180              -7.36347              -0.02013  \n",
       "          gibb_score            reg_period  \n",
       "            -0.04673                    NA  \n",
       "\n",
       "Degrees of Freedom: 1175 Total (i.e. Null);  1166 Residual\n",
       "Null Deviance:\t    1255 \n",
       "Residual Deviance: 1203 \tAIC: 1223"
      ]
     },
     "metadata": {},
     "output_type": "display_data"
    }
   ],
   "source": [
    "str = \"onlinenominalia\"\n",
    "model[[str]]"
   ]
  },
  {
   "cell_type": "code",
   "execution_count": 20,
   "metadata": {},
   "outputs": [],
   "source": [
    "# pred = mass_predict_first_renewal(test_list_tld_reseller, model)\n",
    "\n",
    "test_data = test_list_tld_reseller\n",
    "data_models = model\n",
    "\n",
    "# mass_predict_first_renewal<-function(test_data, data_models) {\n",
    "\n",
    "  tld_registrar_list<-names(test_data)\n",
    "  tld_registrar_list <- tld_registrar_list[!is.na(tld_registrar_list)]\n",
    "#   prediction_list<-pblapply(tld_registrar_list, function(i) list_predict_first_renewal(i, test_data, data_models))\n",
    "#   prediction_list<-prediction_list[!is.na(prediction_list)]\n",
    "#   prediction_op<-rbindlist(prediction_list,use.names=TRUE, fill=TRUE) \n",
    "#   test_data<-rbindlist(test_data,  use.names=TRUE, fill=TRUE) # modified as per error on 20200715 (see README)\n",
    "#   test_data$first_renewal_prediction<-prediction_op$probabilities[match(test_data$domain_id,\n",
    "#                                                                         prediction_op$domain_id)]\n",
    "#   return(test_data)\n",
    "# }"
   ]
  },
  {
   "cell_type": "code",
   "execution_count": 21,
   "metadata": {},
   "outputs": [
    {
     "data": {
      "text/html": [
       "'siteregistrator domenov'"
      ],
      "text/latex": [
       "'siteregistrator domenov'"
      ],
      "text/markdown": [
       "'siteregistrator domenov'"
      ],
      "text/plain": [
       "[1] \"siteregistrator domenov\""
      ]
     },
     "metadata": {},
     "output_type": "display_data"
    }
   ],
   "source": [
    "tld_registrar_list"
   ]
  },
  {
   "cell_type": "code",
   "execution_count": 22,
   "metadata": {},
   "outputs": [
    {
     "data": {
      "text/html": [
       "'siteregistrator domenov'"
      ],
      "text/latex": [
       "'siteregistrator domenov'"
      ],
      "text/markdown": [
       "'siteregistrator domenov'"
      ],
      "text/plain": [
       "[1] \"siteregistrator domenov\""
      ]
     },
     "metadata": {},
     "output_type": "display_data"
    }
   ],
   "source": [
    "tld_registrar_list"
   ]
  },
  {
   "cell_type": "code",
   "execution_count": 24,
   "metadata": {},
   "outputs": [],
   "source": [
    "tld_registrar = tld_registrar_list[[1]]"
   ]
  },
  {
   "cell_type": "code",
   "execution_count": 25,
   "metadata": {},
   "outputs": [],
   "source": [
    "# list_predict_first_renewal<-function(tld_registrar,test_data, data_models) {\n",
    "#   cat(tld_registrar)\n",
    "  ########BEGIN:for substitute TLD#######################\n",
    "  #registrar.name<-test.data[[tld.registrar]]$`Client Shortname`[1]\n",
    "  #new.tld.registrar<-paste(\"site_\",registrar.name,sep=\"\")\n",
    "  #new.tld.registrar<-gsub(\"\\\\s+\",\"_\",new.tld.registrar)\n",
    "  #model<-data.models[[new.tld.registrar]]\n",
    "#   print(tld_registrar)\n",
    "  ########END:for substitute TLD#######################\n",
    "  tld_registrar_data<-test_data[[tld_registrar]]\n",
    "  model<-data_models[[tld_registrar]]\n",
    " "
   ]
  },
  {
   "cell_type": "code",
   "execution_count": 33,
   "metadata": {},
   "outputs": [
    {
     "data": {
      "text/html": [
       "'siteregistrator domenov '"
      ],
      "text/latex": [
       "'siteregistrator domenov '"
      ],
      "text/markdown": [
       "'siteregistrator domenov '"
      ],
      "text/plain": [
       "[1] \"siteregistrator domenov \""
      ]
     },
     "metadata": {},
     "output_type": "display_data"
    },
    {
     "data": {
      "text/html": [
       "'siteregistrator domenov'"
      ],
      "text/latex": [
       "'siteregistrator domenov'"
      ],
      "text/markdown": [
       "'siteregistrator domenov'"
      ],
      "text/plain": [
       "[1] \"siteregistrator domenov\""
      ]
     },
     "metadata": {},
     "output_type": "display_data"
    }
   ],
   "source": [
    "names(data_models)\n",
    "tld_registrar"
   ]
  },
  {
   "cell_type": "code",
   "execution_count": 37,
   "metadata": {},
   "outputs": [
    {
     "data": {
      "text/plain": [
       "\n",
       "Call:  glm(formula = renewal_status ~ ., family = binomial(link = \"logit\"), \n",
       "    data = build_data, model = FALSE, y = FALSE)\n",
       "\n",
       "Coefficients:\n",
       "         (Intercept)  pattern_domain_count          log_reg_arpt  \n",
       "              1161.3                    NA                 492.0  \n",
       "          sld_length           sld_typeidn             sld_typel  \n",
       "              -258.4                6220.1                -543.4  \n",
       "          sld_typeln           day_domains            gibb_score  \n",
       "              2746.5                -413.6                 266.5  \n",
       "          reg_period  \n",
       "                  NA  \n",
       "\n",
       "Degrees of Freedom: 15 Total (i.e. Null);  8 Residual\n",
       "Null Deviance:\t    12.06 \n",
       "Residual Deviance: 4.55e-08 \tAIC: 16"
      ]
     },
     "metadata": {},
     "output_type": "display_data"
    }
   ],
   "source": [
    "data_models[[1]]"
   ]
  },
  {
   "cell_type": "code",
   "execution_count": null,
   "metadata": {},
   "outputs": [],
   "source": [
    "   \n",
    "    # LVG removed the following and replaced with NA-fill in predict_first_renewal()\n",
    "#   if(is.null(tld_registrar_data) | is.null(model) | is.logical(tld_registrar_data) | is.logical(model)) { return(NA)}\n",
    "    \n",
    "    \n",
    "  # tld.registrar.data$SLD.Type[tld.registrar.data$SLD.Type == \"IDN\"]<-NA\n",
    "  \n",
    "  tld_registrar_data<-predict_first_renewal(tld_registrar_data,model)\n",
    "  return(tld_registrar_data)\n",
    "}"
   ]
  }
 ],
 "metadata": {
  "environment": {
   "name": "r-cpu.3-6.m48",
   "type": "gcloud",
   "uri": "gcr.io/deeplearning-platform-release/r-cpu.3-6:m48"
  },
  "kernelspec": {
   "display_name": "R",
   "language": "R",
   "name": "ir"
  },
  "language_info": {
   "codemirror_mode": "r",
   "file_extension": ".r",
   "mimetype": "text/x-r-source",
   "name": "R",
   "pygments_lexer": "r",
   "version": "3.6.3"
  }
 },
 "nbformat": 4,
 "nbformat_minor": 4
}
