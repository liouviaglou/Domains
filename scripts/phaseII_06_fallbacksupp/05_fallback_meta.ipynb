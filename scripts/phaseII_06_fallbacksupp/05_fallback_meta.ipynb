{
 "cells": [
  {
   "cell_type": "markdown",
   "metadata": {},
   "source": [
    "# Fallback Table Metalearning\n",
    "\n"
   ]
  },
  {
   "cell_type": "code",
   "execution_count": 2,
   "metadata": {},
   "outputs": [],
   "source": [
    "options(repr.matrix.max.cols=50, repr.matrix.max.rows=100)"
   ]
  },
  {
   "cell_type": "code",
   "execution_count": 3,
   "metadata": {},
   "outputs": [],
   "source": [
    "# install.packages(\"pkgcond\")"
   ]
  },
  {
   "cell_type": "code",
   "execution_count": 4,
   "metadata": {},
   "outputs": [
    {
     "name": "stderr",
     "output_type": "stream",
     "text": [
      "\n",
      "Attaching package: ‘dplyr’\n",
      "\n",
      "\n",
      "The following objects are masked from ‘package:stats’:\n",
      "\n",
      "    filter, lag\n",
      "\n",
      "\n",
      "The following objects are masked from ‘package:base’:\n",
      "\n",
      "    intersect, setdiff, setequal, union\n",
      "\n",
      "\n",
      "\n",
      "Attaching package: ‘data.table’\n",
      "\n",
      "\n",
      "The following objects are masked from ‘package:dplyr’:\n",
      "\n",
      "    between, first, last\n",
      "\n",
      "\n",
      "Loading required package: grid\n",
      "\n",
      "Loading required package: libcoin\n",
      "\n",
      "Loading required package: mvtnorm\n",
      "\n",
      "Loading required package: lattice\n",
      "\n",
      "Loading required package: ggplot2\n",
      "\n",
      "randomForest 4.6-14\n",
      "\n",
      "Type rfNews() to see new features/changes/bug fixes.\n",
      "\n",
      "\n",
      "Attaching package: ‘randomForest’\n",
      "\n",
      "\n",
      "The following object is masked from ‘package:ggplot2’:\n",
      "\n",
      "    margin\n",
      "\n",
      "\n",
      "The following object is masked from ‘package:dplyr’:\n",
      "\n",
      "    combine\n",
      "\n",
      "\n",
      "\n",
      "Attaching package: ‘ranger’\n",
      "\n",
      "\n",
      "The following object is masked from ‘package:randomForest’:\n",
      "\n",
      "    importance\n",
      "\n",
      "\n",
      "\n",
      "Attaching package: ‘plotly’\n",
      "\n",
      "\n",
      "The following object is masked from ‘package:ggplot2’:\n",
      "\n",
      "    last_plot\n",
      "\n",
      "\n",
      "The following object is masked from ‘package:stats’:\n",
      "\n",
      "    filter\n",
      "\n",
      "\n",
      "The following object is masked from ‘package:graphics’:\n",
      "\n",
      "    layout\n",
      "\n",
      "\n",
      "Loading required package: RJSONIO\n",
      "\n"
     ]
    },
    {
     "data": {
      "text/html": [
       "'/home/jupyter/local/Domains_202003/scripts/phaseII_06_fallbacksupp'"
      ],
      "text/latex": [
       "'/home/jupyter/local/Domains\\_202003/scripts/phaseII\\_06\\_fallbacksupp'"
      ],
      "text/markdown": [
       "'/home/jupyter/local/Domains_202003/scripts/phaseII_06_fallbacksupp'"
      ],
      "text/plain": [
       "[1] \"/home/jupyter/local/Domains_202003/scripts/phaseII_06_fallbacksupp\""
      ]
     },
     "metadata": {},
     "output_type": "display_data"
    }
   ],
   "source": [
    "library(dplyr)\n",
    "library(data.table)\n",
    "library(partykit)\n",
    "library(tictoc)\n",
    "library(caret)\n",
    "library(e1071)\n",
    "library(randomForest)\n",
    "library(ranger)\n",
    "\n",
    "#for 3d plotting\n",
    "library(akima)\n",
    "library(plotly)\n",
    "\n",
    "# for prep data\n",
    "library(rPython)\n",
    "library(stringr)\n",
    "library(pbapply)\n",
    "library(stringdist)\n",
    "library(data.table)\n",
    "library(dominanceanalysis)\n",
    "\n",
    "\n",
    "getwd()"
   ]
  },
  {
   "cell_type": "code",
   "execution_count": 5,
   "metadata": {},
   "outputs": [],
   "source": [
    "\n",
    "source('../orig/functions.R')\n",
    "\n",
    "source('../orig/functions_models.R')\n",
    "\n",
    "source('../phaseII_03_forest/functions_eval.R')\n",
    "\n",
    "\n",
    "source('../phaseII_03_forest/load_prep_data_expiry.R')\n",
    "\n",
    "# expiry_train_prepped_2_1 (list, less df's w/ 0 obs)\n",
    "# expiry_test_prepped_2_1  (list, less df's w/ 0 obs)\n",
    "# expiry_train_df_1 (above, rbound)\n",
    "# expiry_test_df_1 (above, rbound)\n",
    "# expiry_train_df_sub (subset vars)                                        \n",
    "# expiry_test_df_sub (subset vars)"
   ]
  },
  {
   "cell_type": "code",
   "execution_count": 6,
   "metadata": {},
   "outputs": [
    {
     "data": {
      "text/html": [
       "1188250"
      ],
      "text/latex": [
       "1188250"
      ],
      "text/markdown": [
       "1188250"
      ],
      "text/plain": [
       "[1] 1188250"
      ]
     },
     "metadata": {},
     "output_type": "display_data"
    },
    {
     "data": {
      "text/html": [
       "296797"
      ],
      "text/latex": [
       "296797"
      ],
      "text/markdown": [
       "296797"
      ],
      "text/plain": [
       "[1] 296797"
      ]
     },
     "metadata": {},
     "output_type": "display_data"
    },
    {
     "data": {
      "text/html": [
       "0.799101267465734"
      ],
      "text/latex": [
       "0.799101267465734"
      ],
      "text/markdown": [
       "0.799101267465734"
      ],
      "text/plain": [
       "[1] 0.7991013"
      ]
     },
     "metadata": {},
     "output_type": "display_data"
    },
    {
     "data": {
      "text/html": [
       "0.199596767414288"
      ],
      "text/latex": [
       "0.199596767414288"
      ],
      "text/markdown": [
       "0.199596767414288"
      ],
      "text/plain": [
       "[1] 0.1995968"
      ]
     },
     "metadata": {},
     "output_type": "display_data"
    },
    {
     "data": {
      "text/html": [
       "1485047"
      ],
      "text/latex": [
       "1485047"
      ],
      "text/markdown": [
       "1485047"
      ],
      "text/plain": [
       "[1] 1485047"
      ]
     },
     "metadata": {},
     "output_type": "display_data"
    }
   ],
   "source": [
    "nrow(expiry_train_df_1)\n",
    "nrow(expiry_test_df_1)\n",
    "nrow(expiry_train_df_1)/1486983\n",
    "nrow(expiry_test_df_1)/1486983\n",
    "nrow(expiry_train_df_1)+nrow(expiry_test_df_1)"
   ]
  },
  {
   "cell_type": "code",
   "execution_count": 7,
   "metadata": {},
   "outputs": [],
   "source": [
    "\n",
    "source('functions_fallback.R')"
   ]
  },
  {
   "cell_type": "markdown",
   "metadata": {},
   "source": [
    "# Load model predctions"
   ]
  },
  {
   "cell_type": "code",
   "execution_count": 8,
   "metadata": {},
   "outputs": [
    {
     "data": {
      "text/html": [
       "<style>\n",
       ".list-inline {list-style: none; margin:0; padding: 0}\n",
       ".list-inline>li {display: inline-block}\n",
       ".list-inline>li:not(:last-child)::after {content: \"\\00b7\"; padding: 0 .5ex}\n",
       "</style>\n",
       "<ol class=list-inline><li>297100</li><li>12</li></ol>\n"
      ],
      "text/latex": [
       "\\begin{enumerate*}\n",
       "\\item 297100\n",
       "\\item 12\n",
       "\\end{enumerate*}\n"
      ],
      "text/markdown": [
       "1. 297100\n",
       "2. 12\n",
       "\n",
       "\n"
      ],
      "text/plain": [
       "[1] 297100     12"
      ]
     },
     "metadata": {},
     "output_type": "display_data"
    },
    {
     "data": {
      "text/html": [
       "<table>\n",
       "<caption>A data.frame: 6 × 12</caption>\n",
       "<thead>\n",
       "\t<tr><th></th><th scope=col>actual</th><th scope=col>pred_df_seg2_glm</th><th scope=col>pred_df_seg_glm</th><th scope=col>pred_df_agg_glm</th><th scope=col>pred_df_seg2_rf</th><th scope=col>pred_df_seg_rf</th><th scope=col>pred_df_agg_rf</th><th scope=col>tld_registrar_index</th><th scope=col>reseller</th><th scope=col>n</th><th scope=col>domain_id</th><th scope=col>domain</th></tr>\n",
       "\t<tr><th></th><th scope=col>&lt;fct&gt;</th><th scope=col>&lt;dbl&gt;</th><th scope=col>&lt;dbl&gt;</th><th scope=col>&lt;dbl&gt;</th><th scope=col>&lt;dbl&gt;</th><th scope=col>&lt;dbl&gt;</th><th scope=col>&lt;dbl&gt;</th><th scope=col>&lt;fct&gt;</th><th scope=col>&lt;fct&gt;</th><th scope=col>&lt;int&gt;</th><th scope=col>&lt;int&gt;</th><th scope=col>&lt;fct&gt;</th></tr>\n",
       "</thead>\n",
       "<tbody>\n",
       "\t<tr><th scope=row>1</th><td>Not Renewd</td><td>0.6470992</td><td>0.558</td><td>0.419</td><td>0.4765771</td><td>0.4545657</td><td>0.5386137</td><td>sitegmo</td><td>gmo</td><td>106569</td><td>44295183</td><td>kagen.site           </td></tr>\n",
       "\t<tr><th scope=row>2</th><td>Renewed   </td><td>0.6762222</td><td>0.567</td><td>0.397</td><td>0.5410605</td><td>0.5769973</td><td>0.6091513</td><td>sitegmo</td><td>gmo</td><td>106569</td><td>44573611</td><td>designlab.site       </td></tr>\n",
       "\t<tr><th scope=row>3</th><td>Renewed   </td><td>0.9098495</td><td>0.835</td><td>0.410</td><td>0.7018108</td><td>0.6343404</td><td>0.6886680</td><td>sitegmo</td><td>gmo</td><td>106569</td><td>45304858</td><td>hokatu-blog.site     </td></tr>\n",
       "\t<tr><th scope=row>4</th><td>Renewed   </td><td>0.6029350</td><td>0.515</td><td>0.402</td><td>0.2414726</td><td>0.3999603</td><td>0.3464197</td><td>sitegmo</td><td>gmo</td><td>106569</td><td>46235129</td><td>suzuya.site          </td></tr>\n",
       "\t<tr><th scope=row>5</th><td>Not Renewd</td><td>0.9311321</td><td>0.863</td><td>0.417</td><td>0.7749462</td><td>0.7039504</td><td>0.6711740</td><td>sitegmo</td><td>gmo</td><td>106569</td><td>46276970</td><td>wins-company.site    </td></tr>\n",
       "\t<tr><th scope=row>6</th><td>Renewed   </td><td>0.9347869</td><td>0.861</td><td>0.391</td><td>0.6376848</td><td>0.6566740</td><td>0.6717237</td><td>sitegmo</td><td>gmo</td><td>106569</td><td>47809960</td><td>yamatoku-company.site</td></tr>\n",
       "</tbody>\n",
       "</table>\n"
      ],
      "text/latex": [
       "A data.frame: 6 × 12\n",
       "\\begin{tabular}{r|llllllllllll}\n",
       "  & actual & pred\\_df\\_seg2\\_glm & pred\\_df\\_seg\\_glm & pred\\_df\\_agg\\_glm & pred\\_df\\_seg2\\_rf & pred\\_df\\_seg\\_rf & pred\\_df\\_agg\\_rf & tld\\_registrar\\_index & reseller & n & domain\\_id & domain\\\\\n",
       "  & <fct> & <dbl> & <dbl> & <dbl> & <dbl> & <dbl> & <dbl> & <fct> & <fct> & <int> & <int> & <fct>\\\\\n",
       "\\hline\n",
       "\t1 & Not Renewd & 0.6470992 & 0.558 & 0.419 & 0.4765771 & 0.4545657 & 0.5386137 & sitegmo & gmo & 106569 & 44295183 & kagen.site           \\\\\n",
       "\t2 & Renewed    & 0.6762222 & 0.567 & 0.397 & 0.5410605 & 0.5769973 & 0.6091513 & sitegmo & gmo & 106569 & 44573611 & designlab.site       \\\\\n",
       "\t3 & Renewed    & 0.9098495 & 0.835 & 0.410 & 0.7018108 & 0.6343404 & 0.6886680 & sitegmo & gmo & 106569 & 45304858 & hokatu-blog.site     \\\\\n",
       "\t4 & Renewed    & 0.6029350 & 0.515 & 0.402 & 0.2414726 & 0.3999603 & 0.3464197 & sitegmo & gmo & 106569 & 46235129 & suzuya.site          \\\\\n",
       "\t5 & Not Renewd & 0.9311321 & 0.863 & 0.417 & 0.7749462 & 0.7039504 & 0.6711740 & sitegmo & gmo & 106569 & 46276970 & wins-company.site    \\\\\n",
       "\t6 & Renewed    & 0.9347869 & 0.861 & 0.391 & 0.6376848 & 0.6566740 & 0.6717237 & sitegmo & gmo & 106569 & 47809960 & yamatoku-company.site\\\\\n",
       "\\end{tabular}\n"
      ],
      "text/markdown": [
       "\n",
       "A data.frame: 6 × 12\n",
       "\n",
       "| <!--/--> | actual &lt;fct&gt; | pred_df_seg2_glm &lt;dbl&gt; | pred_df_seg_glm &lt;dbl&gt; | pred_df_agg_glm &lt;dbl&gt; | pred_df_seg2_rf &lt;dbl&gt; | pred_df_seg_rf &lt;dbl&gt; | pred_df_agg_rf &lt;dbl&gt; | tld_registrar_index &lt;fct&gt; | reseller &lt;fct&gt; | n &lt;int&gt; | domain_id &lt;int&gt; | domain &lt;fct&gt; |\n",
       "|---|---|---|---|---|---|---|---|---|---|---|---|---|\n",
       "| 1 | Not Renewd | 0.6470992 | 0.558 | 0.419 | 0.4765771 | 0.4545657 | 0.5386137 | sitegmo | gmo | 106569 | 44295183 | kagen.site            |\n",
       "| 2 | Renewed    | 0.6762222 | 0.567 | 0.397 | 0.5410605 | 0.5769973 | 0.6091513 | sitegmo | gmo | 106569 | 44573611 | designlab.site        |\n",
       "| 3 | Renewed    | 0.9098495 | 0.835 | 0.410 | 0.7018108 | 0.6343404 | 0.6886680 | sitegmo | gmo | 106569 | 45304858 | hokatu-blog.site      |\n",
       "| 4 | Renewed    | 0.6029350 | 0.515 | 0.402 | 0.2414726 | 0.3999603 | 0.3464197 | sitegmo | gmo | 106569 | 46235129 | suzuya.site           |\n",
       "| 5 | Not Renewd | 0.9311321 | 0.863 | 0.417 | 0.7749462 | 0.7039504 | 0.6711740 | sitegmo | gmo | 106569 | 46276970 | wins-company.site     |\n",
       "| 6 | Renewed    | 0.9347869 | 0.861 | 0.391 | 0.6376848 | 0.6566740 | 0.6717237 | sitegmo | gmo | 106569 | 47809960 | yamatoku-company.site |\n",
       "\n"
      ],
      "text/plain": [
       "  actual     pred_df_seg2_glm pred_df_seg_glm pred_df_agg_glm pred_df_seg2_rf\n",
       "1 Not Renewd 0.6470992        0.558           0.419           0.4765771      \n",
       "2 Renewed    0.6762222        0.567           0.397           0.5410605      \n",
       "3 Renewed    0.9098495        0.835           0.410           0.7018108      \n",
       "4 Renewed    0.6029350        0.515           0.402           0.2414726      \n",
       "5 Not Renewd 0.9311321        0.863           0.417           0.7749462      \n",
       "6 Renewed    0.9347869        0.861           0.391           0.6376848      \n",
       "  pred_df_seg_rf pred_df_agg_rf tld_registrar_index reseller n      domain_id\n",
       "1 0.4545657      0.5386137      sitegmo             gmo      106569 44295183 \n",
       "2 0.5769973      0.6091513      sitegmo             gmo      106569 44573611 \n",
       "3 0.6343404      0.6886680      sitegmo             gmo      106569 45304858 \n",
       "4 0.3999603      0.3464197      sitegmo             gmo      106569 46235129 \n",
       "5 0.7039504      0.6711740      sitegmo             gmo      106569 46276970 \n",
       "6 0.6566740      0.6717237      sitegmo             gmo      106569 47809960 \n",
       "  domain               \n",
       "1 kagen.site           \n",
       "2 designlab.site       \n",
       "3 hokatu-blog.site     \n",
       "4 suzuya.site          \n",
       "5 wins-company.site    \n",
       "6 yamatoku-company.site"
      ]
     },
     "metadata": {},
     "output_type": "display_data"
    }
   ],
   "source": [
    "predictions_df <- read.csv(\"../../data/tld_reseller_compare_predictions.csv\")\n",
    "\n",
    "dim(predictions_df)\n",
    "head(predictions_df)"
   ]
  },
  {
   "cell_type": "code",
   "execution_count": 9,
   "metadata": {},
   "outputs": [
    {
     "data": {
      "text/html": [
       "<style>\n",
       ".list-inline {list-style: none; margin:0; padding: 0}\n",
       ".list-inline>li {display: inline-block}\n",
       ".list-inline>li:not(:last-child)::after {content: \"\\00b7\"; padding: 0 .5ex}\n",
       "</style>\n",
       "<ol class=list-inline><li>391</li><li>12</li></ol>\n"
      ],
      "text/latex": [
       "\\begin{enumerate*}\n",
       "\\item 391\n",
       "\\item 12\n",
       "\\end{enumerate*}\n"
      ],
      "text/markdown": [
       "1. 391\n",
       "2. 12\n",
       "\n",
       "\n"
      ],
      "text/plain": [
       "[1] 391  12"
      ]
     },
     "metadata": {},
     "output_type": "display_data"
    },
    {
     "name": "stdout",
     "output_type": "stream",
     "text": [
      "0000000000000000000000000000000000000000000000000000000000000000000000000000000000000000000000000000000000000000000000000000000000000000000000000000000000000000000000000000000000000000000000000000000000000000000000000000000000000000000000000000000000000000000000000000000000000000000000000000000000000000000000000000000000000000000000000000000000000000000000000000000000000000000000000000000"
     ]
    }
   ],
   "source": [
    "# there exist 391 rows of predictions df (391 tld-reg) where all predicitions are n/a\n",
    "# this correspnds with tld-reg in training data that do not have any domains in test data\n",
    "predictions_df %>% filter(is.na(domain_id)) %>% dim()\n",
    "vector <- predictions_df %>% filter(is.na(domain_id)) %>% pull(tld_registrar_index)\n",
    "for (v in vector){\n",
    "    cat(expiry_test_df_1 %>% filter(tld_registrar_index==v) %>% nrow())\n",
    "}"
   ]
  },
  {
   "cell_type": "code",
   "execution_count": 10,
   "metadata": {},
   "outputs": [
    {
     "data": {
      "text/html": [
       "<style>\n",
       ".list-inline {list-style: none; margin:0; padding: 0}\n",
       ".list-inline>li {display: inline-block}\n",
       ".list-inline>li:not(:last-child)::after {content: \"\\00b7\"; padding: 0 .5ex}\n",
       "</style>\n",
       "<ol class=list-inline><li>296709</li><li>12</li></ol>\n"
      ],
      "text/latex": [
       "\\begin{enumerate*}\n",
       "\\item 296709\n",
       "\\item 12\n",
       "\\end{enumerate*}\n"
      ],
      "text/markdown": [
       "1. 296709\n",
       "2. 12\n",
       "\n",
       "\n"
      ],
      "text/plain": [
       "[1] 296709     12"
      ]
     },
     "metadata": {},
     "output_type": "display_data"
    }
   ],
   "source": [
    "predictions_df <- predictions_df %>% filter(!is.na(domain_id))\n",
    "dim(predictions_df)"
   ]
  },
  {
   "cell_type": "code",
   "execution_count": 11,
   "metadata": {},
   "outputs": [
    {
     "data": {
      "text/html": [
       "<style>\n",
       ".list-inline {list-style: none; margin:0; padding: 0}\n",
       ".list-inline>li {display: inline-block}\n",
       ".list-inline>li:not(:last-child)::after {content: \"\\00b7\"; padding: 0 .5ex}\n",
       "</style>\n",
       "<ol class=list-inline><li>296797</li><li>39</li></ol>\n"
      ],
      "text/latex": [
       "\\begin{enumerate*}\n",
       "\\item 296797\n",
       "\\item 39\n",
       "\\end{enumerate*}\n"
      ],
      "text/markdown": [
       "1. 296797\n",
       "2. 39\n",
       "\n",
       "\n"
      ],
      "text/plain": [
       "[1] 296797     39"
      ]
     },
     "metadata": {},
     "output_type": "display_data"
    },
    {
     "data": {
      "text/html": [
       "<style>\n",
       ".list-inline {list-style: none; margin:0; padding: 0}\n",
       ".list-inline>li {display: inline-block}\n",
       ".list-inline>li:not(:last-child)::after {content: \"\\00b7\"; padding: 0 .5ex}\n",
       "</style>\n",
       "<ol class=list-inline><li>296797</li><li>47</li></ol>\n"
      ],
      "text/latex": [
       "\\begin{enumerate*}\n",
       "\\item 296797\n",
       "\\item 47\n",
       "\\end{enumerate*}\n"
      ],
      "text/markdown": [
       "1. 296797\n",
       "2. 47\n",
       "\n",
       "\n"
      ],
      "text/plain": [
       "[1] 296797     47"
      ]
     },
     "metadata": {},
     "output_type": "display_data"
    }
   ],
   "source": [
    "dim(expiry_test_df_1)\n",
    "expiry_test_predictions <- merge(expiry_test_df_1, \n",
    "      predictions_df,\n",
    "     on = 'domain_id', all=TRUE)\n",
    "dim(expiry_test_predictions)"
   ]
  },
  {
   "cell_type": "code",
   "execution_count": 12,
   "metadata": {},
   "outputs": [
    {
     "data": {
      "text/html": [
       "<style>\n",
       ".list-inline {list-style: none; margin:0; padding: 0}\n",
       ".list-inline>li {display: inline-block}\n",
       ".list-inline>li:not(:last-child)::after {content: \"\\00b7\"; padding: 0 .5ex}\n",
       "</style>\n",
       "<ol class=list-inline><li>88</li><li>47</li></ol>\n"
      ],
      "text/latex": [
       "\\begin{enumerate*}\n",
       "\\item 88\n",
       "\\item 47\n",
       "\\end{enumerate*}\n"
      ],
      "text/markdown": [
       "1. 88\n",
       "2. 47\n",
       "\n",
       "\n"
      ],
      "text/plain": [
       "[1] 88 47"
      ]
     },
     "metadata": {},
     "output_type": "display_data"
    }
   ],
   "source": [
    "expiry_test_predictions %>% filter(is.na(n)) %>% dim()"
   ]
  },
  {
   "cell_type": "markdown",
   "metadata": {},
   "source": [
    "# Add reseller_geo to expiry_train_df_1 for fall_back gen"
   ]
  },
  {
   "cell_type": "code",
   "execution_count": 13,
   "metadata": {},
   "outputs": [
    {
     "data": {
      "text/html": [
       "<style>\n",
       ".list-inline {list-style: none; margin:0; padding: 0}\n",
       ".list-inline>li {display: inline-block}\n",
       ".list-inline>li:not(:last-child)::after {content: \"\\00b7\"; padding: 0 .5ex}\n",
       "</style>\n",
       "<ol class=list-inline><li>1498</li><li>7</li></ol>\n"
      ],
      "text/latex": [
       "\\begin{enumerate*}\n",
       "\\item 1498\n",
       "\\item 7\n",
       "\\end{enumerate*}\n"
      ],
      "text/markdown": [
       "1. 1498\n",
       "2. 7\n",
       "\n",
       "\n"
      ],
      "text/plain": [
       "[1] 1498    7"
      ]
     },
     "metadata": {},
     "output_type": "display_data"
    },
    {
     "data": {
      "text/html": [
       "<table>\n",
       "<caption>A data.frame: 6 × 7</caption>\n",
       "<thead>\n",
       "\t<tr><th></th><th scope=col>start_date</th><th scope=col>end_date</th><th scope=col>reseller</th><th scope=col>reseller_am</th><th scope=col>reseller_country</th><th scope=col>registrar</th><th scope=col>reseller_geo</th></tr>\n",
       "\t<tr><th></th><th scope=col>&lt;fct&gt;</th><th scope=col>&lt;fct&gt;</th><th scope=col>&lt;fct&gt;</th><th scope=col>&lt;fct&gt;</th><th scope=col>&lt;fct&gt;</th><th scope=col>&lt;fct&gt;</th><th scope=col>&lt;fct&gt;</th></tr>\n",
       "</thead>\n",
       "<tbody>\n",
       "\t<tr><th scope=row>1</th><td>2013-01-01T00:00:00Z</td><td>2019-12-31T00:00:00Z</td><td>NA                 </td><td>Not Assigned</td><td>NA           </td><td>NA                 </td><td>Others       </td></tr>\n",
       "\t<tr><th scope=row>2</th><td>2013-01-01T00:00:00Z</td><td>2019-12-31T00:00:00Z</td><td>007names           </td><td>Varun       </td><td>United States</td><td>007names           </td><td>United States</td></tr>\n",
       "\t<tr><th scope=row>3</th><td>2013-01-01T00:00:00Z</td><td>2019-12-31T00:00:00Z</td><td>0101 internet      </td><td>Not Assigned</td><td>Hong Kong    </td><td>0101 internet      </td><td>China        </td></tr>\n",
       "\t<tr><th scope=row>4</th><td>2013-01-01T00:00:00Z</td><td>2019-12-31T00:00:00Z</td><td><span style=white-space:pre-wrap>1&amp;1 internet       </span></td><td><span style=white-space:pre-wrap>Neha        </span></td><td><span style=white-space:pre-wrap>Germany      </span></td><td><span style=white-space:pre-wrap>1&amp;1 internet       </span></td><td><span style=white-space:pre-wrap>EU           </span></td></tr>\n",
       "\t<tr><th scope=row>5</th><td>2018-01-01T00:00:00Z</td><td>2019-12-31T00:00:00Z</td><td>101 domain         </td><td>Divya-Brands</td><td>United States</td><td>101 domain         </td><td>United States</td></tr>\n",
       "\t<tr><th scope=row>6</th><td>2013-01-01T00:00:00Z</td><td>2019-12-31T00:00:00Z</td><td>101domain discovery</td><td>Not Assigned</td><td>Germany      </td><td>101domain discovery</td><td>EU           </td></tr>\n",
       "</tbody>\n",
       "</table>\n"
      ],
      "text/latex": [
       "A data.frame: 6 × 7\n",
       "\\begin{tabular}{r|lllllll}\n",
       "  & start\\_date & end\\_date & reseller & reseller\\_am & reseller\\_country & registrar & reseller\\_geo\\\\\n",
       "  & <fct> & <fct> & <fct> & <fct> & <fct> & <fct> & <fct>\\\\\n",
       "\\hline\n",
       "\t1 & 2013-01-01T00:00:00Z & 2019-12-31T00:00:00Z & NA                  & Not Assigned & NA            & NA                  & Others       \\\\\n",
       "\t2 & 2013-01-01T00:00:00Z & 2019-12-31T00:00:00Z & 007names            & Varun        & United States & 007names            & United States\\\\\n",
       "\t3 & 2013-01-01T00:00:00Z & 2019-12-31T00:00:00Z & 0101 internet       & Not Assigned & Hong Kong     & 0101 internet       & China        \\\\\n",
       "\t4 & 2013-01-01T00:00:00Z & 2019-12-31T00:00:00Z & 1\\&1 internet        & Neha         & Germany       & 1\\&1 internet        & EU           \\\\\n",
       "\t5 & 2018-01-01T00:00:00Z & 2019-12-31T00:00:00Z & 101 domain          & Divya-Brands & United States & 101 domain          & United States\\\\\n",
       "\t6 & 2013-01-01T00:00:00Z & 2019-12-31T00:00:00Z & 101domain discovery & Not Assigned & Germany       & 101domain discovery & EU           \\\\\n",
       "\\end{tabular}\n"
      ],
      "text/markdown": [
       "\n",
       "A data.frame: 6 × 7\n",
       "\n",
       "| <!--/--> | start_date &lt;fct&gt; | end_date &lt;fct&gt; | reseller &lt;fct&gt; | reseller_am &lt;fct&gt; | reseller_country &lt;fct&gt; | registrar &lt;fct&gt; | reseller_geo &lt;fct&gt; |\n",
       "|---|---|---|---|---|---|---|---|\n",
       "| 1 | 2013-01-01T00:00:00Z | 2019-12-31T00:00:00Z | NA                  | Not Assigned | NA            | NA                  | Others        |\n",
       "| 2 | 2013-01-01T00:00:00Z | 2019-12-31T00:00:00Z | 007names            | Varun        | United States | 007names            | United States |\n",
       "| 3 | 2013-01-01T00:00:00Z | 2019-12-31T00:00:00Z | 0101 internet       | Not Assigned | Hong Kong     | 0101 internet       | China         |\n",
       "| 4 | 2013-01-01T00:00:00Z | 2019-12-31T00:00:00Z | 1&amp;1 internet        | Neha         | Germany       | 1&amp;1 internet        | EU            |\n",
       "| 5 | 2018-01-01T00:00:00Z | 2019-12-31T00:00:00Z | 101 domain          | Divya-Brands | United States | 101 domain          | United States |\n",
       "| 6 | 2013-01-01T00:00:00Z | 2019-12-31T00:00:00Z | 101domain discovery | Not Assigned | Germany       | 101domain discovery | EU            |\n",
       "\n"
      ],
      "text/plain": [
       "  start_date           end_date             reseller            reseller_am \n",
       "1 2013-01-01T00:00:00Z 2019-12-31T00:00:00Z NA                  Not Assigned\n",
       "2 2013-01-01T00:00:00Z 2019-12-31T00:00:00Z 007names            Varun       \n",
       "3 2013-01-01T00:00:00Z 2019-12-31T00:00:00Z 0101 internet       Not Assigned\n",
       "4 2013-01-01T00:00:00Z 2019-12-31T00:00:00Z 1&1 internet        Neha        \n",
       "5 2018-01-01T00:00:00Z 2019-12-31T00:00:00Z 101 domain          Divya-Brands\n",
       "6 2013-01-01T00:00:00Z 2019-12-31T00:00:00Z 101domain discovery Not Assigned\n",
       "  reseller_country registrar           reseller_geo \n",
       "1 NA               NA                  Others       \n",
       "2 United States    007names            United States\n",
       "3 Hong Kong        0101 internet       China        \n",
       "4 Germany          1&1 internet        EU           \n",
       "5 United States    101 domain          United States\n",
       "6 Germany          101domain discovery EU           "
      ]
     },
     "metadata": {},
     "output_type": "display_data"
    }
   ],
   "source": [
    "# system(\"gsutil cp gs://data_input/PredictiveModelAnalysis_ResellerGeoMap.csv /home/jupyter/local/Domains_202003/data/PredictiveModelAnalysis_ResellerGeoMap.csv\")\n",
    "geoLookupDF <- read.csv(\"/home/jupyter/local/Domains_202003/data/PredictiveModelAnalysis_ResellerGeoMap.csv\")\n",
    "# need to remove final row with all NAs\n",
    "geoLookupDF <- geoLookupDF %>% filter_all(any_vars(!is.na(.)))\n",
    "dim(geoLookupDF)\n",
    "head(geoLookupDF)"
   ]
  },
  {
   "cell_type": "code",
   "execution_count": 14,
   "metadata": {},
   "outputs": [
    {
     "data": {
      "text/html": [
       "<style>\n",
       ".list-inline {list-style: none; margin:0; padding: 0}\n",
       ".list-inline>li {display: inline-block}\n",
       ".list-inline>li:not(:last-child)::after {content: \"\\00b7\"; padding: 0 .5ex}\n",
       "</style>\n",
       "<ol class=list-inline><li>1188250</li><li>39</li></ol>\n"
      ],
      "text/latex": [
       "\\begin{enumerate*}\n",
       "\\item 1188250\n",
       "\\item 39\n",
       "\\end{enumerate*}\n"
      ],
      "text/markdown": [
       "1. 1188250\n",
       "2. 39\n",
       "\n",
       "\n"
      ],
      "text/plain": [
       "[1] 1188250      39"
      ]
     },
     "metadata": {},
     "output_type": "display_data"
    },
    {
     "data": {
      "text/html": [
       "<style>\n",
       ".list-inline {list-style: none; margin:0; padding: 0}\n",
       ".list-inline>li {display: inline-block}\n",
       ".list-inline>li:not(:last-child)::after {content: \"\\00b7\"; padding: 0 .5ex}\n",
       "</style>\n",
       "<ol class=list-inline><li>1190186</li><li>43</li></ol>\n"
      ],
      "text/latex": [
       "\\begin{enumerate*}\n",
       "\\item 1190186\n",
       "\\item 43\n",
       "\\end{enumerate*}\n"
      ],
      "text/markdown": [
       "1. 1190186\n",
       "2. 43\n",
       "\n",
       "\n"
      ],
      "text/plain": [
       "[1] 1190186      43"
      ]
     },
     "metadata": {},
     "output_type": "display_data"
    },
    {
     "data": {
      "text/html": [
       "<table>\n",
       "<caption>A data.frame: 6 × 43</caption>\n",
       "<thead>\n",
       "\t<tr><th></th><th scope=col>registrar</th><th scope=col>reseller</th><th scope=col>reseller_country</th><th scope=col>renewal_type</th><th scope=col>renewed_count</th><th scope=col>expiry_date</th><th scope=col>domain_id</th><th scope=col>domain</th><th scope=col>creation_date</th><th scope=col>status</th><th scope=col>tld</th><th scope=col>region</th><th scope=col>reg_period</th><th scope=col>registrant_country</th><th scope=col>renewal_status</th><th scope=col>renew_mbg</th><th scope=col>renew_type</th><th scope=col>autorenew_type</th><th scope=col>renew_date</th><th scope=col>renew_registrar</th><th scope=col>renew_reseller</th><th scope=col>reg_revenue</th><th scope=col>reg_arpt</th><th scope=col>renew_period</th><th scope=col>renew_domain_revenue</th><th scope=col>renew_arpt</th><th scope=col>reg_arpt_org</th><th scope=col>tld_registrar_index</th><th scope=col>sld</th><th scope=col>sld_type</th><th scope=col>sld_length</th><th scope=col>sld_type2</th><th scope=col>day_domains</th><th scope=col>log_reg_arpt</th><th scope=col>gibb_score</th><th scope=col>pattern</th><th scope=col>cluster</th><th scope=col>pattern_score</th><th scope=col>pattern_domain_count</th><th scope=col>start_date</th><th scope=col>end_date</th><th scope=col>reseller_am</th><th scope=col>reseller_geo</th></tr>\n",
       "\t<tr><th></th><th scope=col>&lt;chr&gt;</th><th scope=col>&lt;fct&gt;</th><th scope=col>&lt;fct&gt;</th><th scope=col>&lt;chr&gt;</th><th scope=col>&lt;int&gt;</th><th scope=col>&lt;date&gt;</th><th scope=col>&lt;int&gt;</th><th scope=col>&lt;chr&gt;</th><th scope=col>&lt;date&gt;</th><th scope=col>&lt;chr&gt;</th><th scope=col>&lt;fct&gt;</th><th scope=col>&lt;chr&gt;</th><th scope=col>&lt;int&gt;</th><th scope=col>&lt;chr&gt;</th><th scope=col>&lt;fct&gt;</th><th scope=col>&lt;int&gt;</th><th scope=col>&lt;chr&gt;</th><th scope=col>&lt;chr&gt;</th><th scope=col>&lt;date&gt;</th><th scope=col>&lt;chr&gt;</th><th scope=col>&lt;chr&gt;</th><th scope=col>&lt;dbl&gt;</th><th scope=col>&lt;dbl&gt;</th><th scope=col>&lt;int&gt;</th><th scope=col>&lt;dbl&gt;</th><th scope=col>&lt;dbl&gt;</th><th scope=col>&lt;dbl&gt;</th><th scope=col>&lt;chr&gt;</th><th scope=col>&lt;chr&gt;</th><th scope=col>&lt;fct&gt;</th><th scope=col>&lt;int&gt;</th><th scope=col>&lt;chr&gt;</th><th scope=col>&lt;int&gt;</th><th scope=col>&lt;dbl&gt;</th><th scope=col>&lt;dbl&gt;</th><th scope=col>&lt;chr&gt;</th><th scope=col>&lt;chr&gt;</th><th scope=col>&lt;dbl&gt;</th><th scope=col>&lt;int&gt;</th><th scope=col>&lt;fct&gt;</th><th scope=col>&lt;fct&gt;</th><th scope=col>&lt;fct&gt;</th><th scope=col>&lt;fct&gt;</th></tr>\n",
       "</thead>\n",
       "<tbody>\n",
       "\t<tr><th scope=row>1</th><td>1&amp;1 internet</td><td>1&amp;1 internet</td><td>Germany</td><td>FirstTime</td><td>1</td><td>2020-05-14</td><td>103521354</td><td><span style=white-space:pre-wrap>appocenna.online            </span></td><td>2019-05-14</td><td>Active</td><td>online</td><td>Non China</td><td>1</td><td>NA</td><td>Not Renewd</td><td>0</td><td>auto-renewal</td><td>presumed-realized</td><td>2020-05-14</td><td>1&amp;1 Internet</td><td>1&amp;1 Internet</td><td>0.0</td><td>1e-04</td><td>1</td><td>25</td><td>25</td><td>0.0</td><td>online1&amp;1 internet</td><td><span style=white-space:pre-wrap>appocenna            </span></td><td><span style=white-space:pre-wrap>l       </span></td><td> 9</td><td><span style=white-space:pre-wrap>9l        </span></td><td>49</td><td>-9.2103404</td><td>4.24</td><td>2 </td><td><span style=white-space:pre-wrap>apenn                </span></td><td>0.0008329863</td><td>2</td><td>2013-01-01T00:00:00Z</td><td>2019-12-31T00:00:00Z</td><td>Neha</td><td>EU</td></tr>\n",
       "\t<tr><th scope=row>2</th><td>1&amp;1 internet</td><td>1&amp;1 internet</td><td>Germany</td><td>FirstTime</td><td>1</td><td>2020-05-14</td><td>103546731</td><td><span style=white-space:pre-wrap>oddbrothersdesign.online    </span></td><td>2019-05-14</td><td>Active</td><td>online</td><td>Non China</td><td>1</td><td>NA</td><td>Not Renewd</td><td>0</td><td>auto-renewal</td><td>presumed-realized</td><td>2020-05-14</td><td>1&amp;1 Internet</td><td>1&amp;1 Internet</td><td>0.0</td><td>1e-04</td><td>1</td><td>25</td><td>25</td><td>0.0</td><td>online1&amp;1 internet</td><td><span style=white-space:pre-wrap>oddbrothersdesign    </span></td><td><span style=white-space:pre-wrap>l       </span></td><td>17</td><td><span style=white-space:pre-wrap>17l       </span></td><td>49</td><td>-9.2103404</td><td>3.59</td><td>40</td><td><span style=white-space:pre-wrap>oddbrothersdesign    </span></td><td>0.0004164931</td><td>1</td><td>2013-01-01T00:00:00Z</td><td>2019-12-31T00:00:00Z</td><td>Neha</td><td>EU</td></tr>\n",
       "\t<tr><th scope=row>3</th><td>1&amp;1 internet</td><td>1&amp;1 internet</td><td>Germany</td><td>FirstTime</td><td>1</td><td>2020-05-21</td><td>104212826</td><td>lovelace-codingschool.online</td><td>2019-05-21</td><td>Active</td><td>online</td><td>Non China</td><td>1</td><td>NA</td><td>Not Renewd</td><td>0</td><td>auto-renewal</td><td><span style=white-space:pre-wrap>NA               </span></td><td>2020-05-21</td><td>1&amp;1 Internet</td><td>1&amp;1 Internet</td><td>5.0</td><td>5e+00</td><td>1</td><td>25</td><td>25</td><td>5.0</td><td>online1&amp;1 internet</td><td>lovelace-codingschool</td><td>hyphen-l</td><td>21</td><td>21hyphen-l</td><td>38</td><td> 1.6094379</td><td>6.53</td><td>16</td><td>lovelace-codingschool</td><td>0.0006925208</td><td>1</td><td>2013-01-01T00:00:00Z</td><td>2019-12-31T00:00:00Z</td><td>Neha</td><td>EU</td></tr>\n",
       "\t<tr><th scope=row>4</th><td>1&amp;1 internet</td><td>1&amp;1 internet</td><td>Germany</td><td>FirstTime</td><td>1</td><td>2020-05-14</td><td>103560556</td><td><span style=white-space:pre-wrap>blackgirlsocial.online      </span></td><td>2019-05-14</td><td>Active</td><td>online</td><td>Non China</td><td>1</td><td>NA</td><td>Not Renewd</td><td>0</td><td>auto-renewal</td><td><span style=white-space:pre-wrap>NA               </span></td><td>2020-05-14</td><td>1&amp;1 Internet</td><td>1&amp;1 Internet</td><td>0.8</td><td>8e-01</td><td>1</td><td>25</td><td>25</td><td>0.8</td><td>online1&amp;1 internet</td><td><span style=white-space:pre-wrap>blackgirlsocial      </span></td><td><span style=white-space:pre-wrap>l       </span></td><td>15</td><td><span style=white-space:pre-wrap>15l       </span></td><td>49</td><td>-0.2231436</td><td>3.02</td><td>41</td><td><span style=white-space:pre-wrap>blackgirlsocial      </span></td><td>0.0004164931</td><td>1</td><td>2013-01-01T00:00:00Z</td><td>2019-12-31T00:00:00Z</td><td>Neha</td><td>EU</td></tr>\n",
       "\t<tr><th scope=row>5</th><td>1&amp;1 internet</td><td>1&amp;1 internet</td><td>Germany</td><td>FirstTime</td><td>1</td><td>2020-05-08</td><td>103054529</td><td><span style=white-space:pre-wrap>chalkiesthiccup.online      </span></td><td>2019-05-08</td><td>Active</td><td>online</td><td>Non China</td><td>1</td><td>NA</td><td>Not Renewd</td><td>0</td><td>auto-renewal</td><td><span style=white-space:pre-wrap>unrealized       </span></td><td>2020-05-08</td><td>1&amp;1 Internet</td><td>1&amp;1 Internet</td><td>0.0</td><td>1e-04</td><td>1</td><td>25</td><td>25</td><td>0.0</td><td>online1&amp;1 internet</td><td><span style=white-space:pre-wrap>chalkiesthiccup      </span></td><td><span style=white-space:pre-wrap>l       </span></td><td>15</td><td><span style=white-space:pre-wrap>15l       </span></td><td>66</td><td>-9.2103404</td><td>7.16</td><td>44</td><td><span style=white-space:pre-wrap>chalkiesthiccup      </span></td><td>0.0002295684</td><td>1</td><td>2013-01-01T00:00:00Z</td><td>2019-12-31T00:00:00Z</td><td>Neha</td><td>EU</td></tr>\n",
       "\t<tr><th scope=row>6</th><td>1&amp;1 internet</td><td>1&amp;1 internet</td><td>Germany</td><td>FirstTime</td><td>1</td><td>2020-05-11</td><td>103323214</td><td><span style=white-space:pre-wrap>zero-emission-card.online   </span></td><td>2019-05-11</td><td>Active</td><td>online</td><td>Non China</td><td>1</td><td>NA</td><td><span style=white-space:pre-wrap>Renewed   </span></td><td>0</td><td>auto-renewal</td><td><span style=white-space:pre-wrap>realized         </span></td><td>2020-05-11</td><td>1&amp;1 Internet</td><td>1&amp;1 Internet</td><td>1.0</td><td>1e+00</td><td>1</td><td>25</td><td>25</td><td>1.0</td><td>online1&amp;1 internet</td><td><span style=white-space:pre-wrap>zero-emission-card   </span></td><td>hyphen-l</td><td>18</td><td>18hyphen-l</td><td>33</td><td> 0.0000000</td><td>6.74</td><td>2 </td><td><span style=white-space:pre-wrap>zeroemor             </span></td><td>0.0027548209</td><td>3</td><td>2013-01-01T00:00:00Z</td><td>2019-12-31T00:00:00Z</td><td>Neha</td><td>EU</td></tr>\n",
       "</tbody>\n",
       "</table>\n"
      ],
      "text/latex": [
       "A data.frame: 6 × 43\n",
       "\\begin{tabular}{r|lllllllllllllllllllllllllllllllllllllllllll}\n",
       "  & registrar & reseller & reseller\\_country & renewal\\_type & renewed\\_count & expiry\\_date & domain\\_id & domain & creation\\_date & status & tld & region & reg\\_period & registrant\\_country & renewal\\_status & renew\\_mbg & renew\\_type & autorenew\\_type & renew\\_date & renew\\_registrar & renew\\_reseller & reg\\_revenue & reg\\_arpt & renew\\_period & renew\\_domain\\_revenue & renew\\_arpt & reg\\_arpt\\_org & tld\\_registrar\\_index & sld & sld\\_type & sld\\_length & sld\\_type2 & day\\_domains & log\\_reg\\_arpt & gibb\\_score & pattern & cluster & pattern\\_score & pattern\\_domain\\_count & start\\_date & end\\_date & reseller\\_am & reseller\\_geo\\\\\n",
       "  & <chr> & <fct> & <fct> & <chr> & <int> & <date> & <int> & <chr> & <date> & <chr> & <fct> & <chr> & <int> & <chr> & <fct> & <int> & <chr> & <chr> & <date> & <chr> & <chr> & <dbl> & <dbl> & <int> & <dbl> & <dbl> & <dbl> & <chr> & <chr> & <fct> & <int> & <chr> & <int> & <dbl> & <dbl> & <chr> & <chr> & <dbl> & <int> & <fct> & <fct> & <fct> & <fct>\\\\\n",
       "\\hline\n",
       "\t1 & 1\\&1 internet & 1\\&1 internet & Germany & FirstTime & 1 & 2020-05-14 & 103521354 & appocenna.online             & 2019-05-14 & Active & online & Non China & 1 & NA & Not Renewd & 0 & auto-renewal & presumed-realized & 2020-05-14 & 1\\&1 Internet & 1\\&1 Internet & 0.0 & 1e-04 & 1 & 25 & 25 & 0.0 & online1\\&1 internet & appocenna             & l        &  9 & 9l         & 49 & -9.2103404 & 4.24 & 2  & apenn                 & 0.0008329863 & 2 & 2013-01-01T00:00:00Z & 2019-12-31T00:00:00Z & Neha & EU\\\\\n",
       "\t2 & 1\\&1 internet & 1\\&1 internet & Germany & FirstTime & 1 & 2020-05-14 & 103546731 & oddbrothersdesign.online     & 2019-05-14 & Active & online & Non China & 1 & NA & Not Renewd & 0 & auto-renewal & presumed-realized & 2020-05-14 & 1\\&1 Internet & 1\\&1 Internet & 0.0 & 1e-04 & 1 & 25 & 25 & 0.0 & online1\\&1 internet & oddbrothersdesign     & l        & 17 & 17l        & 49 & -9.2103404 & 3.59 & 40 & oddbrothersdesign     & 0.0004164931 & 1 & 2013-01-01T00:00:00Z & 2019-12-31T00:00:00Z & Neha & EU\\\\\n",
       "\t3 & 1\\&1 internet & 1\\&1 internet & Germany & FirstTime & 1 & 2020-05-21 & 104212826 & lovelace-codingschool.online & 2019-05-21 & Active & online & Non China & 1 & NA & Not Renewd & 0 & auto-renewal & NA                & 2020-05-21 & 1\\&1 Internet & 1\\&1 Internet & 5.0 & 5e+00 & 1 & 25 & 25 & 5.0 & online1\\&1 internet & lovelace-codingschool & hyphen-l & 21 & 21hyphen-l & 38 &  1.6094379 & 6.53 & 16 & lovelace-codingschool & 0.0006925208 & 1 & 2013-01-01T00:00:00Z & 2019-12-31T00:00:00Z & Neha & EU\\\\\n",
       "\t4 & 1\\&1 internet & 1\\&1 internet & Germany & FirstTime & 1 & 2020-05-14 & 103560556 & blackgirlsocial.online       & 2019-05-14 & Active & online & Non China & 1 & NA & Not Renewd & 0 & auto-renewal & NA                & 2020-05-14 & 1\\&1 Internet & 1\\&1 Internet & 0.8 & 8e-01 & 1 & 25 & 25 & 0.8 & online1\\&1 internet & blackgirlsocial       & l        & 15 & 15l        & 49 & -0.2231436 & 3.02 & 41 & blackgirlsocial       & 0.0004164931 & 1 & 2013-01-01T00:00:00Z & 2019-12-31T00:00:00Z & Neha & EU\\\\\n",
       "\t5 & 1\\&1 internet & 1\\&1 internet & Germany & FirstTime & 1 & 2020-05-08 & 103054529 & chalkiesthiccup.online       & 2019-05-08 & Active & online & Non China & 1 & NA & Not Renewd & 0 & auto-renewal & unrealized        & 2020-05-08 & 1\\&1 Internet & 1\\&1 Internet & 0.0 & 1e-04 & 1 & 25 & 25 & 0.0 & online1\\&1 internet & chalkiesthiccup       & l        & 15 & 15l        & 66 & -9.2103404 & 7.16 & 44 & chalkiesthiccup       & 0.0002295684 & 1 & 2013-01-01T00:00:00Z & 2019-12-31T00:00:00Z & Neha & EU\\\\\n",
       "\t6 & 1\\&1 internet & 1\\&1 internet & Germany & FirstTime & 1 & 2020-05-11 & 103323214 & zero-emission-card.online    & 2019-05-11 & Active & online & Non China & 1 & NA & Renewed    & 0 & auto-renewal & realized          & 2020-05-11 & 1\\&1 Internet & 1\\&1 Internet & 1.0 & 1e+00 & 1 & 25 & 25 & 1.0 & online1\\&1 internet & zero-emission-card    & hyphen-l & 18 & 18hyphen-l & 33 &  0.0000000 & 6.74 & 2  & zeroemor              & 0.0027548209 & 3 & 2013-01-01T00:00:00Z & 2019-12-31T00:00:00Z & Neha & EU\\\\\n",
       "\\end{tabular}\n"
      ],
      "text/markdown": [
       "\n",
       "A data.frame: 6 × 43\n",
       "\n",
       "| <!--/--> | registrar &lt;chr&gt; | reseller &lt;fct&gt; | reseller_country &lt;fct&gt; | renewal_type &lt;chr&gt; | renewed_count &lt;int&gt; | expiry_date &lt;date&gt; | domain_id &lt;int&gt; | domain &lt;chr&gt; | creation_date &lt;date&gt; | status &lt;chr&gt; | tld &lt;fct&gt; | region &lt;chr&gt; | reg_period &lt;int&gt; | registrant_country &lt;chr&gt; | renewal_status &lt;fct&gt; | renew_mbg &lt;int&gt; | renew_type &lt;chr&gt; | autorenew_type &lt;chr&gt; | renew_date &lt;date&gt; | renew_registrar &lt;chr&gt; | renew_reseller &lt;chr&gt; | reg_revenue &lt;dbl&gt; | reg_arpt &lt;dbl&gt; | renew_period &lt;int&gt; | renew_domain_revenue &lt;dbl&gt; | renew_arpt &lt;dbl&gt; | reg_arpt_org &lt;dbl&gt; | tld_registrar_index &lt;chr&gt; | sld &lt;chr&gt; | sld_type &lt;fct&gt; | sld_length &lt;int&gt; | sld_type2 &lt;chr&gt; | day_domains &lt;int&gt; | log_reg_arpt &lt;dbl&gt; | gibb_score &lt;dbl&gt; | pattern &lt;chr&gt; | cluster &lt;chr&gt; | pattern_score &lt;dbl&gt; | pattern_domain_count &lt;int&gt; | start_date &lt;fct&gt; | end_date &lt;fct&gt; | reseller_am &lt;fct&gt; | reseller_geo &lt;fct&gt; |\n",
       "|---|---|---|---|---|---|---|---|---|---|---|---|---|---|---|---|---|---|---|---|---|---|---|---|---|---|---|---|---|---|---|---|---|---|---|---|---|---|---|---|---|---|---|---|\n",
       "| 1 | 1&amp;1 internet | 1&amp;1 internet | Germany | FirstTime | 1 | 2020-05-14 | 103521354 | appocenna.online             | 2019-05-14 | Active | online | Non China | 1 | NA | Not Renewd | 0 | auto-renewal | presumed-realized | 2020-05-14 | 1&amp;1 Internet | 1&amp;1 Internet | 0.0 | 1e-04 | 1 | 25 | 25 | 0.0 | online1&amp;1 internet | appocenna             | l        |  9 | 9l         | 49 | -9.2103404 | 4.24 | 2  | apenn                 | 0.0008329863 | 2 | 2013-01-01T00:00:00Z | 2019-12-31T00:00:00Z | Neha | EU |\n",
       "| 2 | 1&amp;1 internet | 1&amp;1 internet | Germany | FirstTime | 1 | 2020-05-14 | 103546731 | oddbrothersdesign.online     | 2019-05-14 | Active | online | Non China | 1 | NA | Not Renewd | 0 | auto-renewal | presumed-realized | 2020-05-14 | 1&amp;1 Internet | 1&amp;1 Internet | 0.0 | 1e-04 | 1 | 25 | 25 | 0.0 | online1&amp;1 internet | oddbrothersdesign     | l        | 17 | 17l        | 49 | -9.2103404 | 3.59 | 40 | oddbrothersdesign     | 0.0004164931 | 1 | 2013-01-01T00:00:00Z | 2019-12-31T00:00:00Z | Neha | EU |\n",
       "| 3 | 1&amp;1 internet | 1&amp;1 internet | Germany | FirstTime | 1 | 2020-05-21 | 104212826 | lovelace-codingschool.online | 2019-05-21 | Active | online | Non China | 1 | NA | Not Renewd | 0 | auto-renewal | NA                | 2020-05-21 | 1&amp;1 Internet | 1&amp;1 Internet | 5.0 | 5e+00 | 1 | 25 | 25 | 5.0 | online1&amp;1 internet | lovelace-codingschool | hyphen-l | 21 | 21hyphen-l | 38 |  1.6094379 | 6.53 | 16 | lovelace-codingschool | 0.0006925208 | 1 | 2013-01-01T00:00:00Z | 2019-12-31T00:00:00Z | Neha | EU |\n",
       "| 4 | 1&amp;1 internet | 1&amp;1 internet | Germany | FirstTime | 1 | 2020-05-14 | 103560556 | blackgirlsocial.online       | 2019-05-14 | Active | online | Non China | 1 | NA | Not Renewd | 0 | auto-renewal | NA                | 2020-05-14 | 1&amp;1 Internet | 1&amp;1 Internet | 0.8 | 8e-01 | 1 | 25 | 25 | 0.8 | online1&amp;1 internet | blackgirlsocial       | l        | 15 | 15l        | 49 | -0.2231436 | 3.02 | 41 | blackgirlsocial       | 0.0004164931 | 1 | 2013-01-01T00:00:00Z | 2019-12-31T00:00:00Z | Neha | EU |\n",
       "| 5 | 1&amp;1 internet | 1&amp;1 internet | Germany | FirstTime | 1 | 2020-05-08 | 103054529 | chalkiesthiccup.online       | 2019-05-08 | Active | online | Non China | 1 | NA | Not Renewd | 0 | auto-renewal | unrealized        | 2020-05-08 | 1&amp;1 Internet | 1&amp;1 Internet | 0.0 | 1e-04 | 1 | 25 | 25 | 0.0 | online1&amp;1 internet | chalkiesthiccup       | l        | 15 | 15l        | 66 | -9.2103404 | 7.16 | 44 | chalkiesthiccup       | 0.0002295684 | 1 | 2013-01-01T00:00:00Z | 2019-12-31T00:00:00Z | Neha | EU |\n",
       "| 6 | 1&amp;1 internet | 1&amp;1 internet | Germany | FirstTime | 1 | 2020-05-11 | 103323214 | zero-emission-card.online    | 2019-05-11 | Active | online | Non China | 1 | NA | Renewed    | 0 | auto-renewal | realized          | 2020-05-11 | 1&amp;1 Internet | 1&amp;1 Internet | 1.0 | 1e+00 | 1 | 25 | 25 | 1.0 | online1&amp;1 internet | zero-emission-card    | hyphen-l | 18 | 18hyphen-l | 33 |  0.0000000 | 6.74 | 2  | zeroemor              | 0.0027548209 | 3 | 2013-01-01T00:00:00Z | 2019-12-31T00:00:00Z | Neha | EU |\n",
       "\n"
      ],
      "text/plain": [
       "  registrar    reseller     reseller_country renewal_type renewed_count\n",
       "1 1&1 internet 1&1 internet Germany          FirstTime    1            \n",
       "2 1&1 internet 1&1 internet Germany          FirstTime    1            \n",
       "3 1&1 internet 1&1 internet Germany          FirstTime    1            \n",
       "4 1&1 internet 1&1 internet Germany          FirstTime    1            \n",
       "5 1&1 internet 1&1 internet Germany          FirstTime    1            \n",
       "6 1&1 internet 1&1 internet Germany          FirstTime    1            \n",
       "  expiry_date domain_id domain                       creation_date status\n",
       "1 2020-05-14  103521354 appocenna.online             2019-05-14    Active\n",
       "2 2020-05-14  103546731 oddbrothersdesign.online     2019-05-14    Active\n",
       "3 2020-05-21  104212826 lovelace-codingschool.online 2019-05-21    Active\n",
       "4 2020-05-14  103560556 blackgirlsocial.online       2019-05-14    Active\n",
       "5 2020-05-08  103054529 chalkiesthiccup.online       2019-05-08    Active\n",
       "6 2020-05-11  103323214 zero-emission-card.online    2019-05-11    Active\n",
       "  tld    region    reg_period registrant_country renewal_status renew_mbg\n",
       "1 online Non China 1          NA                 Not Renewd     0        \n",
       "2 online Non China 1          NA                 Not Renewd     0        \n",
       "3 online Non China 1          NA                 Not Renewd     0        \n",
       "4 online Non China 1          NA                 Not Renewd     0        \n",
       "5 online Non China 1          NA                 Not Renewd     0        \n",
       "6 online Non China 1          NA                 Renewed        0        \n",
       "  renew_type   autorenew_type    renew_date renew_registrar renew_reseller\n",
       "1 auto-renewal presumed-realized 2020-05-14 1&1 Internet    1&1 Internet  \n",
       "2 auto-renewal presumed-realized 2020-05-14 1&1 Internet    1&1 Internet  \n",
       "3 auto-renewal NA                2020-05-21 1&1 Internet    1&1 Internet  \n",
       "4 auto-renewal NA                2020-05-14 1&1 Internet    1&1 Internet  \n",
       "5 auto-renewal unrealized        2020-05-08 1&1 Internet    1&1 Internet  \n",
       "6 auto-renewal realized          2020-05-11 1&1 Internet    1&1 Internet  \n",
       "  reg_revenue reg_arpt renew_period renew_domain_revenue renew_arpt\n",
       "1 0.0         1e-04    1            25                   25        \n",
       "2 0.0         1e-04    1            25                   25        \n",
       "3 5.0         5e+00    1            25                   25        \n",
       "4 0.8         8e-01    1            25                   25        \n",
       "5 0.0         1e-04    1            25                   25        \n",
       "6 1.0         1e+00    1            25                   25        \n",
       "  reg_arpt_org tld_registrar_index sld                   sld_type sld_length\n",
       "1 0.0          online1&1 internet  appocenna             l         9        \n",
       "2 0.0          online1&1 internet  oddbrothersdesign     l        17        \n",
       "3 5.0          online1&1 internet  lovelace-codingschool hyphen-l 21        \n",
       "4 0.8          online1&1 internet  blackgirlsocial       l        15        \n",
       "5 0.0          online1&1 internet  chalkiesthiccup       l        15        \n",
       "6 1.0          online1&1 internet  zero-emission-card    hyphen-l 18        \n",
       "  sld_type2  day_domains log_reg_arpt gibb_score pattern cluster              \n",
       "1 9l         49          -9.2103404   4.24       2       apenn                \n",
       "2 17l        49          -9.2103404   3.59       40      oddbrothersdesign    \n",
       "3 21hyphen-l 38           1.6094379   6.53       16      lovelace-codingschool\n",
       "4 15l        49          -0.2231436   3.02       41      blackgirlsocial      \n",
       "5 15l        66          -9.2103404   7.16       44      chalkiesthiccup      \n",
       "6 18hyphen-l 33           0.0000000   6.74       2       zeroemor             \n",
       "  pattern_score pattern_domain_count start_date           end_date            \n",
       "1 0.0008329863  2                    2013-01-01T00:00:00Z 2019-12-31T00:00:00Z\n",
       "2 0.0004164931  1                    2013-01-01T00:00:00Z 2019-12-31T00:00:00Z\n",
       "3 0.0006925208  1                    2013-01-01T00:00:00Z 2019-12-31T00:00:00Z\n",
       "4 0.0004164931  1                    2013-01-01T00:00:00Z 2019-12-31T00:00:00Z\n",
       "5 0.0002295684  1                    2013-01-01T00:00:00Z 2019-12-31T00:00:00Z\n",
       "6 0.0027548209  3                    2013-01-01T00:00:00Z 2019-12-31T00:00:00Z\n",
       "  reseller_am reseller_geo\n",
       "1 Neha        EU          \n",
       "2 Neha        EU          \n",
       "3 Neha        EU          \n",
       "4 Neha        EU          \n",
       "5 Neha        EU          \n",
       "6 Neha        EU          "
      ]
     },
     "metadata": {},
     "output_type": "display_data"
    }
   ],
   "source": [
    "expiry_train_df_1$reseller <- factor(expiry_train_df_1$reseller)\n",
    "expiry_train_df_1$reseller_country <- factor(expiry_train_df_1$reseller_country)\n",
    "expiry_train_df_1 <- as.data.frame(expiry_train_df_1)\n",
    "\n",
    "\n",
    "dim(expiry_train_df_1) # 1188250 x 39\n",
    "expiry_train_df_2 <- merge(expiry_train_df_1,\n",
    "                                 geoLookupDF,\n",
    "                                 on=c('reseller','reseller_country'), \n",
    "                                 all.x = TRUE)\n",
    "dim(expiry_train_df_2) # 1190186 x 43\n",
    "head(expiry_train_df_2)\n"
   ]
  },
  {
   "cell_type": "code",
   "execution_count": 15,
   "metadata": {},
   "outputs": [
    {
     "ename": "ERROR",
     "evalue": "Error: Problem with `mutate()` input `..1`.\n\u001b[31m✖\u001b[39m object 'reseller_geo' not found\n\u001b[34mℹ\u001b[39m Input `..1` is `n_distinct(reseller_geo)`.\n\u001b[34mℹ\u001b[39m The error occured in group 1: reseller = \"1&1 internet\", reseller_country = \"Germany\".\n",
     "output_type": "error",
     "traceback": [
      "Error: Problem with `mutate()` input `..1`.\n\u001b[31m✖\u001b[39m object 'reseller_geo' not found\n\u001b[34mℹ\u001b[39m Input `..1` is `n_distinct(reseller_geo)`.\n\u001b[34mℹ\u001b[39m The error occured in group 1: reseller = \"1&1 internet\", reseller_country = \"Germany\".\nTraceback:\n",
      "1. expiry_train_df_1 %>% group_by(reseller, reseller_country) %>% \n .     count(n_distinct(reseller_geo)) %>% arrange(desc(.[[3]])) %>% \n .     head()",
      "2. withVisible(eval(quote(`_fseq`(`_lhs`)), env, env))",
      "3. eval(quote(`_fseq`(`_lhs`)), env, env)",
      "4. eval(quote(`_fseq`(`_lhs`)), env, env)",
      "5. `_fseq`(`_lhs`)",
      "6. freduce(value, `_function_list`)",
      "7. function_list[[i]](value)",
      "8. count(., n_distinct(reseller_geo))",
      "9. group_by(x, ..., .add = TRUE, .drop = .drop)",
      "10. group_by.data.frame(x, ..., .add = TRUE, .drop = .drop)",
      "11. group_by_prepare(.data, ..., .add = .add)",
      "12. add_computed_columns(.data, new_groups)",
      "13. mutate_cols(.data, !!!vars)",
      "14. tryCatch({\n  .     for (i in seq_along(dots)) {\n  .         not_named <- (is.null(dots_names) || dots_names[i] == \n  .             \"\")\n  .         chunks <- NULL\n  .         result <- NULL\n  .         if (quo_is_symbol(dots[[i]])) {\n  .             name <- as_string(quo_get_expr(dots[[i]]))\n  .             if (name %in% names(new_columns)) {\n  .                 result <- new_columns[[name]]\n  .                 chunks <- mask$get_resolved(name)\n  .             }\n  .             else if (name %in% names(.data)) {\n  .                 result <- .data[[name]]\n  .                 chunks <- mask$resolve(name)\n  .             }\n  .             if (inherits(.data, \"rowwise_df\") && vec_is_list(result)) {\n  .                 sizes <- list_sizes(result)\n  .                 wrong <- which(sizes != 1)\n  .                 if (length(wrong)) {\n  .                   group <- wrong[1L]\n  .                   mask$set_current_group(group)\n  .                   stop_mutate_recycle_incompatible_size(sizes[group])\n  .                 }\n  .             }\n  .         }\n  .         if (is.null(chunks)) {\n  .             chunks <- mask$eval_all_mutate(dots[[i]])\n  .         }\n  .         mask$across_cache_reset()\n  .         if (is.null(chunks)) {\n  .             if (!is.null(dots_names) && dots_names[i] != \"\") {\n  .                 new_columns[[dots_names[i]]] <- zap()\n  .                 suppressWarnings(mask$remove(dots_names[i]))\n  .             }\n  .             next\n  .         }\n  .         if (is.null(result)) {\n  .             result <- tryCatch(vec_unchop(chunks, rows), vctrs_error_incompatible_type = function(cnd) {\n  .                 abort(class = \"dplyr:::error_mutate_incompatible_combine\", \n  .                   parent = cnd)\n  .             })\n  .         }\n  .         if (not_named && is.data.frame(result)) {\n  .             new_columns[names(result)] <- result\n  .             map2(seq_along(result), names(result), function(i, \n  .                 nm) {\n  .                 mask$add(nm, pluck(chunks, i))\n  .             })\n  .         }\n  .         else {\n  .             name <- if (not_named) \n  .                 auto_named_dots[i]\n  .             else dots_names[i]\n  .             new_columns[[name]] <- result\n  .             mask$add(name, chunks)\n  .         }\n  .     }\n  . }, error = function(e) {\n  .     if (inherits(e, \"rlang_error_data_pronoun_not_found\")) {\n  .         stop_error_data_pronoun_not_found(conditionMessage(e), \n  .             index = i, dots = dots, fn = \"mutate\")\n  .     }\n  .     else if (inherits(e, \"dplyr:::mutate_incompatible_size\")) {\n  .         e$size <- vec_size(rows[[i]])\n  .         stop_mutate_recycle_incompatible_size(e, index = i, dots = dots)\n  .     }\n  .     else if (inherits(e, \"dplyr:::mutate_mixed_null\")) {\n  .         stop_mutate_mixed_null(index = i, dots = dots)\n  .     }\n  .     else if (inherits(e, \"dplyr:::mutate_not_vector\")) {\n  .         stop_mutate_not_vector(index = i, dots = dots, result = e$result)\n  .     }\n  .     else if (inherits(e, \"dplyr:::error_mutate_incompatible_combine\")) {\n  .         stop_combine(e$parent, index = i, dots = dots, fn = \"mutate\")\n  .     }\n  .     else {\n  .         stop_dplyr(i, dots, fn = \"mutate\", problem = conditionMessage(e), \n  .             parent = e)\n  .     }\n  . })",
      "15. tryCatchList(expr, classes, parentenv, handlers)",
      "16. tryCatchOne(expr, names, parentenv, handlers[[1L]])",
      "17. value[[3L]](cond)",
      "18. stop_dplyr(i, dots, fn = \"mutate\", problem = conditionMessage(e), \n  .     parent = e)",
      "19. abort(bullets, class = \"dplyr_error\", error_name = error_name, \n  .     error_expression = error_expression, index = .index, dots = dots, \n  .     fn = fn, parent = parent)",
      "20. signal_abort(cnd)"
     ]
    }
   ],
   "source": [
    "# why result has more rows than input?\n",
    "# multiple geo_lookup matches for each row of train for the following reseller & reseller_countries\n",
    "expiry_train_df_1 %>% group_by(reseller,reseller_country)%>% \n",
    "  count(n_distinct(reseller_geo)) %>% \n",
    "  arrange(desc(.[[3]])) %>% head()\n"
   ]
  },
  {
   "cell_type": "code",
   "execution_count": null,
   "metadata": {},
   "outputs": [],
   "source": [
    "# examine these reseller & reseller_countries in geo_lookup...\n",
    "# multiple entries exist due to varying registrars within the same reseller\n",
    "geoLookupDF %>% filter(reseller=='alpnames')\n",
    "geoLookupDF %>% filter(reseller=='domain.com')"
   ]
  },
  {
   "cell_type": "code",
   "execution_count": null,
   "metadata": {},
   "outputs": [],
   "source": [
    "# remove duplicate rows in geo_lookup due to registrar level segmentation\n",
    "\n",
    "dim(geoLookupDF)\n",
    "geoLookupDF_2 <- geoLookupDF %>% distinct(reseller,reseller_country, reseller_geo)\n",
    "dim(geoLookupDF_2)\n",
    "head(geoLookupDF_2)"
   ]
  },
  {
   "cell_type": "code",
   "execution_count": null,
   "metadata": {},
   "outputs": [],
   "source": [
    "# redo merge & check dims\n",
    "expiry_train_df_1$reseller <- factor(expiry_train_df_1$reseller)\n",
    "expiry_train_df_1$reseller_country <- factor(expiry_train_df_1$reseller_country)\n",
    "expiry_train_df_1 <- as.data.frame(expiry_train_df_1)\n",
    "\n",
    "\n",
    "dim(expiry_train_df_1) # 1188250 x 39\n",
    "expiry_train_df_2 <- merge(expiry_train_df_1,\n",
    "                                 geoLookupDF_2,\n",
    "                                 on=c('reseller','reseller_country'), \n",
    "                                 all.x = TRUE)\n",
    "dim(expiry_train_df_2) # 1190186 x 43\n",
    "head(expiry_train_df_2)"
   ]
  },
  {
   "cell_type": "code",
   "execution_count": null,
   "metadata": {},
   "outputs": [],
   "source": [
    "# dims match so replace expiry_train_df_1 with expiry_train_df_2\n",
    "expiry_train_df_1 <- expiry_train_df_2"
   ]
  },
  {
   "cell_type": "code",
   "execution_count": null,
   "metadata": {},
   "outputs": [],
   "source": [
    "# Examine NA reseller_geos\n",
    "expiry_train_df_1 %>% filter(is.na(reseller_geo)) %>% distinct(reseller,reseller_country, reseller_geo)"
   ]
  },
  {
   "cell_type": "code",
   "execution_count": null,
   "metadata": {},
   "outputs": [],
   "source": [
    "# for the remaining NA's match on reseller_country\n",
    "# but first, do we haveinstances of multiple geo's for one country?\n",
    "# Yes but only for reseller_country=='NA'\n",
    "\n",
    "geoLookupDF_2 %>% group_by(reseller_country)%>% \n",
    "  count(n_distinct(reseller_geo)) %>% \n",
    "  arrange(desc(.[[2]])) %>% head()\n",
    "\n",
    "geoLookupDF_2 %>% filter(is.na(reseller_country)) %>% filter (reseller_geo != 'Others')"
   ]
  },
  {
   "cell_type": "code",
   "execution_count": null,
   "metadata": {},
   "outputs": [],
   "source": [
    "# create a new lookup where we drop everything except for reseller_country and _geo and have NA map to Others\n",
    "geoLookupDF_3 <- geoLookupDF_2 %>% distinct(reseller_country, reseller_geo)\n",
    "geoLookupDF_3 <- geoLookupDF_3 %>% mutate(reseller_geo = as.character(reseller_geo)) %>%\n",
    "  mutate ( reseller_geo = if_else(is.na(reseller_country), 'Others', reseller_geo) ) %>% \n",
    "  distinct(reseller_country, reseller_geo) %>% \n",
    "  mutate(reseller_geo = as.factor(reseller_geo))\n",
    "\n",
    "# check that no multiple matches exist\n",
    "geoLookupDF_3 %>% group_by(reseller_country)%>% \n",
    "  count(n_distinct(reseller_geo)) %>% \n",
    "  arrange(desc(.[[2]])) %>% head()"
   ]
  },
  {
   "cell_type": "code",
   "execution_count": null,
   "metadata": {},
   "outputs": [],
   "source": [
    "# use new lookup to fill reseller_geo based just on reseller_country\n",
    "\n",
    "expiry_train_df_2[['reseller_geo']][is.na(expiry_train_df_2[['reseller_geo']])]<-\n",
    "    geoLookupDF_3$reseller_geo[match(\n",
    "        expiry_train_df_2$reseller_country[is.na(expiry_train_df_2[['reseller_geo']])],\n",
    "                                                     geoLookupDF_3$reseller_country)]"
   ]
  },
  {
   "cell_type": "code",
   "execution_count": null,
   "metadata": {},
   "outputs": [],
   "source": [
    "# Examine remaining NA reseller_geos\n",
    "expiry_train_df_2 %>% filter(is.na(reseller_geo)) %>% distinct(reseller,reseller_country, reseller_geo)\n",
    "expiry_train_df_2 %>% filter(reseller_country=='Southafrica') %>% distinct(reseller,reseller_country, reseller_geo)"
   ]
  },
  {
   "cell_type": "code",
   "execution_count": null,
   "metadata": {},
   "outputs": [],
   "source": [
    "# find reseller_geo for reseller_country \"South Africa\"\n",
    "geoLookupDF %>% filter(reseller_country=='South Africa')"
   ]
  },
  {
   "cell_type": "code",
   "execution_count": null,
   "metadata": {},
   "outputs": [],
   "source": [
    "# fill reseller geo for that row above accordingly\n",
    "expiry_train_df_2[['reseller_geo']][expiry_train_df_2[['reseller_country']]=='Southafrica']<-'South Africa'\n"
   ]
  },
  {
   "cell_type": "code",
   "execution_count": null,
   "metadata": {},
   "outputs": [],
   "source": [
    "# check dims, matched.  and replace _1 with _2\n",
    "dim(expiry_train_df_1)\n",
    "dim(expiry_train_df_2)\n",
    "\n",
    "expiry_train_df_1 <- expiry_train_df_2"
   ]
  },
  {
   "cell_type": "markdown",
   "metadata": {},
   "source": [
    "# Add reseller_geo to expiry_test_predictions"
   ]
  },
  {
   "cell_type": "code",
   "execution_count": null,
   "metadata": {},
   "outputs": [],
   "source": [
    "# again, use a lookup with duplicate rows removed\n",
    "# remove duplicate rows in geo_lookup due to registrar level segmentation\n",
    "# results in dims matching for expiry_test\n",
    "\n",
    "geoLookupDF_2 <- geoLookupDF %>% distinct(reseller,reseller_country, reseller_geo)\n",
    "\n",
    "expiry_test_predictions$reseller <- factor(expiry_test_predictions$reseller)\n",
    "expiry_test_predictions$reseller_country <- factor(expiry_test_predictions$reseller_country)\n",
    "expiry_test_predictions <- as.data.frame(expiry_test_predictions)\n",
    "\n",
    "dim(expiry_test_predictions)\n",
    "expiry_test_predictions <- merge(expiry_test_predictions,\n",
    "                                 geoLookupDF_2,\n",
    "                                 on=c('reseller','reseller_country'), \n",
    "                                 all.x = TRUE)\n",
    "dim(expiry_test_predictions)\n",
    "head(expiry_test_predictions)\n"
   ]
  },
  {
   "cell_type": "code",
   "execution_count": null,
   "metadata": {},
   "outputs": [],
   "source": [
    "# again, create a new lookup where we drop everything except for reseller_country and _geo and have NA map to Others\n",
    "geoLookupDF_3 <- geoLookupDF_2 %>% distinct(reseller_country, reseller_geo)\n",
    "geoLookupDF_3 <- geoLookupDF_3 %>% mutate(reseller_geo = as.character(reseller_geo)) %>%\n",
    "  mutate ( reseller_geo = if_else(is.na(reseller_country), 'Others', reseller_geo) ) %>% \n",
    "  distinct(reseller_country, reseller_geo) %>% \n",
    "  mutate(reseller_geo = as.factor(reseller_geo))\n",
    "\n",
    "# use new lookup to fill reseller_geo based just on reseller_country\n",
    "expiry_test_predictions[['reseller_geo']][is.na(expiry_test_predictions[['reseller_geo']])]<-\n",
    "    geoLookupDF_3$reseller_geo[match(\n",
    "        expiry_test_predictions$reseller_country[is.na(expiry_test_predictions[['reseller_geo']])],\n",
    "                                                     geoLookupDF_3$reseller_country)]\n",
    "dim(expiry_test_predictions) # dims match, DONE.\n",
    "\n",
    "# Examine remaining NA reseller_geos\n",
    "expiry_test_predictions %>% filter(is.na(reseller_geo)) %>% distinct(reseller,reseller_country, reseller_geo)\n",
    "expiry_test_predictions %>% filter(reseller_country=='Southafrica') %>% distinct(reseller,reseller_country, \n",
    "                                                                                 reseller_geo)\n",
    "\n",
    "# fill reseller geo for that row above accordingly\n",
    "expiry_test_predictions[['reseller_geo']][expiry_test_predictions[['reseller_country']]=='Southafrica']<-'South Africa'\n"
   ]
  },
  {
   "cell_type": "markdown",
   "metadata": {},
   "source": [
    "# Generate fallback table predictions"
   ]
  },
  {
   "cell_type": "code",
   "execution_count": null,
   "metadata": {},
   "outputs": [],
   "source": [
    "npv_fallback_list = fallback_gen( npv_historic_renewal_data = expiry_train_df_1, reseller_am_geo_map = geoLookupDF)"
   ]
  },
  {
   "cell_type": "code",
   "execution_count": null,
   "metadata": {},
   "outputs": [],
   "source": [
    "# return list members to objects\n",
    "names(npv_fallback_list)\n",
    "for(i in 1:length(npv_fallback_list)) assign(names(npv_fallback_list)[i], npv_fallback_list[[i]])"
   ]
  },
  {
   "cell_type": "code",
   "execution_count": null,
   "metadata": {},
   "outputs": [],
   "source": [
    "expiry_test_predictions_2 <- fallback_app_1(test_data_op=expiry_test_predictions,\n",
    "               in_col='pred_df_seg2_glm',\n",
    "               out_col='pred_df_seg2_glm_fb')\n",
    "\n",
    "dim(expiry_test_predictions)\n",
    "dim(expiry_test_predictions_2)\n",
    "head(expiry_test_predictions_2)"
   ]
  },
  {
   "cell_type": "code",
   "execution_count": null,
   "metadata": {},
   "outputs": [],
   "source": [
    "# regmatches('pred_', names(expiry_test_predictions), invert = FALSE)\n",
    "for (in_col in names(expiry_test_predictions)[grep('pred_',names(expiry_test_predictions))]){\n",
    "    out_col = paste(in_col,'_fb',sep='')\n",
    "    expiry_test_predictions <- fallback_app_1(test_data_op=expiry_test_predictions, in_col, out_col)\n",
    "}\n"
   ]
  },
  {
   "cell_type": "code",
   "execution_count": null,
   "metadata": {},
   "outputs": [],
   "source": [
    "dim(expiry_test_predictions)\n",
    "head(expiry_test_predictions)"
   ]
  },
  {
   "cell_type": "code",
   "execution_count": null,
   "metadata": {},
   "outputs": [],
   "source": [
    "expiry_test_predictions %>%\n",
    "  select(names(expiry_test_predictions)[grep('pred_',names(expiry_test_predictions))]) %>%  # replace to your needs\n",
    "  summarise_all(funs(sum(is.na(.)))) %>% t()"
   ]
  },
  {
   "cell_type": "markdown",
   "metadata": {},
   "source": [
    "# Calculate overall performance metrics for models & fallback"
   ]
  },
  {
   "cell_type": "code",
   "execution_count": null,
   "metadata": {},
   "outputs": [],
   "source": [
    "\n",
    "lift_list <- list()\n",
    "auc_list <- list()\n",
    "\n",
    "fallback_lift <- chart_lift(pred_df=expiry_test_predictions,\n",
    "                        dep_var = \"renewal_status\",\n",
    "                        pred_var = \"pred_df_seg2_glm\") \n",
    "\n",
    "lift_list[[\"pred_df_seg2_glm\"]] <- fallback_lift\n",
    "auc_list[[\"pred_df_seg2_glm\"]] <- calc_auc(lift_df=fallback_lift)\n",
    "\n",
    "models <- names(expiry_test_predictions)[grep('pred_',names(expiry_test_predictions))]\n",
    "\n",
    "\n",
    "for (model in models){\n",
    "    model_lift <- chart_lift(pred_df=expiry_test_predictions,\n",
    "                        dep_var = \"renewal_status\",\n",
    "                        pred_var = model) \n",
    "    \n",
    "    fallback_lift <- merge(fallback_lift, model_lift, by=c(\"P\"),all= TRUE, \n",
    "                           suffixes = c(\"\",\n",
    "                                        paste(\"_\",gsub(\"pred_df_\", \"\", model)) ))\n",
    "    \n",
    "    lift_list[[model]] <- model_lift\n",
    "    auc_list[[model]] <- calc_auc(lift_df=model_lift)\n",
    "}\n",
    "\n",
    "lift_df <- fallback_lift"
   ]
  },
  {
   "cell_type": "code",
   "execution_count": null,
   "metadata": {},
   "outputs": [],
   "source": [
    "length(lift_list)\n",
    "names(lift_list)\n",
    "sapply(lift_list, dim)\n",
    "lift_list[\"pred_df_seg2_glm\"]"
   ]
  },
  {
   "cell_type": "code",
   "execution_count": null,
   "metadata": {},
   "outputs": [],
   "source": [
    "prop.table(table(expiry_test_df_1$renewal_status))"
   ]
  },
  {
   "cell_type": "code",
   "execution_count": null,
   "metadata": {},
   "outputs": [],
   "source": [
    "plot_multigains <- function (lift_df_list=list(seg_glm = lift_df, \n",
    "                                               ben_dtr = lift_df_2),\n",
    "                             auc_list = list(seg_glm = auc, \n",
    "                                             ben_dtr=auc_2),\n",
    "                             prop_positive = 0.1121167) {\n",
    "  \n",
    "  optimal_df <- data.frame( \"P\"=c(0,prop_positive,1.0),\n",
    "                            \"actu_renwd2\"=c(NA,NA,NA),\n",
    "                            \"gain\"=c(0,1.0,1.0),\n",
    "                            \"lift\"=c(NA,NA,NA))\n",
    "  \n",
    "  lift_df_list <- lapply(lift_df_list, function(df) {\n",
    "    df <- df %>%\n",
    "      add_row(P = 0, gain =0) %>%\n",
    "      arrange(P)\n",
    "  })\n",
    "\n",
    "  auc_lift_list = paste(lapply(auc_list, round, 3),sapply(lift_df_list, function(x) round(x[2,\"lift\"],2)), sep=\", \")\n",
    "  \n",
    "  auc_map = paste(names(lift_df_list),auc_lift_list, sep=\" = \")[1:length(lift_df_list)]\n",
    "  \n",
    "  \n",
    "  gains_plot <- ggplot(NULL, aes(P,  gain)) +\n",
    "    geom_line(data = lift_df_list[[1]] %>% slice(1, n())) +\n",
    "    \n",
    "    list(geom_line(data=optimal_df), geom_point(data=optimal_df)) +\n",
    "    \n",
    "    scale_y_continuous(breaks = seq(0, 1, by = .1), limits = c(0,1)) +\n",
    "    scale_x_continuous(breaks = seq(0, 1, by = .1)) +\n",
    "    labs(title = \"Cumulative Gains Plot\",\n",
    "         y = \"Cumulative Gain\",\n",
    "         x = \"Percentile\")+\n",
    "    theme(text = element_text(size=20))\n",
    "  \n",
    "  for(i in seq(length(lift_df_list))){\n",
    "    name = names(lift_df_list)[[i]]\n",
    "    df = lift_df_list[[i]]\n",
    "    auc = auc_list[[i]]\n",
    "    gains_plot <- gains_plot + list(geom_line(data=df), \n",
    "                                    geom_point(data=df))+ \n",
    "      annotate(\"text\", x = .4, y = .9-i*.075, hjust = 0, label = auc_map[[i]], size = 5)\n",
    "  }\n",
    "  \n",
    "  \n",
    "  return(gains_plot)\n",
    "}\n"
   ]
  },
  {
   "cell_type": "code",
   "execution_count": null,
   "metadata": {},
   "outputs": [],
   "source": [
    "plot_multigains(            lift_df_list=lift_list,\n",
    "                             auc_list = auc_list,\n",
    "                             prop_positive = 0.09149351) "
   ]
  },
  {
   "cell_type": "code",
   "execution_count": null,
   "metadata": {},
   "outputs": [],
   "source": [
    "row.names(lift_df %>% filter(P==0.1) %>% select(contains(\"lift_\")) %>% t())"
   ]
  },
  {
   "cell_type": "code",
   "execution_count": null,
   "metadata": {},
   "outputs": [],
   "source": [
    "lift_df_tidy <- bind_cols(\n",
    "    lift_df %>% filter(P==0.1) %>% select(contains(\"lift_\")) %>% t() %>% head(6),\n",
    "    lift_df %>% filter(P==0.1) %>% select(contains(\"lift_\")) %>% t() %>% tail(6))\n",
    "lift_df_tidy$model <- c('lift_seg2_glm','lift_seg_glm','lift_agg_glm',\n",
    "                        'lift_seg2_rf','lift_seg_rf','lift_agg_rf')\n",
    "names(lift_df_tidy) <- c('l10_orig','l10_fb','model')\n",
    "lift_df_tidy <- lift_df_tidy %>% mutate(imprv = (l10_fb-l10_orig)/l10_orig)\n",
    "lift_df_tidy"
   ]
  },
  {
   "cell_type": "code",
   "execution_count": null,
   "metadata": {},
   "outputs": [],
   "source": [
    "auc_df_tidy <- bind_cols(\n",
    "    as.data.frame(auc_list) %>% t() %>% head(6),\n",
    "    as.data.frame(auc_list) %>% t() %>% tail(6))\n",
    "auc_df_tidy$model <- c('auc_seg2_glm','auc_seg_glm','auc_agg_glm',\n",
    "                        'auc_seg2_rf','auc_seg_rf','auc_agg_rf')\n",
    "names(auc_df_tidy) <- c('auc_orig','auc_fb','model')\n",
    "auc_df_tidy <- auc_df_tidy %>% mutate(imprv = (auc_fb-auc_orig)/auc_orig)\n",
    "auc_df_tidy\n",
    "\n"
   ]
  },
  {
   "cell_type": "markdown",
   "metadata": {},
   "source": [
    "# Generate one prediction column for each fallback table\n",
    "## to determine when which table is most appropriate"
   ]
  },
  {
   "cell_type": "code",
   "execution_count": null,
   "metadata": {},
   "outputs": [],
   "source": [
    "expiry_test_predictions<-expiry_test_predictions %>% mutate(\n",
    "    temp_index = paste(tld, reseller_geo, reg_arpt_slab, sep = \"\"),\n",
    "    npv_fallback_first_geo_arpt_tld = npv_fallback_first_geo_arpt_tld$renewal_rate[match(temp_index, \n",
    "                                                npv_fallback_first_geo_arpt_tld$index)]\n",
    ")\n",
    "\n",
    "expiry_test_predictions<-expiry_test_predictions %>% mutate(\n",
    "    temp_index = paste(reseller_geo, reg_arpt_slab, sep = \"\"),\n",
    "    npv_fallback_first_geo_arpt = npv_fallback_first_geo_arpt$renewal_rate[match(temp_index, \n",
    "                                                npv_fallback_first_geo_arpt$index)]\n",
    ")\n",
    "\n",
    "expiry_test_predictions<-expiry_test_predictions %>% mutate(\n",
    "    temp_index = paste(tld, reg_arpt_slab, sep = \"\"),\n",
    "    npv_fallback_first_tld_arpt = npv_fallback_first_tld_arpt$renewal_rate[match(temp_index, \n",
    "                                                npv_fallback_first_tld_arpt$index)]\n",
    ")\n",
    "\n",
    "expiry_test_predictions<-expiry_test_predictions %>% mutate(\n",
    "    temp_index = paste(region, reg_arpt_slab, sep = \"\"),\n",
    "    npv_fallback_first_final = npv_fallback_first_final$renewal_rate[match(temp_index, \n",
    "                                                npv_fallback_first_final$index)]\n",
    ")\n",
    "\n",
    "expiry_test_predictions<-expiry_test_predictions %>% select(-temp_index)\n",
    "\n",
    "head(expiry_test_predictions)"
   ]
  },
  {
   "cell_type": "markdown",
   "metadata": {},
   "source": [
    "# Generate Metrics @ Tld-Reseller level "
   ]
  },
  {
   "cell_type": "code",
   "execution_count": null,
   "metadata": {},
   "outputs": [],
   "source": [
    "l10_dplyr <- function (pred_df,\n",
    "                              pred_var = \"first_renewal_prediction\") {\n",
    "  N <- 10  # total number of rows to preallocate--possibly an overestimate\n",
    "  lift_df <- data.frame(P =rep(NA, N), \n",
    "                        actu_renwd2=rep(NA, N), \n",
    "                        gain=rep(NA, N), \n",
    "                        lift=rep(NA, N), \n",
    "                        stringsAsFactors=FALSE)          # you don't know levels yet\n",
    "  actu_renwd <- sum(pred_df[[\"renewal_status\"]]=='Renewed')\n",
    "  \n",
    "  i = 1\n",
    "  for(P in seq(.1,1,length=10)){\n",
    "    temp_df <- data.frame(pred_df)[c(\"renewal_status\",pred_var)]\n",
    "    ttmp_df <- temp_df[order(temp_df[pred_var],decreasing = TRUE),][1:round(dim(temp_df)[1]*P),]\n",
    "    actu_renwd2 <-  sum(ttmp_df[[\"renewal_status\"]] == 'Renewed')\n",
    "    gain = actu_renwd2/actu_renwd\n",
    "    lift = gain/(P)\n",
    "    \n",
    "    lift_df[i, ] <- list(P, actu_renwd2, gain, lift)\n",
    "    i = i+1\n",
    "  }\n",
    "  return(lift_df %>% filter(P==0.1) %>% pull(lift))\n",
    "}\n",
    "\n",
    "auc_dplyr <- function (pred_df,\n",
    "                              pred_var = \"first_renewal_prediction\") {\n",
    "  N <- 10  # total number of rows to preallocate--possibly an overestimate\n",
    "  lift_df <- data.frame(P =rep(NA, N), \n",
    "                        actu_renwd2=rep(NA, N), \n",
    "                        gain=rep(NA, N), \n",
    "                        lift=rep(NA, N), \n",
    "                        stringsAsFactors=FALSE)          # you don't know levels yet\n",
    "  actu_renwd <- sum(pred_df[[\"renewal_status\"]]=='Renewed')\n",
    "  \n",
    "  i = 1\n",
    "  for(P in seq(.1,1,length=10)){\n",
    "    temp_df <- data.frame(pred_df)[c(\"renewal_status\",pred_var)]\n",
    "    ttmp_df <- temp_df[order(temp_df[pred_var],decreasing = TRUE),][1:round(dim(temp_df)[1]*P),]\n",
    "    actu_renwd2 <-  sum(ttmp_df[[\"renewal_status\"]] == 'Renewed')\n",
    "    gain = actu_renwd2/actu_renwd\n",
    "    lift = gain/(P)\n",
    "    \n",
    "    lift_df[i, ] <- list(P, actu_renwd2, gain, lift)\n",
    "    i = i+1\n",
    "  }\n",
    "  return(calc_auc(lift_df))\n",
    "}"
   ]
  },
  {
   "cell_type": "code",
   "execution_count": null,
   "metadata": {},
   "outputs": [],
   "source": [
    "names(expiry_test_predictions)"
   ]
  },
  {
   "cell_type": "code",
   "execution_count": null,
   "metadata": {},
   "outputs": [],
   "source": [
    "# expiry_test_metrics <- expiry_test_predictions %>%\n",
    "#   group_by(tld_registrar_index) %>%\n",
    "#   do( l10_seg2_glm = l10_dplyr(., pred_var = \"pred_df_seg2_glm\"),\n",
    "#       l10_seg_glm = l10_dplyr(., pred_var = \"pred_df_seg_glm\"),\n",
    "#        l10_agg_glm = l10_dplyr(., pred_var = \"pred_df_agg_glm\"),\n",
    "#        l10_seg2_rf = l10_dplyr(., pred_var = \"pred_df_seg2_rf\"),\n",
    "#        l10_seg_rf = l10_dplyr(., pred_var = \"pred_df_seg_rf\"),\n",
    "#        l10_agg_rf = l10_dplyr(., pred_var = \"pred_df_agg_rf\"),\n",
    "     \n",
    "#       auc_seg2_glm = auc_dplyr(., pred_var = \"pred_df_seg2_glm\"),\n",
    "#       auc_seg_glm = auc_dplyr(., pred_var = \"pred_df_seg_glm\"),\n",
    "#        auc_agg_glm = auc_dplyr(., pred_var = \"pred_df_agg_glm\"),\n",
    "#        auc_seg2_rf = auc_dplyr(., pred_var = \"pred_df_seg2_rf\"),\n",
    "#        auc_seg_rf = auc_dplyr(., pred_var = \"pred_df_seg_rf\"),\n",
    "#        auc_agg_rf = auc_dplyr(., pred_var = \"pred_df_agg_rf\"),\n",
    "      \n",
    "#      l10_seg2_glm_fb = l10_dplyr(., pred_var = \"pred_df_seg2_glm_fb\"),\n",
    "#       l10_seg_glm_fb = l10_dplyr(., pred_var = \"pred_df_seg_glm_fb\"),\n",
    "#        l10_agg_glm_fb = l10_dplyr(., pred_var = \"pred_df_agg_glm_fb\"),\n",
    "#        l10_seg2_rf_fb = l10_dplyr(., pred_var = \"pred_df_seg2_rf_fb\"),\n",
    "#        l10_seg_rf_fb = l10_dplyr(., pred_var = \"pred_df_seg_rf_fb\"),\n",
    "#        l10_agg_rf_fb = l10_dplyr(., pred_var = \"pred_df_agg_rf_fb\"),\n",
    "     \n",
    "#       auc_seg2_glm_fb = auc_dplyr(., pred_var = \"pred_df_seg2_glm_fb\"),\n",
    "#       auc_seg_glm_fb = auc_dplyr(., pred_var = \"pred_df_seg_glm_fb\"),\n",
    "#        auc_agg_glm_fb = auc_dplyr(., pred_var = \"pred_df_agg_glm_fb\"),\n",
    "#        auc_seg2_rf_fb = auc_dplyr(., pred_var = \"pred_df_seg2_rf_fb\"),\n",
    "#        auc_seg_rf_fb = auc_dplyr(., pred_var = \"pred_df_seg_rf_fb\"),\n",
    "#        auc_agg_rf_fb = auc_dplyr(., pred_var = \"pred_df_agg_rf_fb\"),\n",
    "#       )"
   ]
  },
  {
   "cell_type": "code",
   "execution_count": null,
   "metadata": {},
   "outputs": [],
   "source": [
    "# head(expiry_test_metrics)"
   ]
  },
  {
   "cell_type": "code",
   "execution_count": null,
   "metadata": {},
   "outputs": [],
   "source": [
    "# save(expiry_test_metrics, file=\"../../data/output/expiry_test_metrics_101020\")\n",
    "# system(\"gsutil cp /home/jupyter/local/Domains_202003/data/output/* gs://data_outputt/output/ \")\n",
    "# system(\"mv /home/jupyter/local/Domains_202003/data/output/* /home/jupyter/local/Domains_202003/data/\")"
   ]
  },
  {
   "cell_type": "code",
   "execution_count": null,
   "metadata": {},
   "outputs": [],
   "source": [
    "load(\"../../data/expiry_test_metrics_101020\")"
   ]
  },
  {
   "cell_type": "code",
   "execution_count": null,
   "metadata": {},
   "outputs": [],
   "source": [
    "dim(expiry_test_metrics)\n",
    "head(expiry_test_metrics)"
   ]
  },
  {
   "cell_type": "markdown",
   "metadata": {},
   "source": [
    "# Metalearning Prep"
   ]
  },
  {
   "cell_type": "markdown",
   "metadata": {},
   "source": [
    "## add geo to training data for fetaure eng"
   ]
  },
  {
   "cell_type": "code",
   "execution_count": null,
   "metadata": {},
   "outputs": [],
   "source": [
    "# system(\"gsutil cp gs://data_input/PredictiveModelAnalysis_AnomalyRegistrars.csv /home/jupyter/local/Domains_202003/data/PredictiveModelAnalysis_AnomalyRegistrars.csv\")\n",
    "anomalyDF <- read.csv(\"/home/jupyter/local/Domains_202003/data/PredictiveModelAnalysis_AnomalyRegistrars.csv\")\n",
    "anomalyDF <- apply(anomalyDF, 2, function(x) trimws(x,which = c(\"both\")) )\n",
    "geoLookupDF <- unique(anomalyDF[,c('reseller','reseller_country','reseller_geo')])\n",
    "geoLookupDF <- as.data.frame(geoLookupDF)\n",
    "expiry_test_df_1 <- merge(expiry_test_df_1,geoLookupDF,on=c('reseller','reseller_country'), all.x = TRUE)"
   ]
  },
  {
   "cell_type": "code",
   "execution_count": null,
   "metadata": {},
   "outputs": [],
   "source": [
    "dim(expiry_test_df_1)"
   ]
  },
  {
   "cell_type": "code",
   "execution_count": null,
   "metadata": {},
   "outputs": [],
   "source": [
    "length(unique(expiry_test_df_1$tld_registrar_index))"
   ]
  },
  {
   "cell_type": "code",
   "execution_count": null,
   "metadata": {},
   "outputs": [],
   "source": [
    "# expiry_test_df_1 %>% setnames(\"reseller_geo.x\", \"reseller_geo\")"
   ]
  },
  {
   "cell_type": "code",
   "execution_count": null,
   "metadata": {},
   "outputs": [],
   "source": [
    "head(expiry_test_df_1)"
   ]
  },
  {
   "cell_type": "markdown",
   "metadata": {},
   "source": [
    "## Feature Engineering for tld-reseller level "
   ]
  },
  {
   "cell_type": "code",
   "execution_count": null,
   "metadata": {},
   "outputs": [],
   "source": [
    "# new geo level feature eng\n",
    "expiry_test_meta = expiry_test_df_1 %>%\n",
    "  add_count(tld_registrar_index, reseller_geo) %>%\n",
    "  group_by(tld_registrar_index) %>%\n",
    "  summarise(\n",
    "            geo_maj = reseller_geo[n == max(n)][1],\n",
    "            geo_cnt = n_distinct(reseller_geo),\n",
    "            n = n(),\n",
    "            ren_prp = sum(renewal_status=='Renewed')/sum(n),\n",
    "            tld_cnt = n_distinct(tld), tld_rat = tld_cnt/n,\n",
    "              \n",
    "            daydom_min = min(day_domains), \n",
    "            daydom_max = max(day_domains), \n",
    "            daydom_mean = mean(day_domains, na.rm = TRUE), \n",
    "            daydom_rng = daydom_max - daydom_min, \n",
    "            daydom_std = sd(day_domains, na.rm = TRUE), \n",
    "            daydom_skew = skewness(day_domains, na.rm = TRUE), \n",
    "            daydom_kurt = kurtosis(day_domains, na.rm = TRUE),\n",
    "\n",
    "            sldlen_min = min(sld_length), \n",
    "            sldlen_max = max(sld_length), \n",
    "            sldlen_mean = mean(sld_length, na.rm = TRUE), \n",
    "            sldlen_rng = sldlen_max - sldlen_min, \n",
    "            sldlen_std = sd(sld_length, na.rm = TRUE), \n",
    "            sldlen_skew = skewness(sld_length, na.rm = TRUE), \n",
    "            sldlen_kurt = kurtosis(sld_length, na.rm = TRUE),\n",
    "  \n",
    "            gibbs_min = min(gibb_score), \n",
    "            gibbs_max = max(gibb_score), \n",
    "            gibbs_mean = mean(gibb_score, na.rm = TRUE), \n",
    "            gibbs_rng = gibbs_max - gibbs_min, \n",
    "            gibbs_std = sd(gibb_score, na.rm = TRUE), \n",
    "            gibbs_skew = skewness(gibb_score, na.rm = TRUE), \n",
    "            gibbs_kurt = kurtosis(gibb_score, na.rm = TRUE),\n",
    "  \n",
    "            pdcnt_min = min(pattern_domain_count), \n",
    "            pdcnt_max = max(pattern_domain_count), \n",
    "            pdcnt_mean = mean(pattern_domain_count, na.rm = TRUE), \n",
    "            pdcnt_rng = pdcnt_max - pdcnt_min, \n",
    "            pdcnt_std = sd(pattern_domain_count, na.rm = TRUE), \n",
    "            pdcnt_skew = skewness(pattern_domain_count, na.rm = TRUE), \n",
    "            pdcnt_kurt = kurtosis(pattern_domain_count, na.rm = TRUE),\n",
    "  \n",
    "            regarpt_min = min(reg_arpt), \n",
    "            regarpt_max = max(reg_arpt), \n",
    "            regarpt_mean = mean(reg_arpt, na.rm = TRUE), \n",
    "            regarpt_rng = regarpt_max - regarpt_min, \n",
    "            regarpt_std = sd(reg_arpt, na.rm = TRUE), \n",
    "            regarpt_skew = skewness(reg_arpt, na.rm = TRUE), \n",
    "            regarpt_kurt = kurtosis(reg_arpt, na.rm = TRUE))\n",
    "dim(expiry_test_meta)\n",
    "head(expiry_test_meta)"
   ]
  },
  {
   "cell_type": "code",
   "execution_count": null,
   "metadata": {},
   "outputs": [],
   "source": [
    "# add a handful more vars \n",
    "country_maj = expiry_test_df_1 %>%\n",
    "  add_count(tld_registrar_index, reseller_country) %>%\n",
    "  group_by(tld_registrar_index) %>%\n",
    "  mutate(reseller_country_maj = reseller_country[n == max(n)][1]) %>%\n",
    "  select(-n) %>% \n",
    "  group_by(tld_registrar_index,reseller_country_maj) %>%\n",
    "    summarise(n = n()) %>% \n",
    "    arrange(desc(n)) %>%\n",
    "    pull(reseller_country_maj)\n",
    "\n",
    "country_cnt = expiry_test_df_1 %>%\n",
    "  add_count(tld_registrar_index, reseller_country) %>%\n",
    "  group_by(tld_registrar_index) %>%\n",
    "  summarise(reseller_country_cnt = n_distinct(reseller_country)) %>%\n",
    "  pull(reseller_country_cnt)  \n",
    "\n",
    "region_maj = expiry_test_df_1 %>%\n",
    "  add_count(tld_registrar_index, region) %>%\n",
    "  group_by(tld_registrar_index) %>%\n",
    "  mutate(region_maj = region[n == max(n)][1]) %>%\n",
    "  select(-n) %>% \n",
    "  group_by(tld_registrar_index,region_maj) %>%\n",
    "    summarise(n = n()) %>% \n",
    "    arrange(desc(n)) %>%\n",
    "    pull(region_maj)\n",
    "\n",
    "region_cnt = expiry_test_df_1 %>%\n",
    "  add_count(tld_registrar_index, region) %>%\n",
    "  group_by(tld_registrar_index) %>%\n",
    "  summarise(reseller_region_cnt = n_distinct(reseller_country)) %>%\n",
    "  pull(reseller_region_cnt)  \n",
    "\n",
    "expiry_test_meta = expiry_test_meta %>% \n",
    "    mutate(country_maj = country_maj,\n",
    "            region_maj = region_maj,\n",
    "            country_cnt = country_cnt,\n",
    "            region_cnt = region_cnt,\n",
    "            )"
   ]
  },
  {
   "cell_type": "code",
   "execution_count": null,
   "metadata": {},
   "outputs": [],
   "source": [
    "dim(expiry_test_meta)\n",
    "head(expiry_test_meta)"
   ]
  },
  {
   "cell_type": "markdown",
   "metadata": {},
   "source": [
    "# Join w/ Metrics"
   ]
  },
  {
   "cell_type": "code",
   "execution_count": null,
   "metadata": {},
   "outputs": [],
   "source": [
    "expiry_test_metametrics <- merge(expiry_test_meta, expiry_test_metrics, on = 'tld_registrar_index', all = TRUE)\n",
    "\n",
    "dim(expiry_test_metametrics)\n",
    "head(expiry_test_metametrics)"
   ]
  },
  {
   "cell_type": "markdown",
   "metadata": {},
   "source": [
    "# Metalearning w/ Fallback -- BINARY\n",
    "## seg2_glm_fb vs agg_rf_fb"
   ]
  },
  {
   "cell_type": "markdown",
   "metadata": {},
   "source": [
    "### Reminder: 88 NA's for agg_rf sans fallback exist because there are 88 tld-reg in test data that do not exist in training data"
   ]
  },
  {
   "cell_type": "code",
   "execution_count": null,
   "metadata": {},
   "outputs": [],
   "source": [
    "# (auc_vars = grep('auc', names(metrics_df), value=TRUE))\n",
    "# (l10_vars = grep('l10', names(metrics_df), value=TRUE))\n",
    "\n",
    "auc_vars = c('auc_seg2_glm_fb','auc_agg_rf_fb')\n",
    "l10_vars = c('l10_seg2_glm_fb','l10_agg_rf_fb')\n",
    "\n",
    "expiry_test_metametrics <- expiry_test_metametrics %>%\n",
    "    mutate (auc_win_01=sapply(apply(.[,c(auc_vars)], \n",
    "                          1, function(x) names(x)[which.max(x)]) , function(s) if (length(s) == 0) NA else paste(s, collapse = \" \")) ,\n",
    "            l10_win_01=sapply(apply(.[,c(l10_vars)], \n",
    "                          1, function(x) names(x)[which.max(x)]), function(s) if (length(s) == 0) NA else paste(s, collapse = \" \")) \n",
    "            ) \n",
    "                              \n",
    "head(expiry_test_metametrics)"
   ]
  },
  {
   "cell_type": "code",
   "execution_count": null,
   "metadata": {},
   "outputs": [],
   "source": [
    "table(expiry_test_metametrics$auc_win_01)\n",
    "table(expiry_test_metametrics$l10_win_01)"
   ]
  },
  {
   "cell_type": "markdown",
   "metadata": {},
   "source": [
    "# Metalearning w/ Fallback -- MULTICLASS\n",
    "## s\n",
    "### Issue: for all tld-reg in test data, seg2_glm_fb outperforms agg_rf_fb even though agg_rf_fb outperforms overall"
   ]
  },
  {
   "cell_type": "code",
   "execution_count": null,
   "metadata": {},
   "outputs": [],
   "source": [
    "(auc_vars = grep('auc_', names(expiry_test_metametrics), value=TRUE))\n",
    "(l10_vars = grep('l10_', names(expiry_test_metametrics), value=TRUE))\n",
    "\n",
    "(auc_vars = auc_vars[-grep(\"win\", auc_vars)])\n",
    "(l10_vars = l10_vars[-grep(\"win\", l10_vars)])\n",
    "\n",
    "# auc_vars = c('auc_seg2_glm_fb','auc_agg_rf_fb')\n",
    "# l10_vars = c('l10_seg2_glm_fb','l10_agg_rf_fb')\n",
    "\n",
    "expiry_test_metametrics <- expiry_test_metametrics %>%\n",
    "    mutate (auc_win_02=sapply(apply(.[,c(auc_vars)], \n",
    "                          1, function(x) names(x)[which.max(x)]) , function(s) if (length(s) == 0) NA else paste(s, collapse = \" \")) ,\n",
    "            l10_win_02=sapply(apply(.[,c(l10_vars)], \n",
    "                          1, function(x) names(x)[which.max(x)]), function(s) if (length(s) == 0) NA else paste(s, collapse = \" \")) \n",
    "            ) \n",
    "                              \n",
    "head(expiry_test_metametrics)"
   ]
  },
  {
   "cell_type": "code",
   "execution_count": null,
   "metadata": {},
   "outputs": [],
   "source": [
    "as.data.frame(sort(table(expiry_test_metametrics$auc_win_02)))\n",
    "as.data.frame(sort(table(expiry_test_metametrics$l10_win_02)))"
   ]
  },
  {
   "cell_type": "code",
   "execution_count": null,
   "metadata": {},
   "outputs": [],
   "source": [
    "# expiry_test_metametrics %>% \n",
    "#     group_by(auc_win_02) %>%\n",
    "#     tally() %>%\n",
    "#     arrange(desc(n))\n",
    "\n",
    "# expiry_test_metametrics %>% \n",
    "#     group_by(l10_win_02) %>%\n",
    "#     tally() %>%\n",
    "#     arrange(desc(n))"
   ]
  },
  {
   "cell_type": "code",
   "execution_count": null,
   "metadata": {},
   "outputs": [],
   "source": [
    "# Interesting that in 3 (1) cases, the fallback version outperforms original version of seg2_glm\n",
    "# But these are all cases where the models tied and which.max simply picked the first index\n",
    "expiry_test_metametrics %>% filter(auc_win_02 == 'auc_seg2_glm_fb') %>% select(auc_vars)\n",
    "expiry_test_metametrics %>% filter(l10_win_02 == 'l10_seg2_glm_fb') %>% select(auc_vars)"
   ]
  },
  {
   "cell_type": "code",
   "execution_count": null,
   "metadata": {},
   "outputs": [],
   "source": [
    "## test another auc_win and l10_win with just seg2_glm fallback and non fallback\n",
    "\n",
    "(auc_vars = grep('auc_seg2_glm', names(expiry_test_metametrics), value=TRUE))\n",
    "(l10_vars = grep('l10_seg2_glm', names(expiry_test_metametrics), value=TRUE))\n",
    "\n",
    "# (auc_vars = auc_vars[-grep(\"win\", auc_vars)])\n",
    "# (l10_vars = l10_vars[-grep(\"win\", l10_vars)])\n",
    "\n",
    "# auc_vars = c('auc_seg2_glm_fb','auc_agg_rf_fb')\n",
    "# l10_vars = c('l10_seg2_glm_fb','l10_agg_rf_fb')\n",
    "\n",
    "expiry_test_metametrics <- expiry_test_metametrics %>%\n",
    "    mutate (auc_win_03=sapply(apply(.[,c(auc_vars)], \n",
    "                          1, function(x) names(x)[which.max(x)]) , function(s) if (length(s) == 0) NA else paste(s, collapse = \" \")) ,\n",
    "            l10_win_03=sapply(apply(.[,c(l10_vars)], \n",
    "                          1, function(x) names(x)[which.max(x)]), function(s) if (length(s) == 0) NA else paste(s, collapse = \" \")) \n",
    "            ) \n",
    "                              \n",
    "head(expiry_test_metametrics)"
   ]
  },
  {
   "cell_type": "code",
   "execution_count": null,
   "metadata": {},
   "outputs": [],
   "source": [
    "table(expiry_test_metametrics$auc_win_03)\n",
    "table(expiry_test_metametrics$l10_win_03)"
   ]
  },
  {
   "cell_type": "code",
   "execution_count": null,
   "metadata": {},
   "outputs": [],
   "source": [
    "# Interesting that in 3 (1) cases, the fallback version outperforms original version of seg2_glm\n",
    "# But these are all cases where the models tied and which.max simply picked the first index\n",
    "expiry_test_metametrics %>% filter(auc_win_03 == 'auc_seg2_glm_fb') %>% select(tld_registrar_index,n,auc_vars)\n",
    "expiry_test_metametrics %>% filter(l10_win_03 == 'l10_seg2_glm_fb') %>% select(tld_registrar_index,n,auc_vars)"
   ]
  },
  {
   "cell_type": "code",
   "execution_count": null,
   "metadata": {},
   "outputs": [],
   "source": [
    "# examine renewal_status dist and NAs for these tld-reg\n",
    "\n",
    "(tld_regs <- c( expiry_test_metametrics %>% \n",
    "    filter(auc_win_03 == 'auc_seg2_glm_fb') %>% \n",
    "    pull(tld_registrar_index), \n",
    "              expiry_test_metametrics %>% \n",
    "    filter(auc_win_03 == 'l10_seg2_glm_fb') %>% \n",
    "    pull(tld_registrar_index)))\n",
    "\n",
    "# all have both renewed and not renewed domains\n",
    "expiry_test_predictions %>% \n",
    "  filter(tld_registrar_index %in% tld_regs) %>% \n",
    "  select(tld_registrar_index, renewal_status, pred_df_seg2_glm, pred_df_seg2_glm_fb) %>% \n",
    "  group_by(tld_registrar_index, renewal_status) %>% \n",
    "     summarise(n = n())%>%\n",
    "     mutate(freq = n / sum(n))"
   ]
  },
  {
   "cell_type": "code",
   "execution_count": null,
   "metadata": {},
   "outputs": [],
   "source": [
    "expiry_test_predictions %>% \n",
    "  filter(tld_registrar_index %in% tld_regs) %>% \n",
    "  select(tld_registrar_index, renewal_status, pred_df_seg2_glm, pred_df_seg2_glm_fb) %>% \n",
    "  group_by(tld_registrar_index) %>% \n",
    "  select(pred_df_seg2_glm) %>%  # replace to your needs\n",
    "  summarise_all(funs(sum(is.na(.))))"
   ]
  },
  {
   "cell_type": "code",
   "execution_count": null,
   "metadata": {},
   "outputs": [],
   "source": [
    "expiry_test_predictions %>% filter(tld_registrar_index=='onlinedomeneshop') %>% select(\n",
    "    tld_registrar_index, domain, renewal_status, pred_df_seg2_glm, pred_df_seg2_glm_fb)"
   ]
  },
  {
   "cell_type": "code",
   "execution_count": null,
   "metadata": {},
   "outputs": [],
   "source": [
    "expiry_test_predictions %>% filter(is.na(pred_df_seg2_glm)) %>% select(\n",
    "    tld_registrar_index, domain, renewal_status, pred_df_seg2_glm, pred_df_seg2_glm_fb)"
   ]
  },
  {
   "cell_type": "code",
   "execution_count": null,
   "metadata": {},
   "outputs": [],
   "source": [
    "expiry_test_predictions %>% filter(is.na(pred_df_seg2_glm)) %>% select(\n",
    "    tld_registrar_index, domain, renewal_status, pred_df_seg2_glm, pred_df_seg2_glm_fb) %>% summary()\n"
   ]
  },
  {
   "cell_type": "markdown",
   "metadata": {},
   "source": [
    "# Quickly examine 391 and 88 NA predictions"
   ]
  },
  {
   "cell_type": "code",
   "execution_count": null,
   "metadata": {},
   "outputs": [],
   "source": [
    "test_88NA_idxs <- expiry_test_predictions %>% filter(is.na(pred_df_agg_rf)) %>% pull(tld_registrar_index) \n",
    "test_88NA_idxs"
   ]
  },
  {
   "cell_type": "code",
   "execution_count": null,
   "metadata": {},
   "outputs": [],
   "source": [
    "expiry_train_df_1 %>% filter(tld_registrar_index %in% test_88NA_idxs) %>% dim()"
   ]
  },
  {
   "cell_type": "code",
   "execution_count": null,
   "metadata": {},
   "outputs": [],
   "source": [
    "expiry_test_df_1 %>% filter(tld_registrar_index %in% test_88NA_idxs)"
   ]
  },
  {
   "cell_type": "code",
   "execution_count": null,
   "metadata": {},
   "outputs": [],
   "source": [
    "#    for 391 obs in predictions with no domain_id... \n",
    "# ... these are tld_reg combinations which do not exist in the test data\n",
    "test_ <- read.csv(\"../../data/tld_reseller_compare_predictions.csv\") \n",
    "#    all of tld_reg only have at max one such row\n",
    "sum(test_ %>% filter(is.na(domain))  %>% select(tld_registrar_index) %>% table() >1)\n",
    "#    how many observations do they have in test data vs in predictions?\n",
    "tld_reg_ <- test_ %>% filter(is.na(domain))  %>% pull(tld_registrar_index)\n",
    "expiry_test_df_1 %>% filter(tld_registrar_index %in% tld_reg_) %>% group_by(tld_registrar_index) %>% tally()\n",
    "# 0 & empty"
   ]
  },
  {
   "cell_type": "code",
   "execution_count": null,
   "metadata": {},
   "outputs": [],
   "source": [
    "test_ %>% filter(is.na(domain)) "
   ]
  },
  {
   "cell_type": "code",
   "execution_count": null,
   "metadata": {},
   "outputs": [],
   "source": [
    "tld_reg_[[1]]\n",
    "expiry_test_df_1 %>% filter(reseller == 'baidu') %>% pull(tld) %>% table()"
   ]
  },
  {
   "cell_type": "code",
   "execution_count": null,
   "metadata": {},
   "outputs": [],
   "source": [
    "sum(expiry_train_df_1 %>% filter(tld_registrar_index %in% tld_reg_) %>% group_by(tld_registrar_index) %>% tally() <1)"
   ]
  },
  {
   "cell_type": "markdown",
   "metadata": {},
   "source": [
    "# RF MULTICLASS w/ auc_win_02"
   ]
  },
  {
   "cell_type": "markdown",
   "metadata": {},
   "source": [
    "## Define train and test"
   ]
  },
  {
   "cell_type": "code",
   "execution_count": null,
   "metadata": {},
   "outputs": [],
   "source": [
    "head(expiry_test_metametrics)"
   ]
  },
  {
   "cell_type": "code",
   "execution_count": null,
   "metadata": {},
   "outputs": [],
   "source": [
    "names(expiry_test_metametrics)"
   ]
  },
  {
   "cell_type": "code",
   "execution_count": null,
   "metadata": {},
   "outputs": [],
   "source": [
    "expiry_test_metametrics_sub = expiry_test_metametrics %>% \n",
    "  select('auc_win_02', 'l10_win_02','ren_prp','tld_rat',\n",
    "         'country_maj','region_maj','country_cnt','region_cnt',\n",
    "         'geo_cnt', 'geo_maj',\n",
    "         'daydom_min','daydom_max','daydom_mean','daydom_rng','daydom_std','daydom_skew','daydom_kurt',\n",
    "         'sldlen_min','sldlen_max','sldlen_mean','sldlen_rng','sldlen_std','sldlen_skew','sldlen_kurt',\n",
    "         'gibbs_min','gibbs_max','gibbs_mean','gibbs_rng','gibbs_std','gibbs_skew','gibbs_kurt',\n",
    "         'pdcnt_min','pdcnt_max','pdcnt_mean','pdcnt_rng','pdcnt_std','pdcnt_skew','pdcnt_kurt',\n",
    "         'regarpt_min','regarpt_max','regarpt_mean','regarpt_rng','regarpt_std','regarpt_skew','regarpt_kurt')\n",
    "head(expiry_test_metametrics_sub)"
   ]
  },
  {
   "cell_type": "markdown",
   "metadata": {},
   "source": [
    "## Impute Missing Values"
   ]
  },
  {
   "cell_type": "code",
   "execution_count": null,
   "metadata": {},
   "outputs": [],
   "source": [
    "expiry_test_metametrics_sub %>%\n",
    "  select(everything()) %>%  \n",
    "  summarise_all(funs(sum(is.na(.)))) %>%  \n",
    "  t() "
   ]
  },
  {
   "cell_type": "code",
   "execution_count": null,
   "metadata": {},
   "outputs": [],
   "source": [
    "# install.packages(\"missRanger\")\n",
    "library(missRanger)"
   ]
  },
  {
   "cell_type": "code",
   "execution_count": null,
   "metadata": {},
   "outputs": [],
   "source": [
    "expiry_test_metametrics_sub_imp <- missRanger(expiry_test_metametrics_sub, num.trees = 100)"
   ]
  },
  {
   "cell_type": "code",
   "execution_count": null,
   "metadata": {},
   "outputs": [],
   "source": [
    "expiry_test_metametrics_sub_imp$auc_win_02 <- factor(expiry_test_metametrics_sub_imp$auc_win_02)\n",
    "str(expiry_test_metametrics_sub_imp$auc_win_02)\n",
    "expiry_test_metametrics_sub_imp$auc_win_02 <- relevel(expiry_test_metametrics_sub_imp$auc_win_02, ref=5)\n",
    "str(expiry_test_metametrics_sub_imp$auc_win_02)"
   ]
  },
  {
   "cell_type": "code",
   "execution_count": null,
   "metadata": {},
   "outputs": [],
   "source": []
  },
  {
   "cell_type": "code",
   "execution_count": null,
   "metadata": {},
   "outputs": [],
   "source": [
    "set.seed(123) \n",
    "smp_siz = floor(0.8*nrow(expiry_test_metametrics_sub_imp))\n",
    "train_ind = sample(seq_len(nrow(expiry_test_metametrics_sub_imp)),size = smp_siz) \n",
    "train = expiry_test_metametrics_sub_imp[train_ind,] \n",
    "test = expiry_test_metametrics_sub_imp[-train_ind,]  "
   ]
  },
  {
   "cell_type": "code",
   "execution_count": null,
   "metadata": {},
   "outputs": [],
   "source": [
    "dim(train)\n",
    "dim(test)"
   ]
  },
  {
   "cell_type": "code",
   "execution_count": null,
   "metadata": {},
   "outputs": [],
   "source": []
  },
  {
   "cell_type": "markdown",
   "metadata": {},
   "source": [
    "## RF multiclass auc"
   ]
  },
  {
   "cell_type": "code",
   "execution_count": null,
   "metadata": {},
   "outputs": [],
   "source": [
    "prop.table(table(train$auc_win_02))\n",
    "prop.table(table(test$auc_win_02))"
   ]
  },
  {
   "cell_type": "code",
   "execution_count": null,
   "metadata": {},
   "outputs": [],
   "source": [
    "library(ranger) "
   ]
  },
  {
   "cell_type": "code",
   "execution_count": null,
   "metadata": {},
   "outputs": [],
   "source": [
    "model <- ranger(formula         = auc_win_02 ~ ., \n",
    "                data            = subset(train, select = -c(l10_win_02) ), \n",
    "                importance = 'impurity', \n",
    "                num.trees       = 500,\n",
    "                probability = TRUE,\n",
    "                replace = FALSE,\n",
    "                sample.fraction = .8,\n",
    "                seed            = 123,\n",
    "                respect.unordered.factors=TRUE)"
   ]
  },
  {
   "cell_type": "code",
   "execution_count": null,
   "metadata": {},
   "outputs": [],
   "source": [
    "pred <- predict(model, \n",
    "                data = test,\n",
    "                type=\"response\")$predictions"
   ]
  },
  {
   "cell_type": "code",
   "execution_count": null,
   "metadata": {},
   "outputs": [],
   "source": [
    "head(pred)"
   ]
  },
  {
   "cell_type": "code",
   "execution_count": null,
   "metadata": {},
   "outputs": [],
   "source": [
    "pred <- as.data.frame(pred)\n",
    "auc_vars <- names(pred)\n",
    "pred <- pred %>%\n",
    "    mutate (auc_win_02=sapply(apply(.[,c(auc_vars)], \n",
    "                          1, function(x) names(x)[which.max(x)]) , \n",
    "                                    function(s) if (length(s) == 0) NA else paste(s, collapse = \" \")) \n",
    "            ) \n",
    "head(pred)"
   ]
  },
  {
   "cell_type": "code",
   "execution_count": null,
   "metadata": {},
   "outputs": [],
   "source": [
    "xtab <- table(test$auc_win_02, pred$auc_win_02)\n",
    "xtab"
   ]
  },
  {
   "cell_type": "code",
   "execution_count": null,
   "metadata": {},
   "outputs": [],
   "source": [
    "levels(factor(test$auc_win_02))\n",
    "levels(factor(pred$auc_win_02))"
   ]
  },
  {
   "cell_type": "code",
   "execution_count": null,
   "metadata": {},
   "outputs": [],
   "source": [
    "unique(train$auc_win_02)\n",
    "unique(test$auc_win_02)"
   ]
  },
  {
   "cell_type": "code",
   "execution_count": null,
   "metadata": {},
   "outputs": [],
   "source": [
    "confusionMatrix(data=factor(test$auc_win_02,\n",
    "                           levels=levels(factor(pred$auc_win_02))), reference=factor(pred$auc_win_02))"
   ]
  },
  {
   "cell_type": "code",
   "execution_count": null,
   "metadata": {},
   "outputs": [],
   "source": [
    "as.data.frame(importance(model)) %>% arrange(desc(importance(model))) %>% head(15)"
   ]
  },
  {
   "cell_type": "markdown",
   "metadata": {},
   "source": [
    "## RF multiclass l10"
   ]
  },
  {
   "cell_type": "code",
   "execution_count": null,
   "metadata": {},
   "outputs": [],
   "source": [
    "prop.table(table(train$l10_win_02))\n",
    "prop.table(table(test$l10_win_02))"
   ]
  },
  {
   "cell_type": "code",
   "execution_count": null,
   "metadata": {},
   "outputs": [],
   "source": [
    "library(ranger) "
   ]
  },
  {
   "cell_type": "code",
   "execution_count": null,
   "metadata": {},
   "outputs": [],
   "source": [
    "model <- ranger(formula         = l10_win_02 ~ ., \n",
    "                data            = subset(train, select = -c(auc_win_02) ), \n",
    "                importance = 'impurity', \n",
    "                num.trees       = 500,\n",
    "                probability = TRUE,\n",
    "                replace = FALSE,\n",
    "                sample.fraction = .8,\n",
    "                seed            = 123,\n",
    "                respect.unordered.factors=TRUE)"
   ]
  },
  {
   "cell_type": "code",
   "execution_count": null,
   "metadata": {},
   "outputs": [],
   "source": [
    "pred <- predict(model, \n",
    "                data = test,\n",
    "                type=\"response\")$predictions"
   ]
  },
  {
   "cell_type": "code",
   "execution_count": null,
   "metadata": {},
   "outputs": [],
   "source": [
    "head(pred)"
   ]
  },
  {
   "cell_type": "code",
   "execution_count": null,
   "metadata": {},
   "outputs": [],
   "source": [
    "pred <- as.data.frame(pred)\n",
    "vars <- names(pred)\n",
    "pred <- pred %>%\n",
    "    mutate (l10_win_02=sapply(apply(.[,c(vars)], \n",
    "                          1, function(x) names(x)[which.max(x)]) , function(s) if (length(s) == 0) NA else paste(s, collapse = \" \")) \n",
    "            ) \n",
    "head(pred)"
   ]
  },
  {
   "cell_type": "code",
   "execution_count": null,
   "metadata": {},
   "outputs": [],
   "source": [
    "xtab <- table(test$l10_win_02, pred$l10_win_02)\n",
    "xtab"
   ]
  },
  {
   "cell_type": "code",
   "execution_count": null,
   "metadata": {},
   "outputs": [],
   "source": [
    "confusionMatrix(data=factor(test$l10_win_02), reference=factor(pred$l10_win_02, levels=levels(factor(test$l10_win_02))))"
   ]
  },
  {
   "cell_type": "code",
   "execution_count": null,
   "metadata": {},
   "outputs": [],
   "source": [
    "table(test_imp$l10_win)"
   ]
  },
  {
   "cell_type": "code",
   "execution_count": null,
   "metadata": {},
   "outputs": [],
   "source": [
    "table(pred$win)"
   ]
  },
  {
   "cell_type": "code",
   "execution_count": null,
   "metadata": {},
   "outputs": [],
   "source": [
    "as.data.frame(importance(model)) %>% arrange(desc(importance(model))) %>% head(15)"
   ]
  },
  {
   "cell_type": "markdown",
   "metadata": {},
   "source": [
    "# RF BINARY w/ auc_win_01"
   ]
  },
  {
   "cell_type": "markdown",
   "metadata": {},
   "source": [
    "## Define train and test"
   ]
  },
  {
   "cell_type": "code",
   "execution_count": null,
   "metadata": {},
   "outputs": [],
   "source": [
    "head(expiry_test_metametrics)"
   ]
  },
  {
   "cell_type": "code",
   "execution_count": null,
   "metadata": {},
   "outputs": [],
   "source": [
    "names(expiry_test_metametrics)"
   ]
  },
  {
   "cell_type": "code",
   "execution_count": null,
   "metadata": {},
   "outputs": [],
   "source": [
    "levels(factor(test_imp$l10_win))\n",
    "levels(factor(pred$win))"
   ]
  },
  {
   "cell_type": "code",
   "execution_count": null,
   "metadata": {},
   "outputs": [],
   "source": [
    "expiry_test_metametrics_sub = expiry_test_metametrics %>% \n",
    "  select('auc_win_01', 'l10_win_01',\n",
    "         'ren_prp','tld_rat',\n",
    "         'country_maj','region_maj','country_cnt','region_cnt',\n",
    "         'geo_cnt', 'geo_maj',\n",
    "         'daydom_min','daydom_max','daydom_mean','daydom_rng','daydom_std','daydom_skew','daydom_kurt',\n",
    "         'sldlen_min','sldlen_max','sldlen_mean','sldlen_rng','sldlen_std','sldlen_skew','sldlen_kurt',\n",
    "         'gibbs_min','gibbs_max','gibbs_mean','gibbs_rng','gibbs_std','gibbs_skew','gibbs_kurt',\n",
    "         'pdcnt_min','pdcnt_max','pdcnt_mean','pdcnt_rng','pdcnt_std','pdcnt_skew','pdcnt_kurt',\n",
    "         'regarpt_min','regarpt_max','regarpt_mean','regarpt_rng','regarpt_std','regarpt_skew','regarpt_kurt')\n",
    "head(expiry_test_metametrics_sub)"
   ]
  },
  {
   "cell_type": "markdown",
   "metadata": {},
   "source": [
    "## Impute Missing Values"
   ]
  },
  {
   "cell_type": "code",
   "execution_count": null,
   "metadata": {},
   "outputs": [],
   "source": [
    "expiry_test_metametrics_sub %>%\n",
    "  select(everything()) %>%  \n",
    "  summarise_all(funs(sum(is.na(.)))) %>%  \n",
    "  t() "
   ]
  },
  {
   "cell_type": "code",
   "execution_count": null,
   "metadata": {},
   "outputs": [],
   "source": [
    "# install.packages(\"missRanger\")\n",
    "library(missRanger)"
   ]
  },
  {
   "cell_type": "code",
   "execution_count": null,
   "metadata": {},
   "outputs": [],
   "source": [
    "expiry_test_metametrics_sub_imp <- missRanger(expiry_test_metametrics_sub, num.trees = 100)"
   ]
  },
  {
   "cell_type": "code",
   "execution_count": null,
   "metadata": {},
   "outputs": [],
   "source": [
    "expiry_test_metametrics_sub_imp$auc_win_01 <- factor(expiry_test_metametrics_sub_imp$auc_win_01)\n",
    "str(expiry_test_metametrics_sub_imp$auc_win_01)\n",
    "expiry_test_metametrics_sub_imp$auc_win_01 <- relevel(expiry_test_metametrics_sub_imp$auc_win_01, ref=2)\n",
    "str(expiry_test_metametrics_sub_imp$auc_win_01)"
   ]
  },
  {
   "cell_type": "code",
   "execution_count": null,
   "metadata": {},
   "outputs": [],
   "source": [
    "set.seed(123) \n",
    "smp_siz = floor(0.8*nrow(expiry_test_metametrics_sub_imp))\n",
    "train_ind = sample(seq_len(nrow(expiry_test_metametrics_sub_imp)),size = smp_siz) \n",
    "train = expiry_test_metametrics_sub_imp[train_ind,] \n",
    "test = expiry_test_metametrics_sub_imp[-train_ind,]  "
   ]
  },
  {
   "cell_type": "markdown",
   "metadata": {},
   "source": [
    "## RF binary auc"
   ]
  },
  {
   "cell_type": "code",
   "execution_count": null,
   "metadata": {},
   "outputs": [],
   "source": [
    "library(ranger) "
   ]
  },
  {
   "cell_type": "code",
   "execution_count": null,
   "metadata": {},
   "outputs": [],
   "source": [
    "model <- ranger(formula         = auc_win_01 ~ ., \n",
    "                data            = subset(train, select = -c(l10_win_01) ), \n",
    "                importance = 'impurity', \n",
    "                num.trees       = 500,\n",
    "                probability = TRUE,\n",
    "                replace = FALSE,\n",
    "                sample.fraction = .8,\n",
    "                seed            = 123,\n",
    "                respect.unordered.factors=TRUE)"
   ]
  },
  {
   "cell_type": "code",
   "execution_count": null,
   "metadata": {},
   "outputs": [],
   "source": [
    "levels(factor(test$auc_win_01))\n",
    "levels(factor(pred$auc_win_01))"
   ]
  },
  {
   "cell_type": "code",
   "execution_count": null,
   "metadata": {},
   "outputs": [],
   "source": [
    "pred <- predict(model, \n",
    "                data = test,\n",
    "                type=\"response\")$predictions"
   ]
  },
  {
   "cell_type": "code",
   "execution_count": null,
   "metadata": {},
   "outputs": [],
   "source": [
    "pred <- as.data.frame(pred)\n",
    "auc_vars <- names(pred)\n",
    "pred <- pred %>%\n",
    "    mutate (auc_win_01=sapply(apply(.[,c(auc_vars)], \n",
    "                          1, function(x) names(x)[which.max(x)]) , \n",
    "                                    function(s) if (length(s) == 0) NA else paste(s, collapse = \" \")) \n",
    "            ) \n",
    "head(pred)"
   ]
  },
  {
   "cell_type": "code",
   "execution_count": null,
   "metadata": {},
   "outputs": [],
   "source": [
    "table(pred$auc_win_01)"
   ]
  },
  {
   "cell_type": "code",
   "execution_count": null,
   "metadata": {},
   "outputs": [],
   "source": [
    "xtab <- table(test$auc_win_01, pred$auc_win_01)\n",
    "xtab"
   ]
  },
  {
   "cell_type": "code",
   "execution_count": null,
   "metadata": {},
   "outputs": [],
   "source": [
    "confusionMatrix(data=factor(test$auc_win_01), \n",
    "                reference=factor(pred$auc_win_01, levels=levels(factor(test$auc_win_01))))"
   ]
  },
  {
   "cell_type": "code",
   "execution_count": null,
   "metadata": {},
   "outputs": [],
   "source": [
    "length((test$l10_win_01))\n",
    "length((pred$l10_win_01))"
   ]
  },
  {
   "cell_type": "code",
   "execution_count": null,
   "metadata": {},
   "outputs": [],
   "source": [
    "as.data.frame(importance(model)) %>% arrange(desc(importance(model))) %>% head(15)"
   ]
  },
  {
   "cell_type": "markdown",
   "metadata": {},
   "source": [
    "## RF binary l10"
   ]
  },
  {
   "cell_type": "code",
   "execution_count": null,
   "metadata": {},
   "outputs": [],
   "source": [
    "library(ranger) "
   ]
  },
  {
   "cell_type": "code",
   "execution_count": null,
   "metadata": {},
   "outputs": [],
   "source": [
    "model <- ranger(formula         = l10_win_01 ~ ., \n",
    "                data            = subset(train, select = -c(auc_win_01) ), \n",
    "                importance = 'impurity', \n",
    "                num.trees       = 500,\n",
    "                probability = TRUE,\n",
    "                replace = FALSE,\n",
    "                sample.fraction = .8,\n",
    "                seed            = 123,\n",
    "                respect.unordered.factors=TRUE)"
   ]
  },
  {
   "cell_type": "code",
   "execution_count": null,
   "metadata": {},
   "outputs": [],
   "source": [
    "pred <- predict(model, \n",
    "                data = test,\n",
    "                type=\"response\")$predictions"
   ]
  },
  {
   "cell_type": "code",
   "execution_count": null,
   "metadata": {},
   "outputs": [],
   "source": [
    "pred <- as.data.frame(pred)\n",
    "auc_vars <- names(pred)\n",
    "pred <- pred %>%\n",
    "    mutate (l10_win_01=sapply(apply(.[,c(auc_vars)], \n",
    "                          1, function(x) names(x)[which.max(x)]) , \n",
    "                                    function(s) if (length(s) == 0) NA else paste(s, collapse = \" \")) \n",
    "            ) \n",
    "head(pred)"
   ]
  },
  {
   "cell_type": "code",
   "execution_count": null,
   "metadata": {},
   "outputs": [],
   "source": [
    "table(pred$l10_win_01)"
   ]
  },
  {
   "cell_type": "code",
   "execution_count": null,
   "metadata": {},
   "outputs": [],
   "source": [
    "xtab <- table(test$l10_win_01, pred$l10_win_01)\n",
    "xtab"
   ]
  },
  {
   "cell_type": "code",
   "execution_count": null,
   "metadata": {},
   "outputs": [],
   "source": [
    "confusionMatrix(data=factor(test$l10_win_01), \n",
    "                reference=factor(pred$l10_win_01, levels=levels(factor(test$l10_win_01))))"
   ]
  },
  {
   "cell_type": "code",
   "execution_count": null,
   "metadata": {},
   "outputs": [],
   "source": [
    "length((test$l10_win_01))\n",
    "length((pred$l10_win_01))"
   ]
  },
  {
   "cell_type": "code",
   "execution_count": null,
   "metadata": {},
   "outputs": [],
   "source": [
    "prop.table(table(test$l10_win_01))\n",
    "prop.table(table(test$auc_win_01))"
   ]
  },
  {
   "cell_type": "code",
   "execution_count": null,
   "metadata": {},
   "outputs": [],
   "source": [
    "as.data.frame(importance(model)) %>% arrange(desc(importance(model))) %>% head(15)"
   ]
  },
  {
   "cell_type": "markdown",
   "metadata": {},
   "source": [
    "# Assign Model based on Binary prediction for AUC"
   ]
  },
  {
   "cell_type": "code",
   "execution_count": null,
   "metadata": {},
   "outputs": [],
   "source": [
    "model <- ranger(formula         = auc_win_01 ~ ., \n",
    "                data            = subset(train, select = -c(l10_win_01) ), \n",
    "                importance = 'impurity', \n",
    "                num.trees       = 500,\n",
    "                probability = TRUE,\n",
    "                replace = FALSE,\n",
    "                sample.fraction = .8,\n",
    "                seed            = 123,\n",
    "                respect.unordered.factors=TRUE)"
   ]
  },
  {
   "cell_type": "code",
   "execution_count": null,
   "metadata": {},
   "outputs": [],
   "source": [
    "pred <- predict(model, \n",
    "                data = test,\n",
    "                type=\"response\")$predictions"
   ]
  },
  {
   "cell_type": "code",
   "execution_count": null,
   "metadata": {},
   "outputs": [],
   "source": [
    "pred <- as.data.frame(pred)\n",
    "auc_vars <- names(pred)\n",
    "pred <- pred %>%\n",
    "    mutate (auc_win_01=sapply(apply(.[,c(auc_vars)], \n",
    "                          1, function(x) names(x)[which.max(x)]) , \n",
    "                                    function(s) if (length(s) == 0) NA else paste(s, collapse = \" \")) \n",
    "            ) \n",
    "head(pred)"
   ]
  },
  {
   "cell_type": "code",
   "execution_count": null,
   "metadata": {},
   "outputs": [],
   "source": [
    "test_pred <- cbind(test,pred)\n",
    "# test_pred <- test_pred %>% select()\n",
    "dim(test)\n",
    "dim(pred)\n",
    "dim(test_pred)\n",
    "head(test_pred)"
   ]
  },
  {
   "cell_type": "markdown",
   "metadata": {},
   "source": [
    "# Calc metrics"
   ]
  },
  {
   "cell_type": "markdown",
   "metadata": {},
   "source": [
    "## generate lookup for tld-reg model"
   ]
  },
  {
   "cell_type": "code",
   "execution_count": null,
   "metadata": {},
   "outputs": [],
   "source": [
    "head(expiry_test_meta)"
   ]
  },
  {
   "cell_type": "code",
   "execution_count": null,
   "metadata": {},
   "outputs": [],
   "source": [
    "expiry_test_meta_test <- expiry_test_meta[-train_ind,]\n",
    "\n",
    "dim(pred)\n",
    "dim(expiry_test_meta_test)\n",
    "\n",
    "expiry_test_meta_test <- cbind(expiry_test_meta_test, pred)\n",
    "expiry_test_meta_test <- expiry_test_meta_test %>% select(tld_registrar_index, auc_win_01)\n",
    "\n",
    "expiry_test_meta_test %>% head()"
   ]
  },
  {
   "cell_type": "markdown",
   "metadata": {},
   "source": [
    "## assign prediction based on lookup"
   ]
  },
  {
   "cell_type": "code",
   "execution_count": null,
   "metadata": {},
   "outputs": [],
   "source": [
    "expiry_test_predictions_assign <- merge(expiry_test_predictions, \n",
    "                                       expiry_test_meta_test, \n",
    "                                       on='tld_registrar_index',\n",
    "                                       all=TRUE)\n",
    "dim(expiry_test_predictions_assign)\n",
    "dim(expiry_test_predictions)\n",
    "head(expiry_test_predictions_assign)"
   ]
  },
  {
   "cell_type": "code",
   "execution_count": null,
   "metadata": {},
   "outputs": [],
   "source": [
    "# metalearning trained on 80% subset of 20% subset of expiry\n",
    "# tested on 20% subset of 20% of expiry\n",
    "\n",
    "table(expiry_test_predictions_assign$auc_win_01)/nrow(expiry_test_predictions_assign)\n",
    "sum(is.na(expiry_test_predictions_assign$auc_win_01))/nrow(expiry_test_predictions_assign)"
   ]
  },
  {
   "cell_type": "code",
   "execution_count": null,
   "metadata": {},
   "outputs": [],
   "source": [
    "# remove all NAs\n",
    "# ie elements of test which were used to train the model\n",
    "expiry_test_predictions_assign <- expiry_test_predictions_assign %>% filter(!is.na(auc_win_01))\n",
    "dim(expiry_test_predictions_assign)\n",
    "sum(is.na(expiry_test_predictions_assign$auc_win_01))/nrow(expiry_test_predictions_assign)\n",
    "head(expiry_test_predictions_assign)"
   ]
  },
  {
   "cell_type": "code",
   "execution_count": null,
   "metadata": {},
   "outputs": [],
   "source": [
    "expiry_test_predictions_assign$auc_win_pred <- \n",
    "    (expiry_test_predictions_assign$auc_win_01=='auc_seg2_glm_fb')*expiry_test_predictions_assign$pred_df_seg2_glm_fb+\n",
    "    (expiry_test_predictions_assign$auc_win_01=='auc_agg_rf_fb')*expiry_test_predictions_assign$pred_df_agg_rf_fb\n",
    "\n",
    "head(expiry_test_predictions_assign %>% select(pred_df_seg2_glm_fb,pred_df_agg_rf_fb,auc_win_01,auc_win_pred))"
   ]
  },
  {
   "cell_type": "code",
   "execution_count": null,
   "metadata": {},
   "outputs": [],
   "source": [
    "\n",
    "lift_list <- list()\n",
    "auc_list <- list()\n",
    "\n",
    "fallback_lift <- chart_lift(pred_df=expiry_test_predictions_assign,\n",
    "                        dep_var = \"renewal_status\",\n",
    "                        pred_var = \"auc_win_pred\") \n",
    "\n",
    "lift_list[[\"auc_win_pred\"]] <- fallback_lift\n",
    "auc_list[[\"auc_win_pred\"]] <- calc_auc(lift_df=fallback_lift)\n",
    "\n",
    "models <- c('pred_df_seg2_glm_fb','pred_df_agg_rf_fb')\n",
    "\n",
    "\n",
    "for (model in models){\n",
    "    model_lift <- chart_lift(pred_df=expiry_test_predictions_assign,\n",
    "                        dep_var = \"renewal_status\",\n",
    "                        pred_var = model) \n",
    "    \n",
    "    fallback_lift <- merge(fallback_lift, model_lift, by=c(\"P\"),all= TRUE, \n",
    "                           suffixes = c(\"\",\n",
    "                                        paste(\"_\",gsub(\"pred_df_\", \"\", model)) ))\n",
    "    \n",
    "    lift_list[[model]] <- model_lift\n",
    "    auc_list[[model]] <- calc_auc(lift_df=model_lift)\n",
    "}\n",
    "\n",
    "lift_df <- fallback_lift"
   ]
  },
  {
   "cell_type": "code",
   "execution_count": null,
   "metadata": {},
   "outputs": [],
   "source": [
    "length(lift_list)\n",
    "names(lift_list)\n",
    "sapply(lift_list, dim)\n",
    "lift_list[\"auc_win_pred\"]"
   ]
  },
  {
   "cell_type": "code",
   "execution_count": null,
   "metadata": {},
   "outputs": [],
   "source": [
    "prop.table(table(expiry_test_predictions_assign$renewal_status))"
   ]
  },
  {
   "cell_type": "code",
   "execution_count": null,
   "metadata": {},
   "outputs": [],
   "source": [
    "plot_multigains <- function (lift_df_list=list(seg_glm = lift_df, \n",
    "                                               ben_dtr = lift_df_2),\n",
    "                             auc_list = list(seg_glm = auc, \n",
    "                                             ben_dtr=auc_2),\n",
    "                             prop_positive = 0.1194494) {\n",
    "  \n",
    "  optimal_df <- data.frame( \"P\"=c(0,prop_positive,1.0),\n",
    "                            \"actu_renwd2\"=c(NA,NA,NA),\n",
    "                            \"gain\"=c(0,1.0,1.0),\n",
    "                            \"lift\"=c(NA,NA,NA))\n",
    "  \n",
    "  lift_df_list <- lapply(lift_df_list, function(df) {\n",
    "    df <- df %>%\n",
    "      add_row(P = 0, gain =0) %>%\n",
    "      arrange(P)\n",
    "  })\n",
    "\n",
    "  auc_lift_list = paste(lapply(auc_list, round, 3),sapply(lift_df_list, function(x) round(x[2,\"lift\"],2)), sep=\", \")\n",
    "  \n",
    "  auc_map = paste(names(lift_df_list),auc_lift_list, sep=\" = \")[1:length(lift_df_list)]\n",
    "  \n",
    "  \n",
    "  gains_plot <- ggplot(NULL, aes(P,  gain)) +\n",
    "    geom_line(data = lift_df_list[[1]] %>% slice(1, n())) +\n",
    "    \n",
    "    list(geom_line(data=optimal_df), geom_point(data=optimal_df)) +\n",
    "    \n",
    "    scale_y_continuous(breaks = seq(0, 1, by = .1), limits = c(0,1)) +\n",
    "    scale_x_continuous(breaks = seq(0, 1, by = .1)) +\n",
    "    labs(title = \"Cumulative Gains Plot\",\n",
    "         y = \"Cumulative Gain\",\n",
    "         x = \"Percentile\")+\n",
    "    theme(text = element_text(size=20))\n",
    "  \n",
    "  for(i in seq(length(lift_df_list))){\n",
    "    name = names(lift_df_list)[[i]]\n",
    "    df = lift_df_list[[i]]\n",
    "    auc = auc_list[[i]]\n",
    "    gains_plot <- gains_plot + list(geom_line(data=df), \n",
    "                                    geom_point(data=df))+ \n",
    "      annotate(\"text\", x = .4, y = .9-i*.075, hjust = 0, label = auc_map[[i]], size = 5)\n",
    "  }\n",
    "  \n",
    "  \n",
    "  return(gains_plot)\n",
    "}\n"
   ]
  },
  {
   "cell_type": "code",
   "execution_count": null,
   "metadata": {},
   "outputs": [],
   "source": [
    "plot_multigains(            lift_df_list=lift_list,\n",
    "                             auc_list = auc_list,\n",
    "                             prop_positive = 0.1194494) "
   ]
  },
  {
   "cell_type": "code",
   "execution_count": null,
   "metadata": {},
   "outputs": [],
   "source": [
    "dim(expiry_test_predictions_assign)"
   ]
  },
  {
   "cell_type": "code",
   "execution_count": null,
   "metadata": {},
   "outputs": [],
   "source": [
    "lift_df"
   ]
  },
  {
   "cell_type": "code",
   "execution_count": null,
   "metadata": {},
   "outputs": [],
   "source": [
    "as.data.frame(auc_list)"
   ]
  },
  {
   "cell_type": "code",
   "execution_count": null,
   "metadata": {},
   "outputs": [],
   "source": []
  },
  {
   "cell_type": "markdown",
   "metadata": {},
   "source": [
    "# Assign Model based on Binary prediction for L10"
   ]
  },
  {
   "cell_type": "code",
   "execution_count": null,
   "metadata": {},
   "outputs": [],
   "source": [
    "model <- ranger(formula         = l10_win_01 ~ ., \n",
    "                data            = subset(train, select = -c(auc_win_01) ), \n",
    "                importance = 'impurity', \n",
    "                num.trees       = 500,\n",
    "                probability = TRUE,\n",
    "                replace = FALSE,\n",
    "                sample.fraction = .8,\n",
    "                seed            = 123,\n",
    "                respect.unordered.factors=TRUE)"
   ]
  },
  {
   "cell_type": "code",
   "execution_count": null,
   "metadata": {},
   "outputs": [],
   "source": [
    "pred <- predict(model, \n",
    "                data = test,\n",
    "                type=\"response\")$predictions\n",
    "head(pred)"
   ]
  },
  {
   "cell_type": "code",
   "execution_count": null,
   "metadata": {},
   "outputs": [],
   "source": [
    "pred <- as.data.frame(pred)\n",
    "(auc_vars <- names(pred))\n",
    "pred <- pred %>%\n",
    "    mutate (l10_win_01=sapply(apply(.[,c(auc_vars)], \n",
    "                          1, function(x) names(x)[which.max(x)]) , \n",
    "                                    function(s) if (length(s) == 0) NA else paste(s, collapse = \" \")) \n",
    "            ) \n",
    "head(pred)"
   ]
  },
  {
   "cell_type": "code",
   "execution_count": null,
   "metadata": {},
   "outputs": [],
   "source": [
    "test_pred <- cbind(test,pred)\n",
    "# test_pred <- test_pred %>% select()\n",
    "dim(test)\n",
    "dim(pred)\n",
    "dim(test_pred)\n",
    "head(test_pred)"
   ]
  },
  {
   "cell_type": "markdown",
   "metadata": {},
   "source": [
    "# Calc metrics"
   ]
  },
  {
   "cell_type": "markdown",
   "metadata": {},
   "source": [
    "## generate lookup for tld-reg model"
   ]
  },
  {
   "cell_type": "code",
   "execution_count": null,
   "metadata": {},
   "outputs": [],
   "source": [
    "head(expiry_test_meta)"
   ]
  },
  {
   "cell_type": "code",
   "execution_count": null,
   "metadata": {},
   "outputs": [],
   "source": [
    "expiry_test_meta_test <- expiry_test_meta[-train_ind,]\n",
    "\n",
    "dim(pred)\n",
    "dim(expiry_test_meta_test)\n",
    "\n",
    "expiry_test_meta_test <- cbind(expiry_test_meta_test, pred)\n",
    "expiry_test_meta_test <- expiry_test_meta_test %>% select(tld_registrar_index, l10_win_01)\n",
    "\n",
    "expiry_test_meta_test %>% head()"
   ]
  },
  {
   "cell_type": "markdown",
   "metadata": {},
   "source": [
    "## assign prediction based on lookup"
   ]
  },
  {
   "cell_type": "code",
   "execution_count": null,
   "metadata": {},
   "outputs": [],
   "source": [
    "expiry_test_predictions_assign <- merge(expiry_test_predictions, \n",
    "                                       expiry_test_meta_test, \n",
    "                                       on='tld_registrar_index',\n",
    "                                       all=TRUE)\n",
    "dim(expiry_test_predictions_assign)\n",
    "dim(expiry_test_predictions)\n",
    "head(expiry_test_predictions_assign)"
   ]
  },
  {
   "cell_type": "code",
   "execution_count": null,
   "metadata": {},
   "outputs": [],
   "source": [
    "# metalearning trained on 80% subset of 20% subset of expiry\n",
    "# tested on 20% subset of 20% of expiry\n",
    "\n",
    "table(expiry_test_predictions_assign$l10_win_01)/nrow(expiry_test_predictions_assign)\n",
    "sum(is.na(expiry_test_predictions_assign$l10_win_01))/nrow(expiry_test_predictions_assign)"
   ]
  },
  {
   "cell_type": "code",
   "execution_count": null,
   "metadata": {},
   "outputs": [],
   "source": [
    "# remove all NAs\n",
    "# ie elements of test which were used to train the model\n",
    "expiry_test_predictions_assign <- expiry_test_predictions_assign %>% filter(!is.na(l10_win_01))\n",
    "dim(expiry_test_predictions_assign)\n",
    "sum(is.na(expiry_test_predictions_assign$l10_win_01))/nrow(expiry_test_predictions_assign)\n",
    "head(expiry_test_predictions_assign)"
   ]
  },
  {
   "cell_type": "code",
   "execution_count": null,
   "metadata": {},
   "outputs": [],
   "source": [
    "expiry_test_predictions_assign$l10_win_pred <- \n",
    "    (expiry_test_predictions_assign$l10_win_01=='l10_seg2_glm_fb')*expiry_test_predictions_assign$pred_df_seg2_glm_fb+\n",
    "    (expiry_test_predictions_assign$l10_win_01=='l10_agg_rf_fb')*expiry_test_predictions_assign$pred_df_agg_rf_fb\n",
    "\n",
    "head(expiry_test_predictions_assign %>% select(pred_df_seg2_glm_fb,pred_df_agg_rf_fb,l10_win_01,l10_win_pred))"
   ]
  },
  {
   "cell_type": "code",
   "execution_count": null,
   "metadata": {},
   "outputs": [],
   "source": [
    "\n",
    "lift_list <- list()\n",
    "auc_list <- list()\n",
    "\n",
    "fallback_lift <- chart_lift(pred_df=expiry_test_predictions_assign,\n",
    "                        dep_var = \"renewal_status\",\n",
    "                        pred_var = \"l10_win_pred\") \n",
    "\n",
    "lift_list[[\"l10_win_pred\"]] <- fallback_lift\n",
    "auc_list[[\"l10_win_pred\"]] <- calc_auc(lift_df=fallback_lift)\n",
    "\n",
    "models <- c('pred_df_seg2_glm_fb','pred_df_agg_rf_fb')\n",
    "\n",
    "\n",
    "for (model in models){\n",
    "    model_lift <- chart_lift(pred_df=expiry_test_predictions_assign,\n",
    "                        dep_var = \"renewal_status\",\n",
    "                        pred_var = model) \n",
    "    \n",
    "    fallback_lift <- merge(fallback_lift, model_lift, by=c(\"P\"),all= TRUE, \n",
    "                           suffixes = c(\"\",\n",
    "                                        paste(\"_\",gsub(\"pred_df_\", \"\", model)) ))\n",
    "    \n",
    "    lift_list[[model]] <- model_lift\n",
    "    auc_list[[model]] <- calc_auc(lift_df=model_lift)\n",
    "}\n",
    "\n",
    "lift_df <- fallback_lift"
   ]
  },
  {
   "cell_type": "code",
   "execution_count": null,
   "metadata": {},
   "outputs": [],
   "source": [
    "length(lift_list)\n",
    "names(lift_list)\n",
    "sapply(lift_list, dim)\n",
    "lift_list[\"auc_win_pred\"]"
   ]
  },
  {
   "cell_type": "code",
   "execution_count": null,
   "metadata": {},
   "outputs": [],
   "source": [
    "prop.table(table(expiry_test_predictions_assign$renewal_status))"
   ]
  },
  {
   "cell_type": "code",
   "execution_count": null,
   "metadata": {},
   "outputs": [],
   "source": [
    "plot_multigains <- function (lift_df_list=list(seg_glm = lift_df, \n",
    "                                               ben_dtr = lift_df_2),\n",
    "                             auc_list = list(seg_glm = auc, \n",
    "                                             ben_dtr=auc_2),\n",
    "                             prop_positive = 0.1194494) {\n",
    "  \n",
    "  optimal_df <- data.frame( \"P\"=c(0,prop_positive,1.0),\n",
    "                            \"actu_renwd2\"=c(NA,NA,NA),\n",
    "                            \"gain\"=c(0,1.0,1.0),\n",
    "                            \"lift\"=c(NA,NA,NA))\n",
    "  \n",
    "  lift_df_list <- lapply(lift_df_list, function(df) {\n",
    "    df <- df %>%\n",
    "      add_row(P = 0, gain =0) %>%\n",
    "      arrange(P)\n",
    "  })\n",
    "\n",
    "  auc_lift_list = paste(lapply(auc_list, round, 3),sapply(lift_df_list, function(x) round(x[2,\"lift\"],2)), sep=\", \")\n",
    "  \n",
    "  auc_map = paste(names(lift_df_list),auc_lift_list, sep=\" = \")[1:length(lift_df_list)]\n",
    "  \n",
    "  \n",
    "  gains_plot <- ggplot(NULL, aes(P,  gain)) +\n",
    "    geom_line(data = lift_df_list[[1]] %>% slice(1, n())) +\n",
    "    \n",
    "    list(geom_line(data=optimal_df), geom_point(data=optimal_df)) +\n",
    "    \n",
    "    scale_y_continuous(breaks = seq(0, 1, by = .1), limits = c(0,1)) +\n",
    "    scale_x_continuous(breaks = seq(0, 1, by = .1)) +\n",
    "    labs(title = \"Cumulative Gains Plot\",\n",
    "         y = \"Cumulative Gain\",\n",
    "         x = \"Percentile\")+\n",
    "    theme(text = element_text(size=20))\n",
    "  \n",
    "  for(i in seq(length(lift_df_list))){\n",
    "    name = names(lift_df_list)[[i]]\n",
    "    df = lift_df_list[[i]]\n",
    "    auc = auc_list[[i]]\n",
    "    gains_plot <- gains_plot + list(geom_line(data=df), \n",
    "                                    geom_point(data=df))+ \n",
    "      annotate(\"text\", x = .4, y = .9-i*.075, hjust = 0, label = auc_map[[i]], size = 5)\n",
    "  }\n",
    "  \n",
    "  \n",
    "  return(gains_plot)\n",
    "}\n"
   ]
  },
  {
   "cell_type": "code",
   "execution_count": null,
   "metadata": {},
   "outputs": [],
   "source": [
    "plot_multigains(            lift_df_list=lift_list,\n",
    "                             auc_list = auc_list,\n",
    "                             prop_positive = 0.1194494) "
   ]
  },
  {
   "cell_type": "code",
   "execution_count": null,
   "metadata": {},
   "outputs": [],
   "source": [
    "dim(expiry_test_predictions_assign)"
   ]
  },
  {
   "cell_type": "code",
   "execution_count": null,
   "metadata": {},
   "outputs": [],
   "source": [
    "lift_df"
   ]
  },
  {
   "cell_type": "code",
   "execution_count": null,
   "metadata": {},
   "outputs": [],
   "source": [
    "as.data.frame(auc_list)"
   ]
  },
  {
   "cell_type": "markdown",
   "metadata": {},
   "source": [
    "# Examining how variables of high importance differ between classes in training & test data"
   ]
  },
  {
   "cell_type": "code",
   "execution_count": null,
   "metadata": {},
   "outputs": [],
   "source": [
    "model <- ranger(formula         = auc_win_01 ~ ., \n",
    "                data            = subset(train, select = -c(l10_win_01) ), \n",
    "                importance = 'impurity', \n",
    "                num.trees       = 500,\n",
    "                probability = TRUE,\n",
    "                replace = FALSE,\n",
    "                sample.fraction = .8,\n",
    "                seed            = 123,\n",
    "                respect.unordered.factors=TRUE)\n",
    "var_imp <- as.data.frame(importance(model))\n",
    "names(var_imp) <- 'imp'\n",
    "var_imp$var <- row.names(var_imp)\n",
    "row.names(var_imp) <- NULL\n",
    "var_imp <- var_imp %>% arrange(desc(imp))\n",
    "head(var_imp,10)"
   ]
  },
  {
   "cell_type": "code",
   "execution_count": null,
   "metadata": {},
   "outputs": [],
   "source": [
    "train %>% \n",
    "  group_by(auc_win_01) %>%\n",
    "  summarize(mean_tld_rat = mean(tld_rat),\n",
    "           mean_sldlen_kurt = mean(sldlen_kurt),\n",
    "           mean_gibbs_kurt = mean(gibbs_kurt),\n",
    "           mean_sldlen_skew = mean(sldlen_skew),\n",
    "           mean_gibbs_rng = mean(gibbs_rng),\n",
    "           mean_ren_prp = mean(ren_prp),\n",
    "           mean_sldlen_rng = mean(sldlen_rng),\n",
    "           mean_pdcnt_skew = mean(pdcnt_skew),\n",
    "           mean_regarpt_skew = mean(regarpt_skew)\n",
    "           )\n",
    "\n",
    "train %>% \n",
    "  group_by(auc_win_01, country_maj) %>%\n",
    "  tally() %>%\n",
    "  arrange(auc_win_01, desc(n)) %>% spread(country_maj, n)  %>% t()"
   ]
  },
  {
   "cell_type": "code",
   "execution_count": null,
   "metadata": {},
   "outputs": [],
   "source": []
  }
 ],
 "metadata": {
  "environment": {
   "name": "r-cpu.3-6.m48",
   "type": "gcloud",
   "uri": "gcr.io/deeplearning-platform-release/r-cpu.3-6:m48"
  },
  "kernelspec": {
   "display_name": "R",
   "language": "R",
   "name": "ir"
  },
  "language_info": {
   "codemirror_mode": "r",
   "file_extension": ".r",
   "mimetype": "text/x-r-source",
   "name": "R",
   "pygments_lexer": "r",
   "version": "3.6.3"
  }
 },
 "nbformat": 4,
 "nbformat_minor": 4
}
